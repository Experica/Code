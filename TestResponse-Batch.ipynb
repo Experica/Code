{
 "cells": [
  {
   "cell_type": "markdown",
   "metadata": {},
   "source": [
    "# Load Metadata"
   ]
  },
  {
   "cell_type": "code",
   "execution_count": 1,
   "metadata": {},
   "outputs": [
    {
     "data": {
      "text/html": [
       "    <script class='js-collapse-script'>\n",
       "        var curMatch =\n",
       "            window.location.href\n",
       "            .match(/(.*?)\\/notebooks\\/.*\\.ipynb/);\n",
       "\n",
       "        curMatch = curMatch ||\n",
       "            window.location.href\n",
       "            .match(/(.*?)\\/apps\\/.*\\.ipynb/);\n",
       "\n",
       "        if ( curMatch ) {\n",
       "            $('head').append('<base href=\"' + curMatch[1] + '/\">');\n",
       "        }\n",
       "    </script>\n"
      ],
      "text/plain": [
       "HTML{String}(\"    <script class='js-collapse-script'>\\n        var curMatch =\\n            window.location.href\\n            .match(/(.*?)\\\\/notebooks\\\\/.*\\\\.ipynb/);\\n\\n        curMatch = curMatch ||\\n            window.location.href\\n            .match(/(.*?)\\\\/apps\\\\/.*\\\\.ipynb/);\\n\\n        if ( curMatch ) {\\n            \\$('head').append('<base href=\\\"' + curMatch[1] + '/\\\">');\\n        }\\n    </script>\\n\")"
      ]
     },
     "metadata": {},
     "output_type": "display_data"
    },
    {
     "data": {
      "text/html": [
       "<script class='js-collapse-script' src='/assetserver/6b3a5b6c8f72e1db63ba57a141aa78843507c519-assets/webio/dist/bundle.js'></script>"
      ],
      "text/plain": [
       "HTML{String}(\"<script class='js-collapse-script' src='/assetserver/6b3a5b6c8f72e1db63ba57a141aa78843507c519-assets/webio/dist/bundle.js'></script>\")"
      ]
     },
     "metadata": {},
     "output_type": "display_data"
    },
    {
     "data": {
      "text/html": [
       "<script class='js-collapse-script' src='/assetserver/6b3a5b6c8f72e1db63ba57a141aa78843507c519-assets/providers/ijulia_setup.js'></script>"
      ],
      "text/plain": [
       "HTML{String}(\"<script class='js-collapse-script' src='/assetserver/6b3a5b6c8f72e1db63ba57a141aa78843507c519-assets/providers/ijulia_setup.js'></script>\")"
      ]
     },
     "metadata": {},
     "output_type": "display_data"
    },
    {
     "data": {
      "text/html": [
       "  <script class='js-collapse-script'>\n",
       "    $('.js-collapse-script').parent('.output_subarea').css('padding', '0');\n",
       "  </script>\n"
      ],
      "text/plain": [
       "HTML{String}(\"  <script class='js-collapse-script'>\\n    \\$('.js-collapse-script').parent('.output_subarea').css('padding', '0');\\n  </script>\\n\")"
      ]
     },
     "metadata": {},
     "output_type": "display_data"
    },
    {
     "name": "stderr",
     "output_type": "stream",
     "text": [
      "┌ Info: Precompiling ePPR [714c76c0-9ccf-11e8-0eb6-d37ea2f30fce]\n",
      "└ @ Base loading.jl:1186\n"
     ]
    },
    {
     "name": "stdout",
     "output_type": "stream",
     "text": [
      "\n",
      "R version 3.5.2 (2018-12-20) -- \"Eggshell Igloo\"\n",
      "Copyright (C) 2018 The R Foundation for Statistical Computing\n",
      "Platform: x86_64-w64-mingw32/x64 (64-bit)\n",
      "\n",
      "R is free software and comes with ABSOLUTELY NO WARRANTY.\n",
      "You are welcome to redistribute it under certain conditions.\n",
      "Type 'license()' or 'licence()' for distribution details.\n",
      "\n",
      "R is a collaborative project with many contributors.\n",
      "Type 'contributors()' for more information and\n",
      "'citation()' on how to cite R or R packages in publications.\n",
      "\n",
      "Type 'demo()' for some demos, 'help()' for on-line help, or\n",
      "'help.start()' for an HTML browser interface to help.\n",
      "Type 'q()' to quit R.\n",
      "\n"
     ]
    },
    {
     "name": "stderr",
     "output_type": "stream",
     "text": [
      "┌ Warning: Error requiring AxisArrays from RCall:\n",
      "│ LoadError: ArgumentError: Package RCall does not have AxisArrays in its dependencies:\n",
      "│ - If you have RCall checked out for development and have\n",
      "│   added AxisArrays as a dependency but haven't updated your primary\n",
      "│   environment's manifest file, try `Pkg.resolve()`.\n",
      "│ - Otherwise you may need to report an issue with RCall\n",
      "│ Stacktrace:\n",
      "│  [1] require(::Module, ::Symbol) at .\\loading.jl:836\n",
      "│  [2] include at .\\boot.jl:326 [inlined]\n",
      "│  [3] include_relative(::Module, ::String) at .\\loading.jl:1038\n",
      "│  [4] include at .\\sysimg.jl:29 [inlined]\n",
      "│  [5] include(::String) at C:\\Users\\Alex\\.julia\\packages\\RCall\\29zDq\\src\\RCall.jl:2\n",
      "│  [6] top-level scope at C:\\Users\\Alex\\.julia\\packages\\RCall\\29zDq\\src\\setup.jl:179\n",
      "│  [7] eval at .\\boot.jl:328 [inlined]\n",
      "│  [8] eval at C:\\Users\\Alex\\.julia\\packages\\RCall\\29zDq\\src\\RCall.jl:2 [inlined]\n",
      "│  [9] (::getfield(RCall, Symbol(\"##5#8\")))() at C:\\Users\\Alex\\.julia\\packages\\Requires\\9Jse8\\src\\require.jl:67\n",
      "│  [10] err(::getfield(RCall, Symbol(\"##5#8\")), ::Module, ::String) at C:\\Users\\Alex\\.julia\\packages\\Requires\\9Jse8\\src\\require.jl:38\n",
      "│  [11] #4 at C:\\Users\\Alex\\.julia\\packages\\Requires\\9Jse8\\src\\require.jl:66 [inlined]\n",
      "│  [12] withpath(::getfield(RCall, Symbol(\"##4#7\")), ::String) at C:\\Users\\Alex\\.julia\\packages\\Requires\\9Jse8\\src\\require.jl:28\n",
      "│  [13] #3 at C:\\Users\\Alex\\.julia\\packages\\Requires\\9Jse8\\src\\require.jl:65 [inlined]\n",
      "│  [14] listenpkg(::getfield(RCall, Symbol(\"##3#6\")), ::Base.PkgId) at C:\\Users\\Alex\\.julia\\packages\\Requires\\9Jse8\\src\\require.jl:13\n",
      "│  [15] macro expansion at C:\\Users\\Alex\\.julia\\packages\\Requires\\9Jse8\\src\\require.jl:64 [inlined]\n",
      "│  [16] __init__() at C:\\Users\\Alex\\.julia\\packages\\RCall\\29zDq\\src\\setup.jl:178\n",
      "│  [17] _include_from_serialized(::String, ::Array{Any,1}) at .\\loading.jl:633\n",
      "│  [18] _require_search_from_serialized(::Base.PkgId, ::String) at .\\loading.jl:713\n",
      "│  [19] _require(::Base.PkgId) at .\\loading.jl:937\n",
      "│  [20] require(::Base.PkgId) at .\\loading.jl:858\n",
      "│  [21] require(::Module, ::Symbol) at .\\loading.jl:853\n",
      "│  [22] include at .\\boot.jl:326 [inlined]\n",
      "│  [23] include_relative(::Module, ::String) at .\\loading.jl:1038\n",
      "│  [24] _require(::Base.PkgId) at .\\loading.jl:986\n",
      "│  [25] require(::Base.PkgId) at .\\loading.jl:858\n",
      "│  [26] require(::Module, ::Symbol) at .\\loading.jl:853\n",
      "│  [27] include at .\\boot.jl:326 [inlined]\n",
      "│  [28] include_relative(::Module, ::String) at .\\loading.jl:1038\n",
      "│  [29] include at .\\sysimg.jl:29 [inlined]\n",
      "│  [30] includet(::String) at C:\\Users\\Alex\\.julia\\packages\\Revise\\yp5KG\\src\\Revise.jl:572\n",
      "│  [31] top-level scope at In[1]:2\n",
      "│  [32] eval at .\\boot.jl:328 [inlined]\n",
      "│  [33] softscope_include_string(::Module, ::String, ::String) at C:\\Users\\Alex\\.julia\\packages\\SoftGlobalScope\\dLfaZ\\src\\SoftGlobalScope.jl:218\n",
      "│  [34] execute_request(::ZMQ.Socket, ::IJulia.Msg) at C:\\Users\\Alex\\.julia\\packages\\IJulia\\fjEtl\\src\\execute_request.jl:67\n",
      "│  [35] #invokelatest#1 at .\\essentials.jl:742 [inlined]\n",
      "│  [36] invokelatest at .\\essentials.jl:741 [inlined]\n",
      "│  [37] eventloop(::ZMQ.Socket) at C:\\Users\\Alex\\.julia\\packages\\IJulia\\fjEtl\\src\\eventloop.jl:8\n",
      "│  [38] (::getfield(IJulia, Symbol(\"##15#18\")))() at .\\task.jl:259\n",
      "│ in expression starting at C:\\Users\\Alex\\.julia\\packages\\RCall\\29zDq\\src\\convert\\axisarray.jl:1\n",
      "└ @ Requires C:\\Users\\Alex\\.julia\\packages\\Requires\\9Jse8\\src\\require.jl:40\n"
     ]
    }
   ],
   "source": [
    "using Revise,NeuroAnalysis\n",
    "includet(\"Batch.jl\")\n",
    "droot = \"../VLabDataExport\";rroot = \"../Result/LZ-Alex\";iroot = \"../NaturalStimuli\";metafile=\"$droot/metadata.mat\"\n",
    "meta = readmeta(metafile);"
   ]
  },
  {
   "cell_type": "markdown",
   "metadata": {},
   "source": [
    "# Query Tests"
   ]
  },
  {
   "cell_type": "code",
   "execution_count": 2,
   "metadata": {},
   "outputs": [],
   "source": [
    "testtype = \"Image\"\n",
    "tests=querymeta(meta,test=testtype,subject=\"C\");"
   ]
  },
  {
   "cell_type": "markdown",
   "metadata": {},
   "source": [
    "# Batch"
   ]
  },
  {
   "cell_type": "code",
   "execution_count": 3,
   "metadata": {
    "scrolled": false
   },
   "outputs": [
    {
     "name": "stderr",
     "output_type": "stream",
     "text": [
      "\u001b[32mBatch Tests ...  50%|██████████████████████████                        |  ETA: 0:02:57\u001b[39m"
     ]
    },
    {
     "data": {
      "image/png": "[encoded data removed]",
      "text/plain": [
       "PyPlot.Figure(PyObject <Figure size 600x400 with 1 Axes>)"
      ]
     },
     "metadata": {},
     "output_type": "display_data"
    },
    {
     "name": "stderr",
     "output_type": "stream",
     "text": [
      "\r",
      "\u001b[32mBatch Tests ... 100%|██████████████████████████████████████████████████| Time: 0:05:01\u001b[39m\n"
     ]
    }
   ],
   "source": [
    "ur,uc = batchtests(tests[1:2,:],droot,rroot,\"spike\",env=Dict{String,Any}(\"rootdir\"=>iroot),isplot=true);"
   ]
  },
  {
   "cell_type": "markdown",
   "metadata": {},
   "source": [
    "# Save Result"
   ]
  },
  {
   "cell_type": "code",
   "execution_count": null,
   "metadata": {},
   "outputs": [],
   "source": [
    "using FileIO\n",
    "resultdir = joinpath(rroot,testtype)\n",
    "!isdir(resultdir) && mkpath(resultdir)\n",
    "save(joinpath(resultdir,\"batchresult.jld2\"),\"ur\",ur,\"uc\",uc)"
   ]
  },
  {
   "cell_type": "code",
   "execution_count": null,
   "metadata": {},
   "outputs": [],
   "source": []
  }
 ],
 "metadata": {
  "@webio": {
   "lastCommId": "530fc1bc5cc64377992c4bac7303cacc",
   "lastKernelId": "9c1a3059-0fa8-417d-b607-86bf08798b0d"
  },
  "anaconda-cloud": {},
  "kernelspec": {
   "display_name": "Julia 1.1.0",
   "language": "julia",
   "name": "julia-1.1"
  },
  "language_info": {
   "file_extension": ".jl",
   "mimetype": "application/julia",
   "name": "julia",
   "version": "1.1.0"
  },
  "widgets": {
   "state": {
    "2ea04fd4-0942-4c85-bd9f-f736e80b5b93": {
     "views": [
      {
       "cell_index": 1
      }
     ]
    },
    "35d93616-e420-4bfc-8032-22d5166907e7": {
     "views": [
      {
       "cell_index": 1
      }
     ]
    }
   },
   "version": "1.2.0"
  }
 },
 "nbformat": 4,
 "nbformat_minor": 2
}
