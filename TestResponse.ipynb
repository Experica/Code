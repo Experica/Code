{
  "cells": [
    {
      "cell_type": "markdown",
      "source": [
        "# Choose Dataset"
      ],
      "metadata": {}
    },
    {
      "cell_type": "code",
      "source": [
        "using Revise,NeuroAnalysis,Interact\n",
        "droot = \"../VLabDataExport\";rroot = \"../Result\";test=\"[A-Za-z0-9]\"\n",
        "sdir = dropdown(filter!(x->!startswith(x,\".\"),readdir(droot)),label=\"Subject\")\n",
        "fname = map(x->dropdown(getexpericafile(subject=x,test=test,dir=\"$droot/$x\"),label=\"Experiment\"),observe(sdir))\n",
        "hbox(sdir,fname)"
      ],
      "outputs": [
        {
          "output_type": "execute_result",
          "execution_count": 2,
          "data": {
            "application/vnd.webio.node+json": {
              "children": [
                {
                  "children": [
                    {
                      "children": [
                        {
                          "children": [
                            "Subject",
                            {
                              "children": [
                                {
                                  "children": [],
                                  "instanceArgs": {
                                    "namespace": "html",
                                    "tag": "select"
                                  },
                                  "nodeType": "DOM",
                                  "props": {
                                    "attributes": {
                                      "data-bind": "options : options_js, value : index, optionsText: 'key', optionsValue: 'val', valueAllowUnset: true, optionsAfterRender: disablePlaceholder"
                                    }
                                  },
                                  "type": "node"
                                }
                              ],
                              "instanceArgs": {
                                "namespace": "html",
                                "tag": "div"
                              },
                              "nodeType": "DOM",
                              "props": {
                                "className": "select "
                              },
                              "type": "node"
                            }
                          ],
                          "instanceArgs": {
                            "namespace": "html",
                            "tag": "div"
                          },
                          "nodeType": "DOM",
                          "props": {
                            "style": {
                              "display": "flex",
                              "flex-direction": "column"
                            }
                          },
                          "type": "node"
                        }
                      ],
                      "instanceArgs": {
                        "handlers": {
                          "_promises": {
                            "importsLoaded": [
                              "function (ko, koPunches) {\n    ko.punches.enableAll();\n    ko.bindingHandlers.numericValue = {\n        init : function(element, valueAccessor, allBindings, data, context) {\n            var stringified = ko.observable(ko.unwrap(valueAccessor()));\n            stringified.subscribe(function(value) {\n                var val = parseFloat(value);\n                if (!isNaN(val)) {\n                    valueAccessor()(val);\n                }\n            })\n            valueAccessor().subscribe(function(value) {\n                var str = JSON.stringify(value);\n                if ((str == \"0\") && ([\"-0\", \"-0.\"].indexOf(stringified()) >= 0))\n                     return;\n                 if ([\"null\", \"\"].indexOf(str) >= 0)\n                     return;\n                stringified(str);\n            })\n            ko.applyBindingsToNode(element, { value: stringified, valueUpdate: allBindings.get('valueUpdate')}, context);\n        }\n    };\n    var json_data = JSON.parse(\"{\\\"options_js\\\":[{\\\"key\\\":\\\"C1701\\\",\\\"val\\\":1,\\\"id\\\":\\\"idhiV2MKac\\\"},{\\\"key\\\":\\\"C1702\\\",\\\"val\\\":2,\\\"id\\\":\\\"idyEDofbjg\\\"},{\\\"key\\\":\\\"C1801\\\",\\\"val\\\":3,\\\"id\\\":\\\"idcUM8vUN5\\\"},{\\\"key\\\":\\\"C1901\\\",\\\"val\\\":4,\\\"id\\\":\\\"idg8YnQdII\\\"},{\\\"key\\\":\\\"LSR1801\\\",\\\"val\\\":5,\\\"id\\\":\\\"idJ0xsv6D1\\\"},{\\\"key\\\":\\\"LSR1803\\\",\\\"val\\\":6,\\\"id\\\":\\\"idAtakdpZs\\\"},{\\\"key\\\":\\\"LZR1602\\\",\\\"val\\\":7,\\\"id\\\":\\\"idsgx0Nu45\\\"},{\\\"key\\\":\\\"LZR1603\\\",\\\"val\\\":8,\\\"id\\\":\\\"idhXOTH2Jh\\\"},{\\\"key\\\":\\\"LZR1604\\\",\\\"val\\\":9,\\\"id\\\":\\\"idmbIyIcGs\\\"},{\\\"key\\\":\\\"LZR1801\\\",\\\"val\\\":10,\\\"id\\\":\\\"idS0HsNCcr\\\"},{\\\"key\\\":\\\"LZR1802\\\",\\\"val\\\":11,\\\"id\\\":\\\"idaAjv6rxt\\\"},{\\\"key\\\":\\\"LZR1803\\\",\\\"val\\\":12,\\\"id\\\":\\\"idPvbzizo8\\\"},{\\\"key\\\":\\\"metadata.mat\\\",\\\"val\\\":13,\\\"id\\\":\\\"idxylnPBTi\\\"}],\\\"index\\\":1}\");\n    var self = this;\n    function AppViewModel() {\n        for (var key in json_data) {\n            var el = json_data[key];\n            this[key] = Array.isArray(el) ? ko.observableArray(el) : ko.observable(el);\n        }\n        [this[\"disablePlaceholder\"]=function(option, item) {\n    ko.applyBindingsToNode(option, {disable: item.val == 0}, item);\n}\n]\n        \n        [this[\"options_js\"].subscribe((function (val){!(this.valueFromJulia[\"options_js\"]) ? (_webIOScope.setObservableValue({\"name\":\"options_js\",\"scope\":\"knockout-component-a4d59cdd-ae35-4d7e-bc3a-2a0a4a6ba94b\",\"id\":\"ob_17\",\"type\":\"observable\"},val)) : undefined; return this.valueFromJulia[\"options_js\"]=false}),self),this[\"index\"].subscribe((function (val){!(this.valueFromJulia[\"index\"]) ? (_webIOScope.setObservableValue({\"name\":\"index\",\"scope\":\"knockout-component-a4d59cdd-ae35-4d7e-bc3a-2a0a4a6ba94b\",\"id\":\"ob_16\",\"type\":\"observable\"},val)) : undefined; return this.valueFromJulia[\"index\"]=false}),self)]\n        \n    }\n    self.model = new AppViewModel();\n    self.valueFromJulia = {};\n    for (var key in json_data) {\n        self.valueFromJulia[key] = false;\n    }\n    ko.applyBindings(self.model, self.dom);\n}\n"
                            ]
                          },
                          "index": [
                            "(function (val){return (val!=this.model[\"index\"]()) ? (this.valueFromJulia[\"index\"]=true, this.model[\"index\"](val)) : undefined})"
                          ],
                          "options_js": [
                            "(function (val){return (val!=this.model[\"options_js\"]()) ? (this.valueFromJulia[\"options_js\"]=true, this.model[\"options_js\"](val)) : undefined})"
                          ]
                        },
                        "id": "knockout-component-a4d59cdd-ae35-4d7e-bc3a-2a0a4a6ba94b",
                        "imports": {
                          "data": [
                            {
                              "name": "knockout",
                              "type": "js",
                              "url": "/assetserver/fe7d3ce0ef73fffe4b07398d3eaf1c1a335ed6ac-knockout.js"
                            },
                            {
                              "name": "knockout_punches",
                              "type": "js",
                              "url": "/assetserver/1764b91a11ffe5a6c57c5d605079ccde5ddd28a1-knockout_punches.js"
                            },
                            {
                              "name": null,
                              "type": "js",
                              "url": "/assetserver/239a0709d1bd89d06f348c62cad4467504786b78-all.js"
                            },
                            {
                              "name": null,
                              "type": "css",
                              "url": "/assetserver/88fd8714ccb6031b47bd164292283bc40f0e5b56-style.css"
                            },
                            {
                              "name": null,
                              "type": "css",
                              "url": "/assetserver/593c6eca1d291d88375fe32d6fd7993aadb13589-main.css"
                            }
                          ],
                          "type": "async_block"
                        },
                        "observables": {
                          "index": {
                            "id": "ob_16",
                            "sync": true,
                            "value": 1
                          },
                          "options_js": {
                            "id": "ob_17",
                            "sync": false,
                            "value": [
                              {
                                "id": "idhiV2MKac",
                                "key": "C1701",
                                "val": 1
                              },
                              {
                                "id": "idyEDofbjg",
                                "key": "C1702",
                                "val": 2
                              },
                              {
                                "id": "idcUM8vUN5",
                                "key": "C1801",
                                "val": 3
                              },
                              {
                                "id": "idg8YnQdII",
                                "key": "C1901",
                                "val": 4
                              },
                              {
                                "id": "idJ0xsv6D1",
                                "key": "LSR1801",
                                "val": 5
                              },
                              {
                                "id": "idAtakdpZs",
                                "key": "LSR1803",
                                "val": 6
                              },
                              {
                                "id": "idsgx0Nu45",
                                "key": "LZR1602",
                                "val": 7
                              },
                              {
                                "id": "idhXOTH2Jh",
                                "key": "LZR1603",
                                "val": 8
                              },
                              {
                                "id": "idmbIyIcGs",
                                "key": "LZR1604",
                                "val": 9
                              },
                              {
                                "id": "idS0HsNCcr",
                                "key": "LZR1801",
                                "val": 10
                              },
                              {
                                "id": "idaAjv6rxt",
                                "key": "LZR1802",
                                "val": 11
                              },
                              {
                                "id": "idPvbzizo8",
                                "key": "LZR1803",
                                "val": 12
                              },
                              {
                                "id": "idxylnPBTi",
                                "key": "metadata.mat",
                                "val": 13
                              }
                            ]
                          }
                        },
                        "systemjs_options": null
                      },
                      "nodeType": "Scope",
                      "props": {},
                      "type": "node"
                    }
                  ],
                  "instanceArgs": {
                    "namespace": "html",
                    "tag": "div"
                  },
                  "nodeType": "DOM",
                  "props": {
                    "className": "field"
                  },
                  "type": "node"
                },
                {
                  "children": [
                    {
                      "children": [],
                      "instanceArgs": {
                        "id": "ob_24",
                        "name": "obs-scope"
                      },
                      "nodeType": "ObservableNode",
                      "props": {},
                      "type": "node"
                    }
                  ],
                  "instanceArgs": {
                    "handlers": {},
                    "id": "scope-035b4abb-a24f-4c9d-b3a2-562ddd929e67",
                    "imports": {
                      "data": [],
                      "type": "async_block"
                    },
                    "observables": {
                      "obs-scope": {
                        "id": "ob_24",
                        "sync": false,
                        "value": {
                          "children": [
                            {
                              "children": [
                                {
                                  "children": [
                                    "Experiment",
                                    {
                                      "children": [
                                        {
                                          "children": [],
                                          "instanceArgs": {
                                            "namespace": "html",
                                            "tag": "select"
                                          },
                                          "nodeType": "DOM",
                                          "props": {
                                            "attributes": {
                                              "data-bind": "options : options_js, value : index, optionsText: 'key', optionsValue: 'val', valueAllowUnset: true, optionsAfterRender: disablePlaceholder"
                                            }
                                          },
                                          "type": "node"
                                        }
                                      ],
                                      "instanceArgs": {
                                        "namespace": "html",
                                        "tag": "div"
                                      },
                                      "nodeType": "DOM",
                                      "props": {
                                        "className": "select "
                                      },
                                      "type": "node"
                                    }
                                  ],
                                  "instanceArgs": {
                                    "namespace": "html",
                                    "tag": "div"
                                  },
                                  "nodeType": "DOM",
                                  "props": {
                                    "style": {
                                      "display": "flex",
                                      "flex-direction": "column"
                                    }
                                  },
                                  "type": "node"
                                }
                              ],
                              "instanceArgs": {
                                "handlers": {
                                  "_promises": {
                                    "importsLoaded": [
                                      "function (ko, koPunches) {\n    ko.punches.enableAll();\n    ko.bindingHandlers.numericValue = {\n        init : function(element, valueAccessor, allBindings, data, context) {\n            var stringified = ko.observable(ko.unwrap(valueAccessor()));\n            stringified.subscribe(function(value) {\n                var val = parseFloat(value);\n                if (!isNaN(val)) {\n                    valueAccessor()(val);\n                }\n            })\n            valueAccessor().subscribe(function(value) {\n                var str = JSON.stringify(value);\n                if ((str == \"0\") && ([\"-0\", \"-0.\"].indexOf(stringified()) >= 0))\n                     return;\n                 if ([\"null\", \"\"].indexOf(str) >= 0)\n                     return;\n                stringified(str);\n            })\n            ko.applyBindingsToNode(element, { value: stringified, valueUpdate: allBindings.get('valueUpdate')}, context);\n        }\n    };\n    var json_data = JSON.parse(\"{\\\"options_js\\\":[{\\\"key\\\":\\\"C1701_V2Site1_3000Ch21_Diameter_1.mat\\\",\\\"val\\\":1,\\\"id\\\":\\\"idSLfU9FGg\\\"},{\\\"key\\\":\\\"C1701_V2Site1_3000Ch21_Diameter_2.mat\\\",\\\"val\\\":2,\\\"id\\\":\\\"idtmvkAul7\\\"},{\\\"key\\\":\\\"C1701_V2Site1_3000Ch21_Diameter_3.mat\\\",\\\"val\\\":3,\\\"id\\\":\\\"idEGee0moI\\\"},{\\\"key\\\":\\\"C1701_V2Site1_3000Ch21_Diameter_4.mat\\\",\\\"val\\\":4,\\\"id\\\":\\\"id7x5WGe9x\\\"},{\\\"key\\\":\\\"C1701_V2Site1_3000Ch21_Diameter_5.mat\\\",\\\"val\\\":5,\\\"id\\\":\\\"id10qHMy9M\\\"},{\\\"key\\\":\\\"C1701_V2Site1_3000Ch21_Diameter_6.mat\\\",\\\"val\\\":6,\\\"id\\\":\\\"idbGJzUgsC\\\"},{\\\"key\\\":\\\"C1701_V2Site1_3000Ch21_Diameter_7.mat\\\",\\\"val\\\":7,\\\"id\\\":\\\"idz6fQRmI6\\\"},{\\\"key\\\":\\\"C1701_V2Site1_3000Ch21_Image_1.mat\\\",\\\"val\\\":8,\\\"id\\\":\\\"idS4PiXaMx\\\"},{\\\"key\\\":\\\"C1701_V2Site1_3000Ch21_Image_2.mat\\\",\\\"val\\\":9,\\\"id\\\":\\\"idTEzrrbuR\\\"},{\\\"key\\\":\\\"C1701_V2Site1_3000Ch21_OriGrating_1.mat\\\",\\\"val\\\":10,\\\"id\\\":\\\"id00Zod3Nv\\\"},{\\\"key\\\":\\\"C1701_V2Site1_3000Ch21_OriGrating_2.mat\\\",\\\"val\\\":11,\\\"id\\\":\\\"idtey04q8Z\\\"},{\\\"key\\\":\\\"C1701_V2Site1_3000Ch21_OriGrating_3.mat\\\",\\\"val\\\":12,\\\"id\\\":\\\"id6jNd3nr8\\\"},{\\\"key\\\":\\\"C1701_V2Site1_3000Ch21_OriOffsetGrating_1.mat\\\",\\\"val\\\":13,\\\"id\\\":\\\"idMwLvfq4Q\\\"},{\\\"key\\\":\\\"C1701_V2Site1_3000Ch21_OriOffsetGrating_2.mat\\\",\\\"val\\\":14,\\\"id\\\":\\\"id17EFZDz7\\\"},{\\\"key\\\":\\\"C1701_V2Site1_3000Ch21_RFBarX4Deg_1.mat\\\",\\\"val\\\":15,\\\"id\\\":\\\"idLuA3gCCL\\\"},{\\\"key\\\":\\\"C1701_V2Site1_3000Ch21_RFBarX4Deg_2.mat\\\",\\\"val\\\":16,\\\"id\\\":\\\"id1sP6N9GZ\\\"},{\\\"key\\\":\\\"C1701_V2Site1_3000Ch21_RFBarY2Deg_1.mat\\\",\\\"val\\\":17,\\\"id\\\":\\\"id5RCuxdQu\\\"},{\\\"key\\\":\\\"C1701_V2Site1_3000Ch21_RFBarY4Deg_1.mat\\\",\\\"val\\\":18,\\\"id\\\":\\\"idH3W839hm\\\"},{\\\"key\\\":\\\"C1701_V2Site1_3000Ch21_RFBarY4Deg_2.mat\\\",\\\"val\\\":19,\\\"id\\\":\\\"idZXUeRagR\\\"},{\\\"key\\\":\\\"C1701_V2Site1_3000Ch21_RFBarY4Deg_3.mat\\\",\\\"val\\\":20,\\\"id\\\":\\\"id4LyndiEk\\\"},{\\\"key\\\":\\\"C1701_V2Site1_3000Ch21_RFGrating12Deg_1.mat\\\",\\\"val\\\":21,\\\"id\\\":\\\"idRjDRRmyd\\\"},{\\\"key\\\":\\\"C1701_V2Site1_3000Ch21_RFGrating24Deg_1.mat\\\",\\\"val\\\":22,\\\"id\\\":\\\"id2eSQeO1g\\\"},{\\\"key\\\":\\\"C1701_V2Site1_3000Ch21_RFGrating24Deg_2.mat\\\",\\\"val\\\":23,\\\"id\\\":\\\"idReo3H8WH\\\"},{\\\"key\\\":\\\"C1701_V2Site1_3000Ch21_RFGrating4Deg_1.mat\\\",\\\"val\\\":24,\\\"id\\\":\\\"ideEtLMvd9\\\"},{\\\"key\\\":\\\"C1701_V2Site1_3000Ch21_RFGrating8Deg_1.mat\\\",\\\"val\\\":25,\\\"id\\\":\\\"id4j0giqo5\\\"},{\\\"key\\\":\\\"C1701_V2Site1_3000Ch21_RFGrating8Deg_2.mat\\\",\\\"val\\\":26,\\\"id\\\":\\\"idh3TlAiOd\\\"},{\\\"key\\\":\\\"C1701_V2Site1_3000Ch21_RFGrating8Deg_3.mat\\\",\\\"val\\\":27,\\\"id\\\":\\\"idQ4upZoLx\\\"},{\\\"key\\\":\\\"C1701_V2Site1_3000Ch21_SpatialFreq_1.mat\\\",\\\"val\\\":28,\\\"id\\\":\\\"idCHFdUT7k\\\"},{\\\"key\\\":\\\"C1701_V2Site1_3000Ch21_SpatialFreq_2.mat\\\",\\\"val\\\":29,\\\"id\\\":\\\"idYzQkNGe1\\\"},{\\\"key\\\":\\\"C1701_V2Site1_3000Ch21_SpatialFreq_3.mat\\\",\\\"val\\\":30,\\\"id\\\":\\\"idqFa6ntOW\\\"},{\\\"key\\\":\\\"C1701_V2Site1_3000Ch21_TemporalFreq_1.mat\\\",\\\"val\\\":31,\\\"id\\\":\\\"id1FpX88ks\\\"},{\\\"key\\\":\\\"C1701_V2Site1_3000Ch21_TemporalFreq_2.mat\\\",\\\"val\\\":32,\\\"id\\\":\\\"idUi6EEuJD\\\"},{\\\"key\\\":\\\"C1701_V2Site1_3000Ch21_TemporalFreq_3.mat\\\",\\\"val\\\":33,\\\"id\\\":\\\"idRq7guCJE\\\"},{\\\"key\\\":\\\"C1701_V2Site1_3339Ch17_Diameter_1.mat\\\",\\\"val\\\":34,\\\"id\\\":\\\"idcDOvp83p\\\"},{\\\"key\\\":\\\"C1701_V2Site1_3339Ch17_Diameter_2.mat\\\",\\\"val\\\":35,\\\"id\\\":\\\"idPpgiS2Pk\\\"},{\\\"key\\\":\\\"C1701_V2Site1_3339Ch17_Diameter_3.mat\\\",\\\"val\\\":36,\\\"id\\\":\\\"idZTv1LjtL\\\"},{\\\"key\\\":\\\"C1701_V2Site1_3339Ch17_Diameter_4.mat\\\",\\\"val\\\":37,\\\"id\\\":\\\"idXAT5J1Iz\\\"},{\\\"key\\\":\\\"C1701_V2Site1_3339Ch17_Image_1.mat\\\",\\\"val\\\":38,\\\"id\\\":\\\"id94Y7v8Lp\\\"},{\\\"key\\\":\\\"C1701_V2Site1_3339Ch17_Image_2.mat\\\",\\\"val\\\":39,\\\"id\\\":\\\"idsSrDB6gn\\\"},{\\\"key\\\":\\\"C1701_V2Site1_3339Ch17_OriGrating_1.mat\\\",\\\"val\\\":40,\\\"id\\\":\\\"idLm5Q5Or7\\\"},{\\\"key\\\":\\\"C1701_V2Site1_3339Ch17_OriGrating_10.mat\\\",\\\"val\\\":41,\\\"id\\\":\\\"idTYUQaw1y\\\"},{\\\"key\\\":\\\"C1701_V2Site1_3339Ch17_OriGrating_2.mat\\\",\\\"val\\\":42,\\\"id\\\":\\\"ideDDHL0j9\\\"},{\\\"key\\\":\\\"C1701_V2Site1_3339Ch17_OriGrating_3.mat\\\",\\\"val\\\":43,\\\"id\\\":\\\"idzKGjZQcQ\\\"},{\\\"key\\\":\\\"C1701_V2Site1_3339Ch17_OriGrating_4.mat\\\",\\\"val\\\":44,\\\"id\\\":\\\"id0wnMmI4W\\\"},{\\\"key\\\":\\\"C1701_V2Site1_3339Ch17_OriGrating_5.mat\\\",\\\"val\\\":45,\\\"id\\\":\\\"idua18qXr6\\\"},{\\\"key\\\":\\\"C1701_V2Site1_3339Ch17_OriGrating_6.mat\\\",\\\"val\\\":46,\\\"id\\\":\\\"idwxN0M6Sh\\\"},{\\\"key\\\":\\\"C1701_V2Site1_3339Ch17_OriGrating_7.mat\\\",\\\"val\\\":47,\\\"id\\\":\\\"idQvTuieZp\\\"},{\\\"key\\\":\\\"C1701_V2Site1_3339Ch17_OriGrating_8.mat\\\",\\\"val\\\":48,\\\"id\\\":\\\"id04dlOaT0\\\"},{\\\"key\\\":\\\"C1701_V2Site1_3339Ch17_OriGrating_9.mat\\\",\\\"val\\\":49,\\\"id\\\":\\\"idk9SO6bnB\\\"},{\\\"key\\\":\\\"C1701_V2Site1_3339Ch17_RFBarX4Deg_1.mat\\\",\\\"val\\\":50,\\\"id\\\":\\\"idNr04jccj\\\"},{\\\"key\\\":\\\"C1701_V2Site1_3339Ch17_RFBarX4Deg_2.mat\\\",\\\"val\\\":51,\\\"id\\\":\\\"idb0sXiL1V\\\"},{\\\"key\\\":\\\"C1701_V2Site1_3339Ch17_RFBarX4Deg_3.mat\\\",\\\"val\\\":52,\\\"id\\\":\\\"idKYBAi5Xi\\\"},{\\\"key\\\":\\\"C1701_V2Site1_3339Ch17_RFBarX4Deg_4.mat\\\",\\\"val\\\":53,\\\"id\\\":\\\"id2yuH7KRf\\\"},{\\\"key\\\":\\\"C1701_V2Site1_3339Ch17_RFBarY4Deg_1.mat\\\",\\\"val\\\":54,\\\"id\\\":\\\"idBo0ErJUE\\\"},{\\\"key\\\":\\\"C1701_V2Site1_3339Ch17_RFBarY4Deg_2.mat\\\",\\\"val\\\":55,\\\"id\\\":\\\"idXwBPCrbp\\\"},{\\\"key\\\":\\\"C1701_V2Site1_3339Ch17_RFBarY4Deg_3.mat\\\",\\\"val\\\":56,\\\"id\\\":\\\"idFuq9a2fc\\\"},{\\\"key\\\":\\\"C1701_V2Site1_3339Ch17_RFGrating4Deg_1.mat\\\",\\\"val\\\":57,\\\"id\\\":\\\"iduy2CPChE\\\"},{\\\"key\\\":\\\"C1701_V2Site1_3339Ch17_RFGrating8Deg_1.mat\\\",\\\"val\\\":58,\\\"id\\\":\\\"idP4FENa8g\\\"},{\\\"key\\\":\\\"C1701_V2Site1_3339Ch17_SpatialFreq_1.mat\\\",\\\"val\\\":59,\\\"id\\\":\\\"iduLvVvWMK\\\"},{\\\"key\\\":\\\"C1701_V2Site1_3339Ch17_SpatialFreq_2.mat\\\",\\\"val\\\":60,\\\"id\\\":\\\"idHhefKU5d\\\"},{\\\"key\\\":\\\"C1701_V2Site1_3339Ch17_SpatialFreq_3.mat\\\",\\\"val\\\":61,\\\"id\\\":\\\"idrEE1kTNt\\\"},{\\\"key\\\":\\\"C1701_V2Site1_3339Ch17_TemporalFreq_1.mat\\\",\\\"val\\\":62,\\\"id\\\":\\\"idVMWTM7oV\\\"},{\\\"key\\\":\\\"C1701_V2Site1_3339Ch17_TemporalFreq_2.mat\\\",\\\"val\\\":63,\\\"id\\\":\\\"idoPRYYef6\\\"},{\\\"key\\\":\\\"C1701_V2Site1_3339Ch17_TemporalFreq_3.mat\\\",\\\"val\\\":64,\\\"id\\\":\\\"idV1SHXMls\\\"},{\\\"key\\\":\\\"C1701_V2Site1_3339Ch18_Contrast_1.mat\\\",\\\"val\\\":65,\\\"id\\\":\\\"idIRKZTfzi\\\"},{\\\"key\\\":\\\"C1701_V2Site1_3339Ch18_Diameter_1.mat\\\",\\\"val\\\":66,\\\"id\\\":\\\"idAl11pLuU\\\"},{\\\"key\\\":\\\"C1701_V2Site1_3339Ch18_Image_1.mat\\\",\\\"val\\\":67,\\\"id\\\":\\\"idZdb0lk2V\\\"},{\\\"key\\\":\\\"C1701_V2Site1_3339Ch18_Image_2.mat\\\",\\\"val\\\":68,\\\"id\\\":\\\"idns8dxQOn\\\"},{\\\"key\\\":\\\"C1701_V2Site1_3339Ch18_Image_3.mat\\\",\\\"val\\\":69,\\\"id\\\":\\\"id1EF3PTad\\\"},{\\\"key\\\":\\\"C1701_V2Site1_3339Ch18_OriGrating_1.mat\\\",\\\"val\\\":70,\\\"id\\\":\\\"idT3dKKr0E\\\"},{\\\"key\\\":\\\"C1701_V2Site1_3339Ch18_RFBarX4Deg_1.mat\\\",\\\"val\\\":71,\\\"id\\\":\\\"id5PGWuTOA\\\"},{\\\"key\\\":\\\"C1701_V2Site1_3339Ch18_RFBarY4Deg_1.mat\\\",\\\"val\\\":72,\\\"id\\\":\\\"idboB4EGwZ\\\"},{\\\"key\\\":\\\"C1701_V2Site1_3339Ch18_RFGrating8Deg_1.mat\\\",\\\"val\\\":73,\\\"id\\\":\\\"idMItmc1Lu\\\"},{\\\"key\\\":\\\"C1701_V2Site1_3339Ch18_SpatialFreq_1.mat\\\",\\\"val\\\":74,\\\"id\\\":\\\"idBMd6Wq78\\\"},{\\\"key\\\":\\\"C1701_V2Site1_3339Ch18_SpatialFreq_2.mat\\\",\\\"val\\\":75,\\\"id\\\":\\\"idxJA8wJvx\\\"},{\\\"key\\\":\\\"C1701_V2Site1_3339Ch18_TemporalFreq_1.mat\\\",\\\"val\\\":76,\\\"id\\\":\\\"idLswxkkSL\\\"},{\\\"key\\\":\\\"C1701_V2Site1_3419Ch19_Diameter_1.mat\\\",\\\"val\\\":77,\\\"id\\\":\\\"id0eqco3e1\\\"},{\\\"key\\\":\\\"C1701_V2Site1_3419Ch19_Image_1.mat\\\",\\\"val\\\":78,\\\"id\\\":\\\"idx1A1ZiiO\\\"},{\\\"key\\\":\\\"C1701_V2Site1_3419Ch19_OriGrating_1.mat\\\",\\\"val\\\":79,\\\"id\\\":\\\"idAAIcmSj5\\\"},{\\\"key\\\":\\\"C1701_V2Site1_3419Ch19_RFBarX12Deg_1.mat\\\",\\\"val\\\":80,\\\"id\\\":\\\"idxD1uJKmv\\\"},{\\\"key\\\":\\\"C1701_V2Site1_3419Ch19_RFBarX4Deg_1.mat\\\",\\\"val\\\":81,\\\"id\\\":\\\"idU873bSY8\\\"},{\\\"key\\\":\\\"C1701_V2Site1_3419Ch19_RFBarY12Deg_1.mat\\\",\\\"val\\\":82,\\\"id\\\":\\\"idA8Y17E8f\\\"},{\\\"key\\\":\\\"C1701_V2Site1_3419Ch19_RFBarY4Deg_1.mat\\\",\\\"val\\\":83,\\\"id\\\":\\\"idPHBzYnrz\\\"},{\\\"key\\\":\\\"C1701_V2Site1_3419Ch19_RFGrating12Deg_1.mat\\\",\\\"val\\\":84,\\\"id\\\":\\\"idDqj2Fn0N\\\"},{\\\"key\\\":\\\"C1701_V2Site1_3419Ch19_RFGrating8Deg_1.mat\\\",\\\"val\\\":85,\\\"id\\\":\\\"id3Mvee9rm\\\"},{\\\"key\\\":\\\"C1701_V2Site1_3419Ch19_SpatialFreq_1.mat\\\",\\\"val\\\":86,\\\"id\\\":\\\"idtYBTBDxh\\\"},{\\\"key\\\":\\\"C1701_V2Site1_3419Ch19_TemporalFreq_1.mat\\\",\\\"val\\\":87,\\\"id\\\":\\\"idyFXM6F7i\\\"},{\\\"key\\\":\\\"C1701_V2Site1_3544Ch18_OriGrating_1.mat\\\",\\\"val\\\":88,\\\"id\\\":\\\"id6kUabFRx\\\"},{\\\"key\\\":\\\"C1701_V2Site1_3544Ch18_RFGrating8Deg_1.mat\\\",\\\"val\\\":89,\\\"id\\\":\\\"idkKKSjZjG\\\"},{\\\"key\\\":\\\"C1701_V2Site1_3544Ch18_RFGrating8Deg_2.mat\\\",\\\"val\\\":90,\\\"id\\\":\\\"idp97t7m4J\\\"},{\\\"key\\\":\\\"C1701_V2Site1_3544Ch18_SpatialFreq_1.mat\\\",\\\"val\\\":91,\\\"id\\\":\\\"idz08KeZ5N\\\"},{\\\"key\\\":\\\"C1701_V2Site1_3544Ch18_TemporalFreq_1.mat\\\",\\\"val\\\":92,\\\"id\\\":\\\"idW1rbIsAI\\\"},{\\\"key\\\":\\\"C1701_V2Site1_3544Ch23_Diameter_1.mat\\\",\\\"val\\\":93,\\\"id\\\":\\\"idC4jlTqFB\\\"},{\\\"key\\\":\\\"C1701_V2Site1_3544Ch23_Image_1.mat\\\",\\\"val\\\":94,\\\"id\\\":\\\"idbABXtuJr\\\"},{\\\"key\\\":\\\"C1701_V2Site1_3544Ch23_OriGrating_1.mat\\\",\\\"val\\\":95,\\\"id\\\":\\\"idXgVgi7Qu\\\"},{\\\"key\\\":\\\"C1701_V2Site1_3544Ch23_OriGrating_2.mat\\\",\\\"val\\\":96,\\\"id\\\":\\\"idWvtWs2eC\\\"},{\\\"key\\\":\\\"C1701_V2Site1_3544Ch23_RFBarX4Deg_1.mat\\\",\\\"val\\\":97,\\\"id\\\":\\\"idRkP4thEb\\\"},{\\\"key\\\":\\\"C1701_V2Site1_3544Ch23_RFBarY4Deg_1.mat\\\",\\\"val\\\":98,\\\"id\\\":\\\"idAEvxUHrh\\\"},{\\\"key\\\":\\\"C1701_V2Site1_3544Ch23_RFBarY4Deg_2.mat\\\",\\\"val\\\":99,\\\"id\\\":\\\"id1whnosUo\\\"},{\\\"key\\\":\\\"C1701_V2Site1_3544Ch23_RFGrating8Deg_1.mat\\\",\\\"val\\\":100,\\\"id\\\":\\\"id38v4gnXw\\\"},{\\\"key\\\":\\\"C1701_V2Site1_3544Ch23_RFGrating8Deg_2.mat\\\",\\\"val\\\":101,\\\"id\\\":\\\"idvQGn0yzF\\\"},{\\\"key\\\":\\\"C1701_V2Site1_3544Ch23_SpatialFreq_1.mat\\\",\\\"val\\\":102,\\\"id\\\":\\\"id9pgXQigd\\\"},{\\\"key\\\":\\\"C1701_V2Site1_3544Ch23_TemporalFreq_1.mat\\\",\\\"val\\\":103,\\\"id\\\":\\\"idxi3XCHTs\\\"},{\\\"key\\\":\\\"C1701_V2Site2_3000Ch18_Diameter_1.mat\\\",\\\"val\\\":104,\\\"id\\\":\\\"iddBlU0oY1\\\"},{\\\"key\\\":\\\"C1701_V2Site2_3000Ch18_Diameter_2.mat\\\",\\\"val\\\":105,\\\"id\\\":\\\"id6IQbipdt\\\"},{\\\"key\\\":\\\"C1701_V2Site2_3000Ch18_Diameter_3.mat\\\",\\\"val\\\":106,\\\"id\\\":\\\"idhKSkVRp9\\\"},{\\\"key\\\":\\\"C1701_V2Site2_3000Ch18_Diameter_4.mat\\\",\\\"val\\\":107,\\\"id\\\":\\\"idlleIh1Iv\\\"},{\\\"key\\\":\\\"C1701_V2Site2_3000Ch18_Image_1.mat\\\",\\\"val\\\":108,\\\"id\\\":\\\"idT9uQESdk\\\"},{\\\"key\\\":\\\"C1701_V2Site2_3000Ch18_LaserOriGrating_1.mat\\\",\\\"val\\\":109,\\\"id\\\":\\\"idD6Nb4Xmw\\\"},{\\\"key\\\":\\\"C1701_V2Site2_3000Ch18_Laser_1.mat\\\",\\\"val\\\":110,\\\"id\\\":\\\"idMlLHHTWM\\\"},{\\\"key\\\":\\\"C1701_V2Site2_3000Ch18_OriGrating_1.mat\\\",\\\"val\\\":111,\\\"id\\\":\\\"iduIIbiK1W\\\"},{\\\"key\\\":\\\"C1701_V2Site2_3000Ch18_RFBarX12Deg_1.mat\\\",\\\"val\\\":112,\\\"id\\\":\\\"idx9TuuoWZ\\\"},{\\\"key\\\":\\\"C1701_V2Site2_3000Ch18_RFBarY12Deg_1.mat\\\",\\\"val\\\":113,\\\"id\\\":\\\"idCT26vdsM\\\"},{\\\"key\\\":\\\"C1701_V2Site2_3000Ch18_RFGrating12Deg_1.mat\\\",\\\"val\\\":114,\\\"id\\\":\\\"idJpKTsAnp\\\"},{\\\"key\\\":\\\"C1701_V2Site2_3000Ch18_RFGrating12Deg_2.mat\\\",\\\"val\\\":115,\\\"id\\\":\\\"idpHIuN1EZ\\\"},{\\\"key\\\":\\\"C1701_V2Site2_3000Ch18_SpatialFreq_1.mat\\\",\\\"val\\\":116,\\\"id\\\":\\\"idLxJA1NMF\\\"},{\\\"key\\\":\\\"C1701_V2Site2_3000Ch18_SpatialFreq_2.mat\\\",\\\"val\\\":117,\\\"id\\\":\\\"idIydou6zC\\\"},{\\\"key\\\":\\\"C1701_V2Site2_3000Ch18_TemporalFreq_1.mat\\\",\\\"val\\\":118,\\\"id\\\":\\\"idALvzWBN0\\\"},{\\\"key\\\":\\\"C1701_V2Site2_3000Ch18_TemporalFreq_2.mat\\\",\\\"val\\\":119,\\\"id\\\":\\\"idhVIQyMcY\\\"},{\\\"key\\\":\\\"C1701_V2Site2_3000Ch21_Diameter_1.mat\\\",\\\"val\\\":120,\\\"id\\\":\\\"idrgqWF9uI\\\"},{\\\"key\\\":\\\"C1701_V2Site2_3000Ch21_Image_1.mat\\\",\\\"val\\\":121,\\\"id\\\":\\\"id6gimFuWc\\\"},{\\\"key\\\":\\\"C1701_V2Site2_3000Ch21_LaserImage_1.mat\\\",\\\"val\\\":122,\\\"id\\\":\\\"idcO5RmJ7x\\\"},{\\\"key\\\":\\\"C1701_V2Site2_3000Ch21_Laser_1.mat\\\",\\\"val\\\":123,\\\"id\\\":\\\"idqcmTLygM\\\"},{\\\"key\\\":\\\"C1701_V2Site2_3000Ch21_OriGrating_1.mat\\\",\\\"val\\\":124,\\\"id\\\":\\\"idqR3h3ikZ\\\"},{\\\"key\\\":\\\"C1701_V2Site2_3000Ch21_RFBarX12Deg_1.mat\\\",\\\"val\\\":125,\\\"id\\\":\\\"idW1IHJ0wY\\\"},{\\\"key\\\":\\\"C1701_V2Site2_3000Ch21_RFBarX12Deg_2.mat\\\",\\\"val\\\":126,\\\"id\\\":\\\"idVnH5FD7a\\\"},{\\\"key\\\":\\\"C1701_V2Site2_3000Ch21_RFBarX4Deg_1.mat\\\",\\\"val\\\":127,\\\"id\\\":\\\"id97GmNnwX\\\"},{\\\"key\\\":\\\"C1701_V2Site2_3000Ch21_RFBarY12Deg_1.mat\\\",\\\"val\\\":128,\\\"id\\\":\\\"id5q12oWrY\\\"},{\\\"key\\\":\\\"C1701_V2Site2_3000Ch21_RFBarY4Deg_1.mat\\\",\\\"val\\\":129,\\\"id\\\":\\\"idbnVeSiJB\\\"},{\\\"key\\\":\\\"C1701_V2Site2_3000Ch21_RFBarY4Deg_2.mat\\\",\\\"val\\\":130,\\\"id\\\":\\\"ide1EKFvpS\\\"},{\\\"key\\\":\\\"C1701_V2Site2_3000Ch21_RFGrating8Deg_1.mat\\\",\\\"val\\\":131,\\\"id\\\":\\\"idpfxQDUp3\\\"},{\\\"key\\\":\\\"C1701_V2Site2_3000Ch21_SpatialFreq_1.mat\\\",\\\"val\\\":132,\\\"id\\\":\\\"idABuRLcPg\\\"},{\\\"key\\\":\\\"C1701_V2Site2_3000Ch21_TemporalFreq_1.mat\\\",\\\"val\\\":133,\\\"id\\\":\\\"idPs6BNnhu\\\"},{\\\"key\\\":\\\"C1701_V2Site2_3000Ch22_Diameter_1.mat\\\",\\\"val\\\":134,\\\"id\\\":\\\"id4ecU8v7h\\\"},{\\\"key\\\":\\\"C1701_V2Site2_3000Ch22_Diameter_2.mat\\\",\\\"val\\\":135,\\\"id\\\":\\\"idd43ESRrX\\\"},{\\\"key\\\":\\\"C1701_V2Site2_3000Ch22_Diameter_3.mat\\\",\\\"val\\\":136,\\\"id\\\":\\\"idOuNipsiP\\\"},{\\\"key\\\":\\\"C1701_V2Site2_3000Ch22_Image_1.mat\\\",\\\"val\\\":137,\\\"id\\\":\\\"id1aZOfxL6\\\"},{\\\"key\\\":\\\"C1701_V2Site2_3000Ch22_Image_2.mat\\\",\\\"val\\\":138,\\\"id\\\":\\\"idDvG3YCJc\\\"},{\\\"key\\\":\\\"C1701_V2Site2_3000Ch22_LaserImage_1.mat\\\",\\\"val\\\":139,\\\"id\\\":\\\"idzxuDFlz4\\\"},{\\\"key\\\":\\\"C1701_V2Site2_3000Ch22_LaserOriGrating_1.mat\\\",\\\"val\\\":140,\\\"id\\\":\\\"idq4RjdTmZ\\\"},{\\\"key\\\":\\\"C1701_V2Site2_3000Ch22_Laser_1.mat\\\",\\\"val\\\":141,\\\"id\\\":\\\"idflDnsF0j\\\"},{\\\"key\\\":\\\"C1701_V2Site2_3000Ch22_OriGrating_1.mat\\\",\\\"val\\\":142,\\\"id\\\":\\\"idlbtYyygx\\\"},{\\\"key\\\":\\\"C1701_V2Site2_3000Ch22_RFBarY4Deg_1.mat\\\",\\\"val\\\":143,\\\"id\\\":\\\"iddCPlK0RB\\\"},{\\\"key\\\":\\\"C1701_V2Site2_3000Ch22_RFBarY4Deg_2.mat\\\",\\\"val\\\":144,\\\"id\\\":\\\"idCB1uWyEg\\\"},{\\\"key\\\":\\\"C1701_V2Site2_3000Ch22_RFBarY4Deg_3.mat\\\",\\\"val\\\":145,\\\"id\\\":\\\"idnCtt74Vs\\\"},{\\\"key\\\":\\\"C1701_V2Site2_3000Ch22_RFGrating12Deg_1.mat\\\",\\\"val\\\":146,\\\"id\\\":\\\"idMYgL1u42\\\"},{\\\"key\\\":\\\"C1701_V2Site2_3000Ch22_RFGrating4Deg_1.mat\\\",\\\"val\\\":147,\\\"id\\\":\\\"idY3bdiZsB\\\"},{\\\"key\\\":\\\"C1701_V2Site2_3000Ch22_RFGrating8Deg_1.mat\\\",\\\"val\\\":148,\\\"id\\\":\\\"idwMyvX6ao\\\"},{\\\"key\\\":\\\"C1701_V2Site2_3000Ch22_SpatialFreq_1.mat\\\",\\\"val\\\":149,\\\"id\\\":\\\"id4LMPyEie\\\"},{\\\"key\\\":\\\"C1701_V2Site2_3000Ch22_SpatialFreq_2.mat\\\",\\\"val\\\":150,\\\"id\\\":\\\"idKsIEzb13\\\"},{\\\"key\\\":\\\"C1701_V2Site2_3000Ch22_SpatialFreq_3.mat\\\",\\\"val\\\":151,\\\"id\\\":\\\"idc4LH9uPN\\\"},{\\\"key\\\":\\\"C1701_V2Site2_3000Ch22_TemporalFreq_1.mat\\\",\\\"val\\\":152,\\\"id\\\":\\\"idWMusWwBO\\\"},{\\\"key\\\":\\\"C1701_V2Site2_3000Ch22_TemporalFreq_2.mat\\\",\\\"val\\\":153,\\\"id\\\":\\\"id3su9QldJ\\\"},{\\\"key\\\":\\\"C1701_V2Site2_3000Ch22_TemporalFreq_3.mat\\\",\\\"val\\\":154,\\\"id\\\":\\\"id1ZjgqfkT\\\"},{\\\"key\\\":\\\"C1701_V2Site2_3549Ch22_Diameter_1.mat\\\",\\\"val\\\":155,\\\"id\\\":\\\"idrNtQSLR0\\\"},{\\\"key\\\":\\\"C1701_V2Site2_3549Ch22_Diameter_2.mat\\\",\\\"val\\\":156,\\\"id\\\":\\\"id7BqFzJO8\\\"},{\\\"key\\\":\\\"C1701_V2Site2_3549Ch22_Image_1.mat\\\",\\\"val\\\":157,\\\"id\\\":\\\"id5guTzXhE\\\"},{\\\"key\\\":\\\"C1701_V2Site2_3549Ch22_LaserImage_1.mat\\\",\\\"val\\\":158,\\\"id\\\":\\\"idDNXW602B\\\"},{\\\"key\\\":\\\"C1701_V2Site2_3549Ch22_LaserOriGrating_1.mat\\\",\\\"val\\\":159,\\\"id\\\":\\\"idqf1neA2u\\\"},{\\\"key\\\":\\\"C1701_V2Site2_3549Ch22_Laser_1.mat\\\",\\\"val\\\":160,\\\"id\\\":\\\"idKtLhzsrw\\\"},{\\\"key\\\":\\\"C1701_V2Site2_3549Ch22_OriGrating_1.mat\\\",\\\"val\\\":161,\\\"id\\\":\\\"idxhgqxvzv\\\"},{\\\"key\\\":\\\"C1701_V2Site2_3549Ch22_RFBarX4Deg_1.mat\\\",\\\"val\\\":162,\\\"id\\\":\\\"idlcUFTr0N\\\"},{\\\"key\\\":\\\"C1701_V2Site2_3549Ch22_RFBarY4Deg_1.mat\\\",\\\"val\\\":163,\\\"id\\\":\\\"idsd8l6z1T\\\"},{\\\"key\\\":\\\"C1701_V2Site2_3549Ch22_RFGrating4Deg_1.mat\\\",\\\"val\\\":164,\\\"id\\\":\\\"idBGXEU1dZ\\\"},{\\\"key\\\":\\\"C1701_V2Site2_3549Ch22_RFGrating4Deg_2.mat\\\",\\\"val\\\":165,\\\"id\\\":\\\"idCY851ehd\\\"},{\\\"key\\\":\\\"C1701_V2Site2_3549Ch22_RFGrating4Deg_3.mat\\\",\\\"val\\\":166,\\\"id\\\":\\\"idhatveHtN\\\"},{\\\"key\\\":\\\"C1701_V2Site2_3549Ch22_RFGrating4Deg_4.mat\\\",\\\"val\\\":167,\\\"id\\\":\\\"id57t7BBVZ\\\"},{\\\"key\\\":\\\"C1701_V2Site2_3549Ch22_RFGrating8Deg_1.mat\\\",\\\"val\\\":168,\\\"id\\\":\\\"idvNdIFRQX\\\"},{\\\"key\\\":\\\"C1701_V2Site2_3549Ch22_SpatialFreq_1.mat\\\",\\\"val\\\":169,\\\"id\\\":\\\"idCQ6snXK0\\\"},{\\\"key\\\":\\\"C1701_V2Site2_3549Ch22_SpatialFreq_2.mat\\\",\\\"val\\\":170,\\\"id\\\":\\\"idA5FB2OJE\\\"},{\\\"key\\\":\\\"C1701_V2Site2_3549Ch22_SpatialFreq_3.mat\\\",\\\"val\\\":171,\\\"id\\\":\\\"idyGyd9jsz\\\"},{\\\"key\\\":\\\"C1701_V2Site2_3549Ch22_SpatialFreq_4.mat\\\",\\\"val\\\":172,\\\"id\\\":\\\"idLxwnro6E\\\"},{\\\"key\\\":\\\"C1701_V2Site2_3549Ch22_TemporalFreq_1.mat\\\",\\\"val\\\":173,\\\"id\\\":\\\"idYoxSUB2f\\\"},{\\\"key\\\":\\\"C1701_V2Site3_3000Ch20_Contrast_1.mat\\\",\\\"val\\\":174,\\\"id\\\":\\\"idpgLuSsgS\\\"},{\\\"key\\\":\\\"C1701_V2Site3_3000Ch20_Diameter_1.mat\\\",\\\"val\\\":175,\\\"id\\\":\\\"id2G330QNA\\\"},{\\\"key\\\":\\\"C1701_V2Site3_3000Ch20_Image_1.mat\\\",\\\"val\\\":176,\\\"id\\\":\\\"idyFXhfrCE\\\"},{\\\"key\\\":\\\"C1701_V2Site3_3000Ch20_OriGrating_1.mat\\\",\\\"val\\\":177,\\\"id\\\":\\\"id5nKk0Akk\\\"},{\\\"key\\\":\\\"C1701_V2Site3_3000Ch20_RFBarX4Deg_1.mat\\\",\\\"val\\\":178,\\\"id\\\":\\\"idOQrYbPDK\\\"},{\\\"key\\\":\\\"C1701_V2Site3_3000Ch20_RFBarY4Deg_1.mat\\\",\\\"val\\\":179,\\\"id\\\":\\\"idsf6G5YUf\\\"},{\\\"key\\\":\\\"C1701_V2Site3_3000Ch20_RFGrating4Deg_1.mat\\\",\\\"val\\\":180,\\\"id\\\":\\\"idSl1eKQe2\\\"},{\\\"key\\\":\\\"C1701_V2Site3_3000Ch20_RFGrating8Deg_1.mat\\\",\\\"val\\\":181,\\\"id\\\":\\\"idLtxiS7qc\\\"},{\\\"key\\\":\\\"C1701_V2Site3_3000Ch20_SpatialFreq_1.mat\\\",\\\"val\\\":182,\\\"id\\\":\\\"idI6FgEqw0\\\"},{\\\"key\\\":\\\"C1701_V2Site3_3000Ch20_TemporalFreq_1.mat\\\",\\\"val\\\":183,\\\"id\\\":\\\"idixmm13AN\\\"},{\\\"key\\\":\\\"C1701_V2Site3_3000Ch23_Contrast_1.mat\\\",\\\"val\\\":184,\\\"id\\\":\\\"idxzEH5J6m\\\"},{\\\"key\\\":\\\"C1701_V2Site3_3000Ch23_Image_1.mat\\\",\\\"val\\\":185,\\\"id\\\":\\\"idxbWRudO5\\\"},{\\\"key\\\":\\\"C1701_V2Site3_3000_Diameter_1.mat\\\",\\\"val\\\":186,\\\"id\\\":\\\"idHR6fb3zx\\\"},{\\\"key\\\":\\\"C1701_V2Site3_3000_OriGrating_1.mat\\\",\\\"val\\\":187,\\\"id\\\":\\\"idaAAyRYK4\\\"},{\\\"key\\\":\\\"C1701_V2Site3_3000_OriOffsetGrating_1.mat\\\",\\\"val\\\":188,\\\"id\\\":\\\"idjR3ny7ZM\\\"},{\\\"key\\\":\\\"C1701_V2Site3_3000_RFBarX12Deg_1.mat\\\",\\\"val\\\":189,\\\"id\\\":\\\"idAb6OsX1e\\\"},{\\\"key\\\":\\\"C1701_V2Site3_3000_RFBarX4Deg_1.mat\\\",\\\"val\\\":190,\\\"id\\\":\\\"id0oSvPEXr\\\"},{\\\"key\\\":\\\"C1701_V2Site3_3000_RFBarY12Deg_1.mat\\\",\\\"val\\\":191,\\\"id\\\":\\\"idsabtQZjp\\\"},{\\\"key\\\":\\\"C1701_V2Site3_3000_RFBarY4Deg_1.mat\\\",\\\"val\\\":192,\\\"id\\\":\\\"idVtGF4Iz1\\\"},{\\\"key\\\":\\\"C1701_V2Site3_3000_RFGrating4Deg_1.mat\\\",\\\"val\\\":193,\\\"id\\\":\\\"idjTVKndO9\\\"},{\\\"key\\\":\\\"C1701_V2Site3_3000_RFGrating8Deg_1.mat\\\",\\\"val\\\":194,\\\"id\\\":\\\"id62EIAvKW\\\"},{\\\"key\\\":\\\"C1701_V2Site3_3000_SpatialFreq_1.mat\\\",\\\"val\\\":195,\\\"id\\\":\\\"idXdGYCAb5\\\"},{\\\"key\\\":\\\"C1701_V2Site3_3000_TemporalFreq_1.mat\\\",\\\"val\\\":196,\\\"id\\\":\\\"idcXFEWt03\\\"},{\\\"key\\\":\\\"C1701_V2Site3_3544Ch23_Contrast_1.mat\\\",\\\"val\\\":197,\\\"id\\\":\\\"idA4nj2wLi\\\"},{\\\"key\\\":\\\"C1701_V2Site3_3544Ch23_Contrast_2.mat\\\",\\\"val\\\":198,\\\"id\\\":\\\"idmuQ1KT2t\\\"},{\\\"key\\\":\\\"C1701_V2Site3_3544Ch23_Diameter_1.mat\\\",\\\"val\\\":199,\\\"id\\\":\\\"idedS9zTyM\\\"},{\\\"key\\\":\\\"C1701_V2Site3_3544Ch23_Diameter_2.mat\\\",\\\"val\\\":200,\\\"id\\\":\\\"idAli7XRoB\\\"},{\\\"key\\\":\\\"C1701_V2Site3_3544Ch23_Image_1.mat\\\",\\\"val\\\":201,\\\"id\\\":\\\"iduomUQiQc\\\"},{\\\"key\\\":\\\"C1701_V2Site3_3544Ch23_Image_2.mat\\\",\\\"val\\\":202,\\\"id\\\":\\\"idrcH3MZfm\\\"},{\\\"key\\\":\\\"C1701_V2Site3_3544Ch23_Image_3.mat\\\",\\\"val\\\":203,\\\"id\\\":\\\"idvGWK9sK1\\\"},{\\\"key\\\":\\\"C1701_V2Site3_3544Ch23_Image_4.mat\\\",\\\"val\\\":204,\\\"id\\\":\\\"idZVUOzxZ4\\\"},{\\\"key\\\":\\\"C1701_V2Site3_3544Ch23_OriGrating_1.mat\\\",\\\"val\\\":205,\\\"id\\\":\\\"idaWCszxHH\\\"},{\\\"key\\\":\\\"C1701_V2Site3_3544Ch23_OriGrating_2.mat\\\",\\\"val\\\":206,\\\"id\\\":\\\"idbUIQccVP\\\"},{\\\"key\\\":\\\"C1701_V2Site3_3544Ch23_RFBarX12Deg_1.mat\\\",\\\"val\\\":207,\\\"id\\\":\\\"idfKE2eScf\\\"},{\\\"key\\\":\\\"C1701_V2Site3_3544Ch23_RFBarX12Deg_2.mat\\\",\\\"val\\\":208,\\\"id\\\":\\\"idbeFrrzCj\\\"},{\\\"key\\\":\\\"C1701_V2Site3_3544Ch23_RFBarY12Deg_1.mat\\\",\\\"val\\\":209,\\\"id\\\":\\\"idLenFohJO\\\"},{\\\"key\\\":\\\"C1701_V2Site3_3544Ch23_RFBarY12Deg_2.mat\\\",\\\"val\\\":210,\\\"id\\\":\\\"idh2hAMW7V\\\"},{\\\"key\\\":\\\"C1701_V2Site3_3544Ch23_RFBarY12Deg_3.mat\\\",\\\"val\\\":211,\\\"id\\\":\\\"id67ZqXb8l\\\"},{\\\"key\\\":\\\"C1701_V2Site3_3544Ch23_RFBarY4Deg_1.mat\\\",\\\"val\\\":212,\\\"id\\\":\\\"idF7AdFStO\\\"},{\\\"key\\\":\\\"C1701_V2Site3_3544Ch23_RFGrating4Deg_1.mat\\\",\\\"val\\\":213,\\\"id\\\":\\\"idydlmOfe3\\\"},{\\\"key\\\":\\\"C1701_V2Site3_3544Ch23_RFGrating8Deg_1.mat\\\",\\\"val\\\":214,\\\"id\\\":\\\"idHhfIgcqD\\\"},{\\\"key\\\":\\\"C1701_V2Site3_3544Ch23_RFGrating8Deg_2.mat\\\",\\\"val\\\":215,\\\"id\\\":\\\"idtloutpIv\\\"},{\\\"key\\\":\\\"C1701_V2Site3_3544Ch23_RFGrating8Deg_3.mat\\\",\\\"val\\\":216,\\\"id\\\":\\\"id1jAREvQe\\\"},{\\\"key\\\":\\\"C1701_V2Site3_3544Ch23_SpatialFreq_1.mat\\\",\\\"val\\\":217,\\\"id\\\":\\\"idVeBuHPII\\\"},{\\\"key\\\":\\\"C1701_V2Site3_3544Ch23_SpatialFreq_2.mat\\\",\\\"val\\\":218,\\\"id\\\":\\\"idMOj1gKAJ\\\"},{\\\"key\\\":\\\"C1701_V2Site3_3544Ch23_TemporalFreq_1.mat\\\",\\\"val\\\":219,\\\"id\\\":\\\"idNRsWXkPz\\\"},{\\\"key\\\":\\\"C1701_V2Site3_3544Ch23_TemporalFreq_2.mat\\\",\\\"val\\\":220,\\\"id\\\":\\\"idvFqa831G\\\"},{\\\"key\\\":\\\"C1701_V2Site3_4500Ch20_Diameter_1.mat\\\",\\\"val\\\":221,\\\"id\\\":\\\"idyVSwso4n\\\"},{\\\"key\\\":\\\"C1701_V2Site3_4500Ch20_Image_1.mat\\\",\\\"val\\\":222,\\\"id\\\":\\\"idtY5QIbuT\\\"},{\\\"key\\\":\\\"C1701_V2Site3_4500Ch20_OriGrating_1.mat\\\",\\\"val\\\":223,\\\"id\\\":\\\"idtepllGNr\\\"},{\\\"key\\\":\\\"C1701_V2Site3_4500Ch20_RFBarX12Deg_1.mat\\\",\\\"val\\\":224,\\\"id\\\":\\\"idVfRK81Rf\\\"},{\\\"key\\\":\\\"C1701_V2Site3_4500Ch20_RFBarY12Deg_1.mat\\\",\\\"val\\\":225,\\\"id\\\":\\\"idkIyyYbY1\\\"},{\\\"key\\\":\\\"C1701_V2Site3_4500Ch20_RFGrating8Deg_1.mat\\\",\\\"val\\\":226,\\\"id\\\":\\\"idBrBzib1X\\\"},{\\\"key\\\":\\\"C1701_V2Site3_4500Ch20_RFGrating8Deg_2.mat\\\",\\\"val\\\":227,\\\"id\\\":\\\"idwY5Ihrx7\\\"},{\\\"key\\\":\\\"C1701_V2Site3_4500Ch20_SpatialFreq_1.mat\\\",\\\"val\\\":228,\\\"id\\\":\\\"idBcn2UKhf\\\"},{\\\"key\\\":\\\"C1701_V2Site3_4500Ch20_TemporalFreq_1.mat\\\",\\\"val\\\":229,\\\"id\\\":\\\"iddUh77dOL\\\"},{\\\"key\\\":\\\"C1701_V2Site4_3200Ch13_Contrast_1.mat\\\",\\\"val\\\":230,\\\"id\\\":\\\"idqmY99KXV\\\"},{\\\"key\\\":\\\"C1701_V2Site4_3200Ch13_Diameter_1.mat\\\",\\\"val\\\":231,\\\"id\\\":\\\"idbwx8pbjs\\\"},{\\\"key\\\":\\\"C1701_V2Site4_3200Ch13_Image_1.mat\\\",\\\"val\\\":232,\\\"id\\\":\\\"idXyVyXkXM\\\"},{\\\"key\\\":\\\"C1701_V2Site4_3200Ch13_Image_2.mat\\\",\\\"val\\\":233,\\\"id\\\":\\\"idISUJeubW\\\"},{\\\"key\\\":\\\"C1701_V2Site4_3200Ch13_OriGrating_1.mat\\\",\\\"val\\\":234,\\\"id\\\":\\\"idndFfrOXu\\\"},{\\\"key\\\":\\\"C1701_V2Site4_3200Ch13_RFBarX12Deg_1.mat\\\",\\\"val\\\":235,\\\"id\\\":\\\"idnXtJoWii\\\"},{\\\"key\\\":\\\"C1701_V2Site4_3200Ch13_RFBarY12Deg_1.mat\\\",\\\"val\\\":236,\\\"id\\\":\\\"idmzFtkOe9\\\"},{\\\"key\\\":\\\"C1701_V2Site4_3200Ch13_RFGrating24Deg_1.mat\\\",\\\"val\\\":237,\\\"id\\\":\\\"idnaML8411\\\"},{\\\"key\\\":\\\"C1701_V2Site4_3200Ch13_SpatialFreq_1.mat\\\",\\\"val\\\":238,\\\"id\\\":\\\"idi1u5AYEA\\\"},{\\\"key\\\":\\\"C1701_V2Site4_3200Ch13_TemporalFreq_1.mat\\\",\\\"val\\\":239,\\\"id\\\":\\\"id2DVuTT1F\\\"},{\\\"key\\\":\\\"C1701_V2Site5_3200Ch18_Contrast_1.mat\\\",\\\"val\\\":240,\\\"id\\\":\\\"id04dSHQMo\\\"},{\\\"key\\\":\\\"C1701_V2Site5_3200Ch18_Contrast_2.mat\\\",\\\"val\\\":241,\\\"id\\\":\\\"iduWLnDWkt\\\"},{\\\"key\\\":\\\"C1701_V2Site5_3200Ch18_Diameter_1.mat\\\",\\\"val\\\":242,\\\"id\\\":\\\"idS48avQau\\\"},{\\\"key\\\":\\\"C1701_V2Site5_3200Ch18_Diameter_2.mat\\\",\\\"val\\\":243,\\\"id\\\":\\\"idgg6Bu1Rv\\\"},{\\\"key\\\":\\\"C1701_V2Site5_3200Ch18_Image_1.mat\\\",\\\"val\\\":244,\\\"id\\\":\\\"idHWQuGOSa\\\"},{\\\"key\\\":\\\"C1701_V2Site5_3200Ch18_OriGrating_1.mat\\\",\\\"val\\\":245,\\\"id\\\":\\\"idBWZMiiHh\\\"},{\\\"key\\\":\\\"C1701_V2Site5_3200Ch18_OriGrating_2.mat\\\",\\\"val\\\":246,\\\"id\\\":\\\"idbNdKcJ4h\\\"},{\\\"key\\\":\\\"C1701_V2Site5_3200Ch18_RFBarX4Deg_1.mat\\\",\\\"val\\\":247,\\\"id\\\":\\\"idU1lLHLjZ\\\"},{\\\"key\\\":\\\"C1701_V2Site5_3200Ch18_RFBarY4Deg_1.mat\\\",\\\"val\\\":248,\\\"id\\\":\\\"idl3DZ3g2I\\\"},{\\\"key\\\":\\\"C1701_V2Site5_3200Ch18_RFGrating24Deg_1.mat\\\",\\\"val\\\":249,\\\"id\\\":\\\"idSWqpuqKd\\\"},{\\\"key\\\":\\\"C1701_V2Site5_3200Ch18_RFGrating8Deg_1.mat\\\",\\\"val\\\":250,\\\"id\\\":\\\"id929Gpo0F\\\"},{\\\"key\\\":\\\"C1701_V2Site5_3200Ch18_SpatialFreq_1.mat\\\",\\\"val\\\":251,\\\"id\\\":\\\"idJmhd0QAh\\\"},{\\\"key\\\":\\\"C1701_V2Site5_3200Ch18_SpatialFreq_2.mat\\\",\\\"val\\\":252,\\\"id\\\":\\\"idzgMk229W\\\"},{\\\"key\\\":\\\"C1701_V2Site5_3200Ch18_SpatialFreq_3.mat\\\",\\\"val\\\":253,\\\"id\\\":\\\"idKoUDXzfa\\\"},{\\\"key\\\":\\\"C1701_V2Site5_3200Ch18_SpatialFreq_4.mat\\\",\\\"val\\\":254,\\\"id\\\":\\\"idBvRCA3w6\\\"},{\\\"key\\\":\\\"C1701_V2Site5_3200Ch18_TemporalFreq_1.mat\\\",\\\"val\\\":255,\\\"id\\\":\\\"idhdNFVO5b\\\"},{\\\"key\\\":\\\"C1701_V2Site5_3200Ch18_TemporalFreq_2.mat\\\",\\\"val\\\":256,\\\"id\\\":\\\"idHCBNQvHP\\\"},{\\\"key\\\":\\\"C1701_V2Site5_3200Ch18_TemporalFreq_3.mat\\\",\\\"val\\\":257,\\\"id\\\":\\\"idRM6TIAQO\\\"},{\\\"key\\\":\\\"C1701_V2Site5_3200Ch22_Diameter_1.mat\\\",\\\"val\\\":258,\\\"id\\\":\\\"idubPrnPaE\\\"},{\\\"key\\\":\\\"C1701_V2Site5_3200Ch22_Diameter_2.mat\\\",\\\"val\\\":259,\\\"id\\\":\\\"idekvRzKKQ\\\"},{\\\"key\\\":\\\"C1701_V2Site5_3200Ch22_Image_1.mat\\\",\\\"val\\\":260,\\\"id\\\":\\\"idVj2WnjaN\\\"},{\\\"key\\\":\\\"C1701_V2Site5_3200Ch22_OriGrating_1.mat\\\",\\\"val\\\":261,\\\"id\\\":\\\"idHiB4mqnb\\\"},{\\\"key\\\":\\\"C1701_V2Site5_3200Ch22_RFBarX12Deg_1.mat\\\",\\\"val\\\":262,\\\"id\\\":\\\"id8iV92zvs\\\"},{\\\"key\\\":\\\"C1701_V2Site5_3200Ch22_RFBarY12Deg_1.mat\\\",\\\"val\\\":263,\\\"id\\\":\\\"idYenGyzzL\\\"},{\\\"key\\\":\\\"C1701_V2Site5_3200Ch22_RFGrating24Deg_1.mat\\\",\\\"val\\\":264,\\\"id\\\":\\\"idhG6uFcJm\\\"},{\\\"key\\\":\\\"C1701_V2Site5_3200Ch22_SpatialFreq_1.mat\\\",\\\"val\\\":265,\\\"id\\\":\\\"idPf9Ftwc1\\\"},{\\\"key\\\":\\\"C1701_V2Site5_3200Ch22_TemporalFreq_1.mat\\\",\\\"val\\\":266,\\\"id\\\":\\\"idDMCm74uK\\\"},{\\\"key\\\":\\\"C1701_V2Site5_3200Ch23_Diameter_1.mat\\\",\\\"val\\\":267,\\\"id\\\":\\\"idaFd8tY3m\\\"},{\\\"key\\\":\\\"C1701_V2Site5_3200Ch23_Image_1.mat\\\",\\\"val\\\":268,\\\"id\\\":\\\"idValjrtbz\\\"},{\\\"key\\\":\\\"C1701_V2Site5_3200Ch23_OriGrating_1.mat\\\",\\\"val\\\":269,\\\"id\\\":\\\"idqIb9tigU\\\"},{\\\"key\\\":\\\"C1701_V2Site5_3200Ch23_RFBarX12Deg_1.mat\\\",\\\"val\\\":270,\\\"id\\\":\\\"idwtlMNumK\\\"},{\\\"key\\\":\\\"C1701_V2Site5_3200Ch23_RFBarY12Deg_1.mat\\\",\\\"val\\\":271,\\\"id\\\":\\\"iduldrktpp\\\"},{\\\"key\\\":\\\"C1701_V2Site5_3200Ch23_RFGrating8Deg_1.mat\\\",\\\"val\\\":272,\\\"id\\\":\\\"idNQYPoS0Y\\\"},{\\\"key\\\":\\\"C1701_V2Site5_3200Ch23_RFGrating8Deg_2.mat\\\",\\\"val\\\":273,\\\"id\\\":\\\"id8FqzU3g5\\\"},{\\\"key\\\":\\\"C1701_V2Site5_3200Ch23_SpatialFreq_1.mat\\\",\\\"val\\\":274,\\\"id\\\":\\\"idbbKC0iYS\\\"},{\\\"key\\\":\\\"C1701_V2Site5_3200Ch23_TemporalFreq_1.mat\\\",\\\"val\\\":275,\\\"id\\\":\\\"idULLW9pzA\\\"},{\\\"key\\\":\\\"C1701_V2Site5_3200Ch6_Contrast_1.mat\\\",\\\"val\\\":276,\\\"id\\\":\\\"id9aSxdSIv\\\"},{\\\"key\\\":\\\"C1701_V2Site5_3200Ch6_Diameter_1.mat\\\",\\\"val\\\":277,\\\"id\\\":\\\"id6iit4Gq4\\\"},{\\\"key\\\":\\\"C1701_V2Site5_3200Ch6_Image_1.mat\\\",\\\"val\\\":278,\\\"id\\\":\\\"id89gp9u2W\\\"},{\\\"key\\\":\\\"C1701_V2Site5_3200Ch6_OriGrating_1.mat\\\",\\\"val\\\":279,\\\"id\\\":\\\"idJXVH8Cjj\\\"},{\\\"key\\\":\\\"C1701_V2Site5_3200Ch6_OriGrating_2.mat\\\",\\\"val\\\":280,\\\"id\\\":\\\"idX8GAllkW\\\"},{\\\"key\\\":\\\"C1701_V2Site5_3200Ch6_RFBarX12Deg_1.mat\\\",\\\"val\\\":281,\\\"id\\\":\\\"idipKZ5aJF\\\"},{\\\"key\\\":\\\"C1701_V2Site5_3200Ch6_RFBarX4Deg_1.mat\\\",\\\"val\\\":282,\\\"id\\\":\\\"idWRaHI7LB\\\"},{\\\"key\\\":\\\"C1701_V2Site5_3200Ch6_RFBarY12Deg_1.mat\\\",\\\"val\\\":283,\\\"id\\\":\\\"idB4SDCUBh\\\"},{\\\"key\\\":\\\"C1701_V2Site5_3200Ch6_RFBarY4Deg_1.mat\\\",\\\"val\\\":284,\\\"id\\\":\\\"idXnbTnNlW\\\"},{\\\"key\\\":\\\"C1701_V2Site5_3200Ch6_RFGrating12Deg_1.mat\\\",\\\"val\\\":285,\\\"id\\\":\\\"idBZrdpVUH\\\"},{\\\"key\\\":\\\"C1701_V2Site5_3200Ch6_RFGrating12Deg_2.mat\\\",\\\"val\\\":286,\\\"id\\\":\\\"idG8R5MnfU\\\"},{\\\"key\\\":\\\"C1701_V2Site5_3200Ch6_SpatialFreq_1.mat\\\",\\\"val\\\":287,\\\"id\\\":\\\"idmLJLKsR1\\\"},{\\\"key\\\":\\\"C1701_V2Site5_3200Ch6_SpatialFreq_2.mat\\\",\\\"val\\\":288,\\\"id\\\":\\\"idWYGcvJcg\\\"},{\\\"key\\\":\\\"C1701_V2Site5_3200Ch6_TemporalFreq_1.mat\\\",\\\"val\\\":289,\\\"id\\\":\\\"idTT8PMfwW\\\"},{\\\"key\\\":\\\"C1701_V2Site5_3200Ch6_TemporalFreq_2.mat\\\",\\\"val\\\":290,\\\"id\\\":\\\"id3uGwhYSS\\\"}],\\\"index\\\":1}\");\n    var self = this;\n    function AppViewModel() {\n        for (var key in json_data) {\n            var el = json_data[key];\n            this[key] = Array.isArray(el) ? ko.observableArray(el) : ko.observable(el);\n        }\n        [this[\"disablePlaceholder\"]=function(option, item) {\n    ko.applyBindingsToNode(option, {disable: item.val == 0}, item);\n}\n]\n        \n        [this[\"options_js\"].subscribe((function (val){!(this.valueFromJulia[\"options_js\"]) ? (_webIOScope.setObservableValue({\"name\":\"options_js\",\"scope\":\"knockout-component-d4986eae-cabd-4177-9d21-015683b55a8d\",\"id\":\"ob_22\",\"type\":\"observable\"},val)) : undefined; return this.valueFromJulia[\"options_js\"]=false}),self),this[\"index\"].subscribe((function (val){!(this.valueFromJulia[\"index\"]) ? (_webIOScope.setObservableValue({\"name\":\"index\",\"scope\":\"knockout-component-d4986eae-cabd-4177-9d21-015683b55a8d\",\"id\":\"ob_21\",\"type\":\"observable\"},val)) : undefined; return this.valueFromJulia[\"index\"]=false}),self)]\n        \n    }\n    self.model = new AppViewModel();\n    self.valueFromJulia = {};\n    for (var key in json_data) {\n        self.valueFromJulia[key] = false;\n    }\n    ko.applyBindings(self.model, self.dom);\n}\n"
                                    ]
                                  },
                                  "index": [
                                    "(function (val){return (val!=this.model[\"index\"]()) ? (this.valueFromJulia[\"index\"]=true, this.model[\"index\"](val)) : undefined})"
                                  ],
                                  "options_js": [
                                    "(function (val){return (val!=this.model[\"options_js\"]()) ? (this.valueFromJulia[\"options_js\"]=true, this.model[\"options_js\"](val)) : undefined})"
                                  ]
                                },
                                "id": "knockout-component-d4986eae-cabd-4177-9d21-015683b55a8d",
                                "imports": {
                                  "data": [
                                    {
                                      "name": "knockout",
                                      "type": "js",
                                      "url": "/assetserver/fe7d3ce0ef73fffe4b07398d3eaf1c1a335ed6ac-knockout.js"
                                    },
                                    {
                                      "name": "knockout_punches",
                                      "type": "js",
                                      "url": "/assetserver/1764b91a11ffe5a6c57c5d605079ccde5ddd28a1-knockout_punches.js"
                                    },
                                    {
                                      "name": null,
                                      "type": "js",
                                      "url": "/assetserver/239a0709d1bd89d06f348c62cad4467504786b78-all.js"
                                    },
                                    {
                                      "name": null,
                                      "type": "css",
                                      "url": "/assetserver/88fd8714ccb6031b47bd164292283bc40f0e5b56-style.css"
                                    },
                                    {
                                      "name": null,
                                      "type": "css",
                                      "url": "/assetserver/593c6eca1d291d88375fe32d6fd7993aadb13589-main.css"
                                    }
                                  ],
                                  "type": "async_block"
                                },
                                "observables": {
                                  "index": {
                                    "id": "ob_21",
                                    "sync": true,
                                    "value": 1
                                  },
                                  "options_js": {
                                    "id": "ob_22",
                                    "sync": false,
                                    "value": [
                                      {
                                        "id": "idSLfU9FGg",
                                        "key": "C1701_V2Site1_3000Ch21_Diameter_1.mat",
                                        "val": 1
                                      },
                                      {
                                        "id": "idtmvkAul7",
                                        "key": "C1701_V2Site1_3000Ch21_Diameter_2.mat",
                                        "val": 2
                                      },
                                      {
                                        "id": "idEGee0moI",
                                        "key": "C1701_V2Site1_3000Ch21_Diameter_3.mat",
                                        "val": 3
                                      },
                                      {
                                        "id": "id7x5WGe9x",
                                        "key": "C1701_V2Site1_3000Ch21_Diameter_4.mat",
                                        "val": 4
                                      },
                                      {
                                        "id": "id10qHMy9M",
                                        "key": "C1701_V2Site1_3000Ch21_Diameter_5.mat",
                                        "val": 5
                                      },
                                      {
                                        "id": "idbGJzUgsC",
                                        "key": "C1701_V2Site1_3000Ch21_Diameter_6.mat",
                                        "val": 6
                                      },
                                      {
                                        "id": "idz6fQRmI6",
                                        "key": "C1701_V2Site1_3000Ch21_Diameter_7.mat",
                                        "val": 7
                                      },
                                      {
                                        "id": "idS4PiXaMx",
                                        "key": "C1701_V2Site1_3000Ch21_Image_1.mat",
                                        "val": 8
                                      },
                                      {
                                        "id": "idTEzrrbuR",
                                        "key": "C1701_V2Site1_3000Ch21_Image_2.mat",
                                        "val": 9
                                      },
                                      {
                                        "id": "id00Zod3Nv",
                                        "key": "C1701_V2Site1_3000Ch21_OriGrating_1.mat",
                                        "val": 10
                                      },
                                      {
                                        "id": "idtey04q8Z",
                                        "key": "C1701_V2Site1_3000Ch21_OriGrating_2.mat",
                                        "val": 11
                                      },
                                      {
                                        "id": "id6jNd3nr8",
                                        "key": "C1701_V2Site1_3000Ch21_OriGrating_3.mat",
                                        "val": 12
                                      },
                                      {
                                        "id": "idMwLvfq4Q",
                                        "key": "C1701_V2Site1_3000Ch21_OriOffsetGrating_1.mat",
                                        "val": 13
                                      },
                                      {
                                        "id": "id17EFZDz7",
                                        "key": "C1701_V2Site1_3000Ch21_OriOffsetGrating_2.mat",
                                        "val": 14
                                      },
                                      {
                                        "id": "idLuA3gCCL",
                                        "key": "C1701_V2Site1_3000Ch21_RFBarX4Deg_1.mat",
                                        "val": 15
                                      },
                                      {
                                        "id": "id1sP6N9GZ",
                                        "key": "C1701_V2Site1_3000Ch21_RFBarX4Deg_2.mat",
                                        "val": 16
                                      },
                                      {
                                        "id": "id5RCuxdQu",
                                        "key": "C1701_V2Site1_3000Ch21_RFBarY2Deg_1.mat",
                                        "val": 17
                                      },
                                      {
                                        "id": "idH3W839hm",
                                        "key": "C1701_V2Site1_3000Ch21_RFBarY4Deg_1.mat",
                                        "val": 18
                                      },
                                      {
                                        "id": "idZXUeRagR",
                                        "key": "C1701_V2Site1_3000Ch21_RFBarY4Deg_2.mat",
                                        "val": 19
                                      },
                                      {
                                        "id": "id4LyndiEk",
                                        "key": "C1701_V2Site1_3000Ch21_RFBarY4Deg_3.mat",
                                        "val": 20
                                      },
                                      {
                                        "id": "idRjDRRmyd",
                                        "key": "C1701_V2Site1_3000Ch21_RFGrating12Deg_1.mat",
                                        "val": 21
                                      },
                                      {
                                        "id": "id2eSQeO1g",
                                        "key": "C1701_V2Site1_3000Ch21_RFGrating24Deg_1.mat",
                                        "val": 22
                                      },
                                      {
                                        "id": "idReo3H8WH",
                                        "key": "C1701_V2Site1_3000Ch21_RFGrating24Deg_2.mat",
                                        "val": 23
                                      },
                                      {
                                        "id": "ideEtLMvd9",
                                        "key": "C1701_V2Site1_3000Ch21_RFGrating4Deg_1.mat",
                                        "val": 24
                                      },
                                      {
                                        "id": "id4j0giqo5",
                                        "key": "C1701_V2Site1_3000Ch21_RFGrating8Deg_1.mat",
                                        "val": 25
                                      },
                                      {
                                        "id": "idh3TlAiOd",
                                        "key": "C1701_V2Site1_3000Ch21_RFGrating8Deg_2.mat",
                                        "val": 26
                                      },
                                      {
                                        "id": "idQ4upZoLx",
                                        "key": "C1701_V2Site1_3000Ch21_RFGrating8Deg_3.mat",
                                        "val": 27
                                      },
                                      {
                                        "id": "idCHFdUT7k",
                                        "key": "C1701_V2Site1_3000Ch21_SpatialFreq_1.mat",
                                        "val": 28
                                      },
                                      {
                                        "id": "idYzQkNGe1",
                                        "key": "C1701_V2Site1_3000Ch21_SpatialFreq_2.mat",
                                        "val": 29
                                      },
                                      {
                                        "id": "idqFa6ntOW",
                                        "key": "C1701_V2Site1_3000Ch21_SpatialFreq_3.mat",
                                        "val": 30
                                      },
                                      {
                                        "id": "id1FpX88ks",
                                        "key": "C1701_V2Site1_3000Ch21_TemporalFreq_1.mat",
                                        "val": 31
                                      },
                                      {
                                        "id": "idUi6EEuJD",
                                        "key": "C1701_V2Site1_3000Ch21_TemporalFreq_2.mat",
                                        "val": 32
                                      },
                                      {
                                        "id": "idRq7guCJE",
                                        "key": "C1701_V2Site1_3000Ch21_TemporalFreq_3.mat",
                                        "val": 33
                                      },
                                      {
                                        "id": "idcDOvp83p",
                                        "key": "C1701_V2Site1_3339Ch17_Diameter_1.mat",
                                        "val": 34
                                      },
                                      {
                                        "id": "idPpgiS2Pk",
                                        "key": "C1701_V2Site1_3339Ch17_Diameter_2.mat",
                                        "val": 35
                                      },
                                      {
                                        "id": "idZTv1LjtL",
                                        "key": "C1701_V2Site1_3339Ch17_Diameter_3.mat",
                                        "val": 36
                                      },
                                      {
                                        "id": "idXAT5J1Iz",
                                        "key": "C1701_V2Site1_3339Ch17_Diameter_4.mat",
                                        "val": 37
                                      },
                                      {
                                        "id": "id94Y7v8Lp",
                                        "key": "C1701_V2Site1_3339Ch17_Image_1.mat",
                                        "val": 38
                                      },
                                      {
                                        "id": "idsSrDB6gn",
                                        "key": "C1701_V2Site1_3339Ch17_Image_2.mat",
                                        "val": 39
                                      },
                                      {
                                        "id": "idLm5Q5Or7",
                                        "key": "C1701_V2Site1_3339Ch17_OriGrating_1.mat",
                                        "val": 40
                                      },
                                      {
                                        "id": "idTYUQaw1y",
                                        "key": "C1701_V2Site1_3339Ch17_OriGrating_10.mat",
                                        "val": 41
                                      },
                                      {
                                        "id": "ideDDHL0j9",
                                        "key": "C1701_V2Site1_3339Ch17_OriGrating_2.mat",
                                        "val": 42
                                      },
                                      {
                                        "id": "idzKGjZQcQ",
                                        "key": "C1701_V2Site1_3339Ch17_OriGrating_3.mat",
                                        "val": 43
                                      },
                                      {
                                        "id": "id0wnMmI4W",
                                        "key": "C1701_V2Site1_3339Ch17_OriGrating_4.mat",
                                        "val": 44
                                      },
                                      {
                                        "id": "idua18qXr6",
                                        "key": "C1701_V2Site1_3339Ch17_OriGrating_5.mat",
                                        "val": 45
                                      },
                                      {
                                        "id": "idwxN0M6Sh",
                                        "key": "C1701_V2Site1_3339Ch17_OriGrating_6.mat",
                                        "val": 46
                                      },
                                      {
                                        "id": "idQvTuieZp",
                                        "key": "C1701_V2Site1_3339Ch17_OriGrating_7.mat",
                                        "val": 47
                                      },
                                      {
                                        "id": "id04dlOaT0",
                                        "key": "C1701_V2Site1_3339Ch17_OriGrating_8.mat",
                                        "val": 48
                                      },
                                      {
                                        "id": "idk9SO6bnB",
                                        "key": "C1701_V2Site1_3339Ch17_OriGrating_9.mat",
                                        "val": 49
                                      },
                                      {
                                        "id": "idNr04jccj",
                                        "key": "C1701_V2Site1_3339Ch17_RFBarX4Deg_1.mat",
                                        "val": 50
                                      },
                                      {
                                        "id": "idb0sXiL1V",
                                        "key": "C1701_V2Site1_3339Ch17_RFBarX4Deg_2.mat",
                                        "val": 51
                                      },
                                      {
                                        "id": "idKYBAi5Xi",
                                        "key": "C1701_V2Site1_3339Ch17_RFBarX4Deg_3.mat",
                                        "val": 52
                                      },
                                      {
                                        "id": "id2yuH7KRf",
                                        "key": "C1701_V2Site1_3339Ch17_RFBarX4Deg_4.mat",
                                        "val": 53
                                      },
                                      {
                                        "id": "idBo0ErJUE",
                                        "key": "C1701_V2Site1_3339Ch17_RFBarY4Deg_1.mat",
                                        "val": 54
                                      },
                                      {
                                        "id": "idXwBPCrbp",
                                        "key": "C1701_V2Site1_3339Ch17_RFBarY4Deg_2.mat",
                                        "val": 55
                                      },
                                      {
                                        "id": "idFuq9a2fc",
                                        "key": "C1701_V2Site1_3339Ch17_RFBarY4Deg_3.mat",
                                        "val": 56
                                      },
                                      {
                                        "id": "iduy2CPChE",
                                        "key": "C1701_V2Site1_3339Ch17_RFGrating4Deg_1.mat",
                                        "val": 57
                                      },
                                      {
                                        "id": "idP4FENa8g",
                                        "key": "C1701_V2Site1_3339Ch17_RFGrating8Deg_1.mat",
                                        "val": 58
                                      },
                                      {
                                        "id": "iduLvVvWMK",
                                        "key": "C1701_V2Site1_3339Ch17_SpatialFreq_1.mat",
                                        "val": 59
                                      },
                                      {
                                        "id": "idHhefKU5d",
                                        "key": "C1701_V2Site1_3339Ch17_SpatialFreq_2.mat",
                                        "val": 60
                                      },
                                      {
                                        "id": "idrEE1kTNt",
                                        "key": "C1701_V2Site1_3339Ch17_SpatialFreq_3.mat",
                                        "val": 61
                                      },
                                      {
                                        "id": "idVMWTM7oV",
                                        "key": "C1701_V2Site1_3339Ch17_TemporalFreq_1.mat",
                                        "val": 62
                                      },
                                      {
                                        "id": "idoPRYYef6",
                                        "key": "C1701_V2Site1_3339Ch17_TemporalFreq_2.mat",
                                        "val": 63
                                      },
                                      {
                                        "id": "idV1SHXMls",
                                        "key": "C1701_V2Site1_3339Ch17_TemporalFreq_3.mat",
                                        "val": 64
                                      },
                                      {
                                        "id": "idIRKZTfzi",
                                        "key": "C1701_V2Site1_3339Ch18_Contrast_1.mat",
                                        "val": 65
                                      },
                                      {
                                        "id": "idAl11pLuU",
                                        "key": "C1701_V2Site1_3339Ch18_Diameter_1.mat",
                                        "val": 66
                                      },
                                      {
                                        "id": "idZdb0lk2V",
                                        "key": "C1701_V2Site1_3339Ch18_Image_1.mat",
                                        "val": 67
                                      },
                                      {
                                        "id": "idns8dxQOn",
                                        "key": "C1701_V2Site1_3339Ch18_Image_2.mat",
                                        "val": 68
                                      },
                                      {
                                        "id": "id1EF3PTad",
                                        "key": "C1701_V2Site1_3339Ch18_Image_3.mat",
                                        "val": 69
                                      },
                                      {
                                        "id": "idT3dKKr0E",
                                        "key": "C1701_V2Site1_3339Ch18_OriGrating_1.mat",
                                        "val": 70
                                      },
                                      {
                                        "id": "id5PGWuTOA",
                                        "key": "C1701_V2Site1_3339Ch18_RFBarX4Deg_1.mat",
                                        "val": 71
                                      },
                                      {
                                        "id": "idboB4EGwZ",
                                        "key": "C1701_V2Site1_3339Ch18_RFBarY4Deg_1.mat",
                                        "val": 72
                                      },
                                      {
                                        "id": "idMItmc1Lu",
                                        "key": "C1701_V2Site1_3339Ch18_RFGrating8Deg_1.mat",
                                        "val": 73
                                      },
                                      {
                                        "id": "idBMd6Wq78",
                                        "key": "C1701_V2Site1_3339Ch18_SpatialFreq_1.mat",
                                        "val": 74
                                      },
                                      {
                                        "id": "idxJA8wJvx",
                                        "key": "C1701_V2Site1_3339Ch18_SpatialFreq_2.mat",
                                        "val": 75
                                      },
                                      {
                                        "id": "idLswxkkSL",
                                        "key": "C1701_V2Site1_3339Ch18_TemporalFreq_1.mat",
                                        "val": 76
                                      },
                                      {
                                        "id": "id0eqco3e1",
                                        "key": "C1701_V2Site1_3419Ch19_Diameter_1.mat",
                                        "val": 77
                                      },
                                      {
                                        "id": "idx1A1ZiiO",
                                        "key": "C1701_V2Site1_3419Ch19_Image_1.mat",
                                        "val": 78
                                      },
                                      {
                                        "id": "idAAIcmSj5",
                                        "key": "C1701_V2Site1_3419Ch19_OriGrating_1.mat",
                                        "val": 79
                                      },
                                      {
                                        "id": "idxD1uJKmv",
                                        "key": "C1701_V2Site1_3419Ch19_RFBarX12Deg_1.mat",
                                        "val": 80
                                      },
                                      {
                                        "id": "idU873bSY8",
                                        "key": "C1701_V2Site1_3419Ch19_RFBarX4Deg_1.mat",
                                        "val": 81
                                      },
                                      {
                                        "id": "idA8Y17E8f",
                                        "key": "C1701_V2Site1_3419Ch19_RFBarY12Deg_1.mat",
                                        "val": 82
                                      },
                                      {
                                        "id": "idPHBzYnrz",
                                        "key": "C1701_V2Site1_3419Ch19_RFBarY4Deg_1.mat",
                                        "val": 83
                                      },
                                      {
                                        "id": "idDqj2Fn0N",
                                        "key": "C1701_V2Site1_3419Ch19_RFGrating12Deg_1.mat",
                                        "val": 84
                                      },
                                      {
                                        "id": "id3Mvee9rm",
                                        "key": "C1701_V2Site1_3419Ch19_RFGrating8Deg_1.mat",
                                        "val": 85
                                      },
                                      {
                                        "id": "idtYBTBDxh",
                                        "key": "C1701_V2Site1_3419Ch19_SpatialFreq_1.mat",
                                        "val": 86
                                      },
                                      {
                                        "id": "idyFXM6F7i",
                                        "key": "C1701_V2Site1_3419Ch19_TemporalFreq_1.mat",
                                        "val": 87
                                      },
                                      {
                                        "id": "id6kUabFRx",
                                        "key": "C1701_V2Site1_3544Ch18_OriGrating_1.mat",
                                        "val": 88
                                      },
                                      {
                                        "id": "idkKKSjZjG",
                                        "key": "C1701_V2Site1_3544Ch18_RFGrating8Deg_1.mat",
                                        "val": 89
                                      },
                                      {
                                        "id": "idp97t7m4J",
                                        "key": "C1701_V2Site1_3544Ch18_RFGrating8Deg_2.mat",
                                        "val": 90
                                      },
                                      {
                                        "id": "idz08KeZ5N",
                                        "key": "C1701_V2Site1_3544Ch18_SpatialFreq_1.mat",
                                        "val": 91
                                      },
                                      {
                                        "id": "idW1rbIsAI",
                                        "key": "C1701_V2Site1_3544Ch18_TemporalFreq_1.mat",
                                        "val": 92
                                      },
                                      {
                                        "id": "idC4jlTqFB",
                                        "key": "C1701_V2Site1_3544Ch23_Diameter_1.mat",
                                        "val": 93
                                      },
                                      {
                                        "id": "idbABXtuJr",
                                        "key": "C1701_V2Site1_3544Ch23_Image_1.mat",
                                        "val": 94
                                      },
                                      {
                                        "id": "idXgVgi7Qu",
                                        "key": "C1701_V2Site1_3544Ch23_OriGrating_1.mat",
                                        "val": 95
                                      },
                                      {
                                        "id": "idWvtWs2eC",
                                        "key": "C1701_V2Site1_3544Ch23_OriGrating_2.mat",
                                        "val": 96
                                      },
                                      {
                                        "id": "idRkP4thEb",
                                        "key": "C1701_V2Site1_3544Ch23_RFBarX4Deg_1.mat",
                                        "val": 97
                                      },
                                      {
                                        "id": "idAEvxUHrh",
                                        "key": "C1701_V2Site1_3544Ch23_RFBarY4Deg_1.mat",
                                        "val": 98
                                      },
                                      {
                                        "id": "id1whnosUo",
                                        "key": "C1701_V2Site1_3544Ch23_RFBarY4Deg_2.mat",
                                        "val": 99
                                      },
                                      {
                                        "id": "id38v4gnXw",
                                        "key": "C1701_V2Site1_3544Ch23_RFGrating8Deg_1.mat",
                                        "val": 100
                                      },
                                      {
                                        "id": "idvQGn0yzF",
                                        "key": "C1701_V2Site1_3544Ch23_RFGrating8Deg_2.mat",
                                        "val": 101
                                      },
                                      {
                                        "id": "id9pgXQigd",
                                        "key": "C1701_V2Site1_3544Ch23_SpatialFreq_1.mat",
                                        "val": 102
                                      },
                                      {
                                        "id": "idxi3XCHTs",
                                        "key": "C1701_V2Site1_3544Ch23_TemporalFreq_1.mat",
                                        "val": 103
                                      },
                                      {
                                        "id": "iddBlU0oY1",
                                        "key": "C1701_V2Site2_3000Ch18_Diameter_1.mat",
                                        "val": 104
                                      },
                                      {
                                        "id": "id6IQbipdt",
                                        "key": "C1701_V2Site2_3000Ch18_Diameter_2.mat",
                                        "val": 105
                                      },
                                      {
                                        "id": "idhKSkVRp9",
                                        "key": "C1701_V2Site2_3000Ch18_Diameter_3.mat",
                                        "val": 106
                                      },
                                      {
                                        "id": "idlleIh1Iv",
                                        "key": "C1701_V2Site2_3000Ch18_Diameter_4.mat",
                                        "val": 107
                                      },
                                      {
                                        "id": "idT9uQESdk",
                                        "key": "C1701_V2Site2_3000Ch18_Image_1.mat",
                                        "val": 108
                                      },
                                      {
                                        "id": "idD6Nb4Xmw",
                                        "key": "C1701_V2Site2_3000Ch18_LaserOriGrating_1.mat",
                                        "val": 109
                                      },
                                      {
                                        "id": "idMlLHHTWM",
                                        "key": "C1701_V2Site2_3000Ch18_Laser_1.mat",
                                        "val": 110
                                      },
                                      {
                                        "id": "iduIIbiK1W",
                                        "key": "C1701_V2Site2_3000Ch18_OriGrating_1.mat",
                                        "val": 111
                                      },
                                      {
                                        "id": "idx9TuuoWZ",
                                        "key": "C1701_V2Site2_3000Ch18_RFBarX12Deg_1.mat",
                                        "val": 112
                                      },
                                      {
                                        "id": "idCT26vdsM",
                                        "key": "C1701_V2Site2_3000Ch18_RFBarY12Deg_1.mat",
                                        "val": 113
                                      },
                                      {
                                        "id": "idJpKTsAnp",
                                        "key": "C1701_V2Site2_3000Ch18_RFGrating12Deg_1.mat",
                                        "val": 114
                                      },
                                      {
                                        "id": "idpHIuN1EZ",
                                        "key": "C1701_V2Site2_3000Ch18_RFGrating12Deg_2.mat",
                                        "val": 115
                                      },
                                      {
                                        "id": "idLxJA1NMF",
                                        "key": "C1701_V2Site2_3000Ch18_SpatialFreq_1.mat",
                                        "val": 116
                                      },
                                      {
                                        "id": "idIydou6zC",
                                        "key": "C1701_V2Site2_3000Ch18_SpatialFreq_2.mat",
                                        "val": 117
                                      },
                                      {
                                        "id": "idALvzWBN0",
                                        "key": "C1701_V2Site2_3000Ch18_TemporalFreq_1.mat",
                                        "val": 118
                                      },
                                      {
                                        "id": "idhVIQyMcY",
                                        "key": "C1701_V2Site2_3000Ch18_TemporalFreq_2.mat",
                                        "val": 119
                                      },
                                      {
                                        "id": "idrgqWF9uI",
                                        "key": "C1701_V2Site2_3000Ch21_Diameter_1.mat",
                                        "val": 120
                                      },
                                      {
                                        "id": "id6gimFuWc",
                                        "key": "C1701_V2Site2_3000Ch21_Image_1.mat",
                                        "val": 121
                                      },
                                      {
                                        "id": "idcO5RmJ7x",
                                        "key": "C1701_V2Site2_3000Ch21_LaserImage_1.mat",
                                        "val": 122
                                      },
                                      {
                                        "id": "idqcmTLygM",
                                        "key": "C1701_V2Site2_3000Ch21_Laser_1.mat",
                                        "val": 123
                                      },
                                      {
                                        "id": "idqR3h3ikZ",
                                        "key": "C1701_V2Site2_3000Ch21_OriGrating_1.mat",
                                        "val": 124
                                      },
                                      {
                                        "id": "idW1IHJ0wY",
                                        "key": "C1701_V2Site2_3000Ch21_RFBarX12Deg_1.mat",
                                        "val": 125
                                      },
                                      {
                                        "id": "idVnH5FD7a",
                                        "key": "C1701_V2Site2_3000Ch21_RFBarX12Deg_2.mat",
                                        "val": 126
                                      },
                                      {
                                        "id": "id97GmNnwX",
                                        "key": "C1701_V2Site2_3000Ch21_RFBarX4Deg_1.mat",
                                        "val": 127
                                      },
                                      {
                                        "id": "id5q12oWrY",
                                        "key": "C1701_V2Site2_3000Ch21_RFBarY12Deg_1.mat",
                                        "val": 128
                                      },
                                      {
                                        "id": "idbnVeSiJB",
                                        "key": "C1701_V2Site2_3000Ch21_RFBarY4Deg_1.mat",
                                        "val": 129
                                      },
                                      {
                                        "id": "ide1EKFvpS",
                                        "key": "C1701_V2Site2_3000Ch21_RFBarY4Deg_2.mat",
                                        "val": 130
                                      },
                                      {
                                        "id": "idpfxQDUp3",
                                        "key": "C1701_V2Site2_3000Ch21_RFGrating8Deg_1.mat",
                                        "val": 131
                                      },
                                      {
                                        "id": "idABuRLcPg",
                                        "key": "C1701_V2Site2_3000Ch21_SpatialFreq_1.mat",
                                        "val": 132
                                      },
                                      {
                                        "id": "idPs6BNnhu",
                                        "key": "C1701_V2Site2_3000Ch21_TemporalFreq_1.mat",
                                        "val": 133
                                      },
                                      {
                                        "id": "id4ecU8v7h",
                                        "key": "C1701_V2Site2_3000Ch22_Diameter_1.mat",
                                        "val": 134
                                      },
                                      {
                                        "id": "idd43ESRrX",
                                        "key": "C1701_V2Site2_3000Ch22_Diameter_2.mat",
                                        "val": 135
                                      },
                                      {
                                        "id": "idOuNipsiP",
                                        "key": "C1701_V2Site2_3000Ch22_Diameter_3.mat",
                                        "val": 136
                                      },
                                      {
                                        "id": "id1aZOfxL6",
                                        "key": "C1701_V2Site2_3000Ch22_Image_1.mat",
                                        "val": 137
                                      },
                                      {
                                        "id": "idDvG3YCJc",
                                        "key": "C1701_V2Site2_3000Ch22_Image_2.mat",
                                        "val": 138
                                      },
                                      {
                                        "id": "idzxuDFlz4",
                                        "key": "C1701_V2Site2_3000Ch22_LaserImage_1.mat",
                                        "val": 139
                                      },
                                      {
                                        "id": "idq4RjdTmZ",
                                        "key": "C1701_V2Site2_3000Ch22_LaserOriGrating_1.mat",
                                        "val": 140
                                      },
                                      {
                                        "id": "idflDnsF0j",
                                        "key": "C1701_V2Site2_3000Ch22_Laser_1.mat",
                                        "val": 141
                                      },
                                      {
                                        "id": "idlbtYyygx",
                                        "key": "C1701_V2Site2_3000Ch22_OriGrating_1.mat",
                                        "val": 142
                                      },
                                      {
                                        "id": "iddCPlK0RB",
                                        "key": "C1701_V2Site2_3000Ch22_RFBarY4Deg_1.mat",
                                        "val": 143
                                      },
                                      {
                                        "id": "idCB1uWyEg",
                                        "key": "C1701_V2Site2_3000Ch22_RFBarY4Deg_2.mat",
                                        "val": 144
                                      },
                                      {
                                        "id": "idnCtt74Vs",
                                        "key": "C1701_V2Site2_3000Ch22_RFBarY4Deg_3.mat",
                                        "val": 145
                                      },
                                      {
                                        "id": "idMYgL1u42",
                                        "key": "C1701_V2Site2_3000Ch22_RFGrating12Deg_1.mat",
                                        "val": 146
                                      },
                                      {
                                        "id": "idY3bdiZsB",
                                        "key": "C1701_V2Site2_3000Ch22_RFGrating4Deg_1.mat",
                                        "val": 147
                                      },
                                      {
                                        "id": "idwMyvX6ao",
                                        "key": "C1701_V2Site2_3000Ch22_RFGrating8Deg_1.mat",
                                        "val": 148
                                      },
                                      {
                                        "id": "id4LMPyEie",
                                        "key": "C1701_V2Site2_3000Ch22_SpatialFreq_1.mat",
                                        "val": 149
                                      },
                                      {
                                        "id": "idKsIEzb13",
                                        "key": "C1701_V2Site2_3000Ch22_SpatialFreq_2.mat",
                                        "val": 150
                                      },
                                      {
                                        "id": "idc4LH9uPN",
                                        "key": "C1701_V2Site2_3000Ch22_SpatialFreq_3.mat",
                                        "val": 151
                                      },
                                      {
                                        "id": "idWMusWwBO",
                                        "key": "C1701_V2Site2_3000Ch22_TemporalFreq_1.mat",
                                        "val": 152
                                      },
                                      {
                                        "id": "id3su9QldJ",
                                        "key": "C1701_V2Site2_3000Ch22_TemporalFreq_2.mat",
                                        "val": 153
                                      },
                                      {
                                        "id": "id1ZjgqfkT",
                                        "key": "C1701_V2Site2_3000Ch22_TemporalFreq_3.mat",
                                        "val": 154
                                      },
                                      {
                                        "id": "idrNtQSLR0",
                                        "key": "C1701_V2Site2_3549Ch22_Diameter_1.mat",
                                        "val": 155
                                      },
                                      {
                                        "id": "id7BqFzJO8",
                                        "key": "C1701_V2Site2_3549Ch22_Diameter_2.mat",
                                        "val": 156
                                      },
                                      {
                                        "id": "id5guTzXhE",
                                        "key": "C1701_V2Site2_3549Ch22_Image_1.mat",
                                        "val": 157
                                      },
                                      {
                                        "id": "idDNXW602B",
                                        "key": "C1701_V2Site2_3549Ch22_LaserImage_1.mat",
                                        "val": 158
                                      },
                                      {
                                        "id": "idqf1neA2u",
                                        "key": "C1701_V2Site2_3549Ch22_LaserOriGrating_1.mat",
                                        "val": 159
                                      },
                                      {
                                        "id": "idKtLhzsrw",
                                        "key": "C1701_V2Site2_3549Ch22_Laser_1.mat",
                                        "val": 160
                                      },
                                      {
                                        "id": "idxhgqxvzv",
                                        "key": "C1701_V2Site2_3549Ch22_OriGrating_1.mat",
                                        "val": 161
                                      },
                                      {
                                        "id": "idlcUFTr0N",
                                        "key": "C1701_V2Site2_3549Ch22_RFBarX4Deg_1.mat",
                                        "val": 162
                                      },
                                      {
                                        "id": "idsd8l6z1T",
                                        "key": "C1701_V2Site2_3549Ch22_RFBarY4Deg_1.mat",
                                        "val": 163
                                      },
                                      {
                                        "id": "idBGXEU1dZ",
                                        "key": "C1701_V2Site2_3549Ch22_RFGrating4Deg_1.mat",
                                        "val": 164
                                      },
                                      {
                                        "id": "idCY851ehd",
                                        "key": "C1701_V2Site2_3549Ch22_RFGrating4Deg_2.mat",
                                        "val": 165
                                      },
                                      {
                                        "id": "idhatveHtN",
                                        "key": "C1701_V2Site2_3549Ch22_RFGrating4Deg_3.mat",
                                        "val": 166
                                      },
                                      {
                                        "id": "id57t7BBVZ",
                                        "key": "C1701_V2Site2_3549Ch22_RFGrating4Deg_4.mat",
                                        "val": 167
                                      },
                                      {
                                        "id": "idvNdIFRQX",
                                        "key": "C1701_V2Site2_3549Ch22_RFGrating8Deg_1.mat",
                                        "val": 168
                                      },
                                      {
                                        "id": "idCQ6snXK0",
                                        "key": "C1701_V2Site2_3549Ch22_SpatialFreq_1.mat",
                                        "val": 169
                                      },
                                      {
                                        "id": "idA5FB2OJE",
                                        "key": "C1701_V2Site2_3549Ch22_SpatialFreq_2.mat",
                                        "val": 170
                                      },
                                      {
                                        "id": "idyGyd9jsz",
                                        "key": "C1701_V2Site2_3549Ch22_SpatialFreq_3.mat",
                                        "val": 171
                                      },
                                      {
                                        "id": "idLxwnro6E",
                                        "key": "C1701_V2Site2_3549Ch22_SpatialFreq_4.mat",
                                        "val": 172
                                      },
                                      {
                                        "id": "idYoxSUB2f",
                                        "key": "C1701_V2Site2_3549Ch22_TemporalFreq_1.mat",
                                        "val": 173
                                      },
                                      {
                                        "id": "idpgLuSsgS",
                                        "key": "C1701_V2Site3_3000Ch20_Contrast_1.mat",
                                        "val": 174
                                      },
                                      {
                                        "id": "id2G330QNA",
                                        "key": "C1701_V2Site3_3000Ch20_Diameter_1.mat",
                                        "val": 175
                                      },
                                      {
                                        "id": "idyFXhfrCE",
                                        "key": "C1701_V2Site3_3000Ch20_Image_1.mat",
                                        "val": 176
                                      },
                                      {
                                        "id": "id5nKk0Akk",
                                        "key": "C1701_V2Site3_3000Ch20_OriGrating_1.mat",
                                        "val": 177
                                      },
                                      {
                                        "id": "idOQrYbPDK",
                                        "key": "C1701_V2Site3_3000Ch20_RFBarX4Deg_1.mat",
                                        "val": 178
                                      },
                                      {
                                        "id": "idsf6G5YUf",
                                        "key": "C1701_V2Site3_3000Ch20_RFBarY4Deg_1.mat",
                                        "val": 179
                                      },
                                      {
                                        "id": "idSl1eKQe2",
                                        "key": "C1701_V2Site3_3000Ch20_RFGrating4Deg_1.mat",
                                        "val": 180
                                      },
                                      {
                                        "id": "idLtxiS7qc",
                                        "key": "C1701_V2Site3_3000Ch20_RFGrating8Deg_1.mat",
                                        "val": 181
                                      },
                                      {
                                        "id": "idI6FgEqw0",
                                        "key": "C1701_V2Site3_3000Ch20_SpatialFreq_1.mat",
                                        "val": 182
                                      },
                                      {
                                        "id": "idixmm13AN",
                                        "key": "C1701_V2Site3_3000Ch20_TemporalFreq_1.mat",
                                        "val": 183
                                      },
                                      {
                                        "id": "idxzEH5J6m",
                                        "key": "C1701_V2Site3_3000Ch23_Contrast_1.mat",
                                        "val": 184
                                      },
                                      {
                                        "id": "idxbWRudO5",
                                        "key": "C1701_V2Site3_3000Ch23_Image_1.mat",
                                        "val": 185
                                      },
                                      {
                                        "id": "idHR6fb3zx",
                                        "key": "C1701_V2Site3_3000_Diameter_1.mat",
                                        "val": 186
                                      },
                                      {
                                        "id": "idaAAyRYK4",
                                        "key": "C1701_V2Site3_3000_OriGrating_1.mat",
                                        "val": 187
                                      },
                                      {
                                        "id": "idjR3ny7ZM",
                                        "key": "C1701_V2Site3_3000_OriOffsetGrating_1.mat",
                                        "val": 188
                                      },
                                      {
                                        "id": "idAb6OsX1e",
                                        "key": "C1701_V2Site3_3000_RFBarX12Deg_1.mat",
                                        "val": 189
                                      },
                                      {
                                        "id": "id0oSvPEXr",
                                        "key": "C1701_V2Site3_3000_RFBarX4Deg_1.mat",
                                        "val": 190
                                      },
                                      {
                                        "id": "idsabtQZjp",
                                        "key": "C1701_V2Site3_3000_RFBarY12Deg_1.mat",
                                        "val": 191
                                      },
                                      {
                                        "id": "idVtGF4Iz1",
                                        "key": "C1701_V2Site3_3000_RFBarY4Deg_1.mat",
                                        "val": 192
                                      },
                                      {
                                        "id": "idjTVKndO9",
                                        "key": "C1701_V2Site3_3000_RFGrating4Deg_1.mat",
                                        "val": 193
                                      },
                                      {
                                        "id": "id62EIAvKW",
                                        "key": "C1701_V2Site3_3000_RFGrating8Deg_1.mat",
                                        "val": 194
                                      },
                                      {
                                        "id": "idXdGYCAb5",
                                        "key": "C1701_V2Site3_3000_SpatialFreq_1.mat",
                                        "val": 195
                                      },
                                      {
                                        "id": "idcXFEWt03",
                                        "key": "C1701_V2Site3_3000_TemporalFreq_1.mat",
                                        "val": 196
                                      },
                                      {
                                        "id": "idA4nj2wLi",
                                        "key": "C1701_V2Site3_3544Ch23_Contrast_1.mat",
                                        "val": 197
                                      },
                                      {
                                        "id": "idmuQ1KT2t",
                                        "key": "C1701_V2Site3_3544Ch23_Contrast_2.mat",
                                        "val": 198
                                      },
                                      {
                                        "id": "idedS9zTyM",
                                        "key": "C1701_V2Site3_3544Ch23_Diameter_1.mat",
                                        "val": 199
                                      },
                                      {
                                        "id": "idAli7XRoB",
                                        "key": "C1701_V2Site3_3544Ch23_Diameter_2.mat",
                                        "val": 200
                                      },
                                      {
                                        "id": "iduomUQiQc",
                                        "key": "C1701_V2Site3_3544Ch23_Image_1.mat",
                                        "val": 201
                                      },
                                      {
                                        "id": "idrcH3MZfm",
                                        "key": "C1701_V2Site3_3544Ch23_Image_2.mat",
                                        "val": 202
                                      },
                                      {
                                        "id": "idvGWK9sK1",
                                        "key": "C1701_V2Site3_3544Ch23_Image_3.mat",
                                        "val": 203
                                      },
                                      {
                                        "id": "idZVUOzxZ4",
                                        "key": "C1701_V2Site3_3544Ch23_Image_4.mat",
                                        "val": 204
                                      },
                                      {
                                        "id": "idaWCszxHH",
                                        "key": "C1701_V2Site3_3544Ch23_OriGrating_1.mat",
                                        "val": 205
                                      },
                                      {
                                        "id": "idbUIQccVP",
                                        "key": "C1701_V2Site3_3544Ch23_OriGrating_2.mat",
                                        "val": 206
                                      },
                                      {
                                        "id": "idfKE2eScf",
                                        "key": "C1701_V2Site3_3544Ch23_RFBarX12Deg_1.mat",
                                        "val": 207
                                      },
                                      {
                                        "id": "idbeFrrzCj",
                                        "key": "C1701_V2Site3_3544Ch23_RFBarX12Deg_2.mat",
                                        "val": 208
                                      },
                                      {
                                        "id": "idLenFohJO",
                                        "key": "C1701_V2Site3_3544Ch23_RFBarY12Deg_1.mat",
                                        "val": 209
                                      },
                                      {
                                        "id": "idh2hAMW7V",
                                        "key": "C1701_V2Site3_3544Ch23_RFBarY12Deg_2.mat",
                                        "val": 210
                                      },
                                      {
                                        "id": "id67ZqXb8l",
                                        "key": "C1701_V2Site3_3544Ch23_RFBarY12Deg_3.mat",
                                        "val": 211
                                      },
                                      {
                                        "id": "idF7AdFStO",
                                        "key": "C1701_V2Site3_3544Ch23_RFBarY4Deg_1.mat",
                                        "val": 212
                                      },
                                      {
                                        "id": "idydlmOfe3",
                                        "key": "C1701_V2Site3_3544Ch23_RFGrating4Deg_1.mat",
                                        "val": 213
                                      },
                                      {
                                        "id": "idHhfIgcqD",
                                        "key": "C1701_V2Site3_3544Ch23_RFGrating8Deg_1.mat",
                                        "val": 214
                                      },
                                      {
                                        "id": "idtloutpIv",
                                        "key": "C1701_V2Site3_3544Ch23_RFGrating8Deg_2.mat",
                                        "val": 215
                                      },
                                      {
                                        "id": "id1jAREvQe",
                                        "key": "C1701_V2Site3_3544Ch23_RFGrating8Deg_3.mat",
                                        "val": 216
                                      },
                                      {
                                        "id": "idVeBuHPII",
                                        "key": "C1701_V2Site3_3544Ch23_SpatialFreq_1.mat",
                                        "val": 217
                                      },
                                      {
                                        "id": "idMOj1gKAJ",
                                        "key": "C1701_V2Site3_3544Ch23_SpatialFreq_2.mat",
                                        "val": 218
                                      },
                                      {
                                        "id": "idNRsWXkPz",
                                        "key": "C1701_V2Site3_3544Ch23_TemporalFreq_1.mat",
                                        "val": 219
                                      },
                                      {
                                        "id": "idvFqa831G",
                                        "key": "C1701_V2Site3_3544Ch23_TemporalFreq_2.mat",
                                        "val": 220
                                      },
                                      {
                                        "id": "idyVSwso4n",
                                        "key": "C1701_V2Site3_4500Ch20_Diameter_1.mat",
                                        "val": 221
                                      },
                                      {
                                        "id": "idtY5QIbuT",
                                        "key": "C1701_V2Site3_4500Ch20_Image_1.mat",
                                        "val": 222
                                      },
                                      {
                                        "id": "idtepllGNr",
                                        "key": "C1701_V2Site3_4500Ch20_OriGrating_1.mat",
                                        "val": 223
                                      },
                                      {
                                        "id": "idVfRK81Rf",
                                        "key": "C1701_V2Site3_4500Ch20_RFBarX12Deg_1.mat",
                                        "val": 224
                                      },
                                      {
                                        "id": "idkIyyYbY1",
                                        "key": "C1701_V2Site3_4500Ch20_RFBarY12Deg_1.mat",
                                        "val": 225
                                      },
                                      {
                                        "id": "idBrBzib1X",
                                        "key": "C1701_V2Site3_4500Ch20_RFGrating8Deg_1.mat",
                                        "val": 226
                                      },
                                      {
                                        "id": "idwY5Ihrx7",
                                        "key": "C1701_V2Site3_4500Ch20_RFGrating8Deg_2.mat",
                                        "val": 227
                                      },
                                      {
                                        "id": "idBcn2UKhf",
                                        "key": "C1701_V2Site3_4500Ch20_SpatialFreq_1.mat",
                                        "val": 228
                                      },
                                      {
                                        "id": "iddUh77dOL",
                                        "key": "C1701_V2Site3_4500Ch20_TemporalFreq_1.mat",
                                        "val": 229
                                      },
                                      {
                                        "id": "idqmY99KXV",
                                        "key": "C1701_V2Site4_3200Ch13_Contrast_1.mat",
                                        "val": 230
                                      },
                                      {
                                        "id": "idbwx8pbjs",
                                        "key": "C1701_V2Site4_3200Ch13_Diameter_1.mat",
                                        "val": 231
                                      },
                                      {
                                        "id": "idXyVyXkXM",
                                        "key": "C1701_V2Site4_3200Ch13_Image_1.mat",
                                        "val": 232
                                      },
                                      {
                                        "id": "idISUJeubW",
                                        "key": "C1701_V2Site4_3200Ch13_Image_2.mat",
                                        "val": 233
                                      },
                                      {
                                        "id": "idndFfrOXu",
                                        "key": "C1701_V2Site4_3200Ch13_OriGrating_1.mat",
                                        "val": 234
                                      },
                                      {
                                        "id": "idnXtJoWii",
                                        "key": "C1701_V2Site4_3200Ch13_RFBarX12Deg_1.mat",
                                        "val": 235
                                      },
                                      {
                                        "id": "idmzFtkOe9",
                                        "key": "C1701_V2Site4_3200Ch13_RFBarY12Deg_1.mat",
                                        "val": 236
                                      },
                                      {
                                        "id": "idnaML8411",
                                        "key": "C1701_V2Site4_3200Ch13_RFGrating24Deg_1.mat",
                                        "val": 237
                                      },
                                      {
                                        "id": "idi1u5AYEA",
                                        "key": "C1701_V2Site4_3200Ch13_SpatialFreq_1.mat",
                                        "val": 238
                                      },
                                      {
                                        "id": "id2DVuTT1F",
                                        "key": "C1701_V2Site4_3200Ch13_TemporalFreq_1.mat",
                                        "val": 239
                                      },
                                      {
                                        "id": "id04dSHQMo",
                                        "key": "C1701_V2Site5_3200Ch18_Contrast_1.mat",
                                        "val": 240
                                      },
                                      {
                                        "id": "iduWLnDWkt",
                                        "key": "C1701_V2Site5_3200Ch18_Contrast_2.mat",
                                        "val": 241
                                      },
                                      {
                                        "id": "idS48avQau",
                                        "key": "C1701_V2Site5_3200Ch18_Diameter_1.mat",
                                        "val": 242
                                      },
                                      {
                                        "id": "idgg6Bu1Rv",
                                        "key": "C1701_V2Site5_3200Ch18_Diameter_2.mat",
                                        "val": 243
                                      },
                                      {
                                        "id": "idHWQuGOSa",
                                        "key": "C1701_V2Site5_3200Ch18_Image_1.mat",
                                        "val": 244
                                      },
                                      {
                                        "id": "idBWZMiiHh",
                                        "key": "C1701_V2Site5_3200Ch18_OriGrating_1.mat",
                                        "val": 245
                                      },
                                      {
                                        "id": "idbNdKcJ4h",
                                        "key": "C1701_V2Site5_3200Ch18_OriGrating_2.mat",
                                        "val": 246
                                      },
                                      {
                                        "id": "idU1lLHLjZ",
                                        "key": "C1701_V2Site5_3200Ch18_RFBarX4Deg_1.mat",
                                        "val": 247
                                      },
                                      {
                                        "id": "idl3DZ3g2I",
                                        "key": "C1701_V2Site5_3200Ch18_RFBarY4Deg_1.mat",
                                        "val": 248
                                      },
                                      {
                                        "id": "idSWqpuqKd",
                                        "key": "C1701_V2Site5_3200Ch18_RFGrating24Deg_1.mat",
                                        "val": 249
                                      },
                                      {
                                        "id": "id929Gpo0F",
                                        "key": "C1701_V2Site5_3200Ch18_RFGrating8Deg_1.mat",
                                        "val": 250
                                      },
                                      {
                                        "id": "idJmhd0QAh",
                                        "key": "C1701_V2Site5_3200Ch18_SpatialFreq_1.mat",
                                        "val": 251
                                      },
                                      {
                                        "id": "idzgMk229W",
                                        "key": "C1701_V2Site5_3200Ch18_SpatialFreq_2.mat",
                                        "val": 252
                                      },
                                      {
                                        "id": "idKoUDXzfa",
                                        "key": "C1701_V2Site5_3200Ch18_SpatialFreq_3.mat",
                                        "val": 253
                                      },
                                      {
                                        "id": "idBvRCA3w6",
                                        "key": "C1701_V2Site5_3200Ch18_SpatialFreq_4.mat",
                                        "val": 254
                                      },
                                      {
                                        "id": "idhdNFVO5b",
                                        "key": "C1701_V2Site5_3200Ch18_TemporalFreq_1.mat",
                                        "val": 255
                                      },
                                      {
                                        "id": "idHCBNQvHP",
                                        "key": "C1701_V2Site5_3200Ch18_TemporalFreq_2.mat",
                                        "val": 256
                                      },
                                      {
                                        "id": "idRM6TIAQO",
                                        "key": "C1701_V2Site5_3200Ch18_TemporalFreq_3.mat",
                                        "val": 257
                                      },
                                      {
                                        "id": "idubPrnPaE",
                                        "key": "C1701_V2Site5_3200Ch22_Diameter_1.mat",
                                        "val": 258
                                      },
                                      {
                                        "id": "idekvRzKKQ",
                                        "key": "C1701_V2Site5_3200Ch22_Diameter_2.mat",
                                        "val": 259
                                      },
                                      {
                                        "id": "idVj2WnjaN",
                                        "key": "C1701_V2Site5_3200Ch22_Image_1.mat",
                                        "val": 260
                                      },
                                      {
                                        "id": "idHiB4mqnb",
                                        "key": "C1701_V2Site5_3200Ch22_OriGrating_1.mat",
                                        "val": 261
                                      },
                                      {
                                        "id": "id8iV92zvs",
                                        "key": "C1701_V2Site5_3200Ch22_RFBarX12Deg_1.mat",
                                        "val": 262
                                      },
                                      {
                                        "id": "idYenGyzzL",
                                        "key": "C1701_V2Site5_3200Ch22_RFBarY12Deg_1.mat",
                                        "val": 263
                                      },
                                      {
                                        "id": "idhG6uFcJm",
                                        "key": "C1701_V2Site5_3200Ch22_RFGrating24Deg_1.mat",
                                        "val": 264
                                      },
                                      {
                                        "id": "idPf9Ftwc1",
                                        "key": "C1701_V2Site5_3200Ch22_SpatialFreq_1.mat",
                                        "val": 265
                                      },
                                      {
                                        "id": "idDMCm74uK",
                                        "key": "C1701_V2Site5_3200Ch22_TemporalFreq_1.mat",
                                        "val": 266
                                      },
                                      {
                                        "id": "idaFd8tY3m",
                                        "key": "C1701_V2Site5_3200Ch23_Diameter_1.mat",
                                        "val": 267
                                      },
                                      {
                                        "id": "idValjrtbz",
                                        "key": "C1701_V2Site5_3200Ch23_Image_1.mat",
                                        "val": 268
                                      },
                                      {
                                        "id": "idqIb9tigU",
                                        "key": "C1701_V2Site5_3200Ch23_OriGrating_1.mat",
                                        "val": 269
                                      },
                                      {
                                        "id": "idwtlMNumK",
                                        "key": "C1701_V2Site5_3200Ch23_RFBarX12Deg_1.mat",
                                        "val": 270
                                      },
                                      {
                                        "id": "iduldrktpp",
                                        "key": "C1701_V2Site5_3200Ch23_RFBarY12Deg_1.mat",
                                        "val": 271
                                      },
                                      {
                                        "id": "idNQYPoS0Y",
                                        "key": "C1701_V2Site5_3200Ch23_RFGrating8Deg_1.mat",
                                        "val": 272
                                      },
                                      {
                                        "id": "id8FqzU3g5",
                                        "key": "C1701_V2Site5_3200Ch23_RFGrating8Deg_2.mat",
                                        "val": 273
                                      },
                                      {
                                        "id": "idbbKC0iYS",
                                        "key": "C1701_V2Site5_3200Ch23_SpatialFreq_1.mat",
                                        "val": 274
                                      },
                                      {
                                        "id": "idULLW9pzA",
                                        "key": "C1701_V2Site5_3200Ch23_TemporalFreq_1.mat",
                                        "val": 275
                                      },
                                      {
                                        "id": "id9aSxdSIv",
                                        "key": "C1701_V2Site5_3200Ch6_Contrast_1.mat",
                                        "val": 276
                                      },
                                      {
                                        "id": "id6iit4Gq4",
                                        "key": "C1701_V2Site5_3200Ch6_Diameter_1.mat",
                                        "val": 277
                                      },
                                      {
                                        "id": "id89gp9u2W",
                                        "key": "C1701_V2Site5_3200Ch6_Image_1.mat",
                                        "val": 278
                                      },
                                      {
                                        "id": "idJXVH8Cjj",
                                        "key": "C1701_V2Site5_3200Ch6_OriGrating_1.mat",
                                        "val": 279
                                      },
                                      {
                                        "id": "idX8GAllkW",
                                        "key": "C1701_V2Site5_3200Ch6_OriGrating_2.mat",
                                        "val": 280
                                      },
                                      {
                                        "id": "idipKZ5aJF",
                                        "key": "C1701_V2Site5_3200Ch6_RFBarX12Deg_1.mat",
                                        "val": 281
                                      },
                                      {
                                        "id": "idWRaHI7LB",
                                        "key": "C1701_V2Site5_3200Ch6_RFBarX4Deg_1.mat",
                                        "val": 282
                                      },
                                      {
                                        "id": "idB4SDCUBh",
                                        "key": "C1701_V2Site5_3200Ch6_RFBarY12Deg_1.mat",
                                        "val": 283
                                      },
                                      {
                                        "id": "idXnbTnNlW",
                                        "key": "C1701_V2Site5_3200Ch6_RFBarY4Deg_1.mat",
                                        "val": 284
                                      },
                                      {
                                        "id": "idBZrdpVUH",
                                        "key": "C1701_V2Site5_3200Ch6_RFGrating12Deg_1.mat",
                                        "val": 285
                                      },
                                      {
                                        "id": "idG8R5MnfU",
                                        "key": "C1701_V2Site5_3200Ch6_RFGrating12Deg_2.mat",
                                        "val": 286
                                      },
                                      {
                                        "id": "idmLJLKsR1",
                                        "key": "C1701_V2Site5_3200Ch6_SpatialFreq_1.mat",
                                        "val": 287
                                      },
                                      {
                                        "id": "idWYGcvJcg",
                                        "key": "C1701_V2Site5_3200Ch6_SpatialFreq_2.mat",
                                        "val": 288
                                      },
                                      {
                                        "id": "idTT8PMfwW",
                                        "key": "C1701_V2Site5_3200Ch6_TemporalFreq_1.mat",
                                        "val": 289
                                      },
                                      {
                                        "id": "id3uGwhYSS",
                                        "key": "C1701_V2Site5_3200Ch6_TemporalFreq_2.mat",
                                        "val": 290
                                      }
                                    ]
                                  }
                                },
                                "systemjs_options": null
                              },
                              "nodeType": "Scope",
                              "props": {},
                              "type": "node"
                            }
                          ],
                          "instanceArgs": {
                            "namespace": "html",
                            "tag": "div"
                          },
                          "nodeType": "DOM",
                          "props": {
                            "className": "field"
                          },
                          "type": "node"
                        }
                      }
                    },
                    "systemjs_options": null
                  },
                  "nodeType": "Scope",
                  "props": {},
                  "type": "node"
                }
              ],
              "instanceArgs": {
                "namespace": "html",
                "tag": "div"
              },
              "nodeType": "DOM",
              "props": {
                "style": {
                  "display": "flex",
                  "flex-direction": "row"
                }
              },
              "type": "node"
            },
            "text/html": [
              "<div\n",
              "    class=\"webio-mountpoint\"\n",
              "    data-webio-mountpoint=\"10112235199755308842\"\n",
              ">\n",
              "    <script>\n",
              "    if (window.require && require.defined && require.defined(\"nbextensions/webio/main\")) {\n",
              "        console.log(\"Jupyter WebIO extension detected, not mounting.\");\n",
              "    } else if (window.WebIO) {\n",
              "        WebIO.mount(\n",
              "            document.querySelector('[data-webio-mountpoint=\"10112235199755308842\"]'),\n",
              "            {\"props\":{\"style\":{\"display\":\"flex\",\"flex-direction\":\"row\"}},\"nodeType\":\"DOM\",\"type\":\"node\",\"instanceArgs\":{\"namespace\":\"html\",\"tag\":\"div\"},\"children\":[{\"props\":{\"className\":\"field\"},\"nodeType\":\"DOM\",\"type\":\"node\",\"instanceArgs\":{\"namespace\":\"html\",\"tag\":\"div\"},\"children\":[{\"props\":{},\"nodeType\":\"Scope\",\"type\":\"node\",\"instanceArgs\":{\"imports\":{\"data\":[{\"name\":\"knockout\",\"type\":\"js\",\"url\":\"\\/assetserver\\/fe7d3ce0ef73fffe4b07398d3eaf1c1a335ed6ac-knockout.js\"},{\"name\":\"knockout_punches\",\"type\":\"js\",\"url\":\"\\/assetserver\\/1764b91a11ffe5a6c57c5d605079ccde5ddd28a1-knockout_punches.js\"},{\"name\":null,\"type\":\"js\",\"url\":\"\\/assetserver\\/239a0709d1bd89d06f348c62cad4467504786b78-all.js\"},{\"name\":null,\"type\":\"css\",\"url\":\"\\/assetserver\\/88fd8714ccb6031b47bd164292283bc40f0e5b56-style.css\"},{\"name\":null,\"type\":\"css\",\"url\":\"\\/assetserver\\/593c6eca1d291d88375fe32d6fd7993aadb13589-main.css\"}],\"type\":\"async_block\"},\"id\":\"knockout-component-a4d59cdd-ae35-4d7e-bc3a-2a0a4a6ba94b\",\"handlers\":{\"_promises\":{\"importsLoaded\":[\"function (ko, koPunches) {\\n    ko.punches.enableAll();\\n    ko.bindingHandlers.numericValue = {\\n        init : function(element, valueAccessor, allBindings, data, context) {\\n            var stringified = ko.observable(ko.unwrap(valueAccessor()));\\n            stringified.subscribe(function(value) {\\n                var val = parseFloat(value);\\n                if (!isNaN(val)) {\\n                    valueAccessor()(val);\\n                }\\n            })\\n            valueAccessor().subscribe(function(value) {\\n                var str = JSON.stringify(value);\\n                if ((str == \\\"0\\\") && ([\\\"-0\\\", \\\"-0.\\\"].indexOf(stringified()) >= 0))\\n                     return;\\n                 if ([\\\"null\\\", \\\"\\\"].indexOf(str) >= 0)\\n                     return;\\n                stringified(str);\\n            })\\n            ko.applyBindingsToNode(element, { value: stringified, valueUpdate: allBindings.get('valueUpdate')}, context);\\n        }\\n    };\\n    var json_data = JSON.parse(\\\"{\\\\\\\"options_js\\\\\\\":[{\\\\\\\"key\\\\\\\":\\\\\\\"C1701\\\\\\\",\\\\\\\"val\\\\\\\":1,\\\\\\\"id\\\\\\\":\\\\\\\"idhiV2MKac\\\\\\\"},{\\\\\\\"key\\\\\\\":\\\\\\\"C1702\\\\\\\",\\\\\\\"val\\\\\\\":2,\\\\\\\"id\\\\\\\":\\\\\\\"idyEDofbjg\\\\\\\"},{\\\\\\\"key\\\\\\\":\\\\\\\"C1801\\\\\\\",\\\\\\\"val\\\\\\\":3,\\\\\\\"id\\\\\\\":\\\\\\\"idcUM8vUN5\\\\\\\"},{\\\\\\\"key\\\\\\\":\\\\\\\"C1901\\\\\\\",\\\\\\\"val\\\\\\\":4,\\\\\\\"id\\\\\\\":\\\\\\\"idg8YnQdII\\\\\\\"},{\\\\\\\"key\\\\\\\":\\\\\\\"LSR1801\\\\\\\",\\\\\\\"val\\\\\\\":5,\\\\\\\"id\\\\\\\":\\\\\\\"idJ0xsv6D1\\\\\\\"},{\\\\\\\"key\\\\\\\":\\\\\\\"LSR1803\\\\\\\",\\\\\\\"val\\\\\\\":6,\\\\\\\"id\\\\\\\":\\\\\\\"idAtakdpZs\\\\\\\"},{\\\\\\\"key\\\\\\\":\\\\\\\"LZR1602\\\\\\\",\\\\\\\"val\\\\\\\":7,\\\\\\\"id\\\\\\\":\\\\\\\"idsgx0Nu45\\\\\\\"},{\\\\\\\"key\\\\\\\":\\\\\\\"LZR1603\\\\\\\",\\\\\\\"val\\\\\\\":8,\\\\\\\"id\\\\\\\":\\\\\\\"idhXOTH2Jh\\\\\\\"},{\\\\\\\"key\\\\\\\":\\\\\\\"LZR1604\\\\\\\",\\\\\\\"val\\\\\\\":9,\\\\\\\"id\\\\\\\":\\\\\\\"idmbIyIcGs\\\\\\\"},{\\\\\\\"key\\\\\\\":\\\\\\\"LZR1801\\\\\\\",\\\\\\\"val\\\\\\\":10,\\\\\\\"id\\\\\\\":\\\\\\\"idS0HsNCcr\\\\\\\"},{\\\\\\\"key\\\\\\\":\\\\\\\"LZR1802\\\\\\\",\\\\\\\"val\\\\\\\":11,\\\\\\\"id\\\\\\\":\\\\\\\"idaAjv6rxt\\\\\\\"},{\\\\\\\"key\\\\\\\":\\\\\\\"LZR1803\\\\\\\",\\\\\\\"val\\\\\\\":12,\\\\\\\"id\\\\\\\":\\\\\\\"idPvbzizo8\\\\\\\"},{\\\\\\\"key\\\\\\\":\\\\\\\"metadata.mat\\\\\\\",\\\\\\\"val\\\\\\\":13,\\\\\\\"id\\\\\\\":\\\\\\\"idxylnPBTi\\\\\\\"}],\\\\\\\"index\\\\\\\":1}\\\");\\n    var self = this;\\n    function AppViewModel() {\\n        for (var key in json_data) {\\n            var el = json_data[key];\\n            this[key] = Array.isArray(el) ? ko.observableArray(el) : ko.observable(el);\\n        }\\n        [this[\\\"disablePlaceholder\\\"]=function(option, item) {\\n    ko.applyBindingsToNode(option, {disable: item.val == 0}, item);\\n}\\n]\\n        \\n        [this[\\\"options_js\\\"].subscribe((function (val){!(this.valueFromJulia[\\\"options_js\\\"]) ? (_webIOScope.setObservableValue({\\\"name\\\":\\\"options_js\\\",\\\"scope\\\":\\\"knockout-component-a4d59cdd-ae35-4d7e-bc3a-2a0a4a6ba94b\\\",\\\"id\\\":\\\"ob_17\\\",\\\"type\\\":\\\"observable\\\"},val)) : undefined; return this.valueFromJulia[\\\"options_js\\\"]=false}),self),this[\\\"index\\\"].subscribe((function (val){!(this.valueFromJulia[\\\"index\\\"]) ? (_webIOScope.setObservableValue({\\\"name\\\":\\\"index\\\",\\\"scope\\\":\\\"knockout-component-a4d59cdd-ae35-4d7e-bc3a-2a0a4a6ba94b\\\",\\\"id\\\":\\\"ob_16\\\",\\\"type\\\":\\\"observable\\\"},val)) : undefined; return this.valueFromJulia[\\\"index\\\"]=false}),self)]\\n        \\n    }\\n    self.model = new AppViewModel();\\n    self.valueFromJulia = {};\\n    for (var key in json_data) {\\n        self.valueFromJulia[key] = false;\\n    }\\n    ko.applyBindings(self.model, self.dom);\\n}\\n\"]},\"options_js\":[\"(function (val){return (val!=this.model[\\\"options_js\\\"]()) ? (this.valueFromJulia[\\\"options_js\\\"]=true, this.model[\\\"options_js\\\"](val)) : undefined})\"],\"index\":[\"(function (val){return (val!=this.model[\\\"index\\\"]()) ? (this.valueFromJulia[\\\"index\\\"]=true, this.model[\\\"index\\\"](val)) : undefined})\"]},\"systemjs_options\":null,\"observables\":{\"options_js\":{\"sync\":false,\"id\":\"ob_17\",\"value\":[{\"key\":\"C1701\",\"val\":1,\"id\":\"idhiV2MKac\"},{\"key\":\"C1702\",\"val\":2,\"id\":\"idyEDofbjg\"},{\"key\":\"C1801\",\"val\":3,\"id\":\"idcUM8vUN5\"},{\"key\":\"C1901\",\"val\":4,\"id\":\"idg8YnQdII\"},{\"key\":\"LSR1801\",\"val\":5,\"id\":\"idJ0xsv6D1\"},{\"key\":\"LSR1803\",\"val\":6,\"id\":\"idAtakdpZs\"},{\"key\":\"LZR1602\",\"val\":7,\"id\":\"idsgx0Nu45\"},{\"key\":\"LZR1603\",\"val\":8,\"id\":\"idhXOTH2Jh\"},{\"key\":\"LZR1604\",\"val\":9,\"id\":\"idmbIyIcGs\"},{\"key\":\"LZR1801\",\"val\":10,\"id\":\"idS0HsNCcr\"},{\"key\":\"LZR1802\",\"val\":11,\"id\":\"idaAjv6rxt\"},{\"key\":\"LZR1803\",\"val\":12,\"id\":\"idPvbzizo8\"},{\"key\":\"metadata.mat\",\"val\":13,\"id\":\"idxylnPBTi\"}]},\"index\":{\"sync\":true,\"id\":\"ob_16\",\"value\":1}}},\"children\":[{\"props\":{\"style\":{\"display\":\"flex\",\"flex-direction\":\"column\"}},\"nodeType\":\"DOM\",\"type\":\"node\",\"instanceArgs\":{\"namespace\":\"html\",\"tag\":\"div\"},\"children\":[\"Subject\",{\"props\":{\"className\":\"select \"},\"nodeType\":\"DOM\",\"type\":\"node\",\"instanceArgs\":{\"namespace\":\"html\",\"tag\":\"div\"},\"children\":[{\"props\":{\"attributes\":{\"data-bind\":\"options : options_js, value : index, optionsText: 'key', optionsValue: 'val', valueAllowUnset: true, optionsAfterRender: disablePlaceholder\"}},\"nodeType\":\"DOM\",\"type\":\"node\",\"instanceArgs\":{\"namespace\":\"html\",\"tag\":\"select\"},\"children\":[]}]}]}]}]},{\"props\":{},\"nodeType\":\"Scope\",\"type\":\"node\",\"instanceArgs\":{\"imports\":{\"data\":[],\"type\":\"async_block\"},\"id\":\"scope-035b4abb-a24f-4c9d-b3a2-562ddd929e67\",\"handlers\":{},\"systemjs_options\":null,\"observables\":{\"obs-scope\":{\"sync\":false,\"id\":\"ob_24\",\"value\":{\"props\":{\"className\":\"field\"},\"nodeType\":\"DOM\",\"type\":\"node\",\"instanceArgs\":{\"namespace\":\"html\",\"tag\":\"div\"},\"children\":[{\"props\":{},\"nodeType\":\"Scope\",\"type\":\"node\",\"instanceArgs\":{\"imports\":{\"data\":[{\"name\":\"knockout\",\"type\":\"js\",\"url\":\"\\/assetserver\\/fe7d3ce0ef73fffe4b07398d3eaf1c1a335ed6ac-knockout.js\"},{\"name\":\"knockout_punches\",\"type\":\"js\",\"url\":\"\\/assetserver\\/1764b91a11ffe5a6c57c5d605079ccde5ddd28a1-knockout_punches.js\"},{\"name\":null,\"type\":\"js\",\"url\":\"\\/assetserver\\/239a0709d1bd89d06f348c62cad4467504786b78-all.js\"},{\"name\":null,\"type\":\"css\",\"url\":\"\\/assetserver\\/88fd8714ccb6031b47bd164292283bc40f0e5b56-style.css\"},{\"name\":null,\"type\":\"css\",\"url\":\"\\/assetserver\\/593c6eca1d291d88375fe32d6fd7993aadb13589-main.css\"}],\"type\":\"async_block\"},\"id\":\"knockout-component-d4986eae-cabd-4177-9d21-015683b55a8d\",\"handlers\":{\"_promises\":{\"importsLoaded\":[\"function (ko, koPunches) {\\n    ko.punches.enableAll();\\n    ko.bindingHandlers.numericValue = {\\n        init : function(element, valueAccessor, allBindings, data, context) {\\n            var stringified = ko.observable(ko.unwrap(valueAccessor()));\\n            stringified.subscribe(function(value) {\\n                var val = parseFloat(value);\\n                if (!isNaN(val)) {\\n                    valueAccessor()(val);\\n                }\\n            })\\n            valueAccessor().subscribe(function(value) {\\n                var str = JSON.stringify(value);\\n                if ((str == \\\"0\\\") && ([\\\"-0\\\", \\\"-0.\\\"].indexOf(stringified()) >= 0))\\n                     return;\\n                 if ([\\\"null\\\", \\\"\\\"].indexOf(str) >= 0)\\n                     return;\\n                stringified(str);\\n            })\\n            ko.applyBindingsToNode(element, { value: stringified, valueUpdate: allBindings.get('valueUpdate')}, context);\\n        }\\n    };\\n    var json_data = JSON.parse(\\\"{\\\\\\\"options_js\\\\\\\":[{\\\\\\\"key\\\\\\\":\\\\\\\"C1701_V2Site1_3000Ch21_Diameter_1.mat\\\\\\\",\\\\\\\"val\\\\\\\":1,\\\\\\\"id\\\\\\\":\\\\\\\"idSLfU9FGg\\\\\\\"},{\\\\\\\"key\\\\\\\":\\\\\\\"C1701_V2Site1_3000Ch21_Diameter_2.mat\\\\\\\",\\\\\\\"val\\\\\\\":2,\\\\\\\"id\\\\\\\":\\\\\\\"idtmvkAul7\\\\\\\"},{\\\\\\\"key\\\\\\\":\\\\\\\"C1701_V2Site1_3000Ch21_Diameter_3.mat\\\\\\\",\\\\\\\"val\\\\\\\":3,\\\\\\\"id\\\\\\\":\\\\\\\"idEGee0moI\\\\\\\"},{\\\\\\\"key\\\\\\\":\\\\\\\"C1701_V2Site1_3000Ch21_Diameter_4.mat\\\\\\\",\\\\\\\"val\\\\\\\":4,\\\\\\\"id\\\\\\\":\\\\\\\"id7x5WGe9x\\\\\\\"},{\\\\\\\"key\\\\\\\":\\\\\\\"C1701_V2Site1_3000Ch21_Diameter_5.mat\\\\\\\",\\\\\\\"val\\\\\\\":5,\\\\\\\"id\\\\\\\":\\\\\\\"id10qHMy9M\\\\\\\"},{\\\\\\\"key\\\\\\\":\\\\\\\"C1701_V2Site1_3000Ch21_Diameter_6.mat\\\\\\\",\\\\\\\"val\\\\\\\":6,\\\\\\\"id\\\\\\\":\\\\\\\"idbGJzUgsC\\\\\\\"},{\\\\\\\"key\\\\\\\":\\\\\\\"C1701_V2Site1_3000Ch21_Diameter_7.mat\\\\\\\",\\\\\\\"val\\\\\\\":7,\\\\\\\"id\\\\\\\":\\\\\\\"idz6fQRmI6\\\\\\\"},{\\\\\\\"key\\\\\\\":\\\\\\\"C1701_V2Site1_3000Ch21_Image_1.mat\\\\\\\",\\\\\\\"val\\\\\\\":8,\\\\\\\"id\\\\\\\":\\\\\\\"idS4PiXaMx\\\\\\\"},{\\\\\\\"key\\\\\\\":\\\\\\\"C1701_V2Site1_3000Ch21_Image_2.mat\\\\\\\",\\\\\\\"val\\\\\\\":9,\\\\\\\"id\\\\\\\":\\\\\\\"idTEzrrbuR\\\\\\\"},{\\\\\\\"key\\\\\\\":\\\\\\\"C1701_V2Site1_3000Ch21_OriGrating_1.mat\\\\\\\",\\\\\\\"val\\\\\\\":10,\\\\\\\"id\\\\\\\":\\\\\\\"id00Zod3Nv\\\\\\\"},{\\\\\\\"key\\\\\\\":\\\\\\\"C1701_V2Site1_3000Ch21_OriGrating_2.mat\\\\\\\",\\\\\\\"val\\\\\\\":11,\\\\\\\"id\\\\\\\":\\\\\\\"idtey04q8Z\\\\\\\"},{\\\\\\\"key\\\\\\\":\\\\\\\"C1701_V2Site1_3000Ch21_OriGrating_3.mat\\\\\\\",\\\\\\\"val\\\\\\\":12,\\\\\\\"id\\\\\\\":\\\\\\\"id6jNd3nr8\\\\\\\"},{\\\\\\\"key\\\\\\\":\\\\\\\"C1701_V2Site1_3000Ch21_OriOffsetGrating_1.mat\\\\\\\",\\\\\\\"val\\\\\\\":13,\\\\\\\"id\\\\\\\":\\\\\\\"idMwLvfq4Q\\\\\\\"},{\\\\\\\"key\\\\\\\":\\\\\\\"C1701_V2Site1_3000Ch21_OriOffsetGrating_2.mat\\\\\\\",\\\\\\\"val\\\\\\\":14,\\\\\\\"id\\\\\\\":\\\\\\\"id17EFZDz7\\\\\\\"},{\\\\\\\"key\\\\\\\":\\\\\\\"C1701_V2Site1_3000Ch21_RFBarX4Deg_1.mat\\\\\\\",\\\\\\\"val\\\\\\\":15,\\\\\\\"id\\\\\\\":\\\\\\\"idLuA3gCCL\\\\\\\"},{\\\\\\\"key\\\\\\\":\\\\\\\"C1701_V2Site1_3000Ch21_RFBarX4Deg_2.mat\\\\\\\",\\\\\\\"val\\\\\\\":16,\\\\\\\"id\\\\\\\":\\\\\\\"id1sP6N9GZ\\\\\\\"},{\\\\\\\"key\\\\\\\":\\\\\\\"C1701_V2Site1_3000Ch21_RFBarY2Deg_1.mat\\\\\\\",\\\\\\\"val\\\\\\\":17,\\\\\\\"id\\\\\\\":\\\\\\\"id5RCuxdQu\\\\\\\"},{\\\\\\\"key\\\\\\\":\\\\\\\"C1701_V2Site1_3000Ch21_RFBarY4Deg_1.mat\\\\\\\",\\\\\\\"val\\\\\\\":18,\\\\\\\"id\\\\\\\":\\\\\\\"idH3W839hm\\\\\\\"},{\\\\\\\"key\\\\\\\":\\\\\\\"C1701_V2Site1_3000Ch21_RFBarY4Deg_2.mat\\\\\\\",\\\\\\\"val\\\\\\\":19,\\\\\\\"id\\\\\\\":\\\\\\\"idZXUeRagR\\\\\\\"},{\\\\\\\"key\\\\\\\":\\\\\\\"C1701_V2Site1_3000Ch21_RFBarY4Deg_3.mat\\\\\\\",\\\\\\\"val\\\\\\\":20,\\\\\\\"id\\\\\\\":\\\\\\\"id4LyndiEk\\\\\\\"},{\\\\\\\"key\\\\\\\":\\\\\\\"C1701_V2Site1_3000Ch21_RFGrating12Deg_1.mat\\\\\\\",\\\\\\\"val\\\\\\\":21,\\\\\\\"id\\\\\\\":\\\\\\\"idRjDRRmyd\\\\\\\"},{\\\\\\\"key\\\\\\\":\\\\\\\"C1701_V2Site1_3000Ch21_RFGrating24Deg_1.mat\\\\\\\",\\\\\\\"val\\\\\\\":22,\\\\\\\"id\\\\\\\":\\\\\\\"id2eSQeO1g\\\\\\\"},{\\\\\\\"key\\\\\\\":\\\\\\\"C1701_V2Site1_3000Ch21_RFGrating24Deg_2.mat\\\\\\\",\\\\\\\"val\\\\\\\":23,\\\\\\\"id\\\\\\\":\\\\\\\"idReo3H8WH\\\\\\\"},{\\\\\\\"key\\\\\\\":\\\\\\\"C1701_V2Site1_3000Ch21_RFGrating4Deg_1.mat\\\\\\\",\\\\\\\"val\\\\\\\":24,\\\\\\\"id\\\\\\\":\\\\\\\"ideEtLMvd9\\\\\\\"},{\\\\\\\"key\\\\\\\":\\\\\\\"C1701_V2Site1_3000Ch21_RFGrating8Deg_1.mat\\\\\\\",\\\\\\\"val\\\\\\\":25,\\\\\\\"id\\\\\\\":\\\\\\\"id4j0giqo5\\\\\\\"},{\\\\\\\"key\\\\\\\":\\\\\\\"C1701_V2Site1_3000Ch21_RFGrating8Deg_2.mat\\\\\\\",\\\\\\\"val\\\\\\\":26,\\\\\\\"id\\\\\\\":\\\\\\\"idh3TlAiOd\\\\\\\"},{\\\\\\\"key\\\\\\\":\\\\\\\"C1701_V2Site1_3000Ch21_RFGrating8Deg_3.mat\\\\\\\",\\\\\\\"val\\\\\\\":27,\\\\\\\"id\\\\\\\":\\\\\\\"idQ4upZoLx\\\\\\\"},{\\\\\\\"key\\\\\\\":\\\\\\\"C1701_V2Site1_3000Ch21_SpatialFreq_1.mat\\\\\\\",\\\\\\\"val\\\\\\\":28,\\\\\\\"id\\\\\\\":\\\\\\\"idCHFdUT7k\\\\\\\"},{\\\\\\\"key\\\\\\\":\\\\\\\"C1701_V2Site1_3000Ch21_SpatialFreq_2.mat\\\\\\\",\\\\\\\"val\\\\\\\":29,\\\\\\\"id\\\\\\\":\\\\\\\"idYzQkNGe1\\\\\\\"},{\\\\\\\"key\\\\\\\":\\\\\\\"C1701_V2Site1_3000Ch21_SpatialFreq_3.mat\\\\\\\",\\\\\\\"val\\\\\\\":30,\\\\\\\"id\\\\\\\":\\\\\\\"idqFa6ntOW\\\\\\\"},{\\\\\\\"key\\\\\\\":\\\\\\\"C1701_V2Site1_3000Ch21_TemporalFreq_1.mat\\\\\\\",\\\\\\\"val\\\\\\\":31,\\\\\\\"id\\\\\\\":\\\\\\\"id1FpX88ks\\\\\\\"},{\\\\\\\"key\\\\\\\":\\\\\\\"C1701_V2Site1_3000Ch21_TemporalFreq_2.mat\\\\\\\",\\\\\\\"val\\\\\\\":32,\\\\\\\"id\\\\\\\":\\\\\\\"idUi6EEuJD\\\\\\\"},{\\\\\\\"key\\\\\\\":\\\\\\\"C1701_V2Site1_3000Ch21_TemporalFreq_3.mat\\\\\\\",\\\\\\\"val\\\\\\\":33,\\\\\\\"id\\\\\\\":\\\\\\\"idRq7guCJE\\\\\\\"},{\\\\\\\"key\\\\\\\":\\\\\\\"C1701_V2Site1_3339Ch17_Diameter_1.mat\\\\\\\",\\\\\\\"val\\\\\\\":34,\\\\\\\"id\\\\\\\":\\\\\\\"idcDOvp83p\\\\\\\"},{\\\\\\\"key\\\\\\\":\\\\\\\"C1701_V2Site1_3339Ch17_Diameter_2.mat\\\\\\\",\\\\\\\"val\\\\\\\":35,\\\\\\\"id\\\\\\\":\\\\\\\"idPpgiS2Pk\\\\\\\"},{\\\\\\\"key\\\\\\\":\\\\\\\"C1701_V2Site1_3339Ch17_Diameter_3.mat\\\\\\\",\\\\\\\"val\\\\\\\":36,\\\\\\\"id\\\\\\\":\\\\\\\"idZTv1LjtL\\\\\\\"},{\\\\\\\"key\\\\\\\":\\\\\\\"C1701_V2Site1_3339Ch17_Diameter_4.mat\\\\\\\",\\\\\\\"val\\\\\\\":37,\\\\\\\"id\\\\\\\":\\\\\\\"idXAT5J1Iz\\\\\\\"},{\\\\\\\"key\\\\\\\":\\\\\\\"C1701_V2Site1_3339Ch17_Image_1.mat\\\\\\\",\\\\\\\"val\\\\\\\":38,\\\\\\\"id\\\\\\\":\\\\\\\"id94Y7v8Lp\\\\\\\"},{\\\\\\\"key\\\\\\\":\\\\\\\"C1701_V2Site1_3339Ch17_Image_2.mat\\\\\\\",\\\\\\\"val\\\\\\\":39,\\\\\\\"id\\\\\\\":\\\\\\\"idsSrDB6gn\\\\\\\"},{\\\\\\\"key\\\\\\\":\\\\\\\"C1701_V2Site1_3339Ch17_OriGrating_1.mat\\\\\\\",\\\\\\\"val\\\\\\\":40,\\\\\\\"id\\\\\\\":\\\\\\\"idLm5Q5Or7\\\\\\\"},{\\\\\\\"key\\\\\\\":\\\\\\\"C1701_V2Site1_3339Ch17_OriGrating_10.mat\\\\\\\",\\\\\\\"val\\\\\\\":41,\\\\\\\"id\\\\\\\":\\\\\\\"idTYUQaw1y\\\\\\\"},{\\\\\\\"key\\\\\\\":\\\\\\\"C1701_V2Site1_3339Ch17_OriGrating_2.mat\\\\\\\",\\\\\\\"val\\\\\\\":42,\\\\\\\"id\\\\\\\":\\\\\\\"ideDDHL0j9\\\\\\\"},{\\\\\\\"key\\\\\\\":\\\\\\\"C1701_V2Site1_3339Ch17_OriGrating_3.mat\\\\\\\",\\\\\\\"val\\\\\\\":43,\\\\\\\"id\\\\\\\":\\\\\\\"idzKGjZQcQ\\\\\\\"},{\\\\\\\"key\\\\\\\":\\\\\\\"C1701_V2Site1_3339Ch17_OriGrating_4.mat\\\\\\\",\\\\\\\"val\\\\\\\":44,\\\\\\\"id\\\\\\\":\\\\\\\"id0wnMmI4W\\\\\\\"},{\\\\\\\"key\\\\\\\":\\\\\\\"C1701_V2Site1_3339Ch17_OriGrating_5.mat\\\\\\\",\\\\\\\"val\\\\\\\":45,\\\\\\\"id\\\\\\\":\\\\\\\"idua18qXr6\\\\\\\"},{\\\\\\\"key\\\\\\\":\\\\\\\"C1701_V2Site1_3339Ch17_OriGrating_6.mat\\\\\\\",\\\\\\\"val\\\\\\\":46,\\\\\\\"id\\\\\\\":\\\\\\\"idwxN0M6Sh\\\\\\\"},{\\\\\\\"key\\\\\\\":\\\\\\\"C1701_V2Site1_3339Ch17_OriGrating_7.mat\\\\\\\",\\\\\\\"val\\\\\\\":47,\\\\\\\"id\\\\\\\":\\\\\\\"idQvTuieZp\\\\\\\"},{\\\\\\\"key\\\\\\\":\\\\\\\"C1701_V2Site1_3339Ch17_OriGrating_8.mat\\\\\\\",\\\\\\\"val\\\\\\\":48,\\\\\\\"id\\\\\\\":\\\\\\\"id04dlOaT0\\\\\\\"},{\\\\\\\"key\\\\\\\":\\\\\\\"C1701_V2Site1_3339Ch17_OriGrating_9.mat\\\\\\\",\\\\\\\"val\\\\\\\":49,\\\\\\\"id\\\\\\\":\\\\\\\"idk9SO6bnB\\\\\\\"},{\\\\\\\"key\\\\\\\":\\\\\\\"C1701_V2Site1_3339Ch17_RFBarX4Deg_1.mat\\\\\\\",\\\\\\\"val\\\\\\\":50,\\\\\\\"id\\\\\\\":\\\\\\\"idNr04jccj\\\\\\\"},{\\\\\\\"key\\\\\\\":\\\\\\\"C1701_V2Site1_3339Ch17_RFBarX4Deg_2.mat\\\\\\\",\\\\\\\"val\\\\\\\":51,\\\\\\\"id\\\\\\\":\\\\\\\"idb0sXiL1V\\\\\\\"},{\\\\\\\"key\\\\\\\":\\\\\\\"C1701_V2Site1_3339Ch17_RFBarX4Deg_3.mat\\\\\\\",\\\\\\\"val\\\\\\\":52,\\\\\\\"id\\\\\\\":\\\\\\\"idKYBAi5Xi\\\\\\\"},{\\\\\\\"key\\\\\\\":\\\\\\\"C1701_V2Site1_3339Ch17_RFBarX4Deg_4.mat\\\\\\\",\\\\\\\"val\\\\\\\":53,\\\\\\\"id\\\\\\\":\\\\\\\"id2yuH7KRf\\\\\\\"},{\\\\\\\"key\\\\\\\":\\\\\\\"C1701_V2Site1_3339Ch17_RFBarY4Deg_1.mat\\\\\\\",\\\\\\\"val\\\\\\\":54,\\\\\\\"id\\\\\\\":\\\\\\\"idBo0ErJUE\\\\\\\"},{\\\\\\\"key\\\\\\\":\\\\\\\"C1701_V2Site1_3339Ch17_RFBarY4Deg_2.mat\\\\\\\",\\\\\\\"val\\\\\\\":55,\\\\\\\"id\\\\\\\":\\\\\\\"idXwBPCrbp\\\\\\\"},{\\\\\\\"key\\\\\\\":\\\\\\\"C1701_V2Site1_3339Ch17_RFBarY4Deg_3.mat\\\\\\\",\\\\\\\"val\\\\\\\":56,\\\\\\\"id\\\\\\\":\\\\\\\"idFuq9a2fc\\\\\\\"},{\\\\\\\"key\\\\\\\":\\\\\\\"C1701_V2Site1_3339Ch17_RFGrating4Deg_1.mat\\\\\\\",\\\\\\\"val\\\\\\\":57,\\\\\\\"id\\\\\\\":\\\\\\\"iduy2CPChE\\\\\\\"},{\\\\\\\"key\\\\\\\":\\\\\\\"C1701_V2Site1_3339Ch17_RFGrating8Deg_1.mat\\\\\\\",\\\\\\\"val\\\\\\\":58,\\\\\\\"id\\\\\\\":\\\\\\\"idP4FENa8g\\\\\\\"},{\\\\\\\"key\\\\\\\":\\\\\\\"C1701_V2Site1_3339Ch17_SpatialFreq_1.mat\\\\\\\",\\\\\\\"val\\\\\\\":59,\\\\\\\"id\\\\\\\":\\\\\\\"iduLvVvWMK\\\\\\\"},{\\\\\\\"key\\\\\\\":\\\\\\\"C1701_V2Site1_3339Ch17_SpatialFreq_2.mat\\\\\\\",\\\\\\\"val\\\\\\\":60,\\\\\\\"id\\\\\\\":\\\\\\\"idHhefKU5d\\\\\\\"},{\\\\\\\"key\\\\\\\":\\\\\\\"C1701_V2Site1_3339Ch17_SpatialFreq_3.mat\\\\\\\",\\\\\\\"val\\\\\\\":61,\\\\\\\"id\\\\\\\":\\\\\\\"idrEE1kTNt\\\\\\\"},{\\\\\\\"key\\\\\\\":\\\\\\\"C1701_V2Site1_3339Ch17_TemporalFreq_1.mat\\\\\\\",\\\\\\\"val\\\\\\\":62,\\\\\\\"id\\\\\\\":\\\\\\\"idVMWTM7oV\\\\\\\"},{\\\\\\\"key\\\\\\\":\\\\\\\"C1701_V2Site1_3339Ch17_TemporalFreq_2.mat\\\\\\\",\\\\\\\"val\\\\\\\":63,\\\\\\\"id\\\\\\\":\\\\\\\"idoPRYYef6\\\\\\\"},{\\\\\\\"key\\\\\\\":\\\\\\\"C1701_V2Site1_3339Ch17_TemporalFreq_3.mat\\\\\\\",\\\\\\\"val\\\\\\\":64,\\\\\\\"id\\\\\\\":\\\\\\\"idV1SHXMls\\\\\\\"},{\\\\\\\"key\\\\\\\":\\\\\\\"C1701_V2Site1_3339Ch18_Contrast_1.mat\\\\\\\",\\\\\\\"val\\\\\\\":65,\\\\\\\"id\\\\\\\":\\\\\\\"idIRKZTfzi\\\\\\\"},{\\\\\\\"key\\\\\\\":\\\\\\\"C1701_V2Site1_3339Ch18_Diameter_1.mat\\\\\\\",\\\\\\\"val\\\\\\\":66,\\\\\\\"id\\\\\\\":\\\\\\\"idAl11pLuU\\\\\\\"},{\\\\\\\"key\\\\\\\":\\\\\\\"C1701_V2Site1_3339Ch18_Image_1.mat\\\\\\\",\\\\\\\"val\\\\\\\":67,\\\\\\\"id\\\\\\\":\\\\\\\"idZdb0lk2V\\\\\\\"},{\\\\\\\"key\\\\\\\":\\\\\\\"C1701_V2Site1_3339Ch18_Image_2.mat\\\\\\\",\\\\\\\"val\\\\\\\":68,\\\\\\\"id\\\\\\\":\\\\\\\"idns8dxQOn\\\\\\\"},{\\\\\\\"key\\\\\\\":\\\\\\\"C1701_V2Site1_3339Ch18_Image_3.mat\\\\\\\",\\\\\\\"val\\\\\\\":69,\\\\\\\"id\\\\\\\":\\\\\\\"id1EF3PTad\\\\\\\"},{\\\\\\\"key\\\\\\\":\\\\\\\"C1701_V2Site1_3339Ch18_OriGrating_1.mat\\\\\\\",\\\\\\\"val\\\\\\\":70,\\\\\\\"id\\\\\\\":\\\\\\\"idT3dKKr0E\\\\\\\"},{\\\\\\\"key\\\\\\\":\\\\\\\"C1701_V2Site1_3339Ch18_RFBarX4Deg_1.mat\\\\\\\",\\\\\\\"val\\\\\\\":71,\\\\\\\"id\\\\\\\":\\\\\\\"id5PGWuTOA\\\\\\\"},{\\\\\\\"key\\\\\\\":\\\\\\\"C1701_V2Site1_3339Ch18_RFBarY4Deg_1.mat\\\\\\\",\\\\\\\"val\\\\\\\":72,\\\\\\\"id\\\\\\\":\\\\\\\"idboB4EGwZ\\\\\\\"},{\\\\\\\"key\\\\\\\":\\\\\\\"C1701_V2Site1_3339Ch18_RFGrating8Deg_1.mat\\\\\\\",\\\\\\\"val\\\\\\\":73,\\\\\\\"id\\\\\\\":\\\\\\\"idMItmc1Lu\\\\\\\"},{\\\\\\\"key\\\\\\\":\\\\\\\"C1701_V2Site1_3339Ch18_SpatialFreq_1.mat\\\\\\\",\\\\\\\"val\\\\\\\":74,\\\\\\\"id\\\\\\\":\\\\\\\"idBMd6Wq78\\\\\\\"},{\\\\\\\"key\\\\\\\":\\\\\\\"C1701_V2Site1_3339Ch18_SpatialFreq_2.mat\\\\\\\",\\\\\\\"val\\\\\\\":75,\\\\\\\"id\\\\\\\":\\\\\\\"idxJA8wJvx\\\\\\\"},{\\\\\\\"key\\\\\\\":\\\\\\\"C1701_V2Site1_3339Ch18_TemporalFreq_1.mat\\\\\\\",\\\\\\\"val\\\\\\\":76,\\\\\\\"id\\\\\\\":\\\\\\\"idLswxkkSL\\\\\\\"},{\\\\\\\"key\\\\\\\":\\\\\\\"C1701_V2Site1_3419Ch19_Diameter_1.mat\\\\\\\",\\\\\\\"val\\\\\\\":77,\\\\\\\"id\\\\\\\":\\\\\\\"id0eqco3e1\\\\\\\"},{\\\\\\\"key\\\\\\\":\\\\\\\"C1701_V2Site1_3419Ch19_Image_1.mat\\\\\\\",\\\\\\\"val\\\\\\\":78,\\\\\\\"id\\\\\\\":\\\\\\\"idx1A1ZiiO\\\\\\\"},{\\\\\\\"key\\\\\\\":\\\\\\\"C1701_V2Site1_3419Ch19_OriGrating_1.mat\\\\\\\",\\\\\\\"val\\\\\\\":79,\\\\\\\"id\\\\\\\":\\\\\\\"idAAIcmSj5\\\\\\\"},{\\\\\\\"key\\\\\\\":\\\\\\\"C1701_V2Site1_3419Ch19_RFBarX12Deg_1.mat\\\\\\\",\\\\\\\"val\\\\\\\":80,\\\\\\\"id\\\\\\\":\\\\\\\"idxD1uJKmv\\\\\\\"},{\\\\\\\"key\\\\\\\":\\\\\\\"C1701_V2Site1_3419Ch19_RFBarX4Deg_1.mat\\\\\\\",\\\\\\\"val\\\\\\\":81,\\\\\\\"id\\\\\\\":\\\\\\\"idU873bSY8\\\\\\\"},{\\\\\\\"key\\\\\\\":\\\\\\\"C1701_V2Site1_3419Ch19_RFBarY12Deg_1.mat\\\\\\\",\\\\\\\"val\\\\\\\":82,\\\\\\\"id\\\\\\\":\\\\\\\"idA8Y17E8f\\\\\\\"},{\\\\\\\"key\\\\\\\":\\\\\\\"C1701_V2Site1_3419Ch19_RFBarY4Deg_1.mat\\\\\\\",\\\\\\\"val\\\\\\\":83,\\\\\\\"id\\\\\\\":\\\\\\\"idPHBzYnrz\\\\\\\"},{\\\\\\\"key\\\\\\\":\\\\\\\"C1701_V2Site1_3419Ch19_RFGrating12Deg_1.mat\\\\\\\",\\\\\\\"val\\\\\\\":84,\\\\\\\"id\\\\\\\":\\\\\\\"idDqj2Fn0N\\\\\\\"},{\\\\\\\"key\\\\\\\":\\\\\\\"C1701_V2Site1_3419Ch19_RFGrating8Deg_1.mat\\\\\\\",\\\\\\\"val\\\\\\\":85,\\\\\\\"id\\\\\\\":\\\\\\\"id3Mvee9rm\\\\\\\"},{\\\\\\\"key\\\\\\\":\\\\\\\"C1701_V2Site1_3419Ch19_SpatialFreq_1.mat\\\\\\\",\\\\\\\"val\\\\\\\":86,\\\\\\\"id\\\\\\\":\\\\\\\"idtYBTBDxh\\\\\\\"},{\\\\\\\"key\\\\\\\":\\\\\\\"C1701_V2Site1_3419Ch19_TemporalFreq_1.mat\\\\\\\",\\\\\\\"val\\\\\\\":87,\\\\\\\"id\\\\\\\":\\\\\\\"idyFXM6F7i\\\\\\\"},{\\\\\\\"key\\\\\\\":\\\\\\\"C1701_V2Site1_3544Ch18_OriGrating_1.mat\\\\\\\",\\\\\\\"val\\\\\\\":88,\\\\\\\"id\\\\\\\":\\\\\\\"id6kUabFRx\\\\\\\"},{\\\\\\\"key\\\\\\\":\\\\\\\"C1701_V2Site1_3544Ch18_RFGrating8Deg_1.mat\\\\\\\",\\\\\\\"val\\\\\\\":89,\\\\\\\"id\\\\\\\":\\\\\\\"idkKKSjZjG\\\\\\\"},{\\\\\\\"key\\\\\\\":\\\\\\\"C1701_V2Site1_3544Ch18_RFGrating8Deg_2.mat\\\\\\\",\\\\\\\"val\\\\\\\":90,\\\\\\\"id\\\\\\\":\\\\\\\"idp97t7m4J\\\\\\\"},{\\\\\\\"key\\\\\\\":\\\\\\\"C1701_V2Site1_3544Ch18_SpatialFreq_1.mat\\\\\\\",\\\\\\\"val\\\\\\\":91,\\\\\\\"id\\\\\\\":\\\\\\\"idz08KeZ5N\\\\\\\"},{\\\\\\\"key\\\\\\\":\\\\\\\"C1701_V2Site1_3544Ch18_TemporalFreq_1.mat\\\\\\\",\\\\\\\"val\\\\\\\":92,\\\\\\\"id\\\\\\\":\\\\\\\"idW1rbIsAI\\\\\\\"},{\\\\\\\"key\\\\\\\":\\\\\\\"C1701_V2Site1_3544Ch23_Diameter_1.mat\\\\\\\",\\\\\\\"val\\\\\\\":93,\\\\\\\"id\\\\\\\":\\\\\\\"idC4jlTqFB\\\\\\\"},{\\\\\\\"key\\\\\\\":\\\\\\\"C1701_V2Site1_3544Ch23_Image_1.mat\\\\\\\",\\\\\\\"val\\\\\\\":94,\\\\\\\"id\\\\\\\":\\\\\\\"idbABXtuJr\\\\\\\"},{\\\\\\\"key\\\\\\\":\\\\\\\"C1701_V2Site1_3544Ch23_OriGrating_1.mat\\\\\\\",\\\\\\\"val\\\\\\\":95,\\\\\\\"id\\\\\\\":\\\\\\\"idXgVgi7Qu\\\\\\\"},{\\\\\\\"key\\\\\\\":\\\\\\\"C1701_V2Site1_3544Ch23_OriGrating_2.mat\\\\\\\",\\\\\\\"val\\\\\\\":96,\\\\\\\"id\\\\\\\":\\\\\\\"idWvtWs2eC\\\\\\\"},{\\\\\\\"key\\\\\\\":\\\\\\\"C1701_V2Site1_3544Ch23_RFBarX4Deg_1.mat\\\\\\\",\\\\\\\"val\\\\\\\":97,\\\\\\\"id\\\\\\\":\\\\\\\"idRkP4thEb\\\\\\\"},{\\\\\\\"key\\\\\\\":\\\\\\\"C1701_V2Site1_3544Ch23_RFBarY4Deg_1.mat\\\\\\\",\\\\\\\"val\\\\\\\":98,\\\\\\\"id\\\\\\\":\\\\\\\"idAEvxUHrh\\\\\\\"},{\\\\\\\"key\\\\\\\":\\\\\\\"C1701_V2Site1_3544Ch23_RFBarY4Deg_2.mat\\\\\\\",\\\\\\\"val\\\\\\\":99,\\\\\\\"id\\\\\\\":\\\\\\\"id1whnosUo\\\\\\\"},{\\\\\\\"key\\\\\\\":\\\\\\\"C1701_V2Site1_3544Ch23_RFGrating8Deg_1.mat\\\\\\\",\\\\\\\"val\\\\\\\":100,\\\\\\\"id\\\\\\\":\\\\\\\"id38v4gnXw\\\\\\\"},{\\\\\\\"key\\\\\\\":\\\\\\\"C1701_V2Site1_3544Ch23_RFGrating8Deg_2.mat\\\\\\\",\\\\\\\"val\\\\\\\":101,\\\\\\\"id\\\\\\\":\\\\\\\"idvQGn0yzF\\\\\\\"},{\\\\\\\"key\\\\\\\":\\\\\\\"C1701_V2Site1_3544Ch23_SpatialFreq_1.mat\\\\\\\",\\\\\\\"val\\\\\\\":102,\\\\\\\"id\\\\\\\":\\\\\\\"id9pgXQigd\\\\\\\"},{\\\\\\\"key\\\\\\\":\\\\\\\"C1701_V2Site1_3544Ch23_TemporalFreq_1.mat\\\\\\\",\\\\\\\"val\\\\\\\":103,\\\\\\\"id\\\\\\\":\\\\\\\"idxi3XCHTs\\\\\\\"},{\\\\\\\"key\\\\\\\":\\\\\\\"C1701_V2Site2_3000Ch18_Diameter_1.mat\\\\\\\",\\\\\\\"val\\\\\\\":104,\\\\\\\"id\\\\\\\":\\\\\\\"iddBlU0oY1\\\\\\\"},{\\\\\\\"key\\\\\\\":\\\\\\\"C1701_V2Site2_3000Ch18_Diameter_2.mat\\\\\\\",\\\\\\\"val\\\\\\\":105,\\\\\\\"id\\\\\\\":\\\\\\\"id6IQbipdt\\\\\\\"},{\\\\\\\"key\\\\\\\":\\\\\\\"C1701_V2Site2_3000Ch18_Diameter_3.mat\\\\\\\",\\\\\\\"val\\\\\\\":106,\\\\\\\"id\\\\\\\":\\\\\\\"idhKSkVRp9\\\\\\\"},{\\\\\\\"key\\\\\\\":\\\\\\\"C1701_V2Site2_3000Ch18_Diameter_4.mat\\\\\\\",\\\\\\\"val\\\\\\\":107,\\\\\\\"id\\\\\\\":\\\\\\\"idlleIh1Iv\\\\\\\"},{\\\\\\\"key\\\\\\\":\\\\\\\"C1701_V2Site2_3000Ch18_Image_1.mat\\\\\\\",\\\\\\\"val\\\\\\\":108,\\\\\\\"id\\\\\\\":\\\\\\\"idT9uQESdk\\\\\\\"},{\\\\\\\"key\\\\\\\":\\\\\\\"C1701_V2Site2_3000Ch18_LaserOriGrating_1.mat\\\\\\\",\\\\\\\"val\\\\\\\":109,\\\\\\\"id\\\\\\\":\\\\\\\"idD6Nb4Xmw\\\\\\\"},{\\\\\\\"key\\\\\\\":\\\\\\\"C1701_V2Site2_3000Ch18_Laser_1.mat\\\\\\\",\\\\\\\"val\\\\\\\":110,\\\\\\\"id\\\\\\\":\\\\\\\"idMlLHHTWM\\\\\\\"},{\\\\\\\"key\\\\\\\":\\\\\\\"C1701_V2Site2_3000Ch18_OriGrating_1.mat\\\\\\\",\\\\\\\"val\\\\\\\":111,\\\\\\\"id\\\\\\\":\\\\\\\"iduIIbiK1W\\\\\\\"},{\\\\\\\"key\\\\\\\":\\\\\\\"C1701_V2Site2_3000Ch18_RFBarX12Deg_1.mat\\\\\\\",\\\\\\\"val\\\\\\\":112,\\\\\\\"id\\\\\\\":\\\\\\\"idx9TuuoWZ\\\\\\\"},{\\\\\\\"key\\\\\\\":\\\\\\\"C1701_V2Site2_3000Ch18_RFBarY12Deg_1.mat\\\\\\\",\\\\\\\"val\\\\\\\":113,\\\\\\\"id\\\\\\\":\\\\\\\"idCT26vdsM\\\\\\\"},{\\\\\\\"key\\\\\\\":\\\\\\\"C1701_V2Site2_3000Ch18_RFGrating12Deg_1.mat\\\\\\\",\\\\\\\"val\\\\\\\":114,\\\\\\\"id\\\\\\\":\\\\\\\"idJpKTsAnp\\\\\\\"},{\\\\\\\"key\\\\\\\":\\\\\\\"C1701_V2Site2_3000Ch18_RFGrating12Deg_2.mat\\\\\\\",\\\\\\\"val\\\\\\\":115,\\\\\\\"id\\\\\\\":\\\\\\\"idpHIuN1EZ\\\\\\\"},{\\\\\\\"key\\\\\\\":\\\\\\\"C1701_V2Site2_3000Ch18_SpatialFreq_1.mat\\\\\\\",\\\\\\\"val\\\\\\\":116,\\\\\\\"id\\\\\\\":\\\\\\\"idLxJA1NMF\\\\\\\"},{\\\\\\\"key\\\\\\\":\\\\\\\"C1701_V2Site2_3000Ch18_SpatialFreq_2.mat\\\\\\\",\\\\\\\"val\\\\\\\":117,\\\\\\\"id\\\\\\\":\\\\\\\"idIydou6zC\\\\\\\"},{\\\\\\\"key\\\\\\\":\\\\\\\"C1701_V2Site2_3000Ch18_TemporalFreq_1.mat\\\\\\\",\\\\\\\"val\\\\\\\":118,\\\\\\\"id\\\\\\\":\\\\\\\"idALvzWBN0\\\\\\\"},{\\\\\\\"key\\\\\\\":\\\\\\\"C1701_V2Site2_3000Ch18_TemporalFreq_2.mat\\\\\\\",\\\\\\\"val\\\\\\\":119,\\\\\\\"id\\\\\\\":\\\\\\\"idhVIQyMcY\\\\\\\"},{\\\\\\\"key\\\\\\\":\\\\\\\"C1701_V2Site2_3000Ch21_Diameter_1.mat\\\\\\\",\\\\\\\"val\\\\\\\":120,\\\\\\\"id\\\\\\\":\\\\\\\"idrgqWF9uI\\\\\\\"},{\\\\\\\"key\\\\\\\":\\\\\\\"C1701_V2Site2_3000Ch21_Image_1.mat\\\\\\\",\\\\\\\"val\\\\\\\":121,\\\\\\\"id\\\\\\\":\\\\\\\"id6gimFuWc\\\\\\\"},{\\\\\\\"key\\\\\\\":\\\\\\\"C1701_V2Site2_3000Ch21_LaserImage_1.mat\\\\\\\",\\\\\\\"val\\\\\\\":122,\\\\\\\"id\\\\\\\":\\\\\\\"idcO5RmJ7x\\\\\\\"},{\\\\\\\"key\\\\\\\":\\\\\\\"C1701_V2Site2_3000Ch21_Laser_1.mat\\\\\\\",\\\\\\\"val\\\\\\\":123,\\\\\\\"id\\\\\\\":\\\\\\\"idqcmTLygM\\\\\\\"},{\\\\\\\"key\\\\\\\":\\\\\\\"C1701_V2Site2_3000Ch21_OriGrating_1.mat\\\\\\\",\\\\\\\"val\\\\\\\":124,\\\\\\\"id\\\\\\\":\\\\\\\"idqR3h3ikZ\\\\\\\"},{\\\\\\\"key\\\\\\\":\\\\\\\"C1701_V2Site2_3000Ch21_RFBarX12Deg_1.mat\\\\\\\",\\\\\\\"val\\\\\\\":125,\\\\\\\"id\\\\\\\":\\\\\\\"idW1IHJ0wY\\\\\\\"},{\\\\\\\"key\\\\\\\":\\\\\\\"C1701_V2Site2_3000Ch21_RFBarX12Deg_2.mat\\\\\\\",\\\\\\\"val\\\\\\\":126,\\\\\\\"id\\\\\\\":\\\\\\\"idVnH5FD7a\\\\\\\"},{\\\\\\\"key\\\\\\\":\\\\\\\"C1701_V2Site2_3000Ch21_RFBarX4Deg_1.mat\\\\\\\",\\\\\\\"val\\\\\\\":127,\\\\\\\"id\\\\\\\":\\\\\\\"id97GmNnwX\\\\\\\"},{\\\\\\\"key\\\\\\\":\\\\\\\"C1701_V2Site2_3000Ch21_RFBarY12Deg_1.mat\\\\\\\",\\\\\\\"val\\\\\\\":128,\\\\\\\"id\\\\\\\":\\\\\\\"id5q12oWrY\\\\\\\"},{\\\\\\\"key\\\\\\\":\\\\\\\"C1701_V2Site2_3000Ch21_RFBarY4Deg_1.mat\\\\\\\",\\\\\\\"val\\\\\\\":129,\\\\\\\"id\\\\\\\":\\\\\\\"idbnVeSiJB\\\\\\\"},{\\\\\\\"key\\\\\\\":\\\\\\\"C1701_V2Site2_3000Ch21_RFBarY4Deg_2.mat\\\\\\\",\\\\\\\"val\\\\\\\":130,\\\\\\\"id\\\\\\\":\\\\\\\"ide1EKFvpS\\\\\\\"},{\\\\\\\"key\\\\\\\":\\\\\\\"C1701_V2Site2_3000Ch21_RFGrating8Deg_1.mat\\\\\\\",\\\\\\\"val\\\\\\\":131,\\\\\\\"id\\\\\\\":\\\\\\\"idpfxQDUp3\\\\\\\"},{\\\\\\\"key\\\\\\\":\\\\\\\"C1701_V2Site2_3000Ch21_SpatialFreq_1.mat\\\\\\\",\\\\\\\"val\\\\\\\":132,\\\\\\\"id\\\\\\\":\\\\\\\"idABuRLcPg\\\\\\\"},{\\\\\\\"key\\\\\\\":\\\\\\\"C1701_V2Site2_3000Ch21_TemporalFreq_1.mat\\\\\\\",\\\\\\\"val\\\\\\\":133,\\\\\\\"id\\\\\\\":\\\\\\\"idPs6BNnhu\\\\\\\"},{\\\\\\\"key\\\\\\\":\\\\\\\"C1701_V2Site2_3000Ch22_Diameter_1.mat\\\\\\\",\\\\\\\"val\\\\\\\":134,\\\\\\\"id\\\\\\\":\\\\\\\"id4ecU8v7h\\\\\\\"},{\\\\\\\"key\\\\\\\":\\\\\\\"C1701_V2Site2_3000Ch22_Diameter_2.mat\\\\\\\",\\\\\\\"val\\\\\\\":135,\\\\\\\"id\\\\\\\":\\\\\\\"idd43ESRrX\\\\\\\"},{\\\\\\\"key\\\\\\\":\\\\\\\"C1701_V2Site2_3000Ch22_Diameter_3.mat\\\\\\\",\\\\\\\"val\\\\\\\":136,\\\\\\\"id\\\\\\\":\\\\\\\"idOuNipsiP\\\\\\\"},{\\\\\\\"key\\\\\\\":\\\\\\\"C1701_V2Site2_3000Ch22_Image_1.mat\\\\\\\",\\\\\\\"val\\\\\\\":137,\\\\\\\"id\\\\\\\":\\\\\\\"id1aZOfxL6\\\\\\\"},{\\\\\\\"key\\\\\\\":\\\\\\\"C1701_V2Site2_3000Ch22_Image_2.mat\\\\\\\",\\\\\\\"val\\\\\\\":138,\\\\\\\"id\\\\\\\":\\\\\\\"idDvG3YCJc\\\\\\\"},{\\\\\\\"key\\\\\\\":\\\\\\\"C1701_V2Site2_3000Ch22_LaserImage_1.mat\\\\\\\",\\\\\\\"val\\\\\\\":139,\\\\\\\"id\\\\\\\":\\\\\\\"idzxuDFlz4\\\\\\\"},{\\\\\\\"key\\\\\\\":\\\\\\\"C1701_V2Site2_3000Ch22_LaserOriGrating_1.mat\\\\\\\",\\\\\\\"val\\\\\\\":140,\\\\\\\"id\\\\\\\":\\\\\\\"idq4RjdTmZ\\\\\\\"},{\\\\\\\"key\\\\\\\":\\\\\\\"C1701_V2Site2_3000Ch22_Laser_1.mat\\\\\\\",\\\\\\\"val\\\\\\\":141,\\\\\\\"id\\\\\\\":\\\\\\\"idflDnsF0j\\\\\\\"},{\\\\\\\"key\\\\\\\":\\\\\\\"C1701_V2Site2_3000Ch22_OriGrating_1.mat\\\\\\\",\\\\\\\"val\\\\\\\":142,\\\\\\\"id\\\\\\\":\\\\\\\"idlbtYyygx\\\\\\\"},{\\\\\\\"key\\\\\\\":\\\\\\\"C1701_V2Site2_3000Ch22_RFBarY4Deg_1.mat\\\\\\\",\\\\\\\"val\\\\\\\":143,\\\\\\\"id\\\\\\\":\\\\\\\"iddCPlK0RB\\\\\\\"},{\\\\\\\"key\\\\\\\":\\\\\\\"C1701_V2Site2_3000Ch22_RFBarY4Deg_2.mat\\\\\\\",\\\\\\\"val\\\\\\\":144,\\\\\\\"id\\\\\\\":\\\\\\\"idCB1uWyEg\\\\\\\"},{\\\\\\\"key\\\\\\\":\\\\\\\"C1701_V2Site2_3000Ch22_RFBarY4Deg_3.mat\\\\\\\",\\\\\\\"val\\\\\\\":145,\\\\\\\"id\\\\\\\":\\\\\\\"idnCtt74Vs\\\\\\\"},{\\\\\\\"key\\\\\\\":\\\\\\\"C1701_V2Site2_3000Ch22_RFGrating12Deg_1.mat\\\\\\\",\\\\\\\"val\\\\\\\":146,\\\\\\\"id\\\\\\\":\\\\\\\"idMYgL1u42\\\\\\\"},{\\\\\\\"key\\\\\\\":\\\\\\\"C1701_V2Site2_3000Ch22_RFGrating4Deg_1.mat\\\\\\\",\\\\\\\"val\\\\\\\":147,\\\\\\\"id\\\\\\\":\\\\\\\"idY3bdiZsB\\\\\\\"},{\\\\\\\"key\\\\\\\":\\\\\\\"C1701_V2Site2_3000Ch22_RFGrating8Deg_1.mat\\\\\\\",\\\\\\\"val\\\\\\\":148,\\\\\\\"id\\\\\\\":\\\\\\\"idwMyvX6ao\\\\\\\"},{\\\\\\\"key\\\\\\\":\\\\\\\"C1701_V2Site2_3000Ch22_SpatialFreq_1.mat\\\\\\\",\\\\\\\"val\\\\\\\":149,\\\\\\\"id\\\\\\\":\\\\\\\"id4LMPyEie\\\\\\\"},{\\\\\\\"key\\\\\\\":\\\\\\\"C1701_V2Site2_3000Ch22_SpatialFreq_2.mat\\\\\\\",\\\\\\\"val\\\\\\\":150,\\\\\\\"id\\\\\\\":\\\\\\\"idKsIEzb13\\\\\\\"},{\\\\\\\"key\\\\\\\":\\\\\\\"C1701_V2Site2_3000Ch22_SpatialFreq_3.mat\\\\\\\",\\\\\\\"val\\\\\\\":151,\\\\\\\"id\\\\\\\":\\\\\\\"idc4LH9uPN\\\\\\\"},{\\\\\\\"key\\\\\\\":\\\\\\\"C1701_V2Site2_3000Ch22_TemporalFreq_1.mat\\\\\\\",\\\\\\\"val\\\\\\\":152,\\\\\\\"id\\\\\\\":\\\\\\\"idWMusWwBO\\\\\\\"},{\\\\\\\"key\\\\\\\":\\\\\\\"C1701_V2Site2_3000Ch22_TemporalFreq_2.mat\\\\\\\",\\\\\\\"val\\\\\\\":153,\\\\\\\"id\\\\\\\":\\\\\\\"id3su9QldJ\\\\\\\"},{\\\\\\\"key\\\\\\\":\\\\\\\"C1701_V2Site2_3000Ch22_TemporalFreq_3.mat\\\\\\\",\\\\\\\"val\\\\\\\":154,\\\\\\\"id\\\\\\\":\\\\\\\"id1ZjgqfkT\\\\\\\"},{\\\\\\\"key\\\\\\\":\\\\\\\"C1701_V2Site2_3549Ch22_Diameter_1.mat\\\\\\\",\\\\\\\"val\\\\\\\":155,\\\\\\\"id\\\\\\\":\\\\\\\"idrNtQSLR0\\\\\\\"},{\\\\\\\"key\\\\\\\":\\\\\\\"C1701_V2Site2_3549Ch22_Diameter_2.mat\\\\\\\",\\\\\\\"val\\\\\\\":156,\\\\\\\"id\\\\\\\":\\\\\\\"id7BqFzJO8\\\\\\\"},{\\\\\\\"key\\\\\\\":\\\\\\\"C1701_V2Site2_3549Ch22_Image_1.mat\\\\\\\",\\\\\\\"val\\\\\\\":157,\\\\\\\"id\\\\\\\":\\\\\\\"id5guTzXhE\\\\\\\"},{\\\\\\\"key\\\\\\\":\\\\\\\"C1701_V2Site2_3549Ch22_LaserImage_1.mat\\\\\\\",\\\\\\\"val\\\\\\\":158,\\\\\\\"id\\\\\\\":\\\\\\\"idDNXW602B\\\\\\\"},{\\\\\\\"key\\\\\\\":\\\\\\\"C1701_V2Site2_3549Ch22_LaserOriGrating_1.mat\\\\\\\",\\\\\\\"val\\\\\\\":159,\\\\\\\"id\\\\\\\":\\\\\\\"idqf1neA2u\\\\\\\"},{\\\\\\\"key\\\\\\\":\\\\\\\"C1701_V2Site2_3549Ch22_Laser_1.mat\\\\\\\",\\\\\\\"val\\\\\\\":160,\\\\\\\"id\\\\\\\":\\\\\\\"idKtLhzsrw\\\\\\\"},{\\\\\\\"key\\\\\\\":\\\\\\\"C1701_V2Site2_3549Ch22_OriGrating_1.mat\\\\\\\",\\\\\\\"val\\\\\\\":161,\\\\\\\"id\\\\\\\":\\\\\\\"idxhgqxvzv\\\\\\\"},{\\\\\\\"key\\\\\\\":\\\\\\\"C1701_V2Site2_3549Ch22_RFBarX4Deg_1.mat\\\\\\\",\\\\\\\"val\\\\\\\":162,\\\\\\\"id\\\\\\\":\\\\\\\"idlcUFTr0N\\\\\\\"},{\\\\\\\"key\\\\\\\":\\\\\\\"C1701_V2Site2_3549Ch22_RFBarY4Deg_1.mat\\\\\\\",\\\\\\\"val\\\\\\\":163,\\\\\\\"id\\\\\\\":\\\\\\\"idsd8l6z1T\\\\\\\"},{\\\\\\\"key\\\\\\\":\\\\\\\"C1701_V2Site2_3549Ch22_RFGrating4Deg_1.mat\\\\\\\",\\\\\\\"val\\\\\\\":164,\\\\\\\"id\\\\\\\":\\\\\\\"idBGXEU1dZ\\\\\\\"},{\\\\\\\"key\\\\\\\":\\\\\\\"C1701_V2Site2_3549Ch22_RFGrating4Deg_2.mat\\\\\\\",\\\\\\\"val\\\\\\\":165,\\\\\\\"id\\\\\\\":\\\\\\\"idCY851ehd\\\\\\\"},{\\\\\\\"key\\\\\\\":\\\\\\\"C1701_V2Site2_3549Ch22_RFGrating4Deg_3.mat\\\\\\\",\\\\\\\"val\\\\\\\":166,\\\\\\\"id\\\\\\\":\\\\\\\"idhatveHtN\\\\\\\"},{\\\\\\\"key\\\\\\\":\\\\\\\"C1701_V2Site2_3549Ch22_RFGrating4Deg_4.mat\\\\\\\",\\\\\\\"val\\\\\\\":167,\\\\\\\"id\\\\\\\":\\\\\\\"id57t7BBVZ\\\\\\\"},{\\\\\\\"key\\\\\\\":\\\\\\\"C1701_V2Site2_3549Ch22_RFGrating8Deg_1.mat\\\\\\\",\\\\\\\"val\\\\\\\":168,\\\\\\\"id\\\\\\\":\\\\\\\"idvNdIFRQX\\\\\\\"},{\\\\\\\"key\\\\\\\":\\\\\\\"C1701_V2Site2_3549Ch22_SpatialFreq_1.mat\\\\\\\",\\\\\\\"val\\\\\\\":169,\\\\\\\"id\\\\\\\":\\\\\\\"idCQ6snXK0\\\\\\\"},{\\\\\\\"key\\\\\\\":\\\\\\\"C1701_V2Site2_3549Ch22_SpatialFreq_2.mat\\\\\\\",\\\\\\\"val\\\\\\\":170,\\\\\\\"id\\\\\\\":\\\\\\\"idA5FB2OJE\\\\\\\"},{\\\\\\\"key\\\\\\\":\\\\\\\"C1701_V2Site2_3549Ch22_SpatialFreq_3.mat\\\\\\\",\\\\\\\"val\\\\\\\":171,\\\\\\\"id\\\\\\\":\\\\\\\"idyGyd9jsz\\\\\\\"},{\\\\\\\"key\\\\\\\":\\\\\\\"C1701_V2Site2_3549Ch22_SpatialFreq_4.mat\\\\\\\",\\\\\\\"val\\\\\\\":172,\\\\\\\"id\\\\\\\":\\\\\\\"idLxwnro6E\\\\\\\"},{\\\\\\\"key\\\\\\\":\\\\\\\"C1701_V2Site2_3549Ch22_TemporalFreq_1.mat\\\\\\\",\\\\\\\"val\\\\\\\":173,\\\\\\\"id\\\\\\\":\\\\\\\"idYoxSUB2f\\\\\\\"},{\\\\\\\"key\\\\\\\":\\\\\\\"C1701_V2Site3_3000Ch20_Contrast_1.mat\\\\\\\",\\\\\\\"val\\\\\\\":174,\\\\\\\"id\\\\\\\":\\\\\\\"idpgLuSsgS\\\\\\\"},{\\\\\\\"key\\\\\\\":\\\\\\\"C1701_V2Site3_3000Ch20_Diameter_1.mat\\\\\\\",\\\\\\\"val\\\\\\\":175,\\\\\\\"id\\\\\\\":\\\\\\\"id2G330QNA\\\\\\\"},{\\\\\\\"key\\\\\\\":\\\\\\\"C1701_V2Site3_3000Ch20_Image_1.mat\\\\\\\",\\\\\\\"val\\\\\\\":176,\\\\\\\"id\\\\\\\":\\\\\\\"idyFXhfrCE\\\\\\\"},{\\\\\\\"key\\\\\\\":\\\\\\\"C1701_V2Site3_3000Ch20_OriGrating_1.mat\\\\\\\",\\\\\\\"val\\\\\\\":177,\\\\\\\"id\\\\\\\":\\\\\\\"id5nKk0Akk\\\\\\\"},{\\\\\\\"key\\\\\\\":\\\\\\\"C1701_V2Site3_3000Ch20_RFBarX4Deg_1.mat\\\\\\\",\\\\\\\"val\\\\\\\":178,\\\\\\\"id\\\\\\\":\\\\\\\"idOQrYbPDK\\\\\\\"},{\\\\\\\"key\\\\\\\":\\\\\\\"C1701_V2Site3_3000Ch20_RFBarY4Deg_1.mat\\\\\\\",\\\\\\\"val\\\\\\\":179,\\\\\\\"id\\\\\\\":\\\\\\\"idsf6G5YUf\\\\\\\"},{\\\\\\\"key\\\\\\\":\\\\\\\"C1701_V2Site3_3000Ch20_RFGrating4Deg_1.mat\\\\\\\",\\\\\\\"val\\\\\\\":180,\\\\\\\"id\\\\\\\":\\\\\\\"idSl1eKQe2\\\\\\\"},{\\\\\\\"key\\\\\\\":\\\\\\\"C1701_V2Site3_3000Ch20_RFGrating8Deg_1.mat\\\\\\\",\\\\\\\"val\\\\\\\":181,\\\\\\\"id\\\\\\\":\\\\\\\"idLtxiS7qc\\\\\\\"},{\\\\\\\"key\\\\\\\":\\\\\\\"C1701_V2Site3_3000Ch20_SpatialFreq_1.mat\\\\\\\",\\\\\\\"val\\\\\\\":182,\\\\\\\"id\\\\\\\":\\\\\\\"idI6FgEqw0\\\\\\\"},{\\\\\\\"key\\\\\\\":\\\\\\\"C1701_V2Site3_3000Ch20_TemporalFreq_1.mat\\\\\\\",\\\\\\\"val\\\\\\\":183,\\\\\\\"id\\\\\\\":\\\\\\\"idixmm13AN\\\\\\\"},{\\\\\\\"key\\\\\\\":\\\\\\\"C1701_V2Site3_3000Ch23_Contrast_1.mat\\\\\\\",\\\\\\\"val\\\\\\\":184,\\\\\\\"id\\\\\\\":\\\\\\\"idxzEH5J6m\\\\\\\"},{\\\\\\\"key\\\\\\\":\\\\\\\"C1701_V2Site3_3000Ch23_Image_1.mat\\\\\\\",\\\\\\\"val\\\\\\\":185,\\\\\\\"id\\\\\\\":\\\\\\\"idxbWRudO5\\\\\\\"},{\\\\\\\"key\\\\\\\":\\\\\\\"C1701_V2Site3_3000_Diameter_1.mat\\\\\\\",\\\\\\\"val\\\\\\\":186,\\\\\\\"id\\\\\\\":\\\\\\\"idHR6fb3zx\\\\\\\"},{\\\\\\\"key\\\\\\\":\\\\\\\"C1701_V2Site3_3000_OriGrating_1.mat\\\\\\\",\\\\\\\"val\\\\\\\":187,\\\\\\\"id\\\\\\\":\\\\\\\"idaAAyRYK4\\\\\\\"},{\\\\\\\"key\\\\\\\":\\\\\\\"C1701_V2Site3_3000_OriOffsetGrating_1.mat\\\\\\\",\\\\\\\"val\\\\\\\":188,\\\\\\\"id\\\\\\\":\\\\\\\"idjR3ny7ZM\\\\\\\"},{\\\\\\\"key\\\\\\\":\\\\\\\"C1701_V2Site3_3000_RFBarX12Deg_1.mat\\\\\\\",\\\\\\\"val\\\\\\\":189,\\\\\\\"id\\\\\\\":\\\\\\\"idAb6OsX1e\\\\\\\"},{\\\\\\\"key\\\\\\\":\\\\\\\"C1701_V2Site3_3000_RFBarX4Deg_1.mat\\\\\\\",\\\\\\\"val\\\\\\\":190,\\\\\\\"id\\\\\\\":\\\\\\\"id0oSvPEXr\\\\\\\"},{\\\\\\\"key\\\\\\\":\\\\\\\"C1701_V2Site3_3000_RFBarY12Deg_1.mat\\\\\\\",\\\\\\\"val\\\\\\\":191,\\\\\\\"id\\\\\\\":\\\\\\\"idsabtQZjp\\\\\\\"},{\\\\\\\"key\\\\\\\":\\\\\\\"C1701_V2Site3_3000_RFBarY4Deg_1.mat\\\\\\\",\\\\\\\"val\\\\\\\":192,\\\\\\\"id\\\\\\\":\\\\\\\"idVtGF4Iz1\\\\\\\"},{\\\\\\\"key\\\\\\\":\\\\\\\"C1701_V2Site3_3000_RFGrating4Deg_1.mat\\\\\\\",\\\\\\\"val\\\\\\\":193,\\\\\\\"id\\\\\\\":\\\\\\\"idjTVKndO9\\\\\\\"},{\\\\\\\"key\\\\\\\":\\\\\\\"C1701_V2Site3_3000_RFGrating8Deg_1.mat\\\\\\\",\\\\\\\"val\\\\\\\":194,\\\\\\\"id\\\\\\\":\\\\\\\"id62EIAvKW\\\\\\\"},{\\\\\\\"key\\\\\\\":\\\\\\\"C1701_V2Site3_3000_SpatialFreq_1.mat\\\\\\\",\\\\\\\"val\\\\\\\":195,\\\\\\\"id\\\\\\\":\\\\\\\"idXdGYCAb5\\\\\\\"},{\\\\\\\"key\\\\\\\":\\\\\\\"C1701_V2Site3_3000_TemporalFreq_1.mat\\\\\\\",\\\\\\\"val\\\\\\\":196,\\\\\\\"id\\\\\\\":\\\\\\\"idcXFEWt03\\\\\\\"},{\\\\\\\"key\\\\\\\":\\\\\\\"C1701_V2Site3_3544Ch23_Contrast_1.mat\\\\\\\",\\\\\\\"val\\\\\\\":197,\\\\\\\"id\\\\\\\":\\\\\\\"idA4nj2wLi\\\\\\\"},{\\\\\\\"key\\\\\\\":\\\\\\\"C1701_V2Site3_3544Ch23_Contrast_2.mat\\\\\\\",\\\\\\\"val\\\\\\\":198,\\\\\\\"id\\\\\\\":\\\\\\\"idmuQ1KT2t\\\\\\\"},{\\\\\\\"key\\\\\\\":\\\\\\\"C1701_V2Site3_3544Ch23_Diameter_1.mat\\\\\\\",\\\\\\\"val\\\\\\\":199,\\\\\\\"id\\\\\\\":\\\\\\\"idedS9zTyM\\\\\\\"},{\\\\\\\"key\\\\\\\":\\\\\\\"C1701_V2Site3_3544Ch23_Diameter_2.mat\\\\\\\",\\\\\\\"val\\\\\\\":200,\\\\\\\"id\\\\\\\":\\\\\\\"idAli7XRoB\\\\\\\"},{\\\\\\\"key\\\\\\\":\\\\\\\"C1701_V2Site3_3544Ch23_Image_1.mat\\\\\\\",\\\\\\\"val\\\\\\\":201,\\\\\\\"id\\\\\\\":\\\\\\\"iduomUQiQc\\\\\\\"},{\\\\\\\"key\\\\\\\":\\\\\\\"C1701_V2Site3_3544Ch23_Image_2.mat\\\\\\\",\\\\\\\"val\\\\\\\":202,\\\\\\\"id\\\\\\\":\\\\\\\"idrcH3MZfm\\\\\\\"},{\\\\\\\"key\\\\\\\":\\\\\\\"C1701_V2Site3_3544Ch23_Image_3.mat\\\\\\\",\\\\\\\"val\\\\\\\":203,\\\\\\\"id\\\\\\\":\\\\\\\"idvGWK9sK1\\\\\\\"},{\\\\\\\"key\\\\\\\":\\\\\\\"C1701_V2Site3_3544Ch23_Image_4.mat\\\\\\\",\\\\\\\"val\\\\\\\":204,\\\\\\\"id\\\\\\\":\\\\\\\"idZVUOzxZ4\\\\\\\"},{\\\\\\\"key\\\\\\\":\\\\\\\"C1701_V2Site3_3544Ch23_OriGrating_1.mat\\\\\\\",\\\\\\\"val\\\\\\\":205,\\\\\\\"id\\\\\\\":\\\\\\\"idaWCszxHH\\\\\\\"},{\\\\\\\"key\\\\\\\":\\\\\\\"C1701_V2Site3_3544Ch23_OriGrating_2.mat\\\\\\\",\\\\\\\"val\\\\\\\":206,\\\\\\\"id\\\\\\\":\\\\\\\"idbUIQccVP\\\\\\\"},{\\\\\\\"key\\\\\\\":\\\\\\\"C1701_V2Site3_3544Ch23_RFBarX12Deg_1.mat\\\\\\\",\\\\\\\"val\\\\\\\":207,\\\\\\\"id\\\\\\\":\\\\\\\"idfKE2eScf\\\\\\\"},{\\\\\\\"key\\\\\\\":\\\\\\\"C1701_V2Site3_3544Ch23_RFBarX12Deg_2.mat\\\\\\\",\\\\\\\"val\\\\\\\":208,\\\\\\\"id\\\\\\\":\\\\\\\"idbeFrrzCj\\\\\\\"},{\\\\\\\"key\\\\\\\":\\\\\\\"C1701_V2Site3_3544Ch23_RFBarY12Deg_1.mat\\\\\\\",\\\\\\\"val\\\\\\\":209,\\\\\\\"id\\\\\\\":\\\\\\\"idLenFohJO\\\\\\\"},{\\\\\\\"key\\\\\\\":\\\\\\\"C1701_V2Site3_3544Ch23_RFBarY12Deg_2.mat\\\\\\\",\\\\\\\"val\\\\\\\":210,\\\\\\\"id\\\\\\\":\\\\\\\"idh2hAMW7V\\\\\\\"},{\\\\\\\"key\\\\\\\":\\\\\\\"C1701_V2Site3_3544Ch23_RFBarY12Deg_3.mat\\\\\\\",\\\\\\\"val\\\\\\\":211,\\\\\\\"id\\\\\\\":\\\\\\\"id67ZqXb8l\\\\\\\"},{\\\\\\\"key\\\\\\\":\\\\\\\"C1701_V2Site3_3544Ch23_RFBarY4Deg_1.mat\\\\\\\",\\\\\\\"val\\\\\\\":212,\\\\\\\"id\\\\\\\":\\\\\\\"idF7AdFStO\\\\\\\"},{\\\\\\\"key\\\\\\\":\\\\\\\"C1701_V2Site3_3544Ch23_RFGrating4Deg_1.mat\\\\\\\",\\\\\\\"val\\\\\\\":213,\\\\\\\"id\\\\\\\":\\\\\\\"idydlmOfe3\\\\\\\"},{\\\\\\\"key\\\\\\\":\\\\\\\"C1701_V2Site3_3544Ch23_RFGrating8Deg_1.mat\\\\\\\",\\\\\\\"val\\\\\\\":214,\\\\\\\"id\\\\\\\":\\\\\\\"idHhfIgcqD\\\\\\\"},{\\\\\\\"key\\\\\\\":\\\\\\\"C1701_V2Site3_3544Ch23_RFGrating8Deg_2.mat\\\\\\\",\\\\\\\"val\\\\\\\":215,\\\\\\\"id\\\\\\\":\\\\\\\"idtloutpIv\\\\\\\"},{\\\\\\\"key\\\\\\\":\\\\\\\"C1701_V2Site3_3544Ch23_RFGrating8Deg_3.mat\\\\\\\",\\\\\\\"val\\\\\\\":216,\\\\\\\"id\\\\\\\":\\\\\\\"id1jAREvQe\\\\\\\"},{\\\\\\\"key\\\\\\\":\\\\\\\"C1701_V2Site3_3544Ch23_SpatialFreq_1.mat\\\\\\\",\\\\\\\"val\\\\\\\":217,\\\\\\\"id\\\\\\\":\\\\\\\"idVeBuHPII\\\\\\\"},{\\\\\\\"key\\\\\\\":\\\\\\\"C1701_V2Site3_3544Ch23_SpatialFreq_2.mat\\\\\\\",\\\\\\\"val\\\\\\\":218,\\\\\\\"id\\\\\\\":\\\\\\\"idMOj1gKAJ\\\\\\\"},{\\\\\\\"key\\\\\\\":\\\\\\\"C1701_V2Site3_3544Ch23_TemporalFreq_1.mat\\\\\\\",\\\\\\\"val\\\\\\\":219,\\\\\\\"id\\\\\\\":\\\\\\\"idNRsWXkPz\\\\\\\"},{\\\\\\\"key\\\\\\\":\\\\\\\"C1701_V2Site3_3544Ch23_TemporalFreq_2.mat\\\\\\\",\\\\\\\"val\\\\\\\":220,\\\\\\\"id\\\\\\\":\\\\\\\"idvFqa831G\\\\\\\"},{\\\\\\\"key\\\\\\\":\\\\\\\"C1701_V2Site3_4500Ch20_Diameter_1.mat\\\\\\\",\\\\\\\"val\\\\\\\":221,\\\\\\\"id\\\\\\\":\\\\\\\"idyVSwso4n\\\\\\\"},{\\\\\\\"key\\\\\\\":\\\\\\\"C1701_V2Site3_4500Ch20_Image_1.mat\\\\\\\",\\\\\\\"val\\\\\\\":222,\\\\\\\"id\\\\\\\":\\\\\\\"idtY5QIbuT\\\\\\\"},{\\\\\\\"key\\\\\\\":\\\\\\\"C1701_V2Site3_4500Ch20_OriGrating_1.mat\\\\\\\",\\\\\\\"val\\\\\\\":223,\\\\\\\"id\\\\\\\":\\\\\\\"idtepllGNr\\\\\\\"},{\\\\\\\"key\\\\\\\":\\\\\\\"C1701_V2Site3_4500Ch20_RFBarX12Deg_1.mat\\\\\\\",\\\\\\\"val\\\\\\\":224,\\\\\\\"id\\\\\\\":\\\\\\\"idVfRK81Rf\\\\\\\"},{\\\\\\\"key\\\\\\\":\\\\\\\"C1701_V2Site3_4500Ch20_RFBarY12Deg_1.mat\\\\\\\",\\\\\\\"val\\\\\\\":225,\\\\\\\"id\\\\\\\":\\\\\\\"idkIyyYbY1\\\\\\\"},{\\\\\\\"key\\\\\\\":\\\\\\\"C1701_V2Site3_4500Ch20_RFGrating8Deg_1.mat\\\\\\\",\\\\\\\"val\\\\\\\":226,\\\\\\\"id\\\\\\\":\\\\\\\"idBrBzib1X\\\\\\\"},{\\\\\\\"key\\\\\\\":\\\\\\\"C1701_V2Site3_4500Ch20_RFGrating8Deg_2.mat\\\\\\\",\\\\\\\"val\\\\\\\":227,\\\\\\\"id\\\\\\\":\\\\\\\"idwY5Ihrx7\\\\\\\"},{\\\\\\\"key\\\\\\\":\\\\\\\"C1701_V2Site3_4500Ch20_SpatialFreq_1.mat\\\\\\\",\\\\\\\"val\\\\\\\":228,\\\\\\\"id\\\\\\\":\\\\\\\"idBcn2UKhf\\\\\\\"},{\\\\\\\"key\\\\\\\":\\\\\\\"C1701_V2Site3_4500Ch20_TemporalFreq_1.mat\\\\\\\",\\\\\\\"val\\\\\\\":229,\\\\\\\"id\\\\\\\":\\\\\\\"iddUh77dOL\\\\\\\"},{\\\\\\\"key\\\\\\\":\\\\\\\"C1701_V2Site4_3200Ch13_Contrast_1.mat\\\\\\\",\\\\\\\"val\\\\\\\":230,\\\\\\\"id\\\\\\\":\\\\\\\"idqmY99KXV\\\\\\\"},{\\\\\\\"key\\\\\\\":\\\\\\\"C1701_V2Site4_3200Ch13_Diameter_1.mat\\\\\\\",\\\\\\\"val\\\\\\\":231,\\\\\\\"id\\\\\\\":\\\\\\\"idbwx8pbjs\\\\\\\"},{\\\\\\\"key\\\\\\\":\\\\\\\"C1701_V2Site4_3200Ch13_Image_1.mat\\\\\\\",\\\\\\\"val\\\\\\\":232,\\\\\\\"id\\\\\\\":\\\\\\\"idXyVyXkXM\\\\\\\"},{\\\\\\\"key\\\\\\\":\\\\\\\"C1701_V2Site4_3200Ch13_Image_2.mat\\\\\\\",\\\\\\\"val\\\\\\\":233,\\\\\\\"id\\\\\\\":\\\\\\\"idISUJeubW\\\\\\\"},{\\\\\\\"key\\\\\\\":\\\\\\\"C1701_V2Site4_3200Ch13_OriGrating_1.mat\\\\\\\",\\\\\\\"val\\\\\\\":234,\\\\\\\"id\\\\\\\":\\\\\\\"idndFfrOXu\\\\\\\"},{\\\\\\\"key\\\\\\\":\\\\\\\"C1701_V2Site4_3200Ch13_RFBarX12Deg_1.mat\\\\\\\",\\\\\\\"val\\\\\\\":235,\\\\\\\"id\\\\\\\":\\\\\\\"idnXtJoWii\\\\\\\"},{\\\\\\\"key\\\\\\\":\\\\\\\"C1701_V2Site4_3200Ch13_RFBarY12Deg_1.mat\\\\\\\",\\\\\\\"val\\\\\\\":236,\\\\\\\"id\\\\\\\":\\\\\\\"idmzFtkOe9\\\\\\\"},{\\\\\\\"key\\\\\\\":\\\\\\\"C1701_V2Site4_3200Ch13_RFGrating24Deg_1.mat\\\\\\\",\\\\\\\"val\\\\\\\":237,\\\\\\\"id\\\\\\\":\\\\\\\"idnaML8411\\\\\\\"},{\\\\\\\"key\\\\\\\":\\\\\\\"C1701_V2Site4_3200Ch13_SpatialFreq_1.mat\\\\\\\",\\\\\\\"val\\\\\\\":238,\\\\\\\"id\\\\\\\":\\\\\\\"idi1u5AYEA\\\\\\\"},{\\\\\\\"key\\\\\\\":\\\\\\\"C1701_V2Site4_3200Ch13_TemporalFreq_1.mat\\\\\\\",\\\\\\\"val\\\\\\\":239,\\\\\\\"id\\\\\\\":\\\\\\\"id2DVuTT1F\\\\\\\"},{\\\\\\\"key\\\\\\\":\\\\\\\"C1701_V2Site5_3200Ch18_Contrast_1.mat\\\\\\\",\\\\\\\"val\\\\\\\":240,\\\\\\\"id\\\\\\\":\\\\\\\"id04dSHQMo\\\\\\\"},{\\\\\\\"key\\\\\\\":\\\\\\\"C1701_V2Site5_3200Ch18_Contrast_2.mat\\\\\\\",\\\\\\\"val\\\\\\\":241,\\\\\\\"id\\\\\\\":\\\\\\\"iduWLnDWkt\\\\\\\"},{\\\\\\\"key\\\\\\\":\\\\\\\"C1701_V2Site5_3200Ch18_Diameter_1.mat\\\\\\\",\\\\\\\"val\\\\\\\":242,\\\\\\\"id\\\\\\\":\\\\\\\"idS48avQau\\\\\\\"},{\\\\\\\"key\\\\\\\":\\\\\\\"C1701_V2Site5_3200Ch18_Diameter_2.mat\\\\\\\",\\\\\\\"val\\\\\\\":243,\\\\\\\"id\\\\\\\":\\\\\\\"idgg6Bu1Rv\\\\\\\"},{\\\\\\\"key\\\\\\\":\\\\\\\"C1701_V2Site5_3200Ch18_Image_1.mat\\\\\\\",\\\\\\\"val\\\\\\\":244,\\\\\\\"id\\\\\\\":\\\\\\\"idHWQuGOSa\\\\\\\"},{\\\\\\\"key\\\\\\\":\\\\\\\"C1701_V2Site5_3200Ch18_OriGrating_1.mat\\\\\\\",\\\\\\\"val\\\\\\\":245,\\\\\\\"id\\\\\\\":\\\\\\\"idBWZMiiHh\\\\\\\"},{\\\\\\\"key\\\\\\\":\\\\\\\"C1701_V2Site5_3200Ch18_OriGrating_2.mat\\\\\\\",\\\\\\\"val\\\\\\\":246,\\\\\\\"id\\\\\\\":\\\\\\\"idbNdKcJ4h\\\\\\\"},{\\\\\\\"key\\\\\\\":\\\\\\\"C1701_V2Site5_3200Ch18_RFBarX4Deg_1.mat\\\\\\\",\\\\\\\"val\\\\\\\":247,\\\\\\\"id\\\\\\\":\\\\\\\"idU1lLHLjZ\\\\\\\"},{\\\\\\\"key\\\\\\\":\\\\\\\"C1701_V2Site5_3200Ch18_RFBarY4Deg_1.mat\\\\\\\",\\\\\\\"val\\\\\\\":248,\\\\\\\"id\\\\\\\":\\\\\\\"idl3DZ3g2I\\\\\\\"},{\\\\\\\"key\\\\\\\":\\\\\\\"C1701_V2Site5_3200Ch18_RFGrating24Deg_1.mat\\\\\\\",\\\\\\\"val\\\\\\\":249,\\\\\\\"id\\\\\\\":\\\\\\\"idSWqpuqKd\\\\\\\"},{\\\\\\\"key\\\\\\\":\\\\\\\"C1701_V2Site5_3200Ch18_RFGrating8Deg_1.mat\\\\\\\",\\\\\\\"val\\\\\\\":250,\\\\\\\"id\\\\\\\":\\\\\\\"id929Gpo0F\\\\\\\"},{\\\\\\\"key\\\\\\\":\\\\\\\"C1701_V2Site5_3200Ch18_SpatialFreq_1.mat\\\\\\\",\\\\\\\"val\\\\\\\":251,\\\\\\\"id\\\\\\\":\\\\\\\"idJmhd0QAh\\\\\\\"},{\\\\\\\"key\\\\\\\":\\\\\\\"C1701_V2Site5_3200Ch18_SpatialFreq_2.mat\\\\\\\",\\\\\\\"val\\\\\\\":252,\\\\\\\"id\\\\\\\":\\\\\\\"idzgMk229W\\\\\\\"},{\\\\\\\"key\\\\\\\":\\\\\\\"C1701_V2Site5_3200Ch18_SpatialFreq_3.mat\\\\\\\",\\\\\\\"val\\\\\\\":253,\\\\\\\"id\\\\\\\":\\\\\\\"idKoUDXzfa\\\\\\\"},{\\\\\\\"key\\\\\\\":\\\\\\\"C1701_V2Site5_3200Ch18_SpatialFreq_4.mat\\\\\\\",\\\\\\\"val\\\\\\\":254,\\\\\\\"id\\\\\\\":\\\\\\\"idBvRCA3w6\\\\\\\"},{\\\\\\\"key\\\\\\\":\\\\\\\"C1701_V2Site5_3200Ch18_TemporalFreq_1.mat\\\\\\\",\\\\\\\"val\\\\\\\":255,\\\\\\\"id\\\\\\\":\\\\\\\"idhdNFVO5b\\\\\\\"},{\\\\\\\"key\\\\\\\":\\\\\\\"C1701_V2Site5_3200Ch18_TemporalFreq_2.mat\\\\\\\",\\\\\\\"val\\\\\\\":256,\\\\\\\"id\\\\\\\":\\\\\\\"idHCBNQvHP\\\\\\\"},{\\\\\\\"key\\\\\\\":\\\\\\\"C1701_V2Site5_3200Ch18_TemporalFreq_3.mat\\\\\\\",\\\\\\\"val\\\\\\\":257,\\\\\\\"id\\\\\\\":\\\\\\\"idRM6TIAQO\\\\\\\"},{\\\\\\\"key\\\\\\\":\\\\\\\"C1701_V2Site5_3200Ch22_Diameter_1.mat\\\\\\\",\\\\\\\"val\\\\\\\":258,\\\\\\\"id\\\\\\\":\\\\\\\"idubPrnPaE\\\\\\\"},{\\\\\\\"key\\\\\\\":\\\\\\\"C1701_V2Site5_3200Ch22_Diameter_2.mat\\\\\\\",\\\\\\\"val\\\\\\\":259,\\\\\\\"id\\\\\\\":\\\\\\\"idekvRzKKQ\\\\\\\"},{\\\\\\\"key\\\\\\\":\\\\\\\"C1701_V2Site5_3200Ch22_Image_1.mat\\\\\\\",\\\\\\\"val\\\\\\\":260,\\\\\\\"id\\\\\\\":\\\\\\\"idVj2WnjaN\\\\\\\"},{\\\\\\\"key\\\\\\\":\\\\\\\"C1701_V2Site5_3200Ch22_OriGrating_1.mat\\\\\\\",\\\\\\\"val\\\\\\\":261,\\\\\\\"id\\\\\\\":\\\\\\\"idHiB4mqnb\\\\\\\"},{\\\\\\\"key\\\\\\\":\\\\\\\"C1701_V2Site5_3200Ch22_RFBarX12Deg_1.mat\\\\\\\",\\\\\\\"val\\\\\\\":262,\\\\\\\"id\\\\\\\":\\\\\\\"id8iV92zvs\\\\\\\"},{\\\\\\\"key\\\\\\\":\\\\\\\"C1701_V2Site5_3200Ch22_RFBarY12Deg_1.mat\\\\\\\",\\\\\\\"val\\\\\\\":263,\\\\\\\"id\\\\\\\":\\\\\\\"idYenGyzzL\\\\\\\"},{\\\\\\\"key\\\\\\\":\\\\\\\"C1701_V2Site5_3200Ch22_RFGrating24Deg_1.mat\\\\\\\",\\\\\\\"val\\\\\\\":264,\\\\\\\"id\\\\\\\":\\\\\\\"idhG6uFcJm\\\\\\\"},{\\\\\\\"key\\\\\\\":\\\\\\\"C1701_V2Site5_3200Ch22_SpatialFreq_1.mat\\\\\\\",\\\\\\\"val\\\\\\\":265,\\\\\\\"id\\\\\\\":\\\\\\\"idPf9Ftwc1\\\\\\\"},{\\\\\\\"key\\\\\\\":\\\\\\\"C1701_V2Site5_3200Ch22_TemporalFreq_1.mat\\\\\\\",\\\\\\\"val\\\\\\\":266,\\\\\\\"id\\\\\\\":\\\\\\\"idDMCm74uK\\\\\\\"},{\\\\\\\"key\\\\\\\":\\\\\\\"C1701_V2Site5_3200Ch23_Diameter_1.mat\\\\\\\",\\\\\\\"val\\\\\\\":267,\\\\\\\"id\\\\\\\":\\\\\\\"idaFd8tY3m\\\\\\\"},{\\\\\\\"key\\\\\\\":\\\\\\\"C1701_V2Site5_3200Ch23_Image_1.mat\\\\\\\",\\\\\\\"val\\\\\\\":268,\\\\\\\"id\\\\\\\":\\\\\\\"idValjrtbz\\\\\\\"},{\\\\\\\"key\\\\\\\":\\\\\\\"C1701_V2Site5_3200Ch23_OriGrating_1.mat\\\\\\\",\\\\\\\"val\\\\\\\":269,\\\\\\\"id\\\\\\\":\\\\\\\"idqIb9tigU\\\\\\\"},{\\\\\\\"key\\\\\\\":\\\\\\\"C1701_V2Site5_3200Ch23_RFBarX12Deg_1.mat\\\\\\\",\\\\\\\"val\\\\\\\":270,\\\\\\\"id\\\\\\\":\\\\\\\"idwtlMNumK\\\\\\\"},{\\\\\\\"key\\\\\\\":\\\\\\\"C1701_V2Site5_3200Ch23_RFBarY12Deg_1.mat\\\\\\\",\\\\\\\"val\\\\\\\":271,\\\\\\\"id\\\\\\\":\\\\\\\"iduldrktpp\\\\\\\"},{\\\\\\\"key\\\\\\\":\\\\\\\"C1701_V2Site5_3200Ch23_RFGrating8Deg_1.mat\\\\\\\",\\\\\\\"val\\\\\\\":272,\\\\\\\"id\\\\\\\":\\\\\\\"idNQYPoS0Y\\\\\\\"},{\\\\\\\"key\\\\\\\":\\\\\\\"C1701_V2Site5_3200Ch23_RFGrating8Deg_2.mat\\\\\\\",\\\\\\\"val\\\\\\\":273,\\\\\\\"id\\\\\\\":\\\\\\\"id8FqzU3g5\\\\\\\"},{\\\\\\\"key\\\\\\\":\\\\\\\"C1701_V2Site5_3200Ch23_SpatialFreq_1.mat\\\\\\\",\\\\\\\"val\\\\\\\":274,\\\\\\\"id\\\\\\\":\\\\\\\"idbbKC0iYS\\\\\\\"},{\\\\\\\"key\\\\\\\":\\\\\\\"C1701_V2Site5_3200Ch23_TemporalFreq_1.mat\\\\\\\",\\\\\\\"val\\\\\\\":275,\\\\\\\"id\\\\\\\":\\\\\\\"idULLW9pzA\\\\\\\"},{\\\\\\\"key\\\\\\\":\\\\\\\"C1701_V2Site5_3200Ch6_Contrast_1.mat\\\\\\\",\\\\\\\"val\\\\\\\":276,\\\\\\\"id\\\\\\\":\\\\\\\"id9aSxdSIv\\\\\\\"},{\\\\\\\"key\\\\\\\":\\\\\\\"C1701_V2Site5_3200Ch6_Diameter_1.mat\\\\\\\",\\\\\\\"val\\\\\\\":277,\\\\\\\"id\\\\\\\":\\\\\\\"id6iit4Gq4\\\\\\\"},{\\\\\\\"key\\\\\\\":\\\\\\\"C1701_V2Site5_3200Ch6_Image_1.mat\\\\\\\",\\\\\\\"val\\\\\\\":278,\\\\\\\"id\\\\\\\":\\\\\\\"id89gp9u2W\\\\\\\"},{\\\\\\\"key\\\\\\\":\\\\\\\"C1701_V2Site5_3200Ch6_OriGrating_1.mat\\\\\\\",\\\\\\\"val\\\\\\\":279,\\\\\\\"id\\\\\\\":\\\\\\\"idJXVH8Cjj\\\\\\\"},{\\\\\\\"key\\\\\\\":\\\\\\\"C1701_V2Site5_3200Ch6_OriGrating_2.mat\\\\\\\",\\\\\\\"val\\\\\\\":280,\\\\\\\"id\\\\\\\":\\\\\\\"idX8GAllkW\\\\\\\"},{\\\\\\\"key\\\\\\\":\\\\\\\"C1701_V2Site5_3200Ch6_RFBarX12Deg_1.mat\\\\\\\",\\\\\\\"val\\\\\\\":281,\\\\\\\"id\\\\\\\":\\\\\\\"idipKZ5aJF\\\\\\\"},{\\\\\\\"key\\\\\\\":\\\\\\\"C1701_V2Site5_3200Ch6_RFBarX4Deg_1.mat\\\\\\\",\\\\\\\"val\\\\\\\":282,\\\\\\\"id\\\\\\\":\\\\\\\"idWRaHI7LB\\\\\\\"},{\\\\\\\"key\\\\\\\":\\\\\\\"C1701_V2Site5_3200Ch6_RFBarY12Deg_1.mat\\\\\\\",\\\\\\\"val\\\\\\\":283,\\\\\\\"id\\\\\\\":\\\\\\\"idB4SDCUBh\\\\\\\"},{\\\\\\\"key\\\\\\\":\\\\\\\"C1701_V2Site5_3200Ch6_RFBarY4Deg_1.mat\\\\\\\",\\\\\\\"val\\\\\\\":284,\\\\\\\"id\\\\\\\":\\\\\\\"idXnbTnNlW\\\\\\\"},{\\\\\\\"key\\\\\\\":\\\\\\\"C1701_V2Site5_3200Ch6_RFGrating12Deg_1.mat\\\\\\\",\\\\\\\"val\\\\\\\":285,\\\\\\\"id\\\\\\\":\\\\\\\"idBZrdpVUH\\\\\\\"},{\\\\\\\"key\\\\\\\":\\\\\\\"C1701_V2Site5_3200Ch6_RFGrating12Deg_2.mat\\\\\\\",\\\\\\\"val\\\\\\\":286,\\\\\\\"id\\\\\\\":\\\\\\\"idG8R5MnfU\\\\\\\"},{\\\\\\\"key\\\\\\\":\\\\\\\"C1701_V2Site5_3200Ch6_SpatialFreq_1.mat\\\\\\\",\\\\\\\"val\\\\\\\":287,\\\\\\\"id\\\\\\\":\\\\\\\"idmLJLKsR1\\\\\\\"},{\\\\\\\"key\\\\\\\":\\\\\\\"C1701_V2Site5_3200Ch6_SpatialFreq_2.mat\\\\\\\",\\\\\\\"val\\\\\\\":288,\\\\\\\"id\\\\\\\":\\\\\\\"idWYGcvJcg\\\\\\\"},{\\\\\\\"key\\\\\\\":\\\\\\\"C1701_V2Site5_3200Ch6_TemporalFreq_1.mat\\\\\\\",\\\\\\\"val\\\\\\\":289,\\\\\\\"id\\\\\\\":\\\\\\\"idTT8PMfwW\\\\\\\"},{\\\\\\\"key\\\\\\\":\\\\\\\"C1701_V2Site5_3200Ch6_TemporalFreq_2.mat\\\\\\\",\\\\\\\"val\\\\\\\":290,\\\\\\\"id\\\\\\\":\\\\\\\"id3uGwhYSS\\\\\\\"}],\\\\\\\"index\\\\\\\":1}\\\");\\n    var self = this;\\n    function AppViewModel() {\\n        for (var key in json_data) {\\n            var el = json_data[key];\\n            this[key] = Array.isArray(el) ? ko.observableArray(el) : ko.observable(el);\\n        }\\n        [this[\\\"disablePlaceholder\\\"]=function(option, item) {\\n    ko.applyBindingsToNode(option, {disable: item.val == 0}, item);\\n}\\n]\\n        \\n        [this[\\\"options_js\\\"].subscribe((function (val){!(this.valueFromJulia[\\\"options_js\\\"]) ? (_webIOScope.setObservableValue({\\\"name\\\":\\\"options_js\\\",\\\"scope\\\":\\\"knockout-component-d4986eae-cabd-4177-9d21-015683b55a8d\\\",\\\"id\\\":\\\"ob_22\\\",\\\"type\\\":\\\"observable\\\"},val)) : undefined; return this.valueFromJulia[\\\"options_js\\\"]=false}),self),this[\\\"index\\\"].subscribe((function (val){!(this.valueFromJulia[\\\"index\\\"]) ? (_webIOScope.setObservableValue({\\\"name\\\":\\\"index\\\",\\\"scope\\\":\\\"knockout-component-d4986eae-cabd-4177-9d21-015683b55a8d\\\",\\\"id\\\":\\\"ob_21\\\",\\\"type\\\":\\\"observable\\\"},val)) : undefined; return this.valueFromJulia[\\\"index\\\"]=false}),self)]\\n        \\n    }\\n    self.model = new AppViewModel();\\n    self.valueFromJulia = {};\\n    for (var key in json_data) {\\n        self.valueFromJulia[key] = false;\\n    }\\n    ko.applyBindings(self.model, self.dom);\\n}\\n\"]},\"options_js\":[\"(function (val){return (val!=this.model[\\\"options_js\\\"]()) ? (this.valueFromJulia[\\\"options_js\\\"]=true, this.model[\\\"options_js\\\"](val)) : undefined})\"],\"index\":[\"(function (val){return (val!=this.model[\\\"index\\\"]()) ? (this.valueFromJulia[\\\"index\\\"]=true, this.model[\\\"index\\\"](val)) : undefined})\"]},\"systemjs_options\":null,\"observables\":{\"options_js\":{\"sync\":false,\"id\":\"ob_22\",\"value\":[{\"key\":\"C1701_V2Site1_3000Ch21_Diameter_1.mat\",\"val\":1,\"id\":\"idSLfU9FGg\"},{\"key\":\"C1701_V2Site1_3000Ch21_Diameter_2.mat\",\"val\":2,\"id\":\"idtmvkAul7\"},{\"key\":\"C1701_V2Site1_3000Ch21_Diameter_3.mat\",\"val\":3,\"id\":\"idEGee0moI\"},{\"key\":\"C1701_V2Site1_3000Ch21_Diameter_4.mat\",\"val\":4,\"id\":\"id7x5WGe9x\"},{\"key\":\"C1701_V2Site1_3000Ch21_Diameter_5.mat\",\"val\":5,\"id\":\"id10qHMy9M\"},{\"key\":\"C1701_V2Site1_3000Ch21_Diameter_6.mat\",\"val\":6,\"id\":\"idbGJzUgsC\"},{\"key\":\"C1701_V2Site1_3000Ch21_Diameter_7.mat\",\"val\":7,\"id\":\"idz6fQRmI6\"},{\"key\":\"C1701_V2Site1_3000Ch21_Image_1.mat\",\"val\":8,\"id\":\"idS4PiXaMx\"},{\"key\":\"C1701_V2Site1_3000Ch21_Image_2.mat\",\"val\":9,\"id\":\"idTEzrrbuR\"},{\"key\":\"C1701_V2Site1_3000Ch21_OriGrating_1.mat\",\"val\":10,\"id\":\"id00Zod3Nv\"},{\"key\":\"C1701_V2Site1_3000Ch21_OriGrating_2.mat\",\"val\":11,\"id\":\"idtey04q8Z\"},{\"key\":\"C1701_V2Site1_3000Ch21_OriGrating_3.mat\",\"val\":12,\"id\":\"id6jNd3nr8\"},{\"key\":\"C1701_V2Site1_3000Ch21_OriOffsetGrating_1.mat\",\"val\":13,\"id\":\"idMwLvfq4Q\"},{\"key\":\"C1701_V2Site1_3000Ch21_OriOffsetGrating_2.mat\",\"val\":14,\"id\":\"id17EFZDz7\"},{\"key\":\"C1701_V2Site1_3000Ch21_RFBarX4Deg_1.mat\",\"val\":15,\"id\":\"idLuA3gCCL\"},{\"key\":\"C1701_V2Site1_3000Ch21_RFBarX4Deg_2.mat\",\"val\":16,\"id\":\"id1sP6N9GZ\"},{\"key\":\"C1701_V2Site1_3000Ch21_RFBarY2Deg_1.mat\",\"val\":17,\"id\":\"id5RCuxdQu\"},{\"key\":\"C1701_V2Site1_3000Ch21_RFBarY4Deg_1.mat\",\"val\":18,\"id\":\"idH3W839hm\"},{\"key\":\"C1701_V2Site1_3000Ch21_RFBarY4Deg_2.mat\",\"val\":19,\"id\":\"idZXUeRagR\"},{\"key\":\"C1701_V2Site1_3000Ch21_RFBarY4Deg_3.mat\",\"val\":20,\"id\":\"id4LyndiEk\"},{\"key\":\"C1701_V2Site1_3000Ch21_RFGrating12Deg_1.mat\",\"val\":21,\"id\":\"idRjDRRmyd\"},{\"key\":\"C1701_V2Site1_3000Ch21_RFGrating24Deg_1.mat\",\"val\":22,\"id\":\"id2eSQeO1g\"},{\"key\":\"C1701_V2Site1_3000Ch21_RFGrating24Deg_2.mat\",\"val\":23,\"id\":\"idReo3H8WH\"},{\"key\":\"C1701_V2Site1_3000Ch21_RFGrating4Deg_1.mat\",\"val\":24,\"id\":\"ideEtLMvd9\"},{\"key\":\"C1701_V2Site1_3000Ch21_RFGrating8Deg_1.mat\",\"val\":25,\"id\":\"id4j0giqo5\"},{\"key\":\"C1701_V2Site1_3000Ch21_RFGrating8Deg_2.mat\",\"val\":26,\"id\":\"idh3TlAiOd\"},{\"key\":\"C1701_V2Site1_3000Ch21_RFGrating8Deg_3.mat\",\"val\":27,\"id\":\"idQ4upZoLx\"},{\"key\":\"C1701_V2Site1_3000Ch21_SpatialFreq_1.mat\",\"val\":28,\"id\":\"idCHFdUT7k\"},{\"key\":\"C1701_V2Site1_3000Ch21_SpatialFreq_2.mat\",\"val\":29,\"id\":\"idYzQkNGe1\"},{\"key\":\"C1701_V2Site1_3000Ch21_SpatialFreq_3.mat\",\"val\":30,\"id\":\"idqFa6ntOW\"},{\"key\":\"C1701_V2Site1_3000Ch21_TemporalFreq_1.mat\",\"val\":31,\"id\":\"id1FpX88ks\"},{\"key\":\"C1701_V2Site1_3000Ch21_TemporalFreq_2.mat\",\"val\":32,\"id\":\"idUi6EEuJD\"},{\"key\":\"C1701_V2Site1_3000Ch21_TemporalFreq_3.mat\",\"val\":33,\"id\":\"idRq7guCJE\"},{\"key\":\"C1701_V2Site1_3339Ch17_Diameter_1.mat\",\"val\":34,\"id\":\"idcDOvp83p\"},{\"key\":\"C1701_V2Site1_3339Ch17_Diameter_2.mat\",\"val\":35,\"id\":\"idPpgiS2Pk\"},{\"key\":\"C1701_V2Site1_3339Ch17_Diameter_3.mat\",\"val\":36,\"id\":\"idZTv1LjtL\"},{\"key\":\"C1701_V2Site1_3339Ch17_Diameter_4.mat\",\"val\":37,\"id\":\"idXAT5J1Iz\"},{\"key\":\"C1701_V2Site1_3339Ch17_Image_1.mat\",\"val\":38,\"id\":\"id94Y7v8Lp\"},{\"key\":\"C1701_V2Site1_3339Ch17_Image_2.mat\",\"val\":39,\"id\":\"idsSrDB6gn\"},{\"key\":\"C1701_V2Site1_3339Ch17_OriGrating_1.mat\",\"val\":40,\"id\":\"idLm5Q5Or7\"},{\"key\":\"C1701_V2Site1_3339Ch17_OriGrating_10.mat\",\"val\":41,\"id\":\"idTYUQaw1y\"},{\"key\":\"C1701_V2Site1_3339Ch17_OriGrating_2.mat\",\"val\":42,\"id\":\"ideDDHL0j9\"},{\"key\":\"C1701_V2Site1_3339Ch17_OriGrating_3.mat\",\"val\":43,\"id\":\"idzKGjZQcQ\"},{\"key\":\"C1701_V2Site1_3339Ch17_OriGrating_4.mat\",\"val\":44,\"id\":\"id0wnMmI4W\"},{\"key\":\"C1701_V2Site1_3339Ch17_OriGrating_5.mat\",\"val\":45,\"id\":\"idua18qXr6\"},{\"key\":\"C1701_V2Site1_3339Ch17_OriGrating_6.mat\",\"val\":46,\"id\":\"idwxN0M6Sh\"},{\"key\":\"C1701_V2Site1_3339Ch17_OriGrating_7.mat\",\"val\":47,\"id\":\"idQvTuieZp\"},{\"key\":\"C1701_V2Site1_3339Ch17_OriGrating_8.mat\",\"val\":48,\"id\":\"id04dlOaT0\"},{\"key\":\"C1701_V2Site1_3339Ch17_OriGrating_9.mat\",\"val\":49,\"id\":\"idk9SO6bnB\"},{\"key\":\"C1701_V2Site1_3339Ch17_RFBarX4Deg_1.mat\",\"val\":50,\"id\":\"idNr04jccj\"},{\"key\":\"C1701_V2Site1_3339Ch17_RFBarX4Deg_2.mat\",\"val\":51,\"id\":\"idb0sXiL1V\"},{\"key\":\"C1701_V2Site1_3339Ch17_RFBarX4Deg_3.mat\",\"val\":52,\"id\":\"idKYBAi5Xi\"},{\"key\":\"C1701_V2Site1_3339Ch17_RFBarX4Deg_4.mat\",\"val\":53,\"id\":\"id2yuH7KRf\"},{\"key\":\"C1701_V2Site1_3339Ch17_RFBarY4Deg_1.mat\",\"val\":54,\"id\":\"idBo0ErJUE\"},{\"key\":\"C1701_V2Site1_3339Ch17_RFBarY4Deg_2.mat\",\"val\":55,\"id\":\"idXwBPCrbp\"},{\"key\":\"C1701_V2Site1_3339Ch17_RFBarY4Deg_3.mat\",\"val\":56,\"id\":\"idFuq9a2fc\"},{\"key\":\"C1701_V2Site1_3339Ch17_RFGrating4Deg_1.mat\",\"val\":57,\"id\":\"iduy2CPChE\"},{\"key\":\"C1701_V2Site1_3339Ch17_RFGrating8Deg_1.mat\",\"val\":58,\"id\":\"idP4FENa8g\"},{\"key\":\"C1701_V2Site1_3339Ch17_SpatialFreq_1.mat\",\"val\":59,\"id\":\"iduLvVvWMK\"},{\"key\":\"C1701_V2Site1_3339Ch17_SpatialFreq_2.mat\",\"val\":60,\"id\":\"idHhefKU5d\"},{\"key\":\"C1701_V2Site1_3339Ch17_SpatialFreq_3.mat\",\"val\":61,\"id\":\"idrEE1kTNt\"},{\"key\":\"C1701_V2Site1_3339Ch17_TemporalFreq_1.mat\",\"val\":62,\"id\":\"idVMWTM7oV\"},{\"key\":\"C1701_V2Site1_3339Ch17_TemporalFreq_2.mat\",\"val\":63,\"id\":\"idoPRYYef6\"},{\"key\":\"C1701_V2Site1_3339Ch17_TemporalFreq_3.mat\",\"val\":64,\"id\":\"idV1SHXMls\"},{\"key\":\"C1701_V2Site1_3339Ch18_Contrast_1.mat\",\"val\":65,\"id\":\"idIRKZTfzi\"},{\"key\":\"C1701_V2Site1_3339Ch18_Diameter_1.mat\",\"val\":66,\"id\":\"idAl11pLuU\"},{\"key\":\"C1701_V2Site1_3339Ch18_Image_1.mat\",\"val\":67,\"id\":\"idZdb0lk2V\"},{\"key\":\"C1701_V2Site1_3339Ch18_Image_2.mat\",\"val\":68,\"id\":\"idns8dxQOn\"},{\"key\":\"C1701_V2Site1_3339Ch18_Image_3.mat\",\"val\":69,\"id\":\"id1EF3PTad\"},{\"key\":\"C1701_V2Site1_3339Ch18_OriGrating_1.mat\",\"val\":70,\"id\":\"idT3dKKr0E\"},{\"key\":\"C1701_V2Site1_3339Ch18_RFBarX4Deg_1.mat\",\"val\":71,\"id\":\"id5PGWuTOA\"},{\"key\":\"C1701_V2Site1_3339Ch18_RFBarY4Deg_1.mat\",\"val\":72,\"id\":\"idboB4EGwZ\"},{\"key\":\"C1701_V2Site1_3339Ch18_RFGrating8Deg_1.mat\",\"val\":73,\"id\":\"idMItmc1Lu\"},{\"key\":\"C1701_V2Site1_3339Ch18_SpatialFreq_1.mat\",\"val\":74,\"id\":\"idBMd6Wq78\"},{\"key\":\"C1701_V2Site1_3339Ch18_SpatialFreq_2.mat\",\"val\":75,\"id\":\"idxJA8wJvx\"},{\"key\":\"C1701_V2Site1_3339Ch18_TemporalFreq_1.mat\",\"val\":76,\"id\":\"idLswxkkSL\"},{\"key\":\"C1701_V2Site1_3419Ch19_Diameter_1.mat\",\"val\":77,\"id\":\"id0eqco3e1\"},{\"key\":\"C1701_V2Site1_3419Ch19_Image_1.mat\",\"val\":78,\"id\":\"idx1A1ZiiO\"},{\"key\":\"C1701_V2Site1_3419Ch19_OriGrating_1.mat\",\"val\":79,\"id\":\"idAAIcmSj5\"},{\"key\":\"C1701_V2Site1_3419Ch19_RFBarX12Deg_1.mat\",\"val\":80,\"id\":\"idxD1uJKmv\"},{\"key\":\"C1701_V2Site1_3419Ch19_RFBarX4Deg_1.mat\",\"val\":81,\"id\":\"idU873bSY8\"},{\"key\":\"C1701_V2Site1_3419Ch19_RFBarY12Deg_1.mat\",\"val\":82,\"id\":\"idA8Y17E8f\"},{\"key\":\"C1701_V2Site1_3419Ch19_RFBarY4Deg_1.mat\",\"val\":83,\"id\":\"idPHBzYnrz\"},{\"key\":\"C1701_V2Site1_3419Ch19_RFGrating12Deg_1.mat\",\"val\":84,\"id\":\"idDqj2Fn0N\"},{\"key\":\"C1701_V2Site1_3419Ch19_RFGrating8Deg_1.mat\",\"val\":85,\"id\":\"id3Mvee9rm\"},{\"key\":\"C1701_V2Site1_3419Ch19_SpatialFreq_1.mat\",\"val\":86,\"id\":\"idtYBTBDxh\"},{\"key\":\"C1701_V2Site1_3419Ch19_TemporalFreq_1.mat\",\"val\":87,\"id\":\"idyFXM6F7i\"},{\"key\":\"C1701_V2Site1_3544Ch18_OriGrating_1.mat\",\"val\":88,\"id\":\"id6kUabFRx\"},{\"key\":\"C1701_V2Site1_3544Ch18_RFGrating8Deg_1.mat\",\"val\":89,\"id\":\"idkKKSjZjG\"},{\"key\":\"C1701_V2Site1_3544Ch18_RFGrating8Deg_2.mat\",\"val\":90,\"id\":\"idp97t7m4J\"},{\"key\":\"C1701_V2Site1_3544Ch18_SpatialFreq_1.mat\",\"val\":91,\"id\":\"idz08KeZ5N\"},{\"key\":\"C1701_V2Site1_3544Ch18_TemporalFreq_1.mat\",\"val\":92,\"id\":\"idW1rbIsAI\"},{\"key\":\"C1701_V2Site1_3544Ch23_Diameter_1.mat\",\"val\":93,\"id\":\"idC4jlTqFB\"},{\"key\":\"C1701_V2Site1_3544Ch23_Image_1.mat\",\"val\":94,\"id\":\"idbABXtuJr\"},{\"key\":\"C1701_V2Site1_3544Ch23_OriGrating_1.mat\",\"val\":95,\"id\":\"idXgVgi7Qu\"},{\"key\":\"C1701_V2Site1_3544Ch23_OriGrating_2.mat\",\"val\":96,\"id\":\"idWvtWs2eC\"},{\"key\":\"C1701_V2Site1_3544Ch23_RFBarX4Deg_1.mat\",\"val\":97,\"id\":\"idRkP4thEb\"},{\"key\":\"C1701_V2Site1_3544Ch23_RFBarY4Deg_1.mat\",\"val\":98,\"id\":\"idAEvxUHrh\"},{\"key\":\"C1701_V2Site1_3544Ch23_RFBarY4Deg_2.mat\",\"val\":99,\"id\":\"id1whnosUo\"},{\"key\":\"C1701_V2Site1_3544Ch23_RFGrating8Deg_1.mat\",\"val\":100,\"id\":\"id38v4gnXw\"},{\"key\":\"C1701_V2Site1_3544Ch23_RFGrating8Deg_2.mat\",\"val\":101,\"id\":\"idvQGn0yzF\"},{\"key\":\"C1701_V2Site1_3544Ch23_SpatialFreq_1.mat\",\"val\":102,\"id\":\"id9pgXQigd\"},{\"key\":\"C1701_V2Site1_3544Ch23_TemporalFreq_1.mat\",\"val\":103,\"id\":\"idxi3XCHTs\"},{\"key\":\"C1701_V2Site2_3000Ch18_Diameter_1.mat\",\"val\":104,\"id\":\"iddBlU0oY1\"},{\"key\":\"C1701_V2Site2_3000Ch18_Diameter_2.mat\",\"val\":105,\"id\":\"id6IQbipdt\"},{\"key\":\"C1701_V2Site2_3000Ch18_Diameter_3.mat\",\"val\":106,\"id\":\"idhKSkVRp9\"},{\"key\":\"C1701_V2Site2_3000Ch18_Diameter_4.mat\",\"val\":107,\"id\":\"idlleIh1Iv\"},{\"key\":\"C1701_V2Site2_3000Ch18_Image_1.mat\",\"val\":108,\"id\":\"idT9uQESdk\"},{\"key\":\"C1701_V2Site2_3000Ch18_LaserOriGrating_1.mat\",\"val\":109,\"id\":\"idD6Nb4Xmw\"},{\"key\":\"C1701_V2Site2_3000Ch18_Laser_1.mat\",\"val\":110,\"id\":\"idMlLHHTWM\"},{\"key\":\"C1701_V2Site2_3000Ch18_OriGrating_1.mat\",\"val\":111,\"id\":\"iduIIbiK1W\"},{\"key\":\"C1701_V2Site2_3000Ch18_RFBarX12Deg_1.mat\",\"val\":112,\"id\":\"idx9TuuoWZ\"},{\"key\":\"C1701_V2Site2_3000Ch18_RFBarY12Deg_1.mat\",\"val\":113,\"id\":\"idCT26vdsM\"},{\"key\":\"C1701_V2Site2_3000Ch18_RFGrating12Deg_1.mat\",\"val\":114,\"id\":\"idJpKTsAnp\"},{\"key\":\"C1701_V2Site2_3000Ch18_RFGrating12Deg_2.mat\",\"val\":115,\"id\":\"idpHIuN1EZ\"},{\"key\":\"C1701_V2Site2_3000Ch18_SpatialFreq_1.mat\",\"val\":116,\"id\":\"idLxJA1NMF\"},{\"key\":\"C1701_V2Site2_3000Ch18_SpatialFreq_2.mat\",\"val\":117,\"id\":\"idIydou6zC\"},{\"key\":\"C1701_V2Site2_3000Ch18_TemporalFreq_1.mat\",\"val\":118,\"id\":\"idALvzWBN0\"},{\"key\":\"C1701_V2Site2_3000Ch18_TemporalFreq_2.mat\",\"val\":119,\"id\":\"idhVIQyMcY\"},{\"key\":\"C1701_V2Site2_3000Ch21_Diameter_1.mat\",\"val\":120,\"id\":\"idrgqWF9uI\"},{\"key\":\"C1701_V2Site2_3000Ch21_Image_1.mat\",\"val\":121,\"id\":\"id6gimFuWc\"},{\"key\":\"C1701_V2Site2_3000Ch21_LaserImage_1.mat\",\"val\":122,\"id\":\"idcO5RmJ7x\"},{\"key\":\"C1701_V2Site2_3000Ch21_Laser_1.mat\",\"val\":123,\"id\":\"idqcmTLygM\"},{\"key\":\"C1701_V2Site2_3000Ch21_OriGrating_1.mat\",\"val\":124,\"id\":\"idqR3h3ikZ\"},{\"key\":\"C1701_V2Site2_3000Ch21_RFBarX12Deg_1.mat\",\"val\":125,\"id\":\"idW1IHJ0wY\"},{\"key\":\"C1701_V2Site2_3000Ch21_RFBarX12Deg_2.mat\",\"val\":126,\"id\":\"idVnH5FD7a\"},{\"key\":\"C1701_V2Site2_3000Ch21_RFBarX4Deg_1.mat\",\"val\":127,\"id\":\"id97GmNnwX\"},{\"key\":\"C1701_V2Site2_3000Ch21_RFBarY12Deg_1.mat\",\"val\":128,\"id\":\"id5q12oWrY\"},{\"key\":\"C1701_V2Site2_3000Ch21_RFBarY4Deg_1.mat\",\"val\":129,\"id\":\"idbnVeSiJB\"},{\"key\":\"C1701_V2Site2_3000Ch21_RFBarY4Deg_2.mat\",\"val\":130,\"id\":\"ide1EKFvpS\"},{\"key\":\"C1701_V2Site2_3000Ch21_RFGrating8Deg_1.mat\",\"val\":131,\"id\":\"idpfxQDUp3\"},{\"key\":\"C1701_V2Site2_3000Ch21_SpatialFreq_1.mat\",\"val\":132,\"id\":\"idABuRLcPg\"},{\"key\":\"C1701_V2Site2_3000Ch21_TemporalFreq_1.mat\",\"val\":133,\"id\":\"idPs6BNnhu\"},{\"key\":\"C1701_V2Site2_3000Ch22_Diameter_1.mat\",\"val\":134,\"id\":\"id4ecU8v7h\"},{\"key\":\"C1701_V2Site2_3000Ch22_Diameter_2.mat\",\"val\":135,\"id\":\"idd43ESRrX\"},{\"key\":\"C1701_V2Site2_3000Ch22_Diameter_3.mat\",\"val\":136,\"id\":\"idOuNipsiP\"},{\"key\":\"C1701_V2Site2_3000Ch22_Image_1.mat\",\"val\":137,\"id\":\"id1aZOfxL6\"},{\"key\":\"C1701_V2Site2_3000Ch22_Image_2.mat\",\"val\":138,\"id\":\"idDvG3YCJc\"},{\"key\":\"C1701_V2Site2_3000Ch22_LaserImage_1.mat\",\"val\":139,\"id\":\"idzxuDFlz4\"},{\"key\":\"C1701_V2Site2_3000Ch22_LaserOriGrating_1.mat\",\"val\":140,\"id\":\"idq4RjdTmZ\"},{\"key\":\"C1701_V2Site2_3000Ch22_Laser_1.mat\",\"val\":141,\"id\":\"idflDnsF0j\"},{\"key\":\"C1701_V2Site2_3000Ch22_OriGrating_1.mat\",\"val\":142,\"id\":\"idlbtYyygx\"},{\"key\":\"C1701_V2Site2_3000Ch22_RFBarY4Deg_1.mat\",\"val\":143,\"id\":\"iddCPlK0RB\"},{\"key\":\"C1701_V2Site2_3000Ch22_RFBarY4Deg_2.mat\",\"val\":144,\"id\":\"idCB1uWyEg\"},{\"key\":\"C1701_V2Site2_3000Ch22_RFBarY4Deg_3.mat\",\"val\":145,\"id\":\"idnCtt74Vs\"},{\"key\":\"C1701_V2Site2_3000Ch22_RFGrating12Deg_1.mat\",\"val\":146,\"id\":\"idMYgL1u42\"},{\"key\":\"C1701_V2Site2_3000Ch22_RFGrating4Deg_1.mat\",\"val\":147,\"id\":\"idY3bdiZsB\"},{\"key\":\"C1701_V2Site2_3000Ch22_RFGrating8Deg_1.mat\",\"val\":148,\"id\":\"idwMyvX6ao\"},{\"key\":\"C1701_V2Site2_3000Ch22_SpatialFreq_1.mat\",\"val\":149,\"id\":\"id4LMPyEie\"},{\"key\":\"C1701_V2Site2_3000Ch22_SpatialFreq_2.mat\",\"val\":150,\"id\":\"idKsIEzb13\"},{\"key\":\"C1701_V2Site2_3000Ch22_SpatialFreq_3.mat\",\"val\":151,\"id\":\"idc4LH9uPN\"},{\"key\":\"C1701_V2Site2_3000Ch22_TemporalFreq_1.mat\",\"val\":152,\"id\":\"idWMusWwBO\"},{\"key\":\"C1701_V2Site2_3000Ch22_TemporalFreq_2.mat\",\"val\":153,\"id\":\"id3su9QldJ\"},{\"key\":\"C1701_V2Site2_3000Ch22_TemporalFreq_3.mat\",\"val\":154,\"id\":\"id1ZjgqfkT\"},{\"key\":\"C1701_V2Site2_3549Ch22_Diameter_1.mat\",\"val\":155,\"id\":\"idrNtQSLR0\"},{\"key\":\"C1701_V2Site2_3549Ch22_Diameter_2.mat\",\"val\":156,\"id\":\"id7BqFzJO8\"},{\"key\":\"C1701_V2Site2_3549Ch22_Image_1.mat\",\"val\":157,\"id\":\"id5guTzXhE\"},{\"key\":\"C1701_V2Site2_3549Ch22_LaserImage_1.mat\",\"val\":158,\"id\":\"idDNXW602B\"},{\"key\":\"C1701_V2Site2_3549Ch22_LaserOriGrating_1.mat\",\"val\":159,\"id\":\"idqf1neA2u\"},{\"key\":\"C1701_V2Site2_3549Ch22_Laser_1.mat\",\"val\":160,\"id\":\"idKtLhzsrw\"},{\"key\":\"C1701_V2Site2_3549Ch22_OriGrating_1.mat\",\"val\":161,\"id\":\"idxhgqxvzv\"},{\"key\":\"C1701_V2Site2_3549Ch22_RFBarX4Deg_1.mat\",\"val\":162,\"id\":\"idlcUFTr0N\"},{\"key\":\"C1701_V2Site2_3549Ch22_RFBarY4Deg_1.mat\",\"val\":163,\"id\":\"idsd8l6z1T\"},{\"key\":\"C1701_V2Site2_3549Ch22_RFGrating4Deg_1.mat\",\"val\":164,\"id\":\"idBGXEU1dZ\"},{\"key\":\"C1701_V2Site2_3549Ch22_RFGrating4Deg_2.mat\",\"val\":165,\"id\":\"idCY851ehd\"},{\"key\":\"C1701_V2Site2_3549Ch22_RFGrating4Deg_3.mat\",\"val\":166,\"id\":\"idhatveHtN\"},{\"key\":\"C1701_V2Site2_3549Ch22_RFGrating4Deg_4.mat\",\"val\":167,\"id\":\"id57t7BBVZ\"},{\"key\":\"C1701_V2Site2_3549Ch22_RFGrating8Deg_1.mat\",\"val\":168,\"id\":\"idvNdIFRQX\"},{\"key\":\"C1701_V2Site2_3549Ch22_SpatialFreq_1.mat\",\"val\":169,\"id\":\"idCQ6snXK0\"},{\"key\":\"C1701_V2Site2_3549Ch22_SpatialFreq_2.mat\",\"val\":170,\"id\":\"idA5FB2OJE\"},{\"key\":\"C1701_V2Site2_3549Ch22_SpatialFreq_3.mat\",\"val\":171,\"id\":\"idyGyd9jsz\"},{\"key\":\"C1701_V2Site2_3549Ch22_SpatialFreq_4.mat\",\"val\":172,\"id\":\"idLxwnro6E\"},{\"key\":\"C1701_V2Site2_3549Ch22_TemporalFreq_1.mat\",\"val\":173,\"id\":\"idYoxSUB2f\"},{\"key\":\"C1701_V2Site3_3000Ch20_Contrast_1.mat\",\"val\":174,\"id\":\"idpgLuSsgS\"},{\"key\":\"C1701_V2Site3_3000Ch20_Diameter_1.mat\",\"val\":175,\"id\":\"id2G330QNA\"},{\"key\":\"C1701_V2Site3_3000Ch20_Image_1.mat\",\"val\":176,\"id\":\"idyFXhfrCE\"},{\"key\":\"C1701_V2Site3_3000Ch20_OriGrating_1.mat\",\"val\":177,\"id\":\"id5nKk0Akk\"},{\"key\":\"C1701_V2Site3_3000Ch20_RFBarX4Deg_1.mat\",\"val\":178,\"id\":\"idOQrYbPDK\"},{\"key\":\"C1701_V2Site3_3000Ch20_RFBarY4Deg_1.mat\",\"val\":179,\"id\":\"idsf6G5YUf\"},{\"key\":\"C1701_V2Site3_3000Ch20_RFGrating4Deg_1.mat\",\"val\":180,\"id\":\"idSl1eKQe2\"},{\"key\":\"C1701_V2Site3_3000Ch20_RFGrating8Deg_1.mat\",\"val\":181,\"id\":\"idLtxiS7qc\"},{\"key\":\"C1701_V2Site3_3000Ch20_SpatialFreq_1.mat\",\"val\":182,\"id\":\"idI6FgEqw0\"},{\"key\":\"C1701_V2Site3_3000Ch20_TemporalFreq_1.mat\",\"val\":183,\"id\":\"idixmm13AN\"},{\"key\":\"C1701_V2Site3_3000Ch23_Contrast_1.mat\",\"val\":184,\"id\":\"idxzEH5J6m\"},{\"key\":\"C1701_V2Site3_3000Ch23_Image_1.mat\",\"val\":185,\"id\":\"idxbWRudO5\"},{\"key\":\"C1701_V2Site3_3000_Diameter_1.mat\",\"val\":186,\"id\":\"idHR6fb3zx\"},{\"key\":\"C1701_V2Site3_3000_OriGrating_1.mat\",\"val\":187,\"id\":\"idaAAyRYK4\"},{\"key\":\"C1701_V2Site3_3000_OriOffsetGrating_1.mat\",\"val\":188,\"id\":\"idjR3ny7ZM\"},{\"key\":\"C1701_V2Site3_3000_RFBarX12Deg_1.mat\",\"val\":189,\"id\":\"idAb6OsX1e\"},{\"key\":\"C1701_V2Site3_3000_RFBarX4Deg_1.mat\",\"val\":190,\"id\":\"id0oSvPEXr\"},{\"key\":\"C1701_V2Site3_3000_RFBarY12Deg_1.mat\",\"val\":191,\"id\":\"idsabtQZjp\"},{\"key\":\"C1701_V2Site3_3000_RFBarY4Deg_1.mat\",\"val\":192,\"id\":\"idVtGF4Iz1\"},{\"key\":\"C1701_V2Site3_3000_RFGrating4Deg_1.mat\",\"val\":193,\"id\":\"idjTVKndO9\"},{\"key\":\"C1701_V2Site3_3000_RFGrating8Deg_1.mat\",\"val\":194,\"id\":\"id62EIAvKW\"},{\"key\":\"C1701_V2Site3_3000_SpatialFreq_1.mat\",\"val\":195,\"id\":\"idXdGYCAb5\"},{\"key\":\"C1701_V2Site3_3000_TemporalFreq_1.mat\",\"val\":196,\"id\":\"idcXFEWt03\"},{\"key\":\"C1701_V2Site3_3544Ch23_Contrast_1.mat\",\"val\":197,\"id\":\"idA4nj2wLi\"},{\"key\":\"C1701_V2Site3_3544Ch23_Contrast_2.mat\",\"val\":198,\"id\":\"idmuQ1KT2t\"},{\"key\":\"C1701_V2Site3_3544Ch23_Diameter_1.mat\",\"val\":199,\"id\":\"idedS9zTyM\"},{\"key\":\"C1701_V2Site3_3544Ch23_Diameter_2.mat\",\"val\":200,\"id\":\"idAli7XRoB\"},{\"key\":\"C1701_V2Site3_3544Ch23_Image_1.mat\",\"val\":201,\"id\":\"iduomUQiQc\"},{\"key\":\"C1701_V2Site3_3544Ch23_Image_2.mat\",\"val\":202,\"id\":\"idrcH3MZfm\"},{\"key\":\"C1701_V2Site3_3544Ch23_Image_3.mat\",\"val\":203,\"id\":\"idvGWK9sK1\"},{\"key\":\"C1701_V2Site3_3544Ch23_Image_4.mat\",\"val\":204,\"id\":\"idZVUOzxZ4\"},{\"key\":\"C1701_V2Site3_3544Ch23_OriGrating_1.mat\",\"val\":205,\"id\":\"idaWCszxHH\"},{\"key\":\"C1701_V2Site3_3544Ch23_OriGrating_2.mat\",\"val\":206,\"id\":\"idbUIQccVP\"},{\"key\":\"C1701_V2Site3_3544Ch23_RFBarX12Deg_1.mat\",\"val\":207,\"id\":\"idfKE2eScf\"},{\"key\":\"C1701_V2Site3_3544Ch23_RFBarX12Deg_2.mat\",\"val\":208,\"id\":\"idbeFrrzCj\"},{\"key\":\"C1701_V2Site3_3544Ch23_RFBarY12Deg_1.mat\",\"val\":209,\"id\":\"idLenFohJO\"},{\"key\":\"C1701_V2Site3_3544Ch23_RFBarY12Deg_2.mat\",\"val\":210,\"id\":\"idh2hAMW7V\"},{\"key\":\"C1701_V2Site3_3544Ch23_RFBarY12Deg_3.mat\",\"val\":211,\"id\":\"id67ZqXb8l\"},{\"key\":\"C1701_V2Site3_3544Ch23_RFBarY4Deg_1.mat\",\"val\":212,\"id\":\"idF7AdFStO\"},{\"key\":\"C1701_V2Site3_3544Ch23_RFGrating4Deg_1.mat\",\"val\":213,\"id\":\"idydlmOfe3\"},{\"key\":\"C1701_V2Site3_3544Ch23_RFGrating8Deg_1.mat\",\"val\":214,\"id\":\"idHhfIgcqD\"},{\"key\":\"C1701_V2Site3_3544Ch23_RFGrating8Deg_2.mat\",\"val\":215,\"id\":\"idtloutpIv\"},{\"key\":\"C1701_V2Site3_3544Ch23_RFGrating8Deg_3.mat\",\"val\":216,\"id\":\"id1jAREvQe\"},{\"key\":\"C1701_V2Site3_3544Ch23_SpatialFreq_1.mat\",\"val\":217,\"id\":\"idVeBuHPII\"},{\"key\":\"C1701_V2Site3_3544Ch23_SpatialFreq_2.mat\",\"val\":218,\"id\":\"idMOj1gKAJ\"},{\"key\":\"C1701_V2Site3_3544Ch23_TemporalFreq_1.mat\",\"val\":219,\"id\":\"idNRsWXkPz\"},{\"key\":\"C1701_V2Site3_3544Ch23_TemporalFreq_2.mat\",\"val\":220,\"id\":\"idvFqa831G\"},{\"key\":\"C1701_V2Site3_4500Ch20_Diameter_1.mat\",\"val\":221,\"id\":\"idyVSwso4n\"},{\"key\":\"C1701_V2Site3_4500Ch20_Image_1.mat\",\"val\":222,\"id\":\"idtY5QIbuT\"},{\"key\":\"C1701_V2Site3_4500Ch20_OriGrating_1.mat\",\"val\":223,\"id\":\"idtepllGNr\"},{\"key\":\"C1701_V2Site3_4500Ch20_RFBarX12Deg_1.mat\",\"val\":224,\"id\":\"idVfRK81Rf\"},{\"key\":\"C1701_V2Site3_4500Ch20_RFBarY12Deg_1.mat\",\"val\":225,\"id\":\"idkIyyYbY1\"},{\"key\":\"C1701_V2Site3_4500Ch20_RFGrating8Deg_1.mat\",\"val\":226,\"id\":\"idBrBzib1X\"},{\"key\":\"C1701_V2Site3_4500Ch20_RFGrating8Deg_2.mat\",\"val\":227,\"id\":\"idwY5Ihrx7\"},{\"key\":\"C1701_V2Site3_4500Ch20_SpatialFreq_1.mat\",\"val\":228,\"id\":\"idBcn2UKhf\"},{\"key\":\"C1701_V2Site3_4500Ch20_TemporalFreq_1.mat\",\"val\":229,\"id\":\"iddUh77dOL\"},{\"key\":\"C1701_V2Site4_3200Ch13_Contrast_1.mat\",\"val\":230,\"id\":\"idqmY99KXV\"},{\"key\":\"C1701_V2Site4_3200Ch13_Diameter_1.mat\",\"val\":231,\"id\":\"idbwx8pbjs\"},{\"key\":\"C1701_V2Site4_3200Ch13_Image_1.mat\",\"val\":232,\"id\":\"idXyVyXkXM\"},{\"key\":\"C1701_V2Site4_3200Ch13_Image_2.mat\",\"val\":233,\"id\":\"idISUJeubW\"},{\"key\":\"C1701_V2Site4_3200Ch13_OriGrating_1.mat\",\"val\":234,\"id\":\"idndFfrOXu\"},{\"key\":\"C1701_V2Site4_3200Ch13_RFBarX12Deg_1.mat\",\"val\":235,\"id\":\"idnXtJoWii\"},{\"key\":\"C1701_V2Site4_3200Ch13_RFBarY12Deg_1.mat\",\"val\":236,\"id\":\"idmzFtkOe9\"},{\"key\":\"C1701_V2Site4_3200Ch13_RFGrating24Deg_1.mat\",\"val\":237,\"id\":\"idnaML8411\"},{\"key\":\"C1701_V2Site4_3200Ch13_SpatialFreq_1.mat\",\"val\":238,\"id\":\"idi1u5AYEA\"},{\"key\":\"C1701_V2Site4_3200Ch13_TemporalFreq_1.mat\",\"val\":239,\"id\":\"id2DVuTT1F\"},{\"key\":\"C1701_V2Site5_3200Ch18_Contrast_1.mat\",\"val\":240,\"id\":\"id04dSHQMo\"},{\"key\":\"C1701_V2Site5_3200Ch18_Contrast_2.mat\",\"val\":241,\"id\":\"iduWLnDWkt\"},{\"key\":\"C1701_V2Site5_3200Ch18_Diameter_1.mat\",\"val\":242,\"id\":\"idS48avQau\"},{\"key\":\"C1701_V2Site5_3200Ch18_Diameter_2.mat\",\"val\":243,\"id\":\"idgg6Bu1Rv\"},{\"key\":\"C1701_V2Site5_3200Ch18_Image_1.mat\",\"val\":244,\"id\":\"idHWQuGOSa\"},{\"key\":\"C1701_V2Site5_3200Ch18_OriGrating_1.mat\",\"val\":245,\"id\":\"idBWZMiiHh\"},{\"key\":\"C1701_V2Site5_3200Ch18_OriGrating_2.mat\",\"val\":246,\"id\":\"idbNdKcJ4h\"},{\"key\":\"C1701_V2Site5_3200Ch18_RFBarX4Deg_1.mat\",\"val\":247,\"id\":\"idU1lLHLjZ\"},{\"key\":\"C1701_V2Site5_3200Ch18_RFBarY4Deg_1.mat\",\"val\":248,\"id\":\"idl3DZ3g2I\"},{\"key\":\"C1701_V2Site5_3200Ch18_RFGrating24Deg_1.mat\",\"val\":249,\"id\":\"idSWqpuqKd\"},{\"key\":\"C1701_V2Site5_3200Ch18_RFGrating8Deg_1.mat\",\"val\":250,\"id\":\"id929Gpo0F\"},{\"key\":\"C1701_V2Site5_3200Ch18_SpatialFreq_1.mat\",\"val\":251,\"id\":\"idJmhd0QAh\"},{\"key\":\"C1701_V2Site5_3200Ch18_SpatialFreq_2.mat\",\"val\":252,\"id\":\"idzgMk229W\"},{\"key\":\"C1701_V2Site5_3200Ch18_SpatialFreq_3.mat\",\"val\":253,\"id\":\"idKoUDXzfa\"},{\"key\":\"C1701_V2Site5_3200Ch18_SpatialFreq_4.mat\",\"val\":254,\"id\":\"idBvRCA3w6\"},{\"key\":\"C1701_V2Site5_3200Ch18_TemporalFreq_1.mat\",\"val\":255,\"id\":\"idhdNFVO5b\"},{\"key\":\"C1701_V2Site5_3200Ch18_TemporalFreq_2.mat\",\"val\":256,\"id\":\"idHCBNQvHP\"},{\"key\":\"C1701_V2Site5_3200Ch18_TemporalFreq_3.mat\",\"val\":257,\"id\":\"idRM6TIAQO\"},{\"key\":\"C1701_V2Site5_3200Ch22_Diameter_1.mat\",\"val\":258,\"id\":\"idubPrnPaE\"},{\"key\":\"C1701_V2Site5_3200Ch22_Diameter_2.mat\",\"val\":259,\"id\":\"idekvRzKKQ\"},{\"key\":\"C1701_V2Site5_3200Ch22_Image_1.mat\",\"val\":260,\"id\":\"idVj2WnjaN\"},{\"key\":\"C1701_V2Site5_3200Ch22_OriGrating_1.mat\",\"val\":261,\"id\":\"idHiB4mqnb\"},{\"key\":\"C1701_V2Site5_3200Ch22_RFBarX12Deg_1.mat\",\"val\":262,\"id\":\"id8iV92zvs\"},{\"key\":\"C1701_V2Site5_3200Ch22_RFBarY12Deg_1.mat\",\"val\":263,\"id\":\"idYenGyzzL\"},{\"key\":\"C1701_V2Site5_3200Ch22_RFGrating24Deg_1.mat\",\"val\":264,\"id\":\"idhG6uFcJm\"},{\"key\":\"C1701_V2Site5_3200Ch22_SpatialFreq_1.mat\",\"val\":265,\"id\":\"idPf9Ftwc1\"},{\"key\":\"C1701_V2Site5_3200Ch22_TemporalFreq_1.mat\",\"val\":266,\"id\":\"idDMCm74uK\"},{\"key\":\"C1701_V2Site5_3200Ch23_Diameter_1.mat\",\"val\":267,\"id\":\"idaFd8tY3m\"},{\"key\":\"C1701_V2Site5_3200Ch23_Image_1.mat\",\"val\":268,\"id\":\"idValjrtbz\"},{\"key\":\"C1701_V2Site5_3200Ch23_OriGrating_1.mat\",\"val\":269,\"id\":\"idqIb9tigU\"},{\"key\":\"C1701_V2Site5_3200Ch23_RFBarX12Deg_1.mat\",\"val\":270,\"id\":\"idwtlMNumK\"},{\"key\":\"C1701_V2Site5_3200Ch23_RFBarY12Deg_1.mat\",\"val\":271,\"id\":\"iduldrktpp\"},{\"key\":\"C1701_V2Site5_3200Ch23_RFGrating8Deg_1.mat\",\"val\":272,\"id\":\"idNQYPoS0Y\"},{\"key\":\"C1701_V2Site5_3200Ch23_RFGrating8Deg_2.mat\",\"val\":273,\"id\":\"id8FqzU3g5\"},{\"key\":\"C1701_V2Site5_3200Ch23_SpatialFreq_1.mat\",\"val\":274,\"id\":\"idbbKC0iYS\"},{\"key\":\"C1701_V2Site5_3200Ch23_TemporalFreq_1.mat\",\"val\":275,\"id\":\"idULLW9pzA\"},{\"key\":\"C1701_V2Site5_3200Ch6_Contrast_1.mat\",\"val\":276,\"id\":\"id9aSxdSIv\"},{\"key\":\"C1701_V2Site5_3200Ch6_Diameter_1.mat\",\"val\":277,\"id\":\"id6iit4Gq4\"},{\"key\":\"C1701_V2Site5_3200Ch6_Image_1.mat\",\"val\":278,\"id\":\"id89gp9u2W\"},{\"key\":\"C1701_V2Site5_3200Ch6_OriGrating_1.mat\",\"val\":279,\"id\":\"idJXVH8Cjj\"},{\"key\":\"C1701_V2Site5_3200Ch6_OriGrating_2.mat\",\"val\":280,\"id\":\"idX8GAllkW\"},{\"key\":\"C1701_V2Site5_3200Ch6_RFBarX12Deg_1.mat\",\"val\":281,\"id\":\"idipKZ5aJF\"},{\"key\":\"C1701_V2Site5_3200Ch6_RFBarX4Deg_1.mat\",\"val\":282,\"id\":\"idWRaHI7LB\"},{\"key\":\"C1701_V2Site5_3200Ch6_RFBarY12Deg_1.mat\",\"val\":283,\"id\":\"idB4SDCUBh\"},{\"key\":\"C1701_V2Site5_3200Ch6_RFBarY4Deg_1.mat\",\"val\":284,\"id\":\"idXnbTnNlW\"},{\"key\":\"C1701_V2Site5_3200Ch6_RFGrating12Deg_1.mat\",\"val\":285,\"id\":\"idBZrdpVUH\"},{\"key\":\"C1701_V2Site5_3200Ch6_RFGrating12Deg_2.mat\",\"val\":286,\"id\":\"idG8R5MnfU\"},{\"key\":\"C1701_V2Site5_3200Ch6_SpatialFreq_1.mat\",\"val\":287,\"id\":\"idmLJLKsR1\"},{\"key\":\"C1701_V2Site5_3200Ch6_SpatialFreq_2.mat\",\"val\":288,\"id\":\"idWYGcvJcg\"},{\"key\":\"C1701_V2Site5_3200Ch6_TemporalFreq_1.mat\",\"val\":289,\"id\":\"idTT8PMfwW\"},{\"key\":\"C1701_V2Site5_3200Ch6_TemporalFreq_2.mat\",\"val\":290,\"id\":\"id3uGwhYSS\"}]},\"index\":{\"sync\":true,\"id\":\"ob_21\",\"value\":1}}},\"children\":[{\"props\":{\"style\":{\"display\":\"flex\",\"flex-direction\":\"column\"}},\"nodeType\":\"DOM\",\"type\":\"node\",\"instanceArgs\":{\"namespace\":\"html\",\"tag\":\"div\"},\"children\":[\"Experiment\",{\"props\":{\"className\":\"select \"},\"nodeType\":\"DOM\",\"type\":\"node\",\"instanceArgs\":{\"namespace\":\"html\",\"tag\":\"div\"},\"children\":[{\"props\":{\"attributes\":{\"data-bind\":\"options : options_js, value : index, optionsText: 'key', optionsValue: 'val', valueAllowUnset: true, optionsAfterRender: disablePlaceholder\"}},\"nodeType\":\"DOM\",\"type\":\"node\",\"instanceArgs\":{\"namespace\":\"html\",\"tag\":\"select\"},\"children\":[]}]}]}]}]}}}},\"children\":[{\"props\":{},\"nodeType\":\"ObservableNode\",\"type\":\"node\",\"instanceArgs\":{\"id\":\"ob_24\",\"name\":\"obs-scope\"},\"children\":[]}]}]},\n",
              "        );\n",
              "    } else {\n",
              "        document\n",
              "            .querySelector('[data-webio-mountpoint=\"10112235199755308842\"]')\n",
              "            .innerHTML = '<strong>WebIO not detected.</strong>';\n",
              "    }\n",
              "    </script>\n",
              "</div>\n"
            ],
            "text/plain": [
              "(div { style=Dict(\"display\"=>\"flex\",\"flex-direction\"=>\"row\") }\n",
              "  (div { className=\"field\" }\n",
              "        (div { style=Dict(\"display\"=>\"flex\",\"flex-direction\"=>\"column\") }\n",
              "      \"Subject\"\n",
              "      (div { className=\"select \" }\n",
              "        (select { attributes=Dict{Union{String, Symbol},Any}(Symbol(\"data-bind\")=>\"options : options_js, value : index, optionsText: 'key', optionsValue: 'val', valueAllowUnset: true, optionsAfterRender: disablePlaceholder\") }))))\n",
              "  (Scope(\"scope-035b4abb-a24f-4c9d-b3a2-562ddd929e67\", Node{WebIO.ObservableNode}(WebIO.ObservableNode(\"ob_24\", \"obs-scope\"), Any[], Dict{Symbol,Any}(), 0), Dict{String,Tuple{Observables.AbstractObservable,Union{Nothing, Bool}}}(\"obs-scope\"=>(Observable{Node{WebIO.DOM}} with 1 listeners. Value:\n",
              "Node{DOM}(DOM(:html, :div), Any[Scope(\"knockout-component-d4986eae-cabd-4177-9d21-015683b55a8d\", Node{DOM}(DOM(:html, :div), Any[\"Experiment\", Node{DOM}(DOM(:html, :div), Any[Node{DOM}(DOM(:html, :select), Any[], Dict{Symbol,Any}(:attributes=>Dict{Union{String, Symbol},Any}(Symbol(\"data-bind\")=>\"options : options_js, value : index, optionsText: 'key', optionsValue: 'val', valueAllowUnset: true, optionsAfterRender: disablePlaceholder\")), 0)], Dict{Symbol,Any}(:className=>\"select \"), 1)], Dict{Symbol,Any}(:style=>Dict(\"display\"=>\"flex\",\"flex-direction\"=>\"column\")), 3), Dict{String,Tuple{Observables.AbstractObservable,Union{Nothing, Bool}}}(\"options_js\"=>(Observable{Any} with 1 listeners. Value:\n",
              "OrderedDict[OrderedDict{String,Any}(\"key\"=>\"C1701_V2Site1_3000Ch21_Diameter_1.mat\",\"val\"=>1,\"id\"=>\"idSLfU9FGg\"), OrderedDict{String,Any}(\"key\"=>\"C1701_V2Site1_3000Ch21_Diameter_2.mat\",\"val\"=>2,\"id\"=>\"idtmvkAul7\"), OrderedDict{String,Any}(\"key\"=>\"C1701_V2Site1_3000Ch21_Diameter_3.mat\",\"val\"=>3,\"id\"=>\"idEGee0moI\"), OrderedDict{String,Any}(\"key\"=>\"C1701_V2Site1_3000Ch21_Diameter_4.mat\",\"val\"=>4,\"id\"=>\"id7x5WGe9x\"), OrderedDict{String,Any}(\"key\"=>\"C1701_V2Site1_3000Ch21_Diameter_5.mat\",\"val\"=>5,\"id\"=>\"id10qHMy9M\"), OrderedDict{String,Any}(\"key\"=>\"C1701_V2Site1_3000Ch21_Diameter_6.mat\",\"val\"=>6,\"id\"=>\"idbGJzUgsC\"), OrderedDict{String,Any}(\"key\"=>\"C1701_V2Site1_3000Ch21_Diameter_7.mat\",\"val\"=>7,\"id\"=>\"idz6fQRmI6\"), OrderedDict{String,Any}(\"key\"=>\"C1701_V2Site1_3000Ch21_Image_1.mat\",\"val\"=>8,\"id\"=>\"idS4PiXaMx\"), OrderedDict{String,Any}(\"key\"=>\"C1701_V2Site1_3000Ch21_Image_2.mat\",\"val\"=>9,\"id\"=>\"idTEzrrbuR\"), OrderedDict{String,Any}(\"key\"=>\"C1701_V2Site1_3000Ch21_OriGrating_1.mat\",\"val\"=>10,\"id\"=>\"id00Zod3Nv\"), OrderedDict{String,Any}(\"key\"=>\"C1701_V2Site1_3000Ch21_OriGrating_2.mat\",\"val\"=>11,\"id\"=>\"idtey04q8Z\"), OrderedDict{String,Any}(\"key\"=>\"C1701_V2Site1_3000Ch21_OriGrating_3.mat\",\"val\"=>12,\"id\"=>\"id6jNd3nr8\"), OrderedDict{String,Any}(\"key\"=>\"C1701_V2Site1_3000Ch21_OriOffsetGrating_1.mat\",\"val\"=>13,\"id\"=>\"idMwLvfq4Q\"), OrderedDict{String,Any}(\"key\"=>\"C1701_V2Site1_3000Ch21_OriOffsetGrating_2.mat\",\"val\"=>14,\"id\"=>\"id17EFZDz7\"), OrderedDict{String,Any}(\"key\"=>\"C1701_V2Site1_3000Ch21_RFBarX4Deg_1.mat\",\"val\"=>15,\"id\"=>\"idLuA3gCCL\"), OrderedDict{String,Any}(\"key\"=>\"C1701_V2Site1_3000Ch21_RFBarX4Deg_2.mat\",\"val\"=>16,\"id\"=>\"id1sP6N9GZ\"), OrderedDict{String,Any}(\"key\"=>\"C1701_V2Site1_3000Ch21_RFBarY2Deg_1.mat\",\"val\"=>17,\"id\"=>\"id5RCuxdQu\"), OrderedDict{String,Any}(\"key\"=>\"C1701_V2Site1_3000Ch21_RFBarY4Deg_1.mat\",\"val\"=>18,\"id\"=>\"idH3W839hm\"), OrderedDict{String,Any}(\"key\"=>\"C1701_V2Site1_3000Ch21_RFBarY4Deg_2.mat\",\"val\"=>19,\"id\"=>\"idZXUeRagR\"), OrderedDict{String,Any}(\"key\"=>\"C1701_V2Site1_3000Ch21_RFBarY4Deg_3.mat\",\"val\"=>20,\"id\"=>\"id4LyndiEk\"), OrderedDict{String,Any}(\"key\"=>\"C1701_V2Site1_3000Ch21_RFGrating12Deg_1.mat\",\"val\"=>21,\"id\"=>\"idRjDRRmyd\"), OrderedDict{String,Any}(\"key\"=>\"C1701_V2Site1_3000Ch21_RFGrating24Deg_1.mat\",\"val\"=>22,\"id\"=>\"id2eSQeO1g\"), OrderedDict{String,Any}(\"key\"=>\"C1701_V2Site1_3000Ch21_RFGrating24Deg_2.mat\",\"val\"=>23,\"id\"=>\"idReo3H8WH\"), OrderedDict{String,Any}(\"key\"=>\"C1701_V2Site1_3000Ch21_RFGrating4Deg_1.mat\",\"val\"=>24,\"id\"=>\"ideEtLMvd9\"), OrderedDict{String,Any}(\"key\"=>\"C1701_V2Site1_3000Ch21_RFGrating8Deg_1.mat\",\"val\"=>25,\"id\"=>\"id4j0giqo5\"), OrderedDict{String,Any}(\"key\"=>\"C1701_V2Site1_3000Ch21_RFGrating8Deg_2.mat\",\"val\"=>26,\"id\"=>\"idh3TlAiOd\"), OrderedDict{String,Any}(\"key\"=>\"C1701_V2Site1_3000Ch21_RFGrating8Deg_3.mat\",\"val\"=>27,\"id\"=>\"idQ4upZoLx\"), OrderedDict{String,Any}(\"key\"=>\"C1701_V2Site1_3000Ch21_SpatialFreq_1.mat\",\"val\"=>28,\"id\"=>\"idCHFdUT7k\"), OrderedDict{String,Any}(\"key\"=>\"C1701_V2Site1_3000Ch21_SpatialFreq_2.mat\",\"val\"=>29,\"id\"=>\"idYzQkNGe1\"), OrderedDict{String,Any}(\"key\"=>\"C1701_V2Site1_3000Ch21_SpatialFreq_3.mat\",\"val\"=>30,\"id\"=>\"idqFa6ntOW\"), OrderedDict{String,Any}(\"key\"=>\"C1701_V2Site1_3000Ch21_TemporalFreq_1.mat\",\"val\"=>31,\"id\"=>\"id1FpX88ks\"), OrderedDict{String,Any}(\"key\"=>\"C1701_V2Site1_3000Ch21_TemporalFreq_2.mat\",\"val\"=>32,\"id\"=>\"idUi6EEuJD\"), OrderedDict{String,Any}(\"key\"=>\"C1701_V2Site1_3000Ch21_TemporalFreq_3.mat\",\"val\"=>33,\"id\"=>\"idRq7guCJE\"), OrderedDict{String,Any}(\"key\"=>\"C1701_V2Site1_3339Ch17_Diameter_1.mat\",\"val\"=>34,\"id\"=>\"idcDOvp83p\"), OrderedDict{String,Any}(\"key\"=>\"C1701_V2Site1_3339Ch17_Diameter_2.mat\",\"val\"=>35,\"id\"=>\"idPpgiS2Pk\"), OrderedDict{String,Any}(\"key\"=>\"C1701_V2Site1_3339Ch17_Diameter_3.mat\",\"val\"=>36,\"id\"=>\"idZTv1LjtL\"), OrderedDict{String,Any}(\"key\"=>\"C1701_V2Site1_3339Ch17_Diameter_4.mat\",\"val\"=>37,\"id\"=>\"idXAT5J1Iz\"), OrderedDict{String,Any}(\"key\"=>\"C1701_V2Site1_3339Ch17_Image_1.mat\",\"val\"=>38,\"id\"=>\"id94Y7v8Lp\"), OrderedDict{String,Any}(\"key\"=>\"C1701_V2Site1_3339Ch17_Image_2.mat\",\"val\"=>39,\"id\"=>\"idsSrDB6gn\"), OrderedDict{String,Any}(\"key\"=>\"C1701_V2Site1_3339Ch17_OriGrating_1.mat\",\"val\"=>40,\"id\"=>\"idLm5Q5Or7\"), OrderedDict{String,Any}(\"key\"=>\"C1701_V2Site1_3339Ch17_OriGrating_10.mat\",\"val\"=>41,\"id\"=>\"idTYUQaw1y\"), OrderedDict{String,Any}(\"key\"=>\"C1701_V2Site1_3339Ch17_OriGrating_2.mat\",\"val\"=>42,\"id\"=>\"ideDDHL0j9\"), OrderedDict{String,Any}(\"key\"=>\"C1701_V2Site1_3339Ch17_OriGrating_3.mat\",\"val\"=>43,\"id\"=>\"idzKGjZQcQ\"), OrderedDict{String,Any}(\"key\"=>\"C1701_V2Site1_3339Ch17_OriGrating_4.mat\",\"val\"=>44,\"id\"=>\"id0wnMmI4W\"), OrderedDict{String,Any}(\"key\"=>\"C1701_V2Site1_3339Ch17_OriGrating_5.mat\",\"val\"=>45,\"id\"=>\"idua18qXr6\"), OrderedDict{String,Any}(\"key\"=>\"C1701_V2Site1_3339Ch17_OriGrating_6.mat\",\"val\"=>46,\"id\"=>\"idwxN0M6Sh\"), OrderedDict{String,Any}(\"key\"=>\"C1701_V2Site1_3339Ch17_OriGrating_7.mat\",\"val\"=>47,\"id\"=>\"idQvTuieZp\"), OrderedDict{String,Any}(\"key\"=>\"C1701_V2Site1_3339Ch17_OriGrating_8.mat\",\"val\"=>48,\"id\"=>\"id04dlOaT0\"), OrderedDict{String,Any}(\"key\"=>\"C1701_V2Site1_3339Ch17_OriGrating_9.mat\",\"val\"=>49,\"id\"=>\"idk9SO6bnB\"), OrderedDict{String,Any}(\"key\"=>\"C1701_V2Site1_3339Ch17_RFBarX4Deg_1.mat\",\"val\"=>50,\"id\"=>\"idNr04jccj\"), OrderedDict{String,Any}(\"key\"=>\"C1701_V2Site1_3339Ch17_RFBarX4Deg_2.mat\",\"val\"=>51,\"id\"=>\"idb0sXiL1V\"), OrderedDict{String,Any}(\"key\"=>\"C1701_V2Site1_3339Ch17_RFBarX4Deg_3.mat\",\"val\"=>52,\"id\"=>\"idKYBAi5Xi\"), OrderedDict{String,Any}(\"key\"=>\"C1701_V2Site1_3339Ch17_RFBarX4Deg_4.mat\",\"val\"=>53,\"id\"=>\"id2yuH7KRf\"), OrderedDict{String,Any}(\"key\"=>\"C1701_V2Site1_3339Ch17_RFBarY4Deg_1.mat\",\"val\"=>54,\"id\"=>\"idBo0ErJUE\"), OrderedDict{String,Any}(\"key\"=>\"C1701_V2Site1_3339Ch17_RFBarY4Deg_2.mat\",\"val\"=>55,\"id\"=>\"idXwBPCrbp\"), OrderedDict{String,Any}(\"key\"=>\"C1701_V2Site1_3339Ch17_RFBarY4Deg_3.mat\",\"val\"=>56,\"id\"=>\"idFuq9a2fc\"), OrderedDict{String,Any}(\"key\"=>\"C1701_V2Site1_3339Ch17_RFGrating4Deg_1.mat\",\"val\"=>57,\"id\"=>\"iduy2CPChE\"), OrderedDict{String,Any}(\"key\"=>\"C1701_V2Site1_3339Ch17_RFGrating8Deg_1.mat\",\"val\"=>58,\"id\"=>\"idP4FENa8g\"), OrderedDict{String,Any}(\"key\"=>\"C1701_V2Site1_3339Ch17_SpatialFreq_1.mat\",\"val\"=>59,\"id\"=>\"iduLvVvWMK\"), OrderedDict{String,Any}(\"key\"=>\"C1701_V2Site1_3339Ch17_SpatialFreq_2.mat\",\"val\"=>60,\"id\"=>\"idHhefKU5d\"), OrderedDict{String,Any}(\"key\"=>\"C1701_V2Site1_3339Ch17_SpatialFreq_3.mat\",\"val\"=>61,\"id\"=>\"idrEE1kTNt\"), OrderedDict{String,Any}(\"key\"=>\"C1701_V2Site1_3339Ch17_TemporalFreq_1.mat\",\"val\"=>62,\"id\"=>\"idVMWTM7oV\"), OrderedDict{String,Any}(\"key\"=>\"C1701_V2Site1_3339Ch17_TemporalFreq_2.mat\",\"val\"=>63,\"id\"=>\"idoPRYYef6\"), OrderedDict{String,Any}(\"key\"=>\"C1701_V2Site1_3339Ch17_TemporalFreq_3.mat\",\"val\"=>64,\"id\"=>\"idV1SHXMls\"), OrderedDict{String,Any}(\"key\"=>\"C1701_V2Site1_3339Ch18_Contrast_1.mat\",\"val\"=>65,\"id\"=>\"idIRKZTfzi\"), OrderedDict{String,Any}(\"key\"=>\"C1701_V2Site1_3339Ch18_Diameter_1.mat\",\"val\"=>66,\"id\"=>\"idAl11pLuU\"), OrderedDict{String,Any}(\"key\"=>\"C1701_V2Site1_3339Ch18_Image_1.mat\",\"val\"=>67,\"id\"=>\"idZdb0lk2V\"), OrderedDict{String,Any}(\"key\"=>\"C1701_V2Site1_3339Ch18_Image_2.mat\",\"val\"=>68,\"id\"=>\"idns8dxQOn\"), OrderedDict{String,Any}(\"key\"=>\"C1701_V2Site1_3339Ch18_Image_3.mat\",\"val\"=>69,\"id\"=>\"id1EF3PTad\"), OrderedDict{String,Any}(\"key\"=>\"C1701_V2Site1_3339Ch18_OriGrating_1.mat\",\"val\"=>70,\"id\"=>\"idT3dKKr0E\"), OrderedDict{String,Any}(\"key\"=>\"C1701_V2Site1_3339Ch18_RFBarX4Deg_1.mat\",\"val\"=>71,\"id\"=>\"id5PGWuTOA\"), OrderedDict{String,Any}(\"key\"=>\"C1701_V2Site1_3339Ch18_RFBarY4Deg_1.mat\",\"val\"=>72,\"id\"=>\"idboB4EGwZ\"), OrderedDict{String,Any}(\"key\"=>\"C1701_V2Site1_3339Ch18_RFGrating8Deg_1.mat\",\"val\"=>73,\"id\"=>\"idMItmc1Lu\"), OrderedDict{String,Any}(\"key\"=>\"C1701_V2Site1_3339Ch18_SpatialFreq_1.mat\",\"val\"=>74,\"id\"=>\"idBMd6Wq78\"), OrderedDict{String,Any}(\"key\"=>\"C1701_V2Site1_3339Ch18_SpatialFreq_2.mat\",\"val\"=>75,\"id\"=>\"idxJA8wJvx\"), OrderedDict{String,Any}(\"key\"=>\"C1701_V2Site1_3339Ch18_TemporalFreq_1.mat\",\"val\"=>76,\"id\"=>\"idLswxkkSL\"), OrderedDict{String,Any}(\"key\"=>\"C1701_V2Site1_3419Ch19_Diameter_1.mat\",\"val\"=>77,\"id\"=>\"id0eqco3e1\"), OrderedDict{String,Any}(\"key\"=>\"C1701_V2Site1_3419Ch19_Image_1.mat\",\"val\"=>78,\"id\"=>\"idx1A1ZiiO\"), OrderedDict{String,Any}(\"key\"=>\"C1701_V2Site1_3419Ch19_OriGrating_1.mat\",\"val\"=>79,\"id\"=>\"idAAIcmSj5\"), OrderedDict{String,Any}(\"key\"=>\"C1701_V2Site1_3419Ch19_RFBarX12Deg_1.mat\",\"val\"=>80,\"id\"=>\"idxD1uJKmv\"), OrderedDict{String,Any}(\"key\"=>\"C1701_V2Site1_3419Ch19_RFBarX4Deg_1.mat\",\"val\"=>81,\"id\"=>\"idU873bSY8\"), OrderedDict{String,Any}(\"key\"=>\"C1701_V2Site1_3419Ch19_RFBarY12Deg_1.mat\",\"val\"=>82,\"id\"=>\"idA8Y17E8f\"), OrderedDict{String,Any}(\"key\"=>\"C1701_V2Site1_3419Ch19_RFBarY4Deg_1.mat\",\"val\"=>83,\"id\"=>\"idPHBzYnrz\"), OrderedDict{String,Any}(\"key\"=>\"C1701_V2Site1_3419Ch19_RFGrating12Deg_1.mat\",\"val\"=>84,\"id\"=>\"idDqj2Fn0N\"), OrderedDict{String,Any}(\"key\"=>\"C1701_V2Site1_3419Ch19_RFGrating8Deg_1.mat\",\"val\"=>85,\"id\"=>\"id3Mvee9rm\"), OrderedDict{String,Any}(\"key\"=>\"C1701_V2Site1_3419Ch19_SpatialFreq_1.mat\",\"val\"=>86,\"id\"=>\"idtYBTBDxh\"), OrderedDict{String,Any}(\"key\"=>\"C1701_V2Site1_3419Ch19_TemporalFreq_1.mat\",\"val\"=>87,\"id\"=>\"idyFXM6F7i\"), OrderedDict{String,Any}(\"key\"=>\"C1701_V2Site1_3544Ch18_OriGrating_1.mat\",\"val\"=>88,\"id\"=>\"id6kUabFRx\"), OrderedDict{String,Any}(\"key\"=>\"C1701_V2Site1_3544Ch18_RFGrating8Deg_1.mat\",\"val\"=>89,\"id\"=>\"idkKKSjZjG\"), OrderedDict{String,Any}(\"key\"=>\"C1701_V2Site1_3544Ch18_RFGrating8Deg_2.mat\",\"val\"=>90,\"id\"=>\"idp97t7m4J\"), OrderedDict{String,Any}(\"key\"=>\"C1701_V2Site1_3544Ch18_SpatialFreq_1.mat\",\"val\"=>91,\"id\"=>\"idz08KeZ5N\"), OrderedDict{String,Any}(\"key\"=>\"C1701_V2Site1_3544Ch18_TemporalFreq_1.mat\",\"val\"=>92,\"id\"=>\"idW1rbIsAI\"), OrderedDict{String,Any}(\"key\"=>\"C1701_V2Site1_3544Ch23_Diameter_1.mat\",\"val\"=>93,\"id\"=>\"idC4jlTqFB\"), OrderedDict{String,Any}(\"key\"=>\"C1701_V2Site1_3544Ch23_Image_1.mat\",\"val\"=>94,\"id\"=>\"idbABXtuJr\"), OrderedDict{String,Any}(\"key\"=>\"C1701_V2Site1_3544Ch23_OriGrating_1.mat\",\"val\"=>95,\"id\"=>\"idXgVgi7Qu\"), OrderedDict{String,Any}(\"key\"=>\"C1701_V2Site1_3544Ch23_OriGrating_2.mat\",\"val\"=>96,\"id\"=>\"idWvtWs2eC\"), OrderedDict{String,Any}(\"key\"=>\"C1701_V2Site1_3544Ch23_RFBarX4Deg_1.mat\",\"val\"=>97,\"id\"=>\"idRkP4thEb\"), OrderedDict{String,Any}(\"key\"=>\"C1701_V2Site1_3544Ch23_RFBarY4Deg_1.mat\",\"val\"=>98,\"id\"=>\"idAEvxUHrh\"), OrderedDict{String,Any}(\"key\"=>\"C1701_V2Site1_3544Ch23_RFBarY4Deg_2.mat\",\"val\"=>99,\"id\"=>\"id1whnosUo\"), OrderedDict{String,Any}(\"key\"=>\"C1701_V2Site1_3544Ch23_RFGrating8Deg_1.mat\",\"val\"=>100,\"id\"=>\"id38v4gnXw\"), OrderedDict{String,Any}(\"key\"=>\"C1701_V2Site1_3544Ch23_RFGrating8Deg_2.mat\",\"val\"=>101,\"id\"=>\"idvQGn0yzF\"), OrderedDict{String,Any}(\"key\"=>\"C1701_V2Site1_3544Ch23_SpatialFreq_1.mat\",\"val\"=>102,\"id\"=>\"id9pgXQigd\"), OrderedDict{String,Any}(\"key\"=>\"C1701_V2Site1_3544Ch23_TemporalFreq_1.mat\",\"val\"=>103,\"id\"=>\"idxi3XCHTs\"), OrderedDict{String,Any}(\"key\"=>\"C1701_V2Site2_3000Ch18_Diameter_1.mat\",\"val\"=>104,\"id\"=>\"iddBlU0oY1\"), OrderedDict{String,Any}(\"key\"=>\"C1701_V2Site2_3000Ch18_Diameter_2.mat\",\"val\"=>105,\"id\"=>\"id6IQbipdt\"), OrderedDict{String,Any}(\"key\"=>\"C1701_V2Site2_3000Ch18_Diameter_3.mat\",\"val\"=>106,\"id\"=>\"idhKSkVRp9\"), OrderedDict{String,Any}(\"key\"=>\"C1701_V2Site2_3000Ch18_Diameter_4.mat\",\"val\"=>107,\"id\"=>\"idlleIh1Iv\"), OrderedDict{String,Any}(\"key\"=>\"C1701_V2Site2_3000Ch18_Image_1.mat\",\"val\"=>108,\"id\"=>\"idT9uQESdk\"), OrderedDict{String,Any}(\"key\"=>\"C1701_V2Site2_3000Ch18_LaserOriGrating_1.mat\",\"val\"=>109,\"id\"=>\"idD6Nb4Xmw\"), OrderedDict{String,Any}(\"key\"=>\"C1701_V2Site2_3000Ch18_Laser_1.mat\",\"val\"=>110,\"id\"=>\"idMlLHHTWM\"), OrderedDict{String,Any}(\"key\"=>\"C1701_V2Site2_3000Ch18_OriGrating_1.mat\",\"val\"=>111,\"id\"=>\"iduIIbiK1W\"), OrderedDict{String,Any}(\"key\"=>\"C1701_V2Site2_3000Ch18_RFBarX12Deg_1.mat\",\"val\"=>112,\"id\"=>\"idx9TuuoWZ\"), OrderedDict{String,Any}(\"key\"=>\"C1701_V2Site2_3000Ch18_RFBarY12Deg_1.mat\",\"val\"=>113,\"id\"=>\"idCT26vdsM\"), OrderedDict{String,Any}(\"key\"=>\"C1701_V2Site2_3000Ch18_RFGrating12Deg_1.mat\",\"val\"=>114,\"id\"=>\"idJpKTsAnp\"), OrderedDict{String,Any}(\"key\"=>\"C1701_V2Site2_3000Ch18_RFGrating12Deg_2.mat\",\"val\"=>115,\"id\"=>\"idpHIuN1EZ\"), OrderedDict{String,Any}(\"key\"=>\"C1701_V2Site2_3000Ch18_SpatialFreq_1.mat\",\"val\"=>116,\"id\"=>\"idLxJA1NMF\"), OrderedDict{String,Any}(\"key\"=>\"C1701_V2Site2_3000Ch18_SpatialFreq_2.mat\",\"val\"=>117,\"id\"=>\"idIydou6zC\"), OrderedDict{String,Any}(\"key\"=>\"C1701_V2Site2_3000Ch18_TemporalFreq_1.mat\",\"val\"=>118,\"id\"=>\"idALvzWBN0\"), OrderedDict{String,Any}(\"key\"=>\"C1701_V2Site2_3000Ch18_TemporalFreq_2.mat\",\"val\"=>119,\"id\"=>\"idhVIQyMcY\"), OrderedDict{String,Any}(\"key\"=>\"C1701_V2Site2_3000Ch21_Diameter_1.mat\",\"val\"=>120,\"id\"=>\"idrgqWF9uI\"), OrderedDict{String,Any}(\"key\"=>\"C1701_V2Site2_3000Ch21_Image_1.mat\",\"val\"=>121,\"id\"=>\"id6gimFuWc\"), OrderedDict{String,Any}(\"key\"=>\"C1701_V2Site2_3000Ch21_LaserImage_1.mat\",\"val\"=>122,\"id\"=>\"idcO5RmJ7x\"), OrderedDict{String,Any}(\"key\"=>\"C1701_V2Site2_3000Ch21_Laser_1.mat\",\"val\"=>123,\"id\"=>\"idqcmTLygM\"), OrderedDict{String,Any}(\"key\"=>\"C1701_V2Site2_3000Ch21_OriGrating_1.mat\",\"val\"=>124,\"id\"=>\"idqR3h3ikZ\"), OrderedDict{String,Any}(\"key\"=>\"C1701_V2Site2_3000Ch21_RFBarX12Deg_1.mat\",\"val\"=>125,\"id\"=>\"idW1IHJ0wY\"), OrderedDict{String,Any}(\"key\"=>\"C1701_V2Site2_3000Ch21_RFBarX12Deg_2.mat\",\"val\"=>126,\"id\"=>\"idVnH5FD7a\"), OrderedDict{String,Any}(\"key\"=>\"C1701_V2Site2_3000Ch21_RFBarX4Deg_1.mat\",\"val\"=>127,\"id\"=>\"id97GmNnwX\"), OrderedDict{String,Any}(\"key\"=>\"C1701_V2Site2_3000Ch21_RFBarY12Deg_1.mat\",\"val\"=>128,\"id\"=>\"id5q12oWrY\"), OrderedDict{String,Any}(\"key\"=>\"C1701_V2Site2_3000Ch21_RFBarY4Deg_1.mat\",\"val\"=>129,\"id\"=>\"idbnVeSiJB\"), OrderedDict{String,Any}(\"key\"=>\"C1701_V2Site2_3000Ch21_RFBarY4Deg_2.mat\",\"val\"=>130,\"id\"=>\"ide1EKFvpS\"), OrderedDict{String,Any}(\"key\"=>\"C1701_V2Site2_3000Ch21_RFGrating8Deg_1.mat\",\"val\"=>131,\"id\"=>\"idpfxQDUp3\"), OrderedDict{String,Any}(\"key\"=>\"C1701_V2Site2_3000Ch21_SpatialFreq_1.mat\",\"val\"=>132,\"id\"=>\"idABuRLcPg\"), OrderedDict{String,Any}(\"key\"=>\"C1701_V2Site2_3000Ch21_TemporalFreq_1.mat\",\"val\"=>133,\"id\"=>\"idPs6BNnhu\"), OrderedDict{String,Any}(\"key\"=>\"C1701_V2Site2_3000Ch22_Diameter_1.mat\",\"val\"=>134,\"id\"=>\"id4ecU8v7h\"), OrderedDict{String,Any}(\"key\"=>\"C1701_V2Site2_3000Ch22_Diameter_2.mat\",\"val\"=>135,\"id\"=>\"idd43ESRrX\"), OrderedDict{String,Any}(\"key\"=>\"C1701_V2Site2_3000Ch22_Diameter_3.mat\",\"val\"=>136,\"id\"=>\"idOuNipsiP\"), OrderedDict{String,Any}(\"key\"=>\"C1701_V2Site2_3000Ch22_Image_1.mat\",\"val\"=>137,\"id\"=>\"id1aZOfxL6\"), OrderedDict{String,Any}(\"key\"=>\"C1701_V2Site2_3000Ch22_Image_2.mat\",\"val\"=>138,\"id\"=>\"idDvG3YCJc\"), OrderedDict{String,Any}(\"key\"=>\"C1701_V2Site2_3000Ch22_LaserImage_1.mat\",\"val\"=>139,\"id\"=>\"idzxuDFlz4\"), OrderedDict{String,Any}(\"key\"=>\"C1701_V2Site2_3000Ch22_LaserOriGrating_1.mat\",\"val\"=>140,\"id\"=>\"idq4RjdTmZ\"), OrderedDict{String,Any}(\"key\"=>\"C1701_V2Site2_3000Ch22_Laser_1.mat\",\"val\"=>141,\"id\"=>\"idflDnsF0j\"), OrderedDict{String,Any}(\"key\"=>\"C1701_V2Site2_3000Ch22_OriGrating_1.mat\",\"val\"=>142,\"id\"=>\"idlbtYyygx\"), OrderedDict{String,Any}(\"key\"=>\"C1701_V2Site2_3000Ch22_RFBarY4Deg_1.mat\",\"val\"=>143,\"id\"=>\"iddCPlK0RB\"), OrderedDict{String,Any}(\"key\"=>\"C1701_V2Site2_3000Ch22_RFBarY4Deg_2.mat\",\"val\"=>144,\"id\"=>\"idCB1uWyEg\"), OrderedDict{String,Any}(\"key\"=>\"C1701_V2Site2_3000Ch22_RFBarY4Deg_3.mat\",\"val\"=>145,\"id\"=>\"idnCtt74Vs\"), OrderedDict{String,Any}(\"key\"=>\"C1701_V2Site2_3000Ch22_RFGrating12Deg_1.mat\",\"val\"=>146,\"id\"=>\"idMYgL1u42\"), OrderedDict{String,Any}(\"key\"=>\"C1701_V2Site2_3000Ch22_RFGrating4Deg_1.mat\",\"val\"=>147,\"id\"=>\"idY3bdiZsB\"), OrderedDict{String,Any}(\"key\"=>\"C1701_V2Site2_3000Ch22_RFGrating8Deg_1.mat\",\"val\"=>148,\"id\"=>\"idwMyvX6ao\"), OrderedDict{String,Any}(\"key\"=>\"C1701_V2Site2_3000Ch22_SpatialFreq_1.mat\",\"val\"=>149,\"id\"=>\"id4LMPyEie\"), OrderedDict{String,Any}(\"key\"=>\"C1701_V2Site2_3000Ch22_SpatialFreq_2.mat\",\"val\"=>150,\"id\"=>\"idKsIEzb13\"), OrderedDict{String,Any}(\"key\"=>\"C1701_V2Site2_3000Ch22_SpatialFreq_3.mat\",\"val\"=>151,\"id\"=>\"idc4LH9uPN\"), OrderedDict{String,Any}(\"key\"=>\"C1701_V2Site2_3000Ch22_TemporalFreq_1.mat\",\"val\"=>152,\"id\"=>\"idWMusWwBO\"), OrderedDict{String,Any}(\"key\"=>\"C1701_V2Site2_3000Ch22_TemporalFreq_2.mat\",\"val\"=>153,\"id\"=>\"id3su9QldJ\"), OrderedDict{String,Any}(\"key\"=>\"C1701_V2Site2_3000Ch22_TemporalFreq_3.mat\",\"val\"=>154,\"id\"=>\"id1ZjgqfkT\"), OrderedDict{String,Any}(\"key\"=>\"C1701_V2Site2_3549Ch22_Diameter_1.mat\",\"val\"=>155,\"id\"=>\"idrNtQSLR0\"), OrderedDict{String,Any}(\"key\"=>\"C1701_V2Site2_3549Ch22_Diameter_2.mat\",\"val\"=>156,\"id\"=>\"id7BqFzJO8\"), OrderedDict{String,Any}(\"key\"=>\"C1701_V2Site2_3549Ch22_Image_1.mat\",\"val\"=>157,\"id\"=>\"id5guTzXhE\"), OrderedDict{String,Any}(\"key\"=>\"C1701_V2Site2_3549Ch22_LaserImage_1.mat\",\"val\"=>158,\"id\"=>\"idDNXW602B\"), OrderedDict{String,Any}(\"key\"=>\"C1701_V2Site2_3549Ch22_LaserOriGrating_1.mat\",\"val\"=>159,\"id\"=>\"idqf1neA2u\"), OrderedDict{String,Any}(\"key\"=>\"C1701_V2Site2_3549Ch22_Laser_1.mat\",\"val\"=>160,\"id\"=>\"idKtLhzsrw\"), OrderedDict{String,Any}(\"key\"=>\"C1701_V2Site2_3549Ch22_OriGrating_1.mat\",\"val\"=>161,\"id\"=>\"idxhgqxvzv\"), OrderedDict{String,Any}(\"key\"=>\"C1701_V2Site2_3549Ch22_RFBarX4Deg_1.mat\",\"val\"=>162,\"id\"=>\"idlcUFTr0N\"), OrderedDict{String,Any}(\"key\"=>\"C1701_V2Site2_3549Ch22_RFBarY4Deg_1.mat\",\"val\"=>163,\"id\"=>\"idsd8l6z1T\"), OrderedDict{String,Any}(\"key\"=>\"C1701_V2Site2_3549Ch22_RFGrating4Deg_1.mat\",\"val\"=>164,\"id\"=>\"idBGXEU1dZ\"), OrderedDict{String,Any}(\"key\"=>\"C1701_V2Site2_3549Ch22_RFGrating4Deg_2.mat\",\"val\"=>165,\"id\"=>\"idCY851ehd\"), OrderedDict{String,Any}(\"key\"=>\"C1701_V2Site2_3549Ch22_RFGrating4Deg_3.mat\",\"val\"=>166,\"id\"=>\"idhatveHtN\"), OrderedDict{String,Any}(\"key\"=>\"C1701_V2Site2_3549Ch22_RFGrating4Deg_4.mat\",\"val\"=>167,\"id\"=>\"id57t7BBVZ\"), OrderedDict{String,Any}(\"key\"=>\"C1701_V2Site2_3549Ch22_RFGrating8Deg_1.mat\",\"val\"=>168,\"id\"=>\"idvNdIFRQX\"), OrderedDict{String,Any}(\"key\"=>\"C1701_V2Site2_3549Ch22_SpatialFreq_1.mat\",\"val\"=>169,\"id\"=>\"idCQ6snXK0\"), OrderedDict{String,Any}(\"key\"=>\"C1701_V2Site2_3549Ch22_SpatialFreq_2.mat\",\"val\"=>170,\"id\"=>\"idA5FB2OJE\"), OrderedDict{String,Any}(\"key\"=>\"C1701_V2Site2_3549Ch22_SpatialFreq_3.mat\",\"val\"=>171,\"id\"=>\"idyGyd9jsz\"), OrderedDict{String,Any}(\"key\"=>\"C1701_V2Site2_3549Ch22_SpatialFreq_4.mat\",\"val\"=>172,\"id\"=>\"idLxwnro6E\"), OrderedDict{String,Any}(\"key\"=>\"C1701_V2Site2_3549Ch22_TemporalFreq_1.mat\",\"val\"=>173,\"id\"=>\"idYoxSUB2f\"), OrderedDict{String,Any}(\"key\"=>\"C1701_V2Site3_3000Ch20_Contrast_1.mat\",\"val\"=>174,\"id\"=>\"idpgLuSsgS\"), OrderedDict{String,Any}(\"key\"=>\"C1701_V2Site3_3000Ch20_Diameter_1.mat\",\"val\"=>175,\"id\"=>\"id2G330QNA\"), OrderedDict{String,Any}(\"key\"=>\"C1701_V2Site3_3000Ch20_Image_1.mat\",\"val\"=>176,\"id\"=>\"idyFXhfrCE\"), OrderedDict{String,Any}(\"key\"=>\"C1701_V2Site3_3000Ch20_OriGrating_1.mat\",\"val\"=>177,\"id\"=>\"id5nKk0Akk\"), OrderedDict{String,Any}(\"key\"=>\"C1701_V2Site3_3000Ch20_RFBarX4Deg_1.mat\",\"val\"=>178,\"id\"=>\"idOQrYbPDK\"), OrderedDict{String,Any}(\"key\"=>\"C1701_V2Site3_3000Ch20_RFBarY4Deg_1.mat\",\"val\"=>179,\"id\"=>\"idsf6G5YUf\"), OrderedDict{String,Any}(\"key\"=>\"C1701_V2Site3_3000Ch20_RFGrating4Deg_1.mat\",\"val\"=>180,\"id\"=>\"idSl1eKQe2\"), OrderedDict{String,Any}(\"key\"=>\"C1701_V2Site3_3000Ch20_RFGrating8Deg_1.mat\",\"val\"=>181,\"id\"=>\"idLtxiS7qc\"), OrderedDict{String,Any}(\"key\"=>\"C1701_V2Site3_3000Ch20_SpatialFreq_1.mat\",\"val\"=>182,\"id\"=>\"idI6FgEqw0\"), OrderedDict{String,Any}(\"key\"=>\"C1701_V2Site3_3000Ch20_TemporalFreq_1.mat\",\"val\"=>183,\"id\"=>\"idixmm13AN\"), OrderedDict{String,Any}(\"key\"=>\"C1701_V2Site3_3000Ch23_Contrast_1.mat\",\"val\"=>184,\"id\"=>\"idxzEH5J6m\"), OrderedDict{String,Any}(\"key\"=>\"C1701_V2Site3_3000Ch23_Image_1.mat\",\"val\"=>185,\"id\"=>\"idxbWRudO5\"), OrderedDict{String,Any}(\"key\"=>\"C1701_V2Site3_3000_Diameter_1.mat\",\"val\"=>186,\"id\"=>\"idHR6fb3zx\"), OrderedDict{String,Any}(\"key\"=>\"C1701_V2Site3_3000_OriGrating_1.mat\",\"val\"=>187,\"id\"=>\"idaAAyRYK4\"), OrderedDict{String,Any}(\"key\"=>\"C1701_V2Site3_3000_OriOffsetGrating_1.mat\",\"val\"=>188,\"id\"=>\"idjR3ny7ZM\"), OrderedDict{String,Any}(\"key\"=>\"C1701_V2Site3_3000_RFBarX12Deg_1.mat\",\"val\"=>189,\"id\"=>\"idAb6OsX1e\"), OrderedDict{String,Any}(\"key\"=>\"C1701_V2Site3_3000_RFBarX4Deg_1.mat\",\"val\"=>190,\"id\"=>\"id0oSvPEXr\"), OrderedDict{String,Any}(\"key\"=>\"C1701_V2Site3_3000_RFBarY12Deg_1.mat\",\"val\"=>191,\"id\"=>\"idsabtQZjp\"), OrderedDict{String,Any}(\"key\"=>\"C1701_V2Site3_3000_RFBarY4Deg_1.mat\",\"val\"=>192,\"id\"=>\"idVtGF4Iz1\"), OrderedDict{String,Any}(\"key\"=>\"C1701_V2Site3_3000_RFGrating4Deg_1.mat\",\"val\"=>193,\"id\"=>\"idjTVKndO9\"), OrderedDict{String,Any}(\"key\"=>\"C1701_V2Site3_3000_RFGrating8Deg_1.mat\",\"val\"=>194,\"id\"=>\"id62EIAvKW\"), OrderedDict{String,Any}(\"key\"=>\"C1701_V2Site3_3000_SpatialFreq_1.mat\",\"val\"=>195,\"id\"=>\"idXdGYCAb5\"), OrderedDict{String,Any}(\"key\"=>\"C1701_V2Site3_3000_TemporalFreq_1.mat\",\"val\"=>196,\"id\"=>\"idcXFEWt03\"), OrderedDict{String,Any}(\"key\"=>\"C1701_V2Site3_3544Ch23_Contrast_1.mat\",\"val\"=>197,\"id\"=>\"idA4nj2wLi\"), OrderedDict{String,Any}(\"key\"=>\"C1701_V2Site3_3544Ch23_Contrast_2.mat\",\"val\"=>198,\"id\"=>\"idmuQ1KT2t\"), OrderedDict{String,Any}(\"key\"=>\"C1701_V2Site3_3544Ch23_Diameter_1.mat\",\"val\"=>199,\"id\"=>\"idedS9zTyM\"), OrderedDict{String,Any}(\"key\"=>\"C1701_V2Site3_3544Ch23_Diameter_2.mat\",\"val\"=>200,\"id\"=>\"idAli7XRoB\"), OrderedDict{String,Any}(\"key\"=>\"C1701_V2Site3_3544Ch23_Image_1.mat\",\"val\"=>201,\"id\"=>\"iduomUQiQc\"), OrderedDict{String,Any}(\"key\"=>\"C1701_V2Site3_3544Ch23_Image_2.mat\",\"val\"=>202,\"id\"=>\"idrcH3MZfm\"), OrderedDict{String,Any}(\"key\"=>\"C1701_V2Site3_3544Ch23_Image_3.mat\",\"val\"=>203,\"id\"=>\"idvGWK9sK1\"), OrderedDict{String,Any}(\"key\"=>\"C1701_V2Site3_3544Ch23_Image_4.mat\",\"val\"=>204,\"id\"=>\"idZVUOzxZ4\"), OrderedDict{String,Any}(\"key\"=>\"C1701_V2Site3_3544Ch23_OriGrating_1.mat\",\"val\"=>205,\"id\"=>\"idaWCszxHH\"), OrderedDict{String,Any}(\"key\"=>\"C1701_V2Site3_3544Ch23_OriGrating_2.mat\",\"val\"=>206,\"id\"=>\"idbUIQccVP\"), OrderedDict{String,Any}(\"key\"=>\"C1701_V2Site3_3544Ch23_RFBarX12Deg_1.mat\",\"val\"=>207,\"id\"=>\"idfKE2eScf\"), OrderedDict{String,Any}(\"key\"=>\"C1701_V2Site3_3544Ch23_RFBarX12Deg_2.mat\",\"val\"=>208,\"id\"=>\"idbeFrrzCj\"), OrderedDict{String,Any}(\"key\"=>\"C1701_V2Site3_3544Ch23_RFBarY12Deg_1.mat\",\"val\"=>209,\"id\"=>\"idLenFohJO\"), OrderedDict{String,Any}(\"key\"=>\"C1701_V2Site3_3544Ch23_RFBarY12Deg_2.mat\",\"val\"=>210,\"id\"=>\"idh2hAMW7V\"), OrderedDict{String,Any}(\"key\"=>\"C1701_V2Site3_3544Ch23_RFBarY12Deg_3.mat\",\"val\"=>211,\"id\"=>\"id67ZqXb8l\"), OrderedDict{String,Any}(\"key\"=>\"C1701_V2Site3_3544Ch23_RFBarY4Deg_1.mat\",\"val\"=>212,\"id\"=>\"idF7AdFStO\"), OrderedDict{String,Any}(\"key\"=>\"C1701_V2Site3_3544Ch23_RFGrating4Deg_1.mat\",\"val\"=>213,\"id\"=>\"idydlmOfe3\"), OrderedDict{String,Any}(\"key\"=>\"C1701_V2Site3_3544Ch23_RFGrating8Deg_1.mat\",\"val\"=>214,\"id\"=>\"idHhfIgcqD\"), OrderedDict{String,Any}(\"key\"=>\"C1701_V2Site3_3544Ch23_RFGrating8Deg_2.mat\",\"val\"=>215,\"id\"=>\"idtloutpIv\"), OrderedDict{String,Any}(\"key\"=>\"C1701_V2Site3_3544Ch23_RFGrating8Deg_3.mat\",\"val\"=>216,\"id\"=>\"id1jAREvQe\"), OrderedDict{String,Any}(\"key\"=>\"C1701_V2Site3_3544Ch23_SpatialFreq_1.mat\",\"val\"=>217,\"id\"=>\"idVeBuHPII\"), OrderedDict{String,Any}(\"key\"=>\"C1701_V2Site3_3544Ch23_SpatialFreq_2.mat\",\"val\"=>218,\"id\"=>\"idMOj1gKAJ\"), OrderedDict{String,Any}(\"key\"=>\"C1701_V2Site3_3544Ch23_TemporalFreq_1.mat\",\"val\"=>219,\"id\"=>\"idNRsWXkPz\"), OrderedDict{String,Any}(\"key\"=>\"C1701_V2Site3_3544Ch23_TemporalFreq_2.mat\",\"val\"=>220,\"id\"=>\"idvFqa831G\"), OrderedDict{String,Any}(\"key\"=>\"C1701_V2Site3_4500Ch20_Diameter_1.mat\",\"val\"=>221,\"id\"=>\"idyVSwso4n\"), OrderedDict{String,Any}(\"key\"=>\"C1701_V2Site3_4500Ch20_Image_1.mat\",\"val\"=>222,\"id\"=>\"idtY5QIbuT\"), OrderedDict{String,Any}(\"key\"=>\"C1701_V2Site3_4500Ch20_OriGrating_1.mat\",\"val\"=>223,\"id\"=>\"idtepllGNr\"), OrderedDict{String,Any}(\"key\"=>\"C1701_V2Site3_4500Ch20_RFBarX12Deg_1.mat\",\"val\"=>224,\"id\"=>\"idVfRK81Rf\"), OrderedDict{String,Any}(\"key\"=>\"C1701_V2Site3_4500Ch20_RFBarY12Deg_1.mat\",\"val\"=>225,\"id\"=>\"idkIyyYbY1\"), OrderedDict{String,Any}(\"key\"=>\"C1701_V2Site3_4500Ch20_RFGrating8Deg_1.mat\",\"val\"=>226,\"id\"=>\"idBrBzib1X\"), OrderedDict{String,Any}(\"key\"=>\"C1701_V2Site3_4500Ch20_RFGrating8Deg_2.mat\",\"val\"=>227,\"id\"=>\"idwY5Ihrx7\"), OrderedDict{String,Any}(\"key\"=>\"C1701_V2Site3_4500Ch20_SpatialFreq_1.mat\",\"val\"=>228,\"id\"=>\"idBcn2UKhf\"), OrderedDict{String,Any}(\"key\"=>\"C1701_V2Site3_4500Ch20_TemporalFreq_1.mat\",\"val\"=>229,\"id\"=>\"iddUh77dOL\"), OrderedDict{String,Any}(\"key\"=>\"C1701_V2Site4_3200Ch13_Contrast_1.mat\",\"val\"=>230,\"id\"=>\"idqmY99KXV\"), OrderedDict{String,Any}(\"key\"=>\"C1701_V2Site4_3200Ch13_Diameter_1.mat\",\"val\"=>231,\"id\"=>\"idbwx8pbjs\"), OrderedDict{String,Any}(\"key\"=>\"C1701_V2Site4_3200Ch13_Image_1.mat\",\"val\"=>232,\"id\"=>\"idXyVyXkXM\"), OrderedDict{String,Any}(\"key\"=>\"C1701_V2Site4_3200Ch13_Image_2.mat\",\"val\"=>233,\"id\"=>\"idISUJeubW\"), OrderedDict{String,Any}(\"key\"=>\"C1701_V2Site4_3200Ch13_OriGrating_1.mat\",\"val\"=>234,\"id\"=>\"idndFfrOXu\"), OrderedDict{String,Any}(\"key\"=>\"C1701_V2Site4_3200Ch13_RFBarX12Deg_1.mat\",\"val\"=>235,\"id\"=>\"idnXtJoWii\"), OrderedDict{String,Any}(\"key\"=>\"C1701_V2Site4_3200Ch13_RFBarY12Deg_1.mat\",\"val\"=>236,\"id\"=>\"idmzFtkOe9\"), OrderedDict{String,Any}(\"key\"=>\"C1701_V2Site4_3200Ch13_RFGrating24Deg_1.mat\",\"val\"=>237,\"id\"=>\"idnaML8411\"), OrderedDict{String,Any}(\"key\"=>\"C1701_V2Site4_3200Ch13_SpatialFreq_1.mat\",\"val\"=>238,\"id\"=>\"idi1u5AYEA\"), OrderedDict{String,Any}(\"key\"=>\"C1701_V2Site4_3200Ch13_TemporalFreq_1.mat\",\"val\"=>239,\"id\"=>\"id2DVuTT1F\"), OrderedDict{String,Any}(\"key\"=>\"C1701_V2Site5_3200Ch18_Contrast_1.mat\",\"val\"=>240,\"id\"=>\"id04dSHQMo\"), OrderedDict{String,Any}(\"key\"=>\"C1701_V2Site5_3200Ch18_Contrast_2.mat\",\"val\"=>241,\"id\"=>\"iduWLnDWkt\"), OrderedDict{String,Any}(\"key\"=>\"C1701_V2Site5_3200Ch18_Diameter_1.mat\",\"val\"=>242,\"id\"=>\"idS48avQau\"), OrderedDict{String,Any}(\"key\"=>\"C1701_V2Site5_3200Ch18_Diameter_2.mat\",\"val\"=>243,\"id\"=>\"idgg6Bu1Rv\"), OrderedDict{String,Any}(\"key\"=>\"C1701_V2Site5_3200Ch18_Image_1.mat\",\"val\"=>244,\"id\"=>\"idHWQuGOSa\"), OrderedDict{String,Any}(\"key\"=>\"C1701_V2Site5_3200Ch18_OriGrating_1.mat\",\"val\"=>245,\"id\"=>\"idBWZMiiHh\"), OrderedDict{String,Any}(\"key\"=>\"C1701_V2Site5_3200Ch18_OriGrating_2.mat\",\"val\"=>246,\"id\"=>\"idbNdKcJ4h\"), OrderedDict{String,Any}(\"key\"=>\"C1701_V2Site5_3200Ch18_RFBarX4Deg_1.mat\",\"val\"=>247,\"id\"=>\"idU1lLHLjZ\"), OrderedDict{String,Any}(\"key\"=>\"C1701_V2Site5_3200Ch18_RFBarY4Deg_1.mat\",\"val\"=>248,\"id\"=>\"idl3DZ3g2I\"), OrderedDict{String,Any}(\"key\"=>\"C1701_V2Site5_3200Ch18_RFGrating24Deg_1.mat\",\"val\"=>249,\"id\"=>\"idSWqpuqKd\"), OrderedDict{String,Any}(\"key\"=>\"C1701_V2Site5_3200Ch18_RFGrating8Deg_1.mat\",\"val\"=>250,\"id\"=>\"id929Gpo0F\"), OrderedDict{String,Any}(\"key\"=>\"C1701_V2Site5_3200Ch18_SpatialFreq_1.mat\",\"val\"=>251,\"id\"=>\"idJmhd0QAh\"), OrderedDict{String,Any}(\"key\"=>\"C1701_V2Site5_3200Ch18_SpatialFreq_2.mat\",\"val\"=>252,\"id\"=>\"idzgMk229W\"), OrderedDict{String,Any}(\"key\"=>\"C1701_V2Site5_3200Ch18_SpatialFreq_3.mat\",\"val\"=>253,\"id\"=>\"idKoUDXzfa\"), OrderedDict{String,Any}(\"key\"=>\"C1701_V2Site5_3200Ch18_SpatialFreq_4.mat\",\"val\"=>254,\"id\"=>\"idBvRCA3w6\"), OrderedDict{String,Any}(\"key\"=>\"C1701_V2Site5_3200Ch18_TemporalFreq_1.mat\",\"val\"=>255,\"id\"=>\"idhdNFVO5b\"), OrderedDict{String,Any}(\"key\"=>\"C1701_V2Site5_3200Ch18_TemporalFreq_2.mat\",\"val\"=>256,\"id\"=>\"idHCBNQvHP\"), OrderedDict{String,Any}(\"key\"=>\"C1701_V2Site5_3200Ch18_TemporalFreq_3.mat\",\"val\"=>257,\"id\"=>\"idRM6TIAQO\"), OrderedDict{String,Any}(\"key\"=>\"C1701_V2Site5_3200Ch22_Diameter_1.mat\",\"val\"=>258,\"id\"=>\"idubPrnPaE\"), OrderedDict{String,Any}(\"key\"=>\"C1701_V2Site5_3200Ch22_Diameter_2.mat\",\"val\"=>259,\"id\"=>\"idekvRzKKQ\"), OrderedDict{String,Any}(\"key\"=>\"C1701_V2Site5_3200Ch22_Image_1.mat\",\"val\"=>260,\"id\"=>\"idVj2WnjaN\"), OrderedDict{String,Any}(\"key\"=>\"C1701_V2Site5_3200Ch22_OriGrating_1.mat\",\"val\"=>261,\"id\"=>\"idHiB4mqnb\"), OrderedDict{String,Any}(\"key\"=>\"C1701_V2Site5_3200Ch22_RFBarX12Deg_1.mat\",\"val\"=>262,\"id\"=>\"id8iV92zvs\"), OrderedDict{String,Any}(\"key\"=>\"C1701_V2Site5_3200Ch22_RFBarY12Deg_1.mat\",\"val\"=>263,\"id\"=>\"idYenGyzzL\"), OrderedDict{String,Any}(\"key\"=>\"C1701_V2Site5_3200Ch22_RFGrating24Deg_1.mat\",\"val\"=>264,\"id\"=>\"idhG6uFcJm\"), OrderedDict{String,Any}(\"key\"=>\"C1701_V2Site5_3200Ch22_SpatialFreq_1.mat\",\"val\"=>265,\"id\"=>\"idPf9Ftwc1\"), OrderedDict{String,Any}(\"key\"=>\"C1701_V2Site5_3200Ch22_TemporalFreq_1.mat\",\"val\"=>266,\"id\"=>\"idDMCm74uK\"), OrderedDict{String,Any}(\"key\"=>\"C1701_V2Site5_3200Ch23_Diameter_1.mat\",\"val\"=>267,\"id\"=>\"idaFd8tY3m\"), OrderedDict{String,Any}(\"key\"=>\"C1701_V2Site5_3200Ch23_Image_1.mat\",\"val\"=>268,\"id\"=>\"idValjrtbz\"), OrderedDict{String,Any}(\"key\"=>\"C1701_V2Site5_3200Ch23_OriGrating_1.mat\",\"val\"=>269,\"id\"=>\"idqIb9tigU\"), OrderedDict{String,Any}(\"key\"=>\"C1701_V2Site5_3200Ch23_RFBarX12Deg_1.mat\",\"val\"=>270,\"id\"=>\"idwtlMNumK\"), OrderedDict{String,Any}(\"key\"=>\"C1701_V2Site5_3200Ch23_RFBarY12Deg_1.mat\",\"val\"=>271,\"id\"=>\"iduldrktpp\"), OrderedDict{String,Any}(\"key\"=>\"C1701_V2Site5_3200Ch23_RFGrating8Deg_1.mat\",\"val\"=>272,\"id\"=>\"idNQYPoS0Y\"), OrderedDict{String,Any}(\"key\"=>\"C1701_V2Site5_3200Ch23_RFGrating8Deg_2.mat\",\"val\"=>273,\"id\"=>\"id8FqzU3g5\"), OrderedDict{String,Any}(\"key\"=>\"C1701_V2Site5_3200Ch23_SpatialFreq_1.mat\",\"val\"=>274,\"id\"=>\"idbbKC0iYS\"), OrderedDict{String,Any}(\"key\"=>\"C1701_V2Site5_3200Ch23_TemporalFreq_1.mat\",\"val\"=>275,\"id\"=>\"idULLW9pzA\"), OrderedDict{String,Any}(\"key\"=>\"C1701_V2Site5_3200Ch6_Contrast_1.mat\",\"val\"=>276,\"id\"=>\"id9aSxdSIv\"), OrderedDict{String,Any}(\"key\"=>\"C1701_V2Site5_3200Ch6_Diameter_1.mat\",\"val\"=>277,\"id\"=>\"id6iit4Gq4\"), OrderedDict{String,Any}(\"key\"=>\"C1701_V2Site5_3200Ch6_Image_1.mat\",\"val\"=>278,\"id\"=>\"id89gp9u2W\"), OrderedDict{String,Any}(\"key\"=>\"C1701_V2Site5_3200Ch6_OriGrating_1.mat\",\"val\"=>279,\"id\"=>\"idJXVH8Cjj\"), OrderedDict{String,Any}(\"key\"=>\"C1701_V2Site5_3200Ch6_OriGrating_2.mat\",\"val\"=>280,\"id\"=>\"idX8GAllkW\"), OrderedDict{String,Any}(\"key\"=>\"C1701_V2Site5_3200Ch6_RFBarX12Deg_1.mat\",\"val\"=>281,\"id\"=>\"idipKZ5aJF\"), OrderedDict{String,Any}(\"key\"=>\"C1701_V2Site5_3200Ch6_RFBarX4Deg_1.mat\",\"val\"=>282,\"id\"=>\"idWRaHI7LB\"), OrderedDict{String,Any}(\"key\"=>\"C1701_V2Site5_3200Ch6_RFBarY12Deg_1.mat\",\"val\"=>283,\"id\"=>\"idB4SDCUBh\"), OrderedDict{String,Any}(\"key\"=>\"C1701_V2Site5_3200Ch6_RFBarY4Deg_1.mat\",\"val\"=>284,\"id\"=>\"idXnbTnNlW\"), OrderedDict{String,Any}(\"key\"=>\"C1701_V2Site5_3200Ch6_RFGrating12Deg_1.mat\",\"val\"=>285,\"id\"=>\"idBZrdpVUH\"), OrderedDict{String,Any}(\"key\"=>\"C1701_V2Site5_3200Ch6_RFGrating12Deg_2.mat\",\"val\"=>286,\"id\"=>\"idG8R5MnfU\"), OrderedDict{String,Any}(\"key\"=>\"C1701_V2Site5_3200Ch6_SpatialFreq_1.mat\",\"val\"=>287,\"id\"=>\"idmLJLKsR1\"), OrderedDict{String,Any}(\"key\"=>\"C1701_V2Site5_3200Ch6_SpatialFreq_2.mat\",\"val\"=>288,\"id\"=>\"idWYGcvJcg\"), OrderedDict{String,Any}(\"key\"=>\"C1701_V2Site5_3200Ch6_TemporalFreq_1.mat\",\"val\"=>289,\"id\"=>\"idTT8PMfwW\"), OrderedDict{String,Any}(\"key\"=>\"C1701_V2Site5_3200Ch6_TemporalFreq_2.mat\",\"val\"=>290,\"id\"=>\"id3uGwhYSS\")], nothing),\"index\"=>(Observable{Any} with 2 listeners. Value:\n",
              "1, nothing)), Set(String[]), nothing, Any[\"knockout\"=>\"C:\\\\Users\\\\Alex\\\\.julia\\\\packages\\\\Knockout\\\\JIqpG\\\\src\\\\..\\\\assets\\\\knockout.js\", \"knockout_punches\"=>\"C:\\\\Users\\\\Alex\\\\.julia\\\\packages\\\\Knockout\\\\JIqpG\\\\src\\\\..\\\\assets\\\\knockout_punches.js\", \"C:\\\\Users\\\\Alex\\\\.julia\\\\packages\\\\InteractBase\\\\Q4IkI\\\\src\\\\..\\\\assets\\\\all.js\", \"C:\\\\Users\\\\Alex\\\\.julia\\\\packages\\\\InteractBase\\\\Q4IkI\\\\src\\\\..\\\\assets\\\\style.css\", \"C:\\\\Users\\\\Alex\\\\.julia\\\\packages\\\\InteractBulma\\\\Ohu5Y\\\\src\\\\..\\\\assets\\\\main.css\"], Dict{Any,Any}(\"_promises\"=>Dict{Any,Any}(\"importsLoaded\"=>Any[JSString(\"function (ko, koPunches) {\\n    ko.punches.enableAll();\\n    ko.bindingHandlers.numericValue = {\\n        init : function(element, valueAccessor, allBindings, data, context) {\\n            var stringified = ko.observable(ko.unwrap(valueAccessor()));\\n            stringified.subscribe(function(value) {\\n                var val = parseFloat(value);\\n                if (!isNaN(val)) {\\n                    valueAccessor()(val);\\n                }\\n            })\\n            valueAccessor().subscribe(function(value) {\\n                var str = JSON.stringify(value);\\n                if ((str == \\\"0\\\") && ([\\\"-0\\\", \\\"-0.\\\"].indexOf(stringified()) >= 0))\\n                     return;\\n                 if ([\\\"null\\\", \\\"\\\"].indexOf(str) >= 0)\\n                     return;\\n                stringified(str);\\n            })\\n            ko.applyBindingsToNode(element, { value: stringified, valueUpdate: allBindings.get('valueUpdate')}, context);\\n        }\\n    };\\n    var json_data = JSON.parse(\\\"{\\\\\\\"options_js\\\\\\\":[{\\\\\\\"key\\\\\\\":\\\\\\\"C1701_V2Site1_3000Ch21_Diameter_1.mat\\\\\\\",\\\\\\\"val\\\\\\\":1,\\\\\\\"id\\\\\\\":\\\\\\\"idSLfU9FGg\\\\\\\"},{\\\\\\\"key\\\\\\\":\\\\\\\"C1701_V2Site1_3000Ch21_Diameter_2.mat\\\\\\\",\\\\\\\"val\\\\\\\":2,\\\\\\\"id\\\\\\\":\\\\\\\"idtmvkAul7\\\\\\\"},{\\\\\\\"key\\\\\\\":\\\\\\\"C1701_V2Site1_3000Ch21_Diameter_3.mat\\\\\\\",\\\\\\\"val\\\\\\\":3,\\\\\\\"id\\\\\\\":\\\\\\\"idEGee0moI\\\\\\\"},{\\\\\\\"key\\\\\\\":\\\\\\\"C1701_V2Site1_3000Ch21_Diameter_4.mat\\\\\\\",\\\\\\\"val\\\\\\\":4,\\\\\\\"id\\\\\\\":\\\\\\\"id7x5WGe9x\\\\\\\"},{\\\\\\\"key\\\\\\\":\\\\\\\"C1701_V2Site1_3000Ch21_Diameter_5.mat\\\\\\\",\\\\\\\"val\\\\\\\":5,\\\\\\\"id\\\\\\\":\\\\\\\"id10qHMy9M\\\\\\\"},{\\\\\\\"key\\\\\\\":\\\\\\\"C1701_V2Site1_3000Ch21_Diameter_6.mat\\\\\\\",\\\\\\\"val\\\\\\\":6,\\\\\\\"id\\\\\\\":\\\\\\\"idbGJzUgsC\\\\\\\"},{\\\\\\\"key\\\\\\\":\\\\\\\"C1701_V2Site1_3000Ch21_Diameter_7.mat\\\\\\\",\\\\\\\"val\\\\\\\":7,\\\\\\\"id\\\\\\\":\\\\\\\"idz6fQRmI6\\\\\\\"},{\\\\\\\"key\\\\\\\":\\\\\\\"C1701_V2Site1_3000Ch21_Image_1.mat\\\\\\\",\\\\\\\"val\\\\\\\":8,\\\\\\\"id\\\\\\\":\\\\\\\"idS4PiXaMx\\\\\\\"},{\\\\\\\"key\\\\\\\":\\\\\\\"C1701_V2Site1_3000Ch21_Image_2.mat\\\\\\\",\\\\\\\"val\\\\\\\":9,\\\\\\\"id\\\\\\\":\\\\\\\"idTEzrrbuR\\\\\\\"},{\\\\\\\"key\\\\\\\":\\\\\\\"C1701_V2Site1_3000Ch21_OriGrating_1.mat\\\\\\\",\\\\\\\"val\\\\\\\":10,\\\\\\\"id\\\\\\\":\\\\\\\"id00Zod3Nv\\\\\\\"},{\\\\\\\"key\\\\\\\":\\\\\\\"C1701_V2Site1_3000Ch21_OriGrating_2.mat\\\\\\\",\\\\\\\"val\\\\\\\":11,\\\\\\\"id\\\\\\\":\\\\\\\"idtey04q8Z\\\\\\\"},{\\\\\\\"key\\\\\\\":\\\\\\\"C1701_V2Site1_3000Ch21_OriGrating_3.mat\\\\\\\",\\\\\\\"val\\\\\\\":12,\\\\\\\"id\\\\\\\":\\\\\\\"id6jNd3nr8\\\\\\\"},{\\\\\\\"key\\\\\\\":\\\\\\\"C1701_V2Site1_3000Ch21_OriOffsetGrating_1.mat\\\\\\\",\\\\\\\"val\\\\\\\":13,\\\\\\\"id\\\\\\\":\\\\\\\"idMwLvfq4Q\\\\\\\"},{\\\\\\\"key\\\\\\\":\\\\\\\"C1701_V2Site1_3000Ch21_OriOffsetGrating_2.mat\\\\\\\",\\\\\\\"val\\\\\\\":14,\\\\\\\"id\\\\\\\":\\\\\\\"id17EFZDz7\\\\\\\"},{\\\\\\\"key\\\\\\\":\\\\\\\"C1701_V2Site1_3000Ch21_RFBarX4Deg_1.mat\\\\\\\",\\\\\\\"val\\\\\\\":15,\\\\\\\"id\\\\\\\":\\\\\\\"idLuA3gCCL\\\\\\\"},{\\\\\\\"key\\\\\\\":\\\\\\\"C1701_V2Site1_3000Ch21_RFBarX4Deg_2.mat\\\\\\\",\\\\\\\"val\\\\\\\":16,\\\\\\\"id\\\\\\\":\\\\\\\"id1sP6N9GZ\\\\\\\"},{\\\\\\\"key\\\\\\\":\\\\\\\"C1701_V2Site1_3000Ch21_RFBarY2Deg_1.mat\\\\\\\",\\\\\\\"val\\\\\\\":17,\\\\\\\"id\\\\\\\":\\\\\\\"id5RCuxdQu\\\\\\\"},{\\\\\\\"key\\\\\\\":\\\\\\\"C1701_V2Site1_3000Ch21_RFBarY4Deg_1.mat\\\\\\\",\\\\\\\"val\\\\\\\":18,\\\\\\\"id\\\\\\\":\\\\\\\"idH3W839hm\\\\\\\"},{\\\\\\\"key\\\\\\\":\\\\\\\"C1701_V2Site1_3000Ch21_RFBarY4Deg_2.mat\\\\\\\",\\\\\\\"val\\\\\\\":19,\\\\\\\"id\\\\\\\":\\\\\\\"idZXUeRagR\\\\\\\"},{\\\\\\\"key\\\\\\\":\\\\\\\"C1701_V2Site1_3000Ch21_RFBarY4Deg_3.mat\\\\\\\",\\\\\\\"val\\\\\\\":20,\\\\\\\"id\\\\\\\":\\\\\\\"id4LyndiEk\\\\\\\"},{\\\\\\\"key\\\\\\\":\\\\\\\"C1701_V2Site1_3000Ch21_RFGrating12Deg_1.mat\\\\\\\",\\\\\\\"val\\\\\\\":21,\\\\\\\"id\\\\\\\":\\\\\\\"idRjDRRmyd\\\\\\\"},{\\\\\\\"key\\\\\\\":\\\\\\\"C1701_V2Site1_3000Ch21_RFGrating24Deg_1.mat\\\\\\\",\\\\\\\"val\\\\\\\":22,\\\\\\\"id\\\\\\\":\\\\\\\"id2eSQeO1g\\\\\\\"},{\\\\\\\"key\\\\\\\":\\\\\\\"C1701_V2Site1_3000Ch21_RFGrating24Deg_2.mat\\\\\\\",\\\\\\\"val\\\\\\\":23,\\\\\\\"id\\\\\\\":\\\\\\\"idReo3H8WH\\\\\\\"},{\\\\\\\"key\\\\\\\":\\\\\\\"C1701_V2Site1_3000Ch21_RFGrating4Deg_1.mat\\\\\\\",\\\\\\\"val\\\\\\\":24,\\\\\\\"id\\\\\\\":\\\\\\\"ideEtLMvd9\\\\\\\"},{\\\\\\\"key\\\\\\\":\\\\\\\"C1701_V2Site1_3000Ch21_RFGrating8Deg_1.mat\\\\\\\",\\\\\\\"val\\\\\\\":25,\\\\\\\"id\\\\\\\":\\\\\\\"id4j0giqo5\\\\\\\"},{\\\\\\\"key\\\\\\\":\\\\\\\"C1701_V2Site1_3000Ch21_RFGrating8Deg_2.mat\\\\\\\",\\\\\\\"val\\\\\\\":26,\\\\\\\"id\\\\\\\":\\\\\\\"idh3TlAiOd\\\\\\\"},{\\\\\\\"key\\\\\\\":\\\\\\\"C1701_V2Site1_3000Ch21_RFGrating8Deg_3.mat\\\\\\\",\\\\\\\"val\\\\\\\":27,\\\\\\\"id\\\\\\\":\\\\\\\"idQ4upZoLx\\\\\\\"},{\\\\\\\"key\\\\\\\":\\\\\\\"C1701_V2Site1_3000Ch21_SpatialFreq_1.mat\\\\\\\",\\\\\\\"val\\\\\\\":28,\\\\\\\"id\\\\\\\":\\\\\\\"idCHFdUT7k\\\\\\\"},{\\\\\\\"key\\\\\\\":\\\\\\\"C1701_V2Site1_3000Ch21_SpatialFreq_2.mat\\\\\\\",\\\\\\\"val\\\\\\\":29,\\\\\\\"id\\\\\\\":\\\\\\\"idYzQkNGe1\\\\\\\"},{\\\\\\\"key\\\\\\\":\\\\\\\"C1701_V2Site1_3000Ch21_SpatialFreq_3.mat\\\\\\\",\\\\\\\"val\\\\\\\":30,\\\\\\\"id\\\\\\\":\\\\\\\"idqFa6ntOW\\\\\\\"},{\\\\\\\"key\\\\\\\":\\\\\\\"C1701_V2Site1_3000Ch21_TemporalFreq_1.mat\\\\\\\",\\\\\\\"val\\\\\\\":31,\\\\\\\"id\\\\\\\":\\\\\\\"id1FpX88ks\\\\\\\"},{\\\\\\\"key\\\\\\\":\\\\\\\"C1701_V2Site1_3000Ch21_TemporalFreq_2.mat\\\\\\\",\\\\\\\"val\\\\\\\":32,\\\\\\\"id\\\\\\\":\\\\\\\"idUi6EEuJD\\\\\\\"},{\\\\\\\"key\\\\\\\":\\\\\\\"C1701_V2Site1_3000Ch21_TemporalFreq_3.mat\\\\\\\",\\\\\\\"val\\\\\\\":33,\\\\\\\"id\\\\\\\":\\\\\\\"idRq7guCJE\\\\\\\"},{\\\\\\\"key\\\\\\\":\\\\\\\"C1701_V2Site1_3339Ch17_Diameter_1.mat\\\\\\\",\\\\\\\"val\\\\\\\":34,\\\\\\\"id\\\\\\\":\\\\\\\"idcDOvp83p\\\\\\\"},{\\\\\\\"key\\\\\\\":\\\\\\\"C1701_V2Site1_3339Ch17_Diameter_2.mat\\\\\\\",\\\\\\\"val\\\\\\\":35,\\\\\\\"id\\\\\\\":\\\\\\\"idPpgiS2Pk\\\\\\\"},{\\\\\\\"key\\\\\\\":\\\\\\\"C1701_V2Site1_3339Ch17_Diameter_3.mat\\\\\\\",\\\\\\\"val\\\\\\\":36,\\\\\\\"id\\\\\\\":\\\\\\\"idZTv1LjtL\\\\\\\"},{\\\\\\\"key\\\\\\\":\\\\\\\"C1701_V2Site1_3339Ch17_Diameter_4.mat\\\\\\\",\\\\\\\"val\\\\\\\":37,\\\\\\\"id\\\\\\\":\\\\\\\"idXAT5J1Iz\\\\\\\"},{\\\\\\\"key\\\\\\\":\\\\\\\"C1701_V2Site1_3339Ch17_Image_1.mat\\\\\\\",\\\\\\\"val\\\\\\\":38,\\\\\\\"id\\\\\\\":\\\\\\\"id94Y7v8Lp\\\\\\\"},{\\\\\\\"key\\\\\\\":\\\\\\\"C1701_V2Site1_3339Ch17_Image_2.mat\\\\\\\",\\\\\\\"val\\\\\\\":39,\\\\\\\"id\\\\\\\":\\\\\\\"idsSrDB6gn\\\\\\\"},{\\\\\\\"key\\\\\\\":\\\\\\\"C1701_V2Site1_3339Ch17_OriGrating_1.mat\\\\\\\",\\\\\\\"val\\\\\\\":40,\\\\\\\"id\\\\\\\":\\\\\\\"idLm5Q5Or7\\\\\\\"},{\\\\\\\"key\\\\\\\":\\\\\\\"C1701_V2Site1_3339Ch17_OriGrating_10.mat\\\\\\\",\\\\\\\"val\\\\\\\":41,\\\\\\\"id\\\\\\\":\\\\\\\"idTYUQaw1y\\\\\\\"},{\\\\\\\"key\\\\\\\":\\\\\\\"C1701_V2Site1_3339Ch17_OriGrating_2.mat\\\\\\\",\\\\\\\"val\\\\\\\":42,\\\\\\\"id\\\\\\\":\\\\\\\"ideDDHL0j9\\\\\\\"},{\\\\\\\"key\\\\\\\":\\\\\\\"C1701_V2Site1_3339Ch17_OriGrating_3.mat\\\\\\\",\\\\\\\"val\\\\\\\":43,\\\\\\\"id\\\\\\\":\\\\\\\"idzKGjZQcQ\\\\\\\"},{\\\\\\\"key\\\\\\\":\\\\\\\"C1701_V2Site1_3339Ch17_OriGrating_4.mat\\\\\\\",\\\\\\\"val\\\\\\\":44,\\\\\\\"id\\\\\\\":\\\\\\\"id0wnMmI4W\\\\\\\"},{\\\\\\\"key\\\\\\\":\\\\\\\"C1701_V2Site1_3339Ch17_OriGrating_5.mat\\\\\\\",\\\\\\\"val\\\\\\\":45,\\\\\\\"id\\\\\\\":\\\\\\\"idua18qXr6\\\\\\\"},{\\\\\\\"key\\\\\\\":\\\\\\\"C1701_V2Site1_3339Ch17_OriGrating_6.mat\\\\\\\",\\\\\\\"val\\\\\\\":46,\\\\\\\"id\\\\\\\":\\\\\\\"idwxN0M6Sh\\\\\\\"},{\\\\\\\"key\\\\\\\":\\\\\\\"C1701_V2Site1_3339Ch17_OriGrating_7.mat\\\\\\\",\\\\\\\"val\\\\\\\":47,\\\\\\\"id\\\\\\\":\\\\\\\"idQvTuieZp\\\\\\\"},{\\\\\\\"key\\\\\\\":\\\\\\\"C1701_V2Site1_3339Ch17_OriGrating_8.mat\\\\\\\",\\\\\\\"val\\\\\\\":48,\\\\\\\"id\\\\\\\":\\\\\\\"id04dlOaT0\\\\\\\"},{\\\\\\\"key\\\\\\\":\\\\\\\"C1701_V2Site1_3339Ch17_OriGrating_9.mat\\\\\\\",\\\\\\\"val\\\\\\\":49,\\\\\\\"id\\\\\\\":\\\\\\\"idk9SO6bnB\\\\\\\"},{\\\\\\\"key\\\\\\\":\\\\\\\"C1701_V2Site1_3339Ch17_RFBarX4Deg_1.mat\\\\\\\",\\\\\\\"val\\\\\\\":50,\\\\\\\"id\\\\\\\":\\\\\\\"idNr04jccj\\\\\\\"},{\\\\\\\"key\\\\\\\":\\\\\\\"C1701_V2Site1_3339Ch17_RFBarX4Deg_2.mat\\\\\\\",\\\\\\\"val\\\\\\\":51,\\\\\\\"id\\\\\\\":\\\\\\\"idb0sXiL1V\\\\\\\"},{\\\\\\\"key\\\\\\\":\\\\\\\"C1701_V2Site1_3339Ch17_RFBarX4Deg_3.mat\\\\\\\",\\\\\\\"val\\\\\\\":52,\\\\\\\"id\\\\\\\":\\\\\\\"idKYBAi5Xi\\\\\\\"},{\\\\\\\"key\\\\\\\":\\\\\\\"C1701_V2Site1_3339Ch17_RFBarX4Deg_4.mat\\\\\\\",\\\\\\\"val\\\\\\\":53,\\\\\\\"id\\\\\\\":\\\\\\\"id2yuH7KRf\\\\\\\"},{\\\\\\\"key\\\\\\\":\\\\\\\"C1701_V2Site1_3339Ch17_RFBarY4Deg_1.mat\\\\\\\",\\\\\\\"val\\\\\\\":54,\\\\\\\"id\\\\\\\":\\\\\\\"idBo0ErJUE\\\\\\\"},{\\\\\\\"key\\\\\\\":\\\\\\\"C1701_V2Site1_3339Ch17_RFBarY4Deg_2.mat\\\\\\\",\\\\\\\"val\\\\\\\":55,\\\\\\\"id\\\\\\\":\\\\\\\"idXwBPCrbp\\\\\\\"},{\\\\\\\"key\\\\\\\":\\\\\\\"C1701_V2Site1_3339Ch17_RFBarY4Deg_3.mat\\\\\\\",\\\\\\\"val\\\\\\\":56,\\\\\\\"id\\\\\\\":\\\\\\\"idFuq9a2fc\\\\\\\"},{\\\\\\\"key\\\\\\\":\\\\\\\"C1701_V2Site1_3339Ch17_RFGrating4Deg_1.mat\\\\\\\",\\\\\\\"val\\\\\\\":57,\\\\\\\"id\\\\\\\":\\\\\\\"iduy2CPChE\\\\\\\"},{\\\\\\\"key\\\\\\\":\\\\\\\"C1701_V2Site1_3339Ch17_RFGrating8Deg_1.mat\\\\\\\",\\\\\\\"val\\\\\\\":58,\\\\\\\"id\\\\\\\":\\\\\\\"idP4FENa8g\\\\\\\"},{\\\\\\\"key\\\\\\\":\\\\\\\"C1701_V2Site1_3339Ch17_SpatialFreq_1.mat\\\\\\\",\\\\\\\"val\\\\\\\":59,\\\\\\\"id\\\\\\\":\\\\\\\"iduLvVvWMK\\\\\\\"},{\\\\\\\"key\\\\\\\":\\\\\\\"C1701_V2Site1_3339Ch17_SpatialFreq_2.mat\\\\\\\",\\\\\\\"val\\\\\\\":60,\\\\\\\"id\\\\\\\":\\\\\\\"idHhefKU5d\\\\\\\"},{\\\\\\\"key\\\\\\\":\\\\\\\"C1701_V2Site1_3339Ch17_SpatialFreq_3.mat\\\\\\\",\\\\\\\"val\\\\\\\":61,\\\\\\\"id\\\\\\\":\\\\\\\"idrEE1kTNt\\\\\\\"},{\\\\\\\"key\\\\\\\":\\\\\\\"C1701_V2Site1_3339Ch17_TemporalFreq_1.mat\\\\\\\",\\\\\\\"val\\\\\\\":62,\\\\\\\"id\\\\\\\":\\\\\\\"idVMWTM7oV\\\\\\\"},{\\\\\\\"key\\\\\\\":\\\\\\\"C1701_V2Site1_3339Ch17_TemporalFreq_2.mat\\\\\\\",\\\\\\\"val\\\\\\\":63,\\\\\\\"id\\\\\\\":\\\\\\\"idoPRYYef6\\\\\\\"},{\\\\\\\"key\\\\\\\":\\\\\\\"C1701_V2Site1_3339Ch17_TemporalFreq_3.mat\\\\\\\",\\\\\\\"val\\\\\\\":64,\\\\\\\"id\\\\\\\":\\\\\\\"idV1SHXMls\\\\\\\"},{\\\\\\\"key\\\\\\\":\\\\\\\"C1701_V2Site1_3339Ch18_Contrast_1.mat\\\\\\\",\\\\\\\"val\\\\\\\":65,\\\\\\\"id\\\\\\\":\\\\\\\"idIRKZTfzi\\\\\\\"},{\\\\\\\"key\\\\\\\":\\\\\\\"C1701_V2Site1_3339Ch18_Diameter_1.mat\\\\\\\",\\\\\\\"val\\\\\\\":66,\\\\\\\"id\\\\\\\":\\\\\\\"idAl11pLuU\\\\\\\"},{\\\\\\\"key\\\\\\\":\\\\\\\"C1701_V2Site1_3339Ch18_Image_1.mat\\\\\\\",\\\\\\\"val\\\\\\\":67,\\\\\\\"id\\\\\\\":\\\\\\\"idZdb0lk2V\\\\\\\"},{\\\\\\\"key\\\\\\\":\\\\\\\"C1701_V2Site1_3339Ch18_Image_2.mat\\\\\\\",\\\\\\\"val\\\\\\\":68,\\\\\\\"id\\\\\\\":\\\\\\\"idns8dxQOn\\\\\\\"},{\\\\\\\"key\\\\\\\":\\\\\\\"C1701_V2Site1_3339Ch18_Image_3.mat\\\\\\\",\\\\\\\"val\\\\\\\":69,\\\\\\\"id\\\\\\\":\\\\\\\"id1EF3PTad\\\\\\\"},{\\\\\\\"key\\\\\\\":\\\\\\\"C1701_V2Site1_3339Ch18_OriGrating_1.mat\\\\\\\",\\\\\\\"val\\\\\\\":70,\\\\\\\"id\\\\\\\":\\\\\\\"idT3dKKr0E\\\\\\\"},{\\\\\\\"key\\\\\\\":\\\\\\\"C1701_V2Site1_3339Ch18_RFBarX4Deg_1.mat\\\\\\\",\\\\\\\"val\\\\\\\":71,\\\\\\\"id\\\\\\\":\\\\\\\"id5PGWuTOA\\\\\\\"},{\\\\\\\"key\\\\\\\":\\\\\\\"C1701_V2Site1_3339Ch18_RFBarY4Deg_1.mat\\\\\\\",\\\\\\\"val\\\\\\\":72,\\\\\\\"id\\\\\\\":\\\\\\\"idboB4EGwZ\\\\\\\"},{\\\\\\\"key\\\\\\\":\\\\\\\"C1701_V2Site1_3339Ch18_RFGrating8Deg_1.mat\\\\\\\",\\\\\\\"val\\\\\\\":73,\\\\\\\"id\\\\\\\":\\\\\\\"idMItmc1Lu\\\\\\\"},{\\\\\\\"key\\\\\\\":\\\\\\\"C1701_V2Site1_3339Ch18_SpatialFreq_1.mat\\\\\\\",\\\\\\\"val\\\\\\\":74,\\\\\\\"id\\\\\\\":\\\\\\\"idBMd6Wq78\\\\\\\"},{\\\\\\\"key\\\\\\\":\\\\\\\"C1701_V2Site1_3339Ch18_SpatialFreq_2.mat\\\\\\\",\\\\\\\"val\\\\\\\":75,\\\\\\\"id\\\\\\\":\\\\\\\"idxJA8wJvx\\\\\\\"},{\\\\\\\"key\\\\\\\":\\\\\\\"C1701_V2Site1_3339Ch18_TemporalFreq_1.mat\\\\\\\",\\\\\\\"val\\\\\\\":76,\\\\\\\"id\\\\\\\":\\\\\\\"idLswxkkSL\\\\\\\"},{\\\\\\\"key\\\\\\\":\\\\\\\"C1701_V2Site1_3419Ch19_Diameter_1.mat\\\\\\\",\\\\\\\"val\\\\\\\":77,\\\\\\\"id\\\\\\\":\\\\\\\"id0eqco3e1\\\\\\\"},{\\\\\\\"key\\\\\\\":\\\\\\\"C1701_V2Site1_3419Ch19_Image_1.mat\\\\\\\",\\\\\\\"val\\\\\\\":78,\\\\\\\"id\\\\\\\":\\\\\\\"idx1A1ZiiO\\\\\\\"},{\\\\\\\"key\\\\\\\":\\\\\\\"C1701_V2Site1_3419Ch19_OriGrating_1.mat\\\\\\\",\\\\\\\"val\\\\\\\":79,\\\\\\\"id\\\\\\\":\\\\\\\"idAAIcmSj5\\\\\\\"},{\\\\\\\"key\\\\\\\":\\\\\\\"C1701_V2Site1_3419Ch19_RFBarX12Deg_1.mat\\\\\\\",\\\\\\\"val\\\\\\\":80,\\\\\\\"id\\\\\\\":\\\\\\\"idxD1uJKmv\\\\\\\"},{\\\\\\\"key\\\\\\\":\\\\\\\"C1701_V2Site1_3419Ch19_RFBarX4Deg_1.mat\\\\\\\",\\\\\\\"val\\\\\\\":81,\\\\\\\"id\\\\\\\":\\\\\\\"idU873bSY8\\\\\\\"},{\\\\\\\"key\\\\\\\":\\\\\\\"C1701_V2Site1_3419Ch19_RFBarY12Deg_1.mat\\\\\\\",\\\\\\\"val\\\\\\\":82,\\\\\\\"id\\\\\\\":\\\\\\\"idA8Y17E8f\\\\\\\"},{\\\\\\\"key\\\\\\\":\\\\\\\"C1701_V2Site1_3419Ch19_RFBarY4Deg_1.mat\\\\\\\",\\\\\\\"val\\\\\\\":83,\\\\\\\"id\\\\\\\":\\\\\\\"idPHBzYnrz\\\\\\\"},{\\\\\\\"key\\\\\\\":\\\\\\\"C1701_V2Site1_3419Ch19_RFGrating12Deg_1.mat\\\\\\\",\\\\\\\"val\\\\\\\":84,\\\\\\\"id\\\\\\\":\\\\\\\"idDqj2Fn0N\\\\\\\"},{\\\\\\\"key\\\\\\\":\\\\\\\"C1701_V2Site1_3419Ch19_RFGrating8Deg_1.mat\\\\\\\",\\\\\\\"val\\\\\\\":85,\\\\\\\"id\\\\\\\":\\\\\\\"id3Mvee9rm\\\\\\\"},{\\\\\\\"key\\\\\\\":\\\\\\\"C1701_V2Site1_3419Ch19_SpatialFreq_1.mat\\\\\\\",\\\\\\\"val\\\\\\\":86,\\\\\\\"id\\\\\\\":\\\\\\\"idtYBTBDxh\\\\\\\"},{\\\\\\\"key\\\\\\\":\\\\\\\"C1701_V2Site1_3419Ch19_TemporalFreq_1.mat\\\\\\\",\\\\\\\"val\\\\\\\":87,\\\\\\\"id\\\\\\\":\\\\\\\"idyFXM6F7i\\\\\\\"},{\\\\\\\"key\\\\\\\":\\\\\\\"C1701_V2Site1_3544Ch18_OriGrating_1.mat\\\\\\\",\\\\\\\"val\\\\\\\":88,\\\\\\\"id\\\\\\\":\\\\\\\"id6kUabFRx\\\\\\\"},{\\\\\\\"key\\\\\\\":\\\\\\\"C1701_V2Site1_3544Ch18_RFGrating8Deg_1.mat\\\\\\\",\\\\\\\"val\\\\\\\":89,\\\\\\\"id\\\\\\\":\\\\\\\"idkKKSjZjG\\\\\\\"},{\\\\\\\"key\\\\\\\":\\\\\\\"C1701_V2Site1_3544Ch18_RFGrating8Deg_2.mat\\\\\\\",\\\\\\\"val\\\\\\\":90,\\\\\\\"id\\\\\\\":\\\\\\\"idp97t7m4J\\\\\\\"},{\\\\\\\"key\\\\\\\":\\\\\\\"C1701_V2Site1_3544Ch18_SpatialFreq_1.mat\\\\\\\",\\\\\\\"val\\\\\\\":91,\\\\\\\"id\\\\\\\":\\\\\\\"idz08KeZ5N\\\\\\\"},{\\\\\\\"key\\\\\\\":\\\\\\\"C1701_V2Site1_3544Ch18_TemporalFreq_1.mat\\\\\\\",\\\\\\\"val\\\\\\\":92,\\\\\\\"id\\\\\\\":\\\\\\\"idW1rbIsAI\\\\\\\"},{\\\\\\\"key\\\\\\\":\\\\\\\"C1701_V2Site1_3544Ch23_Diameter_1.mat\\\\\\\",\\\\\\\"val\\\\\\\":93,\\\\\\\"id\\\\\\\":\\\\\\\"idC4jlTqFB\\\\\\\"},{\\\\\\\"key\\\\\\\":\\\\\\\"C1701_V2Site1_3544Ch23_Image_1.mat\\\\\\\",\\\\\\\"val\\\\\\\":94,\\\\\\\"id\\\\\\\":\\\\\\\"idbABXtuJr\\\\\\\"},{\\\\\\\"key\\\\\\\":\\\\\\\"C1701_V2Site1_3544Ch23_OriGrating_1.mat\\\\\\\",\\\\\\\"val\\\\\\\":95,\\\\\\\"id\\\\\\\":\\\\\\\"idXgVgi7Qu\\\\\\\"},{\\\\\\\"key\\\\\\\":\\\\\\\"C1701_V2Site1_3544Ch23_OriGrating_2.mat\\\\\\\",\\\\\\\"val\\\\\\\":96,\\\\\\\"id\\\\\\\":\\\\\\\"idWvtWs2eC\\\\\\\"},{\\\\\\\"key\\\\\\\":\\\\\\\"C1701_V2Site1_3544Ch23_RFBarX4Deg_1.mat\\\\\\\",\\\\\\\"val\\\\\\\":97,\\\\\\\"id\\\\\\\":\\\\\\\"idRkP4thEb\\\\\\\"},{\\\\\\\"key\\\\\\\":\\\\\\\"C1701_V2Site1_3544Ch23_RFBarY4Deg_1.mat\\\\\\\",\\\\\\\"val\\\\\\\":98,\\\\\\\"id\\\\\\\":\\\\\\\"idAEvxUHrh\\\\\\\"},{\\\\\\\"key\\\\\\\":\\\\\\\"C1701_V2Site1_3544Ch23_RFBarY4Deg_2.mat\\\\\\\",\\\\\\\"val\\\\\\\":99,\\\\\\\"id\\\\\\\":\\\\\\\"id1whnosUo\\\\\\\"},{\\\\\\\"key\\\\\\\":\\\\\\\"C1701_V2Site1_3544Ch23_RFGrating8Deg_1.mat\\\\\\\",\\\\\\\"val\\\\\\\":100,\\\\\\\"id\\\\\\\":\\\\\\\"id38v4gnXw\\\\\\\"},{\\\\\\\"key\\\\\\\":\\\\\\\"C1701_V2Site1_3544Ch23_RFGrating8Deg_2.mat\\\\\\\",\\\\\\\"val\\\\\\\":101,\\\\\\\"id\\\\\\\":\\\\\\\"idvQGn0yzF\\\\\\\"},{\\\\\\\"key\\\\\\\":\\\\\\\"C1701_V2Site1_3544Ch23_SpatialFreq_1.mat\\\\\\\",\\\\\\\"val\\\\\\\":102,\\\\\\\"id\\\\\\\":\\\\\\\"id9pgXQigd\\\\\\\"},{\\\\\\\"key\\\\\\\":\\\\\\\"C1701_V2Site1_3544Ch23_TemporalFreq_1.mat\\\\\\\",\\\\\\\"val\\\\\\\":103,\\\\\\\"id\\\\\\\":\\\\\\\"idxi3XCHTs\\\\\\\"},{\\\\\\\"key\\\\\\\":\\\\\\\"C1701_V2Site2_3000Ch18_Diameter_1.mat\\\\\\\",\\\\\\\"val\\\\\\\":104,\\\\\\\"id\\\\\\\":\\\\\\\"iddBlU0oY1\\\\\\\"},{\\\\\\\"key\\\\\\\":\\\\\\\"C1701_V2Site2_3000Ch18_Diameter_2.mat\\\\\\\",\\\\\\\"val\\\\\\\":105,\\\\\\\"id\\\\\\\":\\\\\\\"id6IQbipdt\\\\\\\"},{\\\\\\\"key\\\\\\\":\\\\\\\"C1701_V2Site2_3000Ch18_Diameter_3.mat\\\\\\\",\\\\\\\"val\\\\\\\":106,\\\\\\\"id\\\\\\\":\\\\\\\"idhKSkVRp9\\\\\\\"},{\\\\\\\"key\\\\\\\":\\\\\\\"C1701_V2Site2_3000Ch18_Diameter_4.mat\\\\\\\",\\\\\\\"val\\\\\\\":107,\\\\\\\"id\\\\\\\":\\\\\\\"idlleIh1Iv\\\\\\\"},{\\\\\\\"key\\\\\\\":\\\\\\\"C1701_V2Site2_3000Ch18_Image_1.mat\\\\\\\",\\\\\\\"val\\\\\\\":108,\\\\\\\"id\\\\\\\":\\\\\\\"idT9uQESdk\\\\\\\"},{\\\\\\\"key\\\\\\\":\\\\\\\"C1701_V2Site2_3000Ch18_LaserOriGrating_1.mat\\\\\\\",\\\\\\\"val\\\\\\\":109,\\\\\\\"id\\\\\\\":\\\\\\\"idD6Nb4Xmw\\\\\\\"},{\\\\\\\"key\\\\\\\":\\\\\\\"C1701_V2Site2_3000Ch18_Laser_1.mat\\\\\\\",\\\\\\\"val\\\\\\\":110,\\\\\\\"id\\\\\\\":\\\\\\\"idMlLHHTWM\\\\\\\"},{\\\\\\\"key\\\\\\\":\\\\\\\"C1701_V2Site2_3000Ch18_OriGrating_1.mat\\\\\\\",\\\\\\\"val\\\\\\\":111,\\\\\\\"id\\\\\\\":\\\\\\\"iduIIbiK1W\\\\\\\"},{\\\\\\\"key\\\\\\\":\\\\\\\"C1701_V2Site2_3000Ch18_RFBarX12Deg_1.mat\\\\\\\",\\\\\\\"val\\\\\\\":112,\\\\\\\"id\\\\\\\":\\\\\\\"idx9TuuoWZ\\\\\\\"},{\\\\\\\"key\\\\\\\":\\\\\\\"C1701_V2Site2_3000Ch18_RFBarY12Deg_1.mat\\\\\\\",\\\\\\\"val\\\\\\\":113,\\\\\\\"id\\\\\\\":\\\\\\\"idCT26vdsM\\\\\\\"},{\\\\\\\"key\\\\\\\":\\\\\\\"C1701_V2Site2_3000Ch18_RFGrating12Deg_1.mat\\\\\\\",\\\\\\\"val\\\\\\\":114,\\\\\\\"id\\\\\\\":\\\\\\\"idJpKTsAnp\\\\\\\"},{\\\\\\\"key\\\\\\\":\\\\\\\"C1701_V2Site2_3000Ch18_RFGrating12Deg_2.mat\\\\\\\",\\\\\\\"val\\\\\\\":115,\\\\\\\"id\\\\\\\":\\\\\\\"idpHIuN1EZ\\\\\\\"},{\\\\\\\"key\\\\\\\":\\\\\\\"C1701_V2Site2_3000Ch18_SpatialFreq_1.mat\\\\\\\",\\\\\\\"val\\\\\\\":116,\\\\\\\"id\\\\\\\":\\\\\\\"idLxJA1NMF\\\\\\\"},{\\\\\\\"key\\\\\\\":\\\\\\\"C1701_V2Site2_3000Ch18_SpatialFreq_2.mat\\\\\\\",\\\\\\\"val\\\\\\\":117,\\\\\\\"id\\\\\\\":\\\\\\\"idIydou6zC\\\\\\\"},{\\\\\\\"key\\\\\\\":\\\\\\\"C1701_V2Site2_3000Ch18_TemporalFreq_1.mat\\\\\\\",\\\\\\\"val\\\\\\\":118,\\\\\\\"id\\\\\\\":\\\\\\\"idALvzWBN0\\\\\\\"},{\\\\\\\"key\\\\\\\":\\\\\\\"C1701_V2Site2_3000Ch18_TemporalFreq_2.mat\\\\\\\",\\\\\\\"val\\\\\\\":119,\\\\\\\"id\\\\\\\":\\\\\\\"idhVIQyMcY\\\\\\\"},{\\\\\\\"key\\\\\\\":\\\\\\\"C1701_V2Site2_3000Ch21_Diameter_1.mat\\\\\\\",\\\\\\\"val\\\\\\\":120,\\\\\\\"id\\\\\\\":\\\\\\\"idrgqWF9uI\\\\\\\"},{\\\\\\\"key\\\\\\\":\\\\\\\"C1701_V2Site2_3000Ch21_Image_1.mat\\\\\\\",\\\\\\\"val\\\\\\\":121,\\\\\\\"id\\\\\\\":\\\\\\\"id6gimFuWc\\\\\\\"},{\\\\\\\"key\\\\\\\":\\\\\\\"C1701_V2Site2_3000Ch21_LaserImage_1.mat\\\\\\\",\\\\\\\"val\\\\\\\":122,\\\\\\\"id\\\\\\\":\\\\\\\"idcO5RmJ7x\\\\\\\"},{\\\\\\\"key\\\\\\\":\\\\\\\"C1701_V2Site2_3000Ch21_Laser_1.mat\\\\\\\",\\\\\\\"val\\\\\\\":123,\\\\\\\"id\\\\\\\":\\\\\\\"idqcmTLygM\\\\\\\"},{\\\\\\\"key\\\\\\\":\\\\\\\"C1701_V2Site2_3000Ch21_OriGrating_1.mat\\\\\\\",\\\\\\\"val\\\\\\\":124,\\\\\\\"id\\\\\\\":\\\\\\\"idqR3h3ikZ\\\\\\\"},{\\\\\\\"key\\\\\\\":\\\\\\\"C1701_V2Site2_3000Ch21_RFBarX12Deg_1.mat\\\\\\\",\\\\\\\"val\\\\\\\":125,\\\\\\\"id\\\\\\\":\\\\\\\"idW1IHJ0wY\\\\\\\"},{\\\\\\\"key\\\\\\\":\\\\\\\"C1701_V2Site2_3000Ch21_RFBarX12Deg_2.mat\\\\\\\",\\\\\\\"val\\\\\\\":126,\\\\\\\"id\\\\\\\":\\\\\\\"idVnH5FD7a\\\\\\\"},{\\\\\\\"key\\\\\\\":\\\\\\\"C1701_V2Site2_3000Ch21_RFBarX4Deg_1.mat\\\\\\\",\\\\\\\"val\\\\\\\":127,\\\\\\\"id\\\\\\\":\\\\\\\"id97GmNnwX\\\\\\\"},{\\\\\\\"key\\\\\\\":\\\\\\\"C1701_V2Site2_3000Ch21_RFBarY12Deg_1.mat\\\\\\\",\\\\\\\"val\\\\\\\":128,\\\\\\\"id\\\\\\\":\\\\\\\"id5q12oWrY\\\\\\\"},{\\\\\\\"key\\\\\\\":\\\\\\\"C1701_V2Site2_3000Ch21_RFBarY4Deg_1.mat\\\\\\\",\\\\\\\"val\\\\\\\":129,\\\\\\\"id\\\\\\\":\\\\\\\"idbnVeSiJB\\\\\\\"},{\\\\\\\"key\\\\\\\":\\\\\\\"C1701_V2Site2_3000Ch21_RFBarY4Deg_2.mat\\\\\\\",\\\\\\\"val\\\\\\\":130,\\\\\\\"id\\\\\\\":\\\\\\\"ide1EKFvpS\\\\\\\"},{\\\\\\\"key\\\\\\\":\\\\\\\"C1701_V2Site2_3000Ch21_RFGrating8Deg_1.mat\\\\\\\",\\\\\\\"val\\\\\\\":131,\\\\\\\"id\\\\\\\":\\\\\\\"idpfxQDUp3\\\\\\\"},{\\\\\\\"key\\\\\\\":\\\\\\\"C1701_V2Site2_3000Ch21_SpatialFreq_1.mat\\\\\\\",\\\\\\\"val\\\\\\\":132,\\\\\\\"id\\\\\\\":\\\\\\\"idABuRLcPg\\\\\\\"},{\\\\\\\"key\\\\\\\":\\\\\\\"C1701_V2Site2_3000Ch21_TemporalFreq_1.mat\\\\\\\",\\\\\\\"val\\\\\\\":133,\\\\\\\"id\\\\\\\":\\\\\\\"idPs6BNnhu\\\\\\\"},{\\\\\\\"key\\\\\\\":\\\\\\\"C1701_V2Site2_3000Ch22_Diameter_1.mat\\\\\\\",\\\\\\\"val\\\\\\\":134,\\\\\\\"id\\\\\\\":\\\\\\\"id4ecU8v7h\\\\\\\"},{\\\\\\\"key\\\\\\\":\\\\\\\"C1701_V2Site2_3000Ch22_Diameter_2.mat\\\\\\\",\\\\\\\"val\\\\\\\":135,\\\\\\\"id\\\\\\\":\\\\\\\"idd43ESRrX\\\\\\\"},{\\\\\\\"key\\\\\\\":\\\\\\\"C1701_V2Site2_3000Ch22_Diameter_3.mat\\\\\\\",\\\\\\\"val\\\\\\\":136,\\\\\\\"id\\\\\\\":\\\\\\\"idOuNipsiP\\\\\\\"},{\\\\\\\"key\\\\\\\":\\\\\\\"C1701_V2Site2_3000Ch22_Image_1.mat\\\\\\\",\\\\\\\"val\\\\\\\":137,\\\\\\\"id\\\\\\\":\\\\\\\"id1aZOfxL6\\\\\\\"},{\\\\\\\"key\\\\\\\":\\\\\\\"C1701_V2Site2_3000Ch22_Image_2.mat\\\\\\\",\\\\\\\"val\\\\\\\":138,\\\\\\\"id\\\\\\\":\\\\\\\"idDvG3YCJc\\\\\\\"},{\\\\\\\"key\\\\\\\":\\\\\\\"C1701_V2Site2_3000Ch22_LaserImage_1.mat\\\\\\\",\\\\\\\"val\\\\\\\":139,\\\\\\\"id\\\\\\\":\\\\\\\"idzxuDFlz4\\\\\\\"},{\\\\\\\"key\\\\\\\":\\\\\\\"C1701_V2Site2_3000Ch22_LaserOriGrating_1.mat\\\\\\\",\\\\\\\"val\\\\\\\":140,\\\\\\\"id\\\\\\\":\\\\\\\"idq4RjdTmZ\\\\\\\"},{\\\\\\\"key\\\\\\\":\\\\\\\"C1701_V2Site2_3000Ch22_Laser_1.mat\\\\\\\",\\\\\\\"val\\\\\\\":141,\\\\\\\"id\\\\\\\":\\\\\\\"idflDnsF0j\\\\\\\"},{\\\\\\\"key\\\\\\\":\\\\\\\"C1701_V2Site2_3000Ch22_OriGrating_1.mat\\\\\\\",\\\\\\\"val\\\\\\\":142,\\\\\\\"id\\\\\\\":\\\\\\\"idlbtYyygx\\\\\\\"},{\\\\\\\"key\\\\\\\":\\\\\\\"C1701_V2Site2_3000Ch22_RFBarY4Deg_1.mat\\\\\\\",\\\\\\\"val\\\\\\\":143,\\\\\\\"id\\\\\\\":\\\\\\\"iddCPlK0RB\\\\\\\"},{\\\\\\\"key\\\\\\\":\\\\\\\"C1701_V2Site2_3000Ch22_RFBarY4Deg_2.mat\\\\\\\",\\\\\\\"val\\\\\\\":144,\\\\\\\"id\\\\\\\":\\\\\\\"idCB1uWyEg\\\\\\\"},{\\\\\\\"key\\\\\\\":\\\\\\\"C1701_V2Site2_3000Ch22_RFBarY4Deg_3.mat\\\\\\\",\\\\\\\"val\\\\\\\":145,\\\\\\\"id\\\\\\\":\\\\\\\"idnCtt74Vs\\\\\\\"},{\\\\\\\"key\\\\\\\":\\\\\\\"C1701_V2Site2_3000Ch22_RFGrating12Deg_1.mat\\\\\\\",\\\\\\\"val\\\\\\\":146,\\\\\\\"id\\\\\\\":\\\\\\\"idMYgL1u42\\\\\\\"},{\\\\\\\"key\\\\\\\":\\\\\\\"C1701_V2Site2_3000Ch22_RFGrating4Deg_1.mat\\\\\\\",\\\\\\\"val\\\\\\\":147,\\\\\\\"id\\\\\\\":\\\\\\\"idY3bdiZsB\\\\\\\"},{\\\\\\\"key\\\\\\\":\\\\\\\"C1701_V2Site2_3000Ch22_RFGrating8Deg_1.mat\\\\\\\",\\\\\\\"val\\\\\\\":148,\\\\\\\"id\\\\\\\":\\\\\\\"idwMyvX6ao\\\\\\\"},{\\\\\\\"key\\\\\\\":\\\\\\\"C1701_V2Site2_3000Ch22_SpatialFreq_1.mat\\\\\\\",\\\\\\\"val\\\\\\\":149,\\\\\\\"id\\\\\\\":\\\\\\\"id4LMPyEie\\\\\\\"},{\\\\\\\"key\\\\\\\":\\\\\\\"C1701_V2Site2_3000Ch22_SpatialFreq_2.mat\\\\\\\",\\\\\\\"val\\\\\\\":150,\\\\\\\"id\\\\\\\":\\\\\\\"idKsIEzb13\\\\\\\"},{\\\\\\\"key\\\\\\\":\\\\\\\"C1701_V2Site2_3000Ch22_SpatialFreq_3.mat\\\\\\\",\\\\\\\"val\\\\\\\":151,\\\\\\\"id\\\\\\\":\\\\\\\"idc4LH9uPN\\\\\\\"},{\\\\\\\"key\\\\\\\":\\\\\\\"C1701_V2Site2_3000Ch22_TemporalFreq_1.mat\\\\\\\",\\\\\\\"val\\\\\\\":152,\\\\\\\"id\\\\\\\":\\\\\\\"idWMusWwBO\\\\\\\"},{\\\\\\\"key\\\\\\\":\\\\\\\"C1701_V2Site2_3000Ch22_TemporalFreq_2.mat\\\\\\\",\\\\\\\"val\\\\\\\":153,\\\\\\\"id\\\\\\\":\\\\\\\"id3su9QldJ\\\\\\\"},{\\\\\\\"key\\\\\\\":\\\\\\\"C1701_V2Site2_3000Ch22_TemporalFreq_3.mat\\\\\\\",\\\\\\\"val\\\\\\\":154,\\\\\\\"id\\\\\\\":\\\\\\\"id1ZjgqfkT\\\\\\\"},{\\\\\\\"key\\\\\\\":\\\\\\\"C1701_V2Site2_3549Ch22_Diameter_1.mat\\\\\\\",\\\\\\\"val\\\\\\\":155,\\\\\\\"id\\\\\\\":\\\\\\\"idrNtQSLR0\\\\\\\"},{\\\\\\\"key\\\\\\\":\\\\\\\"C1701_V2Site2_3549Ch22_Diameter_2.mat\\\\\\\",\\\\\\\"val\\\\\\\":156,\\\\\\\"id\\\\\\\":\\\\\\\"id7BqFzJO8\\\\\\\"},{\\\\\\\"key\\\\\\\":\\\\\\\"C1701_V2Site2_3549Ch22_Image_1.mat\\\\\\\",\\\\\\\"val\\\\\\\":157,\\\\\\\"id\\\\\\\":\\\\\\\"id5guTzXhE\\\\\\\"},{\\\\\\\"key\\\\\\\":\\\\\\\"C1701_V2Site2_3549Ch22_LaserImage_1.mat\\\\\\\",\\\\\\\"val\\\\\\\":158,\\\\\\\"id\\\\\\\":\\\\\\\"idDNXW602B\\\\\\\"},{\\\\\\\"key\\\\\\\":\\\\\\\"C1701_V2Site2_3549Ch22_LaserOriGrating_1.mat\\\\\\\",\\\\\\\"val\\\\\\\":159,\\\\\\\"id\\\\\\\":\\\\\\\"idqf1neA2u\\\\\\\"},{\\\\\\\"key\\\\\\\":\\\\\\\"C1701_V2Site2_3549Ch22_Laser_1.mat\\\\\\\",\\\\\\\"val\\\\\\\":160,\\\\\\\"id\\\\\\\":\\\\\\\"idKtLhzsrw\\\\\\\"},{\\\\\\\"key\\\\\\\":\\\\\\\"C1701_V2Site2_3549Ch22_OriGrating_1.mat\\\\\\\",\\\\\\\"val\\\\\\\":161,\\\\\\\"id\\\\\\\":\\\\\\\"idxhgqxvzv\\\\\\\"},{\\\\\\\"key\\\\\\\":\\\\\\\"C1701_V2Site2_3549Ch22_RFBarX4Deg_1.mat\\\\\\\",\\\\\\\"val\\\\\\\":162,\\\\\\\"id\\\\\\\":\\\\\\\"idlcUFTr0N\\\\\\\"},{\\\\\\\"key\\\\\\\":\\\\\\\"C1701_V2Site2_3549Ch22_RFBarY4Deg_1.mat\\\\\\\",\\\\\\\"val\\\\\\\":163,\\\\\\\"id\\\\\\\":\\\\\\\"idsd8l6z1T\\\\\\\"},{\\\\\\\"key\\\\\\\":\\\\\\\"C1701_V2Site2_3549Ch22_RFGrating4Deg_1.mat\\\\\\\",\\\\\\\"val\\\\\\\":164,\\\\\\\"id\\\\\\\":\\\\\\\"idBGXEU1dZ\\\\\\\"},{\\\\\\\"key\\\\\\\":\\\\\\\"C1701_V2Site2_3549Ch22_RFGrating4Deg_2.mat\\\\\\\",\\\\\\\"val\\\\\\\":165,\\\\\\\"id\\\\\\\":\\\\\\\"idCY851ehd\\\\\\\"},{\\\\\\\"key\\\\\\\":\\\\\\\"C1701_V2Site2_3549Ch22_RFGrating4Deg_3.mat\\\\\\\",\\\\\\\"val\\\\\\\":166,\\\\\\\"id\\\\\\\":\\\\\\\"idhatveHtN\\\\\\\"},{\\\\\\\"key\\\\\\\":\\\\\\\"C1701_V2Site2_3549Ch22_RFGrating4Deg_4.mat\\\\\\\",\\\\\\\"val\\\\\\\":167,\\\\\\\"id\\\\\\\":\\\\\\\"id57t7BBVZ\\\\\\\"},{\\\\\\\"key\\\\\\\":\\\\\\\"C1701_V2Site2_3549Ch22_RFGrating8Deg_1.mat\\\\\\\",\\\\\\\"val\\\\\\\":168,\\\\\\\"id\\\\\\\":\\\\\\\"idvNdIFRQX\\\\\\\"},{\\\\\\\"key\\\\\\\":\\\\\\\"C1701_V2Site2_3549Ch22_SpatialFreq_1.mat\\\\\\\",\\\\\\\"val\\\\\\\":169,\\\\\\\"id\\\\\\\":\\\\\\\"idCQ6snXK0\\\\\\\"},{\\\\\\\"key\\\\\\\":\\\\\\\"C1701_V2Site2_3549Ch22_SpatialFreq_2.mat\\\\\\\",\\\\\\\"val\\\\\\\":170,\\\\\\\"id\\\\\\\":\\\\\\\"idA5FB2OJE\\\\\\\"},{\\\\\\\"key\\\\\\\":\\\\\\\"C1701_V2Site2_3549Ch22_SpatialFreq_3.mat\\\\\\\",\\\\\\\"val\\\\\\\":171,\\\\\\\"id\\\\\\\":\\\\\\\"idyGyd9jsz\\\\\\\"},{\\\\\\\"key\\\\\\\":\\\\\\\"C1701_V2Site2_3549Ch22_SpatialFreq_4.mat\\\\\\\",\\\\\\\"val\\\\\\\":172,\\\\\\\"id\\\\\\\":\\\\\\\"idLxwnro6E\\\\\\\"},{\\\\\\\"key\\\\\\\":\\\\\\\"C1701_V2Site2_3549Ch22_TemporalFreq_1.mat\\\\\\\",\\\\\\\"val\\\\\\\":173,\\\\\\\"id\\\\\\\":\\\\\\\"idYoxSUB2f\\\\\\\"},{\\\\\\\"key\\\\\\\":\\\\\\\"C1701_V2Site3_3000Ch20_Contrast_1.mat\\\\\\\",\\\\\\\"val\\\\\\\":174,\\\\\\\"id\\\\\\\":\\\\\\\"idpgLuSsgS\\\\\\\"},{\\\\\\\"key\\\\\\\":\\\\\\\"C1701_V2Site3_3000Ch20_Diameter_1.mat\\\\\\\",\\\\\\\"val\\\\\\\":175,\\\\\\\"id\\\\\\\":\\\\\\\"id2G330QNA\\\\\\\"},{\\\\\\\"key\\\\\\\":\\\\\\\"C1701_V2Site3_3000Ch20_Image_1.mat\\\\\\\",\\\\\\\"val\\\\\\\":176,\\\\\\\"id\\\\\\\":\\\\\\\"idyFXhfrCE\\\\\\\"},{\\\\\\\"key\\\\\\\":\\\\\\\"C1701_V2Site3_3000Ch20_OriGrating_1.mat\\\\\\\",\\\\\\\"val\\\\\\\":177,\\\\\\\"id\\\\\\\":\\\\\\\"id5nKk0Akk\\\\\\\"},{\\\\\\\"key\\\\\\\":\\\\\\\"C1701_V2Site3_3000Ch20_RFBarX4Deg_1.mat\\\\\\\",\\\\\\\"val\\\\\\\":178,\\\\\\\"id\\\\\\\":\\\\\\\"idOQrYbPDK\\\\\\\"},{\\\\\\\"key\\\\\\\":\\\\\\\"C1701_V2Site3_3000Ch20_RFBarY4Deg_1.mat\\\\\\\",\\\\\\\"val\\\\\\\":179,\\\\\\\"id\\\\\\\":\\\\\\\"idsf6G5YUf\\\\\\\"},{\\\\\\\"key\\\\\\\":\\\\\\\"C1701_V2Site3_3000Ch20_RFGrating4Deg_1.mat\\\\\\\",\\\\\\\"val\\\\\\\":180,\\\\\\\"id\\\\\\\":\\\\\\\"idSl1eKQe2\\\\\\\"},{\\\\\\\"key\\\\\\\":\\\\\\\"C1701_V2Site3_3000Ch20_RFGrating8Deg_1.mat\\\\\\\",\\\\\\\"val\\\\\\\":181,\\\\\\\"id\\\\\\\":\\\\\\\"idLtxiS7qc\\\\\\\"},{\\\\\\\"key\\\\\\\":\\\\\\\"C1701_V2Site3_3000Ch20_SpatialFreq_1.mat\\\\\\\",\\\\\\\"val\\\\\\\":182,\\\\\\\"id\\\\\\\":\\\\\\\"idI6FgEqw0\\\\\\\"},{\\\\\\\"key\\\\\\\":\\\\\\\"C1701_V2Site3_3000Ch20_TemporalFreq_1.mat\\\\\\\",\\\\\\\"val\\\\\\\":183,\\\\\\\"id\\\\\\\":\\\\\\\"idixmm13AN\\\\\\\"},{\\\\\\\"key\\\\\\\":\\\\\\\"C1701_V2Site3_3000Ch23_Contrast_1.mat\\\\\\\",\\\\\\\"val\\\\\\\":184,\\\\\\\"id\\\\\\\":\\\\\\\"idxzEH5J6m\\\\\\\"},{\\\\\\\"key\\\\\\\":\\\\\\\"C1701_V2Site3_3000Ch23_Image_1.mat\\\\\\\",\\\\\\\"val\\\\\\\":185,\\\\\\\"id\\\\\\\":\\\\\\\"idxbWRudO5\\\\\\\"},{\\\\\\\"key\\\\\\\":\\\\\\\"C1701_V2Site3_3000_Diameter_1.mat\\\\\\\",\\\\\\\"val\\\\\\\":186,\\\\\\\"id\\\\\\\":\\\\\\\"idHR6fb3zx\\\\\\\"},{\\\\\\\"key\\\\\\\":\\\\\\\"C1701_V2Site3_3000_OriGrating_1.mat\\\\\\\",\\\\\\\"val\\\\\\\":187,\\\\\\\"id\\\\\\\":\\\\\\\"idaAAyRYK4\\\\\\\"},{\\\\\\\"key\\\\\\\":\\\\\\\"C1701_V2Site3_3000_OriOffsetGrating_1.mat\\\\\\\",\\\\\\\"val\\\\\\\":188,\\\\\\\"id\\\\\\\":\\\\\\\"idjR3ny7ZM\\\\\\\"},{\\\\\\\"key\\\\\\\":\\\\\\\"C1701_V2Site3_3000_RFBarX12Deg_1.mat\\\\\\\",\\\\\\\"val\\\\\\\":189,\\\\\\\"id\\\\\\\":\\\\\\\"idAb6OsX1e\\\\\\\"},{\\\\\\\"key\\\\\\\":\\\\\\\"C1701_V2Site3_3000_RFBarX4Deg_1.mat\\\\\\\",\\\\\\\"val\\\\\\\":190,\\\\\\\"id\\\\\\\":\\\\\\\"id0oSvPEXr\\\\\\\"},{\\\\\\\"key\\\\\\\":\\\\\\\"C1701_V2Site3_3000_RFBarY12Deg_1.mat\\\\\\\",\\\\\\\"val\\\\\\\":191,\\\\\\\"id\\\\\\\":\\\\\\\"idsabtQZjp\\\\\\\"},{\\\\\\\"key\\\\\\\":\\\\\\\"C1701_V2Site3_3000_RFBarY4Deg_1.mat\\\\\\\",\\\\\\\"val\\\\\\\":192,\\\\\\\"id\\\\\\\":\\\\\\\"idVtGF4Iz1\\\\\\\"},{\\\\\\\"key\\\\\\\":\\\\\\\"C1701_V2Site3_3000_RFGrating4Deg_1.mat\\\\\\\",\\\\\\\"val\\\\\\\":193,\\\\\\\"id\\\\\\\":\\\\\\\"idjTVKndO9\\\\\\\"},{\\\\\\\"key\\\\\\\":\\\\\\\"C1701_V2Site3_3000_RFGrating8Deg_1.mat\\\\\\\",\\\\\\\"val\\\\\\\":194,\\\\\\\"id\\\\\\\":\\\\\\\"id62EIAvKW\\\\\\\"},{\\\\\\\"key\\\\\\\":\\\\\\\"C1701_V2Site3_3000_SpatialFreq_1.mat\\\\\\\",\\\\\\\"val\\\\\\\":195,\\\\\\\"id\\\\\\\":\\\\\\\"idXdGYCAb5\\\\\\\"},{\\\\\\\"key\\\\\\\":\\\\\\\"C1701_V2Site3_3000_TemporalFreq_1.mat\\\\\\\",\\\\\\\"val\\\\\\\":196,\\\\\\\"id\\\\\\\":\\\\\\\"idcXFEWt03\\\\\\\"},{\\\\\\\"key\\\\\\\":\\\\\\\"C1701_V2Site3_3544Ch23_Contrast_1.mat\\\\\\\",\\\\\\\"val\\\\\\\":197,\\\\\\\"id\\\\\\\":\\\\\\\"idA4nj2wLi\\\\\\\"},{\\\\\\\"key\\\\\\\":\\\\\\\"C1701_V2Site3_3544Ch23_Contrast_2.mat\\\\\\\",\\\\\\\"val\\\\\\\":198,\\\\\\\"id\\\\\\\":\\\\\\\"idmuQ1KT2t\\\\\\\"},{\\\\\\\"key\\\\\\\":\\\\\\\"C1701_V2Site3_3544Ch23_Diameter_1.mat\\\\\\\",\\\\\\\"val\\\\\\\":199,\\\\\\\"id\\\\\\\":\\\\\\\"idedS9zTyM\\\\\\\"},{\\\\\\\"key\\\\\\\":\\\\\\\"C1701_V2Site3_3544Ch23_Diameter_2.mat\\\\\\\",\\\\\\\"val\\\\\\\":200,\\\\\\\"id\\\\\\\":\\\\\\\"idAli7XRoB\\\\\\\"},{\\\\\\\"key\\\\\\\":\\\\\\\"C1701_V2Site3_3544Ch23_Image_1.mat\\\\\\\",\\\\\\\"val\\\\\\\":201,\\\\\\\"id\\\\\\\":\\\\\\\"iduomUQiQc\\\\\\\"},{\\\\\\\"key\\\\\\\":\\\\\\\"C1701_V2Site3_3544Ch23_Image_2.mat\\\\\\\",\\\\\\\"val\\\\\\\":202,\\\\\\\"id\\\\\\\":\\\\\\\"idrcH3MZfm\\\\\\\"},{\\\\\\\"key\\\\\\\":\\\\\\\"C1701_V2Site3_3544Ch23_Image_3.mat\\\\\\\",\\\\\\\"val\\\\\\\":203,\\\\\\\"id\\\\\\\":\\\\\\\"idvGWK9sK1\\\\\\\"},{\\\\\\\"key\\\\\\\":\\\\\\\"C1701_V2Site3_3544Ch23_Image_4.mat\\\\\\\",\\\\\\\"val\\\\\\\":204,\\\\\\\"id\\\\\\\":\\\\\\\"idZVUOzxZ4\\\\\\\"},{\\\\\\\"key\\\\\\\":\\\\\\\"C1701_V2Site3_3544Ch23_OriGrating_1.mat\\\\\\\",\\\\\\\"val\\\\\\\":205,\\\\\\\"id\\\\\\\":\\\\\\\"idaWCszxHH\\\\\\\"},{\\\\\\\"key\\\\\\\":\\\\\\\"C1701_V2Site3_3544Ch23_OriGrating_2.mat\\\\\\\",\\\\\\\"val\\\\\\\":206,\\\\\\\"id\\\\\\\":\\\\\\\"idbUIQccVP\\\\\\\"},{\\\\\\\"key\\\\\\\":\\\\\\\"C1701_V2Site3_3544Ch23_RFBarX12Deg_1.mat\\\\\\\",\\\\\\\"val\\\\\\\":207,\\\\\\\"id\\\\\\\":\\\\\\\"idfKE2eScf\\\\\\\"},{\\\\\\\"key\\\\\\\":\\\\\\\"C1701_V2Site3_3544Ch23_RFBarX12Deg_2.mat\\\\\\\",\\\\\\\"val\\\\\\\":208,\\\\\\\"id\\\\\\\":\\\\\\\"idbeFrrzCj\\\\\\\"},{\\\\\\\"key\\\\\\\":\\\\\\\"C1701_V2Site3_3544Ch23_RFBarY12Deg_1.mat\\\\\\\",\\\\\\\"val\\\\\\\":209,\\\\\\\"id\\\\\\\":\\\\\\\"idLenFohJO\\\\\\\"},{\\\\\\\"key\\\\\\\":\\\\\\\"C1701_V2Site3_3544Ch23_RFBarY12Deg_2.mat\\\\\\\",\\\\\\\"val\\\\\\\":210,\\\\\\\"id\\\\\\\":\\\\\\\"idh2hAMW7V\\\\\\\"},{\\\\\\\"key\\\\\\\":\\\\\\\"C1701_V2Site3_3544Ch23_RFBarY12Deg_3.mat\\\\\\\",\\\\\\\"val\\\\\\\":211,\\\\\\\"id\\\\\\\":\\\\\\\"id67ZqXb8l\\\\\\\"},{\\\\\\\"key\\\\\\\":\\\\\\\"C1701_V2Site3_3544Ch23_RFBarY4Deg_1.mat\\\\\\\",\\\\\\\"val\\\\\\\":212,\\\\\\\"id\\\\\\\":\\\\\\\"idF7AdFStO\\\\\\\"},{\\\\\\\"key\\\\\\\":\\\\\\\"C1701_V2Site3_3544Ch23_RFGrating4Deg_1.mat\\\\\\\",\\\\\\\"val\\\\\\\":213,\\\\\\\"id\\\\\\\":\\\\\\\"idydlmOfe3\\\\\\\"},{\\\\\\\"key\\\\\\\":\\\\\\\"C1701_V2Site3_3544Ch23_RFGrating8Deg_1.mat\\\\\\\",\\\\\\\"val\\\\\\\":214,\\\\\\\"id\\\\\\\":\\\\\\\"idHhfIgcqD\\\\\\\"},{\\\\\\\"key\\\\\\\":\\\\\\\"C1701_V2Site3_3544Ch23_RFGrating8Deg_2.mat\\\\\\\",\\\\\\\"val\\\\\\\":215,\\\\\\\"id\\\\\\\":\\\\\\\"idtloutpIv\\\\\\\"},{\\\\\\\"key\\\\\\\":\\\\\\\"C1701_V2Site3_3544Ch23_RFGrating8Deg_3.mat\\\\\\\",\\\\\\\"val\\\\\\\":216,\\\\\\\"id\\\\\\\":\\\\\\\"id1jAREvQe\\\\\\\"},{\\\\\\\"key\\\\\\\":\\\\\\\"C1701_V2Site3_3544Ch23_SpatialFreq_1.mat\\\\\\\",\\\\\\\"val\\\\\\\":217,\\\\\\\"id\\\\\\\":\\\\\\\"idVeBuHPII\\\\\\\"},{\\\\\\\"key\\\\\\\":\\\\\\\"C1701_V2Site3_3544Ch23_SpatialFreq_2.mat\\\\\\\",\\\\\\\"val\\\\\\\":218,\\\\\\\"id\\\\\\\":\\\\\\\"idMOj1gKAJ\\\\\\\"},{\\\\\\\"key\\\\\\\":\\\\\\\"C1701_V2Site3_3544Ch23_TemporalFreq_1.mat\\\\\\\",\\\\\\\"val\\\\\\\":219,\\\\\\\"id\\\\\\\":\\\\\\\"idNRsWXkPz\\\\\\\"},{\\\\\\\"key\\\\\\\":\\\\\\\"C1701_V2Site3_3544Ch23_TemporalFreq_2.mat\\\\\\\",\\\\\\\"val\\\\\\\":220,\\\\\\\"id\\\\\\\":\\\\\\\"idvFqa831G\\\\\\\"},{\\\\\\\"key\\\\\\\":\\\\\\\"C1701_V2Site3_4500Ch20_Diameter_1.mat\\\\\\\",\\\\\\\"val\\\\\\\":221,\\\\\\\"id\\\\\\\":\\\\\\\"idyVSwso4n\\\\\\\"},{\\\\\\\"key\\\\\\\":\\\\\\\"C1701_V2Site3_4500Ch20_Image_1.mat\\\\\\\",\\\\\\\"val\\\\\\\":222,\\\\\\\"id\\\\\\\":\\\\\\\"idtY5QIbuT\\\\\\\"},{\\\\\\\"key\\\\\\\":\\\\\\\"C1701_V2Site3_4500Ch20_OriGrating_1.mat\\\\\\\",\\\\\\\"val\\\\\\\":223,\\\\\\\"id\\\\\\\":\\\\\\\"idtepllGNr\\\\\\\"},{\\\\\\\"key\\\\\\\":\\\\\\\"C1701_V2Site3_4500Ch20_RFBarX12Deg_1.mat\\\\\\\",\\\\\\\"val\\\\\\\":224,\\\\\\\"id\\\\\\\":\\\\\\\"idVfRK81Rf\\\\\\\"},{\\\\\\\"key\\\\\\\":\\\\\\\"C1701_V2Site3_4500Ch20_RFBarY12Deg_1.mat\\\\\\\",\\\\\\\"val\\\\\\\":225,\\\\\\\"id\\\\\\\":\\\\\\\"idkIyyYbY1\\\\\\\"},{\\\\\\\"key\\\\\\\":\\\\\\\"C1701_V2Site3_4500Ch20_RFGrating8Deg_1.mat\\\\\\\",\\\\\\\"val\\\\\\\":226,\\\\\\\"id\\\\\\\":\\\\\\\"idBrBzib1X\\\\\\\"},{\\\\\\\"key\\\\\\\":\\\\\\\"C1701_V2Site3_4500Ch20_RFGrating8Deg_2.mat\\\\\\\",\\\\\\\"val\\\\\\\":227,\\\\\\\"id\\\\\\\":\\\\\\\"idwY5Ihrx7\\\\\\\"},{\\\\\\\"key\\\\\\\":\\\\\\\"C1701_V2Site3_4500Ch20_SpatialFreq_1.mat\\\\\\\",\\\\\\\"val\\\\\\\":228,\\\\\\\"id\\\\\\\":\\\\\\\"idBcn2UKhf\\\\\\\"},{\\\\\\\"key\\\\\\\":\\\\\\\"C1701_V2Site3_4500Ch20_TemporalFreq_1.mat\\\\\\\",\\\\\\\"val\\\\\\\":229,\\\\\\\"id\\\\\\\":\\\\\\\"iddUh77dOL\\\\\\\"},{\\\\\\\"key\\\\\\\":\\\\\\\"C1701_V2Site4_3200Ch13_Contrast_1.mat\\\\\\\",\\\\\\\"val\\\\\\\":230,\\\\\\\"id\\\\\\\":\\\\\\\"idqmY99KXV\\\\\\\"},{\\\\\\\"key\\\\\\\":\\\\\\\"C1701_V2Site4_3200Ch13_Diameter_1.mat\\\\\\\",\\\\\\\"val\\\\\\\":231,\\\\\\\"id\\\\\\\":\\\\\\\"idbwx8pbjs\\\\\\\"},{\\\\\\\"key\\\\\\\":\\\\\\\"C1701_V2Site4_3200Ch13_Image_1.mat\\\\\\\",\\\\\\\"val\\\\\\\":232,\\\\\\\"id\\\\\\\":\\\\\\\"idXyVyXkXM\\\\\\\"},{\\\\\\\"key\\\\\\\":\\\\\\\"C1701_V2Site4_3200Ch13_Image_2.mat\\\\\\\",\\\\\\\"val\\\\\\\":233,\\\\\\\"id\\\\\\\":\\\\\\\"idISUJeubW\\\\\\\"},{\\\\\\\"key\\\\\\\":\\\\\\\"C1701_V2Site4_3200Ch13_OriGrating_1.mat\\\\\\\",\\\\\\\"val\\\\\\\":234,\\\\\\\"id\\\\\\\":\\\\\\\"idndFfrOXu\\\\\\\"},{\\\\\\\"key\\\\\\\":\\\\\\\"C1701_V2Site4_3200Ch13_RFBarX12Deg_1.mat\\\\\\\",\\\\\\\"val\\\\\\\":235,\\\\\\\"id\\\\\\\":\\\\\\\"idnXtJoWii\\\\\\\"},{\\\\\\\"key\\\\\\\":\\\\\\\"C1701_V2Site4_3200Ch13_RFBarY12Deg_1.mat\\\\\\\",\\\\\\\"val\\\\\\\":236,\\\\\\\"id\\\\\\\":\\\\\\\"idmzFtkOe9\\\\\\\"},{\\\\\\\"key\\\\\\\":\\\\\\\"C1701_V2Site4_3200Ch13_RFGrating24Deg_1.mat\\\\\\\",\\\\\\\"val\\\\\\\":237,\\\\\\\"id\\\\\\\":\\\\\\\"idnaML8411\\\\\\\"},{\\\\\\\"key\\\\\\\":\\\\\\\"C1701_V2Site4_3200Ch13_SpatialFreq_1.mat\\\\\\\",\\\\\\\"val\\\\\\\":238,\\\\\\\"id\\\\\\\":\\\\\\\"idi1u5AYEA\\\\\\\"},{\\\\\\\"key\\\\\\\":\\\\\\\"C1701_V2Site4_3200Ch13_TemporalFreq_1.mat\\\\\\\",\\\\\\\"val\\\\\\\":239,\\\\\\\"id\\\\\\\":\\\\\\\"id2DVuTT1F\\\\\\\"},{\\\\\\\"key\\\\\\\":\\\\\\\"C1701_V2Site5_3200Ch18_Contrast_1.mat\\\\\\\",\\\\\\\"val\\\\\\\":240,\\\\\\\"id\\\\\\\":\\\\\\\"id04dSHQMo\\\\\\\"},{\\\\\\\"key\\\\\\\":\\\\\\\"C1701_V2Site5_3200Ch18_Contrast_2.mat\\\\\\\",\\\\\\\"val\\\\\\\":241,\\\\\\\"id\\\\\\\":\\\\\\\"iduWLnDWkt\\\\\\\"},{\\\\\\\"key\\\\\\\":\\\\\\\"C1701_V2Site5_3200Ch18_Diameter_1.mat\\\\\\\",\\\\\\\"val\\\\\\\":242,\\\\\\\"id\\\\\\\":\\\\\\\"idS48avQau\\\\\\\"},{\\\\\\\"key\\\\\\\":\\\\\\\"C1701_V2Site5_3200Ch18_Diameter_2.mat\\\\\\\",\\\\\\\"val\\\\\\\":243,\\\\\\\"id\\\\\\\":\\\\\\\"idgg6Bu1Rv\\\\\\\"},{\\\\\\\"key\\\\\\\":\\\\\\\"C1701_V2Site5_3200Ch18_Image_1.mat\\\\\\\",\\\\\\\"val\\\\\\\":244,\\\\\\\"id\\\\\\\":\\\\\\\"idHWQuGOSa\\\\\\\"},{\\\\\\\"key\\\\\\\":\\\\\\\"C1701_V2Site5_3200Ch18_OriGrating_1.mat\\\\\\\",\\\\\\\"val\\\\\\\":245,\\\\\\\"id\\\\\\\":\\\\\\\"idBWZMiiHh\\\\\\\"},{\\\\\\\"key\\\\\\\":\\\\\\\"C1701_V2Site5_3200Ch18_OriGrating_2.mat\\\\\\\",\\\\\\\"val\\\\\\\":246,\\\\\\\"id\\\\\\\":\\\\\\\"idbNdKcJ4h\\\\\\\"},{\\\\\\\"key\\\\\\\":\\\\\\\"C1701_V2Site5_3200Ch18_RFBarX4Deg_1.mat\\\\\\\",\\\\\\\"val\\\\\\\":247,\\\\\\\"id\\\\\\\":\\\\\\\"idU1lLHLjZ\\\\\\\"},{\\\\\\\"key\\\\\\\":\\\\\\\"C1701_V2Site5_3200Ch18_RFBarY4Deg_1.mat\\\\\\\",\\\\\\\"val\\\\\\\":248,\\\\\\\"id\\\\\\\":\\\\\\\"idl3DZ3g2I\\\\\\\"},{\\\\\\\"key\\\\\\\":\\\\\\\"C1701_V2Site5_3200Ch18_RFGrating24Deg_1.mat\\\\\\\",\\\\\\\"val\\\\\\\":249,\\\\\\\"id\\\\\\\":\\\\\\\"idSWqpuqKd\\\\\\\"},{\\\\\\\"key\\\\\\\":\\\\\\\"C1701_V2Site5_3200Ch18_RFGrating8Deg_1.mat\\\\\\\",\\\\\\\"val\\\\\\\":250,\\\\\\\"id\\\\\\\":\\\\\\\"id929Gpo0F\\\\\\\"},{\\\\\\\"key\\\\\\\":\\\\\\\"C1701_V2Site5_3200Ch18_SpatialFreq_1.mat\\\\\\\",\\\\\\\"val\\\\\\\":251,\\\\\\\"id\\\\\\\":\\\\\\\"idJmhd0QAh\\\\\\\"},{\\\\\\\"key\\\\\\\":\\\\\\\"C1701_V2Site5_3200Ch18_SpatialFreq_2.mat\\\\\\\",\\\\\\\"val\\\\\\\":252,\\\\\\\"id\\\\\\\":\\\\\\\"idzgMk229W\\\\\\\"},{\\\\\\\"key\\\\\\\":\\\\\\\"C1701_V2Site5_3200Ch18_SpatialFreq_3.mat\\\\\\\",\\\\\\\"val\\\\\\\":253,\\\\\\\"id\\\\\\\":\\\\\\\"idKoUDXzfa\\\\\\\"},{\\\\\\\"key\\\\\\\":\\\\\\\"C1701_V2Site5_3200Ch18_SpatialFreq_4.mat\\\\\\\",\\\\\\\"val\\\\\\\":254,\\\\\\\"id\\\\\\\":\\\\\\\"idBvRCA3w6\\\\\\\"},{\\\\\\\"key\\\\\\\":\\\\\\\"C1701_V2Site5_3200Ch18_TemporalFreq_1.mat\\\\\\\",\\\\\\\"val\\\\\\\":255,\\\\\\\"id\\\\\\\":\\\\\\\"idhdNFVO5b\\\\\\\"},{\\\\\\\"key\\\\\\\":\\\\\\\"C1701_V2Site5_3200Ch18_TemporalFreq_2.mat\\\\\\\",\\\\\\\"val\\\\\\\":256,\\\\\\\"id\\\\\\\":\\\\\\\"idHCBNQvHP\\\\\\\"},{\\\\\\\"key\\\\\\\":\\\\\\\"C1701_V2Site5_3200Ch18_TemporalFreq_3.mat\\\\\\\",\\\\\\\"val\\\\\\\":257,\\\\\\\"id\\\\\\\":\\\\\\\"idRM6TIAQO\\\\\\\"},{\\\\\\\"key\\\\\\\":\\\\\\\"C1701_V2Site5_3200Ch22_Diameter_1.mat\\\\\\\",\\\\\\\"val\\\\\\\":258,\\\\\\\"id\\\\\\\":\\\\\\\"idubPrnPaE\\\\\\\"},{\\\\\\\"key\\\\\\\":\\\\\\\"C1701_V2Site5_3200Ch22_Diameter_2.mat\\\\\\\",\\\\\\\"val\\\\\\\":259,\\\\\\\"id\\\\\\\":\\\\\\\"idekvRzKKQ\\\\\\\"},{\\\\\\\"key\\\\\\\":\\\\\\\"C1701_V2Site5_3200Ch22_Image_1.mat\\\\\\\",\\\\\\\"val\\\\\\\":260,\\\\\\\"id\\\\\\\":\\\\\\\"idVj2WnjaN\\\\\\\"},{\\\\\\\"key\\\\\\\":\\\\\\\"C1701_V2Site5_3200Ch22_OriGrating_1.mat\\\\\\\",\\\\\\\"val\\\\\\\":261,\\\\\\\"id\\\\\\\":\\\\\\\"idHiB4mqnb\\\\\\\"},{\\\\\\\"key\\\\\\\":\\\\\\\"C1701_V2Site5_3200Ch22_RFBarX12Deg_1.mat\\\\\\\",\\\\\\\"val\\\\\\\":262,\\\\\\\"id\\\\\\\":\\\\\\\"id8iV92zvs\\\\\\\"},{\\\\\\\"key\\\\\\\":\\\\\\\"C1701_V2Site5_3200Ch22_RFBarY12Deg_1.mat\\\\\\\",\\\\\\\"val\\\\\\\":263,\\\\\\\"id\\\\\\\":\\\\\\\"idYenGyzzL\\\\\\\"},{\\\\\\\"key\\\\\\\":\\\\\\\"C1701_V2Site5_3200Ch22_RFGrating24Deg_1.mat\\\\\\\",\\\\\\\"val\\\\\\\":264,\\\\\\\"id\\\\\\\":\\\\\\\"idhG6uFcJm\\\\\\\"},{\\\\\\\"key\\\\\\\":\\\\\\\"C1701_V2Site5_3200Ch22_SpatialFreq_1.mat\\\\\\\",\\\\\\\"val\\\\\\\":265,\\\\\\\"id\\\\\\\":\\\\\\\"idPf9Ftwc1\\\\\\\"},{\\\\\\\"key\\\\\\\":\\\\\\\"C1701_V2Site5_3200Ch22_TemporalFreq_1.mat\\\\\\\",\\\\\\\"val\\\\\\\":266,\\\\\\\"id\\\\\\\":\\\\\\\"idDMCm74uK\\\\\\\"},{\\\\\\\"key\\\\\\\":\\\\\\\"C1701_V2Site5_3200Ch23_Diameter_1.mat\\\\\\\",\\\\\\\"val\\\\\\\":267,\\\\\\\"id\\\\\\\":\\\\\\\"idaFd8tY3m\\\\\\\"},{\\\\\\\"key\\\\\\\":\\\\\\\"C1701_V2Site5_3200Ch23_Image_1.mat\\\\\\\",\\\\\\\"val\\\\\\\":268,\\\\\\\"id\\\\\\\":\\\\\\\"idValjrtbz\\\\\\\"},{\\\\\\\"key\\\\\\\":\\\\\\\"C1701_V2Site5_3200Ch23_OriGrating_1.mat\\\\\\\",\\\\\\\"val\\\\\\\":269,\\\\\\\"id\\\\\\\":\\\\\\\"idqIb9tigU\\\\\\\"},{\\\\\\\"key\\\\\\\":\\\\\\\"C1701_V2Site5_3200Ch23_RFBarX12Deg_1.mat\\\\\\\",\\\\\\\"val\\\\\\\":270,\\\\\\\"id\\\\\\\":\\\\\\\"idwtlMNumK\\\\\\\"},{\\\\\\\"key\\\\\\\":\\\\\\\"C1701_V2Site5_3200Ch23_RFBarY12Deg_1.mat\\\\\\\",\\\\\\\"val\\\\\\\":271,\\\\\\\"id\\\\\\\":\\\\\\\"iduldrktpp\\\\\\\"},{\\\\\\\"key\\\\\\\":\\\\\\\"C1701_V2Site5_3200Ch23_RFGrating8Deg_1.mat\\\\\\\",\\\\\\\"val\\\\\\\":272,\\\\\\\"id\\\\\\\":\\\\\\\"idNQYPoS0Y\\\\\\\"},{\\\\\\\"key\\\\\\\":\\\\\\\"C1701_V2Site5_3200Ch23_RFGrating8Deg_2.mat\\\\\\\",\\\\\\\"val\\\\\\\":273,\\\\\\\"id\\\\\\\":\\\\\\\"id8FqzU3g5\\\\\\\"},{\\\\\\\"key\\\\\\\":\\\\\\\"C1701_V2Site5_3200Ch23_SpatialFreq_1.mat\\\\\\\",\\\\\\\"val\\\\\\\":274,\\\\\\\"id\\\\\\\":\\\\\\\"idbbKC0iYS\\\\\\\"},{\\\\\\\"key\\\\\\\":\\\\\\\"C1701_V2Site5_3200Ch23_TemporalFreq_1.mat\\\\\\\",\\\\\\\"val\\\\\\\":275,\\\\\\\"id\\\\\\\":\\\\\\\"idULLW9pzA\\\\\\\"},{\\\\\\\"key\\\\\\\":\\\\\\\"C1701_V2Site5_3200Ch6_Contrast_1.mat\\\\\\\",\\\\\\\"val\\\\\\\":276,\\\\\\\"id\\\\\\\":\\\\\\\"id9aSxdSIv\\\\\\\"},{\\\\\\\"key\\\\\\\":\\\\\\\"C1701_V2Site5_3200Ch6_Diameter_1.mat\\\\\\\",\\\\\\\"val\\\\\\\":277,\\\\\\\"id\\\\\\\":\\\\\\\"id6iit4Gq4\\\\\\\"},{\\\\\\\"key\\\\\\\":\\\\\\\"C1701_V2Site5_3200Ch6_Image_1.mat\\\\\\\",\\\\\\\"val\\\\\\\":278,\\\\\\\"id\\\\\\\":\\\\\\\"id89gp9u2W\\\\\\\"},{\\\\\\\"key\\\\\\\":\\\\\\\"C1701_V2Site5_3200Ch6_OriGrating_1.mat\\\\\\\",\\\\\\\"val\\\\\\\":279,\\\\\\\"id\\\\\\\":\\\\\\\"idJXVH8Cjj\\\\\\\"},{\\\\\\\"key\\\\\\\":\\\\\\\"C1701_V2Site5_3200Ch6_OriGrating_2.mat\\\\\\\",\\\\\\\"val\\\\\\\":280,\\\\\\\"id\\\\\\\":\\\\\\\"idX8GAllkW\\\\\\\"},{\\\\\\\"key\\\\\\\":\\\\\\\"C1701_V2Site5_3200Ch6_RFBarX12Deg_1.mat\\\\\\\",\\\\\\\"val\\\\\\\":281,\\\\\\\"id\\\\\\\":\\\\\\\"idipKZ5aJF\\\\\\\"},{\\\\\\\"key\\\\\\\":\\\\\\\"C1701_V2Site5_3200Ch6_RFBarX4Deg_1.mat\\\\\\\",\\\\\\\"val\\\\\\\":282,\\\\\\\"id\\\\\\\":\\\\\\\"idWRaHI7LB\\\\\\\"},{\\\\\\\"key\\\\\\\":\\\\\\\"C1701_V2Site5_3200Ch6_RFBarY12Deg_1.mat\\\\\\\",\\\\\\\"val\\\\\\\":283,\\\\\\\"id\\\\\\\":\\\\\\\"idB4SDCUBh\\\\\\\"},{\\\\\\\"key\\\\\\\":\\\\\\\"C1701_V2Site5_3200Ch6_RFBarY4Deg_1.mat\\\\\\\",\\\\\\\"val\\\\\\\":284,\\\\\\\"id\\\\\\\":\\\\\\\"idXnbTnNlW\\\\\\\"},{\\\\\\\"key\\\\\\\":\\\\\\\"C1701_V2Site5_3200Ch6_RFGrating12Deg_1.mat\\\\\\\",\\\\\\\"val\\\\\\\":285,\\\\\\\"id\\\\\\\":\\\\\\\"idBZrdpVUH\\\\\\\"},{\\\\\\\"key\\\\\\\":\\\\\\\"C1701_V2Site5_3200Ch6_RFGrating12Deg_2.mat\\\\\\\",\\\\\\\"val\\\\\\\":286,\\\\\\\"id\\\\\\\":\\\\\\\"idG8R5MnfU\\\\\\\"},{\\\\\\\"key\\\\\\\":\\\\\\\"C1701_V2Site5_3200Ch6_SpatialFreq_1.mat\\\\\\\",\\\\\\\"val\\\\\\\":287,\\\\\\\"id\\\\\\\":\\\\\\\"idmLJLKsR1\\\\\\\"},{\\\\\\\"key\\\\\\\":\\\\\\\"C1701_V2Site5_3200Ch6_SpatialFreq_2.mat\\\\\\\",\\\\\\\"val\\\\\\\":288,\\\\\\\"id\\\\\\\":\\\\\\\"idWYGcvJcg\\\\\\\"},{\\\\\\\"key\\\\\\\":\\\\\\\"C1701_V2Site5_3200Ch6_TemporalFreq_1.mat\\\\\\\",\\\\\\\"val\\\\\\\":289,\\\\\\\"id\\\\\\\":\\\\\\\"idTT8PMfwW\\\\\\\"},{\\\\\\\"key\\\\\\\":\\\\\\\"C1701_V2Site5_3200Ch6_TemporalFreq_2.mat\\\\\\\",\\\\\\\"val\\\\\\\":290,\\\\\\\"id\\\\\\\":\\\\\\\"id3uGwhYSS\\\\\\\"}],\\\\\\\"index\\\\\\\":1}\\\");\\n    var self = this;\\n    function AppViewModel() {\\n        for (var key in json_data) {\\n            var el = json_data[key];\\n            this[key] = Array.isArray(el) ? ko.observableArray(el) : ko.observable(el);\\n        }\\n        [this[\\\"disablePlaceholder\\\"]=function(option, item) {\\n    ko.applyBindingsToNode(option, {disable: item.val == 0}, item);\\n}\\n]\\n        \\n        [this[\\\"options_js\\\"].subscribe((function (val){!(this.valueFromJulia[\\\"options_js\\\"]) ? (_webIOScope.setObservableValue({\\\"name\\\":\\\"options_js\\\",\\\"scope\\\":\\\"knockout-component-d4986eae-cabd-4177-9d21-015683b55a8d\\\",\\\"id\\\":\\\"ob_22\\\",\\\"type\\\":\\\"observable\\\"},val)) : undefined; return this.valueFromJulia[\\\"options_js\\\"]=false}),self),this[\\\"index\\\"].subscribe((function (val){!(this.valueFromJulia[\\\"index\\\"]) ? (_webIOScope.setObservableValue({\\\"name\\\":\\\"index\\\",\\\"scope\\\":\\\"knockout-component-d4986eae-cabd-4177-9d21-015683b55a8d\\\",\\\"id\\\":\\\"ob_21\\\",\\\"type\\\":\\\"observable\\\"},val)) : undefined; return this.valueFromJulia[\\\"index\\\"]=false}),self)]\\n        \\n    }\\n    self.model = new AppViewModel();\\n    self.valueFromJulia = {};\\n    for (var key in json_data) {\\n        self.valueFromJulia[key] = false;\\n    }\\n    ko.applyBindings(self.model, self.dom);\\n}\\n\")]),\"options_js\"=>Any[JSString(\"(function (val){return (val!=this.model[\\\"options_js\\\"]()) ? (this.valueFromJulia[\\\"options_js\\\"]=true, this.model[\\\"options_js\\\"](val)) : undefined})\")],\"index\"=>Any[JSString(\"(function (val){return (val!=this.model[\\\"index\\\"]()) ? (this.valueFromJulia[\\\"index\\\"]=true, this.model[\\\"index\\\"](val)) : undefined})\")]), ConnectionPool(Channel{Any}(sz_max:9223372036854775807,sz_curr:0), Set(AbstractConnection[]), Channel{AbstractConnection}(sz_max:32,sz_curr:0)))], Dict{Symbol,Any}(:className=>\"field\"), 1), nothing)), Set(String[]), nothing, Any[], Dict{Any,Any}(), WebIO.ConnectionPool(Channel{Any}(sz_max:9223372036854775807,sz_curr:0), Set(AbstractConnection[]), Channel{AbstractConnection}(sz_max:32,sz_curr:0))):\n",
              "    (WebIO.ObservableNode(\"ob_24\", \"obs-scope\"):)))"
            ]
          },
          "metadata": {
            "application/vnd.webio.node+json": {
              "kernelId": "6ba96395-7d2f-47a6-b749-b5f6fd6469da"
            }
          }
        }
      ],
      "execution_count": 2,
      "metadata": {}
    },
    {
      "cell_type": "markdown",
      "source": [
        "# Prepare Dataset"
      ],
      "metadata": {}
    },
    {
      "cell_type": "code",
      "source": [
        "dataset = prepare(\"$droot/$(sdir[])/$(fname[][])\",\"spike\")"
      ],
      "outputs": [
        {
          "output_type": "execute_result",
          "execution_count": 3,
          "data": {
            "text/plain": [
              "Dict{Any,Any} with 6 entries:\n",
              "  \"spike\"         => Dict{String,Any}(\"unitid\"=>Any[UInt8[0x01, 0x00, 0x00, 0x0…\n",
              "  \"source\"        => \"X:\\\\C1801\\\\V2Site5aCh23_V1Site1a\\\\C1801_V2Site5aCh23_V1Si…\n",
              "  \"ex\"            => Dict{String,Any}(\"Subject_ID\"=>\"C1801\",\"PreIBI\"=>0.0,\"Para…\n",
              "  \"secondperunit\" => 0.001\n",
              "  \"filepath\"      => \"Y:\\\\C1801\\\\C1801_V2Site5aCh23_V1Site1a_OriGrating_1.mat\"\n",
              "  \"sourceformat\"  => \"Ripple\""
            ]
          },
          "metadata": {}
        }
      ],
      "execution_count": 3,
      "metadata": {
        "scrolled": true
      }
    },
    {
      "cell_type": "markdown",
      "source": [
        "## Condition Test"
      ],
      "metadata": {}
    },
    {
      "cell_type": "code",
      "source": [
        "using Statistics, Plots\n",
        "ex = dataset[\"ex\"];envparam = ex[\"EnvParam\"];preicidur = ex[\"PreICI\"];conddur = ex[\"CondDur\"];suficidur = ex[\"SufICI\"]\n",
        "ct,ctc=ctctc(ex)\n",
        "vcti = .!(isnan.(ct[:CondOn]) .& isnan.(ct[:CondOff]));ct=ct[vcti,:];ctc=ctc[vcti,:]\n",
        "condon = ct[:CondOn];condoff = ct[:CondOff];mconddur=mean(condoff-condon)\n",
        "gr()\n",
        "default(size=(650,420), leg=true)\n",
        "histogram(condoff-condon,bins=20,title=\"Condition Duration(Set to $conddur ms)\")"
      ],
      "outputs": [
        {
          "output_type": "execute_result",
          "execution_count": 4,
          "data": {
            "image/svg+xml": [
              "<?xml version=\"1.0\" encoding=\"utf-8\"?>\n",
              "<svg xmlns=\"http://www.w3.org/2000/svg\" xmlns:xlink=\"http://www.w3.org/1999/xlink\" width=\"650\" height=\"420\" viewBox=\"0 0 2600 1680\">\n",
              "<defs>\n",
              "  <clipPath id=\"clip9800\">\n",
              "    <rect x=\"0\" y=\"0\" width=\"2000\" height=\"2000\"/>\n",
              "  </clipPath>\n",
              "</defs>\n",
              "<defs>\n",
              "  <clipPath id=\"clip9801\">\n",
              "    <rect x=\"0\" y=\"0\" width=\"2600\" height=\"1680\"/>\n",
              "  </clipPath>\n",
              "</defs>\n",
              "<polygon clip-path=\"url(#clip9801)\" points=\"\n",
              "0,1680 2600,1680 2600,0 0,0 \n",
              "  \" fill=\"#ffffff\" fill-rule=\"evenodd\" fill-opacity=\"1\"/>\n",
              "<defs>\n",
              "  <clipPath id=\"clip9802\">\n",
              "    <rect x=\"520\" y=\"0\" width=\"1821\" height=\"1680\"/>\n",
              "  </clipPath>\n",
              "</defs>\n",
              "<polygon clip-path=\"url(#clip9801)\" points=\"\n",
              "148.013,1583.47 2521.26,1583.47 2521.26,125.984 148.013,125.984 \n",
              "  \" fill=\"#ffffff\" fill-rule=\"evenodd\" fill-opacity=\"1\"/>\n",
              "<defs>\n",
              "  <clipPath id=\"clip9803\">\n",
              "    <rect x=\"148\" y=\"125\" width=\"2374\" height=\"1458\"/>\n",
              "  </clipPath>\n",
              "</defs>\n",
              "<polyline clip-path=\"url(#clip9803)\" style=\"stroke:#000000; stroke-width:2; stroke-opacity:0.1; fill:none\" points=\"\n",
              "  429.416,1583.47 429.416,125.984 \n",
              "  \"/>\n",
              "<polyline clip-path=\"url(#clip9803)\" style=\"stroke:#000000; stroke-width:2; stroke-opacity:0.1; fill:none\" points=\"\n",
              "  731.156,1583.47 731.156,125.984 \n",
              "  \"/>\n",
              "<polyline clip-path=\"url(#clip9803)\" style=\"stroke:#000000; stroke-width:2; stroke-opacity:0.1; fill:none\" points=\"\n",
              "  1032.9,1583.47 1032.9,125.984 \n",
              "  \"/>\n",
              "<polyline clip-path=\"url(#clip9803)\" style=\"stroke:#000000; stroke-width:2; stroke-opacity:0.1; fill:none\" points=\"\n",
              "  1334.64,1583.47 1334.64,125.984 \n",
              "  \"/>\n",
              "<polyline clip-path=\"url(#clip9803)\" style=\"stroke:#000000; stroke-width:2; stroke-opacity:0.1; fill:none\" points=\"\n",
              "  1636.38,1583.47 1636.38,125.984 \n",
              "  \"/>\n",
              "<polyline clip-path=\"url(#clip9803)\" style=\"stroke:#000000; stroke-width:2; stroke-opacity:0.1; fill:none\" points=\"\n",
              "  1938.12,1583.47 1938.12,125.984 \n",
              "  \"/>\n",
              "<polyline clip-path=\"url(#clip9803)\" style=\"stroke:#000000; stroke-width:2; stroke-opacity:0.1; fill:none\" points=\"\n",
              "  2239.86,1583.47 2239.86,125.984 \n",
              "  \"/>\n",
              "<polyline clip-path=\"url(#clip9803)\" style=\"stroke:#000000; stroke-width:2; stroke-opacity:0.1; fill:none\" points=\"\n",
              "  148.013,1542.22 2521.26,1542.22 \n",
              "  \"/>\n",
              "<polyline clip-path=\"url(#clip9803)\" style=\"stroke:#000000; stroke-width:2; stroke-opacity:0.1; fill:none\" points=\"\n",
              "  148.013,1296.69 2521.26,1296.69 \n",
              "  \"/>\n",
              "<polyline clip-path=\"url(#clip9803)\" style=\"stroke:#000000; stroke-width:2; stroke-opacity:0.1; fill:none\" points=\"\n",
              "  148.013,1051.16 2521.26,1051.16 \n",
              "  \"/>\n",
              "<polyline clip-path=\"url(#clip9803)\" style=\"stroke:#000000; stroke-width:2; stroke-opacity:0.1; fill:none\" points=\"\n",
              "  148.013,805.623 2521.26,805.623 \n",
              "  \"/>\n",
              "<polyline clip-path=\"url(#clip9803)\" style=\"stroke:#000000; stroke-width:2; stroke-opacity:0.1; fill:none\" points=\"\n",
              "  148.013,560.089 2521.26,560.089 \n",
              "  \"/>\n",
              "<polyline clip-path=\"url(#clip9803)\" style=\"stroke:#000000; stroke-width:2; stroke-opacity:0.1; fill:none\" points=\"\n",
              "  148.013,314.554 2521.26,314.554 \n",
              "  \"/>\n",
              "<polyline clip-path=\"url(#clip9801)\" style=\"stroke:#000000; stroke-width:4; stroke-opacity:1; fill:none\" points=\"\n",
              "  148.013,1583.47 2521.26,1583.47 \n",
              "  \"/>\n",
              "<polyline clip-path=\"url(#clip9801)\" style=\"stroke:#000000; stroke-width:4; stroke-opacity:1; fill:none\" points=\"\n",
              "  148.013,1583.47 148.013,125.984 \n",
              "  \"/>\n",
              "<polyline clip-path=\"url(#clip9801)\" style=\"stroke:#000000; stroke-width:4; stroke-opacity:1; fill:none\" points=\"\n",
              "  429.416,1583.47 429.416,1561.61 \n",
              "  \"/>\n",
              "<polyline clip-path=\"url(#clip9801)\" style=\"stroke:#000000; stroke-width:4; stroke-opacity:1; fill:none\" points=\"\n",
              "  731.156,1583.47 731.156,1561.61 \n",
              "  \"/>\n",
              "<polyline clip-path=\"url(#clip9801)\" style=\"stroke:#000000; stroke-width:4; stroke-opacity:1; fill:none\" points=\"\n",
              "  1032.9,1583.47 1032.9,1561.61 \n",
              "  \"/>\n",
              "<polyline clip-path=\"url(#clip9801)\" style=\"stroke:#000000; stroke-width:4; stroke-opacity:1; fill:none\" points=\"\n",
              "  1334.64,1583.47 1334.64,1561.61 \n",
              "  \"/>\n",
              "<polyline clip-path=\"url(#clip9801)\" style=\"stroke:#000000; stroke-width:4; stroke-opacity:1; fill:none\" points=\"\n",
              "  1636.38,1583.47 1636.38,1561.61 \n",
              "  \"/>\n",
              "<polyline clip-path=\"url(#clip9801)\" style=\"stroke:#000000; stroke-width:4; stroke-opacity:1; fill:none\" points=\"\n",
              "  1938.12,1583.47 1938.12,1561.61 \n",
              "  \"/>\n",
              "<polyline clip-path=\"url(#clip9801)\" style=\"stroke:#000000; stroke-width:4; stroke-opacity:1; fill:none\" points=\"\n",
              "  2239.86,1583.47 2239.86,1561.61 \n",
              "  \"/>\n",
              "<polyline clip-path=\"url(#clip9801)\" style=\"stroke:#000000; stroke-width:4; stroke-opacity:1; fill:none\" points=\"\n",
              "  148.013,1542.22 183.612,1542.22 \n",
              "  \"/>\n",
              "<polyline clip-path=\"url(#clip9801)\" style=\"stroke:#000000; stroke-width:4; stroke-opacity:1; fill:none\" points=\"\n",
              "  148.013,1296.69 183.612,1296.69 \n",
              "  \"/>\n",
              "<polyline clip-path=\"url(#clip9801)\" style=\"stroke:#000000; stroke-width:4; stroke-opacity:1; fill:none\" points=\"\n",
              "  148.013,1051.16 183.612,1051.16 \n",
              "  \"/>\n",
              "<polyline clip-path=\"url(#clip9801)\" style=\"stroke:#000000; stroke-width:4; stroke-opacity:1; fill:none\" points=\"\n",
              "  148.013,805.623 183.612,805.623 \n",
              "  \"/>\n",
              "<polyline clip-path=\"url(#clip9801)\" style=\"stroke:#000000; stroke-width:4; stroke-opacity:1; fill:none\" points=\"\n",
              "  148.013,560.089 183.612,560.089 \n",
              "  \"/>\n",
              "<polyline clip-path=\"url(#clip9801)\" style=\"stroke:#000000; stroke-width:4; stroke-opacity:1; fill:none\" points=\"\n",
              "  148.013,314.554 183.612,314.554 \n",
              "  \"/>\n",
              "<g clip-path=\"url(#clip9801)\">\n",
              "<text style=\"fill:#000000; fill-opacity:1; font-family:Arial,Helvetica Neue,Helvetica,sans-serif; font-size:48px; text-anchor:middle;\" transform=\"rotate(0, 429.416, 1638.47)\" x=\"429.416\" y=\"1638.47\">498</text>\n",
              "</g>\n",
              "<g clip-path=\"url(#clip9801)\">\n",
              "<text style=\"fill:#000000; fill-opacity:1; font-family:Arial,Helvetica Neue,Helvetica,sans-serif; font-size:48px; text-anchor:middle;\" transform=\"rotate(0, 731.156, 1638.47)\" x=\"731.156\" y=\"1638.47\">500</text>\n",
              "</g>\n",
              "<g clip-path=\"url(#clip9801)\">\n",
              "<text style=\"fill:#000000; fill-opacity:1; font-family:Arial,Helvetica Neue,Helvetica,sans-serif; font-size:48px; text-anchor:middle;\" transform=\"rotate(0, 1032.9, 1638.47)\" x=\"1032.9\" y=\"1638.47\">502</text>\n",
              "</g>\n",
              "<g clip-path=\"url(#clip9801)\">\n",
              "<text style=\"fill:#000000; fill-opacity:1; font-family:Arial,Helvetica Neue,Helvetica,sans-serif; font-size:48px; text-anchor:middle;\" transform=\"rotate(0, 1334.64, 1638.47)\" x=\"1334.64\" y=\"1638.47\">504</text>\n",
              "</g>\n",
              "<g clip-path=\"url(#clip9801)\">\n",
              "<text style=\"fill:#000000; fill-opacity:1; font-family:Arial,Helvetica Neue,Helvetica,sans-serif; font-size:48px; text-anchor:middle;\" transform=\"rotate(0, 1636.38, 1638.47)\" x=\"1636.38\" y=\"1638.47\">506</text>\n",
              "</g>\n",
              "<g clip-path=\"url(#clip9801)\">\n",
              "<text style=\"fill:#000000; fill-opacity:1; font-family:Arial,Helvetica Neue,Helvetica,sans-serif; font-size:48px; text-anchor:middle;\" transform=\"rotate(0, 1938.12, 1638.47)\" x=\"1938.12\" y=\"1638.47\">508</text>\n",
              "</g>\n",
              "<g clip-path=\"url(#clip9801)\">\n",
              "<text style=\"fill:#000000; fill-opacity:1; font-family:Arial,Helvetica Neue,Helvetica,sans-serif; font-size:48px; text-anchor:middle;\" transform=\"rotate(0, 2239.86, 1638.47)\" x=\"2239.86\" y=\"1638.47\">510</text>\n",
              "</g>\n",
              "<g clip-path=\"url(#clip9801)\">\n",
              "<text style=\"fill:#000000; fill-opacity:1; font-family:Arial,Helvetica Neue,Helvetica,sans-serif; font-size:48px; text-anchor:end;\" transform=\"rotate(0, 122.013, 1559.72)\" x=\"122.013\" y=\"1559.72\">0</text>\n",
              "</g>\n",
              "<g clip-path=\"url(#clip9801)\">\n",
              "<text style=\"fill:#000000; fill-opacity:1; font-family:Arial,Helvetica Neue,Helvetica,sans-serif; font-size:48px; text-anchor:end;\" transform=\"rotate(0, 122.013, 1314.19)\" x=\"122.013\" y=\"1314.19\">10</text>\n",
              "</g>\n",
              "<g clip-path=\"url(#clip9801)\">\n",
              "<text style=\"fill:#000000; fill-opacity:1; font-family:Arial,Helvetica Neue,Helvetica,sans-serif; font-size:48px; text-anchor:end;\" transform=\"rotate(0, 122.013, 1068.66)\" x=\"122.013\" y=\"1068.66\">20</text>\n",
              "</g>\n",
              "<g clip-path=\"url(#clip9801)\">\n",
              "<text style=\"fill:#000000; fill-opacity:1; font-family:Arial,Helvetica Neue,Helvetica,sans-serif; font-size:48px; text-anchor:end;\" transform=\"rotate(0, 122.013, 823.123)\" x=\"122.013\" y=\"823.123\">30</text>\n",
              "</g>\n",
              "<g clip-path=\"url(#clip9801)\">\n",
              "<text style=\"fill:#000000; fill-opacity:1; font-family:Arial,Helvetica Neue,Helvetica,sans-serif; font-size:48px; text-anchor:end;\" transform=\"rotate(0, 122.013, 577.589)\" x=\"122.013\" y=\"577.589\">40</text>\n",
              "</g>\n",
              "<g clip-path=\"url(#clip9801)\">\n",
              "<text style=\"fill:#000000; fill-opacity:1; font-family:Arial,Helvetica Neue,Helvetica,sans-serif; font-size:48px; text-anchor:end;\" transform=\"rotate(0, 122.013, 332.054)\" x=\"122.013\" y=\"332.054\">50</text>\n",
              "</g>\n",
              "<g clip-path=\"url(#clip9801)\">\n",
              "<text style=\"fill:#000000; fill-opacity:1; font-family:Arial,Helvetica Neue,Helvetica,sans-serif; font-size:84px; text-anchor:middle;\" transform=\"rotate(0, 1334.64, 73.2)\" x=\"1334.64\" y=\"73.2\">Condition Duration(Set to 500.0 ms)</text>\n",
              "</g>\n",
              "<polygon clip-path=\"url(#clip9803)\" points=\"\n",
              "278.546,1173.92 278.546,1542.22 429.416,1542.22 429.416,1173.92 278.546,1173.92 278.546,1173.92 \n",
              "  \" fill=\"#009af9\" fill-rule=\"evenodd\" fill-opacity=\"1\"/>\n",
              "<polyline clip-path=\"url(#clip9803)\" style=\"stroke:#000000; stroke-width:4; stroke-opacity:1; fill:none\" points=\"\n",
              "  278.546,1173.92 278.546,1542.22 429.416,1542.22 429.416,1173.92 278.546,1173.92 \n",
              "  \"/>\n",
              "<polygon clip-path=\"url(#clip9803)\" points=\"\n",
              "429.416,1493.12 429.416,1542.22 580.286,1542.22 580.286,1493.12 429.416,1493.12 429.416,1493.12 \n",
              "  \" fill=\"#009af9\" fill-rule=\"evenodd\" fill-opacity=\"1\"/>\n",
              "<polyline clip-path=\"url(#clip9803)\" style=\"stroke:#000000; stroke-width:4; stroke-opacity:1; fill:none\" points=\"\n",
              "  429.416,1493.12 429.416,1542.22 580.286,1542.22 580.286,1493.12 429.416,1493.12 \n",
              "  \"/>\n",
              "<polygon clip-path=\"url(#clip9803)\" points=\"\n",
              "580.286,1542.22 580.286,1542.22 731.156,1542.22 731.156,1542.22 580.286,1542.22 580.286,1542.22 \n",
              "  \" fill=\"#009af9\" fill-rule=\"evenodd\" fill-opacity=\"1\"/>\n",
              "<polyline clip-path=\"url(#clip9803)\" style=\"stroke:#000000; stroke-width:4; stroke-opacity:1; fill:none\" points=\"\n",
              "  580.286,1542.22 580.286,1542.22 731.156,1542.22 580.286,1542.22 \n",
              "  \"/>\n",
              "<polygon clip-path=\"url(#clip9803)\" points=\"\n",
              "731.156,1542.22 731.156,1542.22 882.026,1542.22 882.026,1542.22 731.156,1542.22 731.156,1542.22 \n",
              "  \" fill=\"#009af9\" fill-rule=\"evenodd\" fill-opacity=\"1\"/>\n",
              "<polyline clip-path=\"url(#clip9803)\" style=\"stroke:#000000; stroke-width:4; stroke-opacity:1; fill:none\" points=\"\n",
              "  731.156,1542.22 731.156,1542.22 882.026,1542.22 731.156,1542.22 \n",
              "  \"/>\n",
              "<polygon clip-path=\"url(#clip9803)\" points=\"\n",
              "882.026,1321.24 882.026,1542.22 1032.9,1542.22 1032.9,1321.24 882.026,1321.24 882.026,1321.24 \n",
              "  \" fill=\"#009af9\" fill-rule=\"evenodd\" fill-opacity=\"1\"/>\n",
              "<polyline clip-path=\"url(#clip9803)\" style=\"stroke:#000000; stroke-width:4; stroke-opacity:1; fill:none\" points=\"\n",
              "  882.026,1321.24 882.026,1542.22 1032.9,1542.22 1032.9,1321.24 882.026,1321.24 \n",
              "  \"/>\n",
              "<polygon clip-path=\"url(#clip9803)\" points=\"\n",
              "1032.9,167.234 1032.9,1542.22 1183.77,1542.22 1183.77,167.234 1032.9,167.234 1032.9,167.234 \n",
              "  \" fill=\"#009af9\" fill-rule=\"evenodd\" fill-opacity=\"1\"/>\n",
              "<polyline clip-path=\"url(#clip9803)\" style=\"stroke:#000000; stroke-width:4; stroke-opacity:1; fill:none\" points=\"\n",
              "  1032.9,167.234 1032.9,1542.22 1183.77,1542.22 1183.77,167.234 1032.9,167.234 \n",
              "  \"/>\n",
              "<polygon clip-path=\"url(#clip9803)\" points=\"\n",
              "1183.77,1542.22 1183.77,1542.22 1334.64,1542.22 1334.64,1542.22 1183.77,1542.22 1183.77,1542.22 \n",
              "  \" fill=\"#009af9\" fill-rule=\"evenodd\" fill-opacity=\"1\"/>\n",
              "<polyline clip-path=\"url(#clip9803)\" style=\"stroke:#000000; stroke-width:4; stroke-opacity:1; fill:none\" points=\"\n",
              "  1183.77,1542.22 1183.77,1542.22 1334.64,1542.22 1183.77,1542.22 \n",
              "  \"/>\n",
              "<polygon clip-path=\"url(#clip9803)\" points=\"\n",
              "1334.64,1542.22 1334.64,1542.22 1485.51,1542.22 1485.51,1542.22 1334.64,1542.22 1334.64,1542.22 \n",
              "  \" fill=\"#009af9\" fill-rule=\"evenodd\" fill-opacity=\"1\"/>\n",
              "<polyline clip-path=\"url(#clip9803)\" style=\"stroke:#000000; stroke-width:4; stroke-opacity:1; fill:none\" points=\"\n",
              "  1334.64,1542.22 1334.64,1542.22 1485.51,1542.22 1334.64,1542.22 \n",
              "  \"/>\n",
              "<polygon clip-path=\"url(#clip9803)\" points=\"\n",
              "1485.51,1542.22 1485.51,1542.22 1636.38,1542.22 1636.38,1542.22 1485.51,1542.22 1485.51,1542.22 \n",
              "  \" fill=\"#009af9\" fill-rule=\"evenodd\" fill-opacity=\"1\"/>\n",
              "<polyline clip-path=\"url(#clip9803)\" style=\"stroke:#000000; stroke-width:4; stroke-opacity:1; fill:none\" points=\"\n",
              "  1485.51,1542.22 1485.51,1542.22 1636.38,1542.22 1485.51,1542.22 \n",
              "  \"/>\n",
              "<polygon clip-path=\"url(#clip9803)\" points=\"\n",
              "1636.38,1517.67 1636.38,1542.22 1787.25,1542.22 1787.25,1517.67 1636.38,1517.67 1636.38,1517.67 \n",
              "  \" fill=\"#009af9\" fill-rule=\"evenodd\" fill-opacity=\"1\"/>\n",
              "<polyline clip-path=\"url(#clip9803)\" style=\"stroke:#000000; stroke-width:4; stroke-opacity:1; fill:none\" points=\"\n",
              "  1636.38,1517.67 1636.38,1542.22 1787.25,1542.22 1787.25,1517.67 1636.38,1517.67 \n",
              "  \"/>\n",
              "<polygon clip-path=\"url(#clip9803)\" points=\"\n",
              "1787.25,1542.22 1787.25,1542.22 1938.12,1542.22 1938.12,1542.22 1787.25,1542.22 1787.25,1542.22 \n",
              "  \" fill=\"#009af9\" fill-rule=\"evenodd\" fill-opacity=\"1\"/>\n",
              "<polyline clip-path=\"url(#clip9803)\" style=\"stroke:#000000; stroke-width:4; stroke-opacity:1; fill:none\" points=\"\n",
              "  1787.25,1542.22 1787.25,1542.22 1938.12,1542.22 1787.25,1542.22 \n",
              "  \"/>\n",
              "<polygon clip-path=\"url(#clip9803)\" points=\"\n",
              "1938.12,1542.22 1938.12,1542.22 2088.99,1542.22 2088.99,1542.22 1938.12,1542.22 1938.12,1542.22 \n",
              "  \" fill=\"#009af9\" fill-rule=\"evenodd\" fill-opacity=\"1\"/>\n",
              "<polyline clip-path=\"url(#clip9803)\" style=\"stroke:#000000; stroke-width:4; stroke-opacity:1; fill:none\" points=\"\n",
              "  1938.12,1542.22 1938.12,1542.22 2088.99,1542.22 1938.12,1542.22 \n",
              "  \"/>\n",
              "<polygon clip-path=\"url(#clip9803)\" points=\"\n",
              "2088.99,1542.22 2088.99,1542.22 2239.86,1542.22 2239.86,1542.22 2088.99,1542.22 2088.99,1542.22 \n",
              "  \" fill=\"#009af9\" fill-rule=\"evenodd\" fill-opacity=\"1\"/>\n",
              "<polyline clip-path=\"url(#clip9803)\" style=\"stroke:#000000; stroke-width:4; stroke-opacity:1; fill:none\" points=\"\n",
              "  2088.99,1542.22 2088.99,1542.22 2239.86,1542.22 2088.99,1542.22 \n",
              "  \"/>\n",
              "<polygon clip-path=\"url(#clip9803)\" points=\"\n",
              "2239.86,1321.24 2239.86,1542.22 2390.73,1542.22 2390.73,1321.24 2239.86,1321.24 2239.86,1321.24 \n",
              "  \" fill=\"#009af9\" fill-rule=\"evenodd\" fill-opacity=\"1\"/>\n",
              "<polyline clip-path=\"url(#clip9803)\" style=\"stroke:#000000; stroke-width:4; stroke-opacity:1; fill:none\" points=\"\n",
              "  2239.86,1321.24 2239.86,1542.22 2390.73,1542.22 2390.73,1321.24 2239.86,1321.24 \n",
              "  \"/>\n",
              "<polygon clip-path=\"url(#clip9801)\" points=\"\n",
              "2132.43,342.464 2443.26,342.464 2443.26,221.504 2132.43,221.504 \n",
              "  \" fill=\"#ffffff\" fill-rule=\"evenodd\" fill-opacity=\"1\"/>\n",
              "<polyline clip-path=\"url(#clip9801)\" style=\"stroke:#000000; stroke-width:4; stroke-opacity:1; fill:none\" points=\"\n",
              "  2132.43,342.464 2443.26,342.464 2443.26,221.504 2132.43,221.504 2132.43,342.464 \n",
              "  \"/>\n",
              "<polygon clip-path=\"url(#clip9801)\" points=\"\n",
              "2158.43,306.176 2314.43,306.176 2314.43,257.792 2158.43,257.792 2158.43,306.176 \n",
              "  \" fill=\"#009af9\" fill-rule=\"evenodd\" fill-opacity=\"1\"/>\n",
              "<polyline clip-path=\"url(#clip9801)\" style=\"stroke:#000000; stroke-width:4; stroke-opacity:1; fill:none\" points=\"\n",
              "  2158.43,306.176 2314.43,306.176 2314.43,257.792 2158.43,257.792 2158.43,306.176 \n",
              "  \"/>\n",
              "<g clip-path=\"url(#clip9801)\">\n",
              "<text style=\"fill:#000000; fill-opacity:1; font-family:Arial,Helvetica Neue,Helvetica,sans-serif; font-size:48px; text-anchor:start;\" transform=\"rotate(0, 2340.43, 299.484)\" x=\"2340.43\" y=\"299.484\">y1</text>\n",
              "</g>\n",
              "</svg>\n"
            ]
          },
          "metadata": {}
        }
      ],
      "execution_count": 4,
      "metadata": {}
    },
    {
      "cell_type": "markdown",
      "source": [
        "# Spiking Activity"
      ],
      "metadata": {}
    },
    {
      "cell_type": "code",
      "source": [
        "spike = dataset[\"spike\"];spikeeid = spike[\"electrodeid\"];spikeuuid = spike[\"uuid\"];spikeuid = spike[\"unitid\"];spiketime = spike[\"time\"]\n",
        "eid = togglebuttons(spikeeid,label=\"Electrode\")"
      ],
      "outputs": [
        {
          "output_type": "execute_result",
          "execution_count": 5,
          "data": {
            "application/vnd.webio.node+json": {
              "children": [
                {
                  "children": [
                    {
                      "children": [
                        {
                          "children": [
                            {
                              "children": [
                                "Electrode"
                              ],
                              "instanceArgs": {
                                "namespace": "html",
                                "tag": "label"
                              },
                              "nodeType": "DOM",
                              "props": {
                                "className": "interact ",
                                "style": {
                                  "padding": "5px 10px 0px 10px"
                                }
                              },
                              "type": "node"
                            }
                          ],
                          "instanceArgs": {
                            "namespace": "html",
                            "tag": "div"
                          },
                          "nodeType": "DOM",
                          "props": {
                            "attributes": {
                              "style": "text-align:right;width:18%"
                            }
                          },
                          "type": "node"
                        },
                        {
                          "children": [
                            {
                              "children": [
                                {
                                  "children": [
                                    {
                                      "children": [],
                                      "instanceArgs": {
                                        "namespace": "html",
                                        "tag": "label"
                                      },
                                      "nodeType": "DOM",
                                      "props": {
                                        "attributes": {
                                          "data-bind": "text : key"
                                        }
                                      },
                                      "type": "node"
                                    }
                                  ],
                                  "instanceArgs": {
                                    "namespace": "html",
                                    "tag": "button"
                                  },
                                  "nodeType": "DOM",
                                  "props": {
                                    "attributes": {
                                      "data-bind": "click: function () {$root.index(val)}, css: {'is-primary is-selected' : $root.index() == val, 'button is-fullwidth' : true}"
                                    }
                                  },
                                  "type": "node"
                                }
                              ],
                              "instanceArgs": {
                                "namespace": "html",
                                "tag": "div"
                              },
                              "nodeType": "DOM",
                              "props": {
                                "attributes": {
                                  "data-bind": "foreach : options_js"
                                },
                                "className": "field is-grouped has-addons is-oneline is-centered"
                              },
                              "type": "node"
                            }
                          ],
                          "instanceArgs": {
                            "namespace": "html",
                            "tag": "div"
                          },
                          "nodeType": "DOM",
                          "props": {
                            "attributes": {
                              "style": "flex-grow:1; margin: 0 2%"
                            }
                          },
                          "type": "node"
                        },
                        {
                          "children": [
                            {
                              "children": [],
                              "instanceArgs": {
                                "namespace": "html",
                                "tag": "div"
                              },
                              "nodeType": "DOM",
                              "props": {},
                              "type": "node"
                            }
                          ],
                          "instanceArgs": {
                            "namespace": "html",
                            "tag": "div"
                          },
                          "nodeType": "DOM",
                          "props": {
                            "attributes": {
                              "style": "width:18%"
                            }
                          },
                          "type": "node"
                        }
                      ],
                      "instanceArgs": {
                        "namespace": "html",
                        "tag": "div"
                      },
                      "nodeType": "DOM",
                      "props": {
                        "attributes": {
                          "style": "display:flex; justify-content:center; align-items:center;"
                        }
                      },
                      "type": "node"
                    }
                  ],
                  "instanceArgs": {
                    "handlers": {
                      "_promises": {
                        "importsLoaded": [
                          "function (ko, koPunches) {\n    ko.punches.enableAll();\n    ko.bindingHandlers.numericValue = {\n        init : function(element, valueAccessor, allBindings, data, context) {\n            var stringified = ko.observable(ko.unwrap(valueAccessor()));\n            stringified.subscribe(function(value) {\n                var val = parseFloat(value);\n                if (!isNaN(val)) {\n                    valueAccessor()(val);\n                }\n            })\n            valueAccessor().subscribe(function(value) {\n                var str = JSON.stringify(value);\n                if ((str == \"0\") && ([\"-0\", \"-0.\"].indexOf(stringified()) >= 0))\n                     return;\n                 if ([\"null\", \"\"].indexOf(str) >= 0)\n                     return;\n                stringified(str);\n            })\n            ko.applyBindingsToNode(element, { value: stringified, valueUpdate: allBindings.get('valueUpdate')}, context);\n        }\n    };\n    var json_data = JSON.parse(\"{\\\"options_js\\\":[{\\\"key\\\":\\\"1\\\",\\\"val\\\":1,\\\"id\\\":\\\"idIaAilonk\\\"},{\\\"key\\\":\\\"2\\\",\\\"val\\\":2,\\\"id\\\":\\\"idY7Wft9o2\\\"},{\\\"key\\\":\\\"3\\\",\\\"val\\\":3,\\\"id\\\":\\\"idcraQvQ9b\\\"},{\\\"key\\\":\\\"4\\\",\\\"val\\\":4,\\\"id\\\":\\\"id1U8d3sNS\\\"},{\\\"key\\\":\\\"5\\\",\\\"val\\\":5,\\\"id\\\":\\\"id83fm6QNL\\\"},{\\\"key\\\":\\\"6\\\",\\\"val\\\":6,\\\"id\\\":\\\"idPNKwRUg1\\\"},{\\\"key\\\":\\\"7\\\",\\\"val\\\":7,\\\"id\\\":\\\"idhD6e2UTC\\\"},{\\\"key\\\":\\\"8\\\",\\\"val\\\":8,\\\"id\\\":\\\"idij509Es9\\\"},{\\\"key\\\":\\\"9\\\",\\\"val\\\":9,\\\"id\\\":\\\"idEI4vAwFB\\\"},{\\\"key\\\":\\\"10\\\",\\\"val\\\":10,\\\"id\\\":\\\"idsmVuXNy9\\\"},{\\\"key\\\":\\\"11\\\",\\\"val\\\":11,\\\"id\\\":\\\"idS7Z2Bpvl\\\"},{\\\"key\\\":\\\"12\\\",\\\"val\\\":12,\\\"id\\\":\\\"idQM8TwR0t\\\"},{\\\"key\\\":\\\"13\\\",\\\"val\\\":13,\\\"id\\\":\\\"idkpyiDNI8\\\"},{\\\"key\\\":\\\"14\\\",\\\"val\\\":14,\\\"id\\\":\\\"idPTNEk7SP\\\"},{\\\"key\\\":\\\"15\\\",\\\"val\\\":15,\\\"id\\\":\\\"id825Fi8Pq\\\"},{\\\"key\\\":\\\"16\\\",\\\"val\\\":16,\\\"id\\\":\\\"id5Ac0d5YW\\\"},{\\\"key\\\":\\\"17\\\",\\\"val\\\":17,\\\"id\\\":\\\"id80AkXEWP\\\"},{\\\"key\\\":\\\"18\\\",\\\"val\\\":18,\\\"id\\\":\\\"iddVBuZZyY\\\"},{\\\"key\\\":\\\"19\\\",\\\"val\\\":19,\\\"id\\\":\\\"id1AJX1teG\\\"},{\\\"key\\\":\\\"20\\\",\\\"val\\\":20,\\\"id\\\":\\\"idx0LNRwbj\\\"},{\\\"key\\\":\\\"21\\\",\\\"val\\\":21,\\\"id\\\":\\\"ideVc453HW\\\"},{\\\"key\\\":\\\"22\\\",\\\"val\\\":22,\\\"id\\\":\\\"id88mrofha\\\"},{\\\"key\\\":\\\"23\\\",\\\"val\\\":23,\\\"id\\\":\\\"idKMvLk4UW\\\"},{\\\"key\\\":\\\"24\\\",\\\"val\\\":24,\\\"id\\\":\\\"idQh3J3mkL\\\"},{\\\"key\\\":\\\"25\\\",\\\"val\\\":25,\\\"id\\\":\\\"idgzRmjUi4\\\"}],\\\"index\\\":1}\");\n    var self = this;\n    function AppViewModel() {\n        for (var key in json_data) {\n            var el = json_data[key];\n            this[key] = Array.isArray(el) ? ko.observableArray(el) : ko.observable(el);\n        }\n        \n        \n        [this[\"options_js\"].subscribe((function (val){!(this.valueFromJulia[\"options_js\"]) ? (_webIOScope.setObservableValue({\"name\":\"options_js\",\"scope\":\"knockout-component-3cf6d62f-3f26-48ac-aa30-0caee7335c09\",\"id\":\"ob_34\",\"type\":\"observable\"},val)) : undefined; return this.valueFromJulia[\"options_js\"]=false}),self),this[\"index\"].subscribe((function (val){!(this.valueFromJulia[\"index\"]) ? (_webIOScope.setObservableValue({\"name\":\"index\",\"scope\":\"knockout-component-3cf6d62f-3f26-48ac-aa30-0caee7335c09\",\"id\":\"ob_33\",\"type\":\"observable\"},val)) : undefined; return this.valueFromJulia[\"index\"]=false}),self)]\n        \n    }\n    self.model = new AppViewModel();\n    self.valueFromJulia = {};\n    for (var key in json_data) {\n        self.valueFromJulia[key] = false;\n    }\n    ko.applyBindings(self.model, self.dom);\n}\n"
                        ]
                      },
                      "index": [
                        "(function (val){return (val!=this.model[\"index\"]()) ? (this.valueFromJulia[\"index\"]=true, this.model[\"index\"](val)) : undefined})"
                      ],
                      "options_js": [
                        "(function (val){return (val!=this.model[\"options_js\"]()) ? (this.valueFromJulia[\"options_js\"]=true, this.model[\"options_js\"](val)) : undefined})"
                      ]
                    },
                    "id": "knockout-component-3cf6d62f-3f26-48ac-aa30-0caee7335c09",
                    "imports": {
                      "data": [
                        {
                          "name": "knockout",
                          "type": "js",
                          "url": "/assetserver/fe7d3ce0ef73fffe4b07398d3eaf1c1a335ed6ac-knockout.js"
                        },
                        {
                          "name": "knockout_punches",
                          "type": "js",
                          "url": "/assetserver/1764b91a11ffe5a6c57c5d605079ccde5ddd28a1-knockout_punches.js"
                        },
                        {
                          "name": null,
                          "type": "js",
                          "url": "/assetserver/239a0709d1bd89d06f348c62cad4467504786b78-all.js"
                        },
                        {
                          "name": null,
                          "type": "css",
                          "url": "/assetserver/88fd8714ccb6031b47bd164292283bc40f0e5b56-style.css"
                        },
                        {
                          "name": null,
                          "type": "css",
                          "url": "/assetserver/593c6eca1d291d88375fe32d6fd7993aadb13589-main.css"
                        }
                      ],
                      "type": "async_block"
                    },
                    "observables": {
                      "index": {
                        "id": "ob_33",
                        "sync": true,
                        "value": 1
                      },
                      "options_js": {
                        "id": "ob_34",
                        "sync": false,
                        "value": [
                          {
                            "id": "idIaAilonk",
                            "key": "1",
                            "val": 1
                          },
                          {
                            "id": "idY7Wft9o2",
                            "key": "2",
                            "val": 2
                          },
                          {
                            "id": "idcraQvQ9b",
                            "key": "3",
                            "val": 3
                          },
                          {
                            "id": "id1U8d3sNS",
                            "key": "4",
                            "val": 4
                          },
                          {
                            "id": "id83fm6QNL",
                            "key": "5",
                            "val": 5
                          },
                          {
                            "id": "idPNKwRUg1",
                            "key": "6",
                            "val": 6
                          },
                          {
                            "id": "idhD6e2UTC",
                            "key": "7",
                            "val": 7
                          },
                          {
                            "id": "idij509Es9",
                            "key": "8",
                            "val": 8
                          },
                          {
                            "id": "idEI4vAwFB",
                            "key": "9",
                            "val": 9
                          },
                          {
                            "id": "idsmVuXNy9",
                            "key": "10",
                            "val": 10
                          },
                          {
                            "id": "idS7Z2Bpvl",
                            "key": "11",
                            "val": 11
                          },
                          {
                            "id": "idQM8TwR0t",
                            "key": "12",
                            "val": 12
                          },
                          {
                            "id": "idkpyiDNI8",
                            "key": "13",
                            "val": 13
                          },
                          {
                            "id": "idPTNEk7SP",
                            "key": "14",
                            "val": 14
                          },
                          {
                            "id": "id825Fi8Pq",
                            "key": "15",
                            "val": 15
                          },
                          {
                            "id": "id5Ac0d5YW",
                            "key": "16",
                            "val": 16
                          },
                          {
                            "id": "id80AkXEWP",
                            "key": "17",
                            "val": 17
                          },
                          {
                            "id": "iddVBuZZyY",
                            "key": "18",
                            "val": 18
                          },
                          {
                            "id": "id1AJX1teG",
                            "key": "19",
                            "val": 19
                          },
                          {
                            "id": "idx0LNRwbj",
                            "key": "20",
                            "val": 20
                          },
                          {
                            "id": "ideVc453HW",
                            "key": "21",
                            "val": 21
                          },
                          {
                            "id": "id88mrofha",
                            "key": "22",
                            "val": 22
                          },
                          {
                            "id": "idKMvLk4UW",
                            "key": "23",
                            "val": 23
                          },
                          {
                            "id": "idQh3J3mkL",
                            "key": "24",
                            "val": 24
                          },
                          {
                            "id": "idgzRmjUi4",
                            "key": "25",
                            "val": 25
                          }
                        ]
                      }
                    },
                    "systemjs_options": null
                  },
                  "nodeType": "Scope",
                  "props": {},
                  "type": "node"
                }
              ],
              "instanceArgs": {
                "namespace": "html",
                "tag": "div"
              },
              "nodeType": "DOM",
              "props": {
                "className": "field"
              },
              "type": "node"
            },
            "text/html": [
              "<div\n",
              "    class=\"webio-mountpoint\"\n",
              "    data-webio-mountpoint=\"5680514406009079840\"\n",
              ">\n",
              "    <script>\n",
              "    if (window.require && require.defined && require.defined(\"nbextensions/webio/main\")) {\n",
              "        console.log(\"Jupyter WebIO extension detected, not mounting.\");\n",
              "    } else if (window.WebIO) {\n",
              "        WebIO.mount(\n",
              "            document.querySelector('[data-webio-mountpoint=\"5680514406009079840\"]'),\n",
              "            {\"props\":{\"className\":\"field\"},\"nodeType\":\"DOM\",\"type\":\"node\",\"instanceArgs\":{\"namespace\":\"html\",\"tag\":\"div\"},\"children\":[{\"props\":{},\"nodeType\":\"Scope\",\"type\":\"node\",\"instanceArgs\":{\"imports\":{\"data\":[{\"name\":\"knockout\",\"type\":\"js\",\"url\":\"\\/assetserver\\/fe7d3ce0ef73fffe4b07398d3eaf1c1a335ed6ac-knockout.js\"},{\"name\":\"knockout_punches\",\"type\":\"js\",\"url\":\"\\/assetserver\\/1764b91a11ffe5a6c57c5d605079ccde5ddd28a1-knockout_punches.js\"},{\"name\":null,\"type\":\"js\",\"url\":\"\\/assetserver\\/239a0709d1bd89d06f348c62cad4467504786b78-all.js\"},{\"name\":null,\"type\":\"css\",\"url\":\"\\/assetserver\\/88fd8714ccb6031b47bd164292283bc40f0e5b56-style.css\"},{\"name\":null,\"type\":\"css\",\"url\":\"\\/assetserver\\/593c6eca1d291d88375fe32d6fd7993aadb13589-main.css\"}],\"type\":\"async_block\"},\"id\":\"knockout-component-3cf6d62f-3f26-48ac-aa30-0caee7335c09\",\"handlers\":{\"_promises\":{\"importsLoaded\":[\"function (ko, koPunches) {\\n    ko.punches.enableAll();\\n    ko.bindingHandlers.numericValue = {\\n        init : function(element, valueAccessor, allBindings, data, context) {\\n            var stringified = ko.observable(ko.unwrap(valueAccessor()));\\n            stringified.subscribe(function(value) {\\n                var val = parseFloat(value);\\n                if (!isNaN(val)) {\\n                    valueAccessor()(val);\\n                }\\n            })\\n            valueAccessor().subscribe(function(value) {\\n                var str = JSON.stringify(value);\\n                if ((str == \\\"0\\\") && ([\\\"-0\\\", \\\"-0.\\\"].indexOf(stringified()) >= 0))\\n                     return;\\n                 if ([\\\"null\\\", \\\"\\\"].indexOf(str) >= 0)\\n                     return;\\n                stringified(str);\\n            })\\n            ko.applyBindingsToNode(element, { value: stringified, valueUpdate: allBindings.get('valueUpdate')}, context);\\n        }\\n    };\\n    var json_data = JSON.parse(\\\"{\\\\\\\"options_js\\\\\\\":[{\\\\\\\"key\\\\\\\":\\\\\\\"1\\\\\\\",\\\\\\\"val\\\\\\\":1,\\\\\\\"id\\\\\\\":\\\\\\\"idIaAilonk\\\\\\\"},{\\\\\\\"key\\\\\\\":\\\\\\\"2\\\\\\\",\\\\\\\"val\\\\\\\":2,\\\\\\\"id\\\\\\\":\\\\\\\"idY7Wft9o2\\\\\\\"},{\\\\\\\"key\\\\\\\":\\\\\\\"3\\\\\\\",\\\\\\\"val\\\\\\\":3,\\\\\\\"id\\\\\\\":\\\\\\\"idcraQvQ9b\\\\\\\"},{\\\\\\\"key\\\\\\\":\\\\\\\"4\\\\\\\",\\\\\\\"val\\\\\\\":4,\\\\\\\"id\\\\\\\":\\\\\\\"id1U8d3sNS\\\\\\\"},{\\\\\\\"key\\\\\\\":\\\\\\\"5\\\\\\\",\\\\\\\"val\\\\\\\":5,\\\\\\\"id\\\\\\\":\\\\\\\"id83fm6QNL\\\\\\\"},{\\\\\\\"key\\\\\\\":\\\\\\\"6\\\\\\\",\\\\\\\"val\\\\\\\":6,\\\\\\\"id\\\\\\\":\\\\\\\"idPNKwRUg1\\\\\\\"},{\\\\\\\"key\\\\\\\":\\\\\\\"7\\\\\\\",\\\\\\\"val\\\\\\\":7,\\\\\\\"id\\\\\\\":\\\\\\\"idhD6e2UTC\\\\\\\"},{\\\\\\\"key\\\\\\\":\\\\\\\"8\\\\\\\",\\\\\\\"val\\\\\\\":8,\\\\\\\"id\\\\\\\":\\\\\\\"idij509Es9\\\\\\\"},{\\\\\\\"key\\\\\\\":\\\\\\\"9\\\\\\\",\\\\\\\"val\\\\\\\":9,\\\\\\\"id\\\\\\\":\\\\\\\"idEI4vAwFB\\\\\\\"},{\\\\\\\"key\\\\\\\":\\\\\\\"10\\\\\\\",\\\\\\\"val\\\\\\\":10,\\\\\\\"id\\\\\\\":\\\\\\\"idsmVuXNy9\\\\\\\"},{\\\\\\\"key\\\\\\\":\\\\\\\"11\\\\\\\",\\\\\\\"val\\\\\\\":11,\\\\\\\"id\\\\\\\":\\\\\\\"idS7Z2Bpvl\\\\\\\"},{\\\\\\\"key\\\\\\\":\\\\\\\"12\\\\\\\",\\\\\\\"val\\\\\\\":12,\\\\\\\"id\\\\\\\":\\\\\\\"idQM8TwR0t\\\\\\\"},{\\\\\\\"key\\\\\\\":\\\\\\\"13\\\\\\\",\\\\\\\"val\\\\\\\":13,\\\\\\\"id\\\\\\\":\\\\\\\"idkpyiDNI8\\\\\\\"},{\\\\\\\"key\\\\\\\":\\\\\\\"14\\\\\\\",\\\\\\\"val\\\\\\\":14,\\\\\\\"id\\\\\\\":\\\\\\\"idPTNEk7SP\\\\\\\"},{\\\\\\\"key\\\\\\\":\\\\\\\"15\\\\\\\",\\\\\\\"val\\\\\\\":15,\\\\\\\"id\\\\\\\":\\\\\\\"id825Fi8Pq\\\\\\\"},{\\\\\\\"key\\\\\\\":\\\\\\\"16\\\\\\\",\\\\\\\"val\\\\\\\":16,\\\\\\\"id\\\\\\\":\\\\\\\"id5Ac0d5YW\\\\\\\"},{\\\\\\\"key\\\\\\\":\\\\\\\"17\\\\\\\",\\\\\\\"val\\\\\\\":17,\\\\\\\"id\\\\\\\":\\\\\\\"id80AkXEWP\\\\\\\"},{\\\\\\\"key\\\\\\\":\\\\\\\"18\\\\\\\",\\\\\\\"val\\\\\\\":18,\\\\\\\"id\\\\\\\":\\\\\\\"iddVBuZZyY\\\\\\\"},{\\\\\\\"key\\\\\\\":\\\\\\\"19\\\\\\\",\\\\\\\"val\\\\\\\":19,\\\\\\\"id\\\\\\\":\\\\\\\"id1AJX1teG\\\\\\\"},{\\\\\\\"key\\\\\\\":\\\\\\\"20\\\\\\\",\\\\\\\"val\\\\\\\":20,\\\\\\\"id\\\\\\\":\\\\\\\"idx0LNRwbj\\\\\\\"},{\\\\\\\"key\\\\\\\":\\\\\\\"21\\\\\\\",\\\\\\\"val\\\\\\\":21,\\\\\\\"id\\\\\\\":\\\\\\\"ideVc453HW\\\\\\\"},{\\\\\\\"key\\\\\\\":\\\\\\\"22\\\\\\\",\\\\\\\"val\\\\\\\":22,\\\\\\\"id\\\\\\\":\\\\\\\"id88mrofha\\\\\\\"},{\\\\\\\"key\\\\\\\":\\\\\\\"23\\\\\\\",\\\\\\\"val\\\\\\\":23,\\\\\\\"id\\\\\\\":\\\\\\\"idKMvLk4UW\\\\\\\"},{\\\\\\\"key\\\\\\\":\\\\\\\"24\\\\\\\",\\\\\\\"val\\\\\\\":24,\\\\\\\"id\\\\\\\":\\\\\\\"idQh3J3mkL\\\\\\\"},{\\\\\\\"key\\\\\\\":\\\\\\\"25\\\\\\\",\\\\\\\"val\\\\\\\":25,\\\\\\\"id\\\\\\\":\\\\\\\"idgzRmjUi4\\\\\\\"}],\\\\\\\"index\\\\\\\":1}\\\");\\n    var self = this;\\n    function AppViewModel() {\\n        for (var key in json_data) {\\n            var el = json_data[key];\\n            this[key] = Array.isArray(el) ? ko.observableArray(el) : ko.observable(el);\\n        }\\n        \\n        \\n        [this[\\\"options_js\\\"].subscribe((function (val){!(this.valueFromJulia[\\\"options_js\\\"]) ? (_webIOScope.setObservableValue({\\\"name\\\":\\\"options_js\\\",\\\"scope\\\":\\\"knockout-component-3cf6d62f-3f26-48ac-aa30-0caee7335c09\\\",\\\"id\\\":\\\"ob_34\\\",\\\"type\\\":\\\"observable\\\"},val)) : undefined; return this.valueFromJulia[\\\"options_js\\\"]=false}),self),this[\\\"index\\\"].subscribe((function (val){!(this.valueFromJulia[\\\"index\\\"]) ? (_webIOScope.setObservableValue({\\\"name\\\":\\\"index\\\",\\\"scope\\\":\\\"knockout-component-3cf6d62f-3f26-48ac-aa30-0caee7335c09\\\",\\\"id\\\":\\\"ob_33\\\",\\\"type\\\":\\\"observable\\\"},val)) : undefined; return this.valueFromJulia[\\\"index\\\"]=false}),self)]\\n        \\n    }\\n    self.model = new AppViewModel();\\n    self.valueFromJulia = {};\\n    for (var key in json_data) {\\n        self.valueFromJulia[key] = false;\\n    }\\n    ko.applyBindings(self.model, self.dom);\\n}\\n\"]},\"options_js\":[\"(function (val){return (val!=this.model[\\\"options_js\\\"]()) ? (this.valueFromJulia[\\\"options_js\\\"]=true, this.model[\\\"options_js\\\"](val)) : undefined})\"],\"index\":[\"(function (val){return (val!=this.model[\\\"index\\\"]()) ? (this.valueFromJulia[\\\"index\\\"]=true, this.model[\\\"index\\\"](val)) : undefined})\"]},\"systemjs_options\":null,\"observables\":{\"options_js\":{\"sync\":false,\"id\":\"ob_34\",\"value\":[{\"key\":\"1\",\"val\":1,\"id\":\"idIaAilonk\"},{\"key\":\"2\",\"val\":2,\"id\":\"idY7Wft9o2\"},{\"key\":\"3\",\"val\":3,\"id\":\"idcraQvQ9b\"},{\"key\":\"4\",\"val\":4,\"id\":\"id1U8d3sNS\"},{\"key\":\"5\",\"val\":5,\"id\":\"id83fm6QNL\"},{\"key\":\"6\",\"val\":6,\"id\":\"idPNKwRUg1\"},{\"key\":\"7\",\"val\":7,\"id\":\"idhD6e2UTC\"},{\"key\":\"8\",\"val\":8,\"id\":\"idij509Es9\"},{\"key\":\"9\",\"val\":9,\"id\":\"idEI4vAwFB\"},{\"key\":\"10\",\"val\":10,\"id\":\"idsmVuXNy9\"},{\"key\":\"11\",\"val\":11,\"id\":\"idS7Z2Bpvl\"},{\"key\":\"12\",\"val\":12,\"id\":\"idQM8TwR0t\"},{\"key\":\"13\",\"val\":13,\"id\":\"idkpyiDNI8\"},{\"key\":\"14\",\"val\":14,\"id\":\"idPTNEk7SP\"},{\"key\":\"15\",\"val\":15,\"id\":\"id825Fi8Pq\"},{\"key\":\"16\",\"val\":16,\"id\":\"id5Ac0d5YW\"},{\"key\":\"17\",\"val\":17,\"id\":\"id80AkXEWP\"},{\"key\":\"18\",\"val\":18,\"id\":\"iddVBuZZyY\"},{\"key\":\"19\",\"val\":19,\"id\":\"id1AJX1teG\"},{\"key\":\"20\",\"val\":20,\"id\":\"idx0LNRwbj\"},{\"key\":\"21\",\"val\":21,\"id\":\"ideVc453HW\"},{\"key\":\"22\",\"val\":22,\"id\":\"id88mrofha\"},{\"key\":\"23\",\"val\":23,\"id\":\"idKMvLk4UW\"},{\"key\":\"24\",\"val\":24,\"id\":\"idQh3J3mkL\"},{\"key\":\"25\",\"val\":25,\"id\":\"idgzRmjUi4\"}]},\"index\":{\"sync\":true,\"id\":\"ob_33\",\"value\":1}}},\"children\":[{\"props\":{\"attributes\":{\"style\":\"display:flex; justify-content:center; align-items:center;\"}},\"nodeType\":\"DOM\",\"type\":\"node\",\"instanceArgs\":{\"namespace\":\"html\",\"tag\":\"div\"},\"children\":[{\"props\":{\"attributes\":{\"style\":\"text-align:right;width:18%\"}},\"nodeType\":\"DOM\",\"type\":\"node\",\"instanceArgs\":{\"namespace\":\"html\",\"tag\":\"div\"},\"children\":[{\"props\":{\"className\":\"interact \",\"style\":{\"padding\":\"5px 10px 0px 10px\"}},\"nodeType\":\"DOM\",\"type\":\"node\",\"instanceArgs\":{\"namespace\":\"html\",\"tag\":\"label\"},\"children\":[\"Electrode\"]}]},{\"props\":{\"attributes\":{\"style\":\"flex-grow:1; margin: 0 2%\"}},\"nodeType\":\"DOM\",\"type\":\"node\",\"instanceArgs\":{\"namespace\":\"html\",\"tag\":\"div\"},\"children\":[{\"props\":{\"attributes\":{\"data-bind\":\"foreach : options_js\"},\"className\":\"field is-grouped has-addons is-oneline is-centered\"},\"nodeType\":\"DOM\",\"type\":\"node\",\"instanceArgs\":{\"namespace\":\"html\",\"tag\":\"div\"},\"children\":[{\"props\":{\"attributes\":{\"data-bind\":\"click: function () {$root.index(val)}, css: {'is-primary is-selected' : $root.index() == val, 'button is-fullwidth' : true}\"}},\"nodeType\":\"DOM\",\"type\":\"node\",\"instanceArgs\":{\"namespace\":\"html\",\"tag\":\"button\"},\"children\":[{\"props\":{\"attributes\":{\"data-bind\":\"text : key\"}},\"nodeType\":\"DOM\",\"type\":\"node\",\"instanceArgs\":{\"namespace\":\"html\",\"tag\":\"label\"},\"children\":[]}]}]}]},{\"props\":{\"attributes\":{\"style\":\"width:18%\"}},\"nodeType\":\"DOM\",\"type\":\"node\",\"instanceArgs\":{\"namespace\":\"html\",\"tag\":\"div\"},\"children\":[{\"props\":{},\"nodeType\":\"DOM\",\"type\":\"node\",\"instanceArgs\":{\"namespace\":\"html\",\"tag\":\"div\"},\"children\":[]}]}]}]}]},\n",
              "        );\n",
              "    } else {\n",
              "        document\n",
              "            .querySelector('[data-webio-mountpoint=\"5680514406009079840\"]')\n",
              "            .innerHTML = '<strong>WebIO not detected.</strong>';\n",
              "    }\n",
              "    </script>\n",
              "</div>\n"
            ],
            "text/plain": [
              "Widget{:togglebuttons,Any}(OrderedDict{Symbol,Any}(:options=>Observable{Array{Any,1}} with 2 listeners. Value:\n",
              "Any[0x0001, 0x0002, 0x0003, 0x0004, 0x0005, 0x0006, 0x0007, 0x0008, 0x0009, 0x000a  …  0x0010, 0x0011, 0x0012, 0x0013, 0x0014, 0x0015, 0x0016, 0x0017, 0x0018, 0x0019],:index=>Observable{Any} with 2 listeners. Value:\n",
              "1,:vals2idxs=>Observable{Any} with 1 listeners. Value:\n",
              "Any[0x0001, 0x0002, 0x0003, 0x0004, 0x0005, 0x0006, 0x0007, 0x0008, 0x0009, 0x000a  …  0x0010, 0x0011, 0x0012, 0x0013, 0x0014, 0x0015, 0x0016, 0x0017, 0x0018, 0x0019]), Observable{Any} with 1 listeners. Value:\n",
              "0x0001, Scope(\"knockout-component-3cf6d62f-3f26-48ac-aa30-0caee7335c09\", Node{WebIO.DOM}(WebIO.DOM(:html, :div), Any[Node{DOM}(DOM(:html, :div), Any[Node{DOM}(DOM(:html, :label), Any[\"Electrode\"], Dict{Symbol,Any}(:className=>\"interact \",:style=>Dict{Any,Any}(:padding=>\"5px 10px 0px 10px\")), 1)], Dict{Symbol,Any}(:attributes=>Dict(\"style\"=>\"text-align:right;width:18%\")), 2), Node{DOM}(DOM(:html, :div), Any[Node{DOM}(DOM(:html, :div), Any[Node{DOM}(DOM(:html, :button), Any[Node{DOM}(DOM(:html, :label), Any[], Dict{Symbol,Any}(:attributes=>Dict(\"data-bind\"=>\"text : key\")), 0)], Dict{Symbol,Any}(:attributes=>Dict(\"data-bind\"=>\"click: function () {\\$root.index(val)}, css: {'is-primary is-selected' : \\$root.index() == val, 'button is-fullwidth' : true}\")), 1)], Dict{Symbol,Any}(:attributes=>(\"data-bind\"=>\"foreach : options_js\"),:className=>\"field is-grouped has-addons is-oneline is-centered\"), 2)], Dict{Symbol,Any}(:attributes=>Dict(\"style\"=>\"flex-grow:1; margin: 0 2%\")), 3), Node{DOM}(DOM(:html, :div), Any[Node{DOM}(DOM(:html, :div), Any[], Dict{Symbol,Any}(), 0)], Dict{Symbol,Any}(:attributes=>Dict(\"style\"=>\"width:18%\")), 1)], Dict{Symbol,Any}(:attributes=>Dict(\"style\"=>\"display:flex; justify-content:center; align-items:center;\")), 9), Dict{String,Tuple{Observables.AbstractObservable,Union{Nothing, Bool}}}(\"options_js\"=>(Observable{Any} with 1 listeners. Value:\n",
              "OrderedDict[OrderedDict{String,Any}(\"key\"=>\"1\",\"val\"=>1,\"id\"=>\"idIaAilonk\"), OrderedDict{String,Any}(\"key\"=>\"2\",\"val\"=>2,\"id\"=>\"idY7Wft9o2\"), OrderedDict{String,Any}(\"key\"=>\"3\",\"val\"=>3,\"id\"=>\"idcraQvQ9b\"), OrderedDict{String,Any}(\"key\"=>\"4\",\"val\"=>4,\"id\"=>\"id1U8d3sNS\"), OrderedDict{String,Any}(\"key\"=>\"5\",\"val\"=>5,\"id\"=>\"id83fm6QNL\"), OrderedDict{String,Any}(\"key\"=>\"6\",\"val\"=>6,\"id\"=>\"idPNKwRUg1\"), OrderedDict{String,Any}(\"key\"=>\"7\",\"val\"=>7,\"id\"=>\"idhD6e2UTC\"), OrderedDict{String,Any}(\"key\"=>\"8\",\"val\"=>8,\"id\"=>\"idij509Es9\"), OrderedDict{String,Any}(\"key\"=>\"9\",\"val\"=>9,\"id\"=>\"idEI4vAwFB\"), OrderedDict{String,Any}(\"key\"=>\"10\",\"val\"=>10,\"id\"=>\"idsmVuXNy9\")  …  OrderedDict{String,Any}(\"key\"=>\"16\",\"val\"=>16,\"id\"=>\"id5Ac0d5YW\"), OrderedDict{String,Any}(\"key\"=>\"17\",\"val\"=>17,\"id\"=>\"id80AkXEWP\"), OrderedDict{String,Any}(\"key\"=>\"18\",\"val\"=>18,\"id\"=>\"iddVBuZZyY\"), OrderedDict{String,Any}(\"key\"=>\"19\",\"val\"=>19,\"id\"=>\"id1AJX1teG\"), OrderedDict{String,Any}(\"key\"=>\"20\",\"val\"=>20,\"id\"=>\"idx0LNRwbj\"), OrderedDict{String,Any}(\"key\"=>\"21\",\"val\"=>21,\"id\"=>\"ideVc453HW\"), OrderedDict{String,Any}(\"key\"=>\"22\",\"val\"=>22,\"id\"=>\"id88mrofha\"), OrderedDict{String,Any}(\"key\"=>\"23\",\"val\"=>23,\"id\"=>\"idKMvLk4UW\"), OrderedDict{String,Any}(\"key\"=>\"24\",\"val\"=>24,\"id\"=>\"idQh3J3mkL\"), OrderedDict{String,Any}(\"key\"=>\"25\",\"val\"=>25,\"id\"=>\"idgzRmjUi4\")], nothing),\"index\"=>(Observable{Any} with 2 listeners. Value:\n",
              "1, nothing)), Set(String[]), nothing, Any[\"knockout\"=>\"C:\\\\Users\\\\Alex\\\\.julia\\\\packages\\\\Knockout\\\\JIqpG\\\\src\\\\..\\\\assets\\\\knockout.js\", \"knockout_punches\"=>\"C:\\\\Users\\\\Alex\\\\.julia\\\\packages\\\\Knockout\\\\JIqpG\\\\src\\\\..\\\\assets\\\\knockout_punches.js\", \"C:\\\\Users\\\\Alex\\\\.julia\\\\packages\\\\InteractBase\\\\Q4IkI\\\\src\\\\..\\\\assets\\\\all.js\", \"C:\\\\Users\\\\Alex\\\\.julia\\\\packages\\\\InteractBase\\\\Q4IkI\\\\src\\\\..\\\\assets\\\\style.css\", \"C:\\\\Users\\\\Alex\\\\.julia\\\\packages\\\\InteractBulma\\\\Ohu5Y\\\\src\\\\..\\\\assets\\\\main.css\"], Dict{Any,Any}(\"_promises\"=>Dict{Any,Any}(\"importsLoaded\"=>Any[JSString(\"function (ko, koPunches) {\\n    ko.punches.enableAll();\\n    ko.bindingHandlers.numericValue = {\\n        init : function(element, valueAccessor, allBindings, data, context) {\\n            var stringified = ko.observable(ko.unwrap(valueAccessor()));\\n            stringified.subscribe(function(value) {\\n                var val = parseFloat(value);\\n                if (!isNaN(val)) {\\n                    valueAccessor()(val);\\n                }\\n            })\\n            valueAccessor().subscribe(function(value) {\\n                var str = JSON.stringify(value);\\n                if ((str == \\\"0\\\") && ([\\\"-0\\\", \\\"-0.\\\"].indexOf(stringified()) >= 0))\\n                     return;\\n                 if ([\\\"null\\\", \\\"\\\"].indexOf(str) >= 0)\\n                     return;\\n                stringified(str);\\n            })\\n            ko.applyBindingsToNode(element, { value: stringified, valueUpdate: allBindings.get('valueUpdate')}, context);\\n        }\\n    };\\n    var json_data = JSON.parse(\\\"{\\\\\\\"options_js\\\\\\\":[{\\\\\\\"key\\\\\\\":\\\\\\\"1\\\\\\\",\\\\\\\"val\\\\\\\":1,\\\\\\\"id\\\\\\\":\\\\\\\"idIaAilonk\\\\\\\"},{\\\\\\\"key\\\\\\\":\\\\\\\"2\\\\\\\",\\\\\\\"val\\\\\\\":2,\\\\\\\"id\\\\\\\":\\\\\\\"idY7Wft9o2\\\\\\\"},{\\\\\\\"key\\\\\\\":\\\\\\\"3\\\\\\\",\\\\\\\"val\\\\\\\":3,\\\\\\\"id\\\\\\\":\\\\\\\"idcraQvQ9b\\\\\\\"},{\\\\\\\"key\\\\\\\":\\\\\\\"4\\\\\\\",\\\\\\\"val\\\\\\\":4,\\\\\\\"id\\\\\\\":\\\\\\\"id1U8d3sNS\\\\\\\"},{\\\\\\\"key\\\\\\\":\\\\\\\"5\\\\\\\",\\\\\\\"val\\\\\\\":5,\\\\\\\"id\\\\\\\":\\\\\\\"id83fm6QNL\\\\\\\"},{\\\\\\\"key\\\\\\\":\\\\\\\"6\\\\\\\",\\\\\\\"val\\\\\\\":6,\\\\\\\"id\\\\\\\":\\\\\\\"idPNKwRUg1\\\\\\\"},{\\\\\\\"key\\\\\\\":\\\\\\\"7\\\\\\\",\\\\\\\"val\\\\\\\":7,\\\\\\\"id\\\\\\\":\\\\\\\"idhD6e2UTC\\\\\\\"},{\\\\\\\"key\\\\\\\":\\\\\\\"8\\\\\\\",\\\\\\\"val\\\\\\\":8,\\\\\\\"id\\\\\\\":\\\\\\\"idij509Es9\\\\\\\"},{\\\\\\\"key\\\\\\\":\\\\\\\"9\\\\\\\",\\\\\\\"val\\\\\\\":9,\\\\\\\"id\\\\\\\":\\\\\\\"idEI4vAwFB\\\\\\\"},{\\\\\\\"key\\\\\\\":\\\\\\\"10\\\\\\\",\\\\\\\"val\\\\\\\":10,\\\\\\\"id\\\\\\\":\\\\\\\"idsmVuXNy9\\\\\\\"},{\\\\\\\"key\\\\\\\":\\\\\\\"11\\\\\\\",\\\\\\\"val\\\\\\\":11,\\\\\\\"id\\\\\\\":\\\\\\\"idS7Z2Bpvl\\\\\\\"},{\\\\\\\"key\\\\\\\":\\\\\\\"12\\\\\\\",\\\\\\\"val\\\\\\\":12,\\\\\\\"id\\\\\\\":\\\\\\\"idQM8TwR0t\\\\\\\"},{\\\\\\\"key\\\\\\\":\\\\\\\"13\\\\\\\",\\\\\\\"val\\\\\\\":13,\\\\\\\"id\\\\\\\":\\\\\\\"idkpyiDNI8\\\\\\\"},{\\\\\\\"key\\\\\\\":\\\\\\\"14\\\\\\\",\\\\\\\"val\\\\\\\":14,\\\\\\\"id\\\\\\\":\\\\\\\"idPTNEk7SP\\\\\\\"},{\\\\\\\"key\\\\\\\":\\\\\\\"15\\\\\\\",\\\\\\\"val\\\\\\\":15,\\\\\\\"id\\\\\\\":\\\\\\\"id825Fi8Pq\\\\\\\"},{\\\\\\\"key\\\\\\\":\\\\\\\"16\\\\\\\",\\\\\\\"val\\\\\\\":16,\\\\\\\"id\\\\\\\":\\\\\\\"id5Ac0d5YW\\\\\\\"},{\\\\\\\"key\\\\\\\":\\\\\\\"17\\\\\\\",\\\\\\\"val\\\\\\\":17,\\\\\\\"id\\\\\\\":\\\\\\\"id80AkXEWP\\\\\\\"},{\\\\\\\"key\\\\\\\":\\\\\\\"18\\\\\\\",\\\\\\\"val\\\\\\\":18,\\\\\\\"id\\\\\\\":\\\\\\\"iddVBuZZyY\\\\\\\"},{\\\\\\\"key\\\\\\\":\\\\\\\"19\\\\\\\",\\\\\\\"val\\\\\\\":19,\\\\\\\"id\\\\\\\":\\\\\\\"id1AJX1teG\\\\\\\"},{\\\\\\\"key\\\\\\\":\\\\\\\"20\\\\\\\",\\\\\\\"val\\\\\\\":20,\\\\\\\"id\\\\\\\":\\\\\\\"idx0LNRwbj\\\\\\\"},{\\\\\\\"key\\\\\\\":\\\\\\\"21\\\\\\\",\\\\\\\"val\\\\\\\":21,\\\\\\\"id\\\\\\\":\\\\\\\"ideVc453HW\\\\\\\"},{\\\\\\\"key\\\\\\\":\\\\\\\"22\\\\\\\",\\\\\\\"val\\\\\\\":22,\\\\\\\"id\\\\\\\":\\\\\\\"id88mrofha\\\\\\\"},{\\\\\\\"key\\\\\\\":\\\\\\\"23\\\\\\\",\\\\\\\"val\\\\\\\":23,\\\\\\\"id\\\\\\\":\\\\\\\"idKMvLk4UW\\\\\\\"},{\\\\\\\"key\\\\\\\":\\\\\\\"24\\\\\\\",\\\\\\\"val\\\\\\\":24,\\\\\\\"id\\\\\\\":\\\\\\\"idQh3J3mkL\\\\\\\"},{\\\\\\\"key\\\\\\\":\\\\\\\"25\\\\\\\",\\\\\\\"val\\\\\\\":25,\\\\\\\"id\\\\\\\":\\\\\\\"idgzRmjUi4\\\\\\\"}],\\\\\\\"index\\\\\\\":1}\\\");\\n    var self = this;\\n    function AppViewModel() {\\n        for (var key in json_data) {\\n            var el = json_data[key];\\n            this[key] = Array.isArray(el) ? ko.observableArray(el) : ko.observable(el);\\n        }\\n        \\n        \\n        [this[\\\"options_js\\\"].subscribe((function (val){!(this.valueFromJulia[\\\"options_js\\\"]) ? (_webIOScope.setObservableValue({\\\"name\\\":\\\"options_js\\\",\\\"scope\\\":\\\"knockout-component-3cf6d62f-3f26-48ac-aa30-0caee7335c09\\\",\\\"id\\\":\\\"ob_34\\\",\\\"type\\\":\\\"observable\\\"},val)) : undefined; return this.valueFromJulia[\\\"options_js\\\"]=false}),self),this[\\\"index\\\"].subscribe((function (val){!(this.valueFromJulia[\\\"index\\\"]) ? (_webIOScope.setObservableValue({\\\"name\\\":\\\"index\\\",\\\"scope\\\":\\\"knockout-component-3cf6d62f-3f26-48ac-aa30-0caee7335c09\\\",\\\"id\\\":\\\"ob_33\\\",\\\"type\\\":\\\"observable\\\"},val)) : undefined; return this.valueFromJulia[\\\"index\\\"]=false}),self)]\\n        \\n    }\\n    self.model = new AppViewModel();\\n    self.valueFromJulia = {};\\n    for (var key in json_data) {\\n        self.valueFromJulia[key] = false;\\n    }\\n    ko.applyBindings(self.model, self.dom);\\n}\\n\")]),\"options_js\"=>Any[JSString(\"(function (val){return (val!=this.model[\\\"options_js\\\"]()) ? (this.valueFromJulia[\\\"options_js\\\"]=true, this.model[\\\"options_js\\\"](val)) : undefined})\")],\"index\"=>Any[JSString(\"(function (val){return (val!=this.model[\\\"index\\\"]()) ? (this.valueFromJulia[\\\"index\\\"]=true, this.model[\\\"index\\\"](val)) : undefined})\")]), WebIO.ConnectionPool(Channel{Any}(sz_max:9223372036854775807,sz_curr:0), Set(AbstractConnection[]), Channel{AbstractConnection}(sz_max:32,sz_curr:0))), getfield(Base, Symbol(\"##52#53\")){getfield(WebIO, Symbol(\"#dom#13\")){getfield(WebIO, Symbol(\"##dom#11#12\")){Dict{Any,Any},WebIO.DOM}},typeof(scope)}(getfield(WebIO, Symbol(\"#dom#13\")){getfield(WebIO, Symbol(\"##dom#11#12\")){Dict{Any,Any},WebIO.DOM}}(getfield(WebIO, Symbol(\"##dom#11#12\")){Dict{Any,Any},WebIO.DOM}(Dict{Any,Any}(:className=>\"field\"), WebIO.DOM(:html, :div))), Widgets.scope))"
            ]
          },
          "metadata": {
            "application/vnd.webio.node+json": {
              "kernelId": "6ba96395-7d2f-47a6-b749-b5f6fd6469da"
            }
          }
        }
      ],
      "execution_count": 5,
      "metadata": {}
    },
    {
      "cell_type": "code",
      "source": [
        "eididx = findfirst(spikeeid.==eid[]);est = spiketime[eididx];esu = spikeuid[eididx];euuid = spikeuuid[eididx]\n",
        "sts,ns,ws,is = subrv(est,condon.-preicidur,condoff.+suficidur,isminzero=true)\n",
        "sts = map(x->x.-preicidur,sts)\n",
        "plotspiketrain(sts,uids=map(i->esu[i],is),timeline=[0,mconddur],title=\"Electrode$(eid[])\")"
      ],
      "outputs": [
        {
          "output_type": "execute_result",
          "execution_count": 6,
          "data": {
            "image/svg+xml": [
              "<?xml version=\"1.0\" encoding=\"utf-8\"?>\n",
              "<svg xmlns=\"http://www.w3.org/2000/svg\" xmlns:xlink=\"http://www.w3.org/1999/xlink\" width=\"650\" height=\"420\" viewBox=\"0 0 2600 1680\">\n",
              "<defs>\n",
              "  <clipPath id=\"clip0000\">\n",
              "    <rect x=\"0\" y=\"0\" width=\"2000\" height=\"2000\"/>\n",
              "  </clipPath>\n",
              "</defs>\n",
              "<defs>\n",
              "  <clipPath id=\"clip0001\">\n",
              "    <rect x=\"0\" y=\"0\" width=\"2600\" height=\"1680\"/>\n",
              "  </clipPath>\n",
              "</defs>\n",
              "<polygon clip-path=\"url(#clip0001)\" points=\"\n",
              "0,1680 2600,1680 2600,0 0,0 \n",
              "  \" fill=\"#ffffff\" fill-rule=\"evenodd\" fill-opacity=\"1\"/>\n",
              "<defs>\n",
              "  <clipPath id=\"clip0002\">\n",
              "    <rect x=\"520\" y=\"0\" width=\"1821\" height=\"1680\"/>\n",
              "  </clipPath>\n",
              "</defs>\n",
              "<polygon clip-path=\"url(#clip0001)\" points=\"\n",
              "211.005,1521.51 2521.26,1521.51 2521.26,125.984 211.005,125.984 \n",
              "  \" fill=\"#ffffff\" fill-rule=\"evenodd\" fill-opacity=\"1\"/>\n",
              "<defs>\n",
              "  <clipPath id=\"clip0003\">\n",
              "    <rect x=\"211\" y=\"125\" width=\"2311\" height=\"1397\"/>\n",
              "  </clipPath>\n",
              "</defs>\n",
              "<polyline clip-path=\"url(#clip0001)\" style=\"stroke:#000000; stroke-width:4; stroke-opacity:1; fill:none\" points=\"\n",
              "  211.005,1521.51 2521.26,1521.51 \n",
              "  \"/>\n",
              "<polyline clip-path=\"url(#clip0001)\" style=\"stroke:#000000; stroke-width:4; stroke-opacity:1; fill:none\" points=\"\n",
              "  211.005,1521.51 211.005,125.984 \n",
              "  \"/>\n",
              "<polyline clip-path=\"url(#clip0001)\" style=\"stroke:#000000; stroke-width:4; stroke-opacity:1; fill:none\" points=\"\n",
              "  599.217,1521.51 599.217,1500.58 \n",
              "  \"/>\n",
              "<polyline clip-path=\"url(#clip0001)\" style=\"stroke:#000000; stroke-width:4; stroke-opacity:1; fill:none\" points=\"\n",
              "  1035.67,1521.51 1035.67,1500.58 \n",
              "  \"/>\n",
              "<polyline clip-path=\"url(#clip0001)\" style=\"stroke:#000000; stroke-width:4; stroke-opacity:1; fill:none\" points=\"\n",
              "  1472.12,1521.51 1472.12,1500.58 \n",
              "  \"/>\n",
              "<polyline clip-path=\"url(#clip0001)\" style=\"stroke:#000000; stroke-width:4; stroke-opacity:1; fill:none\" points=\"\n",
              "  1908.57,1521.51 1908.57,1500.58 \n",
              "  \"/>\n",
              "<polyline clip-path=\"url(#clip0001)\" style=\"stroke:#000000; stroke-width:4; stroke-opacity:1; fill:none\" points=\"\n",
              "  2345.02,1521.51 2345.02,1500.58 \n",
              "  \"/>\n",
              "<polyline clip-path=\"url(#clip0001)\" style=\"stroke:#000000; stroke-width:4; stroke-opacity:1; fill:none\" points=\"\n",
              "  211.005,1496.49 245.659,1496.49 \n",
              "  \"/>\n",
              "<polyline clip-path=\"url(#clip0001)\" style=\"stroke:#000000; stroke-width:4; stroke-opacity:1; fill:none\" points=\"\n",
              "  211.005,1207.14 245.659,1207.14 \n",
              "  \"/>\n",
              "<polyline clip-path=\"url(#clip0001)\" style=\"stroke:#000000; stroke-width:4; stroke-opacity:1; fill:none\" points=\"\n",
              "  211.005,917.788 245.659,917.788 \n",
              "  \"/>\n",
              "<polyline clip-path=\"url(#clip0001)\" style=\"stroke:#000000; stroke-width:4; stroke-opacity:1; fill:none\" points=\"\n",
              "  211.005,628.439 245.659,628.439 \n",
              "  \"/>\n",
              "<polyline clip-path=\"url(#clip0001)\" style=\"stroke:#000000; stroke-width:4; stroke-opacity:1; fill:none\" points=\"\n",
              "  211.005,339.09 245.659,339.09 \n",
              "  \"/>\n",
              "<g clip-path=\"url(#clip0001)\">\n",
              "<text style=\"fill:#000000; fill-opacity:1; font-family:Arial,Helvetica Neue,Helvetica,sans-serif; font-size:48px; text-anchor:middle;\" transform=\"rotate(0, 599.217, 1576.51)\" x=\"599.217\" y=\"1576.51\">0</text>\n",
              "</g>\n",
              "<g clip-path=\"url(#clip0001)\">\n",
              "<text style=\"fill:#000000; fill-opacity:1; font-family:Arial,Helvetica Neue,Helvetica,sans-serif; font-size:48px; text-anchor:middle;\" transform=\"rotate(0, 1035.67, 1576.51)\" x=\"1035.67\" y=\"1576.51\">200</text>\n",
              "</g>\n",
              "<g clip-path=\"url(#clip0001)\">\n",
              "<text style=\"fill:#000000; fill-opacity:1; font-family:Arial,Helvetica Neue,Helvetica,sans-serif; font-size:48px; text-anchor:middle;\" transform=\"rotate(0, 1472.12, 1576.51)\" x=\"1472.12\" y=\"1576.51\">400</text>\n",
              "</g>\n",
              "<g clip-path=\"url(#clip0001)\">\n",
              "<text style=\"fill:#000000; fill-opacity:1; font-family:Arial,Helvetica Neue,Helvetica,sans-serif; font-size:48px; text-anchor:middle;\" transform=\"rotate(0, 1908.57, 1576.51)\" x=\"1908.57\" y=\"1576.51\">600</text>\n",
              "</g>\n",
              "<g clip-path=\"url(#clip0001)\">\n",
              "<text style=\"fill:#000000; fill-opacity:1; font-family:Arial,Helvetica Neue,Helvetica,sans-serif; font-size:48px; text-anchor:middle;\" transform=\"rotate(0, 2345.02, 1576.51)\" x=\"2345.02\" y=\"1576.51\">800</text>\n",
              "</g>\n",
              "<g clip-path=\"url(#clip0001)\">\n",
              "<text style=\"fill:#000000; fill-opacity:1; font-family:Arial,Helvetica Neue,Helvetica,sans-serif; font-size:48px; text-anchor:end;\" transform=\"rotate(0, 185.005, 1513.99)\" x=\"185.005\" y=\"1513.99\">0</text>\n",
              "</g>\n",
              "<g clip-path=\"url(#clip0001)\">\n",
              "<text style=\"fill:#000000; fill-opacity:1; font-family:Arial,Helvetica Neue,Helvetica,sans-serif; font-size:48px; text-anchor:end;\" transform=\"rotate(0, 185.005, 1224.64)\" x=\"185.005\" y=\"1224.64\">20</text>\n",
              "</g>\n",
              "<g clip-path=\"url(#clip0001)\">\n",
              "<text style=\"fill:#000000; fill-opacity:1; font-family:Arial,Helvetica Neue,Helvetica,sans-serif; font-size:48px; text-anchor:end;\" transform=\"rotate(0, 185.005, 935.288)\" x=\"185.005\" y=\"935.288\">40</text>\n",
              "</g>\n",
              "<g clip-path=\"url(#clip0001)\">\n",
              "<text style=\"fill:#000000; fill-opacity:1; font-family:Arial,Helvetica Neue,Helvetica,sans-serif; font-size:48px; text-anchor:end;\" transform=\"rotate(0, 185.005, 645.939)\" x=\"185.005\" y=\"645.939\">60</text>\n",
              "</g>\n",
              "<g clip-path=\"url(#clip0001)\">\n",
              "<text style=\"fill:#000000; fill-opacity:1; font-family:Arial,Helvetica Neue,Helvetica,sans-serif; font-size:48px; text-anchor:end;\" transform=\"rotate(0, 185.005, 356.59)\" x=\"185.005\" y=\"356.59\">80</text>\n",
              "</g>\n",
              "<g clip-path=\"url(#clip0001)\">\n",
              "<text style=\"fill:#000000; fill-opacity:1; font-family:Arial,Helvetica Neue,Helvetica,sans-serif; font-size:84px; text-anchor:middle;\" transform=\"rotate(0, 1366.13, 73.2)\" x=\"1366.13\" y=\"73.2\">Electrode7</text>\n",
              "</g>\n",
              "<g clip-path=\"url(#clip0001)\">\n",
              "<text style=\"fill:#000000; fill-opacity:1; font-family:Arial,Helvetica Neue,Helvetica,sans-serif; font-size:66px; text-anchor:middle;\" transform=\"rotate(0, 1366.13, 1670.4)\" x=\"1366.13\" y=\"1670.4\">Time (ms)</text>\n",
              "</g>\n",
              "<g clip-path=\"url(#clip0001)\">\n",
              "<text style=\"fill:#000000; fill-opacity:1; font-family:Arial,Helvetica Neue,Helvetica,sans-serif; font-size:66px; text-anchor:middle;\" transform=\"rotate(-90, 57.6, 823.749)\" x=\"57.6\" y=\"823.749\">Trial</text>\n",
              "</g>\n",
              "<line clip-path=\"url(#clip0003)\" x1=\"374.009\" y1=\"1474.02\" x2=\"374.009\" y2=\"1490.02\" style=\"stroke:#000000; stroke-width:4; stroke-opacity:0.8\"/>\n",
              "<line clip-path=\"url(#clip0003)\" x1=\"550.917\" y1=\"1474.02\" x2=\"550.917\" y2=\"1490.02\" style=\"stroke:#000000; stroke-width:4; stroke-opacity:0.8\"/>\n",
              "<line clip-path=\"url(#clip0003)\" x1=\"600.963\" y1=\"1474.02\" x2=\"600.963\" y2=\"1490.02\" style=\"stroke:#000000; stroke-width:4; stroke-opacity:0.8\"/>\n",
              "<line clip-path=\"url(#clip0003)\" x1=\"653.119\" y1=\"1474.02\" x2=\"653.119\" y2=\"1490.02\" style=\"stroke:#000000; stroke-width:4; stroke-opacity:0.8\"/>\n",
              "<line clip-path=\"url(#clip0003)\" x1=\"721.278\" y1=\"1474.02\" x2=\"721.278\" y2=\"1490.02\" style=\"stroke:#000000; stroke-width:4; stroke-opacity:0.8\"/>\n",
              "<line clip-path=\"url(#clip0003)\" x1=\"765.068\" y1=\"1474.02\" x2=\"765.068\" y2=\"1490.02\" style=\"stroke:#000000; stroke-width:4; stroke-opacity:0.8\"/>\n",
              "<line clip-path=\"url(#clip0003)\" x1=\"787.472\" y1=\"1474.02\" x2=\"787.472\" y2=\"1490.02\" style=\"stroke:#000000; stroke-width:4; stroke-opacity:0.8\"/>\n",
              "<line clip-path=\"url(#clip0003)\" x1=\"793.874\" y1=\"1474.02\" x2=\"793.874\" y2=\"1490.02\" style=\"stroke:#000000; stroke-width:4; stroke-opacity:0.8\"/>\n",
              "<line clip-path=\"url(#clip0003)\" x1=\"842.756\" y1=\"1474.02\" x2=\"842.756\" y2=\"1490.02\" style=\"stroke:#000000; stroke-width:4; stroke-opacity:0.8\"/>\n",
              "<line clip-path=\"url(#clip0003)\" x1=\"849.012\" y1=\"1474.02\" x2=\"849.012\" y2=\"1490.02\" style=\"stroke:#000000; stroke-width:4; stroke-opacity:0.8\"/>\n",
              "<line clip-path=\"url(#clip0003)\" x1=\"873.671\" y1=\"1474.02\" x2=\"873.671\" y2=\"1490.02\" style=\"stroke:#000000; stroke-width:4; stroke-opacity:0.8\"/>\n",
              "<line clip-path=\"url(#clip0003)\" x1=\"964.526\" y1=\"1474.02\" x2=\"964.526\" y2=\"1490.02\" style=\"stroke:#000000; stroke-width:4; stroke-opacity:0.8\"/>\n",
              "<line clip-path=\"url(#clip0003)\" x1=\"993.331\" y1=\"1474.02\" x2=\"993.331\" y2=\"1490.02\" style=\"stroke:#000000; stroke-width:4; stroke-opacity:0.8\"/>\n",
              "<line clip-path=\"url(#clip0003)\" x1=\"1038.29\" y1=\"1474.02\" x2=\"1038.29\" y2=\"1490.02\" style=\"stroke:#000000; stroke-width:4; stroke-opacity:0.8\"/>\n",
              "<line clip-path=\"url(#clip0003)\" x1=\"1115.32\" y1=\"1474.02\" x2=\"1115.32\" y2=\"1490.02\" style=\"stroke:#000000; stroke-width:4; stroke-opacity:0.8\"/>\n",
              "<line clip-path=\"url(#clip0003)\" x1=\"1167.69\" y1=\"1474.02\" x2=\"1167.69\" y2=\"1490.02\" style=\"stroke:#000000; stroke-width:4; stroke-opacity:0.8\"/>\n",
              "<line clip-path=\"url(#clip0003)\" x1=\"1227.27\" y1=\"1474.02\" x2=\"1227.27\" y2=\"1490.02\" style=\"stroke:#000000; stroke-width:4; stroke-opacity:0.8\"/>\n",
              "<line clip-path=\"url(#clip0003)\" x1=\"1296.23\" y1=\"1474.02\" x2=\"1296.23\" y2=\"1490.02\" style=\"stroke:#000000; stroke-width:4; stroke-opacity:0.8\"/>\n",
              "<line clip-path=\"url(#clip0003)\" x1=\"1336.82\" y1=\"1474.02\" x2=\"1336.82\" y2=\"1490.02\" style=\"stroke:#000000; stroke-width:4; stroke-opacity:0.8\"/>\n",
              "<line clip-path=\"url(#clip0003)\" x1=\"1434.51\" y1=\"1474.02\" x2=\"1434.51\" y2=\"1490.02\" style=\"stroke:#000000; stroke-width:4; stroke-opacity:0.8\"/>\n",
              "<line clip-path=\"url(#clip0003)\" x1=\"1459.46\" y1=\"1474.02\" x2=\"1459.46\" y2=\"1490.02\" style=\"stroke:#000000; stroke-width:4; stroke-opacity:0.8\"/>\n",
              "<line clip-path=\"url(#clip0003)\" x1=\"1487.68\" y1=\"1474.02\" x2=\"1487.68\" y2=\"1490.02\" style=\"stroke:#000000; stroke-width:4; stroke-opacity:0.8\"/>\n",
              "<line clip-path=\"url(#clip0003)\" x1=\"1652.44\" y1=\"1474.02\" x2=\"1652.44\" y2=\"1490.02\" style=\"stroke:#000000; stroke-width:4; stroke-opacity:0.8\"/>\n",
              "<line clip-path=\"url(#clip0003)\" x1=\"1661.1\" y1=\"1474.02\" x2=\"1661.1\" y2=\"1490.02\" style=\"stroke:#000000; stroke-width:4; stroke-opacity:0.8\"/>\n",
              "<line clip-path=\"url(#clip0003)\" x1=\"1672.23\" y1=\"1474.02\" x2=\"1672.23\" y2=\"1490.02\" style=\"stroke:#000000; stroke-width:4; stroke-opacity:0.8\"/>\n",
              "<line clip-path=\"url(#clip0003)\" x1=\"1716.75\" y1=\"1474.02\" x2=\"1716.75\" y2=\"1490.02\" style=\"stroke:#000000; stroke-width:4; stroke-opacity:0.8\"/>\n",
              "<line clip-path=\"url(#clip0003)\" x1=\"1819.39\" y1=\"1474.02\" x2=\"1819.39\" y2=\"1490.02\" style=\"stroke:#000000; stroke-width:4; stroke-opacity:0.8\"/>\n",
              "<line clip-path=\"url(#clip0003)\" x1=\"2417.39\" y1=\"1474.02\" x2=\"2417.39\" y2=\"1490.02\" style=\"stroke:#000000; stroke-width:4; stroke-opacity:0.8\"/>\n",
              "<line clip-path=\"url(#clip0003)\" x1=\"2426.05\" y1=\"1474.02\" x2=\"2426.05\" y2=\"1490.02\" style=\"stroke:#000000; stroke-width:4; stroke-opacity:0.8\"/>\n",
              "<line clip-path=\"url(#clip0003)\" x1=\"361.716\" y1=\"1459.55\" x2=\"361.716\" y2=\"1475.55\" style=\"stroke:#000000; stroke-width:4; stroke-opacity:0.8\"/>\n",
              "<line clip-path=\"url(#clip0003)\" x1=\"645.99\" y1=\"1459.55\" x2=\"645.99\" y2=\"1475.55\" style=\"stroke:#000000; stroke-width:4; stroke-opacity:0.8\"/>\n",
              "<line clip-path=\"url(#clip0003)\" x1=\"667.521\" y1=\"1459.55\" x2=\"667.521\" y2=\"1475.55\" style=\"stroke:#000000; stroke-width:4; stroke-opacity:0.8\"/>\n",
              "<line clip-path=\"url(#clip0003)\" x1=\"790.382\" y1=\"1459.55\" x2=\"790.382\" y2=\"1475.55\" style=\"stroke:#000000; stroke-width:4; stroke-opacity:0.8\"/>\n",
              "<line clip-path=\"url(#clip0003)\" x1=\"821.734\" y1=\"1459.55\" x2=\"821.734\" y2=\"1475.55\" style=\"stroke:#000000; stroke-width:4; stroke-opacity:0.8\"/>\n",
              "<line clip-path=\"url(#clip0003)\" x1=\"844.284\" y1=\"1459.55\" x2=\"844.284\" y2=\"1475.55\" style=\"stroke:#000000; stroke-width:4; stroke-opacity:0.8\"/>\n",
              "<line clip-path=\"url(#clip0003)\" x1=\"923.718\" y1=\"1459.55\" x2=\"923.718\" y2=\"1475.55\" style=\"stroke:#000000; stroke-width:4; stroke-opacity:0.8\"/>\n",
              "<line clip-path=\"url(#clip0003)\" x1=\"951.941\" y1=\"1459.55\" x2=\"951.941\" y2=\"1475.55\" style=\"stroke:#000000; stroke-width:4; stroke-opacity:0.8\"/>\n",
              "<line clip-path=\"url(#clip0003)\" x1=\"957.615\" y1=\"1459.55\" x2=\"957.615\" y2=\"1475.55\" style=\"stroke:#000000; stroke-width:4; stroke-opacity:0.8\"/>\n",
              "<line clip-path=\"url(#clip0003)\" x1=\"1190.39\" y1=\"1459.55\" x2=\"1190.39\" y2=\"1475.55\" style=\"stroke:#000000; stroke-width:4; stroke-opacity:0.8\"/>\n",
              "<line clip-path=\"url(#clip0003)\" x1=\"1306.34\" y1=\"1459.55\" x2=\"1306.34\" y2=\"1475.55\" style=\"stroke:#000000; stroke-width:4; stroke-opacity:0.8\"/>\n",
              "<line clip-path=\"url(#clip0003)\" x1=\"1453.86\" y1=\"1459.55\" x2=\"1453.86\" y2=\"1475.55\" style=\"stroke:#000000; stroke-width:4; stroke-opacity:0.8\"/>\n",
              "<line clip-path=\"url(#clip0003)\" x1=\"1796.25\" y1=\"1459.55\" x2=\"1796.25\" y2=\"1475.55\" style=\"stroke:#000000; stroke-width:4; stroke-opacity:0.8\"/>\n",
              "<line clip-path=\"url(#clip0003)\" x1=\"2426.49\" y1=\"1459.55\" x2=\"2426.49\" y2=\"1475.55\" style=\"stroke:#000000; stroke-width:4; stroke-opacity:0.8\"/>\n",
              "<line clip-path=\"url(#clip0003)\" x1=\"2431.87\" y1=\"1459.55\" x2=\"2431.87\" y2=\"1475.55\" style=\"stroke:#000000; stroke-width:4; stroke-opacity:0.8\"/>\n",
              "<line clip-path=\"url(#clip0003)\" x1=\"439.767\" y1=\"1445.08\" x2=\"439.767\" y2=\"1461.08\" style=\"stroke:#000000; stroke-width:4; stroke-opacity:0.8\"/>\n",
              "<line clip-path=\"url(#clip0003)\" x1=\"592.161\" y1=\"1445.08\" x2=\"592.161\" y2=\"1461.08\" style=\"stroke:#000000; stroke-width:4; stroke-opacity:0.8\"/>\n",
              "<line clip-path=\"url(#clip0003)\" x1=\"606.928\" y1=\"1445.08\" x2=\"606.928\" y2=\"1461.08\" style=\"stroke:#000000; stroke-width:4; stroke-opacity:0.8\"/>\n",
              "<line clip-path=\"url(#clip0003)\" x1=\"730.37\" y1=\"1445.08\" x2=\"730.37\" y2=\"1461.08\" style=\"stroke:#000000; stroke-width:4; stroke-opacity:0.8\"/>\n",
              "<line clip-path=\"url(#clip0003)\" x1=\"811.477\" y1=\"1445.08\" x2=\"811.477\" y2=\"1461.08\" style=\"stroke:#000000; stroke-width:4; stroke-opacity:0.8\"/>\n",
              "<line clip-path=\"url(#clip0003)\" x1=\"834.609\" y1=\"1445.08\" x2=\"834.609\" y2=\"1461.08\" style=\"stroke:#000000; stroke-width:4; stroke-opacity:0.8\"/>\n",
              "<line clip-path=\"url(#clip0003)\" x1=\"842.392\" y1=\"1445.08\" x2=\"842.392\" y2=\"1461.08\" style=\"stroke:#000000; stroke-width:4; stroke-opacity:0.8\"/>\n",
              "<line clip-path=\"url(#clip0003)\" x1=\"865.233\" y1=\"1445.08\" x2=\"865.233\" y2=\"1461.08\" style=\"stroke:#000000; stroke-width:4; stroke-opacity:0.8\"/>\n",
              "<line clip-path=\"url(#clip0003)\" x1=\"877.163\" y1=\"1445.08\" x2=\"877.163\" y2=\"1461.08\" style=\"stroke:#000000; stroke-width:4; stroke-opacity:0.8\"/>\n",
              "<line clip-path=\"url(#clip0003)\" x1=\"892.439\" y1=\"1445.08\" x2=\"892.439\" y2=\"1461.08\" style=\"stroke:#000000; stroke-width:4; stroke-opacity:0.8\"/>\n",
              "<line clip-path=\"url(#clip0003)\" x1=\"896.367\" y1=\"1445.08\" x2=\"896.367\" y2=\"1461.08\" style=\"stroke:#000000; stroke-width:4; stroke-opacity:0.8\"/>\n",
              "<line clip-path=\"url(#clip0003)\" x1=\"900.731\" y1=\"1445.08\" x2=\"900.731\" y2=\"1461.08\" style=\"stroke:#000000; stroke-width:4; stroke-opacity:0.8\"/>\n",
              "<line clip-path=\"url(#clip0003)\" x1=\"931.574\" y1=\"1445.08\" x2=\"931.574\" y2=\"1461.08\" style=\"stroke:#000000; stroke-width:4; stroke-opacity:0.8\"/>\n",
              "<line clip-path=\"url(#clip0003)\" x1=\"975.51\" y1=\"1445.08\" x2=\"975.51\" y2=\"1461.08\" style=\"stroke:#000000; stroke-width:4; stroke-opacity:0.8\"/>\n",
              "<line clip-path=\"url(#clip0003)\" x1=\"992.604\" y1=\"1445.08\" x2=\"992.604\" y2=\"1461.08\" style=\"stroke:#000000; stroke-width:4; stroke-opacity:0.8\"/>\n",
              "<line clip-path=\"url(#clip0003)\" x1=\"1038.65\" y1=\"1445.08\" x2=\"1038.65\" y2=\"1461.08\" style=\"stroke:#000000; stroke-width:4; stroke-opacity:0.8\"/>\n",
              "<line clip-path=\"url(#clip0003)\" x1=\"1067.75\" y1=\"1445.08\" x2=\"1067.75\" y2=\"1461.08\" style=\"stroke:#000000; stroke-width:4; stroke-opacity:0.8\"/>\n",
              "<line clip-path=\"url(#clip0003)\" x1=\"1075.24\" y1=\"1445.08\" x2=\"1075.24\" y2=\"1461.08\" style=\"stroke:#000000; stroke-width:4; stroke-opacity:0.8\"/>\n",
              "<line clip-path=\"url(#clip0003)\" x1=\"1087.53\" y1=\"1445.08\" x2=\"1087.53\" y2=\"1461.08\" style=\"stroke:#000000; stroke-width:4; stroke-opacity:0.8\"/>\n",
              "<line clip-path=\"url(#clip0003)\" x1=\"1211.19\" y1=\"1445.08\" x2=\"1211.19\" y2=\"1461.08\" style=\"stroke:#000000; stroke-width:4; stroke-opacity:0.8\"/>\n",
              "<line clip-path=\"url(#clip0003)\" x1=\"1282.7\" y1=\"1445.08\" x2=\"1282.7\" y2=\"1461.08\" style=\"stroke:#000000; stroke-width:4; stroke-opacity:0.8\"/>\n",
              "<line clip-path=\"url(#clip0003)\" x1=\"1380.17\" y1=\"1445.08\" x2=\"1380.17\" y2=\"1461.08\" style=\"stroke:#000000; stroke-width:4; stroke-opacity:0.8\"/>\n",
              "<line clip-path=\"url(#clip0003)\" x1=\"1388.25\" y1=\"1445.08\" x2=\"1388.25\" y2=\"1461.08\" style=\"stroke:#000000; stroke-width:4; stroke-opacity:0.8\"/>\n",
              "<line clip-path=\"url(#clip0003)\" x1=\"1514.23\" y1=\"1445.08\" x2=\"1514.23\" y2=\"1461.08\" style=\"stroke:#000000; stroke-width:4; stroke-opacity:0.8\"/>\n",
              "<line clip-path=\"url(#clip0003)\" x1=\"1994.4\" y1=\"1445.08\" x2=\"1994.4\" y2=\"1461.08\" style=\"stroke:#000000; stroke-width:4; stroke-opacity:0.8\"/>\n",
              "<line clip-path=\"url(#clip0003)\" x1=\"2224.12\" y1=\"1445.08\" x2=\"2224.12\" y2=\"1461.08\" style=\"stroke:#000000; stroke-width:4; stroke-opacity:0.8\"/>\n",
              "<line clip-path=\"url(#clip0003)\" x1=\"482.03\" y1=\"1430.62\" x2=\"482.03\" y2=\"1446.62\" style=\"stroke:#000000; stroke-width:4; stroke-opacity:0.8\"/>\n",
              "<line clip-path=\"url(#clip0003)\" x1=\"657.701\" y1=\"1430.62\" x2=\"657.701\" y2=\"1446.62\" style=\"stroke:#000000; stroke-width:4; stroke-opacity:0.8\"/>\n",
              "<line clip-path=\"url(#clip0003)\" x1=\"664.539\" y1=\"1430.62\" x2=\"664.539\" y2=\"1446.62\" style=\"stroke:#000000; stroke-width:4; stroke-opacity:0.8\"/>\n",
              "<line clip-path=\"url(#clip0003)\" x1=\"686.725\" y1=\"1430.62\" x2=\"686.725\" y2=\"1446.62\" style=\"stroke:#000000; stroke-width:4; stroke-opacity:0.8\"/>\n",
              "<line clip-path=\"url(#clip0003)\" x1=\"723.896\" y1=\"1430.62\" x2=\"723.896\" y2=\"1446.62\" style=\"stroke:#000000; stroke-width:4; stroke-opacity:0.8\"/>\n",
              "<line clip-path=\"url(#clip0003)\" x1=\"776.634\" y1=\"1430.62\" x2=\"776.634\" y2=\"1446.62\" style=\"stroke:#000000; stroke-width:4; stroke-opacity:0.8\"/>\n",
              "<line clip-path=\"url(#clip0003)\" x1=\"1109.65\" y1=\"1430.62\" x2=\"1109.65\" y2=\"1446.62\" style=\"stroke:#000000; stroke-width:4; stroke-opacity:0.8\"/>\n",
              "<line clip-path=\"url(#clip0003)\" x1=\"1143.32\" y1=\"1430.62\" x2=\"1143.32\" y2=\"1446.62\" style=\"stroke:#000000; stroke-width:4; stroke-opacity:0.8\"/>\n",
              "<line clip-path=\"url(#clip0003)\" x1=\"1149.29\" y1=\"1430.62\" x2=\"1149.29\" y2=\"1446.62\" style=\"stroke:#000000; stroke-width:4; stroke-opacity:0.8\"/>\n",
              "<line clip-path=\"url(#clip0003)\" x1=\"1178.31\" y1=\"1430.62\" x2=\"1178.31\" y2=\"1446.62\" style=\"stroke:#000000; stroke-width:4; stroke-opacity:0.8\"/>\n",
              "<line clip-path=\"url(#clip0003)\" x1=\"1205.74\" y1=\"1430.62\" x2=\"1205.74\" y2=\"1446.62\" style=\"stroke:#000000; stroke-width:4; stroke-opacity:0.8\"/>\n",
              "<line clip-path=\"url(#clip0003)\" x1=\"1291.06\" y1=\"1430.62\" x2=\"1291.06\" y2=\"1446.62\" style=\"stroke:#000000; stroke-width:4; stroke-opacity:0.8\"/>\n",
              "<line clip-path=\"url(#clip0003)\" x1=\"1403.89\" y1=\"1430.62\" x2=\"1403.89\" y2=\"1446.62\" style=\"stroke:#000000; stroke-width:4; stroke-opacity:0.8\"/>\n",
              "<line clip-path=\"url(#clip0003)\" x1=\"1436.91\" y1=\"1430.62\" x2=\"1436.91\" y2=\"1446.62\" style=\"stroke:#000000; stroke-width:4; stroke-opacity:0.8\"/>\n",
              "<line clip-path=\"url(#clip0003)\" x1=\"1458.37\" y1=\"1430.62\" x2=\"1458.37\" y2=\"1446.62\" style=\"stroke:#000000; stroke-width:4; stroke-opacity:0.8\"/>\n",
              "<line clip-path=\"url(#clip0003)\" x1=\"1583.56\" y1=\"1430.62\" x2=\"1583.56\" y2=\"1446.62\" style=\"stroke:#000000; stroke-width:4; stroke-opacity:0.8\"/>\n",
              "<line clip-path=\"url(#clip0003)\" x1=\"1603.63\" y1=\"1430.62\" x2=\"1603.63\" y2=\"1446.62\" style=\"stroke:#000000; stroke-width:4; stroke-opacity:0.8\"/>\n",
              "<line clip-path=\"url(#clip0003)\" x1=\"1608.36\" y1=\"1430.62\" x2=\"1608.36\" y2=\"1446.62\" style=\"stroke:#000000; stroke-width:4; stroke-opacity:0.8\"/>\n",
              "<line clip-path=\"url(#clip0003)\" x1=\"1623.35\" y1=\"1430.62\" x2=\"1623.35\" y2=\"1446.62\" style=\"stroke:#000000; stroke-width:4; stroke-opacity:0.8\"/>\n",
              "<line clip-path=\"url(#clip0003)\" x1=\"1753.55\" y1=\"1430.62\" x2=\"1753.55\" y2=\"1446.62\" style=\"stroke:#000000; stroke-width:4; stroke-opacity:0.8\"/>\n",
              "<line clip-path=\"url(#clip0003)\" x1=\"1806.95\" y1=\"1430.62\" x2=\"1806.95\" y2=\"1446.62\" style=\"stroke:#000000; stroke-width:4; stroke-opacity:0.8\"/>\n",
              "<line clip-path=\"url(#clip0003)\" x1=\"316.252\" y1=\"1416.15\" x2=\"316.252\" y2=\"1432.15\" style=\"stroke:#000000; stroke-width:4; stroke-opacity:0.8\"/>\n",
              "<line clip-path=\"url(#clip0003)\" x1=\"659.956\" y1=\"1416.15\" x2=\"659.956\" y2=\"1432.15\" style=\"stroke:#000000; stroke-width:4; stroke-opacity:0.8\"/>\n",
              "<line clip-path=\"url(#clip0003)\" x1=\"753.866\" y1=\"1416.15\" x2=\"753.866\" y2=\"1432.15\" style=\"stroke:#000000; stroke-width:4; stroke-opacity:0.8\"/>\n",
              "<line clip-path=\"url(#clip0003)\" x1=\"761.285\" y1=\"1416.15\" x2=\"761.285\" y2=\"1432.15\" style=\"stroke:#000000; stroke-width:4; stroke-opacity:0.8\"/>\n",
              "<line clip-path=\"url(#clip0003)\" x1=\"766.741\" y1=\"1416.15\" x2=\"766.741\" y2=\"1432.15\" style=\"stroke:#000000; stroke-width:4; stroke-opacity:0.8\"/>\n",
              "<line clip-path=\"url(#clip0003)\" x1=\"818.533\" y1=\"1416.15\" x2=\"818.533\" y2=\"1432.15\" style=\"stroke:#000000; stroke-width:4; stroke-opacity:0.8\"/>\n",
              "<line clip-path=\"url(#clip0003)\" x1=\"823.916\" y1=\"1416.15\" x2=\"823.916\" y2=\"1432.15\" style=\"stroke:#000000; stroke-width:4; stroke-opacity:0.8\"/>\n",
              "<line clip-path=\"url(#clip0003)\" x1=\"866.688\" y1=\"1416.15\" x2=\"866.688\" y2=\"1432.15\" style=\"stroke:#000000; stroke-width:4; stroke-opacity:0.8\"/>\n",
              "<line clip-path=\"url(#clip0003)\" x1=\"892.657\" y1=\"1416.15\" x2=\"892.657\" y2=\"1432.15\" style=\"stroke:#000000; stroke-width:4; stroke-opacity:0.8\"/>\n",
              "<line clip-path=\"url(#clip0003)\" x1=\"910.333\" y1=\"1416.15\" x2=\"910.333\" y2=\"1432.15\" style=\"stroke:#000000; stroke-width:4; stroke-opacity:0.8\"/>\n",
              "<line clip-path=\"url(#clip0003)\" x1=\"950.705\" y1=\"1416.15\" x2=\"950.705\" y2=\"1432.15\" style=\"stroke:#000000; stroke-width:4; stroke-opacity:0.8\"/>\n",
              "<line clip-path=\"url(#clip0003)\" x1=\"985.912\" y1=\"1416.15\" x2=\"985.912\" y2=\"1432.15\" style=\"stroke:#000000; stroke-width:4; stroke-opacity:0.8\"/>\n",
              "<line clip-path=\"url(#clip0003)\" x1=\"994.059\" y1=\"1416.15\" x2=\"994.059\" y2=\"1432.15\" style=\"stroke:#000000; stroke-width:4; stroke-opacity:0.8\"/>\n",
              "<line clip-path=\"url(#clip0003)\" x1=\"1005.48\" y1=\"1416.15\" x2=\"1005.48\" y2=\"1432.15\" style=\"stroke:#000000; stroke-width:4; stroke-opacity:0.8\"/>\n",
              "<line clip-path=\"url(#clip0003)\" x1=\"1075.38\" y1=\"1416.15\" x2=\"1075.38\" y2=\"1432.15\" style=\"stroke:#000000; stroke-width:4; stroke-opacity:0.8\"/>\n",
              "<line clip-path=\"url(#clip0003)\" x1=\"1134.96\" y1=\"1416.15\" x2=\"1134.96\" y2=\"1432.15\" style=\"stroke:#000000; stroke-width:4; stroke-opacity:0.8\"/>\n",
              "<line clip-path=\"url(#clip0003)\" x1=\"1140.63\" y1=\"1416.15\" x2=\"1140.63\" y2=\"1432.15\" style=\"stroke:#000000; stroke-width:4; stroke-opacity:0.8\"/>\n",
              "<line clip-path=\"url(#clip0003)\" x1=\"1185.73\" y1=\"1416.15\" x2=\"1185.73\" y2=\"1432.15\" style=\"stroke:#000000; stroke-width:4; stroke-opacity:0.8\"/>\n",
              "<line clip-path=\"url(#clip0003)\" x1=\"1262.62\" y1=\"1416.15\" x2=\"1262.62\" y2=\"1432.15\" style=\"stroke:#000000; stroke-width:4; stroke-opacity:0.8\"/>\n",
              "<line clip-path=\"url(#clip0003)\" x1=\"1362.35\" y1=\"1416.15\" x2=\"1362.35\" y2=\"1432.15\" style=\"stroke:#000000; stroke-width:4; stroke-opacity:0.8\"/>\n",
              "<line clip-path=\"url(#clip0003)\" x1=\"1376.9\" y1=\"1416.15\" x2=\"1376.9\" y2=\"1432.15\" style=\"stroke:#000000; stroke-width:4; stroke-opacity:0.8\"/>\n",
              "<line clip-path=\"url(#clip0003)\" x1=\"1707.87\" y1=\"1416.15\" x2=\"1707.87\" y2=\"1432.15\" style=\"stroke:#000000; stroke-width:4; stroke-opacity:0.8\"/>\n",
              "<line clip-path=\"url(#clip0003)\" x1=\"2337.52\" y1=\"1416.15\" x2=\"2337.52\" y2=\"1432.15\" style=\"stroke:#000000; stroke-width:4; stroke-opacity:0.8\"/>\n",
              "<line clip-path=\"url(#clip0003)\" x1=\"695.745\" y1=\"1401.68\" x2=\"695.745\" y2=\"1417.68\" style=\"stroke:#000000; stroke-width:4; stroke-opacity:0.8\"/>\n",
              "<line clip-path=\"url(#clip0003)\" x1=\"814.387\" y1=\"1401.68\" x2=\"814.387\" y2=\"1417.68\" style=\"stroke:#000000; stroke-width:4; stroke-opacity:0.8\"/>\n",
              "<line clip-path=\"url(#clip0003)\" x1=\"884.728\" y1=\"1401.68\" x2=\"884.728\" y2=\"1417.68\" style=\"stroke:#000000; stroke-width:4; stroke-opacity:0.8\"/>\n",
              "<line clip-path=\"url(#clip0003)\" x1=\"902.695\" y1=\"1401.68\" x2=\"902.695\" y2=\"1417.68\" style=\"stroke:#000000; stroke-width:4; stroke-opacity:0.8\"/>\n",
              "<line clip-path=\"url(#clip0003)\" x1=\"911.133\" y1=\"1401.68\" x2=\"911.133\" y2=\"1417.68\" style=\"stroke:#000000; stroke-width:4; stroke-opacity:0.8\"/>\n",
              "<line clip-path=\"url(#clip0003)\" x1=\"935.065\" y1=\"1401.68\" x2=\"935.065\" y2=\"1417.68\" style=\"stroke:#000000; stroke-width:4; stroke-opacity:0.8\"/>\n",
              "<line clip-path=\"url(#clip0003)\" x1=\"1242.47\" y1=\"1401.68\" x2=\"1242.47\" y2=\"1417.68\" style=\"stroke:#000000; stroke-width:4; stroke-opacity:0.8\"/>\n",
              "<line clip-path=\"url(#clip0003)\" x1=\"1294.63\" y1=\"1401.68\" x2=\"1294.63\" y2=\"1417.68\" style=\"stroke:#000000; stroke-width:4; stroke-opacity:0.8\"/>\n",
              "<line clip-path=\"url(#clip0003)\" x1=\"671.377\" y1=\"1387.21\" x2=\"671.377\" y2=\"1403.21\" style=\"stroke:#000000; stroke-width:4; stroke-opacity:0.8\"/>\n",
              "<line clip-path=\"url(#clip0003)\" x1=\"677.196\" y1=\"1387.21\" x2=\"677.196\" y2=\"1403.21\" style=\"stroke:#000000; stroke-width:4; stroke-opacity:0.8\"/>\n",
              "<line clip-path=\"url(#clip0003)\" x1=\"763.54\" y1=\"1387.21\" x2=\"763.54\" y2=\"1403.21\" style=\"stroke:#000000; stroke-width:4; stroke-opacity:0.8\"/>\n",
              "<line clip-path=\"url(#clip0003)\" x1=\"794.892\" y1=\"1387.21\" x2=\"794.892\" y2=\"1403.21\" style=\"stroke:#000000; stroke-width:4; stroke-opacity:0.8\"/>\n",
              "<line clip-path=\"url(#clip0003)\" x1=\"802.457\" y1=\"1387.21\" x2=\"802.457\" y2=\"1403.21\" style=\"stroke:#000000; stroke-width:4; stroke-opacity:0.8\"/>\n",
              "<line clip-path=\"url(#clip0003)\" x1=\"850.467\" y1=\"1387.21\" x2=\"850.467\" y2=\"1403.21\" style=\"stroke:#000000; stroke-width:4; stroke-opacity:0.8\"/>\n",
              "<line clip-path=\"url(#clip0003)\" x1=\"964.307\" y1=\"1387.21\" x2=\"964.307\" y2=\"1403.21\" style=\"stroke:#000000; stroke-width:4; stroke-opacity:0.8\"/>\n",
              "<line clip-path=\"url(#clip0003)\" x1=\"971.654\" y1=\"1387.21\" x2=\"971.654\" y2=\"1403.21\" style=\"stroke:#000000; stroke-width:4; stroke-opacity:0.8\"/>\n",
              "<line clip-path=\"url(#clip0003)\" x1=\"982.857\" y1=\"1387.21\" x2=\"982.857\" y2=\"1403.21\" style=\"stroke:#000000; stroke-width:4; stroke-opacity:0.8\"/>\n",
              "<line clip-path=\"url(#clip0003)\" x1=\"1024.32\" y1=\"1387.21\" x2=\"1024.32\" y2=\"1403.21\" style=\"stroke:#000000; stroke-width:4; stroke-opacity:0.8\"/>\n",
              "<line clip-path=\"url(#clip0003)\" x1=\"1056.4\" y1=\"1387.21\" x2=\"1056.4\" y2=\"1403.21\" style=\"stroke:#000000; stroke-width:4; stroke-opacity:0.8\"/>\n",
              "<line clip-path=\"url(#clip0003)\" x1=\"1063.38\" y1=\"1387.21\" x2=\"1063.38\" y2=\"1403.21\" style=\"stroke:#000000; stroke-width:4; stroke-opacity:0.8\"/>\n",
              "<line clip-path=\"url(#clip0003)\" x1=\"1098.3\" y1=\"1387.21\" x2=\"1098.3\" y2=\"1403.21\" style=\"stroke:#000000; stroke-width:4; stroke-opacity:0.8\"/>\n",
              "<line clip-path=\"url(#clip0003)\" x1=\"1134.23\" y1=\"1387.21\" x2=\"1134.23\" y2=\"1403.21\" style=\"stroke:#000000; stroke-width:4; stroke-opacity:0.8\"/>\n",
              "<line clip-path=\"url(#clip0003)\" x1=\"1149.29\" y1=\"1387.21\" x2=\"1149.29\" y2=\"1403.21\" style=\"stroke:#000000; stroke-width:4; stroke-opacity:0.8\"/>\n",
              "<line clip-path=\"url(#clip0003)\" x1=\"1154.09\" y1=\"1387.21\" x2=\"1154.09\" y2=\"1403.21\" style=\"stroke:#000000; stroke-width:4; stroke-opacity:0.8\"/>\n",
              "<line clip-path=\"url(#clip0003)\" x1=\"1170.17\" y1=\"1387.21\" x2=\"1170.17\" y2=\"1403.21\" style=\"stroke:#000000; stroke-width:4; stroke-opacity:0.8\"/>\n",
              "<line clip-path=\"url(#clip0003)\" x1=\"1228.72\" y1=\"1387.21\" x2=\"1228.72\" y2=\"1403.21\" style=\"stroke:#000000; stroke-width:4; stroke-opacity:0.8\"/>\n",
              "<line clip-path=\"url(#clip0003)\" x1=\"1249.75\" y1=\"1387.21\" x2=\"1249.75\" y2=\"1403.21\" style=\"stroke:#000000; stroke-width:4; stroke-opacity:0.8\"/>\n",
              "<line clip-path=\"url(#clip0003)\" x1=\"1275.35\" y1=\"1387.21\" x2=\"1275.35\" y2=\"1403.21\" style=\"stroke:#000000; stroke-width:4; stroke-opacity:0.8\"/>\n",
              "<line clip-path=\"url(#clip0003)\" x1=\"1290.19\" y1=\"1387.21\" x2=\"1290.19\" y2=\"1403.21\" style=\"stroke:#000000; stroke-width:4; stroke-opacity:0.8\"/>\n",
              "<line clip-path=\"url(#clip0003)\" x1=\"1305.54\" y1=\"1387.21\" x2=\"1305.54\" y2=\"1403.21\" style=\"stroke:#000000; stroke-width:4; stroke-opacity:0.8\"/>\n",
              "<line clip-path=\"url(#clip0003)\" x1=\"1344.67\" y1=\"1387.21\" x2=\"1344.67\" y2=\"1403.21\" style=\"stroke:#000000; stroke-width:4; stroke-opacity:0.8\"/>\n",
              "<line clip-path=\"url(#clip0003)\" x1=\"1351.58\" y1=\"1387.21\" x2=\"1351.58\" y2=\"1403.21\" style=\"stroke:#000000; stroke-width:4; stroke-opacity:0.8\"/>\n",
              "<line clip-path=\"url(#clip0003)\" x1=\"1449.57\" y1=\"1387.21\" x2=\"1449.57\" y2=\"1403.21\" style=\"stroke:#000000; stroke-width:4; stroke-opacity:0.8\"/>\n",
              "<line clip-path=\"url(#clip0003)\" x1=\"1754.57\" y1=\"1387.21\" x2=\"1754.57\" y2=\"1403.21\" style=\"stroke:#000000; stroke-width:4; stroke-opacity:0.8\"/>\n",
              "<line clip-path=\"url(#clip0003)\" x1=\"2117.12\" y1=\"1387.21\" x2=\"2117.12\" y2=\"1403.21\" style=\"stroke:#000000; stroke-width:4; stroke-opacity:0.8\"/>\n",
              "<line clip-path=\"url(#clip0003)\" x1=\"2131.67\" y1=\"1387.21\" x2=\"2131.67\" y2=\"1403.21\" style=\"stroke:#000000; stroke-width:4; stroke-opacity:0.8\"/>\n",
              "<line clip-path=\"url(#clip0003)\" x1=\"2194.95\" y1=\"1387.21\" x2=\"2194.95\" y2=\"1403.21\" style=\"stroke:#000000; stroke-width:4; stroke-opacity:0.8\"/>\n",
              "<line clip-path=\"url(#clip0003)\" x1=\"2207.68\" y1=\"1387.21\" x2=\"2207.68\" y2=\"1403.21\" style=\"stroke:#000000; stroke-width:4; stroke-opacity:0.8\"/>\n",
              "<line clip-path=\"url(#clip0003)\" x1=\"2214.81\" y1=\"1387.21\" x2=\"2214.81\" y2=\"1403.21\" style=\"stroke:#000000; stroke-width:4; stroke-opacity:0.8\"/>\n",
              "<line clip-path=\"url(#clip0003)\" x1=\"750.592\" y1=\"1372.75\" x2=\"750.592\" y2=\"1388.75\" style=\"stroke:#000000; stroke-width:4; stroke-opacity:0.8\"/>\n",
              "<line clip-path=\"url(#clip0003)\" x1=\"843.629\" y1=\"1372.75\" x2=\"843.629\" y2=\"1388.75\" style=\"stroke:#000000; stroke-width:4; stroke-opacity:0.8\"/>\n",
              "<line clip-path=\"url(#clip0003)\" x1=\"1018.79\" y1=\"1372.75\" x2=\"1018.79\" y2=\"1388.75\" style=\"stroke:#000000; stroke-width:4; stroke-opacity:0.8\"/>\n",
              "<line clip-path=\"url(#clip0003)\" x1=\"1057.64\" y1=\"1372.75\" x2=\"1057.64\" y2=\"1388.75\" style=\"stroke:#000000; stroke-width:4; stroke-opacity:0.8\"/>\n",
              "<line clip-path=\"url(#clip0003)\" x1=\"1090.88\" y1=\"1372.75\" x2=\"1090.88\" y2=\"1388.75\" style=\"stroke:#000000; stroke-width:4; stroke-opacity:0.8\"/>\n",
              "<line clip-path=\"url(#clip0003)\" x1=\"1169.95\" y1=\"1372.75\" x2=\"1169.95\" y2=\"1388.75\" style=\"stroke:#000000; stroke-width:4; stroke-opacity:0.8\"/>\n",
              "<line clip-path=\"url(#clip0003)\" x1=\"1199.92\" y1=\"1372.75\" x2=\"1199.92\" y2=\"1388.75\" style=\"stroke:#000000; stroke-width:4; stroke-opacity:0.8\"/>\n",
              "<line clip-path=\"url(#clip0003)\" x1=\"1322.2\" y1=\"1372.75\" x2=\"1322.2\" y2=\"1388.75\" style=\"stroke:#000000; stroke-width:4; stroke-opacity:0.8\"/>\n",
              "<line clip-path=\"url(#clip0003)\" x1=\"1333.47\" y1=\"1372.75\" x2=\"1333.47\" y2=\"1388.75\" style=\"stroke:#000000; stroke-width:4; stroke-opacity:0.8\"/>\n",
              "<line clip-path=\"url(#clip0003)\" x1=\"1342.71\" y1=\"1372.75\" x2=\"1342.71\" y2=\"1388.75\" style=\"stroke:#000000; stroke-width:4; stroke-opacity:0.8\"/>\n",
              "<line clip-path=\"url(#clip0003)\" x1=\"1436.76\" y1=\"1372.75\" x2=\"1436.76\" y2=\"1388.75\" style=\"stroke:#000000; stroke-width:4; stroke-opacity:0.8\"/>\n",
              "<line clip-path=\"url(#clip0003)\" x1=\"1625.17\" y1=\"1372.75\" x2=\"1625.17\" y2=\"1388.75\" style=\"stroke:#000000; stroke-width:4; stroke-opacity:0.8\"/>\n",
              "<line clip-path=\"url(#clip0003)\" x1=\"690.29\" y1=\"1358.28\" x2=\"690.29\" y2=\"1374.28\" style=\"stroke:#000000; stroke-width:4; stroke-opacity:0.8\"/>\n",
              "<line clip-path=\"url(#clip0003)\" x1=\"1227.27\" y1=\"1358.28\" x2=\"1227.27\" y2=\"1374.28\" style=\"stroke:#000000; stroke-width:4; stroke-opacity:0.8\"/>\n",
              "<line clip-path=\"url(#clip0003)\" x1=\"1318.27\" y1=\"1358.28\" x2=\"1318.27\" y2=\"1374.28\" style=\"stroke:#000000; stroke-width:4; stroke-opacity:0.8\"/>\n",
              "<line clip-path=\"url(#clip0003)\" x1=\"1509.29\" y1=\"1358.28\" x2=\"1509.29\" y2=\"1374.28\" style=\"stroke:#000000; stroke-width:4; stroke-opacity:0.8\"/>\n",
              "<line clip-path=\"url(#clip0003)\" x1=\"1535.4\" y1=\"1358.28\" x2=\"1535.4\" y2=\"1374.28\" style=\"stroke:#000000; stroke-width:4; stroke-opacity:0.8\"/>\n",
              "<line clip-path=\"url(#clip0003)\" x1=\"1696.67\" y1=\"1358.28\" x2=\"1696.67\" y2=\"1374.28\" style=\"stroke:#000000; stroke-width:4; stroke-opacity:0.8\"/>\n",
              "<line clip-path=\"url(#clip0003)\" x1=\"1739.01\" y1=\"1358.28\" x2=\"1739.01\" y2=\"1374.28\" style=\"stroke:#000000; stroke-width:4; stroke-opacity:0.8\"/>\n",
              "<line clip-path=\"url(#clip0003)\" x1=\"2397.83\" y1=\"1358.28\" x2=\"2397.83\" y2=\"1374.28\" style=\"stroke:#000000; stroke-width:4; stroke-opacity:0.8\"/>\n",
              "<line clip-path=\"url(#clip0003)\" x1=\"681.342\" y1=\"1343.81\" x2=\"681.342\" y2=\"1359.81\" style=\"stroke:#000000; stroke-width:4; stroke-opacity:0.8\"/>\n",
              "<line clip-path=\"url(#clip0003)\" x1=\"705.565\" y1=\"1343.81\" x2=\"705.565\" y2=\"1359.81\" style=\"stroke:#000000; stroke-width:4; stroke-opacity:0.8\"/>\n",
              "<line clip-path=\"url(#clip0003)\" x1=\"720.259\" y1=\"1343.81\" x2=\"720.259\" y2=\"1359.81\" style=\"stroke:#000000; stroke-width:4; stroke-opacity:0.8\"/>\n",
              "<line clip-path=\"url(#clip0003)\" x1=\"739.318\" y1=\"1343.81\" x2=\"739.318\" y2=\"1359.81\" style=\"stroke:#000000; stroke-width:4; stroke-opacity:0.8\"/>\n",
              "<line clip-path=\"url(#clip0003)\" x1=\"773.288\" y1=\"1343.81\" x2=\"773.288\" y2=\"1359.81\" style=\"stroke:#000000; stroke-width:4; stroke-opacity:0.8\"/>\n",
              "<line clip-path=\"url(#clip0003)\" x1=\"781.071\" y1=\"1343.81\" x2=\"781.071\" y2=\"1359.81\" style=\"stroke:#000000; stroke-width:4; stroke-opacity:0.8\"/>\n",
              "<line clip-path=\"url(#clip0003)\" x1=\"792.201\" y1=\"1343.81\" x2=\"792.201\" y2=\"1359.81\" style=\"stroke:#000000; stroke-width:4; stroke-opacity:0.8\"/>\n",
              "<line clip-path=\"url(#clip0003)\" x1=\"798.602\" y1=\"1343.81\" x2=\"798.602\" y2=\"1359.81\" style=\"stroke:#000000; stroke-width:4; stroke-opacity:0.8\"/>\n",
              "<line clip-path=\"url(#clip0003)\" x1=\"884.364\" y1=\"1343.81\" x2=\"884.364\" y2=\"1359.81\" style=\"stroke:#000000; stroke-width:4; stroke-opacity:0.8\"/>\n",
              "<line clip-path=\"url(#clip0003)\" x1=\"911.133\" y1=\"1343.81\" x2=\"911.133\" y2=\"1359.81\" style=\"stroke:#000000; stroke-width:4; stroke-opacity:0.8\"/>\n",
              "<line clip-path=\"url(#clip0003)\" x1=\"939.866\" y1=\"1343.81\" x2=\"939.866\" y2=\"1359.81\" style=\"stroke:#000000; stroke-width:4; stroke-opacity:0.8\"/>\n",
              "<line clip-path=\"url(#clip0003)\" x1=\"968.381\" y1=\"1343.81\" x2=\"968.381\" y2=\"1359.81\" style=\"stroke:#000000; stroke-width:4; stroke-opacity:0.8\"/>\n",
              "<line clip-path=\"url(#clip0003)\" x1=\"1026.57\" y1=\"1343.81\" x2=\"1026.57\" y2=\"1359.81\" style=\"stroke:#000000; stroke-width:4; stroke-opacity:0.8\"/>\n",
              "<line clip-path=\"url(#clip0003)\" x1=\"1297.83\" y1=\"1343.81\" x2=\"1297.83\" y2=\"1359.81\" style=\"stroke:#000000; stroke-width:4; stroke-opacity:0.8\"/>\n",
              "<line clip-path=\"url(#clip0003)\" x1=\"1334.13\" y1=\"1343.81\" x2=\"1334.13\" y2=\"1359.81\" style=\"stroke:#000000; stroke-width:4; stroke-opacity:0.8\"/>\n",
              "<line clip-path=\"url(#clip0003)\" x1=\"1522.09\" y1=\"1343.81\" x2=\"1522.09\" y2=\"1359.81\" style=\"stroke:#000000; stroke-width:4; stroke-opacity:0.8\"/>\n",
              "<line clip-path=\"url(#clip0003)\" x1=\"1648.88\" y1=\"1343.81\" x2=\"1648.88\" y2=\"1359.81\" style=\"stroke:#000000; stroke-width:4; stroke-opacity:0.8\"/>\n",
              "<line clip-path=\"url(#clip0003)\" x1=\"1752.97\" y1=\"1343.81\" x2=\"1752.97\" y2=\"1359.81\" style=\"stroke:#000000; stroke-width:4; stroke-opacity:0.8\"/>\n",
              "<line clip-path=\"url(#clip0003)\" x1=\"719.459\" y1=\"1329.34\" x2=\"719.459\" y2=\"1345.34\" style=\"stroke:#000000; stroke-width:4; stroke-opacity:0.8\"/>\n",
              "<line clip-path=\"url(#clip0003)\" x1=\"723.242\" y1=\"1329.34\" x2=\"723.242\" y2=\"1345.34\" style=\"stroke:#000000; stroke-width:4; stroke-opacity:0.8\"/>\n",
              "<line clip-path=\"url(#clip0003)\" x1=\"762.74\" y1=\"1329.34\" x2=\"762.74\" y2=\"1345.34\" style=\"stroke:#000000; stroke-width:4; stroke-opacity:0.8\"/>\n",
              "<line clip-path=\"url(#clip0003)\" x1=\"780.271\" y1=\"1329.34\" x2=\"780.271\" y2=\"1345.34\" style=\"stroke:#000000; stroke-width:4; stroke-opacity:0.8\"/>\n",
              "<line clip-path=\"url(#clip0003)\" x1=\"788.636\" y1=\"1329.34\" x2=\"788.636\" y2=\"1345.34\" style=\"stroke:#000000; stroke-width:4; stroke-opacity:0.8\"/>\n",
              "<line clip-path=\"url(#clip0003)\" x1=\"794.892\" y1=\"1329.34\" x2=\"794.892\" y2=\"1345.34\" style=\"stroke:#000000; stroke-width:4; stroke-opacity:0.8\"/>\n",
              "<line clip-path=\"url(#clip0003)\" x1=\"805.076\" y1=\"1329.34\" x2=\"805.076\" y2=\"1345.34\" style=\"stroke:#000000; stroke-width:4; stroke-opacity:0.8\"/>\n",
              "<line clip-path=\"url(#clip0003)\" x1=\"867.416\" y1=\"1329.34\" x2=\"867.416\" y2=\"1345.34\" style=\"stroke:#000000; stroke-width:4; stroke-opacity:0.8\"/>\n",
              "<line clip-path=\"url(#clip0003)\" x1=\"877.599\" y1=\"1329.34\" x2=\"877.599\" y2=\"1345.34\" style=\"stroke:#000000; stroke-width:4; stroke-opacity:0.8\"/>\n",
              "<line clip-path=\"url(#clip0003)\" x1=\"945.54\" y1=\"1329.34\" x2=\"945.54\" y2=\"1345.34\" style=\"stroke:#000000; stroke-width:4; stroke-opacity:0.8\"/>\n",
              "<line clip-path=\"url(#clip0003)\" x1=\"1012.32\" y1=\"1329.34\" x2=\"1012.32\" y2=\"1345.34\" style=\"stroke:#000000; stroke-width:4; stroke-opacity:0.8\"/>\n",
              "<line clip-path=\"url(#clip0003)\" x1=\"1043.3\" y1=\"1329.34\" x2=\"1043.3\" y2=\"1345.34\" style=\"stroke:#000000; stroke-width:4; stroke-opacity:0.8\"/>\n",
              "<line clip-path=\"url(#clip0003)\" x1=\"1135.32\" y1=\"1329.34\" x2=\"1135.32\" y2=\"1345.34\" style=\"stroke:#000000; stroke-width:4; stroke-opacity:0.8\"/>\n",
              "<line clip-path=\"url(#clip0003)\" x1=\"1169.08\" y1=\"1329.34\" x2=\"1169.08\" y2=\"1345.34\" style=\"stroke:#000000; stroke-width:4; stroke-opacity:0.8\"/>\n",
              "<line clip-path=\"url(#clip0003)\" x1=\"1295.43\" y1=\"1329.34\" x2=\"1295.43\" y2=\"1345.34\" style=\"stroke:#000000; stroke-width:4; stroke-opacity:0.8\"/>\n",
              "<line clip-path=\"url(#clip0003)\" x1=\"1330.63\" y1=\"1329.34\" x2=\"1330.63\" y2=\"1345.34\" style=\"stroke:#000000; stroke-width:4; stroke-opacity:0.8\"/>\n",
              "<line clip-path=\"url(#clip0003)\" x1=\"1549\" y1=\"1329.34\" x2=\"1549\" y2=\"1345.34\" style=\"stroke:#000000; stroke-width:4; stroke-opacity:0.8\"/>\n",
              "<line clip-path=\"url(#clip0003)\" x1=\"1618.62\" y1=\"1329.34\" x2=\"1618.62\" y2=\"1345.34\" style=\"stroke:#000000; stroke-width:4; stroke-opacity:0.8\"/>\n",
              "<line clip-path=\"url(#clip0003)\" x1=\"1650.99\" y1=\"1329.34\" x2=\"1650.99\" y2=\"1345.34\" style=\"stroke:#000000; stroke-width:4; stroke-opacity:0.8\"/>\n",
              "<line clip-path=\"url(#clip0003)\" x1=\"1718.57\" y1=\"1329.34\" x2=\"1718.57\" y2=\"1345.34\" style=\"stroke:#000000; stroke-width:4; stroke-opacity:0.8\"/>\n",
              "<line clip-path=\"url(#clip0003)\" x1=\"1733.84\" y1=\"1329.34\" x2=\"1733.84\" y2=\"1345.34\" style=\"stroke:#000000; stroke-width:4; stroke-opacity:0.8\"/>\n",
              "<line clip-path=\"url(#clip0003)\" x1=\"2178.22\" y1=\"1329.34\" x2=\"2178.22\" y2=\"1345.34\" style=\"stroke:#000000; stroke-width:4; stroke-opacity:0.8\"/>\n",
              "<line clip-path=\"url(#clip0003)\" x1=\"2445.47\" y1=\"1329.34\" x2=\"2445.47\" y2=\"1345.34\" style=\"stroke:#000000; stroke-width:4; stroke-opacity:0.8\"/>\n",
              "<line clip-path=\"url(#clip0003)\" x1=\"476.065\" y1=\"1314.88\" x2=\"476.065\" y2=\"1330.88\" style=\"stroke:#000000; stroke-width:4; stroke-opacity:0.8\"/>\n",
              "<line clip-path=\"url(#clip0003)\" x1=\"696.327\" y1=\"1314.88\" x2=\"696.327\" y2=\"1330.88\" style=\"stroke:#000000; stroke-width:4; stroke-opacity:0.8\"/>\n",
              "<line clip-path=\"url(#clip0003)\" x1=\"861.233\" y1=\"1314.88\" x2=\"861.233\" y2=\"1330.88\" style=\"stroke:#000000; stroke-width:4; stroke-opacity:0.8\"/>\n",
              "<line clip-path=\"url(#clip0003)\" x1=\"867.488\" y1=\"1314.88\" x2=\"867.488\" y2=\"1330.88\" style=\"stroke:#000000; stroke-width:4; stroke-opacity:0.8\"/>\n",
              "<line clip-path=\"url(#clip0003)\" x1=\"878.036\" y1=\"1314.88\" x2=\"878.036\" y2=\"1330.88\" style=\"stroke:#000000; stroke-width:4; stroke-opacity:0.8\"/>\n",
              "<line clip-path=\"url(#clip0003)\" x1=\"926.7\" y1=\"1314.88\" x2=\"926.7\" y2=\"1330.88\" style=\"stroke:#000000; stroke-width:4; stroke-opacity:0.8\"/>\n",
              "<line clip-path=\"url(#clip0003)\" x1=\"943.503\" y1=\"1314.88\" x2=\"943.503\" y2=\"1330.88\" style=\"stroke:#000000; stroke-width:4; stroke-opacity:0.8\"/>\n",
              "<line clip-path=\"url(#clip0003)\" x1=\"965.762\" y1=\"1314.88\" x2=\"965.762\" y2=\"1330.88\" style=\"stroke:#000000; stroke-width:4; stroke-opacity:0.8\"/>\n",
              "<line clip-path=\"url(#clip0003)\" x1=\"991.804\" y1=\"1314.88\" x2=\"991.804\" y2=\"1330.88\" style=\"stroke:#000000; stroke-width:4; stroke-opacity:0.8\"/>\n",
              "<line clip-path=\"url(#clip0003)\" x1=\"999.733\" y1=\"1314.88\" x2=\"999.733\" y2=\"1330.88\" style=\"stroke:#000000; stroke-width:4; stroke-opacity:0.8\"/>\n",
              "<line clip-path=\"url(#clip0003)\" x1=\"1034.36\" y1=\"1314.88\" x2=\"1034.36\" y2=\"1330.88\" style=\"stroke:#000000; stroke-width:4; stroke-opacity:0.8\"/>\n",
              "<line clip-path=\"url(#clip0003)\" x1=\"1038.65\" y1=\"1314.88\" x2=\"1038.65\" y2=\"1330.88\" style=\"stroke:#000000; stroke-width:4; stroke-opacity:0.8\"/>\n",
              "<line clip-path=\"url(#clip0003)\" x1=\"1069.64\" y1=\"1314.88\" x2=\"1069.64\" y2=\"1330.88\" style=\"stroke:#000000; stroke-width:4; stroke-opacity:0.8\"/>\n",
              "<line clip-path=\"url(#clip0003)\" x1=\"1125.58\" y1=\"1314.88\" x2=\"1125.58\" y2=\"1330.88\" style=\"stroke:#000000; stroke-width:4; stroke-opacity:0.8\"/>\n",
              "<line clip-path=\"url(#clip0003)\" x1=\"1471.03\" y1=\"1314.88\" x2=\"1471.03\" y2=\"1330.88\" style=\"stroke:#000000; stroke-width:4; stroke-opacity:0.8\"/>\n",
              "<line clip-path=\"url(#clip0003)\" x1=\"1525.51\" y1=\"1314.88\" x2=\"1525.51\" y2=\"1330.88\" style=\"stroke:#000000; stroke-width:4; stroke-opacity:0.8\"/>\n",
              "<line clip-path=\"url(#clip0003)\" x1=\"419.254\" y1=\"1300.41\" x2=\"419.254\" y2=\"1316.41\" style=\"stroke:#000000; stroke-width:4; stroke-opacity:0.8\"/>\n",
              "<line clip-path=\"url(#clip0003)\" x1=\"533.022\" y1=\"1300.41\" x2=\"533.022\" y2=\"1316.41\" style=\"stroke:#000000; stroke-width:4; stroke-opacity:0.8\"/>\n",
              "<line clip-path=\"url(#clip0003)\" x1=\"658.865\" y1=\"1300.41\" x2=\"658.865\" y2=\"1316.41\" style=\"stroke:#000000; stroke-width:4; stroke-opacity:0.8\"/>\n",
              "<line clip-path=\"url(#clip0003)\" x1=\"669.486\" y1=\"1300.41\" x2=\"669.486\" y2=\"1316.41\" style=\"stroke:#000000; stroke-width:4; stroke-opacity:0.8\"/>\n",
              "<line clip-path=\"url(#clip0003)\" x1=\"704.62\" y1=\"1300.41\" x2=\"704.62\" y2=\"1316.41\" style=\"stroke:#000000; stroke-width:4; stroke-opacity:0.8\"/>\n",
              "<line clip-path=\"url(#clip0003)\" x1=\"709.13\" y1=\"1300.41\" x2=\"709.13\" y2=\"1316.41\" style=\"stroke:#000000; stroke-width:4; stroke-opacity:0.8\"/>\n",
              "<line clip-path=\"url(#clip0003)\" x1=\"827.699\" y1=\"1300.41\" x2=\"827.699\" y2=\"1316.41\" style=\"stroke:#000000; stroke-width:4; stroke-opacity:0.8\"/>\n",
              "<line clip-path=\"url(#clip0003)\" x1=\"965.762\" y1=\"1300.41\" x2=\"965.762\" y2=\"1316.41\" style=\"stroke:#000000; stroke-width:4; stroke-opacity:0.8\"/>\n",
              "<line clip-path=\"url(#clip0003)\" x1=\"1008.9\" y1=\"1300.41\" x2=\"1008.9\" y2=\"1316.41\" style=\"stroke:#000000; stroke-width:4; stroke-opacity:0.8\"/>\n",
              "<line clip-path=\"url(#clip0003)\" x1=\"1181\" y1=\"1300.41\" x2=\"1181\" y2=\"1316.41\" style=\"stroke:#000000; stroke-width:4; stroke-opacity:0.8\"/>\n",
              "<line clip-path=\"url(#clip0003)\" x1=\"1403.3\" y1=\"1300.41\" x2=\"1403.3\" y2=\"1316.41\" style=\"stroke:#000000; stroke-width:4; stroke-opacity:0.8\"/>\n",
              "<line clip-path=\"url(#clip0003)\" x1=\"1449.06\" y1=\"1300.41\" x2=\"1449.06\" y2=\"1316.41\" style=\"stroke:#000000; stroke-width:4; stroke-opacity:0.8\"/>\n",
              "<line clip-path=\"url(#clip0003)\" x1=\"1517\" y1=\"1300.41\" x2=\"1517\" y2=\"1316.41\" style=\"stroke:#000000; stroke-width:4; stroke-opacity:0.8\"/>\n",
              "<line clip-path=\"url(#clip0003)\" x1=\"1572.65\" y1=\"1300.41\" x2=\"1572.65\" y2=\"1316.41\" style=\"stroke:#000000; stroke-width:4; stroke-opacity:0.8\"/>\n",
              "<line clip-path=\"url(#clip0003)\" x1=\"1794.73\" y1=\"1300.41\" x2=\"1794.73\" y2=\"1316.41\" style=\"stroke:#000000; stroke-width:4; stroke-opacity:0.8\"/>\n",
              "<line clip-path=\"url(#clip0003)\" x1=\"2411.58\" y1=\"1300.41\" x2=\"2411.58\" y2=\"1316.41\" style=\"stroke:#000000; stroke-width:4; stroke-opacity:0.8\"/>\n",
              "<line clip-path=\"url(#clip0003)\" x1=\"908.587\" y1=\"1285.94\" x2=\"908.587\" y2=\"1301.94\" style=\"stroke:#000000; stroke-width:4; stroke-opacity:0.8\"/>\n",
              "<line clip-path=\"url(#clip0003)\" x1=\"993.55\" y1=\"1285.94\" x2=\"993.55\" y2=\"1301.94\" style=\"stroke:#000000; stroke-width:4; stroke-opacity:0.8\"/>\n",
              "<line clip-path=\"url(#clip0003)\" x1=\"1018.79\" y1=\"1285.94\" x2=\"1018.79\" y2=\"1301.94\" style=\"stroke:#000000; stroke-width:4; stroke-opacity:0.8\"/>\n",
              "<line clip-path=\"url(#clip0003)\" x1=\"1027.01\" y1=\"1285.94\" x2=\"1027.01\" y2=\"1301.94\" style=\"stroke:#000000; stroke-width:4; stroke-opacity:0.8\"/>\n",
              "<line clip-path=\"url(#clip0003)\" x1=\"1033.63\" y1=\"1285.94\" x2=\"1033.63\" y2=\"1301.94\" style=\"stroke:#000000; stroke-width:4; stroke-opacity:0.8\"/>\n",
              "<line clip-path=\"url(#clip0003)\" x1=\"1052.83\" y1=\"1285.94\" x2=\"1052.83\" y2=\"1301.94\" style=\"stroke:#000000; stroke-width:4; stroke-opacity:0.8\"/>\n",
              "<line clip-path=\"url(#clip0003)\" x1=\"1106.88\" y1=\"1285.94\" x2=\"1106.88\" y2=\"1301.94\" style=\"stroke:#000000; stroke-width:4; stroke-opacity:0.8\"/>\n",
              "<line clip-path=\"url(#clip0003)\" x1=\"1131.83\" y1=\"1285.94\" x2=\"1131.83\" y2=\"1301.94\" style=\"stroke:#000000; stroke-width:4; stroke-opacity:0.8\"/>\n",
              "<line clip-path=\"url(#clip0003)\" x1=\"1258.26\" y1=\"1285.94\" x2=\"1258.26\" y2=\"1301.94\" style=\"stroke:#000000; stroke-width:4; stroke-opacity:0.8\"/>\n",
              "<line clip-path=\"url(#clip0003)\" x1=\"1421.56\" y1=\"1285.94\" x2=\"1421.56\" y2=\"1301.94\" style=\"stroke:#000000; stroke-width:4; stroke-opacity:0.8\"/>\n",
              "<line clip-path=\"url(#clip0003)\" x1=\"1430.95\" y1=\"1285.94\" x2=\"1430.95\" y2=\"1301.94\" style=\"stroke:#000000; stroke-width:4; stroke-opacity:0.8\"/>\n",
              "<line clip-path=\"url(#clip0003)\" x1=\"665.121\" y1=\"1271.47\" x2=\"665.121\" y2=\"1287.47\" style=\"stroke:#000000; stroke-width:4; stroke-opacity:0.8\"/>\n",
              "<line clip-path=\"url(#clip0003)\" x1=\"724.478\" y1=\"1271.47\" x2=\"724.478\" y2=\"1287.47\" style=\"stroke:#000000; stroke-width:4; stroke-opacity:0.8\"/>\n",
              "<line clip-path=\"url(#clip0003)\" x1=\"810.022\" y1=\"1271.47\" x2=\"810.022\" y2=\"1287.47\" style=\"stroke:#000000; stroke-width:4; stroke-opacity:0.8\"/>\n",
              "<line clip-path=\"url(#clip0003)\" x1=\"968.526\" y1=\"1271.47\" x2=\"968.526\" y2=\"1287.47\" style=\"stroke:#000000; stroke-width:4; stroke-opacity:0.8\"/>\n",
              "<line clip-path=\"url(#clip0003)\" x1=\"1196.72\" y1=\"1271.47\" x2=\"1196.72\" y2=\"1287.47\" style=\"stroke:#000000; stroke-width:4; stroke-opacity:0.8\"/>\n",
              "<line clip-path=\"url(#clip0003)\" x1=\"1226.98\" y1=\"1271.47\" x2=\"1226.98\" y2=\"1287.47\" style=\"stroke:#000000; stroke-width:4; stroke-opacity:0.8\"/>\n",
              "<line clip-path=\"url(#clip0003)\" x1=\"1249.67\" y1=\"1271.47\" x2=\"1249.67\" y2=\"1287.47\" style=\"stroke:#000000; stroke-width:4; stroke-opacity:0.8\"/>\n",
              "<line clip-path=\"url(#clip0003)\" x1=\"1263.35\" y1=\"1271.47\" x2=\"1263.35\" y2=\"1287.47\" style=\"stroke:#000000; stroke-width:4; stroke-opacity:0.8\"/>\n",
              "<line clip-path=\"url(#clip0003)\" x1=\"1273.61\" y1=\"1271.47\" x2=\"1273.61\" y2=\"1287.47\" style=\"stroke:#000000; stroke-width:4; stroke-opacity:0.8\"/>\n",
              "<line clip-path=\"url(#clip0003)\" x1=\"1299.43\" y1=\"1271.47\" x2=\"1299.43\" y2=\"1287.47\" style=\"stroke:#000000; stroke-width:4; stroke-opacity:0.8\"/>\n",
              "<line clip-path=\"url(#clip0003)\" x1=\"1659.94\" y1=\"1271.47\" x2=\"1659.94\" y2=\"1287.47\" style=\"stroke:#000000; stroke-width:4; stroke-opacity:0.8\"/>\n",
              "<line clip-path=\"url(#clip0003)\" x1=\"1667.36\" y1=\"1271.47\" x2=\"1667.36\" y2=\"1287.47\" style=\"stroke:#000000; stroke-width:4; stroke-opacity:0.8\"/>\n",
              "<line clip-path=\"url(#clip0003)\" x1=\"1684.74\" y1=\"1271.47\" x2=\"1684.74\" y2=\"1287.47\" style=\"stroke:#000000; stroke-width:4; stroke-opacity:0.8\"/>\n",
              "<line clip-path=\"url(#clip0003)\" x1=\"1701.18\" y1=\"1271.47\" x2=\"1701.18\" y2=\"1287.47\" style=\"stroke:#000000; stroke-width:4; stroke-opacity:0.8\"/>\n",
              "<line clip-path=\"url(#clip0003)\" x1=\"1707.07\" y1=\"1271.47\" x2=\"1707.07\" y2=\"1287.47\" style=\"stroke:#000000; stroke-width:4; stroke-opacity:0.8\"/>\n",
              "<line clip-path=\"url(#clip0003)\" x1=\"1712.02\" y1=\"1271.47\" x2=\"1712.02\" y2=\"1287.47\" style=\"stroke:#000000; stroke-width:4; stroke-opacity:0.8\"/>\n",
              "<line clip-path=\"url(#clip0003)\" x1=\"1717.77\" y1=\"1271.47\" x2=\"1717.77\" y2=\"1287.47\" style=\"stroke:#000000; stroke-width:4; stroke-opacity:0.8\"/>\n",
              "<line clip-path=\"url(#clip0003)\" x1=\"1723.37\" y1=\"1271.47\" x2=\"1723.37\" y2=\"1287.47\" style=\"stroke:#000000; stroke-width:4; stroke-opacity:0.8\"/>\n",
              "<line clip-path=\"url(#clip0003)\" x1=\"2047.07\" y1=\"1271.47\" x2=\"2047.07\" y2=\"1287.47\" style=\"stroke:#000000; stroke-width:4; stroke-opacity:0.8\"/>\n",
              "<line clip-path=\"url(#clip0003)\" x1=\"646.281\" y1=\"1257.01\" x2=\"646.281\" y2=\"1273.01\" style=\"stroke:#000000; stroke-width:4; stroke-opacity:0.8\"/>\n",
              "<line clip-path=\"url(#clip0003)\" x1=\"669.922\" y1=\"1257.01\" x2=\"669.922\" y2=\"1273.01\" style=\"stroke:#000000; stroke-width:4; stroke-opacity:0.8\"/>\n",
              "<line clip-path=\"url(#clip0003)\" x1=\"796.856\" y1=\"1257.01\" x2=\"796.856\" y2=\"1273.01\" style=\"stroke:#000000; stroke-width:4; stroke-opacity:0.8\"/>\n",
              "<line clip-path=\"url(#clip0003)\" x1=\"864.215\" y1=\"1257.01\" x2=\"864.215\" y2=\"1273.01\" style=\"stroke:#000000; stroke-width:4; stroke-opacity:0.8\"/>\n",
              "<line clip-path=\"url(#clip0003)\" x1=\"890.547\" y1=\"1257.01\" x2=\"890.547\" y2=\"1273.01\" style=\"stroke:#000000; stroke-width:4; stroke-opacity:0.8\"/>\n",
              "<line clip-path=\"url(#clip0003)\" x1=\"968.963\" y1=\"1257.01\" x2=\"968.963\" y2=\"1273.01\" style=\"stroke:#000000; stroke-width:4; stroke-opacity:0.8\"/>\n",
              "<line clip-path=\"url(#clip0003)\" x1=\"1006.42\" y1=\"1257.01\" x2=\"1006.42\" y2=\"1273.01\" style=\"stroke:#000000; stroke-width:4; stroke-opacity:0.8\"/>\n",
              "<line clip-path=\"url(#clip0003)\" x1=\"1037.63\" y1=\"1257.01\" x2=\"1037.63\" y2=\"1273.01\" style=\"stroke:#000000; stroke-width:4; stroke-opacity:0.8\"/>\n",
              "<line clip-path=\"url(#clip0003)\" x1=\"1046.58\" y1=\"1257.01\" x2=\"1046.58\" y2=\"1273.01\" style=\"stroke:#000000; stroke-width:4; stroke-opacity:0.8\"/>\n",
              "<line clip-path=\"url(#clip0003)\" x1=\"1069.27\" y1=\"1257.01\" x2=\"1069.27\" y2=\"1273.01\" style=\"stroke:#000000; stroke-width:4; stroke-opacity:0.8\"/>\n",
              "<line clip-path=\"url(#clip0003)\" x1=\"1366.79\" y1=\"1257.01\" x2=\"1366.79\" y2=\"1273.01\" style=\"stroke:#000000; stroke-width:4; stroke-opacity:0.8\"/>\n",
              "<line clip-path=\"url(#clip0003)\" x1=\"1399.23\" y1=\"1257.01\" x2=\"1399.23\" y2=\"1273.01\" style=\"stroke:#000000; stroke-width:4; stroke-opacity:0.8\"/>\n",
              "<line clip-path=\"url(#clip0003)\" x1=\"1458.95\" y1=\"1257.01\" x2=\"1458.95\" y2=\"1273.01\" style=\"stroke:#000000; stroke-width:4; stroke-opacity:0.8\"/>\n",
              "<line clip-path=\"url(#clip0003)\" x1=\"658.283\" y1=\"1242.54\" x2=\"658.283\" y2=\"1258.54\" style=\"stroke:#000000; stroke-width:4; stroke-opacity:0.8\"/>\n",
              "<line clip-path=\"url(#clip0003)\" x1=\"667.303\" y1=\"1242.54\" x2=\"667.303\" y2=\"1258.54\" style=\"stroke:#000000; stroke-width:4; stroke-opacity:0.8\"/>\n",
              "<line clip-path=\"url(#clip0003)\" x1=\"679.233\" y1=\"1242.54\" x2=\"679.233\" y2=\"1258.54\" style=\"stroke:#000000; stroke-width:4; stroke-opacity:0.8\"/>\n",
              "<line clip-path=\"url(#clip0003)\" x1=\"730.298\" y1=\"1242.54\" x2=\"730.298\" y2=\"1258.54\" style=\"stroke:#000000; stroke-width:4; stroke-opacity:0.8\"/>\n",
              "<line clip-path=\"url(#clip0003)\" x1=\"777.216\" y1=\"1242.54\" x2=\"777.216\" y2=\"1258.54\" style=\"stroke:#000000; stroke-width:4; stroke-opacity:0.8\"/>\n",
              "<line clip-path=\"url(#clip0003)\" x1=\"800.857\" y1=\"1242.54\" x2=\"800.857\" y2=\"1258.54\" style=\"stroke:#000000; stroke-width:4; stroke-opacity:0.8\"/>\n",
              "<line clip-path=\"url(#clip0003)\" x1=\"811.404\" y1=\"1242.54\" x2=\"811.404\" y2=\"1258.54\" style=\"stroke:#000000; stroke-width:4; stroke-opacity:0.8\"/>\n",
              "<line clip-path=\"url(#clip0003)\" x1=\"817.006\" y1=\"1242.54\" x2=\"817.006\" y2=\"1258.54\" style=\"stroke:#000000; stroke-width:4; stroke-opacity:0.8\"/>\n",
              "<line clip-path=\"url(#clip0003)\" x1=\"850.103\" y1=\"1242.54\" x2=\"850.103\" y2=\"1258.54\" style=\"stroke:#000000; stroke-width:4; stroke-opacity:0.8\"/>\n",
              "<line clip-path=\"url(#clip0003)\" x1=\"908.733\" y1=\"1242.54\" x2=\"908.733\" y2=\"1258.54\" style=\"stroke:#000000; stroke-width:4; stroke-opacity:0.8\"/>\n",
              "<line clip-path=\"url(#clip0003)\" x1=\"914.989\" y1=\"1242.54\" x2=\"914.989\" y2=\"1258.54\" style=\"stroke:#000000; stroke-width:4; stroke-opacity:0.8\"/>\n",
              "<line clip-path=\"url(#clip0003)\" x1=\"923.208\" y1=\"1242.54\" x2=\"923.208\" y2=\"1258.54\" style=\"stroke:#000000; stroke-width:4; stroke-opacity:0.8\"/>\n",
              "<line clip-path=\"url(#clip0003)\" x1=\"942.485\" y1=\"1242.54\" x2=\"942.485\" y2=\"1258.54\" style=\"stroke:#000000; stroke-width:4; stroke-opacity:0.8\"/>\n",
              "<line clip-path=\"url(#clip0003)\" x1=\"1002.57\" y1=\"1242.54\" x2=\"1002.57\" y2=\"1258.54\" style=\"stroke:#000000; stroke-width:4; stroke-opacity:0.8\"/>\n",
              "<line clip-path=\"url(#clip0003)\" x1=\"1039.89\" y1=\"1242.54\" x2=\"1039.89\" y2=\"1258.54\" style=\"stroke:#000000; stroke-width:4; stroke-opacity:0.8\"/>\n",
              "<line clip-path=\"url(#clip0003)\" x1=\"1076.26\" y1=\"1242.54\" x2=\"1076.26\" y2=\"1258.54\" style=\"stroke:#000000; stroke-width:4; stroke-opacity:0.8\"/>\n",
              "<line clip-path=\"url(#clip0003)\" x1=\"1083.31\" y1=\"1242.54\" x2=\"1083.31\" y2=\"1258.54\" style=\"stroke:#000000; stroke-width:4; stroke-opacity:0.8\"/>\n",
              "<line clip-path=\"url(#clip0003)\" x1=\"1206.17\" y1=\"1242.54\" x2=\"1206.17\" y2=\"1258.54\" style=\"stroke:#000000; stroke-width:4; stroke-opacity:0.8\"/>\n",
              "<line clip-path=\"url(#clip0003)\" x1=\"1218.1\" y1=\"1242.54\" x2=\"1218.1\" y2=\"1258.54\" style=\"stroke:#000000; stroke-width:4; stroke-opacity:0.8\"/>\n",
              "<line clip-path=\"url(#clip0003)\" x1=\"1245.45\" y1=\"1242.54\" x2=\"1245.45\" y2=\"1258.54\" style=\"stroke:#000000; stroke-width:4; stroke-opacity:0.8\"/>\n",
              "<line clip-path=\"url(#clip0003)\" x1=\"1271.93\" y1=\"1242.54\" x2=\"1271.93\" y2=\"1258.54\" style=\"stroke:#000000; stroke-width:4; stroke-opacity:0.8\"/>\n",
              "<line clip-path=\"url(#clip0003)\" x1=\"1280.88\" y1=\"1242.54\" x2=\"1280.88\" y2=\"1258.54\" style=\"stroke:#000000; stroke-width:4; stroke-opacity:0.8\"/>\n",
              "<line clip-path=\"url(#clip0003)\" x1=\"1370.57\" y1=\"1242.54\" x2=\"1370.57\" y2=\"1258.54\" style=\"stroke:#000000; stroke-width:4; stroke-opacity:0.8\"/>\n",
              "<line clip-path=\"url(#clip0003)\" x1=\"1417.12\" y1=\"1242.54\" x2=\"1417.12\" y2=\"1258.54\" style=\"stroke:#000000; stroke-width:4; stroke-opacity:0.8\"/>\n",
              "<line clip-path=\"url(#clip0003)\" x1=\"1611.78\" y1=\"1242.54\" x2=\"1611.78\" y2=\"1258.54\" style=\"stroke:#000000; stroke-width:4; stroke-opacity:0.8\"/>\n",
              "<line clip-path=\"url(#clip0003)\" x1=\"1624.44\" y1=\"1242.54\" x2=\"1624.44\" y2=\"1258.54\" style=\"stroke:#000000; stroke-width:4; stroke-opacity:0.8\"/>\n",
              "<line clip-path=\"url(#clip0003)\" x1=\"1633.97\" y1=\"1242.54\" x2=\"1633.97\" y2=\"1258.54\" style=\"stroke:#000000; stroke-width:4; stroke-opacity:0.8\"/>\n",
              "<line clip-path=\"url(#clip0003)\" x1=\"1722.2\" y1=\"1242.54\" x2=\"1722.2\" y2=\"1258.54\" style=\"stroke:#000000; stroke-width:4; stroke-opacity:0.8\"/>\n",
              "<line clip-path=\"url(#clip0003)\" x1=\"1753.48\" y1=\"1242.54\" x2=\"1753.48\" y2=\"1258.54\" style=\"stroke:#000000; stroke-width:4; stroke-opacity:0.8\"/>\n",
              "<line clip-path=\"url(#clip0003)\" x1=\"2130.36\" y1=\"1242.54\" x2=\"2130.36\" y2=\"1258.54\" style=\"stroke:#000000; stroke-width:4; stroke-opacity:0.8\"/>\n",
              "<line clip-path=\"url(#clip0003)\" x1=\"333.346\" y1=\"1228.07\" x2=\"333.346\" y2=\"1244.07\" style=\"stroke:#000000; stroke-width:4; stroke-opacity:0.8\"/>\n",
              "<line clip-path=\"url(#clip0003)\" x1=\"349.786\" y1=\"1228.07\" x2=\"349.786\" y2=\"1244.07\" style=\"stroke:#000000; stroke-width:4; stroke-opacity:0.8\"/>\n",
              "<line clip-path=\"url(#clip0003)\" x1=\"356.696\" y1=\"1228.07\" x2=\"356.696\" y2=\"1244.07\" style=\"stroke:#000000; stroke-width:4; stroke-opacity:0.8\"/>\n",
              "<line clip-path=\"url(#clip0003)\" x1=\"863.851\" y1=\"1228.07\" x2=\"863.851\" y2=\"1244.07\" style=\"stroke:#000000; stroke-width:4; stroke-opacity:0.8\"/>\n",
              "<line clip-path=\"url(#clip0003)\" x1=\"967.872\" y1=\"1228.07\" x2=\"967.872\" y2=\"1244.07\" style=\"stroke:#000000; stroke-width:4; stroke-opacity:0.8\"/>\n",
              "<line clip-path=\"url(#clip0003)\" x1=\"1023.88\" y1=\"1228.07\" x2=\"1023.88\" y2=\"1244.07\" style=\"stroke:#000000; stroke-width:4; stroke-opacity:0.8\"/>\n",
              "<line clip-path=\"url(#clip0003)\" x1=\"1174.82\" y1=\"1228.07\" x2=\"1174.82\" y2=\"1244.07\" style=\"stroke:#000000; stroke-width:4; stroke-opacity:0.8\"/>\n",
              "<line clip-path=\"url(#clip0003)\" x1=\"1249.89\" y1=\"1228.07\" x2=\"1249.89\" y2=\"1244.07\" style=\"stroke:#000000; stroke-width:4; stroke-opacity:0.8\"/>\n",
              "<line clip-path=\"url(#clip0003)\" x1=\"1432.18\" y1=\"1228.07\" x2=\"1432.18\" y2=\"1244.07\" style=\"stroke:#000000; stroke-width:4; stroke-opacity:0.8\"/>\n",
              "<line clip-path=\"url(#clip0003)\" x1=\"1708.53\" y1=\"1228.07\" x2=\"1708.53\" y2=\"1244.07\" style=\"stroke:#000000; stroke-width:4; stroke-opacity:0.8\"/>\n",
              "<line clip-path=\"url(#clip0003)\" x1=\"2294.17\" y1=\"1228.07\" x2=\"2294.17\" y2=\"1244.07\" style=\"stroke:#000000; stroke-width:4; stroke-opacity:0.8\"/>\n",
              "<line clip-path=\"url(#clip0003)\" x1=\"321.489\" y1=\"1213.6\" x2=\"321.489\" y2=\"1229.6\" style=\"stroke:#000000; stroke-width:4; stroke-opacity:0.8\"/>\n",
              "<line clip-path=\"url(#clip0003)\" x1=\"444.205\" y1=\"1213.6\" x2=\"444.205\" y2=\"1229.6\" style=\"stroke:#000000; stroke-width:4; stroke-opacity:0.8\"/>\n",
              "<line clip-path=\"url(#clip0003)\" x1=\"580.813\" y1=\"1213.6\" x2=\"580.813\" y2=\"1229.6\" style=\"stroke:#000000; stroke-width:4; stroke-opacity:0.8\"/>\n",
              "<line clip-path=\"url(#clip0003)\" x1=\"936.447\" y1=\"1213.6\" x2=\"936.447\" y2=\"1229.6\" style=\"stroke:#000000; stroke-width:4; stroke-opacity:0.8\"/>\n",
              "<line clip-path=\"url(#clip0003)\" x1=\"944.376\" y1=\"1213.6\" x2=\"944.376\" y2=\"1229.6\" style=\"stroke:#000000; stroke-width:4; stroke-opacity:0.8\"/>\n",
              "<line clip-path=\"url(#clip0003)\" x1=\"1143.32\" y1=\"1213.6\" x2=\"1143.32\" y2=\"1229.6\" style=\"stroke:#000000; stroke-width:4; stroke-opacity:0.8\"/>\n",
              "<line clip-path=\"url(#clip0003)\" x1=\"1313.25\" y1=\"1213.6\" x2=\"1313.25\" y2=\"1229.6\" style=\"stroke:#000000; stroke-width:4; stroke-opacity:0.8\"/>\n",
              "<line clip-path=\"url(#clip0003)\" x1=\"2067.29\" y1=\"1213.6\" x2=\"2067.29\" y2=\"1229.6\" style=\"stroke:#000000; stroke-width:4; stroke-opacity:0.8\"/>\n",
              "<line clip-path=\"url(#clip0003)\" x1=\"2176.77\" y1=\"1213.6\" x2=\"2176.77\" y2=\"1229.6\" style=\"stroke:#000000; stroke-width:4; stroke-opacity:0.8\"/>\n",
              "<line clip-path=\"url(#clip0003)\" x1=\"332.983\" y1=\"1199.14\" x2=\"332.983\" y2=\"1215.14\" style=\"stroke:#000000; stroke-width:4; stroke-opacity:0.8\"/>\n",
              "<line clip-path=\"url(#clip0003)\" x1=\"533.459\" y1=\"1199.14\" x2=\"533.459\" y2=\"1215.14\" style=\"stroke:#000000; stroke-width:4; stroke-opacity:0.8\"/>\n",
              "<line clip-path=\"url(#clip0003)\" x1=\"586.56\" y1=\"1199.14\" x2=\"586.56\" y2=\"1215.14\" style=\"stroke:#000000; stroke-width:4; stroke-opacity:0.8\"/>\n",
              "<line clip-path=\"url(#clip0003)\" x1=\"713.931\" y1=\"1199.14\" x2=\"713.931\" y2=\"1215.14\" style=\"stroke:#000000; stroke-width:4; stroke-opacity:0.8\"/>\n",
              "<line clip-path=\"url(#clip0003)\" x1=\"809.295\" y1=\"1199.14\" x2=\"809.295\" y2=\"1215.14\" style=\"stroke:#000000; stroke-width:4; stroke-opacity:0.8\"/>\n",
              "<line clip-path=\"url(#clip0003)\" x1=\"902.623\" y1=\"1199.14\" x2=\"902.623\" y2=\"1215.14\" style=\"stroke:#000000; stroke-width:4; stroke-opacity:0.8\"/>\n",
              "<line clip-path=\"url(#clip0003)\" x1=\"948.377\" y1=\"1199.14\" x2=\"948.377\" y2=\"1215.14\" style=\"stroke:#000000; stroke-width:4; stroke-opacity:0.8\"/>\n",
              "<line clip-path=\"url(#clip0003)\" x1=\"1055.31\" y1=\"1199.14\" x2=\"1055.31\" y2=\"1215.14\" style=\"stroke:#000000; stroke-width:4; stroke-opacity:0.8\"/>\n",
              "<line clip-path=\"url(#clip0003)\" x1=\"1353.33\" y1=\"1199.14\" x2=\"1353.33\" y2=\"1215.14\" style=\"stroke:#000000; stroke-width:4; stroke-opacity:0.8\"/>\n",
              "<line clip-path=\"url(#clip0003)\" x1=\"1400.76\" y1=\"1199.14\" x2=\"1400.76\" y2=\"1215.14\" style=\"stroke:#000000; stroke-width:4; stroke-opacity:0.8\"/>\n",
              "<line clip-path=\"url(#clip0003)\" x1=\"2013.61\" y1=\"1199.14\" x2=\"2013.61\" y2=\"1215.14\" style=\"stroke:#000000; stroke-width:4; stroke-opacity:0.8\"/>\n",
              "<line clip-path=\"url(#clip0003)\" x1=\"2239.76\" y1=\"1199.14\" x2=\"2239.76\" y2=\"1215.14\" style=\"stroke:#000000; stroke-width:4; stroke-opacity:0.8\"/>\n",
              "<line clip-path=\"url(#clip0003)\" x1=\"650.282\" y1=\"1184.67\" x2=\"650.282\" y2=\"1200.67\" style=\"stroke:#000000; stroke-width:4; stroke-opacity:0.8\"/>\n",
              "<line clip-path=\"url(#clip0003)\" x1=\"717.859\" y1=\"1184.67\" x2=\"717.859\" y2=\"1200.67\" style=\"stroke:#000000; stroke-width:4; stroke-opacity:0.8\"/>\n",
              "<line clip-path=\"url(#clip0003)\" x1=\"930.337\" y1=\"1184.67\" x2=\"930.337\" y2=\"1200.67\" style=\"stroke:#000000; stroke-width:4; stroke-opacity:0.8\"/>\n",
              "<line clip-path=\"url(#clip0003)\" x1=\"1067.89\" y1=\"1184.67\" x2=\"1067.89\" y2=\"1200.67\" style=\"stroke:#000000; stroke-width:4; stroke-opacity:0.8\"/>\n",
              "<line clip-path=\"url(#clip0003)\" x1=\"1133.43\" y1=\"1184.67\" x2=\"1133.43\" y2=\"1200.67\" style=\"stroke:#000000; stroke-width:4; stroke-opacity:0.8\"/>\n",
              "<line clip-path=\"url(#clip0003)\" x1=\"1266.19\" y1=\"1184.67\" x2=\"1266.19\" y2=\"1200.67\" style=\"stroke:#000000; stroke-width:4; stroke-opacity:0.8\"/>\n",
              "<line clip-path=\"url(#clip0003)\" x1=\"1407.74\" y1=\"1184.67\" x2=\"1407.74\" y2=\"1200.67\" style=\"stroke:#000000; stroke-width:4; stroke-opacity:0.8\"/>\n",
              "<line clip-path=\"url(#clip0003)\" x1=\"1493.65\" y1=\"1184.67\" x2=\"1493.65\" y2=\"1200.67\" style=\"stroke:#000000; stroke-width:4; stroke-opacity:0.8\"/>\n",
              "<line clip-path=\"url(#clip0003)\" x1=\"1536.49\" y1=\"1184.67\" x2=\"1536.49\" y2=\"1200.67\" style=\"stroke:#000000; stroke-width:4; stroke-opacity:0.8\"/>\n",
              "<line clip-path=\"url(#clip0003)\" x1=\"1559.48\" y1=\"1184.67\" x2=\"1559.48\" y2=\"1200.67\" style=\"stroke:#000000; stroke-width:4; stroke-opacity:0.8\"/>\n",
              "<line clip-path=\"url(#clip0003)\" x1=\"1641.39\" y1=\"1184.67\" x2=\"1641.39\" y2=\"1200.67\" style=\"stroke:#000000; stroke-width:4; stroke-opacity:0.8\"/>\n",
              "<line clip-path=\"url(#clip0003)\" x1=\"1648.52\" y1=\"1184.67\" x2=\"1648.52\" y2=\"1200.67\" style=\"stroke:#000000; stroke-width:4; stroke-opacity:0.8\"/>\n",
              "<line clip-path=\"url(#clip0003)\" x1=\"1666.99\" y1=\"1184.67\" x2=\"1666.99\" y2=\"1200.67\" style=\"stroke:#000000; stroke-width:4; stroke-opacity:0.8\"/>\n",
              "<line clip-path=\"url(#clip0003)\" x1=\"1741.33\" y1=\"1184.67\" x2=\"1741.33\" y2=\"1200.67\" style=\"stroke:#000000; stroke-width:4; stroke-opacity:0.8\"/>\n",
              "<line clip-path=\"url(#clip0003)\" x1=\"1761.77\" y1=\"1184.67\" x2=\"1761.77\" y2=\"1200.67\" style=\"stroke:#000000; stroke-width:4; stroke-opacity:0.8\"/>\n",
              "<line clip-path=\"url(#clip0003)\" x1=\"500.507\" y1=\"1170.2\" x2=\"500.507\" y2=\"1186.2\" style=\"stroke:#000000; stroke-width:4; stroke-opacity:0.8\"/>\n",
              "<line clip-path=\"url(#clip0003)\" x1=\"776.779\" y1=\"1170.2\" x2=\"776.779\" y2=\"1186.2\" style=\"stroke:#000000; stroke-width:4; stroke-opacity:0.8\"/>\n",
              "<line clip-path=\"url(#clip0003)\" x1=\"877.236\" y1=\"1170.2\" x2=\"877.236\" y2=\"1186.2\" style=\"stroke:#000000; stroke-width:4; stroke-opacity:0.8\"/>\n",
              "<line clip-path=\"url(#clip0003)\" x1=\"941.83\" y1=\"1170.2\" x2=\"941.83\" y2=\"1186.2\" style=\"stroke:#000000; stroke-width:4; stroke-opacity:0.8\"/>\n",
              "<line clip-path=\"url(#clip0003)\" x1=\"1058.14\" y1=\"1170.2\" x2=\"1058.14\" y2=\"1186.2\" style=\"stroke:#000000; stroke-width:4; stroke-opacity:0.8\"/>\n",
              "<line clip-path=\"url(#clip0003)\" x1=\"1084.48\" y1=\"1170.2\" x2=\"1084.48\" y2=\"1186.2\" style=\"stroke:#000000; stroke-width:4; stroke-opacity:0.8\"/>\n",
              "<line clip-path=\"url(#clip0003)\" x1=\"1262.11\" y1=\"1170.2\" x2=\"1262.11\" y2=\"1186.2\" style=\"stroke:#000000; stroke-width:4; stroke-opacity:0.8\"/>\n",
              "<line clip-path=\"url(#clip0003)\" x1=\"1541.37\" y1=\"1170.2\" x2=\"1541.37\" y2=\"1186.2\" style=\"stroke:#000000; stroke-width:4; stroke-opacity:0.8\"/>\n",
              "<line clip-path=\"url(#clip0003)\" x1=\"1548.2\" y1=\"1170.2\" x2=\"1548.2\" y2=\"1186.2\" style=\"stroke:#000000; stroke-width:4; stroke-opacity:0.8\"/>\n",
              "<line clip-path=\"url(#clip0003)\" x1=\"1611.56\" y1=\"1170.2\" x2=\"1611.56\" y2=\"1186.2\" style=\"stroke:#000000; stroke-width:4; stroke-opacity:0.8\"/>\n",
              "<line clip-path=\"url(#clip0003)\" x1=\"1659.86\" y1=\"1170.2\" x2=\"1659.86\" y2=\"1186.2\" style=\"stroke:#000000; stroke-width:4; stroke-opacity:0.8\"/>\n",
              "<line clip-path=\"url(#clip0003)\" x1=\"1689.32\" y1=\"1170.2\" x2=\"1689.32\" y2=\"1186.2\" style=\"stroke:#000000; stroke-width:4; stroke-opacity:0.8\"/>\n",
              "<line clip-path=\"url(#clip0003)\" x1=\"1696.82\" y1=\"1170.2\" x2=\"1696.82\" y2=\"1186.2\" style=\"stroke:#000000; stroke-width:4; stroke-opacity:0.8\"/>\n",
              "<line clip-path=\"url(#clip0003)\" x1=\"1705.04\" y1=\"1170.2\" x2=\"1705.04\" y2=\"1186.2\" style=\"stroke:#000000; stroke-width:4; stroke-opacity:0.8\"/>\n",
              "<line clip-path=\"url(#clip0003)\" x1=\"1733.41\" y1=\"1170.2\" x2=\"1733.41\" y2=\"1186.2\" style=\"stroke:#000000; stroke-width:4; stroke-opacity:0.8\"/>\n",
              "<line clip-path=\"url(#clip0003)\" x1=\"2090.78\" y1=\"1170.2\" x2=\"2090.78\" y2=\"1186.2\" style=\"stroke:#000000; stroke-width:4; stroke-opacity:0.8\"/>\n",
              "<line clip-path=\"url(#clip0003)\" x1=\"655.665\" y1=\"1155.73\" x2=\"655.665\" y2=\"1171.73\" style=\"stroke:#000000; stroke-width:4; stroke-opacity:0.8\"/>\n",
              "<line clip-path=\"url(#clip0003)\" x1=\"672.25\" y1=\"1155.73\" x2=\"672.25\" y2=\"1171.73\" style=\"stroke:#000000; stroke-width:4; stroke-opacity:0.8\"/>\n",
              "<line clip-path=\"url(#clip0003)\" x1=\"705.493\" y1=\"1155.73\" x2=\"705.493\" y2=\"1171.73\" style=\"stroke:#000000; stroke-width:4; stroke-opacity:0.8\"/>\n",
              "<line clip-path=\"url(#clip0003)\" x1=\"790.528\" y1=\"1155.73\" x2=\"790.528\" y2=\"1171.73\" style=\"stroke:#000000; stroke-width:4; stroke-opacity:0.8\"/>\n",
              "<line clip-path=\"url(#clip0003)\" x1=\"845.157\" y1=\"1155.73\" x2=\"845.157\" y2=\"1171.73\" style=\"stroke:#000000; stroke-width:4; stroke-opacity:0.8\"/>\n",
              "<line clip-path=\"url(#clip0003)\" x1=\"879.854\" y1=\"1155.73\" x2=\"879.854\" y2=\"1171.73\" style=\"stroke:#000000; stroke-width:4; stroke-opacity:0.8\"/>\n",
              "<line clip-path=\"url(#clip0003)\" x1=\"941.612\" y1=\"1155.73\" x2=\"941.612\" y2=\"1171.73\" style=\"stroke:#000000; stroke-width:4; stroke-opacity:0.8\"/>\n",
              "<line clip-path=\"url(#clip0003)\" x1=\"949.104\" y1=\"1155.73\" x2=\"949.104\" y2=\"1171.73\" style=\"stroke:#000000; stroke-width:4; stroke-opacity:0.8\"/>\n",
              "<line clip-path=\"url(#clip0003)\" x1=\"957.979\" y1=\"1155.73\" x2=\"957.979\" y2=\"1171.73\" style=\"stroke:#000000; stroke-width:4; stroke-opacity:0.8\"/>\n",
              "<line clip-path=\"url(#clip0003)\" x1=\"981.693\" y1=\"1155.73\" x2=\"981.693\" y2=\"1171.73\" style=\"stroke:#000000; stroke-width:4; stroke-opacity:0.8\"/>\n",
              "<line clip-path=\"url(#clip0003)\" x1=\"1003.22\" y1=\"1155.73\" x2=\"1003.22\" y2=\"1171.73\" style=\"stroke:#000000; stroke-width:4; stroke-opacity:0.8\"/>\n",
              "<line clip-path=\"url(#clip0003)\" x1=\"1028.68\" y1=\"1155.73\" x2=\"1028.68\" y2=\"1171.73\" style=\"stroke:#000000; stroke-width:4; stroke-opacity:0.8\"/>\n",
              "<line clip-path=\"url(#clip0003)\" x1=\"1046.58\" y1=\"1155.73\" x2=\"1046.58\" y2=\"1171.73\" style=\"stroke:#000000; stroke-width:4; stroke-opacity:0.8\"/>\n",
              "<line clip-path=\"url(#clip0003)\" x1=\"1103.68\" y1=\"1155.73\" x2=\"1103.68\" y2=\"1171.73\" style=\"stroke:#000000; stroke-width:4; stroke-opacity:0.8\"/>\n",
              "<line clip-path=\"url(#clip0003)\" x1=\"1131.1\" y1=\"1155.73\" x2=\"1131.1\" y2=\"1171.73\" style=\"stroke:#000000; stroke-width:4; stroke-opacity:0.8\"/>\n",
              "<line clip-path=\"url(#clip0003)\" x1=\"1203.7\" y1=\"1155.73\" x2=\"1203.7\" y2=\"1171.73\" style=\"stroke:#000000; stroke-width:4; stroke-opacity:0.8\"/>\n",
              "<line clip-path=\"url(#clip0003)\" x1=\"1305.39\" y1=\"1155.73\" x2=\"1305.39\" y2=\"1171.73\" style=\"stroke:#000000; stroke-width:4; stroke-opacity:0.8\"/>\n",
              "<line clip-path=\"url(#clip0003)\" x1=\"1311.72\" y1=\"1155.73\" x2=\"1311.72\" y2=\"1171.73\" style=\"stroke:#000000; stroke-width:4; stroke-opacity:0.8\"/>\n",
              "<line clip-path=\"url(#clip0003)\" x1=\"1424.91\" y1=\"1155.73\" x2=\"1424.91\" y2=\"1171.73\" style=\"stroke:#000000; stroke-width:4; stroke-opacity:0.8\"/>\n",
              "<line clip-path=\"url(#clip0003)\" x1=\"1457.28\" y1=\"1155.73\" x2=\"1457.28\" y2=\"1171.73\" style=\"stroke:#000000; stroke-width:4; stroke-opacity:0.8\"/>\n",
              "<line clip-path=\"url(#clip0003)\" x1=\"1473.64\" y1=\"1155.73\" x2=\"1473.64\" y2=\"1171.73\" style=\"stroke:#000000; stroke-width:4; stroke-opacity:0.8\"/>\n",
              "<line clip-path=\"url(#clip0003)\" x1=\"1507.54\" y1=\"1155.73\" x2=\"1507.54\" y2=\"1171.73\" style=\"stroke:#000000; stroke-width:4; stroke-opacity:0.8\"/>\n",
              "<line clip-path=\"url(#clip0003)\" x1=\"1524.85\" y1=\"1155.73\" x2=\"1524.85\" y2=\"1171.73\" style=\"stroke:#000000; stroke-width:4; stroke-opacity:0.8\"/>\n",
              "<line clip-path=\"url(#clip0003)\" x1=\"1544.06\" y1=\"1155.73\" x2=\"1544.06\" y2=\"1171.73\" style=\"stroke:#000000; stroke-width:4; stroke-opacity:0.8\"/>\n",
              "<line clip-path=\"url(#clip0003)\" x1=\"1565.15\" y1=\"1155.73\" x2=\"1565.15\" y2=\"1171.73\" style=\"stroke:#000000; stroke-width:4; stroke-opacity:0.8\"/>\n",
              "<line clip-path=\"url(#clip0003)\" x1=\"1612.29\" y1=\"1155.73\" x2=\"1612.29\" y2=\"1171.73\" style=\"stroke:#000000; stroke-width:4; stroke-opacity:0.8\"/>\n",
              "<line clip-path=\"url(#clip0003)\" x1=\"1666.99\" y1=\"1155.73\" x2=\"1666.99\" y2=\"1171.73\" style=\"stroke:#000000; stroke-width:4; stroke-opacity:0.8\"/>\n",
              "<line clip-path=\"url(#clip0003)\" x1=\"1682.92\" y1=\"1155.73\" x2=\"1682.92\" y2=\"1171.73\" style=\"stroke:#000000; stroke-width:4; stroke-opacity:0.8\"/>\n",
              "<line clip-path=\"url(#clip0003)\" x1=\"1719\" y1=\"1155.73\" x2=\"1719\" y2=\"1171.73\" style=\"stroke:#000000; stroke-width:4; stroke-opacity:0.8\"/>\n",
              "<line clip-path=\"url(#clip0003)\" x1=\"1787.67\" y1=\"1155.73\" x2=\"1787.67\" y2=\"1171.73\" style=\"stroke:#000000; stroke-width:4; stroke-opacity:0.8\"/>\n",
              "<line clip-path=\"url(#clip0003)\" x1=\"2120.17\" y1=\"1155.73\" x2=\"2120.17\" y2=\"1171.73\" style=\"stroke:#000000; stroke-width:4; stroke-opacity:0.8\"/>\n",
              "<line clip-path=\"url(#clip0003)\" x1=\"404.269\" y1=\"1141.27\" x2=\"404.269\" y2=\"1157.27\" style=\"stroke:#000000; stroke-width:4; stroke-opacity:0.8\"/>\n",
              "<line clip-path=\"url(#clip0003)\" x1=\"692.981\" y1=\"1141.27\" x2=\"692.981\" y2=\"1157.27\" style=\"stroke:#000000; stroke-width:4; stroke-opacity:0.8\"/>\n",
              "<line clip-path=\"url(#clip0003)\" x1=\"724.624\" y1=\"1141.27\" x2=\"724.624\" y2=\"1157.27\" style=\"stroke:#000000; stroke-width:4; stroke-opacity:0.8\"/>\n",
              "<line clip-path=\"url(#clip0003)\" x1=\"738.081\" y1=\"1141.27\" x2=\"738.081\" y2=\"1157.27\" style=\"stroke:#000000; stroke-width:4; stroke-opacity:0.8\"/>\n",
              "<line clip-path=\"url(#clip0003)\" x1=\"773.579\" y1=\"1141.27\" x2=\"773.579\" y2=\"1157.27\" style=\"stroke:#000000; stroke-width:4; stroke-opacity:0.8\"/>\n",
              "<line clip-path=\"url(#clip0003)\" x1=\"819.406\" y1=\"1141.27\" x2=\"819.406\" y2=\"1157.27\" style=\"stroke:#000000; stroke-width:4; stroke-opacity:0.8\"/>\n",
              "<line clip-path=\"url(#clip0003)\" x1=\"886.474\" y1=\"1141.27\" x2=\"886.474\" y2=\"1157.27\" style=\"stroke:#000000; stroke-width:4; stroke-opacity:0.8\"/>\n",
              "<line clip-path=\"url(#clip0003)\" x1=\"894.403\" y1=\"1141.27\" x2=\"894.403\" y2=\"1157.27\" style=\"stroke:#000000; stroke-width:4; stroke-opacity:0.8\"/>\n",
              "<line clip-path=\"url(#clip0003)\" x1=\"905.896\" y1=\"1141.27\" x2=\"905.896\" y2=\"1157.27\" style=\"stroke:#000000; stroke-width:4; stroke-opacity:0.8\"/>\n",
              "<line clip-path=\"url(#clip0003)\" x1=\"924.3\" y1=\"1141.27\" x2=\"924.3\" y2=\"1157.27\" style=\"stroke:#000000; stroke-width:4; stroke-opacity:0.8\"/>\n",
              "<line clip-path=\"url(#clip0003)\" x1=\"949.541\" y1=\"1141.27\" x2=\"949.541\" y2=\"1157.27\" style=\"stroke:#000000; stroke-width:4; stroke-opacity:0.8\"/>\n",
              "<line clip-path=\"url(#clip0003)\" x1=\"1037.7\" y1=\"1141.27\" x2=\"1037.7\" y2=\"1157.27\" style=\"stroke:#000000; stroke-width:4; stroke-opacity:0.8\"/>\n",
              "<line clip-path=\"url(#clip0003)\" x1=\"1042\" y1=\"1141.27\" x2=\"1042\" y2=\"1157.27\" style=\"stroke:#000000; stroke-width:4; stroke-opacity:0.8\"/>\n",
              "<line clip-path=\"url(#clip0003)\" x1=\"1060.25\" y1=\"1141.27\" x2=\"1060.25\" y2=\"1157.27\" style=\"stroke:#000000; stroke-width:4; stroke-opacity:0.8\"/>\n",
              "<line clip-path=\"url(#clip0003)\" x1=\"1065.27\" y1=\"1141.27\" x2=\"1065.27\" y2=\"1157.27\" style=\"stroke:#000000; stroke-width:4; stroke-opacity:0.8\"/>\n",
              "<line clip-path=\"url(#clip0003)\" x1=\"1072.55\" y1=\"1141.27\" x2=\"1072.55\" y2=\"1157.27\" style=\"stroke:#000000; stroke-width:4; stroke-opacity:0.8\"/>\n",
              "<line clip-path=\"url(#clip0003)\" x1=\"1129.87\" y1=\"1141.27\" x2=\"1129.87\" y2=\"1157.27\" style=\"stroke:#000000; stroke-width:4; stroke-opacity:0.8\"/>\n",
              "<line clip-path=\"url(#clip0003)\" x1=\"1250.91\" y1=\"1141.27\" x2=\"1250.91\" y2=\"1157.27\" style=\"stroke:#000000; stroke-width:4; stroke-opacity:0.8\"/>\n",
              "<line clip-path=\"url(#clip0003)\" x1=\"1258.98\" y1=\"1141.27\" x2=\"1258.98\" y2=\"1157.27\" style=\"stroke:#000000; stroke-width:4; stroke-opacity:0.8\"/>\n",
              "<line clip-path=\"url(#clip0003)\" x1=\"1305.03\" y1=\"1141.27\" x2=\"1305.03\" y2=\"1157.27\" style=\"stroke:#000000; stroke-width:4; stroke-opacity:0.8\"/>\n",
              "<line clip-path=\"url(#clip0003)\" x1=\"1312.81\" y1=\"1141.27\" x2=\"1312.81\" y2=\"1157.27\" style=\"stroke:#000000; stroke-width:4; stroke-opacity:0.8\"/>\n",
              "<line clip-path=\"url(#clip0003)\" x1=\"1324.82\" y1=\"1141.27\" x2=\"1324.82\" y2=\"1157.27\" style=\"stroke:#000000; stroke-width:4; stroke-opacity:0.8\"/>\n",
              "<line clip-path=\"url(#clip0003)\" x1=\"1340.16\" y1=\"1141.27\" x2=\"1340.16\" y2=\"1157.27\" style=\"stroke:#000000; stroke-width:4; stroke-opacity:0.8\"/>\n",
              "<line clip-path=\"url(#clip0003)\" x1=\"1483.25\" y1=\"1141.27\" x2=\"1483.25\" y2=\"1157.27\" style=\"stroke:#000000; stroke-width:4; stroke-opacity:0.8\"/>\n",
              "<line clip-path=\"url(#clip0003)\" x1=\"1499.18\" y1=\"1141.27\" x2=\"1499.18\" y2=\"1157.27\" style=\"stroke:#000000; stroke-width:4; stroke-opacity:0.8\"/>\n",
              "<line clip-path=\"url(#clip0003)\" x1=\"1528.86\" y1=\"1141.27\" x2=\"1528.86\" y2=\"1157.27\" style=\"stroke:#000000; stroke-width:4; stroke-opacity:0.8\"/>\n",
              "<line clip-path=\"url(#clip0003)\" x1=\"1542.31\" y1=\"1141.27\" x2=\"1542.31\" y2=\"1157.27\" style=\"stroke:#000000; stroke-width:4; stroke-opacity:0.8\"/>\n",
              "<line clip-path=\"url(#clip0003)\" x1=\"1649.75\" y1=\"1141.27\" x2=\"1649.75\" y2=\"1157.27\" style=\"stroke:#000000; stroke-width:4; stroke-opacity:0.8\"/>\n",
              "<line clip-path=\"url(#clip0003)\" x1=\"1666.99\" y1=\"1141.27\" x2=\"1666.99\" y2=\"1157.27\" style=\"stroke:#000000; stroke-width:4; stroke-opacity:0.8\"/>\n",
              "<line clip-path=\"url(#clip0003)\" x1=\"1680.89\" y1=\"1141.27\" x2=\"1680.89\" y2=\"1157.27\" style=\"stroke:#000000; stroke-width:4; stroke-opacity:0.8\"/>\n",
              "<line clip-path=\"url(#clip0003)\" x1=\"1685.47\" y1=\"1141.27\" x2=\"1685.47\" y2=\"1157.27\" style=\"stroke:#000000; stroke-width:4; stroke-opacity:0.8\"/>\n",
              "<line clip-path=\"url(#clip0003)\" x1=\"1724.97\" y1=\"1141.27\" x2=\"1724.97\" y2=\"1157.27\" style=\"stroke:#000000; stroke-width:4; stroke-opacity:0.8\"/>\n",
              "<line clip-path=\"url(#clip0003)\" x1=\"526.766\" y1=\"1126.8\" x2=\"526.766\" y2=\"1142.8\" style=\"stroke:#000000; stroke-width:4; stroke-opacity:0.8\"/>\n",
              "<line clip-path=\"url(#clip0003)\" x1=\"663.084\" y1=\"1126.8\" x2=\"663.084\" y2=\"1142.8\" style=\"stroke:#000000; stroke-width:4; stroke-opacity:0.8\"/>\n",
              "<line clip-path=\"url(#clip0003)\" x1=\"834.391\" y1=\"1126.8\" x2=\"834.391\" y2=\"1142.8\" style=\"stroke:#000000; stroke-width:4; stroke-opacity:0.8\"/>\n",
              "<line clip-path=\"url(#clip0003)\" x1=\"850.54\" y1=\"1126.8\" x2=\"850.54\" y2=\"1142.8\" style=\"stroke:#000000; stroke-width:4; stroke-opacity:0.8\"/>\n",
              "<line clip-path=\"url(#clip0003)\" x1=\"866.033\" y1=\"1126.8\" x2=\"866.033\" y2=\"1142.8\" style=\"stroke:#000000; stroke-width:4; stroke-opacity:0.8\"/>\n",
              "<line clip-path=\"url(#clip0003)\" x1=\"933.683\" y1=\"1126.8\" x2=\"933.683\" y2=\"1142.8\" style=\"stroke:#000000; stroke-width:4; stroke-opacity:0.8\"/>\n",
              "<line clip-path=\"url(#clip0003)\" x1=\"1023.81\" y1=\"1126.8\" x2=\"1023.81\" y2=\"1142.8\" style=\"stroke:#000000; stroke-width:4; stroke-opacity:0.8\"/>\n",
              "<line clip-path=\"url(#clip0003)\" x1=\"1138.01\" y1=\"1126.8\" x2=\"1138.01\" y2=\"1142.8\" style=\"stroke:#000000; stroke-width:4; stroke-opacity:0.8\"/>\n",
              "<line clip-path=\"url(#clip0003)\" x1=\"1334.34\" y1=\"1126.8\" x2=\"1334.34\" y2=\"1142.8\" style=\"stroke:#000000; stroke-width:4; stroke-opacity:0.8\"/>\n",
              "<line clip-path=\"url(#clip0003)\" x1=\"1391.81\" y1=\"1126.8\" x2=\"1391.81\" y2=\"1142.8\" style=\"stroke:#000000; stroke-width:4; stroke-opacity:0.8\"/>\n",
              "<line clip-path=\"url(#clip0003)\" x1=\"1541.8\" y1=\"1126.8\" x2=\"1541.8\" y2=\"1142.8\" style=\"stroke:#000000; stroke-width:4; stroke-opacity:0.8\"/>\n",
              "<line clip-path=\"url(#clip0003)\" x1=\"1746.13\" y1=\"1126.8\" x2=\"1746.13\" y2=\"1142.8\" style=\"stroke:#000000; stroke-width:4; stroke-opacity:0.8\"/>\n",
              "<line clip-path=\"url(#clip0003)\" x1=\"1764.1\" y1=\"1126.8\" x2=\"1764.1\" y2=\"1142.8\" style=\"stroke:#000000; stroke-width:4; stroke-opacity:0.8\"/>\n",
              "<line clip-path=\"url(#clip0003)\" x1=\"2100.39\" y1=\"1126.8\" x2=\"2100.39\" y2=\"1142.8\" style=\"stroke:#000000; stroke-width:4; stroke-opacity:0.8\"/>\n",
              "<line clip-path=\"url(#clip0003)\" x1=\"2362.26\" y1=\"1126.8\" x2=\"2362.26\" y2=\"1142.8\" style=\"stroke:#000000; stroke-width:4; stroke-opacity:0.8\"/>\n",
              "<line clip-path=\"url(#clip0003)\" x1=\"2386.77\" y1=\"1126.8\" x2=\"2386.77\" y2=\"1142.8\" style=\"stroke:#000000; stroke-width:4; stroke-opacity:0.8\"/>\n",
              "<line clip-path=\"url(#clip0003)\" x1=\"467.336\" y1=\"1112.33\" x2=\"467.336\" y2=\"1128.33\" style=\"stroke:#000000; stroke-width:4; stroke-opacity:0.8\"/>\n",
              "<line clip-path=\"url(#clip0003)\" x1=\"685.416\" y1=\"1112.33\" x2=\"685.416\" y2=\"1128.33\" style=\"stroke:#000000; stroke-width:4; stroke-opacity:0.8\"/>\n",
              "<line clip-path=\"url(#clip0003)\" x1=\"778.162\" y1=\"1112.33\" x2=\"778.162\" y2=\"1128.33\" style=\"stroke:#000000; stroke-width:4; stroke-opacity:0.8\"/>\n",
              "<line clip-path=\"url(#clip0003)\" x1=\"1042.5\" y1=\"1112.33\" x2=\"1042.5\" y2=\"1128.33\" style=\"stroke:#000000; stroke-width:4; stroke-opacity:0.8\"/>\n",
              "<line clip-path=\"url(#clip0003)\" x1=\"1100.41\" y1=\"1112.33\" x2=\"1100.41\" y2=\"1128.33\" style=\"stroke:#000000; stroke-width:4; stroke-opacity:0.8\"/>\n",
              "<line clip-path=\"url(#clip0003)\" x1=\"1188.57\" y1=\"1112.33\" x2=\"1188.57\" y2=\"1128.33\" style=\"stroke:#000000; stroke-width:4; stroke-opacity:0.8\"/>\n",
              "<line clip-path=\"url(#clip0003)\" x1=\"1354.42\" y1=\"1112.33\" x2=\"1354.42\" y2=\"1128.33\" style=\"stroke:#000000; stroke-width:4; stroke-opacity:0.8\"/>\n",
              "<line clip-path=\"url(#clip0003)\" x1=\"1455.39\" y1=\"1112.33\" x2=\"1455.39\" y2=\"1128.33\" style=\"stroke:#000000; stroke-width:4; stroke-opacity:0.8\"/>\n",
              "<line clip-path=\"url(#clip0003)\" x1=\"2182.22\" y1=\"1112.33\" x2=\"2182.22\" y2=\"1128.33\" style=\"stroke:#000000; stroke-width:4; stroke-opacity:0.8\"/>\n",
              "<line clip-path=\"url(#clip0003)\" x1=\"2230.16\" y1=\"1112.33\" x2=\"2230.16\" y2=\"1128.33\" style=\"stroke:#000000; stroke-width:4; stroke-opacity:0.8\"/>\n",
              "<line clip-path=\"url(#clip0003)\" x1=\"2326.4\" y1=\"1112.33\" x2=\"2326.4\" y2=\"1128.33\" style=\"stroke:#000000; stroke-width:4; stroke-opacity:0.8\"/>\n",
              "<line clip-path=\"url(#clip0003)\" x1=\"2394.99\" y1=\"1112.33\" x2=\"2394.99\" y2=\"1128.33\" style=\"stroke:#000000; stroke-width:4; stroke-opacity:0.8\"/>\n",
              "<line clip-path=\"url(#clip0003)\" x1=\"682.506\" y1=\"1097.86\" x2=\"682.506\" y2=\"1113.86\" style=\"stroke:#000000; stroke-width:4; stroke-opacity:0.8\"/>\n",
              "<line clip-path=\"url(#clip0003)\" x1=\"714.222\" y1=\"1097.86\" x2=\"714.222\" y2=\"1113.86\" style=\"stroke:#000000; stroke-width:4; stroke-opacity:0.8\"/>\n",
              "<line clip-path=\"url(#clip0003)\" x1=\"872.217\" y1=\"1097.86\" x2=\"872.217\" y2=\"1113.86\" style=\"stroke:#000000; stroke-width:4; stroke-opacity:0.8\"/>\n",
              "<line clip-path=\"url(#clip0003)\" x1=\"947.068\" y1=\"1097.86\" x2=\"947.068\" y2=\"1113.86\" style=\"stroke:#000000; stroke-width:4; stroke-opacity:0.8\"/>\n",
              "<line clip-path=\"url(#clip0003)\" x1=\"1005.92\" y1=\"1097.86\" x2=\"1005.92\" y2=\"1113.86\" style=\"stroke:#000000; stroke-width:4; stroke-opacity:0.8\"/>\n",
              "<line clip-path=\"url(#clip0003)\" x1=\"1077.06\" y1=\"1097.86\" x2=\"1077.06\" y2=\"1113.86\" style=\"stroke:#000000; stroke-width:4; stroke-opacity:0.8\"/>\n",
              "<line clip-path=\"url(#clip0003)\" x1=\"1147.33\" y1=\"1097.86\" x2=\"1147.33\" y2=\"1113.86\" style=\"stroke:#000000; stroke-width:4; stroke-opacity:0.8\"/>\n",
              "<line clip-path=\"url(#clip0003)\" x1=\"1241.02\" y1=\"1097.86\" x2=\"1241.02\" y2=\"1113.86\" style=\"stroke:#000000; stroke-width:4; stroke-opacity:0.8\"/>\n",
              "<line clip-path=\"url(#clip0003)\" x1=\"1259.13\" y1=\"1097.86\" x2=\"1259.13\" y2=\"1113.86\" style=\"stroke:#000000; stroke-width:4; stroke-opacity:0.8\"/>\n",
              "<line clip-path=\"url(#clip0003)\" x1=\"1316.52\" y1=\"1097.86\" x2=\"1316.52\" y2=\"1113.86\" style=\"stroke:#000000; stroke-width:4; stroke-opacity:0.8\"/>\n",
              "<line clip-path=\"url(#clip0003)\" x1=\"1406.5\" y1=\"1097.86\" x2=\"1406.5\" y2=\"1113.86\" style=\"stroke:#000000; stroke-width:4; stroke-opacity:0.8\"/>\n",
              "<line clip-path=\"url(#clip0003)\" x1=\"1673.83\" y1=\"1097.86\" x2=\"1673.83\" y2=\"1113.86\" style=\"stroke:#000000; stroke-width:4; stroke-opacity:0.8\"/>\n",
              "<line clip-path=\"url(#clip0003)\" x1=\"1679.5\" y1=\"1097.86\" x2=\"1679.5\" y2=\"1113.86\" style=\"stroke:#000000; stroke-width:4; stroke-opacity:0.8\"/>\n",
              "<line clip-path=\"url(#clip0003)\" x1=\"1683.72\" y1=\"1097.86\" x2=\"1683.72\" y2=\"1113.86\" style=\"stroke:#000000; stroke-width:4; stroke-opacity:0.8\"/>\n",
              "<line clip-path=\"url(#clip0003)\" x1=\"656.901\" y1=\"1083.4\" x2=\"656.901\" y2=\"1099.4\" style=\"stroke:#000000; stroke-width:4; stroke-opacity:0.8\"/>\n",
              "<line clip-path=\"url(#clip0003)\" x1=\"675.159\" y1=\"1083.4\" x2=\"675.159\" y2=\"1099.4\" style=\"stroke:#000000; stroke-width:4; stroke-opacity:0.8\"/>\n",
              "<line clip-path=\"url(#clip0003)\" x1=\"682.361\" y1=\"1083.4\" x2=\"682.361\" y2=\"1099.4\" style=\"stroke:#000000; stroke-width:4; stroke-opacity:0.8\"/>\n",
              "<line clip-path=\"url(#clip0003)\" x1=\"796.638\" y1=\"1083.4\" x2=\"796.638\" y2=\"1099.4\" style=\"stroke:#000000; stroke-width:4; stroke-opacity:0.8\"/>\n",
              "<line clip-path=\"url(#clip0003)\" x1=\"882.473\" y1=\"1083.4\" x2=\"882.473\" y2=\"1099.4\" style=\"stroke:#000000; stroke-width:4; stroke-opacity:0.8\"/>\n",
              "<line clip-path=\"url(#clip0003)\" x1=\"886.547\" y1=\"1083.4\" x2=\"886.547\" y2=\"1099.4\" style=\"stroke:#000000; stroke-width:4; stroke-opacity:0.8\"/>\n",
              "<line clip-path=\"url(#clip0003)\" x1=\"914.261\" y1=\"1083.4\" x2=\"914.261\" y2=\"1099.4\" style=\"stroke:#000000; stroke-width:4; stroke-opacity:0.8\"/>\n",
              "<line clip-path=\"url(#clip0003)\" x1=\"1116.12\" y1=\"1083.4\" x2=\"1116.12\" y2=\"1099.4\" style=\"stroke:#000000; stroke-width:4; stroke-opacity:0.8\"/>\n",
              "<line clip-path=\"url(#clip0003)\" x1=\"1179.26\" y1=\"1083.4\" x2=\"1179.26\" y2=\"1099.4\" style=\"stroke:#000000; stroke-width:4; stroke-opacity:0.8\"/>\n",
              "<line clip-path=\"url(#clip0003)\" x1=\"1384.61\" y1=\"1083.4\" x2=\"1384.61\" y2=\"1099.4\" style=\"stroke:#000000; stroke-width:4; stroke-opacity:0.8\"/>\n",
              "<line clip-path=\"url(#clip0003)\" x1=\"1533.95\" y1=\"1083.4\" x2=\"1533.95\" y2=\"1099.4\" style=\"stroke:#000000; stroke-width:4; stroke-opacity:0.8\"/>\n",
              "<line clip-path=\"url(#clip0003)\" x1=\"1743.15\" y1=\"1083.4\" x2=\"1743.15\" y2=\"1099.4\" style=\"stroke:#000000; stroke-width:4; stroke-opacity:0.8\"/>\n",
              "<line clip-path=\"url(#clip0003)\" x1=\"652.391\" y1=\"1068.93\" x2=\"652.391\" y2=\"1084.93\" style=\"stroke:#000000; stroke-width:4; stroke-opacity:0.8\"/>\n",
              "<line clip-path=\"url(#clip0003)\" x1=\"676.25\" y1=\"1068.93\" x2=\"676.25\" y2=\"1084.93\" style=\"stroke:#000000; stroke-width:4; stroke-opacity:0.8\"/>\n",
              "<line clip-path=\"url(#clip0003)\" x1=\"694.363\" y1=\"1068.93\" x2=\"694.363\" y2=\"1084.93\" style=\"stroke:#000000; stroke-width:4; stroke-opacity:0.8\"/>\n",
              "<line clip-path=\"url(#clip0003)\" x1=\"743.464\" y1=\"1068.93\" x2=\"743.464\" y2=\"1084.93\" style=\"stroke:#000000; stroke-width:4; stroke-opacity:0.8\"/>\n",
              "<line clip-path=\"url(#clip0003)\" x1=\"753.429\" y1=\"1068.93\" x2=\"753.429\" y2=\"1084.93\" style=\"stroke:#000000; stroke-width:4; stroke-opacity:0.8\"/>\n",
              "<line clip-path=\"url(#clip0003)\" x1=\"838.392\" y1=\"1068.93\" x2=\"838.392\" y2=\"1084.93\" style=\"stroke:#000000; stroke-width:4; stroke-opacity:0.8\"/>\n",
              "<line clip-path=\"url(#clip0003)\" x1=\"852.431\" y1=\"1068.93\" x2=\"852.431\" y2=\"1084.93\" style=\"stroke:#000000; stroke-width:4; stroke-opacity:0.8\"/>\n",
              "<line clip-path=\"url(#clip0003)\" x1=\"873.599\" y1=\"1068.93\" x2=\"873.599\" y2=\"1084.93\" style=\"stroke:#000000; stroke-width:4; stroke-opacity:0.8\"/>\n",
              "<line clip-path=\"url(#clip0003)\" x1=\"997.041\" y1=\"1068.93\" x2=\"997.041\" y2=\"1084.93\" style=\"stroke:#000000; stroke-width:4; stroke-opacity:0.8\"/>\n",
              "<line clip-path=\"url(#clip0003)\" x1=\"1006.79\" y1=\"1068.93\" x2=\"1006.79\" y2=\"1084.93\" style=\"stroke:#000000; stroke-width:4; stroke-opacity:0.8\"/>\n",
              "<line clip-path=\"url(#clip0003)\" x1=\"1019.95\" y1=\"1068.93\" x2=\"1019.95\" y2=\"1084.93\" style=\"stroke:#000000; stroke-width:4; stroke-opacity:0.8\"/>\n",
              "<line clip-path=\"url(#clip0003)\" x1=\"1182.97\" y1=\"1068.93\" x2=\"1182.97\" y2=\"1084.93\" style=\"stroke:#000000; stroke-width:4; stroke-opacity:0.8\"/>\n",
              "<line clip-path=\"url(#clip0003)\" x1=\"1204.35\" y1=\"1068.93\" x2=\"1204.35\" y2=\"1084.93\" style=\"stroke:#000000; stroke-width:4; stroke-opacity:0.8\"/>\n",
              "<line clip-path=\"url(#clip0003)\" x1=\"1213.01\" y1=\"1068.93\" x2=\"1213.01\" y2=\"1084.93\" style=\"stroke:#000000; stroke-width:4; stroke-opacity:0.8\"/>\n",
              "<line clip-path=\"url(#clip0003)\" x1=\"1235.12\" y1=\"1068.93\" x2=\"1235.12\" y2=\"1084.93\" style=\"stroke:#000000; stroke-width:4; stroke-opacity:0.8\"/>\n",
              "<line clip-path=\"url(#clip0003)\" x1=\"1249.53\" y1=\"1068.93\" x2=\"1249.53\" y2=\"1084.93\" style=\"stroke:#000000; stroke-width:4; stroke-opacity:0.8\"/>\n",
              "<line clip-path=\"url(#clip0003)\" x1=\"1665.61\" y1=\"1068.93\" x2=\"1665.61\" y2=\"1084.93\" style=\"stroke:#000000; stroke-width:4; stroke-opacity:0.8\"/>\n",
              "<line clip-path=\"url(#clip0003)\" x1=\"1676.01\" y1=\"1068.93\" x2=\"1676.01\" y2=\"1084.93\" style=\"stroke:#000000; stroke-width:4; stroke-opacity:0.8\"/>\n",
              "<line clip-path=\"url(#clip0003)\" x1=\"1755.81\" y1=\"1068.93\" x2=\"1755.81\" y2=\"1084.93\" style=\"stroke:#000000; stroke-width:4; stroke-opacity:0.8\"/>\n",
              "<line clip-path=\"url(#clip0003)\" x1=\"1772.18\" y1=\"1068.93\" x2=\"1772.18\" y2=\"1084.93\" style=\"stroke:#000000; stroke-width:4; stroke-opacity:0.8\"/>\n",
              "<line clip-path=\"url(#clip0003)\" x1=\"1782.07\" y1=\"1068.93\" x2=\"1782.07\" y2=\"1084.93\" style=\"stroke:#000000; stroke-width:4; stroke-opacity:0.8\"/>\n",
              "<line clip-path=\"url(#clip0003)\" x1=\"2092.68\" y1=\"1068.93\" x2=\"2092.68\" y2=\"1084.93\" style=\"stroke:#000000; stroke-width:4; stroke-opacity:0.8\"/>\n",
              "<line clip-path=\"url(#clip0003)\" x1=\"688.398\" y1=\"1054.46\" x2=\"688.398\" y2=\"1070.46\" style=\"stroke:#000000; stroke-width:4; stroke-opacity:0.8\"/>\n",
              "<line clip-path=\"url(#clip0003)\" x1=\"716.695\" y1=\"1054.46\" x2=\"716.695\" y2=\"1070.46\" style=\"stroke:#000000; stroke-width:4; stroke-opacity:0.8\"/>\n",
              "<line clip-path=\"url(#clip0003)\" x1=\"767.032\" y1=\"1054.46\" x2=\"767.032\" y2=\"1070.46\" style=\"stroke:#000000; stroke-width:4; stroke-opacity:0.8\"/>\n",
              "<line clip-path=\"url(#clip0003)\" x1=\"849.812\" y1=\"1054.46\" x2=\"849.812\" y2=\"1070.46\" style=\"stroke:#000000; stroke-width:4; stroke-opacity:0.8\"/>\n",
              "<line clip-path=\"url(#clip0003)\" x1=\"909.388\" y1=\"1054.46\" x2=\"909.388\" y2=\"1070.46\" style=\"stroke:#000000; stroke-width:4; stroke-opacity:0.8\"/>\n",
              "<line clip-path=\"url(#clip0003)\" x1=\"974.71\" y1=\"1054.46\" x2=\"974.71\" y2=\"1070.46\" style=\"stroke:#000000; stroke-width:4; stroke-opacity:0.8\"/>\n",
              "<line clip-path=\"url(#clip0003)\" x1=\"1031.81\" y1=\"1054.46\" x2=\"1031.81\" y2=\"1070.46\" style=\"stroke:#000000; stroke-width:4; stroke-opacity:0.8\"/>\n",
              "<line clip-path=\"url(#clip0003)\" x1=\"1051.45\" y1=\"1054.46\" x2=\"1051.45\" y2=\"1070.46\" style=\"stroke:#000000; stroke-width:4; stroke-opacity:0.8\"/>\n",
              "<line clip-path=\"url(#clip0003)\" x1=\"1107.68\" y1=\"1054.46\" x2=\"1107.68\" y2=\"1070.46\" style=\"stroke:#000000; stroke-width:4; stroke-opacity:0.8\"/>\n",
              "<line clip-path=\"url(#clip0003)\" x1=\"1112.92\" y1=\"1054.46\" x2=\"1112.92\" y2=\"1070.46\" style=\"stroke:#000000; stroke-width:4; stroke-opacity:0.8\"/>\n",
              "<line clip-path=\"url(#clip0003)\" x1=\"1117.72\" y1=\"1054.46\" x2=\"1117.72\" y2=\"1070.46\" style=\"stroke:#000000; stroke-width:4; stroke-opacity:0.8\"/>\n",
              "<line clip-path=\"url(#clip0003)\" x1=\"1158.82\" y1=\"1054.46\" x2=\"1158.82\" y2=\"1070.46\" style=\"stroke:#000000; stroke-width:4; stroke-opacity:0.8\"/>\n",
              "<line clip-path=\"url(#clip0003)\" x1=\"1196.14\" y1=\"1054.46\" x2=\"1196.14\" y2=\"1070.46\" style=\"stroke:#000000; stroke-width:4; stroke-opacity:0.8\"/>\n",
              "<line clip-path=\"url(#clip0003)\" x1=\"1216.43\" y1=\"1054.46\" x2=\"1216.43\" y2=\"1070.46\" style=\"stroke:#000000; stroke-width:4; stroke-opacity:0.8\"/>\n",
              "<line clip-path=\"url(#clip0003)\" x1=\"1274.41\" y1=\"1054.46\" x2=\"1274.41\" y2=\"1070.46\" style=\"stroke:#000000; stroke-width:4; stroke-opacity:0.8\"/>\n",
              "<line clip-path=\"url(#clip0003)\" x1=\"1315.5\" y1=\"1054.46\" x2=\"1315.5\" y2=\"1070.46\" style=\"stroke:#000000; stroke-width:4; stroke-opacity:0.8\"/>\n",
              "<line clip-path=\"url(#clip0003)\" x1=\"1319.43\" y1=\"1054.46\" x2=\"1319.43\" y2=\"1070.46\" style=\"stroke:#000000; stroke-width:4; stroke-opacity:0.8\"/>\n",
              "<line clip-path=\"url(#clip0003)\" x1=\"1468.48\" y1=\"1054.46\" x2=\"1468.48\" y2=\"1070.46\" style=\"stroke:#000000; stroke-width:4; stroke-opacity:0.8\"/>\n",
              "<line clip-path=\"url(#clip0003)\" x1=\"1513.65\" y1=\"1054.46\" x2=\"1513.65\" y2=\"1070.46\" style=\"stroke:#000000; stroke-width:4; stroke-opacity:0.8\"/>\n",
              "<line clip-path=\"url(#clip0003)\" x1=\"1521\" y1=\"1054.46\" x2=\"1521\" y2=\"1070.46\" style=\"stroke:#000000; stroke-width:4; stroke-opacity:0.8\"/>\n",
              "<line clip-path=\"url(#clip0003)\" x1=\"656.61\" y1=\"1039.99\" x2=\"656.61\" y2=\"1055.99\" style=\"stroke:#000000; stroke-width:4; stroke-opacity:0.8\"/>\n",
              "<line clip-path=\"url(#clip0003)\" x1=\"1300.81\" y1=\"1039.99\" x2=\"1300.81\" y2=\"1055.99\" style=\"stroke:#000000; stroke-width:4; stroke-opacity:0.8\"/>\n",
              "<line clip-path=\"url(#clip0003)\" x1=\"1304.59\" y1=\"1039.99\" x2=\"1304.59\" y2=\"1055.99\" style=\"stroke:#000000; stroke-width:4; stroke-opacity:0.8\"/>\n",
              "<line clip-path=\"url(#clip0003)\" x1=\"583.65\" y1=\"1025.53\" x2=\"583.65\" y2=\"1041.53\" style=\"stroke:#000000; stroke-width:4; stroke-opacity:0.8\"/>\n",
              "<line clip-path=\"url(#clip0003)\" x1=\"661.775\" y1=\"1025.53\" x2=\"661.775\" y2=\"1041.53\" style=\"stroke:#000000; stroke-width:4; stroke-opacity:0.8\"/>\n",
              "<line clip-path=\"url(#clip0003)\" x1=\"670.94\" y1=\"1025.53\" x2=\"670.94\" y2=\"1041.53\" style=\"stroke:#000000; stroke-width:4; stroke-opacity:0.8\"/>\n",
              "<line clip-path=\"url(#clip0003)\" x1=\"741.427\" y1=\"1025.53\" x2=\"741.427\" y2=\"1041.53\" style=\"stroke:#000000; stroke-width:4; stroke-opacity:0.8\"/>\n",
              "<line clip-path=\"url(#clip0003)\" x1=\"772.706\" y1=\"1025.53\" x2=\"772.706\" y2=\"1041.53\" style=\"stroke:#000000; stroke-width:4; stroke-opacity:0.8\"/>\n",
              "<line clip-path=\"url(#clip0003)\" x1=\"826.026\" y1=\"1025.53\" x2=\"826.026\" y2=\"1041.53\" style=\"stroke:#000000; stroke-width:4; stroke-opacity:0.8\"/>\n",
              "<line clip-path=\"url(#clip0003)\" x1=\"861.814\" y1=\"1025.53\" x2=\"861.814\" y2=\"1041.53\" style=\"stroke:#000000; stroke-width:4; stroke-opacity:0.8\"/>\n",
              "<line clip-path=\"url(#clip0003)\" x1=\"932.738\" y1=\"1025.53\" x2=\"932.738\" y2=\"1041.53\" style=\"stroke:#000000; stroke-width:4; stroke-opacity:0.8\"/>\n",
              "<line clip-path=\"url(#clip0003)\" x1=\"976.237\" y1=\"1025.53\" x2=\"976.237\" y2=\"1041.53\" style=\"stroke:#000000; stroke-width:4; stroke-opacity:0.8\"/>\n",
              "<line clip-path=\"url(#clip0003)\" x1=\"1037.92\" y1=\"1025.53\" x2=\"1037.92\" y2=\"1041.53\" style=\"stroke:#000000; stroke-width:4; stroke-opacity:0.8\"/>\n",
              "<line clip-path=\"url(#clip0003)\" x1=\"1231.56\" y1=\"1025.53\" x2=\"1231.56\" y2=\"1041.53\" style=\"stroke:#000000; stroke-width:4; stroke-opacity:0.8\"/>\n",
              "<line clip-path=\"url(#clip0003)\" x1=\"1476.26\" y1=\"1025.53\" x2=\"1476.26\" y2=\"1041.53\" style=\"stroke:#000000; stroke-width:4; stroke-opacity:0.8\"/>\n",
              "<line clip-path=\"url(#clip0003)\" x1=\"2019.64\" y1=\"1025.53\" x2=\"2019.64\" y2=\"1041.53\" style=\"stroke:#000000; stroke-width:4; stroke-opacity:0.8\"/>\n",
              "<line clip-path=\"url(#clip0003)\" x1=\"2371.35\" y1=\"1025.53\" x2=\"2371.35\" y2=\"1041.53\" style=\"stroke:#000000; stroke-width:4; stroke-opacity:0.8\"/>\n",
              "<line clip-path=\"url(#clip0003)\" x1=\"712.912\" y1=\"1011.06\" x2=\"712.912\" y2=\"1027.06\" style=\"stroke:#000000; stroke-width:4; stroke-opacity:0.8\"/>\n",
              "<line clip-path=\"url(#clip0003)\" x1=\"840.792\" y1=\"1011.06\" x2=\"840.792\" y2=\"1027.06\" style=\"stroke:#000000; stroke-width:4; stroke-opacity:0.8\"/>\n",
              "<line clip-path=\"url(#clip0003)\" x1=\"848.794\" y1=\"1011.06\" x2=\"848.794\" y2=\"1027.06\" style=\"stroke:#000000; stroke-width:4; stroke-opacity:0.8\"/>\n",
              "<line clip-path=\"url(#clip0003)\" x1=\"897.312\" y1=\"1011.06\" x2=\"897.312\" y2=\"1027.06\" style=\"stroke:#000000; stroke-width:4; stroke-opacity:0.8\"/>\n",
              "<line clip-path=\"url(#clip0003)\" x1=\"1095.82\" y1=\"1011.06\" x2=\"1095.82\" y2=\"1027.06\" style=\"stroke:#000000; stroke-width:4; stroke-opacity:0.8\"/>\n",
              "<line clip-path=\"url(#clip0003)\" x1=\"1219.34\" y1=\"1011.06\" x2=\"1219.34\" y2=\"1027.06\" style=\"stroke:#000000; stroke-width:4; stroke-opacity:0.8\"/>\n",
              "<line clip-path=\"url(#clip0003)\" x1=\"1293.17\" y1=\"1011.06\" x2=\"1293.17\" y2=\"1027.06\" style=\"stroke:#000000; stroke-width:4; stroke-opacity:0.8\"/>\n",
              "<line clip-path=\"url(#clip0003)\" x1=\"1487.61\" y1=\"1011.06\" x2=\"1487.61\" y2=\"1027.06\" style=\"stroke:#000000; stroke-width:4; stroke-opacity:0.8\"/>\n",
              "<line clip-path=\"url(#clip0003)\" x1=\"1703.14\" y1=\"1011.06\" x2=\"1703.14\" y2=\"1027.06\" style=\"stroke:#000000; stroke-width:4; stroke-opacity:0.8\"/>\n",
              "<line clip-path=\"url(#clip0003)\" x1=\"1861.21\" y1=\"1011.06\" x2=\"1861.21\" y2=\"1027.06\" style=\"stroke:#000000; stroke-width:4; stroke-opacity:0.8\"/>\n",
              "<line clip-path=\"url(#clip0003)\" x1=\"2266.38\" y1=\"1011.06\" x2=\"2266.38\" y2=\"1027.06\" style=\"stroke:#000000; stroke-width:4; stroke-opacity:0.8\"/>\n",
              "<line clip-path=\"url(#clip0003)\" x1=\"2374.48\" y1=\"1011.06\" x2=\"2374.48\" y2=\"1027.06\" style=\"stroke:#000000; stroke-width:4; stroke-opacity:0.8\"/>\n",
              "<line clip-path=\"url(#clip0003)\" x1=\"525.966\" y1=\"996.592\" x2=\"525.966\" y2=\"1012.59\" style=\"stroke:#000000; stroke-width:4; stroke-opacity:0.8\"/>\n",
              "<line clip-path=\"url(#clip0003)\" x1=\"628.968\" y1=\"996.592\" x2=\"628.968\" y2=\"1012.59\" style=\"stroke:#000000; stroke-width:4; stroke-opacity:0.8\"/>\n",
              "<line clip-path=\"url(#clip0003)\" x1=\"666.721\" y1=\"996.592\" x2=\"666.721\" y2=\"1012.59\" style=\"stroke:#000000; stroke-width:4; stroke-opacity:0.8\"/>\n",
              "<line clip-path=\"url(#clip0003)\" x1=\"694.8\" y1=\"996.592\" x2=\"694.8\" y2=\"1012.59\" style=\"stroke:#000000; stroke-width:4; stroke-opacity:0.8\"/>\n",
              "<line clip-path=\"url(#clip0003)\" x1=\"721.714\" y1=\"996.592\" x2=\"721.714\" y2=\"1012.59\" style=\"stroke:#000000; stroke-width:4; stroke-opacity:0.8\"/>\n",
              "<line clip-path=\"url(#clip0003)\" x1=\"737.208\" y1=\"996.592\" x2=\"737.208\" y2=\"1012.59\" style=\"stroke:#000000; stroke-width:4; stroke-opacity:0.8\"/>\n",
              "<line clip-path=\"url(#clip0003)\" x1=\"760.122\" y1=\"996.592\" x2=\"760.122\" y2=\"1012.59\" style=\"stroke:#000000; stroke-width:4; stroke-opacity:0.8\"/>\n",
              "<line clip-path=\"url(#clip0003)\" x1=\"785.436\" y1=\"996.592\" x2=\"785.436\" y2=\"1012.59\" style=\"stroke:#000000; stroke-width:4; stroke-opacity:0.8\"/>\n",
              "<line clip-path=\"url(#clip0003)\" x1=\"806.313\" y1=\"996.592\" x2=\"806.313\" y2=\"1012.59\" style=\"stroke:#000000; stroke-width:4; stroke-opacity:0.8\"/>\n",
              "<line clip-path=\"url(#clip0003)\" x1=\"990.276\" y1=\"996.592\" x2=\"990.276\" y2=\"1012.59\" style=\"stroke:#000000; stroke-width:4; stroke-opacity:0.8\"/>\n",
              "<line clip-path=\"url(#clip0003)\" x1=\"996.823\" y1=\"996.592\" x2=\"996.823\" y2=\"1012.59\" style=\"stroke:#000000; stroke-width:4; stroke-opacity:0.8\"/>\n",
              "<line clip-path=\"url(#clip0003)\" x1=\"1011.44\" y1=\"996.592\" x2=\"1011.44\" y2=\"1012.59\" style=\"stroke:#000000; stroke-width:4; stroke-opacity:0.8\"/>\n",
              "<line clip-path=\"url(#clip0003)\" x1=\"1050.51\" y1=\"996.592\" x2=\"1050.51\" y2=\"1012.59\" style=\"stroke:#000000; stroke-width:4; stroke-opacity:0.8\"/>\n",
              "<line clip-path=\"url(#clip0003)\" x1=\"1095.75\" y1=\"996.592\" x2=\"1095.75\" y2=\"1012.59\" style=\"stroke:#000000; stroke-width:4; stroke-opacity:0.8\"/>\n",
              "<line clip-path=\"url(#clip0003)\" x1=\"1137\" y1=\"996.592\" x2=\"1137\" y2=\"1012.59\" style=\"stroke:#000000; stroke-width:4; stroke-opacity:0.8\"/>\n",
              "<line clip-path=\"url(#clip0003)\" x1=\"1167.84\" y1=\"996.592\" x2=\"1167.84\" y2=\"1012.59\" style=\"stroke:#000000; stroke-width:4; stroke-opacity:0.8\"/>\n",
              "<line clip-path=\"url(#clip0003)\" x1=\"1219.92\" y1=\"996.592\" x2=\"1219.92\" y2=\"1012.59\" style=\"stroke:#000000; stroke-width:4; stroke-opacity:0.8\"/>\n",
              "<line clip-path=\"url(#clip0003)\" x1=\"1234.62\" y1=\"996.592\" x2=\"1234.62\" y2=\"1012.59\" style=\"stroke:#000000; stroke-width:4; stroke-opacity:0.8\"/>\n",
              "<line clip-path=\"url(#clip0003)\" x1=\"1269.75\" y1=\"996.592\" x2=\"1269.75\" y2=\"1012.59\" style=\"stroke:#000000; stroke-width:4; stroke-opacity:0.8\"/>\n",
              "<line clip-path=\"url(#clip0003)\" x1=\"1275.42\" y1=\"996.592\" x2=\"1275.42\" y2=\"1012.59\" style=\"stroke:#000000; stroke-width:4; stroke-opacity:0.8\"/>\n",
              "<line clip-path=\"url(#clip0003)\" x1=\"1335.22\" y1=\"996.592\" x2=\"1335.22\" y2=\"1012.59\" style=\"stroke:#000000; stroke-width:4; stroke-opacity:0.8\"/>\n",
              "<line clip-path=\"url(#clip0003)\" x1=\"1350.78\" y1=\"996.592\" x2=\"1350.78\" y2=\"1012.59\" style=\"stroke:#000000; stroke-width:4; stroke-opacity:0.8\"/>\n",
              "<line clip-path=\"url(#clip0003)\" x1=\"1525.15\" y1=\"996.592\" x2=\"1525.15\" y2=\"1012.59\" style=\"stroke:#000000; stroke-width:4; stroke-opacity:0.8\"/>\n",
              "<line clip-path=\"url(#clip0003)\" x1=\"1565.81\" y1=\"996.592\" x2=\"1565.81\" y2=\"1012.59\" style=\"stroke:#000000; stroke-width:4; stroke-opacity:0.8\"/>\n",
              "<line clip-path=\"url(#clip0003)\" x1=\"1593.52\" y1=\"996.592\" x2=\"1593.52\" y2=\"1012.59\" style=\"stroke:#000000; stroke-width:4; stroke-opacity:0.8\"/>\n",
              "<line clip-path=\"url(#clip0003)\" x1=\"1616\" y1=\"996.592\" x2=\"1616\" y2=\"1012.59\" style=\"stroke:#000000; stroke-width:4; stroke-opacity:0.8\"/>\n",
              "<line clip-path=\"url(#clip0003)\" x1=\"1637.97\" y1=\"996.592\" x2=\"1637.97\" y2=\"1012.59\" style=\"stroke:#000000; stroke-width:4; stroke-opacity:0.8\"/>\n",
              "<line clip-path=\"url(#clip0003)\" x1=\"1776.1\" y1=\"996.592\" x2=\"1776.1\" y2=\"1012.59\" style=\"stroke:#000000; stroke-width:4; stroke-opacity:0.8\"/>\n",
              "<line clip-path=\"url(#clip0003)\" x1=\"1791.74\" y1=\"996.592\" x2=\"1791.74\" y2=\"1012.59\" style=\"stroke:#000000; stroke-width:4; stroke-opacity:0.8\"/>\n",
              "<line clip-path=\"url(#clip0003)\" x1=\"1795.53\" y1=\"996.592\" x2=\"1795.53\" y2=\"1012.59\" style=\"stroke:#000000; stroke-width:4; stroke-opacity:0.8\"/>\n",
              "<line clip-path=\"url(#clip0003)\" x1=\"671.377\" y1=\"982.125\" x2=\"671.377\" y2=\"998.125\" style=\"stroke:#000000; stroke-width:4; stroke-opacity:0.8\"/>\n",
              "<line clip-path=\"url(#clip0003)\" x1=\"723.678\" y1=\"982.125\" x2=\"723.678\" y2=\"998.125\" style=\"stroke:#000000; stroke-width:4; stroke-opacity:0.8\"/>\n",
              "<line clip-path=\"url(#clip0003)\" x1=\"879.418\" y1=\"982.125\" x2=\"879.418\" y2=\"998.125\" style=\"stroke:#000000; stroke-width:4; stroke-opacity:0.8\"/>\n",
              "<line clip-path=\"url(#clip0003)\" x1=\"1237.09\" y1=\"982.125\" x2=\"1237.09\" y2=\"998.125\" style=\"stroke:#000000; stroke-width:4; stroke-opacity:0.8\"/>\n",
              "<line clip-path=\"url(#clip0003)\" x1=\"1597.45\" y1=\"982.125\" x2=\"1597.45\" y2=\"998.125\" style=\"stroke:#000000; stroke-width:4; stroke-opacity:0.8\"/>\n",
              "<line clip-path=\"url(#clip0003)\" x1=\"1647.72\" y1=\"982.125\" x2=\"1647.72\" y2=\"998.125\" style=\"stroke:#000000; stroke-width:4; stroke-opacity:0.8\"/>\n",
              "<line clip-path=\"url(#clip0003)\" x1=\"1670.27\" y1=\"982.125\" x2=\"1670.27\" y2=\"998.125\" style=\"stroke:#000000; stroke-width:4; stroke-opacity:0.8\"/>\n",
              "<line clip-path=\"url(#clip0003)\" x1=\"1699.73\" y1=\"982.125\" x2=\"1699.73\" y2=\"998.125\" style=\"stroke:#000000; stroke-width:4; stroke-opacity:0.8\"/>\n",
              "<line clip-path=\"url(#clip0003)\" x1=\"1755.81\" y1=\"982.125\" x2=\"1755.81\" y2=\"998.125\" style=\"stroke:#000000; stroke-width:4; stroke-opacity:0.8\"/>\n",
              "<line clip-path=\"url(#clip0003)\" x1=\"1765.85\" y1=\"982.125\" x2=\"1765.85\" y2=\"998.125\" style=\"stroke:#000000; stroke-width:4; stroke-opacity:0.8\"/>\n",
              "<line clip-path=\"url(#clip0003)\" x1=\"2250.96\" y1=\"982.125\" x2=\"2250.96\" y2=\"998.125\" style=\"stroke:#000000; stroke-width:4; stroke-opacity:0.8\"/>\n",
              "<line clip-path=\"url(#clip0003)\" x1=\"307.014\" y1=\"967.658\" x2=\"307.014\" y2=\"983.658\" style=\"stroke:#000000; stroke-width:4; stroke-opacity:0.8\"/>\n",
              "<line clip-path=\"url(#clip0003)\" x1=\"505.017\" y1=\"967.658\" x2=\"505.017\" y2=\"983.658\" style=\"stroke:#000000; stroke-width:4; stroke-opacity:0.8\"/>\n",
              "<line clip-path=\"url(#clip0003)\" x1=\"708.184\" y1=\"967.658\" x2=\"708.184\" y2=\"983.658\" style=\"stroke:#000000; stroke-width:4; stroke-opacity:0.8\"/>\n",
              "<line clip-path=\"url(#clip0003)\" x1=\"758.449\" y1=\"967.658\" x2=\"758.449\" y2=\"983.658\" style=\"stroke:#000000; stroke-width:4; stroke-opacity:0.8\"/>\n",
              "<line clip-path=\"url(#clip0003)\" x1=\"857.741\" y1=\"967.658\" x2=\"857.741\" y2=\"983.658\" style=\"stroke:#000000; stroke-width:4; stroke-opacity:0.8\"/>\n",
              "<line clip-path=\"url(#clip0003)\" x1=\"895.567\" y1=\"967.658\" x2=\"895.567\" y2=\"983.658\" style=\"stroke:#000000; stroke-width:4; stroke-opacity:0.8\"/>\n",
              "<line clip-path=\"url(#clip0003)\" x1=\"939.648\" y1=\"967.658\" x2=\"939.648\" y2=\"983.658\" style=\"stroke:#000000; stroke-width:4; stroke-opacity:0.8\"/>\n",
              "<line clip-path=\"url(#clip0003)\" x1=\"1029.41\" y1=\"967.658\" x2=\"1029.41\" y2=\"983.658\" style=\"stroke:#000000; stroke-width:4; stroke-opacity:0.8\"/>\n",
              "<line clip-path=\"url(#clip0003)\" x1=\"1035.59\" y1=\"967.658\" x2=\"1035.59\" y2=\"983.658\" style=\"stroke:#000000; stroke-width:4; stroke-opacity:0.8\"/>\n",
              "<line clip-path=\"url(#clip0003)\" x1=\"1421.78\" y1=\"967.658\" x2=\"1421.78\" y2=\"983.658\" style=\"stroke:#000000; stroke-width:4; stroke-opacity:0.8\"/>\n",
              "<line clip-path=\"url(#clip0003)\" x1=\"1497.65\" y1=\"967.658\" x2=\"1497.65\" y2=\"983.658\" style=\"stroke:#000000; stroke-width:4; stroke-opacity:0.8\"/>\n",
              "<line clip-path=\"url(#clip0003)\" x1=\"2400.52\" y1=\"967.658\" x2=\"2400.52\" y2=\"983.658\" style=\"stroke:#000000; stroke-width:4; stroke-opacity:0.8\"/>\n",
              "<line clip-path=\"url(#clip0003)\" x1=\"565.101\" y1=\"953.19\" x2=\"565.101\" y2=\"969.19\" style=\"stroke:#000000; stroke-width:4; stroke-opacity:0.8\"/>\n",
              "<line clip-path=\"url(#clip0003)\" x1=\"715.967\" y1=\"953.19\" x2=\"715.967\" y2=\"969.19\" style=\"stroke:#000000; stroke-width:4; stroke-opacity:0.8\"/>\n",
              "<line clip-path=\"url(#clip0003)\" x1=\"722.369\" y1=\"953.19\" x2=\"722.369\" y2=\"969.19\" style=\"stroke:#000000; stroke-width:4; stroke-opacity:0.8\"/>\n",
              "<line clip-path=\"url(#clip0003)\" x1=\"816.787\" y1=\"953.19\" x2=\"816.787\" y2=\"969.19\" style=\"stroke:#000000; stroke-width:4; stroke-opacity:0.8\"/>\n",
              "<line clip-path=\"url(#clip0003)\" x1=\"825.516\" y1=\"953.19\" x2=\"825.516\" y2=\"969.19\" style=\"stroke:#000000; stroke-width:4; stroke-opacity:0.8\"/>\n",
              "<line clip-path=\"url(#clip0003)\" x1=\"866.834\" y1=\"953.19\" x2=\"866.834\" y2=\"969.19\" style=\"stroke:#000000; stroke-width:4; stroke-opacity:0.8\"/>\n",
              "<line clip-path=\"url(#clip0003)\" x1=\"882.037\" y1=\"953.19\" x2=\"882.037\" y2=\"969.19\" style=\"stroke:#000000; stroke-width:4; stroke-opacity:0.8\"/>\n",
              "<line clip-path=\"url(#clip0003)\" x1=\"917.316\" y1=\"953.19\" x2=\"917.316\" y2=\"969.19\" style=\"stroke:#000000; stroke-width:4; stroke-opacity:0.8\"/>\n",
              "<line clip-path=\"url(#clip0003)\" x1=\"922.481\" y1=\"953.19\" x2=\"922.481\" y2=\"969.19\" style=\"stroke:#000000; stroke-width:4; stroke-opacity:0.8\"/>\n",
              "<line clip-path=\"url(#clip0003)\" x1=\"942.412\" y1=\"953.19\" x2=\"942.412\" y2=\"969.19\" style=\"stroke:#000000; stroke-width:4; stroke-opacity:0.8\"/>\n",
              "<line clip-path=\"url(#clip0003)\" x1=\"1040.69\" y1=\"953.19\" x2=\"1040.69\" y2=\"969.19\" style=\"stroke:#000000; stroke-width:4; stroke-opacity:0.8\"/>\n",
              "<line clip-path=\"url(#clip0003)\" x1=\"1050.36\" y1=\"953.19\" x2=\"1050.36\" y2=\"969.19\" style=\"stroke:#000000; stroke-width:4; stroke-opacity:0.8\"/>\n",
              "<line clip-path=\"url(#clip0003)\" x1=\"1090.66\" y1=\"953.19\" x2=\"1090.66\" y2=\"969.19\" style=\"stroke:#000000; stroke-width:4; stroke-opacity:0.8\"/>\n",
              "<line clip-path=\"url(#clip0003)\" x1=\"1169.73\" y1=\"953.19\" x2=\"1169.73\" y2=\"969.19\" style=\"stroke:#000000; stroke-width:4; stroke-opacity:0.8\"/>\n",
              "<line clip-path=\"url(#clip0003)\" x1=\"1295.21\" y1=\"953.19\" x2=\"1295.21\" y2=\"969.19\" style=\"stroke:#000000; stroke-width:4; stroke-opacity:0.8\"/>\n",
              "<line clip-path=\"url(#clip0003)\" x1=\"1298.99\" y1=\"953.19\" x2=\"1298.99\" y2=\"969.19\" style=\"stroke:#000000; stroke-width:4; stroke-opacity:0.8\"/>\n",
              "<line clip-path=\"url(#clip0003)\" x1=\"1322.56\" y1=\"953.19\" x2=\"1322.56\" y2=\"969.19\" style=\"stroke:#000000; stroke-width:4; stroke-opacity:0.8\"/>\n",
              "<line clip-path=\"url(#clip0003)\" x1=\"1383.15\" y1=\"953.19\" x2=\"1383.15\" y2=\"969.19\" style=\"stroke:#000000; stroke-width:4; stroke-opacity:0.8\"/>\n",
              "<line clip-path=\"url(#clip0003)\" x1=\"1412.4\" y1=\"953.19\" x2=\"1412.4\" y2=\"969.19\" style=\"stroke:#000000; stroke-width:4; stroke-opacity:0.8\"/>\n",
              "<line clip-path=\"url(#clip0003)\" x1=\"1450\" y1=\"953.19\" x2=\"1450\" y2=\"969.19\" style=\"stroke:#000000; stroke-width:4; stroke-opacity:0.8\"/>\n",
              "<line clip-path=\"url(#clip0003)\" x1=\"2151.16\" y1=\"953.19\" x2=\"2151.16\" y2=\"969.19\" style=\"stroke:#000000; stroke-width:4; stroke-opacity:0.8\"/>\n",
              "<line clip-path=\"url(#clip0003)\" x1=\"554.626\" y1=\"938.723\" x2=\"554.626\" y2=\"954.723\" style=\"stroke:#000000; stroke-width:4; stroke-opacity:0.8\"/>\n",
              "<line clip-path=\"url(#clip0003)\" x1=\"642.789\" y1=\"938.723\" x2=\"642.789\" y2=\"954.723\" style=\"stroke:#000000; stroke-width:4; stroke-opacity:0.8\"/>\n",
              "<line clip-path=\"url(#clip0003)\" x1=\"655.81\" y1=\"938.723\" x2=\"655.81\" y2=\"954.723\" style=\"stroke:#000000; stroke-width:4; stroke-opacity:0.8\"/>\n",
              "<line clip-path=\"url(#clip0003)\" x1=\"1385.55\" y1=\"938.723\" x2=\"1385.55\" y2=\"954.723\" style=\"stroke:#000000; stroke-width:4; stroke-opacity:0.8\"/>\n",
              "<line clip-path=\"url(#clip0003)\" x1=\"1901.73\" y1=\"938.723\" x2=\"1901.73\" y2=\"954.723\" style=\"stroke:#000000; stroke-width:4; stroke-opacity:0.8\"/>\n",
              "<line clip-path=\"url(#clip0003)\" x1=\"2349.82\" y1=\"938.723\" x2=\"2349.82\" y2=\"954.723\" style=\"stroke:#000000; stroke-width:4; stroke-opacity:0.8\"/>\n",
              "<line clip-path=\"url(#clip0003)\" x1=\"640.971\" y1=\"924.255\" x2=\"640.971\" y2=\"940.255\" style=\"stroke:#000000; stroke-width:4; stroke-opacity:0.8\"/>\n",
              "<line clip-path=\"url(#clip0003)\" x1=\"661.12\" y1=\"924.255\" x2=\"661.12\" y2=\"940.255\" style=\"stroke:#000000; stroke-width:4; stroke-opacity:0.8\"/>\n",
              "<line clip-path=\"url(#clip0003)\" x1=\"728.261\" y1=\"924.255\" x2=\"728.261\" y2=\"940.255\" style=\"stroke:#000000; stroke-width:4; stroke-opacity:0.8\"/>\n",
              "<line clip-path=\"url(#clip0003)\" x1=\"740.772\" y1=\"924.255\" x2=\"740.772\" y2=\"940.255\" style=\"stroke:#000000; stroke-width:4; stroke-opacity:0.8\"/>\n",
              "<line clip-path=\"url(#clip0003)\" x1=\"787.763\" y1=\"924.255\" x2=\"787.763\" y2=\"940.255\" style=\"stroke:#000000; stroke-width:4; stroke-opacity:0.8\"/>\n",
              "<line clip-path=\"url(#clip0003)\" x1=\"815.914\" y1=\"924.255\" x2=\"815.914\" y2=\"940.255\" style=\"stroke:#000000; stroke-width:4; stroke-opacity:0.8\"/>\n",
              "<line clip-path=\"url(#clip0003)\" x1=\"849.303\" y1=\"924.255\" x2=\"849.303\" y2=\"940.255\" style=\"stroke:#000000; stroke-width:4; stroke-opacity:0.8\"/>\n",
              "<line clip-path=\"url(#clip0003)\" x1=\"904.368\" y1=\"924.255\" x2=\"904.368\" y2=\"940.255\" style=\"stroke:#000000; stroke-width:4; stroke-opacity:0.8\"/>\n",
              "<line clip-path=\"url(#clip0003)\" x1=\"1066.36\" y1=\"924.255\" x2=\"1066.36\" y2=\"940.255\" style=\"stroke:#000000; stroke-width:4; stroke-opacity:0.8\"/>\n",
              "<line clip-path=\"url(#clip0003)\" x1=\"1420.11\" y1=\"924.255\" x2=\"1420.11\" y2=\"940.255\" style=\"stroke:#000000; stroke-width:4; stroke-opacity:0.8\"/>\n",
              "<line clip-path=\"url(#clip0003)\" x1=\"1469.21\" y1=\"924.255\" x2=\"1469.21\" y2=\"940.255\" style=\"stroke:#000000; stroke-width:4; stroke-opacity:0.8\"/>\n",
              "<line clip-path=\"url(#clip0003)\" x1=\"1492.92\" y1=\"924.255\" x2=\"1492.92\" y2=\"940.255\" style=\"stroke:#000000; stroke-width:4; stroke-opacity:0.8\"/>\n",
              "<line clip-path=\"url(#clip0003)\" x1=\"1761.48\" y1=\"924.255\" x2=\"1761.48\" y2=\"940.255\" style=\"stroke:#000000; stroke-width:4; stroke-opacity:0.8\"/>\n",
              "<line clip-path=\"url(#clip0003)\" x1=\"527.276\" y1=\"909.788\" x2=\"527.276\" y2=\"925.788\" style=\"stroke:#000000; stroke-width:4; stroke-opacity:0.8\"/>\n",
              "<line clip-path=\"url(#clip0003)\" x1=\"593.107\" y1=\"909.788\" x2=\"593.107\" y2=\"925.788\" style=\"stroke:#000000; stroke-width:4; stroke-opacity:0.8\"/>\n",
              "<line clip-path=\"url(#clip0003)\" x1=\"599.508\" y1=\"909.788\" x2=\"599.508\" y2=\"925.788\" style=\"stroke:#000000; stroke-width:4; stroke-opacity:0.8\"/>\n",
              "<line clip-path=\"url(#clip0003)\" x1=\"609.619\" y1=\"909.788\" x2=\"609.619\" y2=\"925.788\" style=\"stroke:#000000; stroke-width:4; stroke-opacity:0.8\"/>\n",
              "<line clip-path=\"url(#clip0003)\" x1=\"653.555\" y1=\"909.788\" x2=\"653.555\" y2=\"925.788\" style=\"stroke:#000000; stroke-width:4; stroke-opacity:0.8\"/>\n",
              "<line clip-path=\"url(#clip0003)\" x1=\"702.874\" y1=\"909.788\" x2=\"702.874\" y2=\"925.788\" style=\"stroke:#000000; stroke-width:4; stroke-opacity:0.8\"/>\n",
              "<line clip-path=\"url(#clip0003)\" x1=\"765.141\" y1=\"909.788\" x2=\"765.141\" y2=\"925.788\" style=\"stroke:#000000; stroke-width:4; stroke-opacity:0.8\"/>\n",
              "<line clip-path=\"url(#clip0003)\" x1=\"1061.2\" y1=\"909.788\" x2=\"1061.2\" y2=\"925.788\" style=\"stroke:#000000; stroke-width:4; stroke-opacity:0.8\"/>\n",
              "<line clip-path=\"url(#clip0003)\" x1=\"1233.02\" y1=\"909.788\" x2=\"1233.02\" y2=\"925.788\" style=\"stroke:#000000; stroke-width:4; stroke-opacity:0.8\"/>\n",
              "<line clip-path=\"url(#clip0003)\" x1=\"1281.9\" y1=\"909.788\" x2=\"1281.9\" y2=\"925.788\" style=\"stroke:#000000; stroke-width:4; stroke-opacity:0.8\"/>\n",
              "<line clip-path=\"url(#clip0003)\" x1=\"1286.77\" y1=\"909.788\" x2=\"1286.77\" y2=\"925.788\" style=\"stroke:#000000; stroke-width:4; stroke-opacity:0.8\"/>\n",
              "<line clip-path=\"url(#clip0003)\" x1=\"1345.26\" y1=\"909.788\" x2=\"1345.26\" y2=\"925.788\" style=\"stroke:#000000; stroke-width:4; stroke-opacity:0.8\"/>\n",
              "<line clip-path=\"url(#clip0003)\" x1=\"1510.89\" y1=\"909.788\" x2=\"1510.89\" y2=\"925.788\" style=\"stroke:#000000; stroke-width:4; stroke-opacity:0.8\"/>\n",
              "<line clip-path=\"url(#clip0003)\" x1=\"1568.65\" y1=\"909.788\" x2=\"1568.65\" y2=\"925.788\" style=\"stroke:#000000; stroke-width:4; stroke-opacity:0.8\"/>\n",
              "<line clip-path=\"url(#clip0003)\" x1=\"1693.54\" y1=\"909.788\" x2=\"1693.54\" y2=\"925.788\" style=\"stroke:#000000; stroke-width:4; stroke-opacity:0.8\"/>\n",
              "<line clip-path=\"url(#clip0003)\" x1=\"1736.02\" y1=\"909.788\" x2=\"1736.02\" y2=\"925.788\" style=\"stroke:#000000; stroke-width:4; stroke-opacity:0.8\"/>\n",
              "<line clip-path=\"url(#clip0003)\" x1=\"1745.12\" y1=\"909.788\" x2=\"1745.12\" y2=\"925.788\" style=\"stroke:#000000; stroke-width:4; stroke-opacity:0.8\"/>\n",
              "<line clip-path=\"url(#clip0003)\" x1=\"1770.07\" y1=\"909.788\" x2=\"1770.07\" y2=\"925.788\" style=\"stroke:#000000; stroke-width:4; stroke-opacity:0.8\"/>\n",
              "<line clip-path=\"url(#clip0003)\" x1=\"1859.9\" y1=\"909.788\" x2=\"1859.9\" y2=\"925.788\" style=\"stroke:#000000; stroke-width:4; stroke-opacity:0.8\"/>\n",
              "<line clip-path=\"url(#clip0003)\" x1=\"666.649\" y1=\"895.32\" x2=\"666.649\" y2=\"911.32\" style=\"stroke:#000000; stroke-width:4; stroke-opacity:0.8\"/>\n",
              "<line clip-path=\"url(#clip0003)\" x1=\"735.68\" y1=\"895.32\" x2=\"735.68\" y2=\"911.32\" style=\"stroke:#000000; stroke-width:4; stroke-opacity:0.8\"/>\n",
              "<line clip-path=\"url(#clip0003)\" x1=\"867.998\" y1=\"895.32\" x2=\"867.998\" y2=\"911.32\" style=\"stroke:#000000; stroke-width:4; stroke-opacity:0.8\"/>\n",
              "<line clip-path=\"url(#clip0003)\" x1=\"903.641\" y1=\"895.32\" x2=\"903.641\" y2=\"911.32\" style=\"stroke:#000000; stroke-width:4; stroke-opacity:0.8\"/>\n",
              "<line clip-path=\"url(#clip0003)\" x1=\"1019.37\" y1=\"895.32\" x2=\"1019.37\" y2=\"911.32\" style=\"stroke:#000000; stroke-width:4; stroke-opacity:0.8\"/>\n",
              "<line clip-path=\"url(#clip0003)\" x1=\"1033.12\" y1=\"895.32\" x2=\"1033.12\" y2=\"911.32\" style=\"stroke:#000000; stroke-width:4; stroke-opacity:0.8\"/>\n",
              "<line clip-path=\"url(#clip0003)\" x1=\"1093.06\" y1=\"895.32\" x2=\"1093.06\" y2=\"911.32\" style=\"stroke:#000000; stroke-width:4; stroke-opacity:0.8\"/>\n",
              "<line clip-path=\"url(#clip0003)\" x1=\"1176.06\" y1=\"895.32\" x2=\"1176.06\" y2=\"911.32\" style=\"stroke:#000000; stroke-width:4; stroke-opacity:0.8\"/>\n",
              "<line clip-path=\"url(#clip0003)\" x1=\"1252\" y1=\"895.32\" x2=\"1252\" y2=\"911.32\" style=\"stroke:#000000; stroke-width:4; stroke-opacity:0.8\"/>\n",
              "<line clip-path=\"url(#clip0003)\" x1=\"1335.87\" y1=\"895.32\" x2=\"1335.87\" y2=\"911.32\" style=\"stroke:#000000; stroke-width:4; stroke-opacity:0.8\"/>\n",
              "<line clip-path=\"url(#clip0003)\" x1=\"1584.43\" y1=\"895.32\" x2=\"1584.43\" y2=\"911.32\" style=\"stroke:#000000; stroke-width:4; stroke-opacity:0.8\"/>\n",
              "<line clip-path=\"url(#clip0003)\" x1=\"1692.16\" y1=\"895.32\" x2=\"1692.16\" y2=\"911.32\" style=\"stroke:#000000; stroke-width:4; stroke-opacity:0.8\"/>\n",
              "<line clip-path=\"url(#clip0003)\" x1=\"1829.13\" y1=\"895.32\" x2=\"1829.13\" y2=\"911.32\" style=\"stroke:#000000; stroke-width:4; stroke-opacity:0.8\"/>\n",
              "<line clip-path=\"url(#clip0003)\" x1=\"1833.57\" y1=\"895.32\" x2=\"1833.57\" y2=\"911.32\" style=\"stroke:#000000; stroke-width:4; stroke-opacity:0.8\"/>\n",
              "<line clip-path=\"url(#clip0003)\" x1=\"1876.42\" y1=\"895.32\" x2=\"1876.42\" y2=\"911.32\" style=\"stroke:#000000; stroke-width:4; stroke-opacity:0.8\"/>\n",
              "<line clip-path=\"url(#clip0003)\" x1=\"1922.46\" y1=\"895.32\" x2=\"1922.46\" y2=\"911.32\" style=\"stroke:#000000; stroke-width:4; stroke-opacity:0.8\"/>\n",
              "<line clip-path=\"url(#clip0003)\" x1=\"800.202\" y1=\"880.853\" x2=\"800.202\" y2=\"896.853\" style=\"stroke:#000000; stroke-width:4; stroke-opacity:0.8\"/>\n",
              "<line clip-path=\"url(#clip0003)\" x1=\"819.479\" y1=\"880.853\" x2=\"819.479\" y2=\"896.853\" style=\"stroke:#000000; stroke-width:4; stroke-opacity:0.8\"/>\n",
              "<line clip-path=\"url(#clip0003)\" x1=\"825.88\" y1=\"880.853\" x2=\"825.88\" y2=\"896.853\" style=\"stroke:#000000; stroke-width:4; stroke-opacity:0.8\"/>\n",
              "<line clip-path=\"url(#clip0003)\" x1=\"885.237\" y1=\"880.853\" x2=\"885.237\" y2=\"896.853\" style=\"stroke:#000000; stroke-width:4; stroke-opacity:0.8\"/>\n",
              "<line clip-path=\"url(#clip0003)\" x1=\"924.227\" y1=\"880.853\" x2=\"924.227\" y2=\"896.853\" style=\"stroke:#000000; stroke-width:4; stroke-opacity:0.8\"/>\n",
              "<line clip-path=\"url(#clip0003)\" x1=\"946.559\" y1=\"880.853\" x2=\"946.559\" y2=\"896.853\" style=\"stroke:#000000; stroke-width:4; stroke-opacity:0.8\"/>\n",
              "<line clip-path=\"url(#clip0003)\" x1=\"979.583\" y1=\"880.853\" x2=\"979.583\" y2=\"896.853\" style=\"stroke:#000000; stroke-width:4; stroke-opacity:0.8\"/>\n",
              "<line clip-path=\"url(#clip0003)\" x1=\"1025.77\" y1=\"880.853\" x2=\"1025.77\" y2=\"896.853\" style=\"stroke:#000000; stroke-width:4; stroke-opacity:0.8\"/>\n",
              "<line clip-path=\"url(#clip0003)\" x1=\"1040.9\" y1=\"880.853\" x2=\"1040.9\" y2=\"896.853\" style=\"stroke:#000000; stroke-width:4; stroke-opacity:0.8\"/>\n",
              "<line clip-path=\"url(#clip0003)\" x1=\"1199.12\" y1=\"880.853\" x2=\"1199.12\" y2=\"896.853\" style=\"stroke:#000000; stroke-width:4; stroke-opacity:0.8\"/>\n",
              "<line clip-path=\"url(#clip0003)\" x1=\"1251.56\" y1=\"880.853\" x2=\"1251.56\" y2=\"896.853\" style=\"stroke:#000000; stroke-width:4; stroke-opacity:0.8\"/>\n",
              "<line clip-path=\"url(#clip0003)\" x1=\"1277.24\" y1=\"880.853\" x2=\"1277.24\" y2=\"896.853\" style=\"stroke:#000000; stroke-width:4; stroke-opacity:0.8\"/>\n",
              "<line clip-path=\"url(#clip0003)\" x1=\"1362.42\" y1=\"880.853\" x2=\"1362.42\" y2=\"896.853\" style=\"stroke:#000000; stroke-width:4; stroke-opacity:0.8\"/>\n",
              "<line clip-path=\"url(#clip0003)\" x1=\"1427.24\" y1=\"880.853\" x2=\"1427.24\" y2=\"896.853\" style=\"stroke:#000000; stroke-width:4; stroke-opacity:0.8\"/>\n",
              "<line clip-path=\"url(#clip0003)\" x1=\"1569.74\" y1=\"880.853\" x2=\"1569.74\" y2=\"896.853\" style=\"stroke:#000000; stroke-width:4; stroke-opacity:0.8\"/>\n",
              "<line clip-path=\"url(#clip0003)\" x1=\"1713.47\" y1=\"880.853\" x2=\"1713.47\" y2=\"896.853\" style=\"stroke:#000000; stroke-width:4; stroke-opacity:0.8\"/>\n",
              "<line clip-path=\"url(#clip0003)\" x1=\"2019.06\" y1=\"880.853\" x2=\"2019.06\" y2=\"896.853\" style=\"stroke:#000000; stroke-width:4; stroke-opacity:0.8\"/>\n",
              "<line clip-path=\"url(#clip0003)\" x1=\"430.675\" y1=\"866.385\" x2=\"430.675\" y2=\"882.385\" style=\"stroke:#000000; stroke-width:4; stroke-opacity:0.8\"/>\n",
              "<line clip-path=\"url(#clip0003)\" x1=\"653.773\" y1=\"866.385\" x2=\"653.773\" y2=\"882.385\" style=\"stroke:#000000; stroke-width:4; stroke-opacity:0.8\"/>\n",
              "<line clip-path=\"url(#clip0003)\" x1=\"670.504\" y1=\"866.385\" x2=\"670.504\" y2=\"882.385\" style=\"stroke:#000000; stroke-width:4; stroke-opacity:0.8\"/>\n",
              "<line clip-path=\"url(#clip0003)\" x1=\"694.872\" y1=\"866.385\" x2=\"694.872\" y2=\"882.385\" style=\"stroke:#000000; stroke-width:4; stroke-opacity:0.8\"/>\n",
              "<line clip-path=\"url(#clip0003)\" x1=\"718.877\" y1=\"866.385\" x2=\"718.877\" y2=\"882.385\" style=\"stroke:#000000; stroke-width:4; stroke-opacity:0.8\"/>\n",
              "<line clip-path=\"url(#clip0003)\" x1=\"764.05\" y1=\"866.385\" x2=\"764.05\" y2=\"882.385\" style=\"stroke:#000000; stroke-width:4; stroke-opacity:0.8\"/>\n",
              "<line clip-path=\"url(#clip0003)\" x1=\"835.482\" y1=\"866.385\" x2=\"835.482\" y2=\"882.385\" style=\"stroke:#000000; stroke-width:4; stroke-opacity:0.8\"/>\n",
              "<line clip-path=\"url(#clip0003)\" x1=\"956.742\" y1=\"866.385\" x2=\"956.742\" y2=\"882.385\" style=\"stroke:#000000; stroke-width:4; stroke-opacity:0.8\"/>\n",
              "<line clip-path=\"url(#clip0003)\" x1=\"1040.03\" y1=\"866.385\" x2=\"1040.03\" y2=\"882.385\" style=\"stroke:#000000; stroke-width:4; stroke-opacity:0.8\"/>\n",
              "<line clip-path=\"url(#clip0003)\" x1=\"1083.02\" y1=\"866.385\" x2=\"1083.02\" y2=\"882.385\" style=\"stroke:#000000; stroke-width:4; stroke-opacity:0.8\"/>\n",
              "<line clip-path=\"url(#clip0003)\" x1=\"1156.56\" y1=\"866.385\" x2=\"1156.56\" y2=\"882.385\" style=\"stroke:#000000; stroke-width:4; stroke-opacity:0.8\"/>\n",
              "<line clip-path=\"url(#clip0003)\" x1=\"1204.94\" y1=\"866.385\" x2=\"1204.94\" y2=\"882.385\" style=\"stroke:#000000; stroke-width:4; stroke-opacity:0.8\"/>\n",
              "<line clip-path=\"url(#clip0003)\" x1=\"1569.52\" y1=\"866.385\" x2=\"1569.52\" y2=\"882.385\" style=\"stroke:#000000; stroke-width:4; stroke-opacity:0.8\"/>\n",
              "<line clip-path=\"url(#clip0003)\" x1=\"1599.12\" y1=\"866.385\" x2=\"1599.12\" y2=\"882.385\" style=\"stroke:#000000; stroke-width:4; stroke-opacity:0.8\"/>\n",
              "<line clip-path=\"url(#clip0003)\" x1=\"1644.95\" y1=\"866.385\" x2=\"1644.95\" y2=\"882.385\" style=\"stroke:#000000; stroke-width:4; stroke-opacity:0.8\"/>\n",
              "<line clip-path=\"url(#clip0003)\" x1=\"1949.45\" y1=\"866.385\" x2=\"1949.45\" y2=\"882.385\" style=\"stroke:#000000; stroke-width:4; stroke-opacity:0.8\"/>\n",
              "<line clip-path=\"url(#clip0003)\" x1=\"2436.82\" y1=\"866.385\" x2=\"2436.82\" y2=\"882.385\" style=\"stroke:#000000; stroke-width:4; stroke-opacity:0.8\"/>\n",
              "<line clip-path=\"url(#clip0003)\" x1=\"915.425\" y1=\"851.918\" x2=\"915.425\" y2=\"867.918\" style=\"stroke:#000000; stroke-width:4; stroke-opacity:0.8\"/>\n",
              "<line clip-path=\"url(#clip0003)\" x1=\"946.559\" y1=\"851.918\" x2=\"946.559\" y2=\"867.918\" style=\"stroke:#000000; stroke-width:4; stroke-opacity:0.8\"/>\n",
              "<line clip-path=\"url(#clip0003)\" x1=\"1051.45\" y1=\"851.918\" x2=\"1051.45\" y2=\"867.918\" style=\"stroke:#000000; stroke-width:4; stroke-opacity:0.8\"/>\n",
              "<line clip-path=\"url(#clip0003)\" x1=\"1135.18\" y1=\"851.918\" x2=\"1135.18\" y2=\"867.918\" style=\"stroke:#000000; stroke-width:4; stroke-opacity:0.8\"/>\n",
              "<line clip-path=\"url(#clip0003)\" x1=\"1199.99\" y1=\"851.918\" x2=\"1199.99\" y2=\"867.918\" style=\"stroke:#000000; stroke-width:4; stroke-opacity:0.8\"/>\n",
              "<line clip-path=\"url(#clip0003)\" x1=\"1253.67\" y1=\"851.918\" x2=\"1253.67\" y2=\"867.918\" style=\"stroke:#000000; stroke-width:4; stroke-opacity:0.8\"/>\n",
              "<line clip-path=\"url(#clip0003)\" x1=\"2131.88\" y1=\"851.918\" x2=\"2131.88\" y2=\"867.918\" style=\"stroke:#000000; stroke-width:4; stroke-opacity:0.8\"/>\n",
              "<line clip-path=\"url(#clip0003)\" x1=\"2170.29\" y1=\"851.918\" x2=\"2170.29\" y2=\"867.918\" style=\"stroke:#000000; stroke-width:4; stroke-opacity:0.8\"/>\n",
              "<line clip-path=\"url(#clip0003)\" x1=\"2247.32\" y1=\"851.918\" x2=\"2247.32\" y2=\"867.918\" style=\"stroke:#000000; stroke-width:4; stroke-opacity:0.8\"/>\n",
              "<line clip-path=\"url(#clip0003)\" x1=\"405.07\" y1=\"837.45\" x2=\"405.07\" y2=\"853.45\" style=\"stroke:#000000; stroke-width:4; stroke-opacity:0.8\"/>\n",
              "<line clip-path=\"url(#clip0003)\" x1=\"672.395\" y1=\"837.45\" x2=\"672.395\" y2=\"853.45\" style=\"stroke:#000000; stroke-width:4; stroke-opacity:0.8\"/>\n",
              "<line clip-path=\"url(#clip0003)\" x1=\"680.324\" y1=\"837.45\" x2=\"680.324\" y2=\"853.45\" style=\"stroke:#000000; stroke-width:4; stroke-opacity:0.8\"/>\n",
              "<line clip-path=\"url(#clip0003)\" x1=\"789.218\" y1=\"837.45\" x2=\"789.218\" y2=\"853.45\" style=\"stroke:#000000; stroke-width:4; stroke-opacity:0.8\"/>\n",
              "<line clip-path=\"url(#clip0003)\" x1=\"812.35\" y1=\"837.45\" x2=\"812.35\" y2=\"853.45\" style=\"stroke:#000000; stroke-width:4; stroke-opacity:0.8\"/>\n",
              "<line clip-path=\"url(#clip0003)\" x1=\"818.97\" y1=\"837.45\" x2=\"818.97\" y2=\"853.45\" style=\"stroke:#000000; stroke-width:4; stroke-opacity:0.8\"/>\n",
              "<line clip-path=\"url(#clip0003)\" x1=\"885.019\" y1=\"837.45\" x2=\"885.019\" y2=\"853.45\" style=\"stroke:#000000; stroke-width:4; stroke-opacity:0.8\"/>\n",
              "<line clip-path=\"url(#clip0003)\" x1=\"901.459\" y1=\"837.45\" x2=\"901.459\" y2=\"853.45\" style=\"stroke:#000000; stroke-width:4; stroke-opacity:0.8\"/>\n",
              "<line clip-path=\"url(#clip0003)\" x1=\"978.638\" y1=\"837.45\" x2=\"978.638\" y2=\"853.45\" style=\"stroke:#000000; stroke-width:4; stroke-opacity:0.8\"/>\n",
              "<line clip-path=\"url(#clip0003)\" x1=\"1033.99\" y1=\"837.45\" x2=\"1033.99\" y2=\"853.45\" style=\"stroke:#000000; stroke-width:4; stroke-opacity:0.8\"/>\n",
              "<line clip-path=\"url(#clip0003)\" x1=\"1055.67\" y1=\"837.45\" x2=\"1055.67\" y2=\"853.45\" style=\"stroke:#000000; stroke-width:4; stroke-opacity:0.8\"/>\n",
              "<line clip-path=\"url(#clip0003)\" x1=\"1099.32\" y1=\"837.45\" x2=\"1099.32\" y2=\"853.45\" style=\"stroke:#000000; stroke-width:4; stroke-opacity:0.8\"/>\n",
              "<line clip-path=\"url(#clip0003)\" x1=\"1197.95\" y1=\"837.45\" x2=\"1197.95\" y2=\"853.45\" style=\"stroke:#000000; stroke-width:4; stroke-opacity:0.8\"/>\n",
              "<line clip-path=\"url(#clip0003)\" x1=\"1217.01\" y1=\"837.45\" x2=\"1217.01\" y2=\"853.45\" style=\"stroke:#000000; stroke-width:4; stroke-opacity:0.8\"/>\n",
              "<line clip-path=\"url(#clip0003)\" x1=\"1319.65\" y1=\"837.45\" x2=\"1319.65\" y2=\"853.45\" style=\"stroke:#000000; stroke-width:4; stroke-opacity:0.8\"/>\n",
              "<line clip-path=\"url(#clip0003)\" x1=\"1421.63\" y1=\"837.45\" x2=\"1421.63\" y2=\"853.45\" style=\"stroke:#000000; stroke-width:4; stroke-opacity:0.8\"/>\n",
              "<line clip-path=\"url(#clip0003)\" x1=\"1748.97\" y1=\"837.45\" x2=\"1748.97\" y2=\"853.45\" style=\"stroke:#000000; stroke-width:4; stroke-opacity:0.8\"/>\n",
              "<line clip-path=\"url(#clip0003)\" x1=\"1070.36\" y1=\"822.983\" x2=\"1070.36\" y2=\"838.983\" style=\"stroke:#000000; stroke-width:4; stroke-opacity:0.8\"/>\n",
              "<line clip-path=\"url(#clip0003)\" x1=\"1115.68\" y1=\"822.983\" x2=\"1115.68\" y2=\"838.983\" style=\"stroke:#000000; stroke-width:4; stroke-opacity:0.8\"/>\n",
              "<line clip-path=\"url(#clip0003)\" x1=\"1158.38\" y1=\"822.983\" x2=\"1158.38\" y2=\"838.983\" style=\"stroke:#000000; stroke-width:4; stroke-opacity:0.8\"/>\n",
              "<line clip-path=\"url(#clip0003)\" x1=\"1239.05\" y1=\"822.983\" x2=\"1239.05\" y2=\"838.983\" style=\"stroke:#000000; stroke-width:4; stroke-opacity:0.8\"/>\n",
              "<line clip-path=\"url(#clip0003)\" x1=\"1300.37\" y1=\"822.983\" x2=\"1300.37\" y2=\"838.983\" style=\"stroke:#000000; stroke-width:4; stroke-opacity:0.8\"/>\n",
              "<line clip-path=\"url(#clip0003)\" x1=\"1606.98\" y1=\"822.983\" x2=\"1606.98\" y2=\"838.983\" style=\"stroke:#000000; stroke-width:4; stroke-opacity:0.8\"/>\n",
              "<line clip-path=\"url(#clip0003)\" x1=\"1970.32\" y1=\"822.983\" x2=\"1970.32\" y2=\"838.983\" style=\"stroke:#000000; stroke-width:4; stroke-opacity:0.8\"/>\n",
              "<line clip-path=\"url(#clip0003)\" x1=\"658.283\" y1=\"808.516\" x2=\"658.283\" y2=\"824.516\" style=\"stroke:#000000; stroke-width:4; stroke-opacity:0.8\"/>\n",
              "<line clip-path=\"url(#clip0003)\" x1=\"846.393\" y1=\"808.516\" x2=\"846.393\" y2=\"824.516\" style=\"stroke:#000000; stroke-width:4; stroke-opacity:0.8\"/>\n",
              "<line clip-path=\"url(#clip0003)\" x1=\"909.533\" y1=\"808.516\" x2=\"909.533\" y2=\"824.516\" style=\"stroke:#000000; stroke-width:4; stroke-opacity:0.8\"/>\n",
              "<line clip-path=\"url(#clip0003)\" x1=\"1562.75\" y1=\"808.516\" x2=\"1562.75\" y2=\"824.516\" style=\"stroke:#000000; stroke-width:4; stroke-opacity:0.8\"/>\n",
              "<line clip-path=\"url(#clip0003)\" x1=\"1623.35\" y1=\"808.516\" x2=\"1623.35\" y2=\"824.516\" style=\"stroke:#000000; stroke-width:4; stroke-opacity:0.8\"/>\n",
              "<line clip-path=\"url(#clip0003)\" x1=\"1668.16\" y1=\"808.516\" x2=\"1668.16\" y2=\"824.516\" style=\"stroke:#000000; stroke-width:4; stroke-opacity:0.8\"/>\n",
              "<line clip-path=\"url(#clip0003)\" x1=\"1710.13\" y1=\"808.516\" x2=\"1710.13\" y2=\"824.516\" style=\"stroke:#000000; stroke-width:4; stroke-opacity:0.8\"/>\n",
              "<line clip-path=\"url(#clip0003)\" x1=\"429.365\" y1=\"794.048\" x2=\"429.365\" y2=\"810.048\" style=\"stroke:#000000; stroke-width:4; stroke-opacity:0.8\"/>\n",
              "<line clip-path=\"url(#clip0003)\" x1=\"493.887\" y1=\"794.048\" x2=\"493.887\" y2=\"810.048\" style=\"stroke:#000000; stroke-width:4; stroke-opacity:0.8\"/>\n",
              "<line clip-path=\"url(#clip0003)\" x1=\"720.696\" y1=\"794.048\" x2=\"720.696\" y2=\"810.048\" style=\"stroke:#000000; stroke-width:4; stroke-opacity:0.8\"/>\n",
              "<line clip-path=\"url(#clip0003)\" x1=\"897.894\" y1=\"794.048\" x2=\"897.894\" y2=\"810.048\" style=\"stroke:#000000; stroke-width:4; stroke-opacity:0.8\"/>\n",
              "<line clip-path=\"url(#clip0003)\" x1=\"918.626\" y1=\"794.048\" x2=\"918.626\" y2=\"810.048\" style=\"stroke:#000000; stroke-width:4; stroke-opacity:0.8\"/>\n",
              "<line clip-path=\"url(#clip0003)\" x1=\"980.82\" y1=\"794.048\" x2=\"980.82\" y2=\"810.048\" style=\"stroke:#000000; stroke-width:4; stroke-opacity:0.8\"/>\n",
              "<line clip-path=\"url(#clip0003)\" x1=\"1002.57\" y1=\"794.048\" x2=\"1002.57\" y2=\"810.048\" style=\"stroke:#000000; stroke-width:4; stroke-opacity:0.8\"/>\n",
              "<line clip-path=\"url(#clip0003)\" x1=\"1123.1\" y1=\"794.048\" x2=\"1123.1\" y2=\"810.048\" style=\"stroke:#000000; stroke-width:4; stroke-opacity:0.8\"/>\n",
              "<line clip-path=\"url(#clip0003)\" x1=\"1305.47\" y1=\"794.048\" x2=\"1305.47\" y2=\"810.048\" style=\"stroke:#000000; stroke-width:4; stroke-opacity:0.8\"/>\n",
              "<line clip-path=\"url(#clip0003)\" x1=\"1370.79\" y1=\"794.048\" x2=\"1370.79\" y2=\"810.048\" style=\"stroke:#000000; stroke-width:4; stroke-opacity:0.8\"/>\n",
              "<line clip-path=\"url(#clip0003)\" x1=\"1496.34\" y1=\"794.048\" x2=\"1496.34\" y2=\"810.048\" style=\"stroke:#000000; stroke-width:4; stroke-opacity:0.8\"/>\n",
              "<line clip-path=\"url(#clip0003)\" x1=\"2334.03\" y1=\"794.048\" x2=\"2334.03\" y2=\"810.048\" style=\"stroke:#000000; stroke-width:4; stroke-opacity:0.8\"/>\n",
              "<line clip-path=\"url(#clip0003)\" x1=\"2374.91\" y1=\"794.048\" x2=\"2374.91\" y2=\"810.048\" style=\"stroke:#000000; stroke-width:4; stroke-opacity:0.8\"/>\n",
              "<line clip-path=\"url(#clip0003)\" x1=\"665.266\" y1=\"779.581\" x2=\"665.266\" y2=\"795.581\" style=\"stroke:#000000; stroke-width:4; stroke-opacity:0.8\"/>\n",
              "<line clip-path=\"url(#clip0003)\" x1=\"674.286\" y1=\"779.581\" x2=\"674.286\" y2=\"795.581\" style=\"stroke:#000000; stroke-width:4; stroke-opacity:0.8\"/>\n",
              "<line clip-path=\"url(#clip0003)\" x1=\"686.58\" y1=\"779.581\" x2=\"686.58\" y2=\"795.581\" style=\"stroke:#000000; stroke-width:4; stroke-opacity:0.8\"/>\n",
              "<line clip-path=\"url(#clip0003)\" x1=\"714.949\" y1=\"779.581\" x2=\"714.949\" y2=\"795.581\" style=\"stroke:#000000; stroke-width:4; stroke-opacity:0.8\"/>\n",
              "<line clip-path=\"url(#clip0003)\" x1=\"730.734\" y1=\"779.581\" x2=\"730.734\" y2=\"795.581\" style=\"stroke:#000000; stroke-width:4; stroke-opacity:0.8\"/>\n",
              "<line clip-path=\"url(#clip0003)\" x1=\"745.428\" y1=\"779.581\" x2=\"745.428\" y2=\"795.581\" style=\"stroke:#000000; stroke-width:4; stroke-opacity:0.8\"/>\n",
              "<line clip-path=\"url(#clip0003)\" x1=\"751.247\" y1=\"779.581\" x2=\"751.247\" y2=\"795.581\" style=\"stroke:#000000; stroke-width:4; stroke-opacity:0.8\"/>\n",
              "<line clip-path=\"url(#clip0003)\" x1=\"777.798\" y1=\"779.581\" x2=\"777.798\" y2=\"795.581\" style=\"stroke:#000000; stroke-width:4; stroke-opacity:0.8\"/>\n",
              "<line clip-path=\"url(#clip0003)\" x1=\"794.165\" y1=\"779.581\" x2=\"794.165\" y2=\"795.581\" style=\"stroke:#000000; stroke-width:4; stroke-opacity:0.8\"/>\n",
              "<line clip-path=\"url(#clip0003)\" x1=\"824.425\" y1=\"779.581\" x2=\"824.425\" y2=\"795.581\" style=\"stroke:#000000; stroke-width:4; stroke-opacity:0.8\"/>\n",
              "<line clip-path=\"url(#clip0003)\" x1=\"903.35\" y1=\"779.581\" x2=\"903.35\" y2=\"795.581\" style=\"stroke:#000000; stroke-width:4; stroke-opacity:0.8\"/>\n",
              "<line clip-path=\"url(#clip0003)\" x1=\"907.642\" y1=\"779.581\" x2=\"907.642\" y2=\"795.581\" style=\"stroke:#000000; stroke-width:4; stroke-opacity:0.8\"/>\n",
              "<line clip-path=\"url(#clip0003)\" x1=\"990.276\" y1=\"779.581\" x2=\"990.276\" y2=\"795.581\" style=\"stroke:#000000; stroke-width:4; stroke-opacity:0.8\"/>\n",
              "<line clip-path=\"url(#clip0003)\" x1=\"1070\" y1=\"779.581\" x2=\"1070\" y2=\"795.581\" style=\"stroke:#000000; stroke-width:4; stroke-opacity:0.8\"/>\n",
              "<line clip-path=\"url(#clip0003)\" x1=\"1181.88\" y1=\"779.581\" x2=\"1181.88\" y2=\"795.581\" style=\"stroke:#000000; stroke-width:4; stroke-opacity:0.8\"/>\n",
              "<line clip-path=\"url(#clip0003)\" x1=\"1197.52\" y1=\"779.581\" x2=\"1197.52\" y2=\"795.581\" style=\"stroke:#000000; stroke-width:4; stroke-opacity:0.8\"/>\n",
              "<line clip-path=\"url(#clip0003)\" x1=\"1237.23\" y1=\"779.581\" x2=\"1237.23\" y2=\"795.581\" style=\"stroke:#000000; stroke-width:4; stroke-opacity:0.8\"/>\n",
              "<line clip-path=\"url(#clip0003)\" x1=\"1276.66\" y1=\"779.581\" x2=\"1276.66\" y2=\"795.581\" style=\"stroke:#000000; stroke-width:4; stroke-opacity:0.8\"/>\n",
              "<line clip-path=\"url(#clip0003)\" x1=\"1329.62\" y1=\"779.581\" x2=\"1329.62\" y2=\"795.581\" style=\"stroke:#000000; stroke-width:4; stroke-opacity:0.8\"/>\n",
              "<line clip-path=\"url(#clip0003)\" x1=\"1361.77\" y1=\"779.581\" x2=\"1361.77\" y2=\"795.581\" style=\"stroke:#000000; stroke-width:4; stroke-opacity:0.8\"/>\n",
              "<line clip-path=\"url(#clip0003)\" x1=\"1484.63\" y1=\"779.581\" x2=\"1484.63\" y2=\"795.581\" style=\"stroke:#000000; stroke-width:4; stroke-opacity:0.8\"/>\n",
              "<line clip-path=\"url(#clip0003)\" x1=\"1590.83\" y1=\"779.581\" x2=\"1590.83\" y2=\"795.581\" style=\"stroke:#000000; stroke-width:4; stroke-opacity:0.8\"/>\n",
              "<line clip-path=\"url(#clip0003)\" x1=\"1636.15\" y1=\"779.581\" x2=\"1636.15\" y2=\"795.581\" style=\"stroke:#000000; stroke-width:4; stroke-opacity:0.8\"/>\n",
              "<line clip-path=\"url(#clip0003)\" x1=\"1647.21\" y1=\"779.581\" x2=\"1647.21\" y2=\"795.581\" style=\"stroke:#000000; stroke-width:4; stroke-opacity:0.8\"/>\n",
              "<line clip-path=\"url(#clip0003)\" x1=\"1658.7\" y1=\"779.581\" x2=\"1658.7\" y2=\"795.581\" style=\"stroke:#000000; stroke-width:4; stroke-opacity:0.8\"/>\n",
              "<line clip-path=\"url(#clip0003)\" x1=\"1735.59\" y1=\"779.581\" x2=\"1735.59\" y2=\"795.581\" style=\"stroke:#000000; stroke-width:4; stroke-opacity:0.8\"/>\n",
              "<line clip-path=\"url(#clip0003)\" x1=\"1753.41\" y1=\"779.581\" x2=\"1753.41\" y2=\"795.581\" style=\"stroke:#000000; stroke-width:4; stroke-opacity:0.8\"/>\n",
              "<line clip-path=\"url(#clip0003)\" x1=\"1764.61\" y1=\"779.581\" x2=\"1764.61\" y2=\"795.581\" style=\"stroke:#000000; stroke-width:4; stroke-opacity:0.8\"/>\n",
              "<line clip-path=\"url(#clip0003)\" x1=\"1806.22\" y1=\"779.581\" x2=\"1806.22\" y2=\"795.581\" style=\"stroke:#000000; stroke-width:4; stroke-opacity:0.8\"/>\n",
              "<line clip-path=\"url(#clip0003)\" x1=\"672.322\" y1=\"765.113\" x2=\"672.322\" y2=\"781.113\" style=\"stroke:#000000; stroke-width:4; stroke-opacity:0.8\"/>\n",
              "<line clip-path=\"url(#clip0003)\" x1=\"736.626\" y1=\"765.113\" x2=\"736.626\" y2=\"781.113\" style=\"stroke:#000000; stroke-width:4; stroke-opacity:0.8\"/>\n",
              "<line clip-path=\"url(#clip0003)\" x1=\"864.215\" y1=\"765.113\" x2=\"864.215\" y2=\"781.113\" style=\"stroke:#000000; stroke-width:4; stroke-opacity:0.8\"/>\n",
              "<line clip-path=\"url(#clip0003)\" x1=\"929.101\" y1=\"765.113\" x2=\"929.101\" y2=\"781.113\" style=\"stroke:#000000; stroke-width:4; stroke-opacity:0.8\"/>\n",
              "<line clip-path=\"url(#clip0003)\" x1=\"987.003\" y1=\"765.113\" x2=\"987.003\" y2=\"781.113\" style=\"stroke:#000000; stroke-width:4; stroke-opacity:0.8\"/>\n",
              "<line clip-path=\"url(#clip0003)\" x1=\"1290.26\" y1=\"765.113\" x2=\"1290.26\" y2=\"781.113\" style=\"stroke:#000000; stroke-width:4; stroke-opacity:0.8\"/>\n",
              "<line clip-path=\"url(#clip0003)\" x1=\"1459.53\" y1=\"765.113\" x2=\"1459.53\" y2=\"781.113\" style=\"stroke:#000000; stroke-width:4; stroke-opacity:0.8\"/>\n",
              "<line clip-path=\"url(#clip0003)\" x1=\"1559.12\" y1=\"765.113\" x2=\"1559.12\" y2=\"781.113\" style=\"stroke:#000000; stroke-width:4; stroke-opacity:0.8\"/>\n",
              "<line clip-path=\"url(#clip0003)\" x1=\"1722.35\" y1=\"765.113\" x2=\"1722.35\" y2=\"781.113\" style=\"stroke:#000000; stroke-width:4; stroke-opacity:0.8\"/>\n",
              "<line clip-path=\"url(#clip0003)\" x1=\"1764.54\" y1=\"765.113\" x2=\"1764.54\" y2=\"781.113\" style=\"stroke:#000000; stroke-width:4; stroke-opacity:0.8\"/>\n",
              "<line clip-path=\"url(#clip0003)\" x1=\"1816.69\" y1=\"765.113\" x2=\"1816.69\" y2=\"781.113\" style=\"stroke:#000000; stroke-width:4; stroke-opacity:0.8\"/>\n",
              "<line clip-path=\"url(#clip0003)\" x1=\"2151.38\" y1=\"765.113\" x2=\"2151.38\" y2=\"781.113\" style=\"stroke:#000000; stroke-width:4; stroke-opacity:0.8\"/>\n",
              "<line clip-path=\"url(#clip0003)\" x1=\"2377.75\" y1=\"765.113\" x2=\"2377.75\" y2=\"781.113\" style=\"stroke:#000000; stroke-width:4; stroke-opacity:0.8\"/>\n",
              "<line clip-path=\"url(#clip0003)\" x1=\"467.264\" y1=\"750.646\" x2=\"467.264\" y2=\"766.646\" style=\"stroke:#000000; stroke-width:4; stroke-opacity:0.8\"/>\n",
              "<line clip-path=\"url(#clip0003)\" x1=\"641.989\" y1=\"750.646\" x2=\"641.989\" y2=\"766.646\" style=\"stroke:#000000; stroke-width:4; stroke-opacity:0.8\"/>\n",
              "<line clip-path=\"url(#clip0003)\" x1=\"1099.17\" y1=\"750.646\" x2=\"1099.17\" y2=\"766.646\" style=\"stroke:#000000; stroke-width:4; stroke-opacity:0.8\"/>\n",
              "<line clip-path=\"url(#clip0003)\" x1=\"1443.68\" y1=\"750.646\" x2=\"1443.68\" y2=\"766.646\" style=\"stroke:#000000; stroke-width:4; stroke-opacity:0.8\"/>\n",
              "<line clip-path=\"url(#clip0003)\" x1=\"1636.15\" y1=\"750.646\" x2=\"1636.15\" y2=\"766.646\" style=\"stroke:#000000; stroke-width:4; stroke-opacity:0.8\"/>\n",
              "<line clip-path=\"url(#clip0003)\" x1=\"558.191\" y1=\"736.178\" x2=\"558.191\" y2=\"752.178\" style=\"stroke:#000000; stroke-width:4; stroke-opacity:0.8\"/>\n",
              "<line clip-path=\"url(#clip0003)\" x1=\"867.561\" y1=\"736.178\" x2=\"867.561\" y2=\"752.178\" style=\"stroke:#000000; stroke-width:4; stroke-opacity:0.8\"/>\n",
              "<line clip-path=\"url(#clip0003)\" x1=\"900.513\" y1=\"736.178\" x2=\"900.513\" y2=\"752.178\" style=\"stroke:#000000; stroke-width:4; stroke-opacity:0.8\"/>\n",
              "<line clip-path=\"url(#clip0003)\" x1=\"930.192\" y1=\"736.178\" x2=\"930.192\" y2=\"752.178\" style=\"stroke:#000000; stroke-width:4; stroke-opacity:0.8\"/>\n",
              "<line clip-path=\"url(#clip0003)\" x1=\"1004.61\" y1=\"736.178\" x2=\"1004.61\" y2=\"752.178\" style=\"stroke:#000000; stroke-width:4; stroke-opacity:0.8\"/>\n",
              "<line clip-path=\"url(#clip0003)\" x1=\"1519.4\" y1=\"736.178\" x2=\"1519.4\" y2=\"752.178\" style=\"stroke:#000000; stroke-width:4; stroke-opacity:0.8\"/>\n",
              "<line clip-path=\"url(#clip0003)\" x1=\"1552.93\" y1=\"736.178\" x2=\"1552.93\" y2=\"752.178\" style=\"stroke:#000000; stroke-width:4; stroke-opacity:0.8\"/>\n",
              "<line clip-path=\"url(#clip0003)\" x1=\"654.355\" y1=\"721.711\" x2=\"654.355\" y2=\"737.711\" style=\"stroke:#000000; stroke-width:4; stroke-opacity:0.8\"/>\n",
              "<line clip-path=\"url(#clip0003)\" x1=\"796.056\" y1=\"721.711\" x2=\"796.056\" y2=\"737.711\" style=\"stroke:#000000; stroke-width:4; stroke-opacity:0.8\"/>\n",
              "<line clip-path=\"url(#clip0003)\" x1=\"847.848\" y1=\"721.711\" x2=\"847.848\" y2=\"737.711\" style=\"stroke:#000000; stroke-width:4; stroke-opacity:0.8\"/>\n",
              "<line clip-path=\"url(#clip0003)\" x1=\"902.113\" y1=\"721.711\" x2=\"902.113\" y2=\"737.711\" style=\"stroke:#000000; stroke-width:4; stroke-opacity:0.8\"/>\n",
              "<line clip-path=\"url(#clip0003)\" x1=\"981.111\" y1=\"721.711\" x2=\"981.111\" y2=\"737.711\" style=\"stroke:#000000; stroke-width:4; stroke-opacity:0.8\"/>\n",
              "<line clip-path=\"url(#clip0003)\" x1=\"1218.18\" y1=\"721.711\" x2=\"1218.18\" y2=\"737.711\" style=\"stroke:#000000; stroke-width:4; stroke-opacity:0.8\"/>\n",
              "<line clip-path=\"url(#clip0003)\" x1=\"1412.83\" y1=\"721.711\" x2=\"1412.83\" y2=\"737.711\" style=\"stroke:#000000; stroke-width:4; stroke-opacity:0.8\"/>\n",
              "<line clip-path=\"url(#clip0003)\" x1=\"1558.68\" y1=\"721.711\" x2=\"1558.68\" y2=\"737.711\" style=\"stroke:#000000; stroke-width:4; stroke-opacity:0.8\"/>\n",
              "<line clip-path=\"url(#clip0003)\" x1=\"1680.01\" y1=\"721.711\" x2=\"1680.01\" y2=\"737.711\" style=\"stroke:#000000; stroke-width:4; stroke-opacity:0.8\"/>\n",
              "<line clip-path=\"url(#clip0003)\" x1=\"1718.49\" y1=\"721.711\" x2=\"1718.49\" y2=\"737.711\" style=\"stroke:#000000; stroke-width:4; stroke-opacity:0.8\"/>\n",
              "<line clip-path=\"url(#clip0003)\" x1=\"944.304\" y1=\"707.243\" x2=\"944.304\" y2=\"723.243\" style=\"stroke:#000000; stroke-width:4; stroke-opacity:0.8\"/>\n",
              "<line clip-path=\"url(#clip0003)\" x1=\"1052.18\" y1=\"707.243\" x2=\"1052.18\" y2=\"723.243\" style=\"stroke:#000000; stroke-width:4; stroke-opacity:0.8\"/>\n",
              "<line clip-path=\"url(#clip0003)\" x1=\"1089.57\" y1=\"707.243\" x2=\"1089.57\" y2=\"723.243\" style=\"stroke:#000000; stroke-width:4; stroke-opacity:0.8\"/>\n",
              "<line clip-path=\"url(#clip0003)\" x1=\"1249.31\" y1=\"707.243\" x2=\"1249.31\" y2=\"723.243\" style=\"stroke:#000000; stroke-width:4; stroke-opacity:0.8\"/>\n",
              "<line clip-path=\"url(#clip0003)\" x1=\"1286.12\" y1=\"707.243\" x2=\"1286.12\" y2=\"723.243\" style=\"stroke:#000000; stroke-width:4; stroke-opacity:0.8\"/>\n",
              "<line clip-path=\"url(#clip0003)\" x1=\"1343.66\" y1=\"707.243\" x2=\"1343.66\" y2=\"723.243\" style=\"stroke:#000000; stroke-width:4; stroke-opacity:0.8\"/>\n",
              "<line clip-path=\"url(#clip0003)\" x1=\"1524.93\" y1=\"707.243\" x2=\"1524.93\" y2=\"723.243\" style=\"stroke:#000000; stroke-width:4; stroke-opacity:0.8\"/>\n",
              "<line clip-path=\"url(#clip0003)\" x1=\"1615.49\" y1=\"707.243\" x2=\"1615.49\" y2=\"723.243\" style=\"stroke:#000000; stroke-width:4; stroke-opacity:0.8\"/>\n",
              "<line clip-path=\"url(#clip0003)\" x1=\"936.302\" y1=\"692.776\" x2=\"936.302\" y2=\"708.776\" style=\"stroke:#000000; stroke-width:4; stroke-opacity:0.8\"/>\n",
              "<line clip-path=\"url(#clip0003)\" x1=\"998.714\" y1=\"692.776\" x2=\"998.714\" y2=\"708.776\" style=\"stroke:#000000; stroke-width:4; stroke-opacity:0.8\"/>\n",
              "<line clip-path=\"url(#clip0003)\" x1=\"1049.27\" y1=\"692.776\" x2=\"1049.27\" y2=\"708.776\" style=\"stroke:#000000; stroke-width:4; stroke-opacity:0.8\"/>\n",
              "<line clip-path=\"url(#clip0003)\" x1=\"1134.81\" y1=\"692.776\" x2=\"1134.81\" y2=\"708.776\" style=\"stroke:#000000; stroke-width:4; stroke-opacity:0.8\"/>\n",
              "<line clip-path=\"url(#clip0003)\" x1=\"1426.87\" y1=\"692.776\" x2=\"1426.87\" y2=\"708.776\" style=\"stroke:#000000; stroke-width:4; stroke-opacity:0.8\"/>\n",
              "<line clip-path=\"url(#clip0003)\" x1=\"1624.51\" y1=\"692.776\" x2=\"1624.51\" y2=\"708.776\" style=\"stroke:#000000; stroke-width:4; stroke-opacity:0.8\"/>\n",
              "<line clip-path=\"url(#clip0003)\" x1=\"1664.16\" y1=\"692.776\" x2=\"1664.16\" y2=\"708.776\" style=\"stroke:#000000; stroke-width:4; stroke-opacity:0.8\"/>\n",
              "<line clip-path=\"url(#clip0003)\" x1=\"1699.58\" y1=\"692.776\" x2=\"1699.58\" y2=\"708.776\" style=\"stroke:#000000; stroke-width:4; stroke-opacity:0.8\"/>\n",
              "<line clip-path=\"url(#clip0003)\" x1=\"1885.07\" y1=\"692.776\" x2=\"1885.07\" y2=\"708.776\" style=\"stroke:#000000; stroke-width:4; stroke-opacity:0.8\"/>\n",
              "<line clip-path=\"url(#clip0003)\" x1=\"421.218\" y1=\"678.309\" x2=\"421.218\" y2=\"694.309\" style=\"stroke:#000000; stroke-width:4; stroke-opacity:0.8\"/>\n",
              "<line clip-path=\"url(#clip0003)\" x1=\"726.006\" y1=\"678.309\" x2=\"726.006\" y2=\"694.309\" style=\"stroke:#000000; stroke-width:4; stroke-opacity:0.8\"/>\n",
              "<line clip-path=\"url(#clip0003)\" x1=\"818.242\" y1=\"678.309\" x2=\"818.242\" y2=\"694.309\" style=\"stroke:#000000; stroke-width:4; stroke-opacity:0.8\"/>\n",
              "<line clip-path=\"url(#clip0003)\" x1=\"894.185\" y1=\"678.309\" x2=\"894.185\" y2=\"694.309\" style=\"stroke:#000000; stroke-width:4; stroke-opacity:0.8\"/>\n",
              "<line clip-path=\"url(#clip0003)\" x1=\"924.736\" y1=\"678.309\" x2=\"924.736\" y2=\"694.309\" style=\"stroke:#000000; stroke-width:4; stroke-opacity:0.8\"/>\n",
              "<line clip-path=\"url(#clip0003)\" x1=\"1241.82\" y1=\"678.309\" x2=\"1241.82\" y2=\"694.309\" style=\"stroke:#000000; stroke-width:4; stroke-opacity:0.8\"/>\n",
              "<line clip-path=\"url(#clip0003)\" x1=\"1264.44\" y1=\"678.309\" x2=\"1264.44\" y2=\"694.309\" style=\"stroke:#000000; stroke-width:4; stroke-opacity:0.8\"/>\n",
              "<line clip-path=\"url(#clip0003)\" x1=\"1393.05\" y1=\"678.309\" x2=\"1393.05\" y2=\"694.309\" style=\"stroke:#000000; stroke-width:4; stroke-opacity:0.8\"/>\n",
              "<line clip-path=\"url(#clip0003)\" x1=\"1514.38\" y1=\"678.309\" x2=\"1514.38\" y2=\"694.309\" style=\"stroke:#000000; stroke-width:4; stroke-opacity:0.8\"/>\n",
              "<line clip-path=\"url(#clip0003)\" x1=\"1804.11\" y1=\"678.309\" x2=\"1804.11\" y2=\"694.309\" style=\"stroke:#000000; stroke-width:4; stroke-opacity:0.8\"/>\n",
              "<line clip-path=\"url(#clip0003)\" x1=\"1868.63\" y1=\"678.309\" x2=\"1868.63\" y2=\"694.309\" style=\"stroke:#000000; stroke-width:4; stroke-opacity:0.8\"/>\n",
              "<line clip-path=\"url(#clip0003)\" x1=\"2240.56\" y1=\"678.309\" x2=\"2240.56\" y2=\"694.309\" style=\"stroke:#000000; stroke-width:4; stroke-opacity:0.8\"/>\n",
              "<line clip-path=\"url(#clip0003)\" x1=\"448.205\" y1=\"663.841\" x2=\"448.205\" y2=\"679.841\" style=\"stroke:#000000; stroke-width:4; stroke-opacity:0.8\"/>\n",
              "<line clip-path=\"url(#clip0003)\" x1=\"851.631\" y1=\"663.841\" x2=\"851.631\" y2=\"679.841\" style=\"stroke:#000000; stroke-width:4; stroke-opacity:0.8\"/>\n",
              "<line clip-path=\"url(#clip0003)\" x1=\"948.523\" y1=\"663.841\" x2=\"948.523\" y2=\"679.841\" style=\"stroke:#000000; stroke-width:4; stroke-opacity:0.8\"/>\n",
              "<line clip-path=\"url(#clip0003)\" x1=\"990.204\" y1=\"663.841\" x2=\"990.204\" y2=\"679.841\" style=\"stroke:#000000; stroke-width:4; stroke-opacity:0.8\"/>\n",
              "<line clip-path=\"url(#clip0003)\" x1=\"1009.7\" y1=\"663.841\" x2=\"1009.7\" y2=\"679.841\" style=\"stroke:#000000; stroke-width:4; stroke-opacity:0.8\"/>\n",
              "<line clip-path=\"url(#clip0003)\" x1=\"1106.81\" y1=\"663.841\" x2=\"1106.81\" y2=\"679.841\" style=\"stroke:#000000; stroke-width:4; stroke-opacity:0.8\"/>\n",
              "<line clip-path=\"url(#clip0003)\" x1=\"1115.97\" y1=\"663.841\" x2=\"1115.97\" y2=\"679.841\" style=\"stroke:#000000; stroke-width:4; stroke-opacity:0.8\"/>\n",
              "<line clip-path=\"url(#clip0003)\" x1=\"1127.76\" y1=\"663.841\" x2=\"1127.76\" y2=\"679.841\" style=\"stroke:#000000; stroke-width:4; stroke-opacity:0.8\"/>\n",
              "<line clip-path=\"url(#clip0003)\" x1=\"1143.62\" y1=\"663.841\" x2=\"1143.62\" y2=\"679.841\" style=\"stroke:#000000; stroke-width:4; stroke-opacity:0.8\"/>\n",
              "<line clip-path=\"url(#clip0003)\" x1=\"1233.89\" y1=\"663.841\" x2=\"1233.89\" y2=\"679.841\" style=\"stroke:#000000; stroke-width:4; stroke-opacity:0.8\"/>\n",
              "<line clip-path=\"url(#clip0003)\" x1=\"1251.71\" y1=\"663.841\" x2=\"1251.71\" y2=\"679.841\" style=\"stroke:#000000; stroke-width:4; stroke-opacity:0.8\"/>\n",
              "<line clip-path=\"url(#clip0003)\" x1=\"1346.2\" y1=\"663.841\" x2=\"1346.2\" y2=\"679.841\" style=\"stroke:#000000; stroke-width:4; stroke-opacity:0.8\"/>\n",
              "<line clip-path=\"url(#clip0003)\" x1=\"1368.61\" y1=\"663.841\" x2=\"1368.61\" y2=\"679.841\" style=\"stroke:#000000; stroke-width:4; stroke-opacity:0.8\"/>\n",
              "<line clip-path=\"url(#clip0003)\" x1=\"1397.34\" y1=\"663.841\" x2=\"1397.34\" y2=\"679.841\" style=\"stroke:#000000; stroke-width:4; stroke-opacity:0.8\"/>\n",
              "<line clip-path=\"url(#clip0003)\" x1=\"1646.12\" y1=\"663.841\" x2=\"1646.12\" y2=\"679.841\" style=\"stroke:#000000; stroke-width:4; stroke-opacity:0.8\"/>\n",
              "<line clip-path=\"url(#clip0003)\" x1=\"1744.1\" y1=\"663.841\" x2=\"1744.1\" y2=\"679.841\" style=\"stroke:#000000; stroke-width:4; stroke-opacity:0.8\"/>\n",
              "<line clip-path=\"url(#clip0003)\" x1=\"2364.88\" y1=\"663.841\" x2=\"2364.88\" y2=\"679.841\" style=\"stroke:#000000; stroke-width:4; stroke-opacity:0.8\"/>\n",
              "<line clip-path=\"url(#clip0003)\" x1=\"395.104\" y1=\"649.374\" x2=\"395.104\" y2=\"665.374\" style=\"stroke:#000000; stroke-width:4; stroke-opacity:0.8\"/>\n",
              "<line clip-path=\"url(#clip0003)\" x1=\"659.738\" y1=\"649.374\" x2=\"659.738\" y2=\"665.374\" style=\"stroke:#000000; stroke-width:4; stroke-opacity:0.8\"/>\n",
              "<line clip-path=\"url(#clip0003)\" x1=\"698.146\" y1=\"649.374\" x2=\"698.146\" y2=\"665.374\" style=\"stroke:#000000; stroke-width:4; stroke-opacity:0.8\"/>\n",
              "<line clip-path=\"url(#clip0003)\" x1=\"720.332\" y1=\"649.374\" x2=\"720.332\" y2=\"665.374\" style=\"stroke:#000000; stroke-width:4; stroke-opacity:0.8\"/>\n",
              "<line clip-path=\"url(#clip0003)\" x1=\"942.485\" y1=\"649.374\" x2=\"942.485\" y2=\"665.374\" style=\"stroke:#000000; stroke-width:4; stroke-opacity:0.8\"/>\n",
              "<line clip-path=\"url(#clip0003)\" x1=\"951.578\" y1=\"649.374\" x2=\"951.578\" y2=\"665.374\" style=\"stroke:#000000; stroke-width:4; stroke-opacity:0.8\"/>\n",
              "<line clip-path=\"url(#clip0003)\" x1=\"978.565\" y1=\"649.374\" x2=\"978.565\" y2=\"665.374\" style=\"stroke:#000000; stroke-width:4; stroke-opacity:0.8\"/>\n",
              "<line clip-path=\"url(#clip0003)\" x1=\"1169.88\" y1=\"649.374\" x2=\"1169.88\" y2=\"665.374\" style=\"stroke:#000000; stroke-width:4; stroke-opacity:0.8\"/>\n",
              "<line clip-path=\"url(#clip0003)\" x1=\"1390.21\" y1=\"649.374\" x2=\"1390.21\" y2=\"665.374\" style=\"stroke:#000000; stroke-width:4; stroke-opacity:0.8\"/>\n",
              "<line clip-path=\"url(#clip0003)\" x1=\"1411.67\" y1=\"649.374\" x2=\"1411.67\" y2=\"665.374\" style=\"stroke:#000000; stroke-width:4; stroke-opacity:0.8\"/>\n",
              "<line clip-path=\"url(#clip0003)\" x1=\"1424.18\" y1=\"649.374\" x2=\"1424.18\" y2=\"665.374\" style=\"stroke:#000000; stroke-width:4; stroke-opacity:0.8\"/>\n",
              "<line clip-path=\"url(#clip0003)\" x1=\"1681.9\" y1=\"649.374\" x2=\"1681.9\" y2=\"665.374\" style=\"stroke:#000000; stroke-width:4; stroke-opacity:0.8\"/>\n",
              "<line clip-path=\"url(#clip0003)\" x1=\"594.343\" y1=\"634.906\" x2=\"594.343\" y2=\"650.906\" style=\"stroke:#000000; stroke-width:4; stroke-opacity:0.8\"/>\n",
              "<line clip-path=\"url(#clip0003)\" x1=\"640.825\" y1=\"634.906\" x2=\"640.825\" y2=\"650.906\" style=\"stroke:#000000; stroke-width:4; stroke-opacity:0.8\"/>\n",
              "<line clip-path=\"url(#clip0003)\" x1=\"692.399\" y1=\"634.906\" x2=\"692.399\" y2=\"650.906\" style=\"stroke:#000000; stroke-width:4; stroke-opacity:0.8\"/>\n",
              "<line clip-path=\"url(#clip0003)\" x1=\"759.249\" y1=\"634.906\" x2=\"759.249\" y2=\"650.906\" style=\"stroke:#000000; stroke-width:4; stroke-opacity:0.8\"/>\n",
              "<line clip-path=\"url(#clip0003)\" x1=\"804.785\" y1=\"634.906\" x2=\"804.785\" y2=\"650.906\" style=\"stroke:#000000; stroke-width:4; stroke-opacity:0.8\"/>\n",
              "<line clip-path=\"url(#clip0003)\" x1=\"875.563\" y1=\"634.906\" x2=\"875.563\" y2=\"650.906\" style=\"stroke:#000000; stroke-width:4; stroke-opacity:0.8\"/>\n",
              "<line clip-path=\"url(#clip0003)\" x1=\"896.949\" y1=\"634.906\" x2=\"896.949\" y2=\"650.906\" style=\"stroke:#000000; stroke-width:4; stroke-opacity:0.8\"/>\n",
              "<line clip-path=\"url(#clip0003)\" x1=\"916.371\" y1=\"634.906\" x2=\"916.371\" y2=\"650.906\" style=\"stroke:#000000; stroke-width:4; stroke-opacity:0.8\"/>\n",
              "<line clip-path=\"url(#clip0003)\" x1=\"956.888\" y1=\"634.906\" x2=\"956.888\" y2=\"650.906\" style=\"stroke:#000000; stroke-width:4; stroke-opacity:0.8\"/>\n",
              "<line clip-path=\"url(#clip0003)\" x1=\"1221.09\" y1=\"634.906\" x2=\"1221.09\" y2=\"650.906\" style=\"stroke:#000000; stroke-width:4; stroke-opacity:0.8\"/>\n",
              "<line clip-path=\"url(#clip0003)\" x1=\"1466.44\" y1=\"634.906\" x2=\"1466.44\" y2=\"650.906\" style=\"stroke:#000000; stroke-width:4; stroke-opacity:0.8\"/>\n",
              "<line clip-path=\"url(#clip0003)\" x1=\"1726.42\" y1=\"634.906\" x2=\"1726.42\" y2=\"650.906\" style=\"stroke:#000000; stroke-width:4; stroke-opacity:0.8\"/>\n",
              "<line clip-path=\"url(#clip0003)\" x1=\"1773.78\" y1=\"634.906\" x2=\"1773.78\" y2=\"650.906\" style=\"stroke:#000000; stroke-width:4; stroke-opacity:0.8\"/>\n",
              "<line clip-path=\"url(#clip0003)\" x1=\"779.98\" y1=\"620.439\" x2=\"779.98\" y2=\"636.439\" style=\"stroke:#000000; stroke-width:4; stroke-opacity:0.8\"/>\n",
              "<line clip-path=\"url(#clip0003)\" x1=\"785.436\" y1=\"620.439\" x2=\"785.436\" y2=\"636.439\" style=\"stroke:#000000; stroke-width:4; stroke-opacity:0.8\"/>\n",
              "<line clip-path=\"url(#clip0003)\" x1=\"901.895\" y1=\"620.439\" x2=\"901.895\" y2=\"636.439\" style=\"stroke:#000000; stroke-width:4; stroke-opacity:0.8\"/>\n",
              "<line clip-path=\"url(#clip0003)\" x1=\"934.993\" y1=\"620.439\" x2=\"934.993\" y2=\"636.439\" style=\"stroke:#000000; stroke-width:4; stroke-opacity:0.8\"/>\n",
              "<line clip-path=\"url(#clip0003)\" x1=\"1066.73\" y1=\"620.439\" x2=\"1066.73\" y2=\"636.439\" style=\"stroke:#000000; stroke-width:4; stroke-opacity:0.8\"/>\n",
              "<line clip-path=\"url(#clip0003)\" x1=\"1099.97\" y1=\"620.439\" x2=\"1099.97\" y2=\"636.439\" style=\"stroke:#000000; stroke-width:4; stroke-opacity:0.8\"/>\n",
              "<line clip-path=\"url(#clip0003)\" x1=\"1176.64\" y1=\"620.439\" x2=\"1176.64\" y2=\"636.439\" style=\"stroke:#000000; stroke-width:4; stroke-opacity:0.8\"/>\n",
              "<line clip-path=\"url(#clip0003)\" x1=\"1197.01\" y1=\"620.439\" x2=\"1197.01\" y2=\"636.439\" style=\"stroke:#000000; stroke-width:4; stroke-opacity:0.8\"/>\n",
              "<line clip-path=\"url(#clip0003)\" x1=\"1230.25\" y1=\"620.439\" x2=\"1230.25\" y2=\"636.439\" style=\"stroke:#000000; stroke-width:4; stroke-opacity:0.8\"/>\n",
              "<line clip-path=\"url(#clip0003)\" x1=\"1300.45\" y1=\"620.439\" x2=\"1300.45\" y2=\"636.439\" style=\"stroke:#000000; stroke-width:4; stroke-opacity:0.8\"/>\n",
              "<line clip-path=\"url(#clip0003)\" x1=\"1341.04\" y1=\"620.439\" x2=\"1341.04\" y2=\"636.439\" style=\"stroke:#000000; stroke-width:4; stroke-opacity:0.8\"/>\n",
              "<line clip-path=\"url(#clip0003)\" x1=\"1504.34\" y1=\"620.439\" x2=\"1504.34\" y2=\"636.439\" style=\"stroke:#000000; stroke-width:4; stroke-opacity:0.8\"/>\n",
              "<line clip-path=\"url(#clip0003)\" x1=\"1650.92\" y1=\"620.439\" x2=\"1650.92\" y2=\"636.439\" style=\"stroke:#000000; stroke-width:4; stroke-opacity:0.8\"/>\n",
              "<line clip-path=\"url(#clip0003)\" x1=\"1723.37\" y1=\"620.439\" x2=\"1723.37\" y2=\"636.439\" style=\"stroke:#000000; stroke-width:4; stroke-opacity:0.8\"/>\n",
              "<line clip-path=\"url(#clip0003)\" x1=\"1742.72\" y1=\"620.439\" x2=\"1742.72\" y2=\"636.439\" style=\"stroke:#000000; stroke-width:4; stroke-opacity:0.8\"/>\n",
              "<line clip-path=\"url(#clip0003)\" x1=\"2349.38\" y1=\"620.439\" x2=\"2349.38\" y2=\"636.439\" style=\"stroke:#000000; stroke-width:4; stroke-opacity:0.8\"/>\n",
              "<line clip-path=\"url(#clip0003)\" x1=\"332.11\" y1=\"605.971\" x2=\"332.11\" y2=\"621.971\" style=\"stroke:#000000; stroke-width:4; stroke-opacity:0.8\"/>\n",
              "<line clip-path=\"url(#clip0003)\" x1=\"616.02\" y1=\"605.971\" x2=\"616.02\" y2=\"621.971\" style=\"stroke:#000000; stroke-width:4; stroke-opacity:0.8\"/>\n",
              "<line clip-path=\"url(#clip0003)\" x1=\"650.136\" y1=\"605.971\" x2=\"650.136\" y2=\"621.971\" style=\"stroke:#000000; stroke-width:4; stroke-opacity:0.8\"/>\n",
              "<line clip-path=\"url(#clip0003)\" x1=\"658.502\" y1=\"605.971\" x2=\"658.502\" y2=\"621.971\" style=\"stroke:#000000; stroke-width:4; stroke-opacity:0.8\"/>\n",
              "<line clip-path=\"url(#clip0003)\" x1=\"668.54\" y1=\"605.971\" x2=\"668.54\" y2=\"621.971\" style=\"stroke:#000000; stroke-width:4; stroke-opacity:0.8\"/>\n",
              "<line clip-path=\"url(#clip0003)\" x1=\"701.201\" y1=\"605.971\" x2=\"701.201\" y2=\"621.971\" style=\"stroke:#000000; stroke-width:4; stroke-opacity:0.8\"/>\n",
              "<line clip-path=\"url(#clip0003)\" x1=\"707.457\" y1=\"605.971\" x2=\"707.457\" y2=\"621.971\" style=\"stroke:#000000; stroke-width:4; stroke-opacity:0.8\"/>\n",
              "<line clip-path=\"url(#clip0003)\" x1=\"758.812\" y1=\"605.971\" x2=\"758.812\" y2=\"621.971\" style=\"stroke:#000000; stroke-width:4; stroke-opacity:0.8\"/>\n",
              "<line clip-path=\"url(#clip0003)\" x1=\"804.785\" y1=\"605.971\" x2=\"804.785\" y2=\"621.971\" style=\"stroke:#000000; stroke-width:4; stroke-opacity:0.8\"/>\n",
              "<line clip-path=\"url(#clip0003)\" x1=\"843.702\" y1=\"605.971\" x2=\"843.702\" y2=\"621.971\" style=\"stroke:#000000; stroke-width:4; stroke-opacity:0.8\"/>\n",
              "<line clip-path=\"url(#clip0003)\" x1=\"898.331\" y1=\"605.971\" x2=\"898.331\" y2=\"621.971\" style=\"stroke:#000000; stroke-width:4; stroke-opacity:0.8\"/>\n",
              "<line clip-path=\"url(#clip0003)\" x1=\"982.129\" y1=\"605.971\" x2=\"982.129\" y2=\"621.971\" style=\"stroke:#000000; stroke-width:4; stroke-opacity:0.8\"/>\n",
              "<line clip-path=\"url(#clip0003)\" x1=\"1034.72\" y1=\"605.971\" x2=\"1034.72\" y2=\"621.971\" style=\"stroke:#000000; stroke-width:4; stroke-opacity:0.8\"/>\n",
              "<line clip-path=\"url(#clip0003)\" x1=\"1083.02\" y1=\"605.971\" x2=\"1083.02\" y2=\"621.971\" style=\"stroke:#000000; stroke-width:4; stroke-opacity:0.8\"/>\n",
              "<line clip-path=\"url(#clip0003)\" x1=\"1093.21\" y1=\"605.971\" x2=\"1093.21\" y2=\"621.971\" style=\"stroke:#000000; stroke-width:4; stroke-opacity:0.8\"/>\n",
              "<line clip-path=\"url(#clip0003)\" x1=\"1107.97\" y1=\"605.971\" x2=\"1107.97\" y2=\"621.971\" style=\"stroke:#000000; stroke-width:4; stroke-opacity:0.8\"/>\n",
              "<line clip-path=\"url(#clip0003)\" x1=\"1115.25\" y1=\"605.971\" x2=\"1115.25\" y2=\"621.971\" style=\"stroke:#000000; stroke-width:4; stroke-opacity:0.8\"/>\n",
              "<line clip-path=\"url(#clip0003)\" x1=\"1191.48\" y1=\"605.971\" x2=\"1191.48\" y2=\"621.971\" style=\"stroke:#000000; stroke-width:4; stroke-opacity:0.8\"/>\n",
              "<line clip-path=\"url(#clip0003)\" x1=\"1357.04\" y1=\"605.971\" x2=\"1357.04\" y2=\"621.971\" style=\"stroke:#000000; stroke-width:4; stroke-opacity:0.8\"/>\n",
              "<line clip-path=\"url(#clip0003)\" x1=\"1389.12\" y1=\"605.971\" x2=\"1389.12\" y2=\"621.971\" style=\"stroke:#000000; stroke-width:4; stroke-opacity:0.8\"/>\n",
              "<line clip-path=\"url(#clip0003)\" x1=\"1414.65\" y1=\"605.971\" x2=\"1414.65\" y2=\"621.971\" style=\"stroke:#000000; stroke-width:4; stroke-opacity:0.8\"/>\n",
              "<line clip-path=\"url(#clip0003)\" x1=\"1547.62\" y1=\"605.971\" x2=\"1547.62\" y2=\"621.971\" style=\"stroke:#000000; stroke-width:4; stroke-opacity:0.8\"/>\n",
              "<line clip-path=\"url(#clip0003)\" x1=\"1634.19\" y1=\"605.971\" x2=\"1634.19\" y2=\"621.971\" style=\"stroke:#000000; stroke-width:4; stroke-opacity:0.8\"/>\n",
              "<line clip-path=\"url(#clip0003)\" x1=\"1703.22\" y1=\"605.971\" x2=\"1703.22\" y2=\"621.971\" style=\"stroke:#000000; stroke-width:4; stroke-opacity:0.8\"/>\n",
              "<line clip-path=\"url(#clip0003)\" x1=\"1761.77\" y1=\"605.971\" x2=\"1761.77\" y2=\"621.971\" style=\"stroke:#000000; stroke-width:4; stroke-opacity:0.8\"/>\n",
              "<line clip-path=\"url(#clip0003)\" x1=\"1770.21\" y1=\"605.971\" x2=\"1770.21\" y2=\"621.971\" style=\"stroke:#000000; stroke-width:4; stroke-opacity:0.8\"/>\n",
              "<line clip-path=\"url(#clip0003)\" x1=\"2100.75\" y1=\"605.971\" x2=\"2100.75\" y2=\"621.971\" style=\"stroke:#000000; stroke-width:4; stroke-opacity:0.8\"/>\n",
              "<line clip-path=\"url(#clip0003)\" x1=\"2130.21\" y1=\"605.971\" x2=\"2130.21\" y2=\"621.971\" style=\"stroke:#000000; stroke-width:4; stroke-opacity:0.8\"/>\n",
              "<line clip-path=\"url(#clip0003)\" x1=\"433.293\" y1=\"591.504\" x2=\"433.293\" y2=\"607.504\" style=\"stroke:#000000; stroke-width:4; stroke-opacity:0.8\"/>\n",
              "<line clip-path=\"url(#clip0003)\" x1=\"458.826\" y1=\"591.504\" x2=\"458.826\" y2=\"607.504\" style=\"stroke:#000000; stroke-width:4; stroke-opacity:0.8\"/>\n",
              "<line clip-path=\"url(#clip0003)\" x1=\"881.382\" y1=\"591.504\" x2=\"881.382\" y2=\"607.504\" style=\"stroke:#000000; stroke-width:4; stroke-opacity:0.8\"/>\n",
              "<line clip-path=\"url(#clip0003)\" x1=\"907.569\" y1=\"591.504\" x2=\"907.569\" y2=\"607.504\" style=\"stroke:#000000; stroke-width:4; stroke-opacity:0.8\"/>\n",
              "<line clip-path=\"url(#clip0003)\" x1=\"979.947\" y1=\"591.504\" x2=\"979.947\" y2=\"607.504\" style=\"stroke:#000000; stroke-width:4; stroke-opacity:0.8\"/>\n",
              "<line clip-path=\"url(#clip0003)\" x1=\"1003.01\" y1=\"591.504\" x2=\"1003.01\" y2=\"607.504\" style=\"stroke:#000000; stroke-width:4; stroke-opacity:0.8\"/>\n",
              "<line clip-path=\"url(#clip0003)\" x1=\"1039.74\" y1=\"591.504\" x2=\"1039.74\" y2=\"607.504\" style=\"stroke:#000000; stroke-width:4; stroke-opacity:0.8\"/>\n",
              "<line clip-path=\"url(#clip0003)\" x1=\"1062.95\" y1=\"591.504\" x2=\"1062.95\" y2=\"607.504\" style=\"stroke:#000000; stroke-width:4; stroke-opacity:0.8\"/>\n",
              "<line clip-path=\"url(#clip0003)\" x1=\"1079.02\" y1=\"591.504\" x2=\"1079.02\" y2=\"607.504\" style=\"stroke:#000000; stroke-width:4; stroke-opacity:0.8\"/>\n",
              "<line clip-path=\"url(#clip0003)\" x1=\"1415.67\" y1=\"591.504\" x2=\"1415.67\" y2=\"607.504\" style=\"stroke:#000000; stroke-width:4; stroke-opacity:0.8\"/>\n",
              "<line clip-path=\"url(#clip0003)\" x1=\"1523.25\" y1=\"591.504\" x2=\"1523.25\" y2=\"607.504\" style=\"stroke:#000000; stroke-width:4; stroke-opacity:0.8\"/>\n",
              "<line clip-path=\"url(#clip0003)\" x1=\"1694.85\" y1=\"591.504\" x2=\"1694.85\" y2=\"607.504\" style=\"stroke:#000000; stroke-width:4; stroke-opacity:0.8\"/>\n",
              "<line clip-path=\"url(#clip0003)\" x1=\"1918.24\" y1=\"591.504\" x2=\"1918.24\" y2=\"607.504\" style=\"stroke:#000000; stroke-width:4; stroke-opacity:0.8\"/>\n",
              "<line clip-path=\"url(#clip0003)\" x1=\"2018.99\" y1=\"591.504\" x2=\"2018.99\" y2=\"607.504\" style=\"stroke:#000000; stroke-width:4; stroke-opacity:0.8\"/>\n",
              "<line clip-path=\"url(#clip0003)\" x1=\"2264.71\" y1=\"591.504\" x2=\"2264.71\" y2=\"607.504\" style=\"stroke:#000000; stroke-width:4; stroke-opacity:0.8\"/>\n",
              "<line clip-path=\"url(#clip0003)\" x1=\"2269.22\" y1=\"591.504\" x2=\"2269.22\" y2=\"607.504\" style=\"stroke:#000000; stroke-width:4; stroke-opacity:0.8\"/>\n",
              "<line clip-path=\"url(#clip0003)\" x1=\"2431.65\" y1=\"591.504\" x2=\"2431.65\" y2=\"607.504\" style=\"stroke:#000000; stroke-width:4; stroke-opacity:0.8\"/>\n",
              "<line clip-path=\"url(#clip0003)\" x1=\"798.311\" y1=\"577.036\" x2=\"798.311\" y2=\"593.036\" style=\"stroke:#000000; stroke-width:4; stroke-opacity:0.8\"/>\n",
              "<line clip-path=\"url(#clip0003)\" x1=\"925.682\" y1=\"577.036\" x2=\"925.682\" y2=\"593.036\" style=\"stroke:#000000; stroke-width:4; stroke-opacity:0.8\"/>\n",
              "<line clip-path=\"url(#clip0003)\" x1=\"997.623\" y1=\"577.036\" x2=\"997.623\" y2=\"593.036\" style=\"stroke:#000000; stroke-width:4; stroke-opacity:0.8\"/>\n",
              "<line clip-path=\"url(#clip0003)\" x1=\"1023.23\" y1=\"577.036\" x2=\"1023.23\" y2=\"593.036\" style=\"stroke:#000000; stroke-width:4; stroke-opacity:0.8\"/>\n",
              "<line clip-path=\"url(#clip0003)\" x1=\"1040.25\" y1=\"577.036\" x2=\"1040.25\" y2=\"593.036\" style=\"stroke:#000000; stroke-width:4; stroke-opacity:0.8\"/>\n",
              "<line clip-path=\"url(#clip0003)\" x1=\"1115.76\" y1=\"577.036\" x2=\"1115.76\" y2=\"593.036\" style=\"stroke:#000000; stroke-width:4; stroke-opacity:0.8\"/>\n",
              "<line clip-path=\"url(#clip0003)\" x1=\"1258.4\" y1=\"577.036\" x2=\"1258.4\" y2=\"593.036\" style=\"stroke:#000000; stroke-width:4; stroke-opacity:0.8\"/>\n",
              "<line clip-path=\"url(#clip0003)\" x1=\"1268.8\" y1=\"577.036\" x2=\"1268.8\" y2=\"593.036\" style=\"stroke:#000000; stroke-width:4; stroke-opacity:0.8\"/>\n",
              "<line clip-path=\"url(#clip0003)\" x1=\"1297.46\" y1=\"577.036\" x2=\"1297.46\" y2=\"593.036\" style=\"stroke:#000000; stroke-width:4; stroke-opacity:0.8\"/>\n",
              "<line clip-path=\"url(#clip0003)\" x1=\"1347.15\" y1=\"577.036\" x2=\"1347.15\" y2=\"593.036\" style=\"stroke:#000000; stroke-width:4; stroke-opacity:0.8\"/>\n",
              "<line clip-path=\"url(#clip0003)\" x1=\"1354.86\" y1=\"577.036\" x2=\"1354.86\" y2=\"593.036\" style=\"stroke:#000000; stroke-width:4; stroke-opacity:0.8\"/>\n",
              "<line clip-path=\"url(#clip0003)\" x1=\"1486.81\" y1=\"577.036\" x2=\"1486.81\" y2=\"593.036\" style=\"stroke:#000000; stroke-width:4; stroke-opacity:0.8\"/>\n",
              "<line clip-path=\"url(#clip0003)\" x1=\"1491.9\" y1=\"577.036\" x2=\"1491.9\" y2=\"593.036\" style=\"stroke:#000000; stroke-width:4; stroke-opacity:0.8\"/>\n",
              "<line clip-path=\"url(#clip0003)\" x1=\"1560.06\" y1=\"577.036\" x2=\"1560.06\" y2=\"593.036\" style=\"stroke:#000000; stroke-width:4; stroke-opacity:0.8\"/>\n",
              "<line clip-path=\"url(#clip0003)\" x1=\"2369.39\" y1=\"577.036\" x2=\"2369.39\" y2=\"593.036\" style=\"stroke:#000000; stroke-width:4; stroke-opacity:0.8\"/>\n",
              "<line clip-path=\"url(#clip0003)\" x1=\"297.339\" y1=\"562.569\" x2=\"297.339\" y2=\"578.569\" style=\"stroke:#000000; stroke-width:4; stroke-opacity:0.8\"/>\n",
              "<line clip-path=\"url(#clip0003)\" x1=\"323.526\" y1=\"562.569\" x2=\"323.526\" y2=\"578.569\" style=\"stroke:#000000; stroke-width:4; stroke-opacity:0.8\"/>\n",
              "<line clip-path=\"url(#clip0003)\" x1=\"420.709\" y1=\"562.569\" x2=\"420.709\" y2=\"578.569\" style=\"stroke:#000000; stroke-width:4; stroke-opacity:0.8\"/>\n",
              "<line clip-path=\"url(#clip0003)\" x1=\"584.305\" y1=\"562.569\" x2=\"584.305\" y2=\"578.569\" style=\"stroke:#000000; stroke-width:4; stroke-opacity:0.8\"/>\n",
              "<line clip-path=\"url(#clip0003)\" x1=\"645.117\" y1=\"562.569\" x2=\"645.117\" y2=\"578.569\" style=\"stroke:#000000; stroke-width:4; stroke-opacity:0.8\"/>\n",
              "<line clip-path=\"url(#clip0003)\" x1=\"650.791\" y1=\"562.569\" x2=\"650.791\" y2=\"578.569\" style=\"stroke:#000000; stroke-width:4; stroke-opacity:0.8\"/>\n",
              "<line clip-path=\"url(#clip0003)\" x1=\"689.926\" y1=\"562.569\" x2=\"689.926\" y2=\"578.569\" style=\"stroke:#000000; stroke-width:4; stroke-opacity:0.8\"/>\n",
              "<line clip-path=\"url(#clip0003)\" x1=\"744.482\" y1=\"562.569\" x2=\"744.482\" y2=\"578.569\" style=\"stroke:#000000; stroke-width:4; stroke-opacity:0.8\"/>\n",
              "<line clip-path=\"url(#clip0003)\" x1=\"785.872\" y1=\"562.569\" x2=\"785.872\" y2=\"578.569\" style=\"stroke:#000000; stroke-width:4; stroke-opacity:0.8\"/>\n",
              "<line clip-path=\"url(#clip0003)\" x1=\"807.258\" y1=\"562.569\" x2=\"807.258\" y2=\"578.569\" style=\"stroke:#000000; stroke-width:4; stroke-opacity:0.8\"/>\n",
              "<line clip-path=\"url(#clip0003)\" x1=\"897.167\" y1=\"562.569\" x2=\"897.167\" y2=\"578.569\" style=\"stroke:#000000; stroke-width:4; stroke-opacity:0.8\"/>\n",
              "<line clip-path=\"url(#clip0003)\" x1=\"946.268\" y1=\"562.569\" x2=\"946.268\" y2=\"578.569\" style=\"stroke:#000000; stroke-width:4; stroke-opacity:0.8\"/>\n",
              "<line clip-path=\"url(#clip0003)\" x1=\"988.676\" y1=\"562.569\" x2=\"988.676\" y2=\"578.569\" style=\"stroke:#000000; stroke-width:4; stroke-opacity:0.8\"/>\n",
              "<line clip-path=\"url(#clip0003)\" x1=\"1009.41\" y1=\"562.569\" x2=\"1009.41\" y2=\"578.569\" style=\"stroke:#000000; stroke-width:4; stroke-opacity:0.8\"/>\n",
              "<line clip-path=\"url(#clip0003)\" x1=\"1014.79\" y1=\"562.569\" x2=\"1014.79\" y2=\"578.569\" style=\"stroke:#000000; stroke-width:4; stroke-opacity:0.8\"/>\n",
              "<line clip-path=\"url(#clip0003)\" x1=\"1024.9\" y1=\"562.569\" x2=\"1024.9\" y2=\"578.569\" style=\"stroke:#000000; stroke-width:4; stroke-opacity:0.8\"/>\n",
              "<line clip-path=\"url(#clip0003)\" x1=\"1040.18\" y1=\"562.569\" x2=\"1040.18\" y2=\"578.569\" style=\"stroke:#000000; stroke-width:4; stroke-opacity:0.8\"/>\n",
              "<line clip-path=\"url(#clip0003)\" x1=\"1184.71\" y1=\"562.569\" x2=\"1184.71\" y2=\"578.569\" style=\"stroke:#000000; stroke-width:4; stroke-opacity:0.8\"/>\n",
              "<line clip-path=\"url(#clip0003)\" x1=\"1192.35\" y1=\"562.569\" x2=\"1192.35\" y2=\"578.569\" style=\"stroke:#000000; stroke-width:4; stroke-opacity:0.8\"/>\n",
              "<line clip-path=\"url(#clip0003)\" x1=\"1202.1\" y1=\"562.569\" x2=\"1202.1\" y2=\"578.569\" style=\"stroke:#000000; stroke-width:4; stroke-opacity:0.8\"/>\n",
              "<line clip-path=\"url(#clip0003)\" x1=\"1350.13\" y1=\"562.569\" x2=\"1350.13\" y2=\"578.569\" style=\"stroke:#000000; stroke-width:4; stroke-opacity:0.8\"/>\n",
              "<line clip-path=\"url(#clip0003)\" x1=\"1445.64\" y1=\"562.569\" x2=\"1445.64\" y2=\"578.569\" style=\"stroke:#000000; stroke-width:4; stroke-opacity:0.8\"/>\n",
              "<line clip-path=\"url(#clip0003)\" x1=\"1457.2\" y1=\"562.569\" x2=\"1457.2\" y2=\"578.569\" style=\"stroke:#000000; stroke-width:4; stroke-opacity:0.8\"/>\n",
              "<line clip-path=\"url(#clip0003)\" x1=\"1598.54\" y1=\"562.569\" x2=\"1598.54\" y2=\"578.569\" style=\"stroke:#000000; stroke-width:4; stroke-opacity:0.8\"/>\n",
              "<line clip-path=\"url(#clip0003)\" x1=\"1681.18\" y1=\"562.569\" x2=\"1681.18\" y2=\"578.569\" style=\"stroke:#000000; stroke-width:4; stroke-opacity:0.8\"/>\n",
              "<line clip-path=\"url(#clip0003)\" x1=\"1774.58\" y1=\"562.569\" x2=\"1774.58\" y2=\"578.569\" style=\"stroke:#000000; stroke-width:4; stroke-opacity:0.8\"/>\n",
              "<line clip-path=\"url(#clip0003)\" x1=\"1813.2\" y1=\"562.569\" x2=\"1813.2\" y2=\"578.569\" style=\"stroke:#000000; stroke-width:4; stroke-opacity:0.8\"/>\n",
              "<line clip-path=\"url(#clip0003)\" x1=\"2228.41\" y1=\"562.569\" x2=\"2228.41\" y2=\"578.569\" style=\"stroke:#000000; stroke-width:4; stroke-opacity:0.8\"/>\n",
              "<line clip-path=\"url(#clip0003)\" x1=\"656.828\" y1=\"548.102\" x2=\"656.828\" y2=\"564.102\" style=\"stroke:#000000; stroke-width:4; stroke-opacity:0.8\"/>\n",
              "<line clip-path=\"url(#clip0003)\" x1=\"772.56\" y1=\"548.102\" x2=\"772.56\" y2=\"564.102\" style=\"stroke:#000000; stroke-width:4; stroke-opacity:0.8\"/>\n",
              "<line clip-path=\"url(#clip0003)\" x1=\"917.607\" y1=\"548.102\" x2=\"917.607\" y2=\"564.102\" style=\"stroke:#000000; stroke-width:4; stroke-opacity:0.8\"/>\n",
              "<line clip-path=\"url(#clip0003)\" x1=\"923.572\" y1=\"548.102\" x2=\"923.572\" y2=\"564.102\" style=\"stroke:#000000; stroke-width:4; stroke-opacity:0.8\"/>\n",
              "<line clip-path=\"url(#clip0003)\" x1=\"1066\" y1=\"548.102\" x2=\"1066\" y2=\"564.102\" style=\"stroke:#000000; stroke-width:4; stroke-opacity:0.8\"/>\n",
              "<line clip-path=\"url(#clip0003)\" x1=\"1138.67\" y1=\"548.102\" x2=\"1138.67\" y2=\"564.102\" style=\"stroke:#000000; stroke-width:4; stroke-opacity:0.8\"/>\n",
              "<line clip-path=\"url(#clip0003)\" x1=\"1613.75\" y1=\"548.102\" x2=\"1613.75\" y2=\"564.102\" style=\"stroke:#000000; stroke-width:4; stroke-opacity:0.8\"/>\n",
              "<line clip-path=\"url(#clip0003)\" x1=\"1661.75\" y1=\"548.102\" x2=\"1661.75\" y2=\"564.102\" style=\"stroke:#000000; stroke-width:4; stroke-opacity:0.8\"/>\n",
              "<line clip-path=\"url(#clip0003)\" x1=\"1748.32\" y1=\"548.102\" x2=\"1748.32\" y2=\"564.102\" style=\"stroke:#000000; stroke-width:4; stroke-opacity:0.8\"/>\n",
              "<line clip-path=\"url(#clip0003)\" x1=\"2434.63\" y1=\"548.102\" x2=\"2434.63\" y2=\"564.102\" style=\"stroke:#000000; stroke-width:4; stroke-opacity:0.8\"/>\n",
              "<line clip-path=\"url(#clip0003)\" x1=\"2455.88\" y1=\"548.102\" x2=\"2455.88\" y2=\"564.102\" style=\"stroke:#000000; stroke-width:4; stroke-opacity:0.8\"/>\n",
              "<line clip-path=\"url(#clip0003)\" x1=\"500.943\" y1=\"533.634\" x2=\"500.943\" y2=\"549.634\" style=\"stroke:#000000; stroke-width:4; stroke-opacity:0.8\"/>\n",
              "<line clip-path=\"url(#clip0003)\" x1=\"535.277\" y1=\"533.634\" x2=\"535.277\" y2=\"549.634\" style=\"stroke:#000000; stroke-width:4; stroke-opacity:0.8\"/>\n",
              "<line clip-path=\"url(#clip0003)\" x1=\"560.009\" y1=\"533.634\" x2=\"560.009\" y2=\"549.634\" style=\"stroke:#000000; stroke-width:4; stroke-opacity:0.8\"/>\n",
              "<line clip-path=\"url(#clip0003)\" x1=\"616.457\" y1=\"533.634\" x2=\"616.457\" y2=\"549.634\" style=\"stroke:#000000; stroke-width:4; stroke-opacity:0.8\"/>\n",
              "<line clip-path=\"url(#clip0003)\" x1=\"626.131\" y1=\"533.634\" x2=\"626.131\" y2=\"549.634\" style=\"stroke:#000000; stroke-width:4; stroke-opacity:0.8\"/>\n",
              "<line clip-path=\"url(#clip0003)\" x1=\"638.934\" y1=\"533.634\" x2=\"638.934\" y2=\"549.634\" style=\"stroke:#000000; stroke-width:4; stroke-opacity:0.8\"/>\n",
              "<line clip-path=\"url(#clip0003)\" x1=\"671.668\" y1=\"533.634\" x2=\"671.668\" y2=\"549.634\" style=\"stroke:#000000; stroke-width:4; stroke-opacity:0.8\"/>\n",
              "<line clip-path=\"url(#clip0003)\" x1=\"701.274\" y1=\"533.634\" x2=\"701.274\" y2=\"549.634\" style=\"stroke:#000000; stroke-width:4; stroke-opacity:0.8\"/>\n",
              "<line clip-path=\"url(#clip0003)\" x1=\"750.374\" y1=\"533.634\" x2=\"750.374\" y2=\"549.634\" style=\"stroke:#000000; stroke-width:4; stroke-opacity:0.8\"/>\n",
              "<line clip-path=\"url(#clip0003)\" x1=\"782.89\" y1=\"533.634\" x2=\"782.89\" y2=\"549.634\" style=\"stroke:#000000; stroke-width:4; stroke-opacity:0.8\"/>\n",
              "<line clip-path=\"url(#clip0003)\" x1=\"797.947\" y1=\"533.634\" x2=\"797.947\" y2=\"549.634\" style=\"stroke:#000000; stroke-width:4; stroke-opacity:0.8\"/>\n",
              "<line clip-path=\"url(#clip0003)\" x1=\"1004.68\" y1=\"533.634\" x2=\"1004.68\" y2=\"549.634\" style=\"stroke:#000000; stroke-width:4; stroke-opacity:0.8\"/>\n",
              "<line clip-path=\"url(#clip0003)\" x1=\"1010.13\" y1=\"533.634\" x2=\"1010.13\" y2=\"549.634\" style=\"stroke:#000000; stroke-width:4; stroke-opacity:0.8\"/>\n",
              "<line clip-path=\"url(#clip0003)\" x1=\"1044.76\" y1=\"533.634\" x2=\"1044.76\" y2=\"549.634\" style=\"stroke:#000000; stroke-width:4; stroke-opacity:0.8\"/>\n",
              "<line clip-path=\"url(#clip0003)\" x1=\"1056.33\" y1=\"533.634\" x2=\"1056.33\" y2=\"549.634\" style=\"stroke:#000000; stroke-width:4; stroke-opacity:0.8\"/>\n",
              "<line clip-path=\"url(#clip0003)\" x1=\"1111.39\" y1=\"533.634\" x2=\"1111.39\" y2=\"549.634\" style=\"stroke:#000000; stroke-width:4; stroke-opacity:0.8\"/>\n",
              "<line clip-path=\"url(#clip0003)\" x1=\"1285.1\" y1=\"533.634\" x2=\"1285.1\" y2=\"549.634\" style=\"stroke:#000000; stroke-width:4; stroke-opacity:0.8\"/>\n",
              "<line clip-path=\"url(#clip0003)\" x1=\"1529.22\" y1=\"533.634\" x2=\"1529.22\" y2=\"549.634\" style=\"stroke:#000000; stroke-width:4; stroke-opacity:0.8\"/>\n",
              "<line clip-path=\"url(#clip0003)\" x1=\"1632.15\" y1=\"533.634\" x2=\"1632.15\" y2=\"549.634\" style=\"stroke:#000000; stroke-width:4; stroke-opacity:0.8\"/>\n",
              "<line clip-path=\"url(#clip0003)\" x1=\"1702.05\" y1=\"533.634\" x2=\"1702.05\" y2=\"549.634\" style=\"stroke:#000000; stroke-width:4; stroke-opacity:0.8\"/>\n",
              "<line clip-path=\"url(#clip0003)\" x1=\"1706.2\" y1=\"533.634\" x2=\"1706.2\" y2=\"549.634\" style=\"stroke:#000000; stroke-width:4; stroke-opacity:0.8\"/>\n",
              "<line clip-path=\"url(#clip0003)\" x1=\"491.487\" y1=\"519.167\" x2=\"491.487\" y2=\"535.167\" style=\"stroke:#000000; stroke-width:4; stroke-opacity:0.8\"/>\n",
              "<line clip-path=\"url(#clip0003)\" x1=\"652.028\" y1=\"519.167\" x2=\"652.028\" y2=\"535.167\" style=\"stroke:#000000; stroke-width:4; stroke-opacity:0.8\"/>\n",
              "<line clip-path=\"url(#clip0003)\" x1=\"667.885\" y1=\"519.167\" x2=\"667.885\" y2=\"535.167\" style=\"stroke:#000000; stroke-width:4; stroke-opacity:0.8\"/>\n",
              "<line clip-path=\"url(#clip0003)\" x1=\"724.769\" y1=\"519.167\" x2=\"724.769\" y2=\"535.167\" style=\"stroke:#000000; stroke-width:4; stroke-opacity:0.8\"/>\n",
              "<line clip-path=\"url(#clip0003)\" x1=\"729.934\" y1=\"519.167\" x2=\"729.934\" y2=\"535.167\" style=\"stroke:#000000; stroke-width:4; stroke-opacity:0.8\"/>\n",
              "<line clip-path=\"url(#clip0003)\" x1=\"742.009\" y1=\"519.167\" x2=\"742.009\" y2=\"535.167\" style=\"stroke:#000000; stroke-width:4; stroke-opacity:0.8\"/>\n",
              "<line clip-path=\"url(#clip0003)\" x1=\"747.392\" y1=\"519.167\" x2=\"747.392\" y2=\"535.167\" style=\"stroke:#000000; stroke-width:4; stroke-opacity:0.8\"/>\n",
              "<line clip-path=\"url(#clip0003)\" x1=\"756.557\" y1=\"519.167\" x2=\"756.557\" y2=\"535.167\" style=\"stroke:#000000; stroke-width:4; stroke-opacity:0.8\"/>\n",
              "<line clip-path=\"url(#clip0003)\" x1=\"846.175\" y1=\"519.167\" x2=\"846.175\" y2=\"535.167\" style=\"stroke:#000000; stroke-width:4; stroke-opacity:0.8\"/>\n",
              "<line clip-path=\"url(#clip0003)\" x1=\"853.813\" y1=\"519.167\" x2=\"853.813\" y2=\"535.167\" style=\"stroke:#000000; stroke-width:4; stroke-opacity:0.8\"/>\n",
              "<line clip-path=\"url(#clip0003)\" x1=\"861.014\" y1=\"519.167\" x2=\"861.014\" y2=\"535.167\" style=\"stroke:#000000; stroke-width:4; stroke-opacity:0.8\"/>\n",
              "<line clip-path=\"url(#clip0003)\" x1=\"866.033\" y1=\"519.167\" x2=\"866.033\" y2=\"535.167\" style=\"stroke:#000000; stroke-width:4; stroke-opacity:0.8\"/>\n",
              "<line clip-path=\"url(#clip0003)\" x1=\"874.253\" y1=\"519.167\" x2=\"874.253\" y2=\"535.167\" style=\"stroke:#000000; stroke-width:4; stroke-opacity:0.8\"/>\n",
              "<line clip-path=\"url(#clip0003)\" x1=\"883.055\" y1=\"519.167\" x2=\"883.055\" y2=\"535.167\" style=\"stroke:#000000; stroke-width:4; stroke-opacity:0.8\"/>\n",
              "<line clip-path=\"url(#clip0003)\" x1=\"890.184\" y1=\"519.167\" x2=\"890.184\" y2=\"535.167\" style=\"stroke:#000000; stroke-width:4; stroke-opacity:0.8\"/>\n",
              "<line clip-path=\"url(#clip0003)\" x1=\"899.276\" y1=\"519.167\" x2=\"899.276\" y2=\"535.167\" style=\"stroke:#000000; stroke-width:4; stroke-opacity:0.8\"/>\n",
              "<line clip-path=\"url(#clip0003)\" x1=\"1015.01\" y1=\"519.167\" x2=\"1015.01\" y2=\"535.167\" style=\"stroke:#000000; stroke-width:4; stroke-opacity:0.8\"/>\n",
              "<line clip-path=\"url(#clip0003)\" x1=\"1023.52\" y1=\"519.167\" x2=\"1023.52\" y2=\"535.167\" style=\"stroke:#000000; stroke-width:4; stroke-opacity:0.8\"/>\n",
              "<line clip-path=\"url(#clip0003)\" x1=\"1081.13\" y1=\"519.167\" x2=\"1081.13\" y2=\"535.167\" style=\"stroke:#000000; stroke-width:4; stroke-opacity:0.8\"/>\n",
              "<line clip-path=\"url(#clip0003)\" x1=\"1108.04\" y1=\"519.167\" x2=\"1108.04\" y2=\"535.167\" style=\"stroke:#000000; stroke-width:4; stroke-opacity:0.8\"/>\n",
              "<line clip-path=\"url(#clip0003)\" x1=\"1193.01\" y1=\"519.167\" x2=\"1193.01\" y2=\"535.167\" style=\"stroke:#000000; stroke-width:4; stroke-opacity:0.8\"/>\n",
              "<line clip-path=\"url(#clip0003)\" x1=\"1243.13\" y1=\"519.167\" x2=\"1243.13\" y2=\"535.167\" style=\"stroke:#000000; stroke-width:4; stroke-opacity:0.8\"/>\n",
              "<line clip-path=\"url(#clip0003)\" x1=\"1287.43\" y1=\"519.167\" x2=\"1287.43\" y2=\"535.167\" style=\"stroke:#000000; stroke-width:4; stroke-opacity:0.8\"/>\n",
              "<line clip-path=\"url(#clip0003)\" x1=\"1300.45\" y1=\"519.167\" x2=\"1300.45\" y2=\"535.167\" style=\"stroke:#000000; stroke-width:4; stroke-opacity:0.8\"/>\n",
              "<line clip-path=\"url(#clip0003)\" x1=\"1318.7\" y1=\"519.167\" x2=\"1318.7\" y2=\"535.167\" style=\"stroke:#000000; stroke-width:4; stroke-opacity:0.8\"/>\n",
              "<line clip-path=\"url(#clip0003)\" x1=\"1465.06\" y1=\"519.167\" x2=\"1465.06\" y2=\"535.167\" style=\"stroke:#000000; stroke-width:4; stroke-opacity:0.8\"/>\n",
              "<line clip-path=\"url(#clip0003)\" x1=\"1485.07\" y1=\"519.167\" x2=\"1485.07\" y2=\"535.167\" style=\"stroke:#000000; stroke-width:4; stroke-opacity:0.8\"/>\n",
              "<line clip-path=\"url(#clip0003)\" x1=\"1596\" y1=\"519.167\" x2=\"1596\" y2=\"535.167\" style=\"stroke:#000000; stroke-width:4; stroke-opacity:0.8\"/>\n",
              "<line clip-path=\"url(#clip0003)\" x1=\"1779.01\" y1=\"519.167\" x2=\"1779.01\" y2=\"535.167\" style=\"stroke:#000000; stroke-width:4; stroke-opacity:0.8\"/>\n",
              "<line clip-path=\"url(#clip0003)\" x1=\"2365.6\" y1=\"519.167\" x2=\"2365.6\" y2=\"535.167\" style=\"stroke:#000000; stroke-width:4; stroke-opacity:0.8\"/>\n",
              "<line clip-path=\"url(#clip0003)\" x1=\"2408.88\" y1=\"519.167\" x2=\"2408.88\" y2=\"535.167\" style=\"stroke:#000000; stroke-width:4; stroke-opacity:0.8\"/>\n",
              "<line clip-path=\"url(#clip0003)\" x1=\"434.603\" y1=\"504.699\" x2=\"434.603\" y2=\"520.699\" style=\"stroke:#000000; stroke-width:4; stroke-opacity:0.8\"/>\n",
              "<line clip-path=\"url(#clip0003)\" x1=\"649.118\" y1=\"504.699\" x2=\"649.118\" y2=\"520.699\" style=\"stroke:#000000; stroke-width:4; stroke-opacity:0.8\"/>\n",
              "<line clip-path=\"url(#clip0003)\" x1=\"823.189\" y1=\"504.699\" x2=\"823.189\" y2=\"520.699\" style=\"stroke:#000000; stroke-width:4; stroke-opacity:0.8\"/>\n",
              "<line clip-path=\"url(#clip0003)\" x1=\"1688.16\" y1=\"504.699\" x2=\"1688.16\" y2=\"520.699\" style=\"stroke:#000000; stroke-width:4; stroke-opacity:0.8\"/>\n",
              "<line clip-path=\"url(#clip0003)\" x1=\"1710.42\" y1=\"504.699\" x2=\"1710.42\" y2=\"520.699\" style=\"stroke:#000000; stroke-width:4; stroke-opacity:0.8\"/>\n",
              "<line clip-path=\"url(#clip0003)\" x1=\"1058\" y1=\"490.232\" x2=\"1058\" y2=\"506.232\" style=\"stroke:#000000; stroke-width:4; stroke-opacity:0.8\"/>\n",
              "<line clip-path=\"url(#clip0003)\" x1=\"1087.75\" y1=\"490.232\" x2=\"1087.75\" y2=\"506.232\" style=\"stroke:#000000; stroke-width:4; stroke-opacity:0.8\"/>\n",
              "<line clip-path=\"url(#clip0003)\" x1=\"1170.38\" y1=\"490.232\" x2=\"1170.38\" y2=\"506.232\" style=\"stroke:#000000; stroke-width:4; stroke-opacity:0.8\"/>\n",
              "<line clip-path=\"url(#clip0003)\" x1=\"1466.95\" y1=\"490.232\" x2=\"1466.95\" y2=\"506.232\" style=\"stroke:#000000; stroke-width:4; stroke-opacity:0.8\"/>\n",
              "<line clip-path=\"url(#clip0003)\" x1=\"2026.92\" y1=\"490.232\" x2=\"2026.92\" y2=\"506.232\" style=\"stroke:#000000; stroke-width:4; stroke-opacity:0.8\"/>\n",
              "<line clip-path=\"url(#clip0003)\" x1=\"2180.69\" y1=\"490.232\" x2=\"2180.69\" y2=\"506.232\" style=\"stroke:#000000; stroke-width:4; stroke-opacity:0.8\"/>\n",
              "<line clip-path=\"url(#clip0003)\" x1=\"2275.26\" y1=\"490.232\" x2=\"2275.26\" y2=\"506.232\" style=\"stroke:#000000; stroke-width:4; stroke-opacity:0.8\"/>\n",
              "<line clip-path=\"url(#clip0003)\" x1=\"2301.88\" y1=\"490.232\" x2=\"2301.88\" y2=\"506.232\" style=\"stroke:#000000; stroke-width:4; stroke-opacity:0.8\"/>\n",
              "<line clip-path=\"url(#clip0003)\" x1=\"325.927\" y1=\"475.764\" x2=\"325.927\" y2=\"491.764\" style=\"stroke:#000000; stroke-width:4; stroke-opacity:0.8\"/>\n",
              "<line clip-path=\"url(#clip0003)\" x1=\"1103.61\" y1=\"475.764\" x2=\"1103.61\" y2=\"491.764\" style=\"stroke:#000000; stroke-width:4; stroke-opacity:0.8\"/>\n",
              "<line clip-path=\"url(#clip0003)\" x1=\"1602.91\" y1=\"475.764\" x2=\"1602.91\" y2=\"491.764\" style=\"stroke:#000000; stroke-width:4; stroke-opacity:0.8\"/>\n",
              "<line clip-path=\"url(#clip0003)\" x1=\"291.593\" y1=\"461.297\" x2=\"291.593\" y2=\"477.297\" style=\"stroke:#000000; stroke-width:4; stroke-opacity:0.8\"/>\n",
              "<line clip-path=\"url(#clip0003)\" x1=\"675.232\" y1=\"461.297\" x2=\"675.232\" y2=\"477.297\" style=\"stroke:#000000; stroke-width:4; stroke-opacity:0.8\"/>\n",
              "<line clip-path=\"url(#clip0003)\" x1=\"684.398\" y1=\"461.297\" x2=\"684.398\" y2=\"477.297\" style=\"stroke:#000000; stroke-width:4; stroke-opacity:0.8\"/>\n",
              "<line clip-path=\"url(#clip0003)\" x1=\"977.983\" y1=\"461.297\" x2=\"977.983\" y2=\"477.297\" style=\"stroke:#000000; stroke-width:4; stroke-opacity:0.8\"/>\n",
              "<line clip-path=\"url(#clip0003)\" x1=\"1302.56\" y1=\"461.297\" x2=\"1302.56\" y2=\"477.297\" style=\"stroke:#000000; stroke-width:4; stroke-opacity:0.8\"/>\n",
              "<line clip-path=\"url(#clip0003)\" x1=\"1377.77\" y1=\"461.297\" x2=\"1377.77\" y2=\"477.297\" style=\"stroke:#000000; stroke-width:4; stroke-opacity:0.8\"/>\n",
              "<line clip-path=\"url(#clip0003)\" x1=\"1409.63\" y1=\"461.297\" x2=\"1409.63\" y2=\"477.297\" style=\"stroke:#000000; stroke-width:4; stroke-opacity:0.8\"/>\n",
              "<line clip-path=\"url(#clip0003)\" x1=\"1510.09\" y1=\"461.297\" x2=\"1510.09\" y2=\"477.297\" style=\"stroke:#000000; stroke-width:4; stroke-opacity:0.8\"/>\n",
              "<line clip-path=\"url(#clip0003)\" x1=\"1519.25\" y1=\"461.297\" x2=\"1519.25\" y2=\"477.297\" style=\"stroke:#000000; stroke-width:4; stroke-opacity:0.8\"/>\n",
              "<line clip-path=\"url(#clip0003)\" x1=\"1550.61\" y1=\"461.297\" x2=\"1550.61\" y2=\"477.297\" style=\"stroke:#000000; stroke-width:4; stroke-opacity:0.8\"/>\n",
              "<line clip-path=\"url(#clip0003)\" x1=\"1568.14\" y1=\"461.297\" x2=\"1568.14\" y2=\"477.297\" style=\"stroke:#000000; stroke-width:4; stroke-opacity:0.8\"/>\n",
              "<line clip-path=\"url(#clip0003)\" x1=\"1573.23\" y1=\"461.297\" x2=\"1573.23\" y2=\"477.297\" style=\"stroke:#000000; stroke-width:4; stroke-opacity:0.8\"/>\n",
              "<line clip-path=\"url(#clip0003)\" x1=\"1607.78\" y1=\"461.297\" x2=\"1607.78\" y2=\"477.297\" style=\"stroke:#000000; stroke-width:4; stroke-opacity:0.8\"/>\n",
              "<line clip-path=\"url(#clip0003)\" x1=\"2125.99\" y1=\"461.297\" x2=\"2125.99\" y2=\"477.297\" style=\"stroke:#000000; stroke-width:4; stroke-opacity:0.8\"/>\n",
              "<line clip-path=\"url(#clip0003)\" x1=\"2143.45\" y1=\"461.297\" x2=\"2143.45\" y2=\"477.297\" style=\"stroke:#000000; stroke-width:4; stroke-opacity:0.8\"/>\n",
              "<line clip-path=\"url(#clip0003)\" x1=\"2424.01\" y1=\"461.297\" x2=\"2424.01\" y2=\"477.297\" style=\"stroke:#000000; stroke-width:4; stroke-opacity:0.8\"/>\n",
              "<line clip-path=\"url(#clip0003)\" x1=\"2447.36\" y1=\"461.297\" x2=\"2447.36\" y2=\"477.297\" style=\"stroke:#000000; stroke-width:4; stroke-opacity:0.8\"/>\n",
              "<line clip-path=\"url(#clip0003)\" x1=\"282.5\" y1=\"446.829\" x2=\"282.5\" y2=\"462.829\" style=\"stroke:#000000; stroke-width:4; stroke-opacity:0.8\"/>\n",
              "<line clip-path=\"url(#clip0003)\" x1=\"487.195\" y1=\"446.829\" x2=\"487.195\" y2=\"462.829\" style=\"stroke:#000000; stroke-width:4; stroke-opacity:0.8\"/>\n",
              "<line clip-path=\"url(#clip0003)\" x1=\"617.839\" y1=\"446.829\" x2=\"617.839\" y2=\"462.829\" style=\"stroke:#000000; stroke-width:4; stroke-opacity:0.8\"/>\n",
              "<line clip-path=\"url(#clip0003)\" x1=\"654.137\" y1=\"446.829\" x2=\"654.137\" y2=\"462.829\" style=\"stroke:#000000; stroke-width:4; stroke-opacity:0.8\"/>\n",
              "<line clip-path=\"url(#clip0003)\" x1=\"808.277\" y1=\"446.829\" x2=\"808.277\" y2=\"462.829\" style=\"stroke:#000000; stroke-width:4; stroke-opacity:0.8\"/>\n",
              "<line clip-path=\"url(#clip0003)\" x1=\"880.509\" y1=\"446.829\" x2=\"880.509\" y2=\"462.829\" style=\"stroke:#000000; stroke-width:4; stroke-opacity:0.8\"/>\n",
              "<line clip-path=\"url(#clip0003)\" x1=\"1033.56\" y1=\"446.829\" x2=\"1033.56\" y2=\"462.829\" style=\"stroke:#000000; stroke-width:4; stroke-opacity:0.8\"/>\n",
              "<line clip-path=\"url(#clip0003)\" x1=\"1255.35\" y1=\"446.829\" x2=\"1255.35\" y2=\"462.829\" style=\"stroke:#000000; stroke-width:4; stroke-opacity:0.8\"/>\n",
              "<line clip-path=\"url(#clip0003)\" x1=\"1717.84\" y1=\"446.829\" x2=\"1717.84\" y2=\"462.829\" style=\"stroke:#000000; stroke-width:4; stroke-opacity:0.8\"/>\n",
              "<line clip-path=\"url(#clip0003)\" x1=\"500.361\" y1=\"432.362\" x2=\"500.361\" y2=\"448.362\" style=\"stroke:#000000; stroke-width:4; stroke-opacity:0.8\"/>\n",
              "<line clip-path=\"url(#clip0003)\" x1=\"507.635\" y1=\"432.362\" x2=\"507.635\" y2=\"448.362\" style=\"stroke:#000000; stroke-width:4; stroke-opacity:0.8\"/>\n",
              "<line clip-path=\"url(#clip0003)\" x1=\"514.109\" y1=\"432.362\" x2=\"514.109\" y2=\"448.362\" style=\"stroke:#000000; stroke-width:4; stroke-opacity:0.8\"/>\n",
              "<line clip-path=\"url(#clip0003)\" x1=\"551.571\" y1=\"432.362\" x2=\"551.571\" y2=\"448.362\" style=\"stroke:#000000; stroke-width:4; stroke-opacity:0.8\"/>\n",
              "<line clip-path=\"url(#clip0003)\" x1=\"650.282\" y1=\"432.362\" x2=\"650.282\" y2=\"448.362\" style=\"stroke:#000000; stroke-width:4; stroke-opacity:0.8\"/>\n",
              "<line clip-path=\"url(#clip0003)\" x1=\"688.18\" y1=\"432.362\" x2=\"688.18\" y2=\"448.362\" style=\"stroke:#000000; stroke-width:4; stroke-opacity:0.8\"/>\n",
              "<line clip-path=\"url(#clip0003)\" x1=\"858.978\" y1=\"432.362\" x2=\"858.978\" y2=\"448.362\" style=\"stroke:#000000; stroke-width:4; stroke-opacity:0.8\"/>\n",
              "<line clip-path=\"url(#clip0003)\" x1=\"871.78\" y1=\"432.362\" x2=\"871.78\" y2=\"448.362\" style=\"stroke:#000000; stroke-width:4; stroke-opacity:0.8\"/>\n",
              "<line clip-path=\"url(#clip0003)\" x1=\"944.667\" y1=\"432.362\" x2=\"944.667\" y2=\"448.362\" style=\"stroke:#000000; stroke-width:4; stroke-opacity:0.8\"/>\n",
              "<line clip-path=\"url(#clip0003)\" x1=\"1583.41\" y1=\"432.362\" x2=\"1583.41\" y2=\"448.362\" style=\"stroke:#000000; stroke-width:4; stroke-opacity:0.8\"/>\n",
              "<line clip-path=\"url(#clip0003)\" x1=\"1602.76\" y1=\"432.362\" x2=\"1602.76\" y2=\"448.362\" style=\"stroke:#000000; stroke-width:4; stroke-opacity:0.8\"/>\n",
              "<line clip-path=\"url(#clip0003)\" x1=\"1623.42\" y1=\"432.362\" x2=\"1623.42\" y2=\"448.362\" style=\"stroke:#000000; stroke-width:4; stroke-opacity:0.8\"/>\n",
              "<line clip-path=\"url(#clip0003)\" x1=\"1641.68\" y1=\"432.362\" x2=\"1641.68\" y2=\"448.362\" style=\"stroke:#000000; stroke-width:4; stroke-opacity:0.8\"/>\n",
              "<line clip-path=\"url(#clip0003)\" x1=\"1653.24\" y1=\"432.362\" x2=\"1653.24\" y2=\"448.362\" style=\"stroke:#000000; stroke-width:4; stroke-opacity:0.8\"/>\n",
              "<line clip-path=\"url(#clip0003)\" x1=\"2010.84\" y1=\"432.362\" x2=\"2010.84\" y2=\"448.362\" style=\"stroke:#000000; stroke-width:4; stroke-opacity:0.8\"/>\n",
              "<line clip-path=\"url(#clip0003)\" x1=\"458.971\" y1=\"417.894\" x2=\"458.971\" y2=\"433.894\" style=\"stroke:#000000; stroke-width:4; stroke-opacity:0.8\"/>\n",
              "<line clip-path=\"url(#clip0003)\" x1=\"665.776\" y1=\"417.894\" x2=\"665.776\" y2=\"433.894\" style=\"stroke:#000000; stroke-width:4; stroke-opacity:0.8\"/>\n",
              "<line clip-path=\"url(#clip0003)\" x1=\"681.342\" y1=\"417.894\" x2=\"681.342\" y2=\"433.894\" style=\"stroke:#000000; stroke-width:4; stroke-opacity:0.8\"/>\n",
              "<line clip-path=\"url(#clip0003)\" x1=\"744.046\" y1=\"417.894\" x2=\"744.046\" y2=\"433.894\" style=\"stroke:#000000; stroke-width:4; stroke-opacity:0.8\"/>\n",
              "<line clip-path=\"url(#clip0003)\" x1=\"767.541\" y1=\"417.894\" x2=\"767.541\" y2=\"433.894\" style=\"stroke:#000000; stroke-width:4; stroke-opacity:0.8\"/>\n",
              "<line clip-path=\"url(#clip0003)\" x1=\"797.438\" y1=\"417.894\" x2=\"797.438\" y2=\"433.894\" style=\"stroke:#000000; stroke-width:4; stroke-opacity:0.8\"/>\n",
              "<line clip-path=\"url(#clip0003)\" x1=\"807.258\" y1=\"417.894\" x2=\"807.258\" y2=\"433.894\" style=\"stroke:#000000; stroke-width:4; stroke-opacity:0.8\"/>\n",
              "<line clip-path=\"url(#clip0003)\" x1=\"817.66\" y1=\"417.894\" x2=\"817.66\" y2=\"433.894\" style=\"stroke:#000000; stroke-width:4; stroke-opacity:0.8\"/>\n",
              "<line clip-path=\"url(#clip0003)\" x1=\"1033.27\" y1=\"417.894\" x2=\"1033.27\" y2=\"433.894\" style=\"stroke:#000000; stroke-width:4; stroke-opacity:0.8\"/>\n",
              "<line clip-path=\"url(#clip0003)\" x1=\"1075.53\" y1=\"417.894\" x2=\"1075.53\" y2=\"433.894\" style=\"stroke:#000000; stroke-width:4; stroke-opacity:0.8\"/>\n",
              "<line clip-path=\"url(#clip0003)\" x1=\"1114.96\" y1=\"417.894\" x2=\"1114.96\" y2=\"433.894\" style=\"stroke:#000000; stroke-width:4; stroke-opacity:0.8\"/>\n",
              "<line clip-path=\"url(#clip0003)\" x1=\"1135.91\" y1=\"417.894\" x2=\"1135.91\" y2=\"433.894\" style=\"stroke:#000000; stroke-width:4; stroke-opacity:0.8\"/>\n",
              "<line clip-path=\"url(#clip0003)\" x1=\"1146.74\" y1=\"417.894\" x2=\"1146.74\" y2=\"433.894\" style=\"stroke:#000000; stroke-width:4; stroke-opacity:0.8\"/>\n",
              "<line clip-path=\"url(#clip0003)\" x1=\"1177.59\" y1=\"417.894\" x2=\"1177.59\" y2=\"433.894\" style=\"stroke:#000000; stroke-width:4; stroke-opacity:0.8\"/>\n",
              "<line clip-path=\"url(#clip0003)\" x1=\"1194.83\" y1=\"417.894\" x2=\"1194.83\" y2=\"433.894\" style=\"stroke:#000000; stroke-width:4; stroke-opacity:0.8\"/>\n",
              "<line clip-path=\"url(#clip0003)\" x1=\"1211.56\" y1=\"417.894\" x2=\"1211.56\" y2=\"433.894\" style=\"stroke:#000000; stroke-width:4; stroke-opacity:0.8\"/>\n",
              "<line clip-path=\"url(#clip0003)\" x1=\"1218.54\" y1=\"417.894\" x2=\"1218.54\" y2=\"433.894\" style=\"stroke:#000000; stroke-width:4; stroke-opacity:0.8\"/>\n",
              "<line clip-path=\"url(#clip0003)\" x1=\"1226.83\" y1=\"417.894\" x2=\"1226.83\" y2=\"433.894\" style=\"stroke:#000000; stroke-width:4; stroke-opacity:0.8\"/>\n",
              "<line clip-path=\"url(#clip0003)\" x1=\"1249.96\" y1=\"417.894\" x2=\"1249.96\" y2=\"433.894\" style=\"stroke:#000000; stroke-width:4; stroke-opacity:0.8\"/>\n",
              "<line clip-path=\"url(#clip0003)\" x1=\"1267.93\" y1=\"417.894\" x2=\"1267.93\" y2=\"433.894\" style=\"stroke:#000000; stroke-width:4; stroke-opacity:0.8\"/>\n",
              "<line clip-path=\"url(#clip0003)\" x1=\"1338.71\" y1=\"417.894\" x2=\"1338.71\" y2=\"433.894\" style=\"stroke:#000000; stroke-width:4; stroke-opacity:0.8\"/>\n",
              "<line clip-path=\"url(#clip0003)\" x1=\"1347.44\" y1=\"417.894\" x2=\"1347.44\" y2=\"433.894\" style=\"stroke:#000000; stroke-width:4; stroke-opacity:0.8\"/>\n",
              "<line clip-path=\"url(#clip0003)\" x1=\"1399.38\" y1=\"417.894\" x2=\"1399.38\" y2=\"433.894\" style=\"stroke:#000000; stroke-width:4; stroke-opacity:0.8\"/>\n",
              "<line clip-path=\"url(#clip0003)\" x1=\"1510.16\" y1=\"417.894\" x2=\"1510.16\" y2=\"433.894\" style=\"stroke:#000000; stroke-width:4; stroke-opacity:0.8\"/>\n",
              "<line clip-path=\"url(#clip0003)\" x1=\"1718.27\" y1=\"417.894\" x2=\"1718.27\" y2=\"433.894\" style=\"stroke:#000000; stroke-width:4; stroke-opacity:0.8\"/>\n",
              "<line clip-path=\"url(#clip0003)\" x1=\"665.485\" y1=\"403.427\" x2=\"665.485\" y2=\"419.427\" style=\"stroke:#000000; stroke-width:4; stroke-opacity:0.8\"/>\n",
              "<line clip-path=\"url(#clip0003)\" x1=\"715.458\" y1=\"403.427\" x2=\"715.458\" y2=\"419.427\" style=\"stroke:#000000; stroke-width:4; stroke-opacity:0.8\"/>\n",
              "<line clip-path=\"url(#clip0003)\" x1=\"776.052\" y1=\"403.427\" x2=\"776.052\" y2=\"419.427\" style=\"stroke:#000000; stroke-width:4; stroke-opacity:0.8\"/>\n",
              "<line clip-path=\"url(#clip0003)\" x1=\"788.636\" y1=\"403.427\" x2=\"788.636\" y2=\"419.427\" style=\"stroke:#000000; stroke-width:4; stroke-opacity:0.8\"/>\n",
              "<line clip-path=\"url(#clip0003)\" x1=\"798.311\" y1=\"403.427\" x2=\"798.311\" y2=\"419.427\" style=\"stroke:#000000; stroke-width:4; stroke-opacity:0.8\"/>\n",
              "<line clip-path=\"url(#clip0003)\" x1=\"849.958\" y1=\"403.427\" x2=\"849.958\" y2=\"419.427\" style=\"stroke:#000000; stroke-width:4; stroke-opacity:0.8\"/>\n",
              "<line clip-path=\"url(#clip0003)\" x1=\"893.166\" y1=\"403.427\" x2=\"893.166\" y2=\"419.427\" style=\"stroke:#000000; stroke-width:4; stroke-opacity:0.8\"/>\n",
              "<line clip-path=\"url(#clip0003)\" x1=\"901.531\" y1=\"403.427\" x2=\"901.531\" y2=\"419.427\" style=\"stroke:#000000; stroke-width:4; stroke-opacity:0.8\"/>\n",
              "<line clip-path=\"url(#clip0003)\" x1=\"925.827\" y1=\"403.427\" x2=\"925.827\" y2=\"419.427\" style=\"stroke:#000000; stroke-width:4; stroke-opacity:0.8\"/>\n",
              "<line clip-path=\"url(#clip0003)\" x1=\"993.477\" y1=\"403.427\" x2=\"993.477\" y2=\"419.427\" style=\"stroke:#000000; stroke-width:4; stroke-opacity:0.8\"/>\n",
              "<line clip-path=\"url(#clip0003)\" x1=\"1121.28\" y1=\"403.427\" x2=\"1121.28\" y2=\"419.427\" style=\"stroke:#000000; stroke-width:4; stroke-opacity:0.8\"/>\n",
              "<line clip-path=\"url(#clip0003)\" x1=\"1345.4\" y1=\"403.427\" x2=\"1345.4\" y2=\"419.427\" style=\"stroke:#000000; stroke-width:4; stroke-opacity:0.8\"/>\n",
              "<line clip-path=\"url(#clip0003)\" x1=\"1350.2\" y1=\"403.427\" x2=\"1350.2\" y2=\"419.427\" style=\"stroke:#000000; stroke-width:4; stroke-opacity:0.8\"/>\n",
              "<line clip-path=\"url(#clip0003)\" x1=\"1366.35\" y1=\"403.427\" x2=\"1366.35\" y2=\"419.427\" style=\"stroke:#000000; stroke-width:4; stroke-opacity:0.8\"/>\n",
              "<line clip-path=\"url(#clip0003)\" x1=\"1393.19\" y1=\"403.427\" x2=\"1393.19\" y2=\"419.427\" style=\"stroke:#000000; stroke-width:4; stroke-opacity:0.8\"/>\n",
              "<line clip-path=\"url(#clip0003)\" x1=\"1427.74\" y1=\"403.427\" x2=\"1427.74\" y2=\"419.427\" style=\"stroke:#000000; stroke-width:4; stroke-opacity:0.8\"/>\n",
              "<line clip-path=\"url(#clip0003)\" x1=\"1508.92\" y1=\"403.427\" x2=\"1508.92\" y2=\"419.427\" style=\"stroke:#000000; stroke-width:4; stroke-opacity:0.8\"/>\n",
              "<line clip-path=\"url(#clip0003)\" x1=\"1576.14\" y1=\"403.427\" x2=\"1576.14\" y2=\"419.427\" style=\"stroke:#000000; stroke-width:4; stroke-opacity:0.8\"/>\n",
              "<line clip-path=\"url(#clip0003)\" x1=\"1730.79\" y1=\"403.427\" x2=\"1730.79\" y2=\"419.427\" style=\"stroke:#000000; stroke-width:4; stroke-opacity:0.8\"/>\n",
              "<line clip-path=\"url(#clip0003)\" x1=\"1741.26\" y1=\"403.427\" x2=\"1741.26\" y2=\"419.427\" style=\"stroke:#000000; stroke-width:4; stroke-opacity:0.8\"/>\n",
              "<line clip-path=\"url(#clip0003)\" x1=\"1771.38\" y1=\"403.427\" x2=\"1771.38\" y2=\"419.427\" style=\"stroke:#000000; stroke-width:4; stroke-opacity:0.8\"/>\n",
              "<line clip-path=\"url(#clip0003)\" x1=\"1776.4\" y1=\"403.427\" x2=\"1776.4\" y2=\"419.427\" style=\"stroke:#000000; stroke-width:4; stroke-opacity:0.8\"/>\n",
              "<line clip-path=\"url(#clip0003)\" x1=\"437.367\" y1=\"388.96\" x2=\"437.367\" y2=\"404.96\" style=\"stroke:#000000; stroke-width:4; stroke-opacity:0.8\"/>\n",
              "<line clip-path=\"url(#clip0003)\" x1=\"656.683\" y1=\"388.96\" x2=\"656.683\" y2=\"404.96\" style=\"stroke:#000000; stroke-width:4; stroke-opacity:0.8\"/>\n",
              "<line clip-path=\"url(#clip0003)\" x1=\"668.54\" y1=\"388.96\" x2=\"668.54\" y2=\"404.96\" style=\"stroke:#000000; stroke-width:4; stroke-opacity:0.8\"/>\n",
              "<line clip-path=\"url(#clip0003)\" x1=\"673.05\" y1=\"388.96\" x2=\"673.05\" y2=\"404.96\" style=\"stroke:#000000; stroke-width:4; stroke-opacity:0.8\"/>\n",
              "<line clip-path=\"url(#clip0003)\" x1=\"691.817\" y1=\"388.96\" x2=\"691.817\" y2=\"404.96\" style=\"stroke:#000000; stroke-width:4; stroke-opacity:0.8\"/>\n",
              "<line clip-path=\"url(#clip0003)\" x1=\"696.473\" y1=\"388.96\" x2=\"696.473\" y2=\"404.96\" style=\"stroke:#000000; stroke-width:4; stroke-opacity:0.8\"/>\n",
              "<line clip-path=\"url(#clip0003)\" x1=\"834.1\" y1=\"388.96\" x2=\"834.1\" y2=\"404.96\" style=\"stroke:#000000; stroke-width:4; stroke-opacity:0.8\"/>\n",
              "<line clip-path=\"url(#clip0003)\" x1=\"849.085\" y1=\"388.96\" x2=\"849.085\" y2=\"404.96\" style=\"stroke:#000000; stroke-width:4; stroke-opacity:0.8\"/>\n",
              "<line clip-path=\"url(#clip0003)\" x1=\"873.89\" y1=\"388.96\" x2=\"873.89\" y2=\"404.96\" style=\"stroke:#000000; stroke-width:4; stroke-opacity:0.8\"/>\n",
              "<line clip-path=\"url(#clip0003)\" x1=\"972.236\" y1=\"388.96\" x2=\"972.236\" y2=\"404.96\" style=\"stroke:#000000; stroke-width:4; stroke-opacity:0.8\"/>\n",
              "<line clip-path=\"url(#clip0003)\" x1=\"998.933\" y1=\"388.96\" x2=\"998.933\" y2=\"404.96\" style=\"stroke:#000000; stroke-width:4; stroke-opacity:0.8\"/>\n",
              "<line clip-path=\"url(#clip0003)\" x1=\"1162.09\" y1=\"388.96\" x2=\"1162.09\" y2=\"404.96\" style=\"stroke:#000000; stroke-width:4; stroke-opacity:0.8\"/>\n",
              "<line clip-path=\"url(#clip0003)\" x1=\"1176.71\" y1=\"388.96\" x2=\"1176.71\" y2=\"404.96\" style=\"stroke:#000000; stroke-width:4; stroke-opacity:0.8\"/>\n",
              "<line clip-path=\"url(#clip0003)\" x1=\"1197.01\" y1=\"388.96\" x2=\"1197.01\" y2=\"404.96\" style=\"stroke:#000000; stroke-width:4; stroke-opacity:0.8\"/>\n",
              "<line clip-path=\"url(#clip0003)\" x1=\"1210.47\" y1=\"388.96\" x2=\"1210.47\" y2=\"404.96\" style=\"stroke:#000000; stroke-width:4; stroke-opacity:0.8\"/>\n",
              "<line clip-path=\"url(#clip0003)\" x1=\"1324.96\" y1=\"388.96\" x2=\"1324.96\" y2=\"404.96\" style=\"stroke:#000000; stroke-width:4; stroke-opacity:0.8\"/>\n",
              "<line clip-path=\"url(#clip0003)\" x1=\"1412.25\" y1=\"388.96\" x2=\"1412.25\" y2=\"404.96\" style=\"stroke:#000000; stroke-width:4; stroke-opacity:0.8\"/>\n",
              "<line clip-path=\"url(#clip0003)\" x1=\"1495.47\" y1=\"388.96\" x2=\"1495.47\" y2=\"404.96\" style=\"stroke:#000000; stroke-width:4; stroke-opacity:0.8\"/>\n",
              "<line clip-path=\"url(#clip0003)\" x1=\"1559.04\" y1=\"388.96\" x2=\"1559.04\" y2=\"404.96\" style=\"stroke:#000000; stroke-width:4; stroke-opacity:0.8\"/>\n",
              "<line clip-path=\"url(#clip0003)\" x1=\"1648.15\" y1=\"388.96\" x2=\"1648.15\" y2=\"404.96\" style=\"stroke:#000000; stroke-width:4; stroke-opacity:0.8\"/>\n",
              "<line clip-path=\"url(#clip0003)\" x1=\"1656.52\" y1=\"388.96\" x2=\"1656.52\" y2=\"404.96\" style=\"stroke:#000000; stroke-width:4; stroke-opacity:0.8\"/>\n",
              "<line clip-path=\"url(#clip0003)\" x1=\"1674.48\" y1=\"388.96\" x2=\"1674.48\" y2=\"404.96\" style=\"stroke:#000000; stroke-width:4; stroke-opacity:0.8\"/>\n",
              "<line clip-path=\"url(#clip0003)\" x1=\"1686.78\" y1=\"388.96\" x2=\"1686.78\" y2=\"404.96\" style=\"stroke:#000000; stroke-width:4; stroke-opacity:0.8\"/>\n",
              "<line clip-path=\"url(#clip0003)\" x1=\"1713.4\" y1=\"388.96\" x2=\"1713.4\" y2=\"404.96\" style=\"stroke:#000000; stroke-width:4; stroke-opacity:0.8\"/>\n",
              "<line clip-path=\"url(#clip0003)\" x1=\"2075.73\" y1=\"388.96\" x2=\"2075.73\" y2=\"404.96\" style=\"stroke:#000000; stroke-width:4; stroke-opacity:0.8\"/>\n",
              "<line clip-path=\"url(#clip0003)\" x1=\"763.104\" y1=\"374.492\" x2=\"763.104\" y2=\"390.492\" style=\"stroke:#000000; stroke-width:4; stroke-opacity:0.8\"/>\n",
              "<line clip-path=\"url(#clip0003)\" x1=\"831.19\" y1=\"374.492\" x2=\"831.19\" y2=\"390.492\" style=\"stroke:#000000; stroke-width:4; stroke-opacity:0.8\"/>\n",
              "<line clip-path=\"url(#clip0003)\" x1=\"884.51\" y1=\"374.492\" x2=\"884.51\" y2=\"390.492\" style=\"stroke:#000000; stroke-width:4; stroke-opacity:0.8\"/>\n",
              "<line clip-path=\"url(#clip0003)\" x1=\"949.686\" y1=\"374.492\" x2=\"949.686\" y2=\"390.492\" style=\"stroke:#000000; stroke-width:4; stroke-opacity:0.8\"/>\n",
              "<line clip-path=\"url(#clip0003)\" x1=\"975\" y1=\"374.492\" x2=\"975\" y2=\"390.492\" style=\"stroke:#000000; stroke-width:4; stroke-opacity:0.8\"/>\n",
              "<line clip-path=\"url(#clip0003)\" x1=\"990.64\" y1=\"374.492\" x2=\"990.64\" y2=\"390.492\" style=\"stroke:#000000; stroke-width:4; stroke-opacity:0.8\"/>\n",
              "<line clip-path=\"url(#clip0003)\" x1=\"1074.15\" y1=\"374.492\" x2=\"1074.15\" y2=\"390.492\" style=\"stroke:#000000; stroke-width:4; stroke-opacity:0.8\"/>\n",
              "<line clip-path=\"url(#clip0003)\" x1=\"1111.17\" y1=\"374.492\" x2=\"1111.17\" y2=\"390.492\" style=\"stroke:#000000; stroke-width:4; stroke-opacity:0.8\"/>\n",
              "<line clip-path=\"url(#clip0003)\" x1=\"1247.35\" y1=\"374.492\" x2=\"1247.35\" y2=\"390.492\" style=\"stroke:#000000; stroke-width:4; stroke-opacity:0.8\"/>\n",
              "<line clip-path=\"url(#clip0003)\" x1=\"1349.91\" y1=\"374.492\" x2=\"1349.91\" y2=\"390.492\" style=\"stroke:#000000; stroke-width:4; stroke-opacity:0.8\"/>\n",
              "<line clip-path=\"url(#clip0003)\" x1=\"1409.05\" y1=\"374.492\" x2=\"1409.05\" y2=\"390.492\" style=\"stroke:#000000; stroke-width:4; stroke-opacity:0.8\"/>\n",
              "<line clip-path=\"url(#clip0003)\" x1=\"1567.26\" y1=\"374.492\" x2=\"1567.26\" y2=\"390.492\" style=\"stroke:#000000; stroke-width:4; stroke-opacity:0.8\"/>\n",
              "<line clip-path=\"url(#clip0003)\" x1=\"1604\" y1=\"374.492\" x2=\"1604\" y2=\"390.492\" style=\"stroke:#000000; stroke-width:4; stroke-opacity:0.8\"/>\n",
              "<line clip-path=\"url(#clip0003)\" x1=\"1757.05\" y1=\"374.492\" x2=\"1757.05\" y2=\"390.492\" style=\"stroke:#000000; stroke-width:4; stroke-opacity:0.8\"/>\n",
              "<line clip-path=\"url(#clip0003)\" x1=\"2070.05\" y1=\"374.492\" x2=\"2070.05\" y2=\"390.492\" style=\"stroke:#000000; stroke-width:4; stroke-opacity:0.8\"/>\n",
              "<line clip-path=\"url(#clip0003)\" x1=\"2281.8\" y1=\"374.492\" x2=\"2281.8\" y2=\"390.492\" style=\"stroke:#000000; stroke-width:4; stroke-opacity:0.8\"/>\n",
              "<line clip-path=\"url(#clip0003)\" x1=\"2441.62\" y1=\"374.492\" x2=\"2441.62\" y2=\"390.492\" style=\"stroke:#000000; stroke-width:4; stroke-opacity:0.8\"/>\n",
              "<line clip-path=\"url(#clip0003)\" x1=\"276.39\" y1=\"360.025\" x2=\"276.39\" y2=\"376.025\" style=\"stroke:#000000; stroke-width:4; stroke-opacity:0.8\"/>\n",
              "<line clip-path=\"url(#clip0003)\" x1=\"548.371\" y1=\"360.025\" x2=\"548.371\" y2=\"376.025\" style=\"stroke:#000000; stroke-width:4; stroke-opacity:0.8\"/>\n",
              "<line clip-path=\"url(#clip0003)\" x1=\"959.288\" y1=\"360.025\" x2=\"959.288\" y2=\"376.025\" style=\"stroke:#000000; stroke-width:4; stroke-opacity:0.8\"/>\n",
              "<line clip-path=\"url(#clip0003)\" x1=\"1185.01\" y1=\"360.025\" x2=\"1185.01\" y2=\"376.025\" style=\"stroke:#000000; stroke-width:4; stroke-opacity:0.8\"/>\n",
              "<line clip-path=\"url(#clip0003)\" x1=\"1853.07\" y1=\"360.025\" x2=\"1853.07\" y2=\"376.025\" style=\"stroke:#000000; stroke-width:4; stroke-opacity:0.8\"/>\n",
              "<line clip-path=\"url(#clip0003)\" x1=\"2136.68\" y1=\"360.025\" x2=\"2136.68\" y2=\"376.025\" style=\"stroke:#000000; stroke-width:4; stroke-opacity:0.8\"/>\n",
              "<line clip-path=\"url(#clip0003)\" x1=\"601.545\" y1=\"345.557\" x2=\"601.545\" y2=\"361.557\" style=\"stroke:#000000; stroke-width:4; stroke-opacity:0.8\"/>\n",
              "<line clip-path=\"url(#clip0003)\" x1=\"818.751\" y1=\"345.557\" x2=\"818.751\" y2=\"361.557\" style=\"stroke:#000000; stroke-width:4; stroke-opacity:0.8\"/>\n",
              "<line clip-path=\"url(#clip0003)\" x1=\"862.76\" y1=\"345.557\" x2=\"862.76\" y2=\"361.557\" style=\"stroke:#000000; stroke-width:4; stroke-opacity:0.8\"/>\n",
              "<line clip-path=\"url(#clip0003)\" x1=\"1096.62\" y1=\"345.557\" x2=\"1096.62\" y2=\"361.557\" style=\"stroke:#000000; stroke-width:4; stroke-opacity:0.8\"/>\n",
              "<line clip-path=\"url(#clip0003)\" x1=\"1154.45\" y1=\"345.557\" x2=\"1154.45\" y2=\"361.557\" style=\"stroke:#000000; stroke-width:4; stroke-opacity:0.8\"/>\n",
              "<line clip-path=\"url(#clip0003)\" x1=\"1335.73\" y1=\"345.557\" x2=\"1335.73\" y2=\"361.557\" style=\"stroke:#000000; stroke-width:4; stroke-opacity:0.8\"/>\n",
              "<line clip-path=\"url(#clip0003)\" x1=\"1364.39\" y1=\"345.557\" x2=\"1364.39\" y2=\"361.557\" style=\"stroke:#000000; stroke-width:4; stroke-opacity:0.8\"/>\n",
              "<line clip-path=\"url(#clip0003)\" x1=\"1378.06\" y1=\"345.557\" x2=\"1378.06\" y2=\"361.557\" style=\"stroke:#000000; stroke-width:4; stroke-opacity:0.8\"/>\n",
              "<line clip-path=\"url(#clip0003)\" x1=\"1504.34\" y1=\"345.557\" x2=\"1504.34\" y2=\"361.557\" style=\"stroke:#000000; stroke-width:4; stroke-opacity:0.8\"/>\n",
              "<line clip-path=\"url(#clip0003)\" x1=\"1523.04\" y1=\"345.557\" x2=\"1523.04\" y2=\"361.557\" style=\"stroke:#000000; stroke-width:4; stroke-opacity:0.8\"/>\n",
              "<line clip-path=\"url(#clip0003)\" x1=\"1542.31\" y1=\"345.557\" x2=\"1542.31\" y2=\"361.557\" style=\"stroke:#000000; stroke-width:4; stroke-opacity:0.8\"/>\n",
              "<line clip-path=\"url(#clip0003)\" x1=\"1578.61\" y1=\"345.557\" x2=\"1578.61\" y2=\"361.557\" style=\"stroke:#000000; stroke-width:4; stroke-opacity:0.8\"/>\n",
              "<line clip-path=\"url(#clip0003)\" x1=\"1673.32\" y1=\"345.557\" x2=\"1673.32\" y2=\"361.557\" style=\"stroke:#000000; stroke-width:4; stroke-opacity:0.8\"/>\n",
              "<line clip-path=\"url(#clip0003)\" x1=\"2220.27\" y1=\"345.557\" x2=\"2220.27\" y2=\"361.557\" style=\"stroke:#000000; stroke-width:4; stroke-opacity:0.8\"/>\n",
              "<line clip-path=\"url(#clip0003)\" x1=\"307.014\" y1=\"331.09\" x2=\"307.014\" y2=\"347.09\" style=\"stroke:#000000; stroke-width:4; stroke-opacity:0.8\"/>\n",
              "<line clip-path=\"url(#clip0003)\" x1=\"382.592\" y1=\"331.09\" x2=\"382.592\" y2=\"347.09\" style=\"stroke:#000000; stroke-width:4; stroke-opacity:0.8\"/>\n",
              "<line clip-path=\"url(#clip0003)\" x1=\"419.763\" y1=\"331.09\" x2=\"419.763\" y2=\"347.09\" style=\"stroke:#000000; stroke-width:4; stroke-opacity:0.8\"/>\n",
              "<line clip-path=\"url(#clip0003)\" x1=\"431.402\" y1=\"331.09\" x2=\"431.402\" y2=\"347.09\" style=\"stroke:#000000; stroke-width:4; stroke-opacity:0.8\"/>\n",
              "<line clip-path=\"url(#clip0003)\" x1=\"514.4\" y1=\"331.09\" x2=\"514.4\" y2=\"347.09\" style=\"stroke:#000000; stroke-width:4; stroke-opacity:0.8\"/>\n",
              "<line clip-path=\"url(#clip0003)\" x1=\"670.213\" y1=\"331.09\" x2=\"670.213\" y2=\"347.09\" style=\"stroke:#000000; stroke-width:4; stroke-opacity:0.8\"/>\n",
              "<line clip-path=\"url(#clip0003)\" x1=\"733.134\" y1=\"331.09\" x2=\"733.134\" y2=\"347.09\" style=\"stroke:#000000; stroke-width:4; stroke-opacity:0.8\"/>\n",
              "<line clip-path=\"url(#clip0003)\" x1=\"831.336\" y1=\"331.09\" x2=\"831.336\" y2=\"347.09\" style=\"stroke:#000000; stroke-width:4; stroke-opacity:0.8\"/>\n",
              "<line clip-path=\"url(#clip0003)\" x1=\"986.93\" y1=\"331.09\" x2=\"986.93\" y2=\"347.09\" style=\"stroke:#000000; stroke-width:4; stroke-opacity:0.8\"/>\n",
              "<line clip-path=\"url(#clip0003)\" x1=\"1104.77\" y1=\"331.09\" x2=\"1104.77\" y2=\"347.09\" style=\"stroke:#000000; stroke-width:4; stroke-opacity:0.8\"/>\n",
              "<line clip-path=\"url(#clip0003)\" x1=\"1254.62\" y1=\"331.09\" x2=\"1254.62\" y2=\"347.09\" style=\"stroke:#000000; stroke-width:4; stroke-opacity:0.8\"/>\n",
              "<line clip-path=\"url(#clip0003)\" x1=\"1270.19\" y1=\"331.09\" x2=\"1270.19\" y2=\"347.09\" style=\"stroke:#000000; stroke-width:4; stroke-opacity:0.8\"/>\n",
              "<line clip-path=\"url(#clip0003)\" x1=\"1287.35\" y1=\"331.09\" x2=\"1287.35\" y2=\"347.09\" style=\"stroke:#000000; stroke-width:4; stroke-opacity:0.8\"/>\n",
              "<line clip-path=\"url(#clip0003)\" x1=\"1373.12\" y1=\"331.09\" x2=\"1373.12\" y2=\"347.09\" style=\"stroke:#000000; stroke-width:4; stroke-opacity:0.8\"/>\n",
              "<line clip-path=\"url(#clip0003)\" x1=\"1445.2\" y1=\"331.09\" x2=\"1445.2\" y2=\"347.09\" style=\"stroke:#000000; stroke-width:4; stroke-opacity:0.8\"/>\n",
              "<line clip-path=\"url(#clip0003)\" x1=\"1459.9\" y1=\"331.09\" x2=\"1459.9\" y2=\"347.09\" style=\"stroke:#000000; stroke-width:4; stroke-opacity:0.8\"/>\n",
              "<line clip-path=\"url(#clip0003)\" x1=\"1529.51\" y1=\"331.09\" x2=\"1529.51\" y2=\"347.09\" style=\"stroke:#000000; stroke-width:4; stroke-opacity:0.8\"/>\n",
              "<line clip-path=\"url(#clip0003)\" x1=\"1534.09\" y1=\"331.09\" x2=\"1534.09\" y2=\"347.09\" style=\"stroke:#000000; stroke-width:4; stroke-opacity:0.8\"/>\n",
              "<line clip-path=\"url(#clip0003)\" x1=\"1561.52\" y1=\"331.09\" x2=\"1561.52\" y2=\"347.09\" style=\"stroke:#000000; stroke-width:4; stroke-opacity:0.8\"/>\n",
              "<line clip-path=\"url(#clip0003)\" x1=\"1658.99\" y1=\"331.09\" x2=\"1658.99\" y2=\"347.09\" style=\"stroke:#000000; stroke-width:4; stroke-opacity:0.8\"/>\n",
              "<line clip-path=\"url(#clip0003)\" x1=\"1977.82\" y1=\"331.09\" x2=\"1977.82\" y2=\"347.09\" style=\"stroke:#000000; stroke-width:4; stroke-opacity:0.8\"/>\n",
              "<line clip-path=\"url(#clip0003)\" x1=\"2036.96\" y1=\"331.09\" x2=\"2036.96\" y2=\"347.09\" style=\"stroke:#000000; stroke-width:4; stroke-opacity:0.8\"/>\n",
              "<line clip-path=\"url(#clip0003)\" x1=\"2107.15\" y1=\"331.09\" x2=\"2107.15\" y2=\"347.09\" style=\"stroke:#000000; stroke-width:4; stroke-opacity:0.8\"/>\n",
              "<line clip-path=\"url(#clip0003)\" x1=\"2128.39\" y1=\"331.09\" x2=\"2128.39\" y2=\"347.09\" style=\"stroke:#000000; stroke-width:4; stroke-opacity:0.8\"/>\n",
              "<line clip-path=\"url(#clip0003)\" x1=\"2175.75\" y1=\"331.09\" x2=\"2175.75\" y2=\"347.09\" style=\"stroke:#000000; stroke-width:4; stroke-opacity:0.8\"/>\n",
              "<line clip-path=\"url(#clip0003)\" x1=\"2390.19\" y1=\"331.09\" x2=\"2390.19\" y2=\"347.09\" style=\"stroke:#000000; stroke-width:4; stroke-opacity:0.8\"/>\n",
              "<line clip-path=\"url(#clip0003)\" x1=\"2417.76\" y1=\"331.09\" x2=\"2417.76\" y2=\"347.09\" style=\"stroke:#000000; stroke-width:4; stroke-opacity:0.8\"/>\n",
              "<line clip-path=\"url(#clip0003)\" x1=\"366.08\" y1=\"316.622\" x2=\"366.08\" y2=\"332.622\" style=\"stroke:#000000; stroke-width:4; stroke-opacity:0.8\"/>\n",
              "<line clip-path=\"url(#clip0003)\" x1=\"435.112\" y1=\"316.622\" x2=\"435.112\" y2=\"332.622\" style=\"stroke:#000000; stroke-width:4; stroke-opacity:0.8\"/>\n",
              "<line clip-path=\"url(#clip0003)\" x1=\"737.499\" y1=\"316.622\" x2=\"737.499\" y2=\"332.622\" style=\"stroke:#000000; stroke-width:4; stroke-opacity:0.8\"/>\n",
              "<line clip-path=\"url(#clip0003)\" x1=\"754.666\" y1=\"316.622\" x2=\"754.666\" y2=\"332.622\" style=\"stroke:#000000; stroke-width:4; stroke-opacity:0.8\"/>\n",
              "<line clip-path=\"url(#clip0003)\" x1=\"822.534\" y1=\"316.622\" x2=\"822.534\" y2=\"332.622\" style=\"stroke:#000000; stroke-width:4; stroke-opacity:0.8\"/>\n",
              "<line clip-path=\"url(#clip0003)\" x1=\"923.499\" y1=\"316.622\" x2=\"923.499\" y2=\"332.622\" style=\"stroke:#000000; stroke-width:4; stroke-opacity:0.8\"/>\n",
              "<line clip-path=\"url(#clip0003)\" x1=\"991.295\" y1=\"316.622\" x2=\"991.295\" y2=\"332.622\" style=\"stroke:#000000; stroke-width:4; stroke-opacity:0.8\"/>\n",
              "<line clip-path=\"url(#clip0003)\" x1=\"1047.09\" y1=\"316.622\" x2=\"1047.09\" y2=\"332.622\" style=\"stroke:#000000; stroke-width:4; stroke-opacity:0.8\"/>\n",
              "<line clip-path=\"url(#clip0003)\" x1=\"1186.9\" y1=\"316.622\" x2=\"1186.9\" y2=\"332.622\" style=\"stroke:#000000; stroke-width:4; stroke-opacity:0.8\"/>\n",
              "<line clip-path=\"url(#clip0003)\" x1=\"1217.67\" y1=\"316.622\" x2=\"1217.67\" y2=\"332.622\" style=\"stroke:#000000; stroke-width:4; stroke-opacity:0.8\"/>\n",
              "<line clip-path=\"url(#clip0003)\" x1=\"1242.91\" y1=\"316.622\" x2=\"1242.91\" y2=\"332.622\" style=\"stroke:#000000; stroke-width:4; stroke-opacity:0.8\"/>\n",
              "<line clip-path=\"url(#clip0003)\" x1=\"1283.28\" y1=\"316.622\" x2=\"1283.28\" y2=\"332.622\" style=\"stroke:#000000; stroke-width:4; stroke-opacity:0.8\"/>\n",
              "<line clip-path=\"url(#clip0003)\" x1=\"1455.6\" y1=\"316.622\" x2=\"1455.6\" y2=\"332.622\" style=\"stroke:#000000; stroke-width:4; stroke-opacity:0.8\"/>\n",
              "<line clip-path=\"url(#clip0003)\" x1=\"1737.19\" y1=\"316.622\" x2=\"1737.19\" y2=\"332.622\" style=\"stroke:#000000; stroke-width:4; stroke-opacity:0.8\"/>\n",
              "<line clip-path=\"url(#clip0003)\" x1=\"2412.59\" y1=\"316.622\" x2=\"2412.59\" y2=\"332.622\" style=\"stroke:#000000; stroke-width:4; stroke-opacity:0.8\"/>\n",
              "<line clip-path=\"url(#clip0003)\" x1=\"328.109\" y1=\"302.155\" x2=\"328.109\" y2=\"318.155\" style=\"stroke:#000000; stroke-width:4; stroke-opacity:0.8\"/>\n",
              "<line clip-path=\"url(#clip0003)\" x1=\"647.808\" y1=\"302.155\" x2=\"647.808\" y2=\"318.155\" style=\"stroke:#000000; stroke-width:4; stroke-opacity:0.8\"/>\n",
              "<line clip-path=\"url(#clip0003)\" x1=\"686.507\" y1=\"302.155\" x2=\"686.507\" y2=\"318.155\" style=\"stroke:#000000; stroke-width:4; stroke-opacity:0.8\"/>\n",
              "<line clip-path=\"url(#clip0003)\" x1=\"702.219\" y1=\"302.155\" x2=\"702.219\" y2=\"318.155\" style=\"stroke:#000000; stroke-width:4; stroke-opacity:0.8\"/>\n",
              "<line clip-path=\"url(#clip0003)\" x1=\"794.31\" y1=\"302.155\" x2=\"794.31\" y2=\"318.155\" style=\"stroke:#000000; stroke-width:4; stroke-opacity:0.8\"/>\n",
              "<line clip-path=\"url(#clip0003)\" x1=\"811.186\" y1=\"302.155\" x2=\"811.186\" y2=\"318.155\" style=\"stroke:#000000; stroke-width:4; stroke-opacity:0.8\"/>\n",
              "<line clip-path=\"url(#clip0003)\" x1=\"853.522\" y1=\"302.155\" x2=\"853.522\" y2=\"318.155\" style=\"stroke:#000000; stroke-width:4; stroke-opacity:0.8\"/>\n",
              "<line clip-path=\"url(#clip0003)\" x1=\"931.574\" y1=\"302.155\" x2=\"931.574\" y2=\"318.155\" style=\"stroke:#000000; stroke-width:4; stroke-opacity:0.8\"/>\n",
              "<line clip-path=\"url(#clip0003)\" x1=\"966.926\" y1=\"302.155\" x2=\"966.926\" y2=\"318.155\" style=\"stroke:#000000; stroke-width:4; stroke-opacity:0.8\"/>\n",
              "<line clip-path=\"url(#clip0003)\" x1=\"979.22\" y1=\"302.155\" x2=\"979.22\" y2=\"318.155\" style=\"stroke:#000000; stroke-width:4; stroke-opacity:0.8\"/>\n",
              "<line clip-path=\"url(#clip0003)\" x1=\"1290.92\" y1=\"302.155\" x2=\"1290.92\" y2=\"318.155\" style=\"stroke:#000000; stroke-width:4; stroke-opacity:0.8\"/>\n",
              "<line clip-path=\"url(#clip0003)\" x1=\"1398.79\" y1=\"302.155\" x2=\"1398.79\" y2=\"318.155\" style=\"stroke:#000000; stroke-width:4; stroke-opacity:0.8\"/>\n",
              "<line clip-path=\"url(#clip0003)\" x1=\"1423.31\" y1=\"302.155\" x2=\"1423.31\" y2=\"318.155\" style=\"stroke:#000000; stroke-width:4; stroke-opacity:0.8\"/>\n",
              "<line clip-path=\"url(#clip0003)\" x1=\"1686.27\" y1=\"302.155\" x2=\"1686.27\" y2=\"318.155\" style=\"stroke:#000000; stroke-width:4; stroke-opacity:0.8\"/>\n",
              "<line clip-path=\"url(#clip0003)\" x1=\"1701.18\" y1=\"302.155\" x2=\"1701.18\" y2=\"318.155\" style=\"stroke:#000000; stroke-width:4; stroke-opacity:0.8\"/>\n",
              "<line clip-path=\"url(#clip0003)\" x1=\"1753.34\" y1=\"302.155\" x2=\"1753.34\" y2=\"318.155\" style=\"stroke:#000000; stroke-width:4; stroke-opacity:0.8\"/>\n",
              "<line clip-path=\"url(#clip0003)\" x1=\"1893.36\" y1=\"302.155\" x2=\"1893.36\" y2=\"318.155\" style=\"stroke:#000000; stroke-width:4; stroke-opacity:0.8\"/>\n",
              "<line clip-path=\"url(#clip0003)\" x1=\"380.992\" y1=\"287.687\" x2=\"380.992\" y2=\"303.687\" style=\"stroke:#000000; stroke-width:4; stroke-opacity:0.8\"/>\n",
              "<line clip-path=\"url(#clip0003)\" x1=\"587.724\" y1=\"287.687\" x2=\"587.724\" y2=\"303.687\" style=\"stroke:#000000; stroke-width:4; stroke-opacity:0.8\"/>\n",
              "<line clip-path=\"url(#clip0003)\" x1=\"609.91\" y1=\"287.687\" x2=\"609.91\" y2=\"303.687\" style=\"stroke:#000000; stroke-width:4; stroke-opacity:0.8\"/>\n",
              "<line clip-path=\"url(#clip0003)\" x1=\"621.331\" y1=\"287.687\" x2=\"621.331\" y2=\"303.687\" style=\"stroke:#000000; stroke-width:4; stroke-opacity:0.8\"/>\n",
              "<line clip-path=\"url(#clip0003)\" x1=\"638.352\" y1=\"287.687\" x2=\"638.352\" y2=\"303.687\" style=\"stroke:#000000; stroke-width:4; stroke-opacity:0.8\"/>\n",
              "<line clip-path=\"url(#clip0003)\" x1=\"653.628\" y1=\"287.687\" x2=\"653.628\" y2=\"303.687\" style=\"stroke:#000000; stroke-width:4; stroke-opacity:0.8\"/>\n",
              "<line clip-path=\"url(#clip0003)\" x1=\"832.572\" y1=\"287.687\" x2=\"832.572\" y2=\"303.687\" style=\"stroke:#000000; stroke-width:4; stroke-opacity:0.8\"/>\n",
              "<line clip-path=\"url(#clip0003)\" x1=\"912.224\" y1=\"287.687\" x2=\"912.224\" y2=\"303.687\" style=\"stroke:#000000; stroke-width:4; stroke-opacity:0.8\"/>\n",
              "<line clip-path=\"url(#clip0003)\" x1=\"1184.64\" y1=\"287.687\" x2=\"1184.64\" y2=\"303.687\" style=\"stroke:#000000; stroke-width:4; stroke-opacity:0.8\"/>\n",
              "<line clip-path=\"url(#clip0003)\" x1=\"1217.59\" y1=\"287.687\" x2=\"1217.59\" y2=\"303.687\" style=\"stroke:#000000; stroke-width:4; stroke-opacity:0.8\"/>\n",
              "<line clip-path=\"url(#clip0003)\" x1=\"1682.19\" y1=\"287.687\" x2=\"1682.19\" y2=\"303.687\" style=\"stroke:#000000; stroke-width:4; stroke-opacity:0.8\"/>\n",
              "<line clip-path=\"url(#clip0003)\" x1=\"1719.66\" y1=\"287.687\" x2=\"1719.66\" y2=\"303.687\" style=\"stroke:#000000; stroke-width:4; stroke-opacity:0.8\"/>\n",
              "<line clip-path=\"url(#clip0003)\" x1=\"1758.5\" y1=\"287.687\" x2=\"1758.5\" y2=\"303.687\" style=\"stroke:#000000; stroke-width:4; stroke-opacity:0.8\"/>\n",
              "<line clip-path=\"url(#clip0003)\" x1=\"1781.85\" y1=\"287.687\" x2=\"1781.85\" y2=\"303.687\" style=\"stroke:#000000; stroke-width:4; stroke-opacity:0.8\"/>\n",
              "<line clip-path=\"url(#clip0003)\" x1=\"1830.22\" y1=\"287.687\" x2=\"1830.22\" y2=\"303.687\" style=\"stroke:#000000; stroke-width:4; stroke-opacity:0.8\"/>\n",
              "<line clip-path=\"url(#clip0003)\" x1=\"2132.32\" y1=\"287.687\" x2=\"2132.32\" y2=\"303.687\" style=\"stroke:#000000; stroke-width:4; stroke-opacity:0.8\"/>\n",
              "<line clip-path=\"url(#clip0003)\" x1=\"2338.54\" y1=\"287.687\" x2=\"2338.54\" y2=\"303.687\" style=\"stroke:#000000; stroke-width:4; stroke-opacity:0.8\"/>\n",
              "<line clip-path=\"url(#clip0003)\" x1=\"652.9\" y1=\"273.22\" x2=\"652.9\" y2=\"289.22\" style=\"stroke:#000000; stroke-width:4; stroke-opacity:0.8\"/>\n",
              "<line clip-path=\"url(#clip0003)\" x1=\"657.556\" y1=\"273.22\" x2=\"657.556\" y2=\"289.22\" style=\"stroke:#000000; stroke-width:4; stroke-opacity:0.8\"/>\n",
              "<line clip-path=\"url(#clip0003)\" x1=\"666.067\" y1=\"273.22\" x2=\"666.067\" y2=\"289.22\" style=\"stroke:#000000; stroke-width:4; stroke-opacity:0.8\"/>\n",
              "<line clip-path=\"url(#clip0003)\" x1=\"670.649\" y1=\"273.22\" x2=\"670.649\" y2=\"289.22\" style=\"stroke:#000000; stroke-width:4; stroke-opacity:0.8\"/>\n",
              "<line clip-path=\"url(#clip0003)\" x1=\"682.943\" y1=\"273.22\" x2=\"682.943\" y2=\"289.22\" style=\"stroke:#000000; stroke-width:4; stroke-opacity:0.8\"/>\n",
              "<line clip-path=\"url(#clip0003)\" x1=\"701.71\" y1=\"273.22\" x2=\"701.71\" y2=\"289.22\" style=\"stroke:#000000; stroke-width:4; stroke-opacity:0.8\"/>\n",
              "<line clip-path=\"url(#clip0003)\" x1=\"724.478\" y1=\"273.22\" x2=\"724.478\" y2=\"289.22\" style=\"stroke:#000000; stroke-width:4; stroke-opacity:0.8\"/>\n",
              "<line clip-path=\"url(#clip0003)\" x1=\"737.426\" y1=\"273.22\" x2=\"737.426\" y2=\"289.22\" style=\"stroke:#000000; stroke-width:4; stroke-opacity:0.8\"/>\n",
              "<line clip-path=\"url(#clip0003)\" x1=\"752.338\" y1=\"273.22\" x2=\"752.338\" y2=\"289.22\" style=\"stroke:#000000; stroke-width:4; stroke-opacity:0.8\"/>\n",
              "<line clip-path=\"url(#clip0003)\" x1=\"792.855\" y1=\"273.22\" x2=\"792.855\" y2=\"289.22\" style=\"stroke:#000000; stroke-width:4; stroke-opacity:0.8\"/>\n",
              "<line clip-path=\"url(#clip0003)\" x1=\"854.686\" y1=\"273.22\" x2=\"854.686\" y2=\"289.22\" style=\"stroke:#000000; stroke-width:4; stroke-opacity:0.8\"/>\n",
              "<line clip-path=\"url(#clip0003)\" x1=\"966.271\" y1=\"273.22\" x2=\"966.271\" y2=\"289.22\" style=\"stroke:#000000; stroke-width:4; stroke-opacity:0.8\"/>\n",
              "<line clip-path=\"url(#clip0003)\" x1=\"1200.94\" y1=\"273.22\" x2=\"1200.94\" y2=\"289.22\" style=\"stroke:#000000; stroke-width:4; stroke-opacity:0.8\"/>\n",
              "<line clip-path=\"url(#clip0003)\" x1=\"1230.03\" y1=\"273.22\" x2=\"1230.03\" y2=\"289.22\" style=\"stroke:#000000; stroke-width:4; stroke-opacity:0.8\"/>\n",
              "<line clip-path=\"url(#clip0003)\" x1=\"1249.6\" y1=\"273.22\" x2=\"1249.6\" y2=\"289.22\" style=\"stroke:#000000; stroke-width:4; stroke-opacity:0.8\"/>\n",
              "<line clip-path=\"url(#clip0003)\" x1=\"1273.75\" y1=\"273.22\" x2=\"1273.75\" y2=\"289.22\" style=\"stroke:#000000; stroke-width:4; stroke-opacity:0.8\"/>\n",
              "<line clip-path=\"url(#clip0003)\" x1=\"1290.7\" y1=\"273.22\" x2=\"1290.7\" y2=\"289.22\" style=\"stroke:#000000; stroke-width:4; stroke-opacity:0.8\"/>\n",
              "<line clip-path=\"url(#clip0003)\" x1=\"1307.07\" y1=\"273.22\" x2=\"1307.07\" y2=\"289.22\" style=\"stroke:#000000; stroke-width:4; stroke-opacity:0.8\"/>\n",
              "<line clip-path=\"url(#clip0003)\" x1=\"1449.2\" y1=\"273.22\" x2=\"1449.2\" y2=\"289.22\" style=\"stroke:#000000; stroke-width:4; stroke-opacity:0.8\"/>\n",
              "<line clip-path=\"url(#clip0003)\" x1=\"1467.32\" y1=\"273.22\" x2=\"1467.32\" y2=\"289.22\" style=\"stroke:#000000; stroke-width:4; stroke-opacity:0.8\"/>\n",
              "<line clip-path=\"url(#clip0003)\" x1=\"1495.61\" y1=\"273.22\" x2=\"1495.61\" y2=\"289.22\" style=\"stroke:#000000; stroke-width:4; stroke-opacity:0.8\"/>\n",
              "<line clip-path=\"url(#clip0003)\" x1=\"1672.59\" y1=\"273.22\" x2=\"1672.59\" y2=\"289.22\" style=\"stroke:#000000; stroke-width:4; stroke-opacity:0.8\"/>\n",
              "<line clip-path=\"url(#clip0003)\" x1=\"1712.67\" y1=\"273.22\" x2=\"1712.67\" y2=\"289.22\" style=\"stroke:#000000; stroke-width:4; stroke-opacity:0.8\"/>\n",
              "<line clip-path=\"url(#clip0003)\" x1=\"2130.5\" y1=\"273.22\" x2=\"2130.5\" y2=\"289.22\" style=\"stroke:#000000; stroke-width:4; stroke-opacity:0.8\"/>\n",
              "<line clip-path=\"url(#clip0003)\" x1=\"911.57\" y1=\"258.753\" x2=\"911.57\" y2=\"274.753\" style=\"stroke:#000000; stroke-width:4; stroke-opacity:0.8\"/>\n",
              "<line clip-path=\"url(#clip0003)\" x1=\"1051.31\" y1=\"258.753\" x2=\"1051.31\" y2=\"274.753\" style=\"stroke:#000000; stroke-width:4; stroke-opacity:0.8\"/>\n",
              "<line clip-path=\"url(#clip0003)\" x1=\"1110.23\" y1=\"258.753\" x2=\"1110.23\" y2=\"274.753\" style=\"stroke:#000000; stroke-width:4; stroke-opacity:0.8\"/>\n",
              "<line clip-path=\"url(#clip0003)\" x1=\"1242.91\" y1=\"258.753\" x2=\"1242.91\" y2=\"274.753\" style=\"stroke:#000000; stroke-width:4; stroke-opacity:0.8\"/>\n",
              "<line clip-path=\"url(#clip0003)\" x1=\"1890.6\" y1=\"258.753\" x2=\"1890.6\" y2=\"274.753\" style=\"stroke:#000000; stroke-width:4; stroke-opacity:0.8\"/>\n",
              "<line clip-path=\"url(#clip0003)\" x1=\"337.129\" y1=\"244.285\" x2=\"337.129\" y2=\"260.285\" style=\"stroke:#000000; stroke-width:4; stroke-opacity:0.8\"/>\n",
              "<line clip-path=\"url(#clip0003)\" x1=\"552.517\" y1=\"244.285\" x2=\"552.517\" y2=\"260.285\" style=\"stroke:#000000; stroke-width:4; stroke-opacity:0.8\"/>\n",
              "<line clip-path=\"url(#clip0003)\" x1=\"791.837\" y1=\"244.285\" x2=\"791.837\" y2=\"260.285\" style=\"stroke:#000000; stroke-width:4; stroke-opacity:0.8\"/>\n",
              "<line clip-path=\"url(#clip0003)\" x1=\"958.124\" y1=\"244.285\" x2=\"958.124\" y2=\"260.285\" style=\"stroke:#000000; stroke-width:4; stroke-opacity:0.8\"/>\n",
              "<line clip-path=\"url(#clip0003)\" x1=\"974.928\" y1=\"244.285\" x2=\"974.928\" y2=\"260.285\" style=\"stroke:#000000; stroke-width:4; stroke-opacity:0.8\"/>\n",
              "<line clip-path=\"url(#clip0003)\" x1=\"1008.24\" y1=\"244.285\" x2=\"1008.24\" y2=\"260.285\" style=\"stroke:#000000; stroke-width:4; stroke-opacity:0.8\"/>\n",
              "<line clip-path=\"url(#clip0003)\" x1=\"1098.3\" y1=\"244.285\" x2=\"1098.3\" y2=\"260.285\" style=\"stroke:#000000; stroke-width:4; stroke-opacity:0.8\"/>\n",
              "<line clip-path=\"url(#clip0003)\" x1=\"1216.87\" y1=\"244.285\" x2=\"1216.87\" y2=\"260.285\" style=\"stroke:#000000; stroke-width:4; stroke-opacity:0.8\"/>\n",
              "<line clip-path=\"url(#clip0003)\" x1=\"1423.02\" y1=\"244.285\" x2=\"1423.02\" y2=\"260.285\" style=\"stroke:#000000; stroke-width:4; stroke-opacity:0.8\"/>\n",
              "<line clip-path=\"url(#clip0003)\" x1=\"1443.6\" y1=\"244.285\" x2=\"1443.6\" y2=\"260.285\" style=\"stroke:#000000; stroke-width:4; stroke-opacity:0.8\"/>\n",
              "<line clip-path=\"url(#clip0003)\" x1=\"1800.11\" y1=\"244.285\" x2=\"1800.11\" y2=\"260.285\" style=\"stroke:#000000; stroke-width:4; stroke-opacity:0.8\"/>\n",
              "<line clip-path=\"url(#clip0003)\" x1=\"348.695\" y1=\"229.818\" x2=\"348.695\" y2=\"245.818\" style=\"stroke:#000000; stroke-width:4; stroke-opacity:0.8\"/>\n",
              "<line clip-path=\"url(#clip0003)\" x1=\"403.978\" y1=\"229.818\" x2=\"403.978\" y2=\"245.818\" style=\"stroke:#000000; stroke-width:4; stroke-opacity:0.8\"/>\n",
              "<line clip-path=\"url(#clip0003)\" x1=\"427.692\" y1=\"229.818\" x2=\"427.692\" y2=\"245.818\" style=\"stroke:#000000; stroke-width:4; stroke-opacity:0.8\"/>\n",
              "<line clip-path=\"url(#clip0003)\" x1=\"433.803\" y1=\"229.818\" x2=\"433.803\" y2=\"245.818\" style=\"stroke:#000000; stroke-width:4; stroke-opacity:0.8\"/>\n",
              "<line clip-path=\"url(#clip0003)\" x1=\"466.464\" y1=\"229.818\" x2=\"466.464\" y2=\"245.818\" style=\"stroke:#000000; stroke-width:4; stroke-opacity:0.8\"/>\n",
              "<line clip-path=\"url(#clip0003)\" x1=\"778.38\" y1=\"229.818\" x2=\"778.38\" y2=\"245.818\" style=\"stroke:#000000; stroke-width:4; stroke-opacity:0.8\"/>\n",
              "<line clip-path=\"url(#clip0003)\" x1=\"797.875\" y1=\"229.818\" x2=\"797.875\" y2=\"245.818\" style=\"stroke:#000000; stroke-width:4; stroke-opacity:0.8\"/>\n",
              "<line clip-path=\"url(#clip0003)\" x1=\"820.133\" y1=\"229.818\" x2=\"820.133\" y2=\"245.818\" style=\"stroke:#000000; stroke-width:4; stroke-opacity:0.8\"/>\n",
              "<line clip-path=\"url(#clip0003)\" x1=\"1147.47\" y1=\"229.818\" x2=\"1147.47\" y2=\"245.818\" style=\"stroke:#000000; stroke-width:4; stroke-opacity:0.8\"/>\n",
              "<line clip-path=\"url(#clip0003)\" x1=\"1227.92\" y1=\"229.818\" x2=\"1227.92\" y2=\"245.818\" style=\"stroke:#000000; stroke-width:4; stroke-opacity:0.8\"/>\n",
              "<line clip-path=\"url(#clip0003)\" x1=\"1248\" y1=\"229.818\" x2=\"1248\" y2=\"245.818\" style=\"stroke:#000000; stroke-width:4; stroke-opacity:0.8\"/>\n",
              "<line clip-path=\"url(#clip0003)\" x1=\"1297.9\" y1=\"229.818\" x2=\"1297.9\" y2=\"245.818\" style=\"stroke:#000000; stroke-width:4; stroke-opacity:0.8\"/>\n",
              "<line clip-path=\"url(#clip0003)\" x1=\"1314.19\" y1=\"229.818\" x2=\"1314.19\" y2=\"245.818\" style=\"stroke:#000000; stroke-width:4; stroke-opacity:0.8\"/>\n",
              "<line clip-path=\"url(#clip0003)\" x1=\"1440.18\" y1=\"229.818\" x2=\"1440.18\" y2=\"245.818\" style=\"stroke:#000000; stroke-width:4; stroke-opacity:0.8\"/>\n",
              "<line clip-path=\"url(#clip0003)\" x1=\"1776.9\" y1=\"229.818\" x2=\"1776.9\" y2=\"245.818\" style=\"stroke:#000000; stroke-width:4; stroke-opacity:0.8\"/>\n",
              "<line clip-path=\"url(#clip0003)\" x1=\"1803.75\" y1=\"229.818\" x2=\"1803.75\" y2=\"245.818\" style=\"stroke:#000000; stroke-width:4; stroke-opacity:0.8\"/>\n",
              "<line clip-path=\"url(#clip0003)\" x1=\"1825.42\" y1=\"229.818\" x2=\"1825.42\" y2=\"245.818\" style=\"stroke:#000000; stroke-width:4; stroke-opacity:0.8\"/>\n",
              "<line clip-path=\"url(#clip0003)\" x1=\"678.869\" y1=\"215.35\" x2=\"678.869\" y2=\"231.35\" style=\"stroke:#000000; stroke-width:4; stroke-opacity:0.8\"/>\n",
              "<line clip-path=\"url(#clip0003)\" x1=\"718.15\" y1=\"215.35\" x2=\"718.15\" y2=\"231.35\" style=\"stroke:#000000; stroke-width:4; stroke-opacity:0.8\"/>\n",
              "<line clip-path=\"url(#clip0003)\" x1=\"737.935\" y1=\"215.35\" x2=\"737.935\" y2=\"231.35\" style=\"stroke:#000000; stroke-width:4; stroke-opacity:0.8\"/>\n",
              "<line clip-path=\"url(#clip0003)\" x1=\"748.774\" y1=\"215.35\" x2=\"748.774\" y2=\"231.35\" style=\"stroke:#000000; stroke-width:4; stroke-opacity:0.8\"/>\n",
              "<line clip-path=\"url(#clip0003)\" x1=\"785.145\" y1=\"215.35\" x2=\"785.145\" y2=\"231.35\" style=\"stroke:#000000; stroke-width:4; stroke-opacity:0.8\"/>\n",
              "<line clip-path=\"url(#clip0003)\" x1=\"794.601\" y1=\"215.35\" x2=\"794.601\" y2=\"231.35\" style=\"stroke:#000000; stroke-width:4; stroke-opacity:0.8\"/>\n",
              "<line clip-path=\"url(#clip0003)\" x1=\"811.477\" y1=\"215.35\" x2=\"811.477\" y2=\"231.35\" style=\"stroke:#000000; stroke-width:4; stroke-opacity:0.8\"/>\n",
              "<line clip-path=\"url(#clip0003)\" x1=\"834.391\" y1=\"215.35\" x2=\"834.391\" y2=\"231.35\" style=\"stroke:#000000; stroke-width:4; stroke-opacity:0.8\"/>\n",
              "<line clip-path=\"url(#clip0003)\" x1=\"868.216\" y1=\"215.35\" x2=\"868.216\" y2=\"231.35\" style=\"stroke:#000000; stroke-width:4; stroke-opacity:0.8\"/>\n",
              "<line clip-path=\"url(#clip0003)\" x1=\"883.128\" y1=\"215.35\" x2=\"883.128\" y2=\"231.35\" style=\"stroke:#000000; stroke-width:4; stroke-opacity:0.8\"/>\n",
              "<line clip-path=\"url(#clip0003)\" x1=\"922.699\" y1=\"215.35\" x2=\"922.699\" y2=\"231.35\" style=\"stroke:#000000; stroke-width:4; stroke-opacity:0.8\"/>\n",
              "<line clip-path=\"url(#clip0003)\" x1=\"939.939\" y1=\"215.35\" x2=\"939.939\" y2=\"231.35\" style=\"stroke:#000000; stroke-width:4; stroke-opacity:0.8\"/>\n",
              "<line clip-path=\"url(#clip0003)\" x1=\"1068.4\" y1=\"215.35\" x2=\"1068.4\" y2=\"231.35\" style=\"stroke:#000000; stroke-width:4; stroke-opacity:0.8\"/>\n",
              "<line clip-path=\"url(#clip0003)\" x1=\"1073.35\" y1=\"215.35\" x2=\"1073.35\" y2=\"231.35\" style=\"stroke:#000000; stroke-width:4; stroke-opacity:0.8\"/>\n",
              "<line clip-path=\"url(#clip0003)\" x1=\"1178.24\" y1=\"215.35\" x2=\"1178.24\" y2=\"231.35\" style=\"stroke:#000000; stroke-width:4; stroke-opacity:0.8\"/>\n",
              "<line clip-path=\"url(#clip0003)\" x1=\"1277.17\" y1=\"215.35\" x2=\"1277.17\" y2=\"231.35\" style=\"stroke:#000000; stroke-width:4; stroke-opacity:0.8\"/>\n",
              "<line clip-path=\"url(#clip0003)\" x1=\"1282.33\" y1=\"215.35\" x2=\"1282.33\" y2=\"231.35\" style=\"stroke:#000000; stroke-width:4; stroke-opacity:0.8\"/>\n",
              "<line clip-path=\"url(#clip0003)\" x1=\"1310.7\" y1=\"215.35\" x2=\"1310.7\" y2=\"231.35\" style=\"stroke:#000000; stroke-width:4; stroke-opacity:0.8\"/>\n",
              "<line clip-path=\"url(#clip0003)\" x1=\"1349.26\" y1=\"215.35\" x2=\"1349.26\" y2=\"231.35\" style=\"stroke:#000000; stroke-width:4; stroke-opacity:0.8\"/>\n",
              "<line clip-path=\"url(#clip0003)\" x1=\"1397.7\" y1=\"215.35\" x2=\"1397.7\" y2=\"231.35\" style=\"stroke:#000000; stroke-width:4; stroke-opacity:0.8\"/>\n",
              "<line clip-path=\"url(#clip0003)\" x1=\"1459.53\" y1=\"215.35\" x2=\"1459.53\" y2=\"231.35\" style=\"stroke:#000000; stroke-width:4; stroke-opacity:0.8\"/>\n",
              "<line clip-path=\"url(#clip0003)\" x1=\"1496.63\" y1=\"215.35\" x2=\"1496.63\" y2=\"231.35\" style=\"stroke:#000000; stroke-width:4; stroke-opacity:0.8\"/>\n",
              "<line clip-path=\"url(#clip0003)\" x1=\"1610.04\" y1=\"215.35\" x2=\"1610.04\" y2=\"231.35\" style=\"stroke:#000000; stroke-width:4; stroke-opacity:0.8\"/>\n",
              "<line clip-path=\"url(#clip0003)\" x1=\"1665.9\" y1=\"215.35\" x2=\"1665.9\" y2=\"231.35\" style=\"stroke:#000000; stroke-width:4; stroke-opacity:0.8\"/>\n",
              "<line clip-path=\"url(#clip0003)\" x1=\"1684.52\" y1=\"215.35\" x2=\"1684.52\" y2=\"231.35\" style=\"stroke:#000000; stroke-width:4; stroke-opacity:0.8\"/>\n",
              "<line clip-path=\"url(#clip0003)\" x1=\"548.807\" y1=\"200.883\" x2=\"548.807\" y2=\"216.883\" style=\"stroke:#000000; stroke-width:4; stroke-opacity:0.8\"/>\n",
              "<line clip-path=\"url(#clip0003)\" x1=\"653.919\" y1=\"200.883\" x2=\"653.919\" y2=\"216.883\" style=\"stroke:#000000; stroke-width:4; stroke-opacity:0.8\"/>\n",
              "<line clip-path=\"url(#clip0003)\" x1=\"667.885\" y1=\"200.883\" x2=\"667.885\" y2=\"216.883\" style=\"stroke:#000000; stroke-width:4; stroke-opacity:0.8\"/>\n",
              "<line clip-path=\"url(#clip0003)\" x1=\"765.214\" y1=\"200.883\" x2=\"765.214\" y2=\"216.883\" style=\"stroke:#000000; stroke-width:4; stroke-opacity:0.8\"/>\n",
              "<line clip-path=\"url(#clip0003)\" x1=\"786.963\" y1=\"200.883\" x2=\"786.963\" y2=\"216.883\" style=\"stroke:#000000; stroke-width:4; stroke-opacity:0.8\"/>\n",
              "<line clip-path=\"url(#clip0003)\" x1=\"836.719\" y1=\"200.883\" x2=\"836.719\" y2=\"216.883\" style=\"stroke:#000000; stroke-width:4; stroke-opacity:0.8\"/>\n",
              "<line clip-path=\"url(#clip0003)\" x1=\"857.523\" y1=\"200.883\" x2=\"857.523\" y2=\"216.883\" style=\"stroke:#000000; stroke-width:4; stroke-opacity:0.8\"/>\n",
              "<line clip-path=\"url(#clip0003)\" x1=\"912.079\" y1=\"200.883\" x2=\"912.079\" y2=\"216.883\" style=\"stroke:#000000; stroke-width:4; stroke-opacity:0.8\"/>\n",
              "<line clip-path=\"url(#clip0003)\" x1=\"959.434\" y1=\"200.883\" x2=\"959.434\" y2=\"216.883\" style=\"stroke:#000000; stroke-width:4; stroke-opacity:0.8\"/>\n",
              "<line clip-path=\"url(#clip0003)\" x1=\"972.382\" y1=\"200.883\" x2=\"972.382\" y2=\"216.883\" style=\"stroke:#000000; stroke-width:4; stroke-opacity:0.8\"/>\n",
              "<line clip-path=\"url(#clip0003)\" x1=\"1061.49\" y1=\"200.883\" x2=\"1061.49\" y2=\"216.883\" style=\"stroke:#000000; stroke-width:4; stroke-opacity:0.8\"/>\n",
              "<line clip-path=\"url(#clip0003)\" x1=\"1133.14\" y1=\"200.883\" x2=\"1133.14\" y2=\"216.883\" style=\"stroke:#000000; stroke-width:4; stroke-opacity:0.8\"/>\n",
              "<line clip-path=\"url(#clip0003)\" x1=\"1211.56\" y1=\"200.883\" x2=\"1211.56\" y2=\"216.883\" style=\"stroke:#000000; stroke-width:4; stroke-opacity:0.8\"/>\n",
              "<line clip-path=\"url(#clip0003)\" x1=\"1233.89\" y1=\"200.883\" x2=\"1233.89\" y2=\"216.883\" style=\"stroke:#000000; stroke-width:4; stroke-opacity:0.8\"/>\n",
              "<line clip-path=\"url(#clip0003)\" x1=\"1251.42\" y1=\"200.883\" x2=\"1251.42\" y2=\"216.883\" style=\"stroke:#000000; stroke-width:4; stroke-opacity:0.8\"/>\n",
              "<line clip-path=\"url(#clip0003)\" x1=\"1300.37\" y1=\"200.883\" x2=\"1300.37\" y2=\"216.883\" style=\"stroke:#000000; stroke-width:4; stroke-opacity:0.8\"/>\n",
              "<line clip-path=\"url(#clip0003)\" x1=\"1367.81\" y1=\"200.883\" x2=\"1367.81\" y2=\"216.883\" style=\"stroke:#000000; stroke-width:4; stroke-opacity:0.8\"/>\n",
              "<line clip-path=\"url(#clip0003)\" x1=\"1430.73\" y1=\"200.883\" x2=\"1430.73\" y2=\"216.883\" style=\"stroke:#000000; stroke-width:4; stroke-opacity:0.8\"/>\n",
              "<line clip-path=\"url(#clip0003)\" x1=\"1442.87\" y1=\"200.883\" x2=\"1442.87\" y2=\"216.883\" style=\"stroke:#000000; stroke-width:4; stroke-opacity:0.8\"/>\n",
              "<line clip-path=\"url(#clip0003)\" x1=\"1449.86\" y1=\"200.883\" x2=\"1449.86\" y2=\"216.883\" style=\"stroke:#000000; stroke-width:4; stroke-opacity:0.8\"/>\n",
              "<line clip-path=\"url(#clip0003)\" x1=\"1469.06\" y1=\"200.883\" x2=\"1469.06\" y2=\"216.883\" style=\"stroke:#000000; stroke-width:4; stroke-opacity:0.8\"/>\n",
              "<line clip-path=\"url(#clip0003)\" x1=\"1779.81\" y1=\"200.883\" x2=\"1779.81\" y2=\"216.883\" style=\"stroke:#000000; stroke-width:4; stroke-opacity:0.8\"/>\n",
              "<line clip-path=\"url(#clip0003)\" x1=\"1822.08\" y1=\"200.883\" x2=\"1822.08\" y2=\"216.883\" style=\"stroke:#000000; stroke-width:4; stroke-opacity:0.8\"/>\n",
              "<line clip-path=\"url(#clip0003)\" x1=\"1829.28\" y1=\"200.883\" x2=\"1829.28\" y2=\"216.883\" style=\"stroke:#000000; stroke-width:4; stroke-opacity:0.8\"/>\n",
              "<line clip-path=\"url(#clip0003)\" x1=\"1834.08\" y1=\"200.883\" x2=\"1834.08\" y2=\"216.883\" style=\"stroke:#000000; stroke-width:4; stroke-opacity:0.8\"/>\n",
              "<line clip-path=\"url(#clip0003)\" x1=\"1980.51\" y1=\"200.883\" x2=\"1980.51\" y2=\"216.883\" style=\"stroke:#000000; stroke-width:4; stroke-opacity:0.8\"/>\n",
              "<line clip-path=\"url(#clip0003)\" x1=\"2031.14\" y1=\"200.883\" x2=\"2031.14\" y2=\"216.883\" style=\"stroke:#000000; stroke-width:4; stroke-opacity:0.8\"/>\n",
              "<line clip-path=\"url(#clip0003)\" x1=\"2044.88\" y1=\"200.883\" x2=\"2044.88\" y2=\"216.883\" style=\"stroke:#000000; stroke-width:4; stroke-opacity:0.8\"/>\n",
              "<line clip-path=\"url(#clip0003)\" x1=\"2216.92\" y1=\"200.883\" x2=\"2216.92\" y2=\"216.883\" style=\"stroke:#000000; stroke-width:4; stroke-opacity:0.8\"/>\n",
              "<line clip-path=\"url(#clip0003)\" x1=\"2242.81\" y1=\"200.883\" x2=\"2242.81\" y2=\"216.883\" style=\"stroke:#000000; stroke-width:4; stroke-opacity:0.8\"/>\n",
              "<line clip-path=\"url(#clip0003)\" x1=\"401.651\" y1=\"186.415\" x2=\"401.651\" y2=\"202.415\" style=\"stroke:#000000; stroke-width:4; stroke-opacity:0.8\"/>\n",
              "<line clip-path=\"url(#clip0003)\" x1=\"663.012\" y1=\"186.415\" x2=\"663.012\" y2=\"202.415\" style=\"stroke:#000000; stroke-width:4; stroke-opacity:0.8\"/>\n",
              "<line clip-path=\"url(#clip0003)\" x1=\"882.764\" y1=\"186.415\" x2=\"882.764\" y2=\"202.415\" style=\"stroke:#000000; stroke-width:4; stroke-opacity:0.8\"/>\n",
              "<line clip-path=\"url(#clip0003)\" x1=\"980.311\" y1=\"186.415\" x2=\"980.311\" y2=\"202.415\" style=\"stroke:#000000; stroke-width:4; stroke-opacity:0.8\"/>\n",
              "<line clip-path=\"url(#clip0003)\" x1=\"1128.49\" y1=\"186.415\" x2=\"1128.49\" y2=\"202.415\" style=\"stroke:#000000; stroke-width:4; stroke-opacity:0.8\"/>\n",
              "<line clip-path=\"url(#clip0003)\" x1=\"1144.42\" y1=\"186.415\" x2=\"1144.42\" y2=\"202.415\" style=\"stroke:#000000; stroke-width:4; stroke-opacity:0.8\"/>\n",
              "<line clip-path=\"url(#clip0003)\" x1=\"1202.25\" y1=\"186.415\" x2=\"1202.25\" y2=\"202.415\" style=\"stroke:#000000; stroke-width:4; stroke-opacity:0.8\"/>\n",
              "<line clip-path=\"url(#clip0003)\" x1=\"1321.47\" y1=\"186.415\" x2=\"1321.47\" y2=\"202.415\" style=\"stroke:#000000; stroke-width:4; stroke-opacity:0.8\"/>\n",
              "<line clip-path=\"url(#clip0003)\" x1=\"1511.62\" y1=\"186.415\" x2=\"1511.62\" y2=\"202.415\" style=\"stroke:#000000; stroke-width:4; stroke-opacity:0.8\"/>\n",
              "<line clip-path=\"url(#clip0003)\" x1=\"674.577\" y1=\"171.948\" x2=\"674.577\" y2=\"187.948\" style=\"stroke:#000000; stroke-width:4; stroke-opacity:0.8\"/>\n",
              "<line clip-path=\"url(#clip0003)\" x1=\"742.445\" y1=\"171.948\" x2=\"742.445\" y2=\"187.948\" style=\"stroke:#000000; stroke-width:4; stroke-opacity:0.8\"/>\n",
              "<line clip-path=\"url(#clip0003)\" x1=\"756.703\" y1=\"171.948\" x2=\"756.703\" y2=\"187.948\" style=\"stroke:#000000; stroke-width:4; stroke-opacity:0.8\"/>\n",
              "<line clip-path=\"url(#clip0003)\" x1=\"866.179\" y1=\"171.948\" x2=\"866.179\" y2=\"187.948\" style=\"stroke:#000000; stroke-width:4; stroke-opacity:0.8\"/>\n",
              "<line clip-path=\"url(#clip0003)\" x1=\"870.471\" y1=\"171.948\" x2=\"870.471\" y2=\"187.948\" style=\"stroke:#000000; stroke-width:4; stroke-opacity:0.8\"/>\n",
              "<line clip-path=\"url(#clip0003)\" x1=\"945.176\" y1=\"171.948\" x2=\"945.176\" y2=\"187.948\" style=\"stroke:#000000; stroke-width:4; stroke-opacity:0.8\"/>\n",
              "<line clip-path=\"url(#clip0003)\" x1=\"983.657\" y1=\"171.948\" x2=\"983.657\" y2=\"187.948\" style=\"stroke:#000000; stroke-width:4; stroke-opacity:0.8\"/>\n",
              "<line clip-path=\"url(#clip0003)\" x1=\"1118.88\" y1=\"171.948\" x2=\"1118.88\" y2=\"187.948\" style=\"stroke:#000000; stroke-width:4; stroke-opacity:0.8\"/>\n",
              "<line clip-path=\"url(#clip0003)\" x1=\"1145.14\" y1=\"171.948\" x2=\"1145.14\" y2=\"187.948\" style=\"stroke:#000000; stroke-width:4; stroke-opacity:0.8\"/>\n",
              "<line clip-path=\"url(#clip0003)\" x1=\"1152.42\" y1=\"171.948\" x2=\"1152.42\" y2=\"187.948\" style=\"stroke:#000000; stroke-width:4; stroke-opacity:0.8\"/>\n",
              "<line clip-path=\"url(#clip0003)\" x1=\"1161.07\" y1=\"171.948\" x2=\"1161.07\" y2=\"187.948\" style=\"stroke:#000000; stroke-width:4; stroke-opacity:0.8\"/>\n",
              "<line clip-path=\"url(#clip0003)\" x1=\"1189.44\" y1=\"171.948\" x2=\"1189.44\" y2=\"187.948\" style=\"stroke:#000000; stroke-width:4; stroke-opacity:0.8\"/>\n",
              "<line clip-path=\"url(#clip0003)\" x1=\"1313.9\" y1=\"171.948\" x2=\"1313.9\" y2=\"187.948\" style=\"stroke:#000000; stroke-width:4; stroke-opacity:0.8\"/>\n",
              "<line clip-path=\"url(#clip0003)\" x1=\"1333.69\" y1=\"171.948\" x2=\"1333.69\" y2=\"187.948\" style=\"stroke:#000000; stroke-width:4; stroke-opacity:0.8\"/>\n",
              "<line clip-path=\"url(#clip0003)\" x1=\"1472.84\" y1=\"171.948\" x2=\"1472.84\" y2=\"187.948\" style=\"stroke:#000000; stroke-width:4; stroke-opacity:0.8\"/>\n",
              "<line clip-path=\"url(#clip0003)\" x1=\"1537.58\" y1=\"171.948\" x2=\"1537.58\" y2=\"187.948\" style=\"stroke:#000000; stroke-width:4; stroke-opacity:0.8\"/>\n",
              "<line clip-path=\"url(#clip0003)\" x1=\"1596.58\" y1=\"171.948\" x2=\"1596.58\" y2=\"187.948\" style=\"stroke:#000000; stroke-width:4; stroke-opacity:0.8\"/>\n",
              "<line clip-path=\"url(#clip0003)\" x1=\"1601.67\" y1=\"171.948\" x2=\"1601.67\" y2=\"187.948\" style=\"stroke:#000000; stroke-width:4; stroke-opacity:0.8\"/>\n",
              "<line clip-path=\"url(#clip0003)\" x1=\"1635.64\" y1=\"171.948\" x2=\"1635.64\" y2=\"187.948\" style=\"stroke:#000000; stroke-width:4; stroke-opacity:0.8\"/>\n",
              "<line clip-path=\"url(#clip0003)\" x1=\"1640.3\" y1=\"171.948\" x2=\"1640.3\" y2=\"187.948\" style=\"stroke:#000000; stroke-width:4; stroke-opacity:0.8\"/>\n",
              "<line clip-path=\"url(#clip0003)\" x1=\"1644.73\" y1=\"171.948\" x2=\"1644.73\" y2=\"187.948\" style=\"stroke:#000000; stroke-width:4; stroke-opacity:0.8\"/>\n",
              "<line clip-path=\"url(#clip0003)\" x1=\"1690.85\" y1=\"171.948\" x2=\"1690.85\" y2=\"187.948\" style=\"stroke:#000000; stroke-width:4; stroke-opacity:0.8\"/>\n",
              "<line clip-path=\"url(#clip0003)\" x1=\"1719\" y1=\"171.948\" x2=\"1719\" y2=\"187.948\" style=\"stroke:#000000; stroke-width:4; stroke-opacity:0.8\"/>\n",
              "<line clip-path=\"url(#clip0003)\" x1=\"1738.06\" y1=\"171.948\" x2=\"1738.06\" y2=\"187.948\" style=\"stroke:#000000; stroke-width:4; stroke-opacity:0.8\"/>\n",
              "<line clip-path=\"url(#clip0003)\" x1=\"2131.81\" y1=\"171.948\" x2=\"2131.81\" y2=\"187.948\" style=\"stroke:#000000; stroke-width:4; stroke-opacity:0.8\"/>\n",
              "<line clip-path=\"url(#clip0003)\" x1=\"2156.25\" y1=\"171.948\" x2=\"2156.25\" y2=\"187.948\" style=\"stroke:#000000; stroke-width:4; stroke-opacity:0.8\"/>\n",
              "<line clip-path=\"url(#clip0003)\" x1=\"2219.46\" y1=\"171.948\" x2=\"2219.46\" y2=\"187.948\" style=\"stroke:#000000; stroke-width:4; stroke-opacity:0.8\"/>\n",
              "<line clip-path=\"url(#clip0003)\" x1=\"2236.63\" y1=\"171.948\" x2=\"2236.63\" y2=\"187.948\" style=\"stroke:#000000; stroke-width:4; stroke-opacity:0.8\"/>\n",
              "<line clip-path=\"url(#clip0003)\" x1=\"641.553\" y1=\"157.48\" x2=\"641.553\" y2=\"173.48\" style=\"stroke:#000000; stroke-width:4; stroke-opacity:0.8\"/>\n",
              "<line clip-path=\"url(#clip0003)\" x1=\"1041.92\" y1=\"157.48\" x2=\"1041.92\" y2=\"173.48\" style=\"stroke:#000000; stroke-width:4; stroke-opacity:0.8\"/>\n",
              "<line clip-path=\"url(#clip0003)\" x1=\"1069.86\" y1=\"157.48\" x2=\"1069.86\" y2=\"173.48\" style=\"stroke:#000000; stroke-width:4; stroke-opacity:0.8\"/>\n",
              "<line clip-path=\"url(#clip0003)\" x1=\"1170.82\" y1=\"157.48\" x2=\"1170.82\" y2=\"173.48\" style=\"stroke:#000000; stroke-width:4; stroke-opacity:0.8\"/>\n",
              "<line clip-path=\"url(#clip0003)\" x1=\"1484.41\" y1=\"157.48\" x2=\"1484.41\" y2=\"173.48\" style=\"stroke:#000000; stroke-width:4; stroke-opacity:0.8\"/>\n",
              "<line clip-path=\"url(#clip0003)\" x1=\"813.514\" y1=\"1474.02\" x2=\"813.514\" y2=\"1490.02\" style=\"stroke:#ff0000; stroke-width:4; stroke-opacity:0.8\"/>\n",
              "<line clip-path=\"url(#clip0003)\" x1=\"857.741\" y1=\"1474.02\" x2=\"857.741\" y2=\"1490.02\" style=\"stroke:#ff0000; stroke-width:4; stroke-opacity:0.8\"/>\n",
              "<line clip-path=\"url(#clip0003)\" x1=\"1290.41\" y1=\"1474.02\" x2=\"1290.41\" y2=\"1490.02\" style=\"stroke:#ff0000; stroke-width:4; stroke-opacity:0.8\"/>\n",
              "<line clip-path=\"url(#clip0003)\" x1=\"1310.78\" y1=\"1474.02\" x2=\"1310.78\" y2=\"1490.02\" style=\"stroke:#ff0000; stroke-width:4; stroke-opacity:0.8\"/>\n",
              "<line clip-path=\"url(#clip0003)\" x1=\"1531.91\" y1=\"1474.02\" x2=\"1531.91\" y2=\"1490.02\" style=\"stroke:#ff0000; stroke-width:4; stroke-opacity:0.8\"/>\n",
              "<line clip-path=\"url(#clip0003)\" x1=\"1731.22\" y1=\"1474.02\" x2=\"1731.22\" y2=\"1490.02\" style=\"stroke:#ff0000; stroke-width:4; stroke-opacity:0.8\"/>\n",
              "<line clip-path=\"url(#clip0003)\" x1=\"1045.12\" y1=\"1459.55\" x2=\"1045.12\" y2=\"1475.55\" style=\"stroke:#ff0000; stroke-width:4; stroke-opacity:0.8\"/>\n",
              "<line clip-path=\"url(#clip0003)\" x1=\"1489.5\" y1=\"1459.55\" x2=\"1489.5\" y2=\"1475.55\" style=\"stroke:#ff0000; stroke-width:4; stroke-opacity:0.8\"/>\n",
              "<line clip-path=\"url(#clip0003)\" x1=\"1735.81\" y1=\"1459.55\" x2=\"1735.81\" y2=\"1475.55\" style=\"stroke:#ff0000; stroke-width:4; stroke-opacity:0.8\"/>\n",
              "<line clip-path=\"url(#clip0003)\" x1=\"599.435\" y1=\"1445.08\" x2=\"599.435\" y2=\"1461.08\" style=\"stroke:#ff0000; stroke-width:4; stroke-opacity:0.8\"/>\n",
              "<line clip-path=\"url(#clip0003)\" x1=\"614.929\" y1=\"1445.08\" x2=\"614.929\" y2=\"1461.08\" style=\"stroke:#ff0000; stroke-width:4; stroke-opacity:0.8\"/>\n",
              "<line clip-path=\"url(#clip0003)\" x1=\"738.372\" y1=\"1445.08\" x2=\"738.372\" y2=\"1461.08\" style=\"stroke:#ff0000; stroke-width:4; stroke-opacity:0.8\"/>\n",
              "<line clip-path=\"url(#clip0003)\" x1=\"1033.92\" y1=\"1445.08\" x2=\"1033.92\" y2=\"1461.08\" style=\"stroke:#ff0000; stroke-width:4; stroke-opacity:0.8\"/>\n",
              "<line clip-path=\"url(#clip0003)\" x1=\"668.394\" y1=\"1430.62\" x2=\"668.394\" y2=\"1446.62\" style=\"stroke:#ff0000; stroke-width:4; stroke-opacity:0.8\"/>\n",
              "<line clip-path=\"url(#clip0003)\" x1=\"675.596\" y1=\"1430.62\" x2=\"675.596\" y2=\"1446.62\" style=\"stroke:#ff0000; stroke-width:4; stroke-opacity:0.8\"/>\n",
              "<line clip-path=\"url(#clip0003)\" x1=\"701.783\" y1=\"1430.62\" x2=\"701.783\" y2=\"1446.62\" style=\"stroke:#ff0000; stroke-width:4; stroke-opacity:0.8\"/>\n",
              "<line clip-path=\"url(#clip0003)\" x1=\"709.13\" y1=\"1430.62\" x2=\"709.13\" y2=\"1446.62\" style=\"stroke:#ff0000; stroke-width:4; stroke-opacity:0.8\"/>\n",
              "<line clip-path=\"url(#clip0003)\" x1=\"751.829\" y1=\"1430.62\" x2=\"751.829\" y2=\"1446.62\" style=\"stroke:#ff0000; stroke-width:4; stroke-opacity:0.8\"/>\n",
              "<line clip-path=\"url(#clip0003)\" x1=\"848.212\" y1=\"1430.62\" x2=\"848.212\" y2=\"1446.62\" style=\"stroke:#ff0000; stroke-width:4; stroke-opacity:0.8\"/>\n",
              "<line clip-path=\"url(#clip0003)\" x1=\"1035.89\" y1=\"1430.62\" x2=\"1035.89\" y2=\"1446.62\" style=\"stroke:#ff0000; stroke-width:4; stroke-opacity:0.8\"/>\n",
              "<line clip-path=\"url(#clip0003)\" x1=\"1266.26\" y1=\"1430.62\" x2=\"1266.26\" y2=\"1446.62\" style=\"stroke:#ff0000; stroke-width:4; stroke-opacity:0.8\"/>\n",
              "<line clip-path=\"url(#clip0003)\" x1=\"1271.28\" y1=\"1430.62\" x2=\"1271.28\" y2=\"1446.62\" style=\"stroke:#ff0000; stroke-width:4; stroke-opacity:0.8\"/>\n",
              "<line clip-path=\"url(#clip0003)\" x1=\"1278.48\" y1=\"1430.62\" x2=\"1278.48\" y2=\"1446.62\" style=\"stroke:#ff0000; stroke-width:4; stroke-opacity:0.8\"/>\n",
              "<line clip-path=\"url(#clip0003)\" x1=\"1285.68\" y1=\"1430.62\" x2=\"1285.68\" y2=\"1446.62\" style=\"stroke:#ff0000; stroke-width:4; stroke-opacity:0.8\"/>\n",
              "<line clip-path=\"url(#clip0003)\" x1=\"1489.58\" y1=\"1430.62\" x2=\"1489.58\" y2=\"1446.62\" style=\"stroke:#ff0000; stroke-width:4; stroke-opacity:0.8\"/>\n",
              "<line clip-path=\"url(#clip0003)\" x1=\"1531.55\" y1=\"1430.62\" x2=\"1531.55\" y2=\"1446.62\" style=\"stroke:#ff0000; stroke-width:4; stroke-opacity:0.8\"/>\n",
              "<line clip-path=\"url(#clip0003)\" x1=\"2137.63\" y1=\"1430.62\" x2=\"2137.63\" y2=\"1446.62\" style=\"stroke:#ff0000; stroke-width:4; stroke-opacity:0.8\"/>\n",
              "<line clip-path=\"url(#clip0003)\" x1=\"888.292\" y1=\"1416.15\" x2=\"888.292\" y2=\"1432.15\" style=\"stroke:#ff0000; stroke-width:4; stroke-opacity:0.8\"/>\n",
              "<line clip-path=\"url(#clip0003)\" x1=\"1230.83\" y1=\"1416.15\" x2=\"1230.83\" y2=\"1432.15\" style=\"stroke:#ff0000; stroke-width:4; stroke-opacity:0.8\"/>\n",
              "<line clip-path=\"url(#clip0003)\" x1=\"1519.62\" y1=\"1416.15\" x2=\"1519.62\" y2=\"1432.15\" style=\"stroke:#ff0000; stroke-width:4; stroke-opacity:0.8\"/>\n",
              "<line clip-path=\"url(#clip0003)\" x1=\"1056.33\" y1=\"1401.68\" x2=\"1056.33\" y2=\"1417.68\" style=\"stroke:#ff0000; stroke-width:4; stroke-opacity:0.8\"/>\n",
              "<line clip-path=\"url(#clip0003)\" x1=\"1234.54\" y1=\"1401.68\" x2=\"1234.54\" y2=\"1417.68\" style=\"stroke:#ff0000; stroke-width:4; stroke-opacity:0.8\"/>\n",
              "<line clip-path=\"url(#clip0003)\" x1=\"1657.68\" y1=\"1401.68\" x2=\"1657.68\" y2=\"1417.68\" style=\"stroke:#ff0000; stroke-width:4; stroke-opacity:0.8\"/>\n",
              "<line clip-path=\"url(#clip0003)\" x1=\"2200.77\" y1=\"1401.68\" x2=\"2200.77\" y2=\"1417.68\" style=\"stroke:#ff0000; stroke-width:4; stroke-opacity:0.8\"/>\n",
              "<line clip-path=\"url(#clip0003)\" x1=\"746.301\" y1=\"1387.21\" x2=\"746.301\" y2=\"1403.21\" style=\"stroke:#ff0000; stroke-width:4; stroke-opacity:0.8\"/>\n",
              "<line clip-path=\"url(#clip0003)\" x1=\"814.605\" y1=\"1387.21\" x2=\"814.605\" y2=\"1403.21\" style=\"stroke:#ff0000; stroke-width:4; stroke-opacity:0.8\"/>\n",
              "<line clip-path=\"url(#clip0003)\" x1=\"922.99\" y1=\"1387.21\" x2=\"922.99\" y2=\"1403.21\" style=\"stroke:#ff0000; stroke-width:4; stroke-opacity:0.8\"/>\n",
              "<line clip-path=\"url(#clip0003)\" x1=\"1042.43\" y1=\"1387.21\" x2=\"1042.43\" y2=\"1403.21\" style=\"stroke:#ff0000; stroke-width:4; stroke-opacity:0.8\"/>\n",
              "<line clip-path=\"url(#clip0003)\" x1=\"1141.87\" y1=\"1387.21\" x2=\"1141.87\" y2=\"1403.21\" style=\"stroke:#ff0000; stroke-width:4; stroke-opacity:0.8\"/>\n",
              "<line clip-path=\"url(#clip0003)\" x1=\"1199.55\" y1=\"1387.21\" x2=\"1199.55\" y2=\"1403.21\" style=\"stroke:#ff0000; stroke-width:4; stroke-opacity:0.8\"/>\n",
              "<line clip-path=\"url(#clip0003)\" x1=\"1382.35\" y1=\"1387.21\" x2=\"1382.35\" y2=\"1403.21\" style=\"stroke:#ff0000; stroke-width:4; stroke-opacity:0.8\"/>\n",
              "<line clip-path=\"url(#clip0003)\" x1=\"362.807\" y1=\"1372.75\" x2=\"362.807\" y2=\"1388.75\" style=\"stroke:#ff0000; stroke-width:4; stroke-opacity:0.8\"/>\n",
              "<line clip-path=\"url(#clip0003)\" x1=\"963.653\" y1=\"1372.75\" x2=\"963.653\" y2=\"1388.75\" style=\"stroke:#ff0000; stroke-width:4; stroke-opacity:0.8\"/>\n",
              "<line clip-path=\"url(#clip0003)\" x1=\"1004.39\" y1=\"1372.75\" x2=\"1004.39\" y2=\"1388.75\" style=\"stroke:#ff0000; stroke-width:4; stroke-opacity:0.8\"/>\n",
              "<line clip-path=\"url(#clip0003)\" x1=\"1160.49\" y1=\"1372.75\" x2=\"1160.49\" y2=\"1388.75\" style=\"stroke:#ff0000; stroke-width:4; stroke-opacity:0.8\"/>\n",
              "<line clip-path=\"url(#clip0003)\" x1=\"1193.52\" y1=\"1372.75\" x2=\"1193.52\" y2=\"1388.75\" style=\"stroke:#ff0000; stroke-width:4; stroke-opacity:0.8\"/>\n",
              "<line clip-path=\"url(#clip0003)\" x1=\"1658.55\" y1=\"1372.75\" x2=\"1658.55\" y2=\"1388.75\" style=\"stroke:#ff0000; stroke-width:4; stroke-opacity:0.8\"/>\n",
              "<line clip-path=\"url(#clip0003)\" x1=\"1811.17\" y1=\"1372.75\" x2=\"1811.17\" y2=\"1388.75\" style=\"stroke:#ff0000; stroke-width:4; stroke-opacity:0.8\"/>\n",
              "<line clip-path=\"url(#clip0003)\" x1=\"290.574\" y1=\"1358.28\" x2=\"290.574\" y2=\"1374.28\" style=\"stroke:#ff0000; stroke-width:4; stroke-opacity:0.8\"/>\n",
              "<line clip-path=\"url(#clip0003)\" x1=\"321.78\" y1=\"1358.28\" x2=\"321.78\" y2=\"1374.28\" style=\"stroke:#ff0000; stroke-width:4; stroke-opacity:0.8\"/>\n",
              "<line clip-path=\"url(#clip0003)\" x1=\"1025.05\" y1=\"1358.28\" x2=\"1025.05\" y2=\"1374.28\" style=\"stroke:#ff0000; stroke-width:4; stroke-opacity:0.8\"/>\n",
              "<line clip-path=\"url(#clip0003)\" x1=\"1085.71\" y1=\"1358.28\" x2=\"1085.71\" y2=\"1374.28\" style=\"stroke:#ff0000; stroke-width:4; stroke-opacity:0.8\"/>\n",
              "<line clip-path=\"url(#clip0003)\" x1=\"1546.9\" y1=\"1358.28\" x2=\"1546.9\" y2=\"1374.28\" style=\"stroke:#ff0000; stroke-width:4; stroke-opacity:0.8\"/>\n",
              "<line clip-path=\"url(#clip0003)\" x1=\"1551.26\" y1=\"1358.28\" x2=\"1551.26\" y2=\"1374.28\" style=\"stroke:#ff0000; stroke-width:4; stroke-opacity:0.8\"/>\n",
              "<line clip-path=\"url(#clip0003)\" x1=\"1626.11\" y1=\"1358.28\" x2=\"1626.11\" y2=\"1374.28\" style=\"stroke:#ff0000; stroke-width:4; stroke-opacity:0.8\"/>\n",
              "<line clip-path=\"url(#clip0003)\" x1=\"1715.73\" y1=\"1358.28\" x2=\"1715.73\" y2=\"1374.28\" style=\"stroke:#ff0000; stroke-width:4; stroke-opacity:0.8\"/>\n",
              "<line clip-path=\"url(#clip0003)\" x1=\"664.248\" y1=\"1343.81\" x2=\"664.248\" y2=\"1359.81\" style=\"stroke:#ff0000; stroke-width:4; stroke-opacity:0.8\"/>\n",
              "<line clip-path=\"url(#clip0003)\" x1=\"669.049\" y1=\"1343.81\" x2=\"669.049\" y2=\"1359.81\" style=\"stroke:#ff0000; stroke-width:4; stroke-opacity:0.8\"/>\n",
              "<line clip-path=\"url(#clip0003)\" x1=\"673.486\" y1=\"1343.81\" x2=\"673.486\" y2=\"1359.81\" style=\"stroke:#ff0000; stroke-width:4; stroke-opacity:0.8\"/>\n",
              "<line clip-path=\"url(#clip0003)\" x1=\"986.275\" y1=\"1343.81\" x2=\"986.275\" y2=\"1359.81\" style=\"stroke:#ff0000; stroke-width:4; stroke-opacity:0.8\"/>\n",
              "<line clip-path=\"url(#clip0003)\" x1=\"993.404\" y1=\"1343.81\" x2=\"993.404\" y2=\"1359.81\" style=\"stroke:#ff0000; stroke-width:4; stroke-opacity:0.8\"/>\n",
              "<line clip-path=\"url(#clip0003)\" x1=\"1032.18\" y1=\"1343.81\" x2=\"1032.18\" y2=\"1359.81\" style=\"stroke:#ff0000; stroke-width:4; stroke-opacity:0.8\"/>\n",
              "<line clip-path=\"url(#clip0003)\" x1=\"1277.31\" y1=\"1343.81\" x2=\"1277.31\" y2=\"1359.81\" style=\"stroke:#ff0000; stroke-width:4; stroke-opacity:0.8\"/>\n",
              "<line clip-path=\"url(#clip0003)\" x1=\"1518.24\" y1=\"1343.81\" x2=\"1518.24\" y2=\"1359.81\" style=\"stroke:#ff0000; stroke-width:4; stroke-opacity:0.8\"/>\n",
              "<line clip-path=\"url(#clip0003)\" x1=\"1540.13\" y1=\"1343.81\" x2=\"1540.13\" y2=\"1359.81\" style=\"stroke:#ff0000; stroke-width:4; stroke-opacity:0.8\"/>\n",
              "<line clip-path=\"url(#clip0003)\" x1=\"1626.33\" y1=\"1343.81\" x2=\"1626.33\" y2=\"1359.81\" style=\"stroke:#ff0000; stroke-width:4; stroke-opacity:0.8\"/>\n",
              "<line clip-path=\"url(#clip0003)\" x1=\"661.775\" y1=\"1329.34\" x2=\"661.775\" y2=\"1345.34\" style=\"stroke:#ff0000; stroke-width:4; stroke-opacity:0.8\"/>\n",
              "<line clip-path=\"url(#clip0003)\" x1=\"729.788\" y1=\"1329.34\" x2=\"729.788\" y2=\"1345.34\" style=\"stroke:#ff0000; stroke-width:4; stroke-opacity:0.8\"/>\n",
              "<line clip-path=\"url(#clip0003)\" x1=\"741.427\" y1=\"1329.34\" x2=\"741.427\" y2=\"1345.34\" style=\"stroke:#ff0000; stroke-width:4; stroke-opacity:0.8\"/>\n",
              "<line clip-path=\"url(#clip0003)\" x1=\"920.953\" y1=\"1329.34\" x2=\"920.953\" y2=\"1345.34\" style=\"stroke:#ff0000; stroke-width:4; stroke-opacity:0.8\"/>\n",
              "<line clip-path=\"url(#clip0003)\" x1=\"1141.14\" y1=\"1329.34\" x2=\"1141.14\" y2=\"1345.34\" style=\"stroke:#ff0000; stroke-width:4; stroke-opacity:0.8\"/>\n",
              "<line clip-path=\"url(#clip0003)\" x1=\"1341.33\" y1=\"1329.34\" x2=\"1341.33\" y2=\"1345.34\" style=\"stroke:#ff0000; stroke-width:4; stroke-opacity:0.8\"/>\n",
              "<line clip-path=\"url(#clip0003)\" x1=\"1391.16\" y1=\"1329.34\" x2=\"1391.16\" y2=\"1345.34\" style=\"stroke:#ff0000; stroke-width:4; stroke-opacity:0.8\"/>\n",
              "<line clip-path=\"url(#clip0003)\" x1=\"1411.74\" y1=\"1329.34\" x2=\"1411.74\" y2=\"1345.34\" style=\"stroke:#ff0000; stroke-width:4; stroke-opacity:0.8\"/>\n",
              "<line clip-path=\"url(#clip0003)\" x1=\"1672.16\" y1=\"1329.34\" x2=\"1672.16\" y2=\"1345.34\" style=\"stroke:#ff0000; stroke-width:4; stroke-opacity:0.8\"/>\n",
              "<line clip-path=\"url(#clip0003)\" x1=\"1680.01\" y1=\"1329.34\" x2=\"1680.01\" y2=\"1345.34\" style=\"stroke:#ff0000; stroke-width:4; stroke-opacity:0.8\"/>\n",
              "<line clip-path=\"url(#clip0003)\" x1=\"811.477\" y1=\"1314.88\" x2=\"811.477\" y2=\"1330.88\" style=\"stroke:#ff0000; stroke-width:4; stroke-opacity:0.8\"/>\n",
              "<line clip-path=\"url(#clip0003)\" x1=\"935.72\" y1=\"1314.88\" x2=\"935.72\" y2=\"1330.88\" style=\"stroke:#ff0000; stroke-width:4; stroke-opacity:0.8\"/>\n",
              "<line clip-path=\"url(#clip0003)\" x1=\"970.854\" y1=\"1314.88\" x2=\"970.854\" y2=\"1330.88\" style=\"stroke:#ff0000; stroke-width:4; stroke-opacity:0.8\"/>\n",
              "<line clip-path=\"url(#clip0003)\" x1=\"1188.21\" y1=\"1314.88\" x2=\"1188.21\" y2=\"1330.88\" style=\"stroke:#ff0000; stroke-width:4; stroke-opacity:0.8\"/>\n",
              "<line clip-path=\"url(#clip0003)\" x1=\"1450.66\" y1=\"1314.88\" x2=\"1450.66\" y2=\"1330.88\" style=\"stroke:#ff0000; stroke-width:4; stroke-opacity:0.8\"/>\n",
              "<line clip-path=\"url(#clip0003)\" x1=\"1830.01\" y1=\"1314.88\" x2=\"1830.01\" y2=\"1330.88\" style=\"stroke:#ff0000; stroke-width:4; stroke-opacity:0.8\"/>\n",
              "<line clip-path=\"url(#clip0003)\" x1=\"717.35\" y1=\"1300.41\" x2=\"717.35\" y2=\"1316.41\" style=\"stroke:#ff0000; stroke-width:4; stroke-opacity:0.8\"/>\n",
              "<line clip-path=\"url(#clip0003)\" x1=\"1219.49\" y1=\"1300.41\" x2=\"1219.49\" y2=\"1316.41\" style=\"stroke:#ff0000; stroke-width:4; stroke-opacity:0.8\"/>\n",
              "<line clip-path=\"url(#clip0003)\" x1=\"1303.79\" y1=\"1300.41\" x2=\"1303.79\" y2=\"1316.41\" style=\"stroke:#ff0000; stroke-width:4; stroke-opacity:0.8\"/>\n",
              "<line clip-path=\"url(#clip0003)\" x1=\"1543.62\" y1=\"1300.41\" x2=\"1543.62\" y2=\"1316.41\" style=\"stroke:#ff0000; stroke-width:4; stroke-opacity:0.8\"/>\n",
              "<line clip-path=\"url(#clip0003)\" x1=\"2386.33\" y1=\"1300.41\" x2=\"2386.33\" y2=\"1316.41\" style=\"stroke:#ff0000; stroke-width:4; stroke-opacity:0.8\"/>\n",
              "<line clip-path=\"url(#clip0003)\" x1=\"2439.73\" y1=\"1300.41\" x2=\"2439.73\" y2=\"1316.41\" style=\"stroke:#ff0000; stroke-width:4; stroke-opacity:0.8\"/>\n",
              "<line clip-path=\"url(#clip0003)\" x1=\"570.921\" y1=\"1285.94\" x2=\"570.921\" y2=\"1301.94\" style=\"stroke:#ff0000; stroke-width:4; stroke-opacity:0.8\"/>\n",
              "<line clip-path=\"url(#clip0003)\" x1=\"808.64\" y1=\"1285.94\" x2=\"808.64\" y2=\"1301.94\" style=\"stroke:#ff0000; stroke-width:4; stroke-opacity:0.8\"/>\n",
              "<line clip-path=\"url(#clip0003)\" x1=\"949.323\" y1=\"1285.94\" x2=\"949.323\" y2=\"1301.94\" style=\"stroke:#ff0000; stroke-width:4; stroke-opacity:0.8\"/>\n",
              "<line clip-path=\"url(#clip0003)\" x1=\"998.132\" y1=\"1285.94\" x2=\"998.132\" y2=\"1301.94\" style=\"stroke:#ff0000; stroke-width:4; stroke-opacity:0.8\"/>\n",
              "<line clip-path=\"url(#clip0003)\" x1=\"1119.61\" y1=\"1285.94\" x2=\"1119.61\" y2=\"1301.94\" style=\"stroke:#ff0000; stroke-width:4; stroke-opacity:0.8\"/>\n",
              "<line clip-path=\"url(#clip0003)\" x1=\"1252.95\" y1=\"1285.94\" x2=\"1252.95\" y2=\"1301.94\" style=\"stroke:#ff0000; stroke-width:4; stroke-opacity:0.8\"/>\n",
              "<line clip-path=\"url(#clip0003)\" x1=\"1373.19\" y1=\"1285.94\" x2=\"1373.19\" y2=\"1301.94\" style=\"stroke:#ff0000; stroke-width:4; stroke-opacity:0.8\"/>\n",
              "<line clip-path=\"url(#clip0003)\" x1=\"1514.02\" y1=\"1285.94\" x2=\"1514.02\" y2=\"1301.94\" style=\"stroke:#ff0000; stroke-width:4; stroke-opacity:0.8\"/>\n",
              "<line clip-path=\"url(#clip0003)\" x1=\"398.959\" y1=\"1271.47\" x2=\"398.959\" y2=\"1287.47\" style=\"stroke:#ff0000; stroke-width:4; stroke-opacity:0.8\"/>\n",
              "<line clip-path=\"url(#clip0003)\" x1=\"654.355\" y1=\"1271.47\" x2=\"654.355\" y2=\"1287.47\" style=\"stroke:#ff0000; stroke-width:4; stroke-opacity:0.8\"/>\n",
              "<line clip-path=\"url(#clip0003)\" x1=\"703.31\" y1=\"1271.47\" x2=\"703.31\" y2=\"1287.47\" style=\"stroke:#ff0000; stroke-width:4; stroke-opacity:0.8\"/>\n",
              "<line clip-path=\"url(#clip0003)\" x1=\"734.007\" y1=\"1271.47\" x2=\"734.007\" y2=\"1287.47\" style=\"stroke:#ff0000; stroke-width:4; stroke-opacity:0.8\"/>\n",
              "<line clip-path=\"url(#clip0003)\" x1=\"823.189\" y1=\"1271.47\" x2=\"823.189\" y2=\"1287.47\" style=\"stroke:#ff0000; stroke-width:4; stroke-opacity:0.8\"/>\n",
              "<line clip-path=\"url(#clip0003)\" x1=\"1062\" y1=\"1271.47\" x2=\"1062\" y2=\"1287.47\" style=\"stroke:#ff0000; stroke-width:4; stroke-opacity:0.8\"/>\n",
              "<line clip-path=\"url(#clip0003)\" x1=\"1159.4\" y1=\"1271.47\" x2=\"1159.4\" y2=\"1287.47\" style=\"stroke:#ff0000; stroke-width:4; stroke-opacity:0.8\"/>\n",
              "<line clip-path=\"url(#clip0003)\" x1=\"1211.48\" y1=\"1271.47\" x2=\"1211.48\" y2=\"1287.47\" style=\"stroke:#ff0000; stroke-width:4; stroke-opacity:0.8\"/>\n",
              "<line clip-path=\"url(#clip0003)\" x1=\"1398.21\" y1=\"1271.47\" x2=\"1398.21\" y2=\"1287.47\" style=\"stroke:#ff0000; stroke-width:4; stroke-opacity:0.8\"/>\n",
              "<line clip-path=\"url(#clip0003)\" x1=\"1430.58\" y1=\"1271.47\" x2=\"1430.58\" y2=\"1287.47\" style=\"stroke:#ff0000; stroke-width:4; stroke-opacity:0.8\"/>\n",
              "<line clip-path=\"url(#clip0003)\" x1=\"1434.58\" y1=\"1271.47\" x2=\"1434.58\" y2=\"1287.47\" style=\"stroke:#ff0000; stroke-width:4; stroke-opacity:0.8\"/>\n",
              "<line clip-path=\"url(#clip0003)\" x1=\"1632.73\" y1=\"1271.47\" x2=\"1632.73\" y2=\"1287.47\" style=\"stroke:#ff0000; stroke-width:4; stroke-opacity:0.8\"/>\n",
              "<line clip-path=\"url(#clip0003)\" x1=\"1646.55\" y1=\"1271.47\" x2=\"1646.55\" y2=\"1287.47\" style=\"stroke:#ff0000; stroke-width:4; stroke-opacity:0.8\"/>\n",
              "<line clip-path=\"url(#clip0003)\" x1=\"653.773\" y1=\"1257.01\" x2=\"653.773\" y2=\"1273.01\" style=\"stroke:#ff0000; stroke-width:4; stroke-opacity:0.8\"/>\n",
              "<line clip-path=\"url(#clip0003)\" x1=\"1105.28\" y1=\"1257.01\" x2=\"1105.28\" y2=\"1273.01\" style=\"stroke:#ff0000; stroke-width:4; stroke-opacity:0.8\"/>\n",
              "<line clip-path=\"url(#clip0003)\" x1=\"1300.66\" y1=\"1257.01\" x2=\"1300.66\" y2=\"1273.01\" style=\"stroke:#ff0000; stroke-width:4; stroke-opacity:0.8\"/>\n",
              "<line clip-path=\"url(#clip0003)\" x1=\"1316.01\" y1=\"1257.01\" x2=\"1316.01\" y2=\"1273.01\" style=\"stroke:#ff0000; stroke-width:4; stroke-opacity:0.8\"/>\n",
              "<line clip-path=\"url(#clip0003)\" x1=\"1492.19\" y1=\"1257.01\" x2=\"1492.19\" y2=\"1273.01\" style=\"stroke:#ff0000; stroke-width:4; stroke-opacity:0.8\"/>\n",
              "<line clip-path=\"url(#clip0003)\" x1=\"1781.49\" y1=\"1257.01\" x2=\"1781.49\" y2=\"1273.01\" style=\"stroke:#ff0000; stroke-width:4; stroke-opacity:0.8\"/>\n",
              "<line clip-path=\"url(#clip0003)\" x1=\"675.45\" y1=\"1242.54\" x2=\"675.45\" y2=\"1258.54\" style=\"stroke:#ff0000; stroke-width:4; stroke-opacity:0.8\"/>\n",
              "<line clip-path=\"url(#clip0003)\" x1=\"795.474\" y1=\"1242.54\" x2=\"795.474\" y2=\"1258.54\" style=\"stroke:#ff0000; stroke-width:4; stroke-opacity:0.8\"/>\n",
              "<line clip-path=\"url(#clip0003)\" x1=\"881.236\" y1=\"1242.54\" x2=\"881.236\" y2=\"1258.54\" style=\"stroke:#ff0000; stroke-width:4; stroke-opacity:0.8\"/>\n",
              "<line clip-path=\"url(#clip0003)\" x1=\"894.33\" y1=\"1242.54\" x2=\"894.33\" y2=\"1258.54\" style=\"stroke:#ff0000; stroke-width:4; stroke-opacity:0.8\"/>\n",
              "<line clip-path=\"url(#clip0003)\" x1=\"928.737\" y1=\"1242.54\" x2=\"928.737\" y2=\"1258.54\" style=\"stroke:#ff0000; stroke-width:4; stroke-opacity:0.8\"/>\n",
              "<line clip-path=\"url(#clip0003)\" x1=\"990.204\" y1=\"1242.54\" x2=\"990.204\" y2=\"1258.54\" style=\"stroke:#ff0000; stroke-width:4; stroke-opacity:0.8\"/>\n",
              "<line clip-path=\"url(#clip0003)\" x1=\"1050.29\" y1=\"1242.54\" x2=\"1050.29\" y2=\"1258.54\" style=\"stroke:#ff0000; stroke-width:4; stroke-opacity:0.8\"/>\n",
              "<line clip-path=\"url(#clip0003)\" x1=\"1573.45\" y1=\"1242.54\" x2=\"1573.45\" y2=\"1258.54\" style=\"stroke:#ff0000; stroke-width:4; stroke-opacity:0.8\"/>\n",
              "<line clip-path=\"url(#clip0003)\" x1=\"1604.65\" y1=\"1242.54\" x2=\"1604.65\" y2=\"1258.54\" style=\"stroke:#ff0000; stroke-width:4; stroke-opacity:0.8\"/>\n",
              "<line clip-path=\"url(#clip0003)\" x1=\"1786.07\" y1=\"1242.54\" x2=\"1786.07\" y2=\"1258.54\" style=\"stroke:#ff0000; stroke-width:4; stroke-opacity:0.8\"/>\n",
              "<line clip-path=\"url(#clip0003)\" x1=\"2435.14\" y1=\"1242.54\" x2=\"2435.14\" y2=\"1258.54\" style=\"stroke:#ff0000; stroke-width:4; stroke-opacity:0.8\"/>\n",
              "<line clip-path=\"url(#clip0003)\" x1=\"2449.84\" y1=\"1242.54\" x2=\"2449.84\" y2=\"1258.54\" style=\"stroke:#ff0000; stroke-width:4; stroke-opacity:0.8\"/>\n",
              "<line clip-path=\"url(#clip0003)\" x1=\"1725.11\" y1=\"1228.07\" x2=\"1725.11\" y2=\"1244.07\" style=\"stroke:#ff0000; stroke-width:4; stroke-opacity:0.8\"/>\n",
              "<line clip-path=\"url(#clip0003)\" x1=\"338.584\" y1=\"1213.6\" x2=\"338.584\" y2=\"1229.6\" style=\"stroke:#ff0000; stroke-width:4; stroke-opacity:0.8\"/>\n",
              "<line clip-path=\"url(#clip0003)\" x1=\"1476.7\" y1=\"1213.6\" x2=\"1476.7\" y2=\"1229.6\" style=\"stroke:#ff0000; stroke-width:4; stroke-opacity:0.8\"/>\n",
              "<line clip-path=\"url(#clip0003)\" x1=\"1760.97\" y1=\"1213.6\" x2=\"1760.97\" y2=\"1229.6\" style=\"stroke:#ff0000; stroke-width:4; stroke-opacity:0.8\"/>\n",
              "<line clip-path=\"url(#clip0003)\" x1=\"1081.13\" y1=\"1199.14\" x2=\"1081.13\" y2=\"1215.14\" style=\"stroke:#ff0000; stroke-width:4; stroke-opacity:0.8\"/>\n",
              "<line clip-path=\"url(#clip0003)\" x1=\"1085.13\" y1=\"1199.14\" x2=\"1085.13\" y2=\"1215.14\" style=\"stroke:#ff0000; stroke-width:4; stroke-opacity:0.8\"/>\n",
              "<line clip-path=\"url(#clip0003)\" x1=\"2186.59\" y1=\"1199.14\" x2=\"2186.59\" y2=\"1215.14\" style=\"stroke:#ff0000; stroke-width:4; stroke-opacity:0.8\"/>\n",
              "<line clip-path=\"url(#clip0003)\" x1=\"2228.92\" y1=\"1199.14\" x2=\"2228.92\" y2=\"1215.14\" style=\"stroke:#ff0000; stroke-width:4; stroke-opacity:0.8\"/>\n",
              "<line clip-path=\"url(#clip0003)\" x1=\"507.854\" y1=\"1184.67\" x2=\"507.854\" y2=\"1200.67\" style=\"stroke:#ff0000; stroke-width:4; stroke-opacity:0.8\"/>\n",
              "<line clip-path=\"url(#clip0003)\" x1=\"726.733\" y1=\"1184.67\" x2=\"726.733\" y2=\"1200.67\" style=\"stroke:#ff0000; stroke-width:4; stroke-opacity:0.8\"/>\n",
              "<line clip-path=\"url(#clip0003)\" x1=\"897.603\" y1=\"1184.67\" x2=\"897.603\" y2=\"1200.67\" style=\"stroke:#ff0000; stroke-width:4; stroke-opacity:0.8\"/>\n",
              "<line clip-path=\"url(#clip0003)\" x1=\"924.736\" y1=\"1184.67\" x2=\"924.736\" y2=\"1200.67\" style=\"stroke:#ff0000; stroke-width:4; stroke-opacity:0.8\"/>\n",
              "<line clip-path=\"url(#clip0003)\" x1=\"1004.39\" y1=\"1184.67\" x2=\"1004.39\" y2=\"1200.67\" style=\"stroke:#ff0000; stroke-width:4; stroke-opacity:0.8\"/>\n",
              "<line clip-path=\"url(#clip0003)\" x1=\"1163.18\" y1=\"1184.67\" x2=\"1163.18\" y2=\"1200.67\" style=\"stroke:#ff0000; stroke-width:4; stroke-opacity:0.8\"/>\n",
              "<line clip-path=\"url(#clip0003)\" x1=\"1171.33\" y1=\"1184.67\" x2=\"1171.33\" y2=\"1200.67\" style=\"stroke:#ff0000; stroke-width:4; stroke-opacity:0.8\"/>\n",
              "<line clip-path=\"url(#clip0003)\" x1=\"1261.68\" y1=\"1184.67\" x2=\"1261.68\" y2=\"1200.67\" style=\"stroke:#ff0000; stroke-width:4; stroke-opacity:0.8\"/>\n",
              "<line clip-path=\"url(#clip0003)\" x1=\"1282.19\" y1=\"1184.67\" x2=\"1282.19\" y2=\"1200.67\" style=\"stroke:#ff0000; stroke-width:4; stroke-opacity:0.8\"/>\n",
              "<line clip-path=\"url(#clip0003)\" x1=\"1394.87\" y1=\"1184.67\" x2=\"1394.87\" y2=\"1200.67\" style=\"stroke:#ff0000; stroke-width:4; stroke-opacity:0.8\"/>\n",
              "<line clip-path=\"url(#clip0003)\" x1=\"1615.78\" y1=\"1184.67\" x2=\"1615.78\" y2=\"1200.67\" style=\"stroke:#ff0000; stroke-width:4; stroke-opacity:0.8\"/>\n",
              "<line clip-path=\"url(#clip0003)\" x1=\"1637.6\" y1=\"1184.67\" x2=\"1637.6\" y2=\"1200.67\" style=\"stroke:#ff0000; stroke-width:4; stroke-opacity:0.8\"/>\n",
              "<line clip-path=\"url(#clip0003)\" x1=\"1684.45\" y1=\"1184.67\" x2=\"1684.45\" y2=\"1200.67\" style=\"stroke:#ff0000; stroke-width:4; stroke-opacity:0.8\"/>\n",
              "<line clip-path=\"url(#clip0003)\" x1=\"1071.6\" y1=\"1170.2\" x2=\"1071.6\" y2=\"1186.2\" style=\"stroke:#ff0000; stroke-width:4; stroke-opacity:0.8\"/>\n",
              "<line clip-path=\"url(#clip0003)\" x1=\"1561.66\" y1=\"1170.2\" x2=\"1561.66\" y2=\"1186.2\" style=\"stroke:#ff0000; stroke-width:4; stroke-opacity:0.8\"/>\n",
              "<line clip-path=\"url(#clip0003)\" x1=\"1670.34\" y1=\"1170.2\" x2=\"1670.34\" y2=\"1186.2\" style=\"stroke:#ff0000; stroke-width:4; stroke-opacity:0.8\"/>\n",
              "<line clip-path=\"url(#clip0003)\" x1=\"667.958\" y1=\"1155.73\" x2=\"667.958\" y2=\"1171.73\" style=\"stroke:#ff0000; stroke-width:4; stroke-opacity:0.8\"/>\n",
              "<line clip-path=\"url(#clip0003)\" x1=\"699.964\" y1=\"1155.73\" x2=\"699.964\" y2=\"1171.73\" style=\"stroke:#ff0000; stroke-width:4; stroke-opacity:0.8\"/>\n",
              "<line clip-path=\"url(#clip0003)\" x1=\"809.295\" y1=\"1155.73\" x2=\"809.295\" y2=\"1171.73\" style=\"stroke:#ff0000; stroke-width:4; stroke-opacity:0.8\"/>\n",
              "<line clip-path=\"url(#clip0003)\" x1=\"922.772\" y1=\"1155.73\" x2=\"922.772\" y2=\"1171.73\" style=\"stroke:#ff0000; stroke-width:4; stroke-opacity:0.8\"/>\n",
              "<line clip-path=\"url(#clip0003)\" x1=\"1052.98\" y1=\"1155.73\" x2=\"1052.98\" y2=\"1171.73\" style=\"stroke:#ff0000; stroke-width:4; stroke-opacity:0.8\"/>\n",
              "<line clip-path=\"url(#clip0003)\" x1=\"1321.83\" y1=\"1155.73\" x2=\"1321.83\" y2=\"1171.73\" style=\"stroke:#ff0000; stroke-width:4; stroke-opacity:0.8\"/>\n",
              "<line clip-path=\"url(#clip0003)\" x1=\"1385.55\" y1=\"1155.73\" x2=\"1385.55\" y2=\"1171.73\" style=\"stroke:#ff0000; stroke-width:4; stroke-opacity:0.8\"/>\n",
              "<line clip-path=\"url(#clip0003)\" x1=\"1531.91\" y1=\"1155.73\" x2=\"1531.91\" y2=\"1171.73\" style=\"stroke:#ff0000; stroke-width:4; stroke-opacity:0.8\"/>\n",
              "<line clip-path=\"url(#clip0003)\" x1=\"1599.71\" y1=\"1155.73\" x2=\"1599.71\" y2=\"1171.73\" style=\"stroke:#ff0000; stroke-width:4; stroke-opacity:0.8\"/>\n",
              "<line clip-path=\"url(#clip0003)\" x1=\"1674.41\" y1=\"1155.73\" x2=\"1674.41\" y2=\"1171.73\" style=\"stroke:#ff0000; stroke-width:4; stroke-opacity:0.8\"/>\n",
              "<line clip-path=\"url(#clip0003)\" x1=\"2141.05\" y1=\"1155.73\" x2=\"2141.05\" y2=\"1171.73\" style=\"stroke:#ff0000; stroke-width:4; stroke-opacity:0.8\"/>\n",
              "<line clip-path=\"url(#clip0003)\" x1=\"2152.91\" y1=\"1155.73\" x2=\"2152.91\" y2=\"1171.73\" style=\"stroke:#ff0000; stroke-width:4; stroke-opacity:0.8\"/>\n",
              "<line clip-path=\"url(#clip0003)\" x1=\"668.904\" y1=\"1141.27\" x2=\"668.904\" y2=\"1157.27\" style=\"stroke:#ff0000; stroke-width:4; stroke-opacity:0.8\"/>\n",
              "<line clip-path=\"url(#clip0003)\" x1=\"805.803\" y1=\"1141.27\" x2=\"805.803\" y2=\"1157.27\" style=\"stroke:#ff0000; stroke-width:4; stroke-opacity:0.8\"/>\n",
              "<line clip-path=\"url(#clip0003)\" x1=\"876.072\" y1=\"1141.27\" x2=\"876.072\" y2=\"1157.27\" style=\"stroke:#ff0000; stroke-width:4; stroke-opacity:0.8\"/>\n",
              "<line clip-path=\"url(#clip0003)\" x1=\"990.204\" y1=\"1141.27\" x2=\"990.204\" y2=\"1157.27\" style=\"stroke:#ff0000; stroke-width:4; stroke-opacity:0.8\"/>\n",
              "<line clip-path=\"url(#clip0003)\" x1=\"1054.07\" y1=\"1141.27\" x2=\"1054.07\" y2=\"1157.27\" style=\"stroke:#ff0000; stroke-width:4; stroke-opacity:0.8\"/>\n",
              "<line clip-path=\"url(#clip0003)\" x1=\"1352.89\" y1=\"1141.27\" x2=\"1352.89\" y2=\"1157.27\" style=\"stroke:#ff0000; stroke-width:4; stroke-opacity:0.8\"/>\n",
              "<line clip-path=\"url(#clip0003)\" x1=\"1492.99\" y1=\"1141.27\" x2=\"1492.99\" y2=\"1157.27\" style=\"stroke:#ff0000; stroke-width:4; stroke-opacity:0.8\"/>\n",
              "<line clip-path=\"url(#clip0003)\" x1=\"1654.12\" y1=\"1141.27\" x2=\"1654.12\" y2=\"1157.27\" style=\"stroke:#ff0000; stroke-width:4; stroke-opacity:0.8\"/>\n",
              "<line clip-path=\"url(#clip0003)\" x1=\"1661.25\" y1=\"1141.27\" x2=\"1661.25\" y2=\"1157.27\" style=\"stroke:#ff0000; stroke-width:4; stroke-opacity:0.8\"/>\n",
              "<line clip-path=\"url(#clip0003)\" x1=\"1485.87\" y1=\"1126.8\" x2=\"1485.87\" y2=\"1142.8\" style=\"stroke:#ff0000; stroke-width:4; stroke-opacity:0.8\"/>\n",
              "<line clip-path=\"url(#clip0003)\" x1=\"879.272\" y1=\"1112.33\" x2=\"879.272\" y2=\"1128.33\" style=\"stroke:#ff0000; stroke-width:4; stroke-opacity:0.8\"/>\n",
              "<line clip-path=\"url(#clip0003)\" x1=\"907.496\" y1=\"1112.33\" x2=\"907.496\" y2=\"1128.33\" style=\"stroke:#ff0000; stroke-width:4; stroke-opacity:0.8\"/>\n",
              "<line clip-path=\"url(#clip0003)\" x1=\"925.245\" y1=\"1112.33\" x2=\"925.245\" y2=\"1128.33\" style=\"stroke:#ff0000; stroke-width:4; stroke-opacity:0.8\"/>\n",
              "<line clip-path=\"url(#clip0003)\" x1=\"1196.35\" y1=\"1112.33\" x2=\"1196.35\" y2=\"1128.33\" style=\"stroke:#ff0000; stroke-width:4; stroke-opacity:0.8\"/>\n",
              "<line clip-path=\"url(#clip0003)\" x1=\"1264.95\" y1=\"1112.33\" x2=\"1264.95\" y2=\"1128.33\" style=\"stroke:#ff0000; stroke-width:4; stroke-opacity:0.8\"/>\n",
              "<line clip-path=\"url(#clip0003)\" x1=\"1730.86\" y1=\"1112.33\" x2=\"1730.86\" y2=\"1128.33\" style=\"stroke:#ff0000; stroke-width:4; stroke-opacity:0.8\"/>\n",
              "<line clip-path=\"url(#clip0003)\" x1=\"2101.55\" y1=\"1112.33\" x2=\"2101.55\" y2=\"1128.33\" style=\"stroke:#ff0000; stroke-width:4; stroke-opacity:0.8\"/>\n",
              "<line clip-path=\"url(#clip0003)\" x1=\"2331.34\" y1=\"1112.33\" x2=\"2331.34\" y2=\"1128.33\" style=\"stroke:#ff0000; stroke-width:4; stroke-opacity:0.8\"/>\n",
              "<line clip-path=\"url(#clip0003)\" x1=\"665.703\" y1=\"1097.86\" x2=\"665.703\" y2=\"1113.86\" style=\"stroke:#ff0000; stroke-width:4; stroke-opacity:0.8\"/>\n",
              "<line clip-path=\"url(#clip0003)\" x1=\"669.486\" y1=\"1097.86\" x2=\"669.486\" y2=\"1113.86\" style=\"stroke:#ff0000; stroke-width:4; stroke-opacity:0.8\"/>\n",
              "<line clip-path=\"url(#clip0003)\" x1=\"707.675\" y1=\"1097.86\" x2=\"707.675\" y2=\"1113.86\" style=\"stroke:#ff0000; stroke-width:4; stroke-opacity:0.8\"/>\n",
              "<line clip-path=\"url(#clip0003)\" x1=\"868.361\" y1=\"1097.86\" x2=\"868.361\" y2=\"1113.86\" style=\"stroke:#ff0000; stroke-width:4; stroke-opacity:0.8\"/>\n",
              "<line clip-path=\"url(#clip0003)\" x1=\"1030.28\" y1=\"1097.86\" x2=\"1030.28\" y2=\"1113.86\" style=\"stroke:#ff0000; stroke-width:4; stroke-opacity:0.8\"/>\n",
              "<line clip-path=\"url(#clip0003)\" x1=\"1055.82\" y1=\"1097.86\" x2=\"1055.82\" y2=\"1113.86\" style=\"stroke:#ff0000; stroke-width:4; stroke-opacity:0.8\"/>\n",
              "<line clip-path=\"url(#clip0003)\" x1=\"1233.74\" y1=\"1097.86\" x2=\"1233.74\" y2=\"1113.86\" style=\"stroke:#ff0000; stroke-width:4; stroke-opacity:0.8\"/>\n",
              "<line clip-path=\"url(#clip0003)\" x1=\"1402.07\" y1=\"1097.86\" x2=\"1402.07\" y2=\"1113.86\" style=\"stroke:#ff0000; stroke-width:4; stroke-opacity:0.8\"/>\n",
              "<line clip-path=\"url(#clip0003)\" x1=\"1502.6\" y1=\"1097.86\" x2=\"1502.6\" y2=\"1113.86\" style=\"stroke:#ff0000; stroke-width:4; stroke-opacity:0.8\"/>\n",
              "<line clip-path=\"url(#clip0003)\" x1=\"1516.05\" y1=\"1097.86\" x2=\"1516.05\" y2=\"1113.86\" style=\"stroke:#ff0000; stroke-width:4; stroke-opacity:0.8\"/>\n",
              "<line clip-path=\"url(#clip0003)\" x1=\"2209.57\" y1=\"1097.86\" x2=\"2209.57\" y2=\"1113.86\" style=\"stroke:#ff0000; stroke-width:4; stroke-opacity:0.8\"/>\n",
              "<line clip-path=\"url(#clip0003)\" x1=\"2239.4\" y1=\"1097.86\" x2=\"2239.4\" y2=\"1113.86\" style=\"stroke:#ff0000; stroke-width:4; stroke-opacity:0.8\"/>\n",
              "<line clip-path=\"url(#clip0003)\" x1=\"866.106\" y1=\"1083.4\" x2=\"866.106\" y2=\"1099.4\" style=\"stroke:#ff0000; stroke-width:4; stroke-opacity:0.8\"/>\n",
              "<line clip-path=\"url(#clip0003)\" x1=\"871.78\" y1=\"1083.4\" x2=\"871.78\" y2=\"1099.4\" style=\"stroke:#ff0000; stroke-width:4; stroke-opacity:0.8\"/>\n",
              "<line clip-path=\"url(#clip0003)\" x1=\"1077.86\" y1=\"1083.4\" x2=\"1077.86\" y2=\"1099.4\" style=\"stroke:#ff0000; stroke-width:4; stroke-opacity:0.8\"/>\n",
              "<line clip-path=\"url(#clip0003)\" x1=\"1091.53\" y1=\"1083.4\" x2=\"1091.53\" y2=\"1099.4\" style=\"stroke:#ff0000; stroke-width:4; stroke-opacity:0.8\"/>\n",
              "<line clip-path=\"url(#clip0003)\" x1=\"1293.75\" y1=\"1083.4\" x2=\"1293.75\" y2=\"1099.4\" style=\"stroke:#ff0000; stroke-width:4; stroke-opacity:0.8\"/>\n",
              "<line clip-path=\"url(#clip0003)\" x1=\"1527.47\" y1=\"1083.4\" x2=\"1527.47\" y2=\"1099.4\" style=\"stroke:#ff0000; stroke-width:4; stroke-opacity:0.8\"/>\n",
              "<line clip-path=\"url(#clip0003)\" x1=\"613.111\" y1=\"1068.93\" x2=\"613.111\" y2=\"1084.93\" style=\"stroke:#ff0000; stroke-width:4; stroke-opacity:0.8\"/>\n",
              "<line clip-path=\"url(#clip0003)\" x1=\"672.395\" y1=\"1068.93\" x2=\"672.395\" y2=\"1084.93\" style=\"stroke:#ff0000; stroke-width:4; stroke-opacity:0.8\"/>\n",
              "<line clip-path=\"url(#clip0003)\" x1=\"976.892\" y1=\"1068.93\" x2=\"976.892\" y2=\"1084.93\" style=\"stroke:#ff0000; stroke-width:4; stroke-opacity:0.8\"/>\n",
              "<line clip-path=\"url(#clip0003)\" x1=\"1065.42\" y1=\"1068.93\" x2=\"1065.42\" y2=\"1084.93\" style=\"stroke:#ff0000; stroke-width:4; stroke-opacity:0.8\"/>\n",
              "<line clip-path=\"url(#clip0003)\" x1=\"1163.69\" y1=\"1068.93\" x2=\"1163.69\" y2=\"1084.93\" style=\"stroke:#ff0000; stroke-width:4; stroke-opacity:0.8\"/>\n",
              "<line clip-path=\"url(#clip0003)\" x1=\"1191.77\" y1=\"1068.93\" x2=\"1191.77\" y2=\"1084.93\" style=\"stroke:#ff0000; stroke-width:4; stroke-opacity:0.8\"/>\n",
              "<line clip-path=\"url(#clip0003)\" x1=\"1852.41\" y1=\"1068.93\" x2=\"1852.41\" y2=\"1084.93\" style=\"stroke:#ff0000; stroke-width:4; stroke-opacity:0.8\"/>\n",
              "<line clip-path=\"url(#clip0003)\" x1=\"2382.62\" y1=\"1068.93\" x2=\"2382.62\" y2=\"1084.93\" style=\"stroke:#ff0000; stroke-width:4; stroke-opacity:0.8\"/>\n",
              "<line clip-path=\"url(#clip0003)\" x1=\"640.462\" y1=\"1054.46\" x2=\"640.462\" y2=\"1070.46\" style=\"stroke:#ff0000; stroke-width:4; stroke-opacity:0.8\"/>\n",
              "<line clip-path=\"url(#clip0003)\" x1=\"1472.7\" y1=\"1054.46\" x2=\"1472.7\" y2=\"1070.46\" style=\"stroke:#ff0000; stroke-width:4; stroke-opacity:0.8\"/>\n",
              "<line clip-path=\"url(#clip0003)\" x1=\"1572.43\" y1=\"1054.46\" x2=\"1572.43\" y2=\"1070.46\" style=\"stroke:#ff0000; stroke-width:4; stroke-opacity:0.8\"/>\n",
              "<line clip-path=\"url(#clip0003)\" x1=\"1581.01\" y1=\"1054.46\" x2=\"1581.01\" y2=\"1070.46\" style=\"stroke:#ff0000; stroke-width:4; stroke-opacity:0.8\"/>\n",
              "<line clip-path=\"url(#clip0003)\" x1=\"1609.24\" y1=\"1054.46\" x2=\"1609.24\" y2=\"1070.46\" style=\"stroke:#ff0000; stroke-width:4; stroke-opacity:0.8\"/>\n",
              "<line clip-path=\"url(#clip0003)\" x1=\"1133.65\" y1=\"1039.99\" x2=\"1133.65\" y2=\"1055.99\" style=\"stroke:#ff0000; stroke-width:4; stroke-opacity:0.8\"/>\n",
              "<line clip-path=\"url(#clip0003)\" x1=\"1146.02\" y1=\"1039.99\" x2=\"1146.02\" y2=\"1055.99\" style=\"stroke:#ff0000; stroke-width:4; stroke-opacity:0.8\"/>\n",
              "<line clip-path=\"url(#clip0003)\" x1=\"1348.17\" y1=\"1039.99\" x2=\"1348.17\" y2=\"1055.99\" style=\"stroke:#ff0000; stroke-width:4; stroke-opacity:0.8\"/>\n",
              "<line clip-path=\"url(#clip0003)\" x1=\"2293.73\" y1=\"1039.99\" x2=\"2293.73\" y2=\"1055.99\" style=\"stroke:#ff0000; stroke-width:4; stroke-opacity:0.8\"/>\n",
              "<line clip-path=\"url(#clip0003)\" x1=\"690.362\" y1=\"1025.53\" x2=\"690.362\" y2=\"1041.53\" style=\"stroke:#ff0000; stroke-width:4; stroke-opacity:0.8\"/>\n",
              "<line clip-path=\"url(#clip0003)\" x1=\"1334.42\" y1=\"1025.53\" x2=\"1334.42\" y2=\"1041.53\" style=\"stroke:#ff0000; stroke-width:4; stroke-opacity:0.8\"/>\n",
              "<line clip-path=\"url(#clip0003)\" x1=\"1432.62\" y1=\"1025.53\" x2=\"1432.62\" y2=\"1041.53\" style=\"stroke:#ff0000; stroke-width:4; stroke-opacity:0.8\"/>\n",
              "<line clip-path=\"url(#clip0003)\" x1=\"1446\" y1=\"1025.53\" x2=\"1446\" y2=\"1041.53\" style=\"stroke:#ff0000; stroke-width:4; stroke-opacity:0.8\"/>\n",
              "<line clip-path=\"url(#clip0003)\" x1=\"1263.49\" y1=\"1011.06\" x2=\"1263.49\" y2=\"1027.06\" style=\"stroke:#ff0000; stroke-width:4; stroke-opacity:0.8\"/>\n",
              "<line clip-path=\"url(#clip0003)\" x1=\"1361.11\" y1=\"1011.06\" x2=\"1361.11\" y2=\"1027.06\" style=\"stroke:#ff0000; stroke-width:4; stroke-opacity:0.8\"/>\n",
              "<line clip-path=\"url(#clip0003)\" x1=\"1754.43\" y1=\"1011.06\" x2=\"1754.43\" y2=\"1027.06\" style=\"stroke:#ff0000; stroke-width:4; stroke-opacity:0.8\"/>\n",
              "<line clip-path=\"url(#clip0003)\" x1=\"2295.77\" y1=\"1011.06\" x2=\"2295.77\" y2=\"1027.06\" style=\"stroke:#ff0000; stroke-width:4; stroke-opacity:0.8\"/>\n",
              "<line clip-path=\"url(#clip0003)\" x1=\"700.983\" y1=\"996.592\" x2=\"700.983\" y2=\"1012.59\" style=\"stroke:#ff0000; stroke-width:4; stroke-opacity:0.8\"/>\n",
              "<line clip-path=\"url(#clip0003)\" x1=\"731.025\" y1=\"996.592\" x2=\"731.025\" y2=\"1012.59\" style=\"stroke:#ff0000; stroke-width:4; stroke-opacity:0.8\"/>\n",
              "<line clip-path=\"url(#clip0003)\" x1=\"777.652\" y1=\"996.592\" x2=\"777.652\" y2=\"1012.59\" style=\"stroke:#ff0000; stroke-width:4; stroke-opacity:0.8\"/>\n",
              "<line clip-path=\"url(#clip0003)\" x1=\"1238.83\" y1=\"996.592\" x2=\"1238.83\" y2=\"1012.59\" style=\"stroke:#ff0000; stroke-width:4; stroke-opacity:0.8\"/>\n",
              "<line clip-path=\"url(#clip0003)\" x1=\"1263.28\" y1=\"996.592\" x2=\"1263.28\" y2=\"1012.59\" style=\"stroke:#ff0000; stroke-width:4; stroke-opacity:0.8\"/>\n",
              "<line clip-path=\"url(#clip0003)\" x1=\"1288.3\" y1=\"996.592\" x2=\"1288.3\" y2=\"1012.59\" style=\"stroke:#ff0000; stroke-width:4; stroke-opacity:0.8\"/>\n",
              "<line clip-path=\"url(#clip0003)\" x1=\"1418.14\" y1=\"996.592\" x2=\"1418.14\" y2=\"1012.59\" style=\"stroke:#ff0000; stroke-width:4; stroke-opacity:0.8\"/>\n",
              "<line clip-path=\"url(#clip0003)\" x1=\"1626.33\" y1=\"996.592\" x2=\"1626.33\" y2=\"1012.59\" style=\"stroke:#ff0000; stroke-width:4; stroke-opacity:0.8\"/>\n",
              "<line clip-path=\"url(#clip0003)\" x1=\"907.933\" y1=\"982.125\" x2=\"907.933\" y2=\"998.125\" style=\"stroke:#ff0000; stroke-width:4; stroke-opacity:0.8\"/>\n",
              "<line clip-path=\"url(#clip0003)\" x1=\"1523.62\" y1=\"982.125\" x2=\"1523.62\" y2=\"998.125\" style=\"stroke:#ff0000; stroke-width:4; stroke-opacity:0.8\"/>\n",
              "<line clip-path=\"url(#clip0003)\" x1=\"1590.39\" y1=\"982.125\" x2=\"1590.39\" y2=\"998.125\" style=\"stroke:#ff0000; stroke-width:4; stroke-opacity:0.8\"/>\n",
              "<line clip-path=\"url(#clip0003)\" x1=\"521.747\" y1=\"967.658\" x2=\"521.747\" y2=\"983.658\" style=\"stroke:#ff0000; stroke-width:4; stroke-opacity:0.8\"/>\n",
              "<line clip-path=\"url(#clip0003)\" x1=\"926.846\" y1=\"967.658\" x2=\"926.846\" y2=\"983.658\" style=\"stroke:#ff0000; stroke-width:4; stroke-opacity:0.8\"/>\n",
              "<line clip-path=\"url(#clip0003)\" x1=\"1075.31\" y1=\"967.658\" x2=\"1075.31\" y2=\"983.658\" style=\"stroke:#ff0000; stroke-width:4; stroke-opacity:0.8\"/>\n",
              "<line clip-path=\"url(#clip0003)\" x1=\"1390.86\" y1=\"967.658\" x2=\"1390.86\" y2=\"983.658\" style=\"stroke:#ff0000; stroke-width:4; stroke-opacity:0.8\"/>\n",
              "<line clip-path=\"url(#clip0003)\" x1=\"663.666\" y1=\"953.19\" x2=\"663.666\" y2=\"969.19\" style=\"stroke:#ff0000; stroke-width:4; stroke-opacity:0.8\"/>\n",
              "<line clip-path=\"url(#clip0003)\" x1=\"672.977\" y1=\"953.19\" x2=\"672.977\" y2=\"969.19\" style=\"stroke:#ff0000; stroke-width:4; stroke-opacity:0.8\"/>\n",
              "<line clip-path=\"url(#clip0003)\" x1=\"676.76\" y1=\"953.19\" x2=\"676.76\" y2=\"969.19\" style=\"stroke:#ff0000; stroke-width:4; stroke-opacity:0.8\"/>\n",
              "<line clip-path=\"url(#clip0003)\" x1=\"708.111\" y1=\"953.19\" x2=\"708.111\" y2=\"969.19\" style=\"stroke:#ff0000; stroke-width:4; stroke-opacity:0.8\"/>\n",
              "<line clip-path=\"url(#clip0003)\" x1=\"811.623\" y1=\"953.19\" x2=\"811.623\" y2=\"969.19\" style=\"stroke:#ff0000; stroke-width:4; stroke-opacity:0.8\"/>\n",
              "<line clip-path=\"url(#clip0003)\" x1=\"910.624\" y1=\"953.19\" x2=\"910.624\" y2=\"969.19\" style=\"stroke:#ff0000; stroke-width:4; stroke-opacity:0.8\"/>\n",
              "<line clip-path=\"url(#clip0003)\" x1=\"1151.62\" y1=\"953.19\" x2=\"1151.62\" y2=\"969.19\" style=\"stroke:#ff0000; stroke-width:4; stroke-opacity:0.8\"/>\n",
              "<line clip-path=\"url(#clip0003)\" x1=\"1274.11\" y1=\"953.19\" x2=\"1274.11\" y2=\"969.19\" style=\"stroke:#ff0000; stroke-width:4; stroke-opacity:0.8\"/>\n",
              "<line clip-path=\"url(#clip0003)\" x1=\"1289.24\" y1=\"953.19\" x2=\"1289.24\" y2=\"969.19\" style=\"stroke:#ff0000; stroke-width:4; stroke-opacity:0.8\"/>\n",
              "<line clip-path=\"url(#clip0003)\" x1=\"1329.69\" y1=\"953.19\" x2=\"1329.69\" y2=\"969.19\" style=\"stroke:#ff0000; stroke-width:4; stroke-opacity:0.8\"/>\n",
              "<line clip-path=\"url(#clip0003)\" x1=\"1388.17\" y1=\"953.19\" x2=\"1388.17\" y2=\"969.19\" style=\"stroke:#ff0000; stroke-width:4; stroke-opacity:0.8\"/>\n",
              "<line clip-path=\"url(#clip0003)\" x1=\"1622.98\" y1=\"953.19\" x2=\"1622.98\" y2=\"969.19\" style=\"stroke:#ff0000; stroke-width:4; stroke-opacity:0.8\"/>\n",
              "<line clip-path=\"url(#clip0003)\" x1=\"1675.79\" y1=\"953.19\" x2=\"1675.79\" y2=\"969.19\" style=\"stroke:#ff0000; stroke-width:4; stroke-opacity:0.8\"/>\n",
              "<line clip-path=\"url(#clip0003)\" x1=\"1761.63\" y1=\"953.19\" x2=\"1761.63\" y2=\"969.19\" style=\"stroke:#ff0000; stroke-width:4; stroke-opacity:0.8\"/>\n",
              "<line clip-path=\"url(#clip0003)\" x1=\"1064.11\" y1=\"938.723\" x2=\"1064.11\" y2=\"954.723\" style=\"stroke:#ff0000; stroke-width:4; stroke-opacity:0.8\"/>\n",
              "<line clip-path=\"url(#clip0003)\" x1=\"537.532\" y1=\"924.255\" x2=\"537.532\" y2=\"940.255\" style=\"stroke:#ff0000; stroke-width:4; stroke-opacity:0.8\"/>\n",
              "<line clip-path=\"url(#clip0003)\" x1=\"604.309\" y1=\"909.788\" x2=\"604.309\" y2=\"925.788\" style=\"stroke:#ff0000; stroke-width:4; stroke-opacity:0.8\"/>\n",
              "<line clip-path=\"url(#clip0003)\" x1=\"732.844\" y1=\"909.788\" x2=\"732.844\" y2=\"925.788\" style=\"stroke:#ff0000; stroke-width:4; stroke-opacity:0.8\"/>\n",
              "<line clip-path=\"url(#clip0003)\" x1=\"842.974\" y1=\"909.788\" x2=\"842.974\" y2=\"925.788\" style=\"stroke:#ff0000; stroke-width:4; stroke-opacity:0.8\"/>\n",
              "<line clip-path=\"url(#clip0003)\" x1=\"890.984\" y1=\"909.788\" x2=\"890.984\" y2=\"925.788\" style=\"stroke:#ff0000; stroke-width:4; stroke-opacity:0.8\"/>\n",
              "<line clip-path=\"url(#clip0003)\" x1=\"1209.3\" y1=\"909.788\" x2=\"1209.3\" y2=\"925.788\" style=\"stroke:#ff0000; stroke-width:4; stroke-opacity:0.8\"/>\n",
              "<line clip-path=\"url(#clip0003)\" x1=\"1370.13\" y1=\"909.788\" x2=\"1370.13\" y2=\"925.788\" style=\"stroke:#ff0000; stroke-width:4; stroke-opacity:0.8\"/>\n",
              "<line clip-path=\"url(#clip0003)\" x1=\"1477.5\" y1=\"909.788\" x2=\"1477.5\" y2=\"925.788\" style=\"stroke:#ff0000; stroke-width:4; stroke-opacity:0.8\"/>\n",
              "<line clip-path=\"url(#clip0003)\" x1=\"2168.33\" y1=\"909.788\" x2=\"2168.33\" y2=\"925.788\" style=\"stroke:#ff0000; stroke-width:4; stroke-opacity:0.8\"/>\n",
              "<line clip-path=\"url(#clip0003)\" x1=\"1312.38\" y1=\"895.32\" x2=\"1312.38\" y2=\"911.32\" style=\"stroke:#ff0000; stroke-width:4; stroke-opacity:0.8\"/>\n",
              "<line clip-path=\"url(#clip0003)\" x1=\"1666.99\" y1=\"895.32\" x2=\"1666.99\" y2=\"911.32\" style=\"stroke:#ff0000; stroke-width:4; stroke-opacity:0.8\"/>\n",
              "<line clip-path=\"url(#clip0003)\" x1=\"1745.7\" y1=\"895.32\" x2=\"1745.7\" y2=\"911.32\" style=\"stroke:#ff0000; stroke-width:4; stroke-opacity:0.8\"/>\n",
              "<line clip-path=\"url(#clip0003)\" x1=\"571.066\" y1=\"880.853\" x2=\"571.066\" y2=\"896.853\" style=\"stroke:#ff0000; stroke-width:4; stroke-opacity:0.8\"/>\n",
              "<line clip-path=\"url(#clip0003)\" x1=\"807.767\" y1=\"880.853\" x2=\"807.767\" y2=\"896.853\" style=\"stroke:#ff0000; stroke-width:4; stroke-opacity:0.8\"/>\n",
              "<line clip-path=\"url(#clip0003)\" x1=\"848.648\" y1=\"880.853\" x2=\"848.648\" y2=\"896.853\" style=\"stroke:#ff0000; stroke-width:4; stroke-opacity:0.8\"/>\n",
              "<line clip-path=\"url(#clip0003)\" x1=\"877.599\" y1=\"880.853\" x2=\"877.599\" y2=\"896.853\" style=\"stroke:#ff0000; stroke-width:4; stroke-opacity:0.8\"/>\n",
              "<line clip-path=\"url(#clip0003)\" x1=\"1215.48\" y1=\"880.853\" x2=\"1215.48\" y2=\"896.853\" style=\"stroke:#ff0000; stroke-width:4; stroke-opacity:0.8\"/>\n",
              "<line clip-path=\"url(#clip0003)\" x1=\"1372.97\" y1=\"880.853\" x2=\"1372.97\" y2=\"896.853\" style=\"stroke:#ff0000; stroke-width:4; stroke-opacity:0.8\"/>\n",
              "<line clip-path=\"url(#clip0003)\" x1=\"1379.15\" y1=\"880.853\" x2=\"1379.15\" y2=\"896.853\" style=\"stroke:#ff0000; stroke-width:4; stroke-opacity:0.8\"/>\n",
              "<line clip-path=\"url(#clip0003)\" x1=\"1471.68\" y1=\"880.853\" x2=\"1471.68\" y2=\"896.853\" style=\"stroke:#ff0000; stroke-width:4; stroke-opacity:0.8\"/>\n",
              "<line clip-path=\"url(#clip0003)\" x1=\"682.434\" y1=\"866.385\" x2=\"682.434\" y2=\"882.385\" style=\"stroke:#ff0000; stroke-width:4; stroke-opacity:0.8\"/>\n",
              "<line clip-path=\"url(#clip0003)\" x1=\"808.058\" y1=\"866.385\" x2=\"808.058\" y2=\"882.385\" style=\"stroke:#ff0000; stroke-width:4; stroke-opacity:0.8\"/>\n",
              "<line clip-path=\"url(#clip0003)\" x1=\"1050.07\" y1=\"866.385\" x2=\"1050.07\" y2=\"882.385\" style=\"stroke:#ff0000; stroke-width:4; stroke-opacity:0.8\"/>\n",
              "<line clip-path=\"url(#clip0003)\" x1=\"1147.83\" y1=\"866.385\" x2=\"1147.83\" y2=\"882.385\" style=\"stroke:#ff0000; stroke-width:4; stroke-opacity:0.8\"/>\n",
              "<line clip-path=\"url(#clip0003)\" x1=\"1399.67\" y1=\"866.385\" x2=\"1399.67\" y2=\"882.385\" style=\"stroke:#ff0000; stroke-width:4; stroke-opacity:0.8\"/>\n",
              "<line clip-path=\"url(#clip0003)\" x1=\"1956.94\" y1=\"866.385\" x2=\"1956.94\" y2=\"882.385\" style=\"stroke:#ff0000; stroke-width:4; stroke-opacity:0.8\"/>\n",
              "<line clip-path=\"url(#clip0003)\" x1=\"316.397\" y1=\"851.918\" x2=\"316.397\" y2=\"867.918\" style=\"stroke:#ff0000; stroke-width:4; stroke-opacity:0.8\"/>\n",
              "<line clip-path=\"url(#clip0003)\" x1=\"1787.38\" y1=\"851.918\" x2=\"1787.38\" y2=\"867.918\" style=\"stroke:#ff0000; stroke-width:4; stroke-opacity:0.8\"/>\n",
              "<line clip-path=\"url(#clip0003)\" x1=\"2039.14\" y1=\"851.918\" x2=\"2039.14\" y2=\"867.918\" style=\"stroke:#ff0000; stroke-width:4; stroke-opacity:0.8\"/>\n",
              "<line clip-path=\"url(#clip0003)\" x1=\"2179.97\" y1=\"851.918\" x2=\"2179.97\" y2=\"867.918\" style=\"stroke:#ff0000; stroke-width:4; stroke-opacity:0.8\"/>\n",
              "<line clip-path=\"url(#clip0003)\" x1=\"2302.9\" y1=\"851.918\" x2=\"2302.9\" y2=\"867.918\" style=\"stroke:#ff0000; stroke-width:4; stroke-opacity:0.8\"/>\n",
              "<line clip-path=\"url(#clip0003)\" x1=\"702.947\" y1=\"837.45\" x2=\"702.947\" y2=\"853.45\" style=\"stroke:#ff0000; stroke-width:4; stroke-opacity:0.8\"/>\n",
              "<line clip-path=\"url(#clip0003)\" x1=\"806.967\" y1=\"837.45\" x2=\"806.967\" y2=\"853.45\" style=\"stroke:#ff0000; stroke-width:4; stroke-opacity:0.8\"/>\n",
              "<line clip-path=\"url(#clip0003)\" x1=\"873.817\" y1=\"837.45\" x2=\"873.817\" y2=\"853.45\" style=\"stroke:#ff0000; stroke-width:4; stroke-opacity:0.8\"/>\n",
              "<line clip-path=\"url(#clip0003)\" x1=\"1160.78\" y1=\"837.45\" x2=\"1160.78\" y2=\"853.45\" style=\"stroke:#ff0000; stroke-width:4; stroke-opacity:0.8\"/>\n",
              "<line clip-path=\"url(#clip0003)\" x1=\"1209.45\" y1=\"837.45\" x2=\"1209.45\" y2=\"853.45\" style=\"stroke:#ff0000; stroke-width:4; stroke-opacity:0.8\"/>\n",
              "<line clip-path=\"url(#clip0003)\" x1=\"1408.98\" y1=\"837.45\" x2=\"1408.98\" y2=\"853.45\" style=\"stroke:#ff0000; stroke-width:4; stroke-opacity:0.8\"/>\n",
              "<line clip-path=\"url(#clip0003)\" x1=\"1617.38\" y1=\"837.45\" x2=\"1617.38\" y2=\"853.45\" style=\"stroke:#ff0000; stroke-width:4; stroke-opacity:0.8\"/>\n",
              "<line clip-path=\"url(#clip0003)\" x1=\"1716.38\" y1=\"837.45\" x2=\"1716.38\" y2=\"853.45\" style=\"stroke:#ff0000; stroke-width:4; stroke-opacity:0.8\"/>\n",
              "<line clip-path=\"url(#clip0003)\" x1=\"1272.22\" y1=\"822.983\" x2=\"1272.22\" y2=\"838.983\" style=\"stroke:#ff0000; stroke-width:4; stroke-opacity:0.8\"/>\n",
              "<line clip-path=\"url(#clip0003)\" x1=\"1343.51\" y1=\"822.983\" x2=\"1343.51\" y2=\"838.983\" style=\"stroke:#ff0000; stroke-width:4; stroke-opacity:0.8\"/>\n",
              "<line clip-path=\"url(#clip0003)\" x1=\"1453.13\" y1=\"822.983\" x2=\"1453.13\" y2=\"838.983\" style=\"stroke:#ff0000; stroke-width:4; stroke-opacity:0.8\"/>\n",
              "<line clip-path=\"url(#clip0003)\" x1=\"1974.62\" y1=\"822.983\" x2=\"1974.62\" y2=\"838.983\" style=\"stroke:#ff0000; stroke-width:4; stroke-opacity:0.8\"/>\n",
              "<line clip-path=\"url(#clip0003)\" x1=\"2143.01\" y1=\"822.983\" x2=\"2143.01\" y2=\"838.983\" style=\"stroke:#ff0000; stroke-width:4; stroke-opacity:0.8\"/>\n",
              "<line clip-path=\"url(#clip0003)\" x1=\"831.845\" y1=\"808.516\" x2=\"831.845\" y2=\"824.516\" style=\"stroke:#ff0000; stroke-width:4; stroke-opacity:0.8\"/>\n",
              "<line clip-path=\"url(#clip0003)\" x1=\"839.701\" y1=\"808.516\" x2=\"839.701\" y2=\"824.516\" style=\"stroke:#ff0000; stroke-width:4; stroke-opacity:0.8\"/>\n",
              "<line clip-path=\"url(#clip0003)\" x1=\"941.758\" y1=\"808.516\" x2=\"941.758\" y2=\"824.516\" style=\"stroke:#ff0000; stroke-width:4; stroke-opacity:0.8\"/>\n",
              "<line clip-path=\"url(#clip0003)\" x1=\"1269.02\" y1=\"808.516\" x2=\"1269.02\" y2=\"824.516\" style=\"stroke:#ff0000; stroke-width:4; stroke-opacity:0.8\"/>\n",
              "<line clip-path=\"url(#clip0003)\" x1=\"640.025\" y1=\"794.048\" x2=\"640.025\" y2=\"810.048\" style=\"stroke:#ff0000; stroke-width:4; stroke-opacity:0.8\"/>\n",
              "<line clip-path=\"url(#clip0003)\" x1=\"660.175\" y1=\"794.048\" x2=\"660.175\" y2=\"810.048\" style=\"stroke:#ff0000; stroke-width:4; stroke-opacity:0.8\"/>\n",
              "<line clip-path=\"url(#clip0003)\" x1=\"1016.83\" y1=\"794.048\" x2=\"1016.83\" y2=\"810.048\" style=\"stroke:#ff0000; stroke-width:4; stroke-opacity:0.8\"/>\n",
              "<line clip-path=\"url(#clip0003)\" x1=\"1598.25\" y1=\"794.048\" x2=\"1598.25\" y2=\"810.048\" style=\"stroke:#ff0000; stroke-width:4; stroke-opacity:0.8\"/>\n",
              "<line clip-path=\"url(#clip0003)\" x1=\"707.82\" y1=\"779.581\" x2=\"707.82\" y2=\"795.581\" style=\"stroke:#ff0000; stroke-width:4; stroke-opacity:0.8\"/>\n",
              "<line clip-path=\"url(#clip0003)\" x1=\"760.194\" y1=\"779.581\" x2=\"760.194\" y2=\"795.581\" style=\"stroke:#ff0000; stroke-width:4; stroke-opacity:0.8\"/>\n",
              "<line clip-path=\"url(#clip0003)\" x1=\"814.096\" y1=\"779.581\" x2=\"814.096\" y2=\"795.581\" style=\"stroke:#ff0000; stroke-width:4; stroke-opacity:0.8\"/>\n",
              "<line clip-path=\"url(#clip0003)\" x1=\"835.264\" y1=\"779.581\" x2=\"835.264\" y2=\"795.581\" style=\"stroke:#ff0000; stroke-width:4; stroke-opacity:0.8\"/>\n",
              "<line clip-path=\"url(#clip0003)\" x1=\"1005.41\" y1=\"779.581\" x2=\"1005.41\" y2=\"795.581\" style=\"stroke:#ff0000; stroke-width:4; stroke-opacity:0.8\"/>\n",
              "<line clip-path=\"url(#clip0003)\" x1=\"1263.35\" y1=\"779.581\" x2=\"1263.35\" y2=\"795.581\" style=\"stroke:#ff0000; stroke-width:4; stroke-opacity:0.8\"/>\n",
              "<line clip-path=\"url(#clip0003)\" x1=\"1270.11\" y1=\"779.581\" x2=\"1270.11\" y2=\"795.581\" style=\"stroke:#ff0000; stroke-width:4; stroke-opacity:0.8\"/>\n",
              "<line clip-path=\"url(#clip0003)\" x1=\"1335.22\" y1=\"779.581\" x2=\"1335.22\" y2=\"795.581\" style=\"stroke:#ff0000; stroke-width:4; stroke-opacity:0.8\"/>\n",
              "<line clip-path=\"url(#clip0003)\" x1=\"1585.45\" y1=\"779.581\" x2=\"1585.45\" y2=\"795.581\" style=\"stroke:#ff0000; stroke-width:4; stroke-opacity:0.8\"/>\n",
              "<line clip-path=\"url(#clip0003)\" x1=\"1728.02\" y1=\"779.581\" x2=\"1728.02\" y2=\"795.581\" style=\"stroke:#ff0000; stroke-width:4; stroke-opacity:0.8\"/>\n",
              "<line clip-path=\"url(#clip0003)\" x1=\"1743.95\" y1=\"779.581\" x2=\"1743.95\" y2=\"795.581\" style=\"stroke:#ff0000; stroke-width:4; stroke-opacity:0.8\"/>\n",
              "<line clip-path=\"url(#clip0003)\" x1=\"666.285\" y1=\"765.113\" x2=\"666.285\" y2=\"781.113\" style=\"stroke:#ff0000; stroke-width:4; stroke-opacity:0.8\"/>\n",
              "<line clip-path=\"url(#clip0003)\" x1=\"1235.78\" y1=\"765.113\" x2=\"1235.78\" y2=\"781.113\" style=\"stroke:#ff0000; stroke-width:4; stroke-opacity:0.8\"/>\n",
              "<line clip-path=\"url(#clip0003)\" x1=\"556.663\" y1=\"750.646\" x2=\"556.663\" y2=\"766.646\" style=\"stroke:#ff0000; stroke-width:4; stroke-opacity:0.8\"/>\n",
              "<line clip-path=\"url(#clip0003)\" x1=\"923.499\" y1=\"750.646\" x2=\"923.499\" y2=\"766.646\" style=\"stroke:#ff0000; stroke-width:4; stroke-opacity:0.8\"/>\n",
              "<line clip-path=\"url(#clip0003)\" x1=\"1878.31\" y1=\"750.646\" x2=\"1878.31\" y2=\"766.646\" style=\"stroke:#ff0000; stroke-width:4; stroke-opacity:0.8\"/>\n",
              "<line clip-path=\"url(#clip0003)\" x1=\"656.828\" y1=\"736.178\" x2=\"656.828\" y2=\"752.178\" style=\"stroke:#ff0000; stroke-width:4; stroke-opacity:0.8\"/>\n",
              "<line clip-path=\"url(#clip0003)\" x1=\"821.879\" y1=\"736.178\" x2=\"821.879\" y2=\"752.178\" style=\"stroke:#ff0000; stroke-width:4; stroke-opacity:0.8\"/>\n",
              "<line clip-path=\"url(#clip0003)\" x1=\"853.449\" y1=\"736.178\" x2=\"853.449\" y2=\"752.178\" style=\"stroke:#ff0000; stroke-width:4; stroke-opacity:0.8\"/>\n",
              "<line clip-path=\"url(#clip0003)\" x1=\"664.103\" y1=\"721.711\" x2=\"664.103\" y2=\"737.711\" style=\"stroke:#ff0000; stroke-width:4; stroke-opacity:0.8\"/>\n",
              "<line clip-path=\"url(#clip0003)\" x1=\"690.508\" y1=\"721.711\" x2=\"690.508\" y2=\"737.711\" style=\"stroke:#ff0000; stroke-width:4; stroke-opacity:0.8\"/>\n",
              "<line clip-path=\"url(#clip0003)\" x1=\"854.686\" y1=\"721.711\" x2=\"854.686\" y2=\"737.711\" style=\"stroke:#ff0000; stroke-width:4; stroke-opacity:0.8\"/>\n",
              "<line clip-path=\"url(#clip0003)\" x1=\"889.529\" y1=\"721.711\" x2=\"889.529\" y2=\"737.711\" style=\"stroke:#ff0000; stroke-width:4; stroke-opacity:0.8\"/>\n",
              "<line clip-path=\"url(#clip0003)\" x1=\"1042.58\" y1=\"721.711\" x2=\"1042.58\" y2=\"737.711\" style=\"stroke:#ff0000; stroke-width:4; stroke-opacity:0.8\"/>\n",
              "<line clip-path=\"url(#clip0003)\" x1=\"1147.03\" y1=\"721.711\" x2=\"1147.03\" y2=\"737.711\" style=\"stroke:#ff0000; stroke-width:4; stroke-opacity:0.8\"/>\n",
              "<line clip-path=\"url(#clip0003)\" x1=\"1198.97\" y1=\"707.243\" x2=\"1198.97\" y2=\"723.243\" style=\"stroke:#ff0000; stroke-width:4; stroke-opacity:0.8\"/>\n",
              "<line clip-path=\"url(#clip0003)\" x1=\"1280.44\" y1=\"707.243\" x2=\"1280.44\" y2=\"723.243\" style=\"stroke:#ff0000; stroke-width:4; stroke-opacity:0.8\"/>\n",
              "<line clip-path=\"url(#clip0003)\" x1=\"1504.63\" y1=\"707.243\" x2=\"1504.63\" y2=\"723.243\" style=\"stroke:#ff0000; stroke-width:4; stroke-opacity:0.8\"/>\n",
              "<line clip-path=\"url(#clip0003)\" x1=\"1513.22\" y1=\"707.243\" x2=\"1513.22\" y2=\"723.243\" style=\"stroke:#ff0000; stroke-width:4; stroke-opacity:0.8\"/>\n",
              "<line clip-path=\"url(#clip0003)\" x1=\"517.892\" y1=\"692.776\" x2=\"517.892\" y2=\"708.776\" style=\"stroke:#ff0000; stroke-width:4; stroke-opacity:0.8\"/>\n",
              "<line clip-path=\"url(#clip0003)\" x1=\"1015.81\" y1=\"692.776\" x2=\"1015.81\" y2=\"708.776\" style=\"stroke:#ff0000; stroke-width:4; stroke-opacity:0.8\"/>\n",
              "<line clip-path=\"url(#clip0003)\" x1=\"1188.06\" y1=\"692.776\" x2=\"1188.06\" y2=\"708.776\" style=\"stroke:#ff0000; stroke-width:4; stroke-opacity:0.8\"/>\n",
              "<line clip-path=\"url(#clip0003)\" x1=\"1245.16\" y1=\"692.776\" x2=\"1245.16\" y2=\"708.776\" style=\"stroke:#ff0000; stroke-width:4; stroke-opacity:0.8\"/>\n",
              "<line clip-path=\"url(#clip0003)\" x1=\"1614.4\" y1=\"692.776\" x2=\"1614.4\" y2=\"708.776\" style=\"stroke:#ff0000; stroke-width:4; stroke-opacity:0.8\"/>\n",
              "<line clip-path=\"url(#clip0003)\" x1=\"1730.79\" y1=\"692.776\" x2=\"1730.79\" y2=\"708.776\" style=\"stroke:#ff0000; stroke-width:4; stroke-opacity:0.8\"/>\n",
              "<line clip-path=\"url(#clip0003)\" x1=\"878.836\" y1=\"678.309\" x2=\"878.836\" y2=\"694.309\" style=\"stroke:#ff0000; stroke-width:4; stroke-opacity:0.8\"/>\n",
              "<line clip-path=\"url(#clip0003)\" x1=\"908.442\" y1=\"678.309\" x2=\"908.442\" y2=\"694.309\" style=\"stroke:#ff0000; stroke-width:4; stroke-opacity:0.8\"/>\n",
              "<line clip-path=\"url(#clip0003)\" x1=\"1237.31\" y1=\"678.309\" x2=\"1237.31\" y2=\"694.309\" style=\"stroke:#ff0000; stroke-width:4; stroke-opacity:0.8\"/>\n",
              "<line clip-path=\"url(#clip0003)\" x1=\"1546.24\" y1=\"678.309\" x2=\"1546.24\" y2=\"694.309\" style=\"stroke:#ff0000; stroke-width:4; stroke-opacity:0.8\"/>\n",
              "<line clip-path=\"url(#clip0003)\" x1=\"1708.38\" y1=\"678.309\" x2=\"1708.38\" y2=\"694.309\" style=\"stroke:#ff0000; stroke-width:4; stroke-opacity:0.8\"/>\n",
              "<line clip-path=\"url(#clip0003)\" x1=\"344.985\" y1=\"663.841\" x2=\"344.985\" y2=\"679.841\" style=\"stroke:#ff0000; stroke-width:4; stroke-opacity:0.8\"/>\n",
              "<line clip-path=\"url(#clip0003)\" x1=\"676.687\" y1=\"663.841\" x2=\"676.687\" y2=\"679.841\" style=\"stroke:#ff0000; stroke-width:4; stroke-opacity:0.8\"/>\n",
              "<line clip-path=\"url(#clip0003)\" x1=\"829.372\" y1=\"663.841\" x2=\"829.372\" y2=\"679.841\" style=\"stroke:#ff0000; stroke-width:4; stroke-opacity:0.8\"/>\n",
              "<line clip-path=\"url(#clip0003)\" x1=\"918.48\" y1=\"663.841\" x2=\"918.48\" y2=\"679.841\" style=\"stroke:#ff0000; stroke-width:4; stroke-opacity:0.8\"/>\n",
              "<line clip-path=\"url(#clip0003)\" x1=\"2130.21\" y1=\"663.841\" x2=\"2130.21\" y2=\"679.841\" style=\"stroke:#ff0000; stroke-width:4; stroke-opacity:0.8\"/>\n",
              "<line clip-path=\"url(#clip0003)\" x1=\"1237.09\" y1=\"649.374\" x2=\"1237.09\" y2=\"665.374\" style=\"stroke:#ff0000; stroke-width:4; stroke-opacity:0.8\"/>\n",
              "<line clip-path=\"url(#clip0003)\" x1=\"702.947\" y1=\"634.906\" x2=\"702.947\" y2=\"650.906\" style=\"stroke:#ff0000; stroke-width:4; stroke-opacity:0.8\"/>\n",
              "<line clip-path=\"url(#clip0003)\" x1=\"729.206\" y1=\"634.906\" x2=\"729.206\" y2=\"650.906\" style=\"stroke:#ff0000; stroke-width:4; stroke-opacity:0.8\"/>\n",
              "<line clip-path=\"url(#clip0003)\" x1=\"741.573\" y1=\"634.906\" x2=\"741.573\" y2=\"650.906\" style=\"stroke:#ff0000; stroke-width:4; stroke-opacity:0.8\"/>\n",
              "<line clip-path=\"url(#clip0003)\" x1=\"767.978\" y1=\"634.906\" x2=\"767.978\" y2=\"650.906\" style=\"stroke:#ff0000; stroke-width:4; stroke-opacity:0.8\"/>\n",
              "<line clip-path=\"url(#clip0003)\" x1=\"892.875\" y1=\"634.906\" x2=\"892.875\" y2=\"650.906\" style=\"stroke:#ff0000; stroke-width:4; stroke-opacity:0.8\"/>\n",
              "<line clip-path=\"url(#clip0003)\" x1=\"933.901\" y1=\"634.906\" x2=\"933.901\" y2=\"650.906\" style=\"stroke:#ff0000; stroke-width:4; stroke-opacity:0.8\"/>\n",
              "<line clip-path=\"url(#clip0003)\" x1=\"993.259\" y1=\"634.906\" x2=\"993.259\" y2=\"650.906\" style=\"stroke:#ff0000; stroke-width:4; stroke-opacity:0.8\"/>\n",
              "<line clip-path=\"url(#clip0003)\" x1=\"1159.55\" y1=\"634.906\" x2=\"1159.55\" y2=\"650.906\" style=\"stroke:#ff0000; stroke-width:4; stroke-opacity:0.8\"/>\n",
              "<line clip-path=\"url(#clip0003)\" x1=\"1193.44\" y1=\"634.906\" x2=\"1193.44\" y2=\"650.906\" style=\"stroke:#ff0000; stroke-width:4; stroke-opacity:0.8\"/>\n",
              "<line clip-path=\"url(#clip0003)\" x1=\"1252.8\" y1=\"634.906\" x2=\"1252.8\" y2=\"650.906\" style=\"stroke:#ff0000; stroke-width:4; stroke-opacity:0.8\"/>\n",
              "<line clip-path=\"url(#clip0003)\" x1=\"1824.7\" y1=\"634.906\" x2=\"1824.7\" y2=\"650.906\" style=\"stroke:#ff0000; stroke-width:4; stroke-opacity:0.8\"/>\n",
              "<line clip-path=\"url(#clip0003)\" x1=\"492.214\" y1=\"620.439\" x2=\"492.214\" y2=\"636.439\" style=\"stroke:#ff0000; stroke-width:4; stroke-opacity:0.8\"/>\n",
              "<line clip-path=\"url(#clip0003)\" x1=\"668.031\" y1=\"620.439\" x2=\"668.031\" y2=\"636.439\" style=\"stroke:#ff0000; stroke-width:4; stroke-opacity:0.8\"/>\n",
              "<line clip-path=\"url(#clip0003)\" x1=\"1345.04\" y1=\"620.439\" x2=\"1345.04\" y2=\"636.439\" style=\"stroke:#ff0000; stroke-width:4; stroke-opacity:0.8\"/>\n",
              "<line clip-path=\"url(#clip0003)\" x1=\"1482.01\" y1=\"620.439\" x2=\"1482.01\" y2=\"636.439\" style=\"stroke:#ff0000; stroke-width:4; stroke-opacity:0.8\"/>\n",
              "<line clip-path=\"url(#clip0003)\" x1=\"672.322\" y1=\"605.971\" x2=\"672.322\" y2=\"621.971\" style=\"stroke:#ff0000; stroke-width:4; stroke-opacity:0.8\"/>\n",
              "<line clip-path=\"url(#clip0003)\" x1=\"677.487\" y1=\"605.971\" x2=\"677.487\" y2=\"621.971\" style=\"stroke:#ff0000; stroke-width:4; stroke-opacity:0.8\"/>\n",
              "<line clip-path=\"url(#clip0003)\" x1=\"714.585\" y1=\"605.971\" x2=\"714.585\" y2=\"621.971\" style=\"stroke:#ff0000; stroke-width:4; stroke-opacity:0.8\"/>\n",
              "<line clip-path=\"url(#clip0003)\" x1=\"1339.58\" y1=\"605.971\" x2=\"1339.58\" y2=\"621.971\" style=\"stroke:#ff0000; stroke-width:4; stroke-opacity:0.8\"/>\n",
              "<line clip-path=\"url(#clip0003)\" x1=\"1606.91\" y1=\"605.971\" x2=\"1606.91\" y2=\"621.971\" style=\"stroke:#ff0000; stroke-width:4; stroke-opacity:0.8\"/>\n",
              "<line clip-path=\"url(#clip0003)\" x1=\"2095.29\" y1=\"605.971\" x2=\"2095.29\" y2=\"621.971\" style=\"stroke:#ff0000; stroke-width:4; stroke-opacity:0.8\"/>\n",
              "<line clip-path=\"url(#clip0003)\" x1=\"2106.79\" y1=\"605.971\" x2=\"2106.79\" y2=\"621.971\" style=\"stroke:#ff0000; stroke-width:4; stroke-opacity:0.8\"/>\n",
              "<line clip-path=\"url(#clip0003)\" x1=\"2119.66\" y1=\"605.971\" x2=\"2119.66\" y2=\"621.971\" style=\"stroke:#ff0000; stroke-width:4; stroke-opacity:0.8\"/>\n",
              "<line clip-path=\"url(#clip0003)\" x1=\"2164.33\" y1=\"605.971\" x2=\"2164.33\" y2=\"621.971\" style=\"stroke:#ff0000; stroke-width:4; stroke-opacity:0.8\"/>\n",
              "<line clip-path=\"url(#clip0003)\" x1=\"2268.86\" y1=\"605.971\" x2=\"2268.86\" y2=\"621.971\" style=\"stroke:#ff0000; stroke-width:4; stroke-opacity:0.8\"/>\n",
              "<line clip-path=\"url(#clip0003)\" x1=\"736.553\" y1=\"591.504\" x2=\"736.553\" y2=\"607.504\" style=\"stroke:#ff0000; stroke-width:4; stroke-opacity:0.8\"/>\n",
              "<line clip-path=\"url(#clip0003)\" x1=\"1552.35\" y1=\"591.504\" x2=\"1552.35\" y2=\"607.504\" style=\"stroke:#ff0000; stroke-width:4; stroke-opacity:0.8\"/>\n",
              "<line clip-path=\"url(#clip0003)\" x1=\"1566.17\" y1=\"591.504\" x2=\"1566.17\" y2=\"607.504\" style=\"stroke:#ff0000; stroke-width:4; stroke-opacity:0.8\"/>\n",
              "<line clip-path=\"url(#clip0003)\" x1=\"2098.79\" y1=\"591.504\" x2=\"2098.79\" y2=\"607.504\" style=\"stroke:#ff0000; stroke-width:4; stroke-opacity:0.8\"/>\n",
              "<line clip-path=\"url(#clip0003)\" x1=\"554.044\" y1=\"577.036\" x2=\"554.044\" y2=\"593.036\" style=\"stroke:#ff0000; stroke-width:4; stroke-opacity:0.8\"/>\n",
              "<line clip-path=\"url(#clip0003)\" x1=\"697.709\" y1=\"577.036\" x2=\"697.709\" y2=\"593.036\" style=\"stroke:#ff0000; stroke-width:4; stroke-opacity:0.8\"/>\n",
              "<line clip-path=\"url(#clip0003)\" x1=\"792.346\" y1=\"577.036\" x2=\"792.346\" y2=\"593.036\" style=\"stroke:#ff0000; stroke-width:4; stroke-opacity:0.8\"/>\n",
              "<line clip-path=\"url(#clip0003)\" x1=\"831.481\" y1=\"577.036\" x2=\"831.481\" y2=\"593.036\" style=\"stroke:#ff0000; stroke-width:4; stroke-opacity:0.8\"/>\n",
              "<line clip-path=\"url(#clip0003)\" x1=\"1193.01\" y1=\"577.036\" x2=\"1193.01\" y2=\"593.036\" style=\"stroke:#ff0000; stroke-width:4; stroke-opacity:0.8\"/>\n",
              "<line clip-path=\"url(#clip0003)\" x1=\"1642.55\" y1=\"577.036\" x2=\"1642.55\" y2=\"593.036\" style=\"stroke:#ff0000; stroke-width:4; stroke-opacity:0.8\"/>\n",
              "<line clip-path=\"url(#clip0003)\" x1=\"712.039\" y1=\"562.569\" x2=\"712.039\" y2=\"578.569\" style=\"stroke:#ff0000; stroke-width:4; stroke-opacity:0.8\"/>\n",
              "<line clip-path=\"url(#clip0003)\" x1=\"773.215\" y1=\"562.569\" x2=\"773.215\" y2=\"578.569\" style=\"stroke:#ff0000; stroke-width:4; stroke-opacity:0.8\"/>\n",
              "<line clip-path=\"url(#clip0003)\" x1=\"850.176\" y1=\"562.569\" x2=\"850.176\" y2=\"578.569\" style=\"stroke:#ff0000; stroke-width:4; stroke-opacity:0.8\"/>\n",
              "<line clip-path=\"url(#clip0003)\" x1=\"864.579\" y1=\"562.569\" x2=\"864.579\" y2=\"578.569\" style=\"stroke:#ff0000; stroke-width:4; stroke-opacity:0.8\"/>\n",
              "<line clip-path=\"url(#clip0003)\" x1=\"880.364\" y1=\"562.569\" x2=\"880.364\" y2=\"578.569\" style=\"stroke:#ff0000; stroke-width:4; stroke-opacity:0.8\"/>\n",
              "<line clip-path=\"url(#clip0003)\" x1=\"911.352\" y1=\"562.569\" x2=\"911.352\" y2=\"578.569\" style=\"stroke:#ff0000; stroke-width:4; stroke-opacity:0.8\"/>\n",
              "<line clip-path=\"url(#clip0003)\" x1=\"931.937\" y1=\"562.569\" x2=\"931.937\" y2=\"578.569\" style=\"stroke:#ff0000; stroke-width:4; stroke-opacity:0.8\"/>\n",
              "<line clip-path=\"url(#clip0003)\" x1=\"940.666\" y1=\"562.569\" x2=\"940.666\" y2=\"578.569\" style=\"stroke:#ff0000; stroke-width:4; stroke-opacity:0.8\"/>\n",
              "<line clip-path=\"url(#clip0003)\" x1=\"1056.11\" y1=\"562.569\" x2=\"1056.11\" y2=\"578.569\" style=\"stroke:#ff0000; stroke-width:4; stroke-opacity:0.8\"/>\n",
              "<line clip-path=\"url(#clip0003)\" x1=\"1123.25\" y1=\"562.569\" x2=\"1123.25\" y2=\"578.569\" style=\"stroke:#ff0000; stroke-width:4; stroke-opacity:0.8\"/>\n",
              "<line clip-path=\"url(#clip0003)\" x1=\"1337.54\" y1=\"562.569\" x2=\"1337.54\" y2=\"578.569\" style=\"stroke:#ff0000; stroke-width:4; stroke-opacity:0.8\"/>\n",
              "<line clip-path=\"url(#clip0003)\" x1=\"1418.14\" y1=\"562.569\" x2=\"1418.14\" y2=\"578.569\" style=\"stroke:#ff0000; stroke-width:4; stroke-opacity:0.8\"/>\n",
              "<line clip-path=\"url(#clip0003)\" x1=\"1430.8\" y1=\"562.569\" x2=\"1430.8\" y2=\"578.569\" style=\"stroke:#ff0000; stroke-width:4; stroke-opacity:0.8\"/>\n",
              "<line clip-path=\"url(#clip0003)\" x1=\"1450.8\" y1=\"562.569\" x2=\"1450.8\" y2=\"578.569\" style=\"stroke:#ff0000; stroke-width:4; stroke-opacity:0.8\"/>\n",
              "<line clip-path=\"url(#clip0003)\" x1=\"1654.77\" y1=\"562.569\" x2=\"1654.77\" y2=\"578.569\" style=\"stroke:#ff0000; stroke-width:4; stroke-opacity:0.8\"/>\n",
              "<line clip-path=\"url(#clip0003)\" x1=\"1764.9\" y1=\"562.569\" x2=\"1764.9\" y2=\"578.569\" style=\"stroke:#ff0000; stroke-width:4; stroke-opacity:0.8\"/>\n",
              "<line clip-path=\"url(#clip0003)\" x1=\"502.398\" y1=\"548.102\" x2=\"502.398\" y2=\"564.102\" style=\"stroke:#ff0000; stroke-width:4; stroke-opacity:0.8\"/>\n",
              "<line clip-path=\"url(#clip0003)\" x1=\"976.746\" y1=\"548.102\" x2=\"976.746\" y2=\"564.102\" style=\"stroke:#ff0000; stroke-width:4; stroke-opacity:0.8\"/>\n",
              "<line clip-path=\"url(#clip0003)\" x1=\"1096.19\" y1=\"548.102\" x2=\"1096.19\" y2=\"564.102\" style=\"stroke:#ff0000; stroke-width:4; stroke-opacity:0.8\"/>\n",
              "<line clip-path=\"url(#clip0003)\" x1=\"1230.61\" y1=\"548.102\" x2=\"1230.61\" y2=\"564.102\" style=\"stroke:#ff0000; stroke-width:4; stroke-opacity:0.8\"/>\n",
              "<line clip-path=\"url(#clip0003)\" x1=\"1627.13\" y1=\"548.102\" x2=\"1627.13\" y2=\"564.102\" style=\"stroke:#ff0000; stroke-width:4; stroke-opacity:0.8\"/>\n",
              "<line clip-path=\"url(#clip0003)\" x1=\"1642.48\" y1=\"548.102\" x2=\"1642.48\" y2=\"564.102\" style=\"stroke:#ff0000; stroke-width:4; stroke-opacity:0.8\"/>\n",
              "<line clip-path=\"url(#clip0003)\" x1=\"540.442\" y1=\"533.634\" x2=\"540.442\" y2=\"549.634\" style=\"stroke:#ff0000; stroke-width:4; stroke-opacity:0.8\"/>\n",
              "<line clip-path=\"url(#clip0003)\" x1=\"754.521\" y1=\"533.634\" x2=\"754.521\" y2=\"549.634\" style=\"stroke:#ff0000; stroke-width:4; stroke-opacity:0.8\"/>\n",
              "<line clip-path=\"url(#clip0003)\" x1=\"760.194\" y1=\"533.634\" x2=\"760.194\" y2=\"549.634\" style=\"stroke:#ff0000; stroke-width:4; stroke-opacity:0.8\"/>\n",
              "<line clip-path=\"url(#clip0003)\" x1=\"1097.79\" y1=\"533.634\" x2=\"1097.79\" y2=\"549.634\" style=\"stroke:#ff0000; stroke-width:4; stroke-opacity:0.8\"/>\n",
              "<line clip-path=\"url(#clip0003)\" x1=\"1167.33\" y1=\"533.634\" x2=\"1167.33\" y2=\"549.634\" style=\"stroke:#ff0000; stroke-width:4; stroke-opacity:0.8\"/>\n",
              "<line clip-path=\"url(#clip0003)\" x1=\"1307.28\" y1=\"533.634\" x2=\"1307.28\" y2=\"549.634\" style=\"stroke:#ff0000; stroke-width:4; stroke-opacity:0.8\"/>\n",
              "<line clip-path=\"url(#clip0003)\" x1=\"1329.18\" y1=\"533.634\" x2=\"1329.18\" y2=\"549.634\" style=\"stroke:#ff0000; stroke-width:4; stroke-opacity:0.8\"/>\n",
              "<line clip-path=\"url(#clip0003)\" x1=\"1397.56\" y1=\"533.634\" x2=\"1397.56\" y2=\"549.634\" style=\"stroke:#ff0000; stroke-width:4; stroke-opacity:0.8\"/>\n",
              "<line clip-path=\"url(#clip0003)\" x1=\"1537.88\" y1=\"533.634\" x2=\"1537.88\" y2=\"549.634\" style=\"stroke:#ff0000; stroke-width:4; stroke-opacity:0.8\"/>\n",
              "<line clip-path=\"url(#clip0003)\" x1=\"1550.75\" y1=\"533.634\" x2=\"1550.75\" y2=\"549.634\" style=\"stroke:#ff0000; stroke-width:4; stroke-opacity:0.8\"/>\n",
              "<line clip-path=\"url(#clip0003)\" x1=\"1667.86\" y1=\"533.634\" x2=\"1667.86\" y2=\"549.634\" style=\"stroke:#ff0000; stroke-width:4; stroke-opacity:0.8\"/>\n",
              "<line clip-path=\"url(#clip0003)\" x1=\"1737.92\" y1=\"533.634\" x2=\"1737.92\" y2=\"549.634\" style=\"stroke:#ff0000; stroke-width:4; stroke-opacity:0.8\"/>\n",
              "<line clip-path=\"url(#clip0003)\" x1=\"362.516\" y1=\"519.167\" x2=\"362.516\" y2=\"535.167\" style=\"stroke:#ff0000; stroke-width:4; stroke-opacity:0.8\"/>\n",
              "<line clip-path=\"url(#clip0003)\" x1=\"475.047\" y1=\"519.167\" x2=\"475.047\" y2=\"535.167\" style=\"stroke:#ff0000; stroke-width:4; stroke-opacity:0.8\"/>\n",
              "<line clip-path=\"url(#clip0003)\" x1=\"657.992\" y1=\"519.167\" x2=\"657.992\" y2=\"535.167\" style=\"stroke:#ff0000; stroke-width:4; stroke-opacity:0.8\"/>\n",
              "<line clip-path=\"url(#clip0003)\" x1=\"696.327\" y1=\"519.167\" x2=\"696.327\" y2=\"535.167\" style=\"stroke:#ff0000; stroke-width:4; stroke-opacity:0.8\"/>\n",
              "<line clip-path=\"url(#clip0003)\" x1=\"736.335\" y1=\"519.167\" x2=\"736.335\" y2=\"535.167\" style=\"stroke:#ff0000; stroke-width:4; stroke-opacity:0.8\"/>\n",
              "<line clip-path=\"url(#clip0003)\" x1=\"773.215\" y1=\"519.167\" x2=\"773.215\" y2=\"535.167\" style=\"stroke:#ff0000; stroke-width:4; stroke-opacity:0.8\"/>\n",
              "<line clip-path=\"url(#clip0003)\" x1=\"789\" y1=\"519.167\" x2=\"789\" y2=\"535.167\" style=\"stroke:#ff0000; stroke-width:4; stroke-opacity:0.8\"/>\n",
              "<line clip-path=\"url(#clip0003)\" x1=\"824.934\" y1=\"519.167\" x2=\"824.934\" y2=\"535.167\" style=\"stroke:#ff0000; stroke-width:4; stroke-opacity:0.8\"/>\n",
              "<line clip-path=\"url(#clip0003)\" x1=\"1072.55\" y1=\"519.167\" x2=\"1072.55\" y2=\"535.167\" style=\"stroke:#ff0000; stroke-width:4; stroke-opacity:0.8\"/>\n",
              "<line clip-path=\"url(#clip0003)\" x1=\"1097.93\" y1=\"519.167\" x2=\"1097.93\" y2=\"535.167\" style=\"stroke:#ff0000; stroke-width:4; stroke-opacity:0.8\"/>\n",
              "<line clip-path=\"url(#clip0003)\" x1=\"1130.67\" y1=\"519.167\" x2=\"1130.67\" y2=\"535.167\" style=\"stroke:#ff0000; stroke-width:4; stroke-opacity:0.8\"/>\n",
              "<line clip-path=\"url(#clip0003)\" x1=\"1252.58\" y1=\"519.167\" x2=\"1252.58\" y2=\"535.167\" style=\"stroke:#ff0000; stroke-width:4; stroke-opacity:0.8\"/>\n",
              "<line clip-path=\"url(#clip0003)\" x1=\"1391.23\" y1=\"519.167\" x2=\"1391.23\" y2=\"535.167\" style=\"stroke:#ff0000; stroke-width:4; stroke-opacity:0.8\"/>\n",
              "<line clip-path=\"url(#clip0003)\" x1=\"1693.25\" y1=\"519.167\" x2=\"1693.25\" y2=\"535.167\" style=\"stroke:#ff0000; stroke-width:4; stroke-opacity:0.8\"/>\n",
              "<line clip-path=\"url(#clip0003)\" x1=\"1728.9\" y1=\"519.167\" x2=\"1728.9\" y2=\"535.167\" style=\"stroke:#ff0000; stroke-width:4; stroke-opacity:0.8\"/>\n",
              "<line clip-path=\"url(#clip0003)\" x1=\"1749.04\" y1=\"519.167\" x2=\"1749.04\" y2=\"535.167\" style=\"stroke:#ff0000; stroke-width:4; stroke-opacity:0.8\"/>\n",
              "<line clip-path=\"url(#clip0003)\" x1=\"1752.83\" y1=\"519.167\" x2=\"1752.83\" y2=\"535.167\" style=\"stroke:#ff0000; stroke-width:4; stroke-opacity:0.8\"/>\n",
              "<line clip-path=\"url(#clip0003)\" x1=\"352.55\" y1=\"504.699\" x2=\"352.55\" y2=\"520.699\" style=\"stroke:#ff0000; stroke-width:4; stroke-opacity:0.8\"/>\n",
              "<line clip-path=\"url(#clip0003)\" x1=\"473.592\" y1=\"504.699\" x2=\"473.592\" y2=\"520.699\" style=\"stroke:#ff0000; stroke-width:4; stroke-opacity:0.8\"/>\n",
              "<line clip-path=\"url(#clip0003)\" x1=\"837.155\" y1=\"504.699\" x2=\"837.155\" y2=\"520.699\" style=\"stroke:#ff0000; stroke-width:4; stroke-opacity:0.8\"/>\n",
              "<line clip-path=\"url(#clip0003)\" x1=\"1061.56\" y1=\"504.699\" x2=\"1061.56\" y2=\"520.699\" style=\"stroke:#ff0000; stroke-width:4; stroke-opacity:0.8\"/>\n",
              "<line clip-path=\"url(#clip0003)\" x1=\"1179.7\" y1=\"504.699\" x2=\"1179.7\" y2=\"520.699\" style=\"stroke:#ff0000; stroke-width:4; stroke-opacity:0.8\"/>\n",
              "<line clip-path=\"url(#clip0003)\" x1=\"1671.07\" y1=\"504.699\" x2=\"1671.07\" y2=\"520.699\" style=\"stroke:#ff0000; stroke-width:4; stroke-opacity:0.8\"/>\n",
              "<line clip-path=\"url(#clip0003)\" x1=\"1249.02\" y1=\"490.232\" x2=\"1249.02\" y2=\"506.232\" style=\"stroke:#ff0000; stroke-width:4; stroke-opacity:0.8\"/>\n",
              "<line clip-path=\"url(#clip0003)\" x1=\"1276.01\" y1=\"490.232\" x2=\"1276.01\" y2=\"506.232\" style=\"stroke:#ff0000; stroke-width:4; stroke-opacity:0.8\"/>\n",
              "<line clip-path=\"url(#clip0003)\" x1=\"1556.57\" y1=\"490.232\" x2=\"1556.57\" y2=\"506.232\" style=\"stroke:#ff0000; stroke-width:4; stroke-opacity:0.8\"/>\n",
              "<line clip-path=\"url(#clip0003)\" x1=\"589.542\" y1=\"475.764\" x2=\"589.542\" y2=\"491.764\" style=\"stroke:#ff0000; stroke-width:4; stroke-opacity:0.8\"/>\n",
              "<line clip-path=\"url(#clip0003)\" x1=\"961.18\" y1=\"475.764\" x2=\"961.18\" y2=\"491.764\" style=\"stroke:#ff0000; stroke-width:4; stroke-opacity:0.8\"/>\n",
              "<line clip-path=\"url(#clip0003)\" x1=\"1152.2\" y1=\"475.764\" x2=\"1152.2\" y2=\"491.764\" style=\"stroke:#ff0000; stroke-width:4; stroke-opacity:0.8\"/>\n",
              "<line clip-path=\"url(#clip0003)\" x1=\"2439.36\" y1=\"475.764\" x2=\"2439.36\" y2=\"491.764\" style=\"stroke:#ff0000; stroke-width:4; stroke-opacity:0.8\"/>\n",
              "<line clip-path=\"url(#clip0003)\" x1=\"641.334\" y1=\"461.297\" x2=\"641.334\" y2=\"477.297\" style=\"stroke:#ff0000; stroke-width:4; stroke-opacity:0.8\"/>\n",
              "<line clip-path=\"url(#clip0003)\" x1=\"705.347\" y1=\"461.297\" x2=\"705.347\" y2=\"477.297\" style=\"stroke:#ff0000; stroke-width:4; stroke-opacity:0.8\"/>\n",
              "<line clip-path=\"url(#clip0003)\" x1=\"883.273\" y1=\"461.297\" x2=\"883.273\" y2=\"477.297\" style=\"stroke:#ff0000; stroke-width:4; stroke-opacity:0.8\"/>\n",
              "<line clip-path=\"url(#clip0003)\" x1=\"925.463\" y1=\"461.297\" x2=\"925.463\" y2=\"477.297\" style=\"stroke:#ff0000; stroke-width:4; stroke-opacity:0.8\"/>\n",
              "<line clip-path=\"url(#clip0003)\" x1=\"933.683\" y1=\"461.297\" x2=\"933.683\" y2=\"477.297\" style=\"stroke:#ff0000; stroke-width:4; stroke-opacity:0.8\"/>\n",
              "<line clip-path=\"url(#clip0003)\" x1=\"1069.78\" y1=\"461.297\" x2=\"1069.78\" y2=\"477.297\" style=\"stroke:#ff0000; stroke-width:4; stroke-opacity:0.8\"/>\n",
              "<line clip-path=\"url(#clip0003)\" x1=\"664.175\" y1=\"446.829\" x2=\"664.175\" y2=\"462.829\" style=\"stroke:#ff0000; stroke-width:4; stroke-opacity:0.8\"/>\n",
              "<line clip-path=\"url(#clip0003)\" x1=\"1122.3\" y1=\"446.829\" x2=\"1122.3\" y2=\"462.829\" style=\"stroke:#ff0000; stroke-width:4; stroke-opacity:0.8\"/>\n",
              "<line clip-path=\"url(#clip0003)\" x1=\"520.583\" y1=\"432.362\" x2=\"520.583\" y2=\"448.362\" style=\"stroke:#ff0000; stroke-width:4; stroke-opacity:0.8\"/>\n",
              "<line clip-path=\"url(#clip0003)\" x1=\"664.466\" y1=\"432.362\" x2=\"664.466\" y2=\"448.362\" style=\"stroke:#ff0000; stroke-width:4; stroke-opacity:0.8\"/>\n",
              "<line clip-path=\"url(#clip0003)\" x1=\"865.088\" y1=\"432.362\" x2=\"865.088\" y2=\"448.362\" style=\"stroke:#ff0000; stroke-width:4; stroke-opacity:0.8\"/>\n",
              "<line clip-path=\"url(#clip0003)\" x1=\"1028.97\" y1=\"432.362\" x2=\"1028.97\" y2=\"448.362\" style=\"stroke:#ff0000; stroke-width:4; stroke-opacity:0.8\"/>\n",
              "<line clip-path=\"url(#clip0003)\" x1=\"1075.53\" y1=\"432.362\" x2=\"1075.53\" y2=\"448.362\" style=\"stroke:#ff0000; stroke-width:4; stroke-opacity:0.8\"/>\n",
              "<line clip-path=\"url(#clip0003)\" x1=\"1082.59\" y1=\"432.362\" x2=\"1082.59\" y2=\"448.362\" style=\"stroke:#ff0000; stroke-width:4; stroke-opacity:0.8\"/>\n",
              "<line clip-path=\"url(#clip0003)\" x1=\"1611.64\" y1=\"432.362\" x2=\"1611.64\" y2=\"448.362\" style=\"stroke:#ff0000; stroke-width:4; stroke-opacity:0.8\"/>\n",
              "<line clip-path=\"url(#clip0003)\" x1=\"344.839\" y1=\"417.894\" x2=\"344.839\" y2=\"433.894\" style=\"stroke:#ff0000; stroke-width:4; stroke-opacity:0.8\"/>\n",
              "<line clip-path=\"url(#clip0003)\" x1=\"689.635\" y1=\"417.894\" x2=\"689.635\" y2=\"433.894\" style=\"stroke:#ff0000; stroke-width:4; stroke-opacity:0.8\"/>\n",
              "<line clip-path=\"url(#clip0003)\" x1=\"760.049\" y1=\"417.894\" x2=\"760.049\" y2=\"433.894\" style=\"stroke:#ff0000; stroke-width:4; stroke-opacity:0.8\"/>\n",
              "<line clip-path=\"url(#clip0003)\" x1=\"871.853\" y1=\"417.894\" x2=\"871.853\" y2=\"433.894\" style=\"stroke:#ff0000; stroke-width:4; stroke-opacity:0.8\"/>\n",
              "<line clip-path=\"url(#clip0003)\" x1=\"919.79\" y1=\"417.894\" x2=\"919.79\" y2=\"433.894\" style=\"stroke:#ff0000; stroke-width:4; stroke-opacity:0.8\"/>\n",
              "<line clip-path=\"url(#clip0003)\" x1=\"929.319\" y1=\"417.894\" x2=\"929.319\" y2=\"433.894\" style=\"stroke:#ff0000; stroke-width:4; stroke-opacity:0.8\"/>\n",
              "<line clip-path=\"url(#clip0003)\" x1=\"941.321\" y1=\"417.894\" x2=\"941.321\" y2=\"433.894\" style=\"stroke:#ff0000; stroke-width:4; stroke-opacity:0.8\"/>\n",
              "<line clip-path=\"url(#clip0003)\" x1=\"1002.13\" y1=\"417.894\" x2=\"1002.13\" y2=\"433.894\" style=\"stroke:#ff0000; stroke-width:4; stroke-opacity:0.8\"/>\n",
              "<line clip-path=\"url(#clip0003)\" x1=\"1190.17\" y1=\"417.894\" x2=\"1190.17\" y2=\"433.894\" style=\"stroke:#ff0000; stroke-width:4; stroke-opacity:0.8\"/>\n",
              "<line clip-path=\"url(#clip0003)\" x1=\"1205.74\" y1=\"417.894\" x2=\"1205.74\" y2=\"433.894\" style=\"stroke:#ff0000; stroke-width:4; stroke-opacity:0.8\"/>\n",
              "<line clip-path=\"url(#clip0003)\" x1=\"1280.59\" y1=\"417.894\" x2=\"1280.59\" y2=\"433.894\" style=\"stroke:#ff0000; stroke-width:4; stroke-opacity:0.8\"/>\n",
              "<line clip-path=\"url(#clip0003)\" x1=\"1421.05\" y1=\"417.894\" x2=\"1421.05\" y2=\"433.894\" style=\"stroke:#ff0000; stroke-width:4; stroke-opacity:0.8\"/>\n",
              "<line clip-path=\"url(#clip0003)\" x1=\"1689.98\" y1=\"417.894\" x2=\"1689.98\" y2=\"433.894\" style=\"stroke:#ff0000; stroke-width:4; stroke-opacity:0.8\"/>\n",
              "<line clip-path=\"url(#clip0003)\" x1=\"506.035\" y1=\"403.427\" x2=\"506.035\" y2=\"419.427\" style=\"stroke:#ff0000; stroke-width:4; stroke-opacity:0.8\"/>\n",
              "<line clip-path=\"url(#clip0003)\" x1=\"676.178\" y1=\"403.427\" x2=\"676.178\" y2=\"419.427\" style=\"stroke:#ff0000; stroke-width:4; stroke-opacity:0.8\"/>\n",
              "<line clip-path=\"url(#clip0003)\" x1=\"784.345\" y1=\"403.427\" x2=\"784.345\" y2=\"419.427\" style=\"stroke:#ff0000; stroke-width:4; stroke-opacity:0.8\"/>\n",
              "<line clip-path=\"url(#clip0003)\" x1=\"815.478\" y1=\"403.427\" x2=\"815.478\" y2=\"419.427\" style=\"stroke:#ff0000; stroke-width:4; stroke-opacity:0.8\"/>\n",
              "<line clip-path=\"url(#clip0003)\" x1=\"862.76\" y1=\"403.427\" x2=\"862.76\" y2=\"419.427\" style=\"stroke:#ff0000; stroke-width:4; stroke-opacity:0.8\"/>\n",
              "<line clip-path=\"url(#clip0003)\" x1=\"1055.82\" y1=\"403.427\" x2=\"1055.82\" y2=\"419.427\" style=\"stroke:#ff0000; stroke-width:4; stroke-opacity:0.8\"/>\n",
              "<line clip-path=\"url(#clip0003)\" x1=\"1086\" y1=\"403.427\" x2=\"1086\" y2=\"419.427\" style=\"stroke:#ff0000; stroke-width:4; stroke-opacity:0.8\"/>\n",
              "<line clip-path=\"url(#clip0003)\" x1=\"1208.57\" y1=\"403.427\" x2=\"1208.57\" y2=\"419.427\" style=\"stroke:#ff0000; stroke-width:4; stroke-opacity:0.8\"/>\n",
              "<line clip-path=\"url(#clip0003)\" x1=\"1283.5\" y1=\"403.427\" x2=\"1283.5\" y2=\"419.427\" style=\"stroke:#ff0000; stroke-width:4; stroke-opacity:0.8\"/>\n",
              "<line clip-path=\"url(#clip0003)\" x1=\"1296.08\" y1=\"403.427\" x2=\"1296.08\" y2=\"419.427\" style=\"stroke:#ff0000; stroke-width:4; stroke-opacity:0.8\"/>\n",
              "<line clip-path=\"url(#clip0003)\" x1=\"1361.04\" y1=\"403.427\" x2=\"1361.04\" y2=\"419.427\" style=\"stroke:#ff0000; stroke-width:4; stroke-opacity:0.8\"/>\n",
              "<line clip-path=\"url(#clip0003)\" x1=\"1451.82\" y1=\"403.427\" x2=\"1451.82\" y2=\"419.427\" style=\"stroke:#ff0000; stroke-width:4; stroke-opacity:0.8\"/>\n",
              "<line clip-path=\"url(#clip0003)\" x1=\"1587.56\" y1=\"403.427\" x2=\"1587.56\" y2=\"419.427\" style=\"stroke:#ff0000; stroke-width:4; stroke-opacity:0.8\"/>\n",
              "<line clip-path=\"url(#clip0003)\" x1=\"1665.17\" y1=\"403.427\" x2=\"1665.17\" y2=\"419.427\" style=\"stroke:#ff0000; stroke-width:4; stroke-opacity:0.8\"/>\n",
              "<line clip-path=\"url(#clip0003)\" x1=\"1765.92\" y1=\"403.427\" x2=\"1765.92\" y2=\"419.427\" style=\"stroke:#ff0000; stroke-width:4; stroke-opacity:0.8\"/>\n",
              "<line clip-path=\"url(#clip0003)\" x1=\"685.343\" y1=\"388.96\" x2=\"685.343\" y2=\"404.96\" style=\"stroke:#ff0000; stroke-width:4; stroke-opacity:0.8\"/>\n",
              "<line clip-path=\"url(#clip0003)\" x1=\"708.693\" y1=\"388.96\" x2=\"708.693\" y2=\"404.96\" style=\"stroke:#ff0000; stroke-width:4; stroke-opacity:0.8\"/>\n",
              "<line clip-path=\"url(#clip0003)\" x1=\"757.066\" y1=\"388.96\" x2=\"757.066\" y2=\"404.96\" style=\"stroke:#ff0000; stroke-width:4; stroke-opacity:0.8\"/>\n",
              "<line clip-path=\"url(#clip0003)\" x1=\"1030.58\" y1=\"388.96\" x2=\"1030.58\" y2=\"404.96\" style=\"stroke:#ff0000; stroke-width:4; stroke-opacity:0.8\"/>\n",
              "<line clip-path=\"url(#clip0003)\" x1=\"1169.29\" y1=\"388.96\" x2=\"1169.29\" y2=\"404.96\" style=\"stroke:#ff0000; stroke-width:4; stroke-opacity:0.8\"/>\n",
              "<line clip-path=\"url(#clip0003)\" x1=\"1458.01\" y1=\"388.96\" x2=\"1458.01\" y2=\"404.96\" style=\"stroke:#ff0000; stroke-width:4; stroke-opacity:0.8\"/>\n",
              "<line clip-path=\"url(#clip0003)\" x1=\"1635.93\" y1=\"388.96\" x2=\"1635.93\" y2=\"404.96\" style=\"stroke:#ff0000; stroke-width:4; stroke-opacity:0.8\"/>\n",
              "<line clip-path=\"url(#clip0003)\" x1=\"814.969\" y1=\"374.492\" x2=\"814.969\" y2=\"390.492\" style=\"stroke:#ff0000; stroke-width:4; stroke-opacity:0.8\"/>\n",
              "<line clip-path=\"url(#clip0003)\" x1=\"1239.2\" y1=\"374.492\" x2=\"1239.2\" y2=\"390.492\" style=\"stroke:#ff0000; stroke-width:4; stroke-opacity:0.8\"/>\n",
              "<line clip-path=\"url(#clip0003)\" x1=\"1267.71\" y1=\"374.492\" x2=\"1267.71\" y2=\"390.492\" style=\"stroke:#ff0000; stroke-width:4; stroke-opacity:0.8\"/>\n",
              "<line clip-path=\"url(#clip0003)\" x1=\"363.971\" y1=\"360.025\" x2=\"363.971\" y2=\"376.025\" style=\"stroke:#ff0000; stroke-width:4; stroke-opacity:0.8\"/>\n",
              "<line clip-path=\"url(#clip0003)\" x1=\"735.244\" y1=\"360.025\" x2=\"735.244\" y2=\"376.025\" style=\"stroke:#ff0000; stroke-width:4; stroke-opacity:0.8\"/>\n",
              "<line clip-path=\"url(#clip0003)\" x1=\"1277.68\" y1=\"360.025\" x2=\"1277.68\" y2=\"376.025\" style=\"stroke:#ff0000; stroke-width:4; stroke-opacity:0.8\"/>\n",
              "<line clip-path=\"url(#clip0003)\" x1=\"1656.44\" y1=\"360.025\" x2=\"1656.44\" y2=\"376.025\" style=\"stroke:#ff0000; stroke-width:4; stroke-opacity:0.8\"/>\n",
              "<line clip-path=\"url(#clip0003)\" x1=\"2233.07\" y1=\"360.025\" x2=\"2233.07\" y2=\"376.025\" style=\"stroke:#ff0000; stroke-width:4; stroke-opacity:0.8\"/>\n",
              "<line clip-path=\"url(#clip0003)\" x1=\"652.391\" y1=\"345.557\" x2=\"652.391\" y2=\"361.557\" style=\"stroke:#ff0000; stroke-width:4; stroke-opacity:0.8\"/>\n",
              "<line clip-path=\"url(#clip0003)\" x1=\"795.11\" y1=\"345.557\" x2=\"795.11\" y2=\"361.557\" style=\"stroke:#ff0000; stroke-width:4; stroke-opacity:0.8\"/>\n",
              "<line clip-path=\"url(#clip0003)\" x1=\"813.659\" y1=\"345.557\" x2=\"813.659\" y2=\"361.557\" style=\"stroke:#ff0000; stroke-width:4; stroke-opacity:0.8\"/>\n",
              "<line clip-path=\"url(#clip0003)\" x1=\"835.264\" y1=\"345.557\" x2=\"835.264\" y2=\"361.557\" style=\"stroke:#ff0000; stroke-width:4; stroke-opacity:0.8\"/>\n",
              "<line clip-path=\"url(#clip0003)\" x1=\"845.811\" y1=\"345.557\" x2=\"845.811\" y2=\"361.557\" style=\"stroke:#ff0000; stroke-width:4; stroke-opacity:0.8\"/>\n",
              "<line clip-path=\"url(#clip0003)\" x1=\"873.817\" y1=\"345.557\" x2=\"873.817\" y2=\"361.557\" style=\"stroke:#ff0000; stroke-width:4; stroke-opacity:0.8\"/>\n",
              "<line clip-path=\"url(#clip0003)\" x1=\"1192.64\" y1=\"345.557\" x2=\"1192.64\" y2=\"361.557\" style=\"stroke:#ff0000; stroke-width:4; stroke-opacity:0.8\"/>\n",
              "<line clip-path=\"url(#clip0003)\" x1=\"1355.44\" y1=\"345.557\" x2=\"1355.44\" y2=\"361.557\" style=\"stroke:#ff0000; stroke-width:4; stroke-opacity:0.8\"/>\n",
              "<line clip-path=\"url(#clip0003)\" x1=\"2316.72\" y1=\"345.557\" x2=\"2316.72\" y2=\"361.557\" style=\"stroke:#ff0000; stroke-width:4; stroke-opacity:0.8\"/>\n",
              "<line clip-path=\"url(#clip0003)\" x1=\"341.275\" y1=\"331.09\" x2=\"341.275\" y2=\"347.09\" style=\"stroke:#ff0000; stroke-width:4; stroke-opacity:0.8\"/>\n",
              "<line clip-path=\"url(#clip0003)\" x1=\"481.521\" y1=\"331.09\" x2=\"481.521\" y2=\"347.09\" style=\"stroke:#ff0000; stroke-width:4; stroke-opacity:0.8\"/>\n",
              "<line clip-path=\"url(#clip0003)\" x1=\"961.834\" y1=\"331.09\" x2=\"961.834\" y2=\"347.09\" style=\"stroke:#ff0000; stroke-width:4; stroke-opacity:0.8\"/>\n",
              "<line clip-path=\"url(#clip0003)\" x1=\"1034.43\" y1=\"331.09\" x2=\"1034.43\" y2=\"347.09\" style=\"stroke:#ff0000; stroke-width:4; stroke-opacity:0.8\"/>\n",
              "<line clip-path=\"url(#clip0003)\" x1=\"1044.4\" y1=\"331.09\" x2=\"1044.4\" y2=\"347.09\" style=\"stroke:#ff0000; stroke-width:4; stroke-opacity:0.8\"/>\n",
              "<line clip-path=\"url(#clip0003)\" x1=\"1064.4\" y1=\"331.09\" x2=\"1064.4\" y2=\"347.09\" style=\"stroke:#ff0000; stroke-width:4; stroke-opacity:0.8\"/>\n",
              "<line clip-path=\"url(#clip0003)\" x1=\"1183.33\" y1=\"331.09\" x2=\"1183.33\" y2=\"347.09\" style=\"stroke:#ff0000; stroke-width:4; stroke-opacity:0.8\"/>\n",
              "<line clip-path=\"url(#clip0003)\" x1=\"1263.42\" y1=\"331.09\" x2=\"1263.42\" y2=\"347.09\" style=\"stroke:#ff0000; stroke-width:4; stroke-opacity:0.8\"/>\n",
              "<line clip-path=\"url(#clip0003)\" x1=\"1276.37\" y1=\"331.09\" x2=\"1276.37\" y2=\"347.09\" style=\"stroke:#ff0000; stroke-width:4; stroke-opacity:0.8\"/>\n",
              "<line clip-path=\"url(#clip0003)\" x1=\"1485.79\" y1=\"331.09\" x2=\"1485.79\" y2=\"347.09\" style=\"stroke:#ff0000; stroke-width:4; stroke-opacity:0.8\"/>\n",
              "<line clip-path=\"url(#clip0003)\" x1=\"1493.5\" y1=\"331.09\" x2=\"1493.5\" y2=\"347.09\" style=\"stroke:#ff0000; stroke-width:4; stroke-opacity:0.8\"/>\n",
              "<line clip-path=\"url(#clip0003)\" x1=\"1931.63\" y1=\"331.09\" x2=\"1931.63\" y2=\"347.09\" style=\"stroke:#ff0000; stroke-width:4; stroke-opacity:0.8\"/>\n",
              "<line clip-path=\"url(#clip0003)\" x1=\"2087.08\" y1=\"331.09\" x2=\"2087.08\" y2=\"347.09\" style=\"stroke:#ff0000; stroke-width:4; stroke-opacity:0.8\"/>\n",
              "<line clip-path=\"url(#clip0003)\" x1=\"2260.85\" y1=\"331.09\" x2=\"2260.85\" y2=\"347.09\" style=\"stroke:#ff0000; stroke-width:4; stroke-opacity:0.8\"/>\n",
              "<line clip-path=\"url(#clip0003)\" x1=\"323.672\" y1=\"316.622\" x2=\"323.672\" y2=\"332.622\" style=\"stroke:#ff0000; stroke-width:4; stroke-opacity:0.8\"/>\n",
              "<line clip-path=\"url(#clip0003)\" x1=\"654.283\" y1=\"316.622\" x2=\"654.283\" y2=\"332.622\" style=\"stroke:#ff0000; stroke-width:4; stroke-opacity:0.8\"/>\n",
              "<line clip-path=\"url(#clip0003)\" x1=\"720.186\" y1=\"316.622\" x2=\"720.186\" y2=\"332.622\" style=\"stroke:#ff0000; stroke-width:4; stroke-opacity:0.8\"/>\n",
              "<line clip-path=\"url(#clip0003)\" x1=\"725.206\" y1=\"316.622\" x2=\"725.206\" y2=\"332.622\" style=\"stroke:#ff0000; stroke-width:4; stroke-opacity:0.8\"/>\n",
              "<line clip-path=\"url(#clip0003)\" x1=\"766.086\" y1=\"316.622\" x2=\"766.086\" y2=\"332.622\" style=\"stroke:#ff0000; stroke-width:4; stroke-opacity:0.8\"/>\n",
              "<line clip-path=\"url(#clip0003)\" x1=\"937.248\" y1=\"316.622\" x2=\"937.248\" y2=\"332.622\" style=\"stroke:#ff0000; stroke-width:4; stroke-opacity:0.8\"/>\n",
              "<line clip-path=\"url(#clip0003)\" x1=\"956.015\" y1=\"316.622\" x2=\"956.015\" y2=\"332.622\" style=\"stroke:#ff0000; stroke-width:4; stroke-opacity:0.8\"/>\n",
              "<line clip-path=\"url(#clip0003)\" x1=\"1194.9\" y1=\"316.622\" x2=\"1194.9\" y2=\"332.622\" style=\"stroke:#ff0000; stroke-width:4; stroke-opacity:0.8\"/>\n",
              "<line clip-path=\"url(#clip0003)\" x1=\"1325.18\" y1=\"316.622\" x2=\"1325.18\" y2=\"332.622\" style=\"stroke:#ff0000; stroke-width:4; stroke-opacity:0.8\"/>\n",
              "<line clip-path=\"url(#clip0003)\" x1=\"1693.62\" y1=\"316.622\" x2=\"1693.62\" y2=\"332.622\" style=\"stroke:#ff0000; stroke-width:4; stroke-opacity:0.8\"/>\n",
              "<line clip-path=\"url(#clip0003)\" x1=\"1706.71\" y1=\"316.622\" x2=\"1706.71\" y2=\"332.622\" style=\"stroke:#ff0000; stroke-width:4; stroke-opacity:0.8\"/>\n",
              "<line clip-path=\"url(#clip0003)\" x1=\"1719\" y1=\"316.622\" x2=\"1719\" y2=\"332.622\" style=\"stroke:#ff0000; stroke-width:4; stroke-opacity:0.8\"/>\n",
              "<line clip-path=\"url(#clip0003)\" x1=\"805.003\" y1=\"302.155\" x2=\"805.003\" y2=\"318.155\" style=\"stroke:#ff0000; stroke-width:4; stroke-opacity:0.8\"/>\n",
              "<line clip-path=\"url(#clip0003)\" x1=\"1215.85\" y1=\"302.155\" x2=\"1215.85\" y2=\"318.155\" style=\"stroke:#ff0000; stroke-width:4; stroke-opacity:0.8\"/>\n",
              "<line clip-path=\"url(#clip0003)\" x1=\"1667.65\" y1=\"302.155\" x2=\"1667.65\" y2=\"318.155\" style=\"stroke:#ff0000; stroke-width:4; stroke-opacity:0.8\"/>\n",
              "<line clip-path=\"url(#clip0003)\" x1=\"1760.17\" y1=\"302.155\" x2=\"1760.17\" y2=\"318.155\" style=\"stroke:#ff0000; stroke-width:4; stroke-opacity:0.8\"/>\n",
              "<line clip-path=\"url(#clip0003)\" x1=\"1835.53\" y1=\"302.155\" x2=\"1835.53\" y2=\"318.155\" style=\"stroke:#ff0000; stroke-width:4; stroke-opacity:0.8\"/>\n",
              "<line clip-path=\"url(#clip0003)\" x1=\"2168.98\" y1=\"302.155\" x2=\"2168.98\" y2=\"318.155\" style=\"stroke:#ff0000; stroke-width:4; stroke-opacity:0.8\"/>\n",
              "<line clip-path=\"url(#clip0003)\" x1=\"2397.75\" y1=\"302.155\" x2=\"2397.75\" y2=\"318.155\" style=\"stroke:#ff0000; stroke-width:4; stroke-opacity:0.8\"/>\n",
              "<line clip-path=\"url(#clip0003)\" x1=\"598.053\" y1=\"287.687\" x2=\"598.053\" y2=\"303.687\" style=\"stroke:#ff0000; stroke-width:4; stroke-opacity:0.8\"/>\n",
              "<line clip-path=\"url(#clip0003)\" x1=\"667.085\" y1=\"287.687\" x2=\"667.085\" y2=\"303.687\" style=\"stroke:#ff0000; stroke-width:4; stroke-opacity:0.8\"/>\n",
              "<line clip-path=\"url(#clip0003)\" x1=\"886.037\" y1=\"287.687\" x2=\"886.037\" y2=\"303.687\" style=\"stroke:#ff0000; stroke-width:4; stroke-opacity:0.8\"/>\n",
              "<line clip-path=\"url(#clip0003)\" x1=\"916.88\" y1=\"287.687\" x2=\"916.88\" y2=\"303.687\" style=\"stroke:#ff0000; stroke-width:4; stroke-opacity:0.8\"/>\n",
              "<line clip-path=\"url(#clip0003)\" x1=\"1015.95\" y1=\"287.687\" x2=\"1015.95\" y2=\"303.687\" style=\"stroke:#ff0000; stroke-width:4; stroke-opacity:0.8\"/>\n",
              "<line clip-path=\"url(#clip0003)\" x1=\"1118.01\" y1=\"287.687\" x2=\"1118.01\" y2=\"303.687\" style=\"stroke:#ff0000; stroke-width:4; stroke-opacity:0.8\"/>\n",
              "<line clip-path=\"url(#clip0003)\" x1=\"1708.6\" y1=\"287.687\" x2=\"1708.6\" y2=\"303.687\" style=\"stroke:#ff0000; stroke-width:4; stroke-opacity:0.8\"/>\n",
              "<line clip-path=\"url(#clip0003)\" x1=\"2206.59\" y1=\"287.687\" x2=\"2206.59\" y2=\"303.687\" style=\"stroke:#ff0000; stroke-width:4; stroke-opacity:0.8\"/>\n",
              "<line clip-path=\"url(#clip0003)\" x1=\"288.101\" y1=\"273.22\" x2=\"288.101\" y2=\"289.22\" style=\"stroke:#ff0000; stroke-width:4; stroke-opacity:0.8\"/>\n",
              "<line clip-path=\"url(#clip0003)\" x1=\"407.616\" y1=\"273.22\" x2=\"407.616\" y2=\"289.22\" style=\"stroke:#ff0000; stroke-width:4; stroke-opacity:0.8\"/>\n",
              "<line clip-path=\"url(#clip0003)\" x1=\"731.17\" y1=\"273.22\" x2=\"731.17\" y2=\"289.22\" style=\"stroke:#ff0000; stroke-width:4; stroke-opacity:0.8\"/>\n",
              "<line clip-path=\"url(#clip0003)\" x1=\"759.758\" y1=\"273.22\" x2=\"759.758\" y2=\"289.22\" style=\"stroke:#ff0000; stroke-width:4; stroke-opacity:0.8\"/>\n",
              "<line clip-path=\"url(#clip0003)\" x1=\"779.689\" y1=\"273.22\" x2=\"779.689\" y2=\"289.22\" style=\"stroke:#ff0000; stroke-width:4; stroke-opacity:0.8\"/>\n",
              "<line clip-path=\"url(#clip0003)\" x1=\"798.093\" y1=\"273.22\" x2=\"798.093\" y2=\"289.22\" style=\"stroke:#ff0000; stroke-width:4; stroke-opacity:0.8\"/>\n",
              "<line clip-path=\"url(#clip0003)\" x1=\"875.854\" y1=\"273.22\" x2=\"875.854\" y2=\"289.22\" style=\"stroke:#ff0000; stroke-width:4; stroke-opacity:0.8\"/>\n",
              "<line clip-path=\"url(#clip0003)\" x1=\"903.204\" y1=\"273.22\" x2=\"903.204\" y2=\"289.22\" style=\"stroke:#ff0000; stroke-width:4; stroke-opacity:0.8\"/>\n",
              "<line clip-path=\"url(#clip0003)\" x1=\"908.078\" y1=\"273.22\" x2=\"908.078\" y2=\"289.22\" style=\"stroke:#ff0000; stroke-width:4; stroke-opacity:0.8\"/>\n",
              "<line clip-path=\"url(#clip0003)\" x1=\"1225.3\" y1=\"273.22\" x2=\"1225.3\" y2=\"289.22\" style=\"stroke:#ff0000; stroke-width:4; stroke-opacity:0.8\"/>\n",
              "<line clip-path=\"url(#clip0003)\" x1=\"1404.39\" y1=\"273.22\" x2=\"1404.39\" y2=\"289.22\" style=\"stroke:#ff0000; stroke-width:4; stroke-opacity:0.8\"/>\n",
              "<line clip-path=\"url(#clip0003)\" x1=\"1415.6\" y1=\"273.22\" x2=\"1415.6\" y2=\"289.22\" style=\"stroke:#ff0000; stroke-width:4; stroke-opacity:0.8\"/>\n",
              "<line clip-path=\"url(#clip0003)\" x1=\"1717.77\" y1=\"273.22\" x2=\"1717.77\" y2=\"289.22\" style=\"stroke:#ff0000; stroke-width:4; stroke-opacity:0.8\"/>\n",
              "<line clip-path=\"url(#clip0003)\" x1=\"1012.46\" y1=\"258.753\" x2=\"1012.46\" y2=\"274.753\" style=\"stroke:#ff0000; stroke-width:4; stroke-opacity:0.8\"/>\n",
              "<line clip-path=\"url(#clip0003)\" x1=\"1456.48\" y1=\"258.753\" x2=\"1456.48\" y2=\"274.753\" style=\"stroke:#ff0000; stroke-width:4; stroke-opacity:0.8\"/>\n",
              "<line clip-path=\"url(#clip0003)\" x1=\"1463.1\" y1=\"258.753\" x2=\"1463.1\" y2=\"274.753\" style=\"stroke:#ff0000; stroke-width:4; stroke-opacity:0.8\"/>\n",
              "<line clip-path=\"url(#clip0003)\" x1=\"2116.75\" y1=\"258.753\" x2=\"2116.75\" y2=\"274.753\" style=\"stroke:#ff0000; stroke-width:4; stroke-opacity:0.8\"/>\n",
              "<line clip-path=\"url(#clip0003)\" x1=\"293.484\" y1=\"244.285\" x2=\"293.484\" y2=\"260.285\" style=\"stroke:#ff0000; stroke-width:4; stroke-opacity:0.8\"/>\n",
              "<line clip-path=\"url(#clip0003)\" x1=\"982.711\" y1=\"244.285\" x2=\"982.711\" y2=\"260.285\" style=\"stroke:#ff0000; stroke-width:4; stroke-opacity:0.8\"/>\n",
              "<line clip-path=\"url(#clip0003)\" x1=\"1035.52\" y1=\"244.285\" x2=\"1035.52\" y2=\"260.285\" style=\"stroke:#ff0000; stroke-width:4; stroke-opacity:0.8\"/>\n",
              "<line clip-path=\"url(#clip0003)\" x1=\"1115.39\" y1=\"244.285\" x2=\"1115.39\" y2=\"260.285\" style=\"stroke:#ff0000; stroke-width:4; stroke-opacity:0.8\"/>\n",
              "<line clip-path=\"url(#clip0003)\" x1=\"1245.02\" y1=\"244.285\" x2=\"1245.02\" y2=\"260.285\" style=\"stroke:#ff0000; stroke-width:4; stroke-opacity:0.8\"/>\n",
              "<line clip-path=\"url(#clip0003)\" x1=\"1287.35\" y1=\"244.285\" x2=\"1287.35\" y2=\"260.285\" style=\"stroke:#ff0000; stroke-width:4; stroke-opacity:0.8\"/>\n",
              "<line clip-path=\"url(#clip0003)\" x1=\"1701.91\" y1=\"244.285\" x2=\"1701.91\" y2=\"260.285\" style=\"stroke:#ff0000; stroke-width:4; stroke-opacity:0.8\"/>\n",
              "<line clip-path=\"url(#clip0003)\" x1=\"1720.82\" y1=\"244.285\" x2=\"1720.82\" y2=\"260.285\" style=\"stroke:#ff0000; stroke-width:4; stroke-opacity:0.8\"/>\n",
              "<line clip-path=\"url(#clip0003)\" x1=\"399.323\" y1=\"229.818\" x2=\"399.323\" y2=\"245.818\" style=\"stroke:#ff0000; stroke-width:4; stroke-opacity:0.8\"/>\n",
              "<line clip-path=\"url(#clip0003)\" x1=\"666.43\" y1=\"229.818\" x2=\"666.43\" y2=\"245.818\" style=\"stroke:#ff0000; stroke-width:4; stroke-opacity:0.8\"/>\n",
              "<line clip-path=\"url(#clip0003)\" x1=\"1168.42\" y1=\"229.818\" x2=\"1168.42\" y2=\"245.818\" style=\"stroke:#ff0000; stroke-width:4; stroke-opacity:0.8\"/>\n",
              "<line clip-path=\"url(#clip0003)\" x1=\"1334.2\" y1=\"229.818\" x2=\"1334.2\" y2=\"245.818\" style=\"stroke:#ff0000; stroke-width:4; stroke-opacity:0.8\"/>\n",
              "<line clip-path=\"url(#clip0003)\" x1=\"1368.9\" y1=\"229.818\" x2=\"1368.9\" y2=\"245.818\" style=\"stroke:#ff0000; stroke-width:4; stroke-opacity:0.8\"/>\n",
              "<line clip-path=\"url(#clip0003)\" x1=\"1753.41\" y1=\"229.818\" x2=\"1753.41\" y2=\"245.818\" style=\"stroke:#ff0000; stroke-width:4; stroke-opacity:0.8\"/>\n",
              "<line clip-path=\"url(#clip0003)\" x1=\"659.374\" y1=\"215.35\" x2=\"659.374\" y2=\"231.35\" style=\"stroke:#ff0000; stroke-width:4; stroke-opacity:0.8\"/>\n",
              "<line clip-path=\"url(#clip0003)\" x1=\"668.976\" y1=\"215.35\" x2=\"668.976\" y2=\"231.35\" style=\"stroke:#ff0000; stroke-width:4; stroke-opacity:0.8\"/>\n",
              "<line clip-path=\"url(#clip0003)\" x1=\"817.733\" y1=\"215.35\" x2=\"817.733\" y2=\"231.35\" style=\"stroke:#ff0000; stroke-width:4; stroke-opacity:0.8\"/>\n",
              "<line clip-path=\"url(#clip0003)\" x1=\"888.292\" y1=\"215.35\" x2=\"888.292\" y2=\"231.35\" style=\"stroke:#ff0000; stroke-width:4; stroke-opacity:0.8\"/>\n",
              "<line clip-path=\"url(#clip0003)\" x1=\"913.097\" y1=\"215.35\" x2=\"913.097\" y2=\"231.35\" style=\"stroke:#ff0000; stroke-width:4; stroke-opacity:0.8\"/>\n",
              "<line clip-path=\"url(#clip0003)\" x1=\"951.505\" y1=\"215.35\" x2=\"951.505\" y2=\"231.35\" style=\"stroke:#ff0000; stroke-width:4; stroke-opacity:0.8\"/>\n",
              "<line clip-path=\"url(#clip0003)\" x1=\"1049.71\" y1=\"215.35\" x2=\"1049.71\" y2=\"231.35\" style=\"stroke:#ff0000; stroke-width:4; stroke-opacity:0.8\"/>\n",
              "<line clip-path=\"url(#clip0003)\" x1=\"1444.84\" y1=\"215.35\" x2=\"1444.84\" y2=\"231.35\" style=\"stroke:#ff0000; stroke-width:4; stroke-opacity:0.8\"/>\n",
              "<line clip-path=\"url(#clip0003)\" x1=\"1451.89\" y1=\"215.35\" x2=\"1451.89\" y2=\"231.35\" style=\"stroke:#ff0000; stroke-width:4; stroke-opacity:0.8\"/>\n",
              "<line clip-path=\"url(#clip0003)\" x1=\"577.977\" y1=\"200.883\" x2=\"577.977\" y2=\"216.883\" style=\"stroke:#ff0000; stroke-width:4; stroke-opacity:0.8\"/>\n",
              "<line clip-path=\"url(#clip0003)\" x1=\"737.499\" y1=\"200.883\" x2=\"737.499\" y2=\"216.883\" style=\"stroke:#ff0000; stroke-width:4; stroke-opacity:0.8\"/>\n",
              "<line clip-path=\"url(#clip0003)\" x1=\"813.441\" y1=\"200.883\" x2=\"813.441\" y2=\"216.883\" style=\"stroke:#ff0000; stroke-width:4; stroke-opacity:0.8\"/>\n",
              "<line clip-path=\"url(#clip0003)\" x1=\"1290.48\" y1=\"200.883\" x2=\"1290.48\" y2=\"216.883\" style=\"stroke:#ff0000; stroke-width:4; stroke-opacity:0.8\"/>\n",
              "<line clip-path=\"url(#clip0003)\" x1=\"1803.38\" y1=\"200.883\" x2=\"1803.38\" y2=\"216.883\" style=\"stroke:#ff0000; stroke-width:4; stroke-opacity:0.8\"/>\n",
              "<line clip-path=\"url(#clip0003)\" x1=\"2147.45\" y1=\"200.883\" x2=\"2147.45\" y2=\"216.883\" style=\"stroke:#ff0000; stroke-width:4; stroke-opacity:0.8\"/>\n",
              "<line clip-path=\"url(#clip0003)\" x1=\"691.381\" y1=\"186.415\" x2=\"691.381\" y2=\"202.415\" style=\"stroke:#ff0000; stroke-width:4; stroke-opacity:0.8\"/>\n",
              "<line clip-path=\"url(#clip0003)\" x1=\"703.892\" y1=\"186.415\" x2=\"703.892\" y2=\"202.415\" style=\"stroke:#ff0000; stroke-width:4; stroke-opacity:0.8\"/>\n",
              "<line clip-path=\"url(#clip0003)\" x1=\"736.699\" y1=\"186.415\" x2=\"736.699\" y2=\"202.415\" style=\"stroke:#ff0000; stroke-width:4; stroke-opacity:0.8\"/>\n",
              "<line clip-path=\"url(#clip0003)\" x1=\"899.786\" y1=\"186.415\" x2=\"899.786\" y2=\"202.415\" style=\"stroke:#ff0000; stroke-width:4; stroke-opacity:0.8\"/>\n",
              "<line clip-path=\"url(#clip0003)\" x1=\"1003.44\" y1=\"186.415\" x2=\"1003.44\" y2=\"202.415\" style=\"stroke:#ff0000; stroke-width:4; stroke-opacity:0.8\"/>\n",
              "<line clip-path=\"url(#clip0003)\" x1=\"1593.81\" y1=\"186.415\" x2=\"1593.81\" y2=\"202.415\" style=\"stroke:#ff0000; stroke-width:4; stroke-opacity:0.8\"/>\n",
              "<line clip-path=\"url(#clip0003)\" x1=\"1812.48\" y1=\"186.415\" x2=\"1812.48\" y2=\"202.415\" style=\"stroke:#ff0000; stroke-width:4; stroke-opacity:0.8\"/>\n",
              "<line clip-path=\"url(#clip0003)\" x1=\"490.105\" y1=\"171.948\" x2=\"490.105\" y2=\"187.948\" style=\"stroke:#ff0000; stroke-width:4; stroke-opacity:0.8\"/>\n",
              "<line clip-path=\"url(#clip0003)\" x1=\"683.015\" y1=\"171.948\" x2=\"683.015\" y2=\"187.948\" style=\"stroke:#ff0000; stroke-width:4; stroke-opacity:0.8\"/>\n",
              "<line clip-path=\"url(#clip0003)\" x1=\"693.054\" y1=\"171.948\" x2=\"693.054\" y2=\"187.948\" style=\"stroke:#ff0000; stroke-width:4; stroke-opacity:0.8\"/>\n",
              "<line clip-path=\"url(#clip0003)\" x1=\"700.837\" y1=\"171.948\" x2=\"700.837\" y2=\"187.948\" style=\"stroke:#ff0000; stroke-width:4; stroke-opacity:0.8\"/>\n",
              "<line clip-path=\"url(#clip0003)\" x1=\"709.566\" y1=\"171.948\" x2=\"709.566\" y2=\"187.948\" style=\"stroke:#ff0000; stroke-width:4; stroke-opacity:0.8\"/>\n",
              "<line clip-path=\"url(#clip0003)\" x1=\"774.67\" y1=\"171.948\" x2=\"774.67\" y2=\"187.948\" style=\"stroke:#ff0000; stroke-width:4; stroke-opacity:0.8\"/>\n",
              "<line clip-path=\"url(#clip0003)\" x1=\"1017.7\" y1=\"171.948\" x2=\"1017.7\" y2=\"187.948\" style=\"stroke:#ff0000; stroke-width:4; stroke-opacity:0.8\"/>\n",
              "<line clip-path=\"url(#clip0003)\" x1=\"1068.69\" y1=\"171.948\" x2=\"1068.69\" y2=\"187.948\" style=\"stroke:#ff0000; stroke-width:4; stroke-opacity:0.8\"/>\n",
              "<line clip-path=\"url(#clip0003)\" x1=\"1122.74\" y1=\"171.948\" x2=\"1122.74\" y2=\"187.948\" style=\"stroke:#ff0000; stroke-width:4; stroke-opacity:0.8\"/>\n",
              "<line clip-path=\"url(#clip0003)\" x1=\"1278.19\" y1=\"171.948\" x2=\"1278.19\" y2=\"187.948\" style=\"stroke:#ff0000; stroke-width:4; stroke-opacity:0.8\"/>\n",
              "<line clip-path=\"url(#clip0003)\" x1=\"1542.39\" y1=\"171.948\" x2=\"1542.39\" y2=\"187.948\" style=\"stroke:#ff0000; stroke-width:4; stroke-opacity:0.8\"/>\n",
              "<line clip-path=\"url(#clip0003)\" x1=\"1627.93\" y1=\"171.948\" x2=\"1627.93\" y2=\"187.948\" style=\"stroke:#ff0000; stroke-width:4; stroke-opacity:0.8\"/>\n",
              "<line clip-path=\"url(#clip0003)\" x1=\"1674.7\" y1=\"171.948\" x2=\"1674.7\" y2=\"187.948\" style=\"stroke:#ff0000; stroke-width:4; stroke-opacity:0.8\"/>\n",
              "<line clip-path=\"url(#clip0003)\" x1=\"938.702\" y1=\"157.48\" x2=\"938.702\" y2=\"173.48\" style=\"stroke:#ff0000; stroke-width:4; stroke-opacity:0.8\"/>\n",
              "<line clip-path=\"url(#clip0003)\" x1=\"1010.43\" y1=\"157.48\" x2=\"1010.43\" y2=\"173.48\" style=\"stroke:#ff0000; stroke-width:4; stroke-opacity:0.8\"/>\n",
              "<polyline clip-path=\"url(#clip0003)\" style=\"stroke:#808080; stroke-width:4; stroke-opacity:1; fill:none\" points=\"\n",
              "  599.217,141075 599.217,-139427 \n",
              "  \"/>\n",
              "<polyline clip-path=\"url(#clip0003)\" style=\"stroke:#808080; stroke-width:4; stroke-opacity:1; fill:none\" points=\"\n",
              "  1695.07,141075 1695.07,-139427 \n",
              "  \"/>\n",
              "<polygon clip-path=\"url(#clip0001)\" points=\"\n",
              "1985.33,463.424 2443.26,463.424 2443.26,221.504 1985.33,221.504 \n",
              "  \" fill=\"#ffffff\" fill-rule=\"evenodd\" fill-opacity=\"1\"/>\n",
              "<polyline clip-path=\"url(#clip0001)\" style=\"stroke:#000000; stroke-width:4; stroke-opacity:1; fill:none\" points=\"\n",
              "  1985.33,463.424 2443.26,463.424 2443.26,221.504 1985.33,221.504 1985.33,463.424 \n",
              "  \"/>\n",
              "<line clip-path=\"url(#clip0001)\" x1=\"2102.33\" y1=\"253.984\" x2=\"2102.33\" y2=\"309.984\" style=\"stroke:#000000; stroke-width:4; stroke-opacity:0.8\"/>\n",
              "<g clip-path=\"url(#clip0001)\">\n",
              "<text style=\"fill:#000000; fill-opacity:1; font-family:Arial,Helvetica Neue,Helvetica,sans-serif; font-size:48px; text-anchor:start;\" transform=\"rotate(0, 2193.33, 299.484)\" x=\"2193.33\" y=\"299.484\">U0</text>\n",
              "</g>\n",
              "<line clip-path=\"url(#clip0001)\" x1=\"2102.33\" y1=\"314.464\" x2=\"2102.33\" y2=\"370.464\" style=\"stroke:#ff0000; stroke-width:4; stroke-opacity:0.8\"/>\n",
              "<g clip-path=\"url(#clip0001)\">\n",
              "<text style=\"fill:#000000; fill-opacity:1; font-family:Arial,Helvetica Neue,Helvetica,sans-serif; font-size:48px; text-anchor:start;\" transform=\"rotate(0, 2193.33, 359.964)\" x=\"2193.33\" y=\"359.964\">U1</text>\n",
              "</g>\n",
              "<polyline clip-path=\"url(#clip0001)\" style=\"stroke:#808080; stroke-width:4; stroke-opacity:1; fill:none\" points=\"\n",
              "  2011.33,402.944 2167.33,402.944 \n",
              "  \"/>\n",
              "<g clip-path=\"url(#clip0001)\">\n",
              "<text style=\"fill:#000000; fill-opacity:1; font-family:Arial,Helvetica Neue,Helvetica,sans-serif; font-size:48px; text-anchor:start;\" transform=\"rotate(0, 2193.33, 420.444)\" x=\"2193.33\" y=\"420.444\">TimeLine</text>\n",
              "</g>\n",
              "</svg>\n"
            ]
          },
          "metadata": {}
        }
      ],
      "execution_count": 6,
      "metadata": {}
    },
    {
      "cell_type": "markdown",
      "source": [
        "## Response"
      ],
      "metadata": {}
    },
    {
      "cell_type": "code",
      "source": [
        "delay = slider(0:100,value=20,label=\"Delay\")\n",
        "factor = togglebuttons(finalfactor(ctc),label=\"Factor\")\n",
        "vbox(delay,factor)"
      ],
      "outputs": [
        {
          "output_type": "execute_result",
          "execution_count": 7,
          "data": {
            "application/vnd.webio.node+json": {
              "children": [
                {
                  "children": [
                    {
                      "children": [
                        {
                          "children": [
                            {
                              "children": [
                                {
                                  "children": [
                                    "Delay"
                                  ],
                                  "instanceArgs": {
                                    "namespace": "html",
                                    "tag": "label"
                                  },
                                  "nodeType": "DOM",
                                  "props": {
                                    "className": "interact ",
                                    "style": {
                                      "padding": "5px 10px 0px 10px"
                                    }
                                  },
                                  "type": "node"
                                }
                              ],
                              "instanceArgs": {
                                "namespace": "html",
                                "tag": "div"
                              },
                              "nodeType": "DOM",
                              "props": {
                                "attributes": {
                                  "style": "text-align:right;width:18%"
                                }
                              },
                              "type": "node"
                            },
                            {
                              "children": [
                                {
                                  "children": [],
                                  "instanceArgs": {
                                    "namespace": "html",
                                    "tag": "input"
                                  },
                                  "nodeType": "DOM",
                                  "props": {
                                    "attributes": {
                                      "data-bind": "numericValue: value, valueUpdate: 'input', event: {change : function () {this.changes(this.changes()+1)}}",
                                      "orient": "horizontal",
                                      "type": "range"
                                    },
                                    "className": "slider slider is-fullwidth",
                                    "max": 100,
                                    "min": 0,
                                    "step": 1,
                                    "style": {}
                                  },
                                  "type": "node"
                                }
                              ],
                              "instanceArgs": {
                                "namespace": "html",
                                "tag": "div"
                              },
                              "nodeType": "DOM",
                              "props": {
                                "attributes": {
                                  "style": "flex-grow:1; margin: 0 2%"
                                }
                              },
                              "type": "node"
                            },
                            {
                              "children": [
                                {
                                  "children": [],
                                  "instanceArgs": {
                                    "namespace": "html",
                                    "tag": "p"
                                  },
                                  "nodeType": "DOM",
                                  "props": {
                                    "attributes": {
                                      "data-bind": "text: value"
                                    }
                                  },
                                  "type": "node"
                                }
                              ],
                              "instanceArgs": {
                                "namespace": "html",
                                "tag": "div"
                              },
                              "nodeType": "DOM",
                              "props": {
                                "attributes": {
                                  "style": "width:18%"
                                }
                              },
                              "type": "node"
                            }
                          ],
                          "instanceArgs": {
                            "namespace": "html",
                            "tag": "div"
                          },
                          "nodeType": "DOM",
                          "props": {
                            "attributes": {
                              "style": "display:flex; justify-content:center; align-items:center;"
                            }
                          },
                          "type": "node"
                        }
                      ],
                      "instanceArgs": {
                        "handlers": {
                          "_promises": {
                            "importsLoaded": [
                              "function (ko, koPunches) {\n    ko.punches.enableAll();\n    ko.bindingHandlers.numericValue = {\n        init : function(element, valueAccessor, allBindings, data, context) {\n            var stringified = ko.observable(ko.unwrap(valueAccessor()));\n            stringified.subscribe(function(value) {\n                var val = parseFloat(value);\n                if (!isNaN(val)) {\n                    valueAccessor()(val);\n                }\n            })\n            valueAccessor().subscribe(function(value) {\n                var str = JSON.stringify(value);\n                if ((str == \"0\") && ([\"-0\", \"-0.\"].indexOf(stringified()) >= 0))\n                     return;\n                 if ([\"null\", \"\"].indexOf(str) >= 0)\n                     return;\n                stringified(str);\n            })\n            ko.applyBindingsToNode(element, { value: stringified, valueUpdate: allBindings.get('valueUpdate')}, context);\n        }\n    };\n    var json_data = JSON.parse(\"{\\\"changes\\\":0,\\\"value\\\":20}\");\n    var self = this;\n    function AppViewModel() {\n        for (var key in json_data) {\n            var el = json_data[key];\n            this[key] = Array.isArray(el) ? ko.observableArray(el) : ko.observable(el);\n        }\n        \n        \n        [this[\"changes\"].subscribe((function (val){!(this.valueFromJulia[\"changes\"]) ? (_webIOScope.setObservableValue({\"name\":\"changes\",\"scope\":\"knockout-component-c93a60c6-ffe1-4435-b3fe-f7c4c86e6d98\",\"id\":\"ob_36\",\"type\":\"observable\"},val)) : undefined; return this.valueFromJulia[\"changes\"]=false}),self),this[\"value\"].subscribe((function (val){!(this.valueFromJulia[\"value\"]) ? (_webIOScope.setObservableValue({\"name\":\"value\",\"scope\":\"knockout-component-c93a60c6-ffe1-4435-b3fe-f7c4c86e6d98\",\"id\":\"ob_35\",\"type\":\"observable\"},val)) : undefined; return this.valueFromJulia[\"value\"]=false}),self)]\n        \n    }\n    self.model = new AppViewModel();\n    self.valueFromJulia = {};\n    for (var key in json_data) {\n        self.valueFromJulia[key] = false;\n    }\n    ko.applyBindings(self.model, self.dom);\n}\n"
                            ]
                          },
                          "changes": [
                            "(function (val){return (val!=this.model[\"changes\"]()) ? (this.valueFromJulia[\"changes\"]=true, this.model[\"changes\"](val)) : undefined})"
                          ],
                          "value": [
                            "(function (val){return (val!=this.model[\"value\"]()) ? (this.valueFromJulia[\"value\"]=true, this.model[\"value\"](val)) : undefined})"
                          ]
                        },
                        "id": "knockout-component-c93a60c6-ffe1-4435-b3fe-f7c4c86e6d98",
                        "imports": {
                          "data": [
                            {
                              "name": "knockout",
                              "type": "js",
                              "url": "/assetserver/fe7d3ce0ef73fffe4b07398d3eaf1c1a335ed6ac-knockout.js"
                            },
                            {
                              "name": "knockout_punches",
                              "type": "js",
                              "url": "/assetserver/1764b91a11ffe5a6c57c5d605079ccde5ddd28a1-knockout_punches.js"
                            },
                            {
                              "name": null,
                              "type": "js",
                              "url": "/assetserver/239a0709d1bd89d06f348c62cad4467504786b78-all.js"
                            },
                            {
                              "name": null,
                              "type": "css",
                              "url": "/assetserver/88fd8714ccb6031b47bd164292283bc40f0e5b56-style.css"
                            },
                            {
                              "name": null,
                              "type": "css",
                              "url": "/assetserver/593c6eca1d291d88375fe32d6fd7993aadb13589-main.css"
                            }
                          ],
                          "type": "async_block"
                        },
                        "observables": {
                          "changes": {
                            "id": "ob_36",
                            "sync": false,
                            "value": 0
                          },
                          "value": {
                            "id": "ob_35",
                            "sync": false,
                            "value": 20
                          }
                        },
                        "systemjs_options": null
                      },
                      "nodeType": "Scope",
                      "props": {},
                      "type": "node"
                    }
                  ],
                  "instanceArgs": {
                    "namespace": "html",
                    "tag": "div"
                  },
                  "nodeType": "DOM",
                  "props": {
                    "className": "field"
                  },
                  "type": "node"
                },
                {
                  "children": [
                    {
                      "children": [
                        {
                          "children": [
                            {
                              "children": [
                                {
                                  "children": [
                                    "Factor"
                                  ],
                                  "instanceArgs": {
                                    "namespace": "html",
                                    "tag": "label"
                                  },
                                  "nodeType": "DOM",
                                  "props": {
                                    "className": "interact ",
                                    "style": {
                                      "padding": "5px 10px 0px 10px"
                                    }
                                  },
                                  "type": "node"
                                }
                              ],
                              "instanceArgs": {
                                "namespace": "html",
                                "tag": "div"
                              },
                              "nodeType": "DOM",
                              "props": {
                                "attributes": {
                                  "style": "text-align:right;width:18%"
                                }
                              },
                              "type": "node"
                            },
                            {
                              "children": [
                                {
                                  "children": [
                                    {
                                      "children": [
                                        {
                                          "children": [],
                                          "instanceArgs": {
                                            "namespace": "html",
                                            "tag": "label"
                                          },
                                          "nodeType": "DOM",
                                          "props": {
                                            "attributes": {
                                              "data-bind": "text : key"
                                            }
                                          },
                                          "type": "node"
                                        }
                                      ],
                                      "instanceArgs": {
                                        "namespace": "html",
                                        "tag": "button"
                                      },
                                      "nodeType": "DOM",
                                      "props": {
                                        "attributes": {
                                          "data-bind": "click: function () {$root.index(val)}, css: {'is-primary is-selected' : $root.index() == val, 'button is-fullwidth' : true}"
                                        }
                                      },
                                      "type": "node"
                                    }
                                  ],
                                  "instanceArgs": {
                                    "namespace": "html",
                                    "tag": "div"
                                  },
                                  "nodeType": "DOM",
                                  "props": {
                                    "attributes": {
                                      "data-bind": "foreach : options_js"
                                    },
                                    "className": "field is-grouped has-addons is-oneline is-centered"
                                  },
                                  "type": "node"
                                }
                              ],
                              "instanceArgs": {
                                "namespace": "html",
                                "tag": "div"
                              },
                              "nodeType": "DOM",
                              "props": {
                                "attributes": {
                                  "style": "flex-grow:1; margin: 0 2%"
                                }
                              },
                              "type": "node"
                            },
                            {
                              "children": [
                                {
                                  "children": [],
                                  "instanceArgs": {
                                    "namespace": "html",
                                    "tag": "div"
                                  },
                                  "nodeType": "DOM",
                                  "props": {},
                                  "type": "node"
                                }
                              ],
                              "instanceArgs": {
                                "namespace": "html",
                                "tag": "div"
                              },
                              "nodeType": "DOM",
                              "props": {
                                "attributes": {
                                  "style": "width:18%"
                                }
                              },
                              "type": "node"
                            }
                          ],
                          "instanceArgs": {
                            "namespace": "html",
                            "tag": "div"
                          },
                          "nodeType": "DOM",
                          "props": {
                            "attributes": {
                              "style": "display:flex; justify-content:center; align-items:center;"
                            }
                          },
                          "type": "node"
                        }
                      ],
                      "instanceArgs": {
                        "handlers": {
                          "_promises": {
                            "importsLoaded": [
                              "function (ko, koPunches) {\n    ko.punches.enableAll();\n    ko.bindingHandlers.numericValue = {\n        init : function(element, valueAccessor, allBindings, data, context) {\n            var stringified = ko.observable(ko.unwrap(valueAccessor()));\n            stringified.subscribe(function(value) {\n                var val = parseFloat(value);\n                if (!isNaN(val)) {\n                    valueAccessor()(val);\n                }\n            })\n            valueAccessor().subscribe(function(value) {\n                var str = JSON.stringify(value);\n                if ((str == \"0\") && ([\"-0\", \"-0.\"].indexOf(stringified()) >= 0))\n                     return;\n                 if ([\"null\", \"\"].indexOf(str) >= 0)\n                     return;\n                stringified(str);\n            })\n            ko.applyBindingsToNode(element, { value: stringified, valueUpdate: allBindings.get('valueUpdate')}, context);\n        }\n    };\n    var json_data = JSON.parse(\"{\\\"options_js\\\":[{\\\"key\\\":\\\"Ori_Final\\\",\\\"val\\\":1,\\\"id\\\":\\\"id5lK8Gv3P\\\"}],\\\"index\\\":1}\");\n    var self = this;\n    function AppViewModel() {\n        for (var key in json_data) {\n            var el = json_data[key];\n            this[key] = Array.isArray(el) ? ko.observableArray(el) : ko.observable(el);\n        }\n        \n        \n        [this[\"options_js\"].subscribe((function (val){!(this.valueFromJulia[\"options_js\"]) ? (_webIOScope.setObservableValue({\"name\":\"options_js\",\"scope\":\"knockout-component-2557e145-a5d8-4814-8f75-e05a01861278\",\"id\":\"ob_41\",\"type\":\"observable\"},val)) : undefined; return this.valueFromJulia[\"options_js\"]=false}),self),this[\"index\"].subscribe((function (val){!(this.valueFromJulia[\"index\"]) ? (_webIOScope.setObservableValue({\"name\":\"index\",\"scope\":\"knockout-component-2557e145-a5d8-4814-8f75-e05a01861278\",\"id\":\"ob_40\",\"type\":\"observable\"},val)) : undefined; return this.valueFromJulia[\"index\"]=false}),self)]\n        \n    }\n    self.model = new AppViewModel();\n    self.valueFromJulia = {};\n    for (var key in json_data) {\n        self.valueFromJulia[key] = false;\n    }\n    ko.applyBindings(self.model, self.dom);\n}\n"
                            ]
                          },
                          "index": [
                            "(function (val){return (val!=this.model[\"index\"]()) ? (this.valueFromJulia[\"index\"]=true, this.model[\"index\"](val)) : undefined})"
                          ],
                          "options_js": [
                            "(function (val){return (val!=this.model[\"options_js\"]()) ? (this.valueFromJulia[\"options_js\"]=true, this.model[\"options_js\"](val)) : undefined})"
                          ]
                        },
                        "id": "knockout-component-2557e145-a5d8-4814-8f75-e05a01861278",
                        "imports": {
                          "data": [
                            {
                              "name": "knockout",
                              "type": "js",
                              "url": "/assetserver/fe7d3ce0ef73fffe4b07398d3eaf1c1a335ed6ac-knockout.js"
                            },
                            {
                              "name": "knockout_punches",
                              "type": "js",
                              "url": "/assetserver/1764b91a11ffe5a6c57c5d605079ccde5ddd28a1-knockout_punches.js"
                            },
                            {
                              "name": null,
                              "type": "js",
                              "url": "/assetserver/239a0709d1bd89d06f348c62cad4467504786b78-all.js"
                            },
                            {
                              "name": null,
                              "type": "css",
                              "url": "/assetserver/88fd8714ccb6031b47bd164292283bc40f0e5b56-style.css"
                            },
                            {
                              "name": null,
                              "type": "css",
                              "url": "/assetserver/593c6eca1d291d88375fe32d6fd7993aadb13589-main.css"
                            }
                          ],
                          "type": "async_block"
                        },
                        "observables": {
                          "index": {
                            "id": "ob_40",
                            "sync": true,
                            "value": 1
                          },
                          "options_js": {
                            "id": "ob_41",
                            "sync": false,
                            "value": [
                              {
                                "id": "id5lK8Gv3P",
                                "key": "Ori_Final",
                                "val": 1
                              }
                            ]
                          }
                        },
                        "systemjs_options": null
                      },
                      "nodeType": "Scope",
                      "props": {},
                      "type": "node"
                    }
                  ],
                  "instanceArgs": {
                    "namespace": "html",
                    "tag": "div"
                  },
                  "nodeType": "DOM",
                  "props": {
                    "className": "field"
                  },
                  "type": "node"
                }
              ],
              "instanceArgs": {
                "namespace": "html",
                "tag": "div"
              },
              "nodeType": "DOM",
              "props": {
                "style": {
                  "display": "flex",
                  "flex-direction": "column"
                }
              },
              "type": "node"
            },
            "text/html": [
              "<div\n",
              "    class=\"webio-mountpoint\"\n",
              "    data-webio-mountpoint=\"8485852944646958683\"\n",
              ">\n",
              "    <script>\n",
              "    if (window.require && require.defined && require.defined(\"nbextensions/webio/main\")) {\n",
              "        console.log(\"Jupyter WebIO extension detected, not mounting.\");\n",
              "    } else if (window.WebIO) {\n",
              "        WebIO.mount(\n",
              "            document.querySelector('[data-webio-mountpoint=\"8485852944646958683\"]'),\n",
              "            {\"props\":{\"style\":{\"display\":\"flex\",\"flex-direction\":\"column\"}},\"nodeType\":\"DOM\",\"type\":\"node\",\"instanceArgs\":{\"namespace\":\"html\",\"tag\":\"div\"},\"children\":[{\"props\":{\"className\":\"field\"},\"nodeType\":\"DOM\",\"type\":\"node\",\"instanceArgs\":{\"namespace\":\"html\",\"tag\":\"div\"},\"children\":[{\"props\":{},\"nodeType\":\"Scope\",\"type\":\"node\",\"instanceArgs\":{\"imports\":{\"data\":[{\"name\":\"knockout\",\"type\":\"js\",\"url\":\"\\/assetserver\\/fe7d3ce0ef73fffe4b07398d3eaf1c1a335ed6ac-knockout.js\"},{\"name\":\"knockout_punches\",\"type\":\"js\",\"url\":\"\\/assetserver\\/1764b91a11ffe5a6c57c5d605079ccde5ddd28a1-knockout_punches.js\"},{\"name\":null,\"type\":\"js\",\"url\":\"\\/assetserver\\/239a0709d1bd89d06f348c62cad4467504786b78-all.js\"},{\"name\":null,\"type\":\"css\",\"url\":\"\\/assetserver\\/88fd8714ccb6031b47bd164292283bc40f0e5b56-style.css\"},{\"name\":null,\"type\":\"css\",\"url\":\"\\/assetserver\\/593c6eca1d291d88375fe32d6fd7993aadb13589-main.css\"}],\"type\":\"async_block\"},\"id\":\"knockout-component-c93a60c6-ffe1-4435-b3fe-f7c4c86e6d98\",\"handlers\":{\"_promises\":{\"importsLoaded\":[\"function (ko, koPunches) {\\n    ko.punches.enableAll();\\n    ko.bindingHandlers.numericValue = {\\n        init : function(element, valueAccessor, allBindings, data, context) {\\n            var stringified = ko.observable(ko.unwrap(valueAccessor()));\\n            stringified.subscribe(function(value) {\\n                var val = parseFloat(value);\\n                if (!isNaN(val)) {\\n                    valueAccessor()(val);\\n                }\\n            })\\n            valueAccessor().subscribe(function(value) {\\n                var str = JSON.stringify(value);\\n                if ((str == \\\"0\\\") && ([\\\"-0\\\", \\\"-0.\\\"].indexOf(stringified()) >= 0))\\n                     return;\\n                 if ([\\\"null\\\", \\\"\\\"].indexOf(str) >= 0)\\n                     return;\\n                stringified(str);\\n            })\\n            ko.applyBindingsToNode(element, { value: stringified, valueUpdate: allBindings.get('valueUpdate')}, context);\\n        }\\n    };\\n    var json_data = JSON.parse(\\\"{\\\\\\\"changes\\\\\\\":0,\\\\\\\"value\\\\\\\":20}\\\");\\n    var self = this;\\n    function AppViewModel() {\\n        for (var key in json_data) {\\n            var el = json_data[key];\\n            this[key] = Array.isArray(el) ? ko.observableArray(el) : ko.observable(el);\\n        }\\n        \\n        \\n        [this[\\\"changes\\\"].subscribe((function (val){!(this.valueFromJulia[\\\"changes\\\"]) ? (_webIOScope.setObservableValue({\\\"name\\\":\\\"changes\\\",\\\"scope\\\":\\\"knockout-component-c93a60c6-ffe1-4435-b3fe-f7c4c86e6d98\\\",\\\"id\\\":\\\"ob_36\\\",\\\"type\\\":\\\"observable\\\"},val)) : undefined; return this.valueFromJulia[\\\"changes\\\"]=false}),self),this[\\\"value\\\"].subscribe((function (val){!(this.valueFromJulia[\\\"value\\\"]) ? (_webIOScope.setObservableValue({\\\"name\\\":\\\"value\\\",\\\"scope\\\":\\\"knockout-component-c93a60c6-ffe1-4435-b3fe-f7c4c86e6d98\\\",\\\"id\\\":\\\"ob_35\\\",\\\"type\\\":\\\"observable\\\"},val)) : undefined; return this.valueFromJulia[\\\"value\\\"]=false}),self)]\\n        \\n    }\\n    self.model = new AppViewModel();\\n    self.valueFromJulia = {};\\n    for (var key in json_data) {\\n        self.valueFromJulia[key] = false;\\n    }\\n    ko.applyBindings(self.model, self.dom);\\n}\\n\"]},\"changes\":[\"(function (val){return (val!=this.model[\\\"changes\\\"]()) ? (this.valueFromJulia[\\\"changes\\\"]=true, this.model[\\\"changes\\\"](val)) : undefined})\"],\"value\":[\"(function (val){return (val!=this.model[\\\"value\\\"]()) ? (this.valueFromJulia[\\\"value\\\"]=true, this.model[\\\"value\\\"](val)) : undefined})\"]},\"systemjs_options\":null,\"observables\":{\"changes\":{\"sync\":false,\"id\":\"ob_36\",\"value\":0},\"value\":{\"sync\":false,\"id\":\"ob_35\",\"value\":20}}},\"children\":[{\"props\":{\"attributes\":{\"style\":\"display:flex; justify-content:center; align-items:center;\"}},\"nodeType\":\"DOM\",\"type\":\"node\",\"instanceArgs\":{\"namespace\":\"html\",\"tag\":\"div\"},\"children\":[{\"props\":{\"attributes\":{\"style\":\"text-align:right;width:18%\"}},\"nodeType\":\"DOM\",\"type\":\"node\",\"instanceArgs\":{\"namespace\":\"html\",\"tag\":\"div\"},\"children\":[{\"props\":{\"className\":\"interact \",\"style\":{\"padding\":\"5px 10px 0px 10px\"}},\"nodeType\":\"DOM\",\"type\":\"node\",\"instanceArgs\":{\"namespace\":\"html\",\"tag\":\"label\"},\"children\":[\"Delay\"]}]},{\"props\":{\"attributes\":{\"style\":\"flex-grow:1; margin: 0 2%\"}},\"nodeType\":\"DOM\",\"type\":\"node\",\"instanceArgs\":{\"namespace\":\"html\",\"tag\":\"div\"},\"children\":[{\"props\":{\"max\":100,\"min\":0,\"attributes\":{\"type\":\"range\",\"data-bind\":\"numericValue: value, valueUpdate: 'input', event: {change : function () {this.changes(this.changes()+1)}}\",\"orient\":\"horizontal\"},\"step\":1,\"className\":\"slider slider is-fullwidth\",\"style\":{}},\"nodeType\":\"DOM\",\"type\":\"node\",\"instanceArgs\":{\"namespace\":\"html\",\"tag\":\"input\"},\"children\":[]}]},{\"props\":{\"attributes\":{\"style\":\"width:18%\"}},\"nodeType\":\"DOM\",\"type\":\"node\",\"instanceArgs\":{\"namespace\":\"html\",\"tag\":\"div\"},\"children\":[{\"props\":{\"attributes\":{\"data-bind\":\"text: value\"}},\"nodeType\":\"DOM\",\"type\":\"node\",\"instanceArgs\":{\"namespace\":\"html\",\"tag\":\"p\"},\"children\":[]}]}]}]}]},{\"props\":{\"className\":\"field\"},\"nodeType\":\"DOM\",\"type\":\"node\",\"instanceArgs\":{\"namespace\":\"html\",\"tag\":\"div\"},\"children\":[{\"props\":{},\"nodeType\":\"Scope\",\"type\":\"node\",\"instanceArgs\":{\"imports\":{\"data\":[{\"name\":\"knockout\",\"type\":\"js\",\"url\":\"\\/assetserver\\/fe7d3ce0ef73fffe4b07398d3eaf1c1a335ed6ac-knockout.js\"},{\"name\":\"knockout_punches\",\"type\":\"js\",\"url\":\"\\/assetserver\\/1764b91a11ffe5a6c57c5d605079ccde5ddd28a1-knockout_punches.js\"},{\"name\":null,\"type\":\"js\",\"url\":\"\\/assetserver\\/239a0709d1bd89d06f348c62cad4467504786b78-all.js\"},{\"name\":null,\"type\":\"css\",\"url\":\"\\/assetserver\\/88fd8714ccb6031b47bd164292283bc40f0e5b56-style.css\"},{\"name\":null,\"type\":\"css\",\"url\":\"\\/assetserver\\/593c6eca1d291d88375fe32d6fd7993aadb13589-main.css\"}],\"type\":\"async_block\"},\"id\":\"knockout-component-2557e145-a5d8-4814-8f75-e05a01861278\",\"handlers\":{\"_promises\":{\"importsLoaded\":[\"function (ko, koPunches) {\\n    ko.punches.enableAll();\\n    ko.bindingHandlers.numericValue = {\\n        init : function(element, valueAccessor, allBindings, data, context) {\\n            var stringified = ko.observable(ko.unwrap(valueAccessor()));\\n            stringified.subscribe(function(value) {\\n                var val = parseFloat(value);\\n                if (!isNaN(val)) {\\n                    valueAccessor()(val);\\n                }\\n            })\\n            valueAccessor().subscribe(function(value) {\\n                var str = JSON.stringify(value);\\n                if ((str == \\\"0\\\") && ([\\\"-0\\\", \\\"-0.\\\"].indexOf(stringified()) >= 0))\\n                     return;\\n                 if ([\\\"null\\\", \\\"\\\"].indexOf(str) >= 0)\\n                     return;\\n                stringified(str);\\n            })\\n            ko.applyBindingsToNode(element, { value: stringified, valueUpdate: allBindings.get('valueUpdate')}, context);\\n        }\\n    };\\n    var json_data = JSON.parse(\\\"{\\\\\\\"options_js\\\\\\\":[{\\\\\\\"key\\\\\\\":\\\\\\\"Ori_Final\\\\\\\",\\\\\\\"val\\\\\\\":1,\\\\\\\"id\\\\\\\":\\\\\\\"id5lK8Gv3P\\\\\\\"}],\\\\\\\"index\\\\\\\":1}\\\");\\n    var self = this;\\n    function AppViewModel() {\\n        for (var key in json_data) {\\n            var el = json_data[key];\\n            this[key] = Array.isArray(el) ? ko.observableArray(el) : ko.observable(el);\\n        }\\n        \\n        \\n        [this[\\\"options_js\\\"].subscribe((function (val){!(this.valueFromJulia[\\\"options_js\\\"]) ? (_webIOScope.setObservableValue({\\\"name\\\":\\\"options_js\\\",\\\"scope\\\":\\\"knockout-component-2557e145-a5d8-4814-8f75-e05a01861278\\\",\\\"id\\\":\\\"ob_41\\\",\\\"type\\\":\\\"observable\\\"},val)) : undefined; return this.valueFromJulia[\\\"options_js\\\"]=false}),self),this[\\\"index\\\"].subscribe((function (val){!(this.valueFromJulia[\\\"index\\\"]) ? (_webIOScope.setObservableValue({\\\"name\\\":\\\"index\\\",\\\"scope\\\":\\\"knockout-component-2557e145-a5d8-4814-8f75-e05a01861278\\\",\\\"id\\\":\\\"ob_40\\\",\\\"type\\\":\\\"observable\\\"},val)) : undefined; return this.valueFromJulia[\\\"index\\\"]=false}),self)]\\n        \\n    }\\n    self.model = new AppViewModel();\\n    self.valueFromJulia = {};\\n    for (var key in json_data) {\\n        self.valueFromJulia[key] = false;\\n    }\\n    ko.applyBindings(self.model, self.dom);\\n}\\n\"]},\"options_js\":[\"(function (val){return (val!=this.model[\\\"options_js\\\"]()) ? (this.valueFromJulia[\\\"options_js\\\"]=true, this.model[\\\"options_js\\\"](val)) : undefined})\"],\"index\":[\"(function (val){return (val!=this.model[\\\"index\\\"]()) ? (this.valueFromJulia[\\\"index\\\"]=true, this.model[\\\"index\\\"](val)) : undefined})\"]},\"systemjs_options\":null,\"observables\":{\"options_js\":{\"sync\":false,\"id\":\"ob_41\",\"value\":[{\"key\":\"Ori_Final\",\"val\":1,\"id\":\"id5lK8Gv3P\"}]},\"index\":{\"sync\":true,\"id\":\"ob_40\",\"value\":1}}},\"children\":[{\"props\":{\"attributes\":{\"style\":\"display:flex; justify-content:center; align-items:center;\"}},\"nodeType\":\"DOM\",\"type\":\"node\",\"instanceArgs\":{\"namespace\":\"html\",\"tag\":\"div\"},\"children\":[{\"props\":{\"attributes\":{\"style\":\"text-align:right;width:18%\"}},\"nodeType\":\"DOM\",\"type\":\"node\",\"instanceArgs\":{\"namespace\":\"html\",\"tag\":\"div\"},\"children\":[{\"props\":{\"className\":\"interact \",\"style\":{\"padding\":\"5px 10px 0px 10px\"}},\"nodeType\":\"DOM\",\"type\":\"node\",\"instanceArgs\":{\"namespace\":\"html\",\"tag\":\"label\"},\"children\":[\"Factor\"]}]},{\"props\":{\"attributes\":{\"style\":\"flex-grow:1; margin: 0 2%\"}},\"nodeType\":\"DOM\",\"type\":\"node\",\"instanceArgs\":{\"namespace\":\"html\",\"tag\":\"div\"},\"children\":[{\"props\":{\"attributes\":{\"data-bind\":\"foreach : options_js\"},\"className\":\"field is-grouped has-addons is-oneline is-centered\"},\"nodeType\":\"DOM\",\"type\":\"node\",\"instanceArgs\":{\"namespace\":\"html\",\"tag\":\"div\"},\"children\":[{\"props\":{\"attributes\":{\"data-bind\":\"click: function () {$root.index(val)}, css: {'is-primary is-selected' : $root.index() == val, 'button is-fullwidth' : true}\"}},\"nodeType\":\"DOM\",\"type\":\"node\",\"instanceArgs\":{\"namespace\":\"html\",\"tag\":\"button\"},\"children\":[{\"props\":{\"attributes\":{\"data-bind\":\"text : key\"}},\"nodeType\":\"DOM\",\"type\":\"node\",\"instanceArgs\":{\"namespace\":\"html\",\"tag\":\"label\"},\"children\":[]}]}]}]},{\"props\":{\"attributes\":{\"style\":\"width:18%\"}},\"nodeType\":\"DOM\",\"type\":\"node\",\"instanceArgs\":{\"namespace\":\"html\",\"tag\":\"div\"},\"children\":[{\"props\":{},\"nodeType\":\"DOM\",\"type\":\"node\",\"instanceArgs\":{\"namespace\":\"html\",\"tag\":\"div\"},\"children\":[]}]}]}]}]}]},\n",
              "        );\n",
              "    } else {\n",
              "        document\n",
              "            .querySelector('[data-webio-mountpoint=\"8485852944646958683\"]')\n",
              "            .innerHTML = '<strong>WebIO not detected.</strong>';\n",
              "    }\n",
              "    </script>\n",
              "</div>\n"
            ],
            "text/plain": [
              "(div { style=Dict(\"display\"=>\"flex\",\"flex-direction\"=>\"column\") }\n",
              "  (div { className=\"field\" }\n",
              "        (div { attributes=Dict(\"style\"=>\"display:flex; justify-content:center; align-items:center;\") }\n",
              "      (div { attributes=Dict(\"style\"=>\"text-align:right;width:18%\") }\n",
              "        (label { className=\"interact \" style=Dict{Any,Any}(:padding=>\"5px 10px 0px 10px\") }\n",
              "          \"Delay\"))\n",
              "      (div { attributes=Dict(\"style\"=>\"flex-grow:1; margin: 0 2%\") }\n",
              "        (input { max=100 min=0 attributes=Dict{Any,Any}(:type=>\"range\",Symbol(\"data-bind\")=>\"numericValue: value, valueUpdate: 'input', event: {change : function () {this.changes(this.changes()+1)}}\",\"orient\"=>\"horizontal\") step=1 className=\"slider slider is-fullwidth\" style=Dict{Any,Any}() }))\n",
              "      (div { attributes=Dict(\"style\"=>\"width:18%\") }\n",
              "        (p { attributes=Dict(\"data-bind\"=>\"text: value\") }))))\n",
              "  (div { className=\"field\" }\n",
              "        (div { attributes=Dict(\"style\"=>\"display:flex; justify-content:center; align-items:center;\") }\n",
              "      (div { attributes=Dict(\"style\"=>\"text-align:right;width:18%\") }\n",
              "        (label { className=\"interact \" style=Dict{Any,Any}(:padding=>\"5px 10px 0px 10px\") }\n",
              "          \"Factor\"))\n",
              "      (div { attributes=Dict(\"style\"=>\"flex-grow:1; margin: 0 2%\") }\n",
              "        (div { attributes=\"data-bind\" => \"foreach : options_js\" className=\"field is-grouped has-addons is-oneline is-centered\" }\n",
              "          (button { attributes=Dict(\"data-bind\"=>\"click: function () {\\$root.index(val)}, css: {'is-primary is-selected' : \\$root.index() == val, 'button is-fullwidth' : true}\") }\n",
              "            (label { attributes=Dict(\"data-bind\"=>\"text : key\") }))))\n",
              "      (div { attributes=Dict(\"style\"=>\"width:18%\") }\n",
              "        (div)))))"
            ]
          },
          "metadata": {
            "application/vnd.webio.node+json": {
              "kernelId": "6ba96395-7d2f-47a6-b749-b5f6fd6469da"
            }
          }
        }
      ],
      "execution_count": 7,
      "metadata": {}
    },
    {
      "cell_type": "code",
      "source": [
        "urs = Dict(u=>subrvr(est[esu.==u],condon.+delay[],condoff.+delay[]) for u in euuid)\n",
        "plotcondresponse(urs,ctc,factor[],title=\"Electrode$(eid[])\")"
      ],
      "outputs": [
        {
          "output_type": "execute_result",
          "execution_count": 11,
          "data": {
            "image/svg+xml": [
              "<?xml version=\"1.0\" encoding=\"utf-8\"?>\n",
              "<svg xmlns=\"http://www.w3.org/2000/svg\" xmlns:xlink=\"http://www.w3.org/1999/xlink\" width=\"650\" height=\"420\" viewBox=\"0 0 2600 1680\">\n",
              "<defs>\n",
              "  <clipPath id=\"clip0400\">\n",
              "    <rect x=\"0\" y=\"0\" width=\"2000\" height=\"2000\"/>\n",
              "  </clipPath>\n",
              "</defs>\n",
              "<defs>\n",
              "  <clipPath id=\"clip0401\">\n",
              "    <rect x=\"0\" y=\"0\" width=\"2600\" height=\"1680\"/>\n",
              "  </clipPath>\n",
              "</defs>\n",
              "<polygon clip-path=\"url(#clip0401)\" points=\"\n",
              "0,1680 2600,1680 2600,0 0,0 \n",
              "  \" fill=\"#ffffff\" fill-rule=\"evenodd\" fill-opacity=\"1\"/>\n",
              "<defs>\n",
              "  <clipPath id=\"clip0402\">\n",
              "    <rect x=\"520\" y=\"0\" width=\"1821\" height=\"1680\"/>\n",
              "  </clipPath>\n",
              "</defs>\n",
              "<polygon clip-path=\"url(#clip0401)\" points=\"\n",
              "211.005,1521.51 2521.26,1521.51 2521.26,125.984 211.005,125.984 \n",
              "  \" fill=\"#ffffff\" fill-rule=\"evenodd\" fill-opacity=\"1\"/>\n",
              "<defs>\n",
              "  <clipPath id=\"clip0403\">\n",
              "    <rect x=\"211\" y=\"125\" width=\"2311\" height=\"1397\"/>\n",
              "  </clipPath>\n",
              "</defs>\n",
              "<polyline clip-path=\"url(#clip0401)\" style=\"stroke:#000000; stroke-width:4; stroke-opacity:1; fill:none\" points=\"\n",
              "  211.005,1521.51 2521.26,1521.51 \n",
              "  \"/>\n",
              "<polyline clip-path=\"url(#clip0401)\" style=\"stroke:#000000; stroke-width:4; stroke-opacity:1; fill:none\" points=\"\n",
              "  211.005,1521.51 211.005,125.984 \n",
              "  \"/>\n",
              "<polyline clip-path=\"url(#clip0401)\" style=\"stroke:#000000; stroke-width:4; stroke-opacity:1; fill:none\" points=\"\n",
              "  276.39,1521.51 276.39,1500.58 \n",
              "  \"/>\n",
              "<polyline clip-path=\"url(#clip0401)\" style=\"stroke:#000000; stroke-width:4; stroke-opacity:1; fill:none\" points=\"\n",
              "  922.163,1521.51 922.163,1500.58 \n",
              "  \"/>\n",
              "<polyline clip-path=\"url(#clip0401)\" style=\"stroke:#000000; stroke-width:4; stroke-opacity:1; fill:none\" points=\"\n",
              "  1567.94,1521.51 1567.94,1500.58 \n",
              "  \"/>\n",
              "<polyline clip-path=\"url(#clip0401)\" style=\"stroke:#000000; stroke-width:4; stroke-opacity:1; fill:none\" points=\"\n",
              "  2213.71,1521.51 2213.71,1500.58 \n",
              "  \"/>\n",
              "<polyline clip-path=\"url(#clip0401)\" style=\"stroke:#000000; stroke-width:4; stroke-opacity:1; fill:none\" points=\"\n",
              "  211.005,1311.6 245.659,1311.6 \n",
              "  \"/>\n",
              "<polyline clip-path=\"url(#clip0401)\" style=\"stroke:#000000; stroke-width:4; stroke-opacity:1; fill:none\" points=\"\n",
              "  211.005,1038.15 245.659,1038.15 \n",
              "  \"/>\n",
              "<polyline clip-path=\"url(#clip0401)\" style=\"stroke:#000000; stroke-width:4; stroke-opacity:1; fill:none\" points=\"\n",
              "  211.005,764.697 245.659,764.697 \n",
              "  \"/>\n",
              "<polyline clip-path=\"url(#clip0401)\" style=\"stroke:#000000; stroke-width:4; stroke-opacity:1; fill:none\" points=\"\n",
              "  211.005,491.248 245.659,491.248 \n",
              "  \"/>\n",
              "<polyline clip-path=\"url(#clip0401)\" style=\"stroke:#000000; stroke-width:4; stroke-opacity:1; fill:none\" points=\"\n",
              "  211.005,217.798 245.659,217.798 \n",
              "  \"/>\n",
              "<g clip-path=\"url(#clip0401)\">\n",
              "<text style=\"fill:#000000; fill-opacity:1; font-family:Arial,Helvetica Neue,Helvetica,sans-serif; font-size:48px; text-anchor:middle;\" transform=\"rotate(0, 276.39, 1576.51)\" x=\"276.39\" y=\"1576.51\">0</text>\n",
              "</g>\n",
              "<g clip-path=\"url(#clip0401)\">\n",
              "<text style=\"fill:#000000; fill-opacity:1; font-family:Arial,Helvetica Neue,Helvetica,sans-serif; font-size:48px; text-anchor:middle;\" transform=\"rotate(0, 922.163, 1576.51)\" x=\"922.163\" y=\"1576.51\">100</text>\n",
              "</g>\n",
              "<g clip-path=\"url(#clip0401)\">\n",
              "<text style=\"fill:#000000; fill-opacity:1; font-family:Arial,Helvetica Neue,Helvetica,sans-serif; font-size:48px; text-anchor:middle;\" transform=\"rotate(0, 1567.94, 1576.51)\" x=\"1567.94\" y=\"1576.51\">200</text>\n",
              "</g>\n",
              "<g clip-path=\"url(#clip0401)\">\n",
              "<text style=\"fill:#000000; fill-opacity:1; font-family:Arial,Helvetica Neue,Helvetica,sans-serif; font-size:48px; text-anchor:middle;\" transform=\"rotate(0, 2213.71, 1576.51)\" x=\"2213.71\" y=\"1576.51\">300</text>\n",
              "</g>\n",
              "<g clip-path=\"url(#clip0401)\">\n",
              "<text style=\"fill:#000000; fill-opacity:1; font-family:Arial,Helvetica Neue,Helvetica,sans-serif; font-size:48px; text-anchor:end;\" transform=\"rotate(0, 185.005, 1329.1)\" x=\"185.005\" y=\"1329.1\">10</text>\n",
              "</g>\n",
              "<g clip-path=\"url(#clip0401)\">\n",
              "<text style=\"fill:#000000; fill-opacity:1; font-family:Arial,Helvetica Neue,Helvetica,sans-serif; font-size:48px; text-anchor:end;\" transform=\"rotate(0, 185.005, 1055.65)\" x=\"185.005\" y=\"1055.65\">20</text>\n",
              "</g>\n",
              "<g clip-path=\"url(#clip0401)\">\n",
              "<text style=\"fill:#000000; fill-opacity:1; font-family:Arial,Helvetica Neue,Helvetica,sans-serif; font-size:48px; text-anchor:end;\" transform=\"rotate(0, 185.005, 782.197)\" x=\"185.005\" y=\"782.197\">30</text>\n",
              "</g>\n",
              "<g clip-path=\"url(#clip0401)\">\n",
              "<text style=\"fill:#000000; fill-opacity:1; font-family:Arial,Helvetica Neue,Helvetica,sans-serif; font-size:48px; text-anchor:end;\" transform=\"rotate(0, 185.005, 508.748)\" x=\"185.005\" y=\"508.748\">40</text>\n",
              "</g>\n",
              "<g clip-path=\"url(#clip0401)\">\n",
              "<text style=\"fill:#000000; fill-opacity:1; font-family:Arial,Helvetica Neue,Helvetica,sans-serif; font-size:48px; text-anchor:end;\" transform=\"rotate(0, 185.005, 235.298)\" x=\"185.005\" y=\"235.298\">50</text>\n",
              "</g>\n",
              "<g clip-path=\"url(#clip0401)\">\n",
              "<text style=\"fill:#000000; fill-opacity:1; font-family:Arial,Helvetica Neue,Helvetica,sans-serif; font-size:84px; text-anchor:middle;\" transform=\"rotate(0, 1366.13, 73.2)\" x=\"1366.13\" y=\"73.2\">Electrode7</text>\n",
              "</g>\n",
              "<g clip-path=\"url(#clip0401)\">\n",
              "<text style=\"fill:#000000; fill-opacity:1; font-family:Arial,Helvetica Neue,Helvetica,sans-serif; font-size:66px; text-anchor:middle;\" transform=\"rotate(0, 1366.13, 1670.4)\" x=\"1366.13\" y=\"1670.4\">Ori_Final (deg)</text>\n",
              "</g>\n",
              "<g clip-path=\"url(#clip0401)\">\n",
              "<text style=\"fill:#000000; fill-opacity:1; font-family:Arial,Helvetica Neue,Helvetica,sans-serif; font-size:66px; text-anchor:middle;\" transform=\"rotate(-90, 57.6, 823.749)\" x=\"57.6\" y=\"823.749\">Response (spike/s)</text>\n",
              "</g>\n",
              "<polyline clip-path=\"url(#clip0403)\" style=\"stroke:#000000; stroke-width:4; stroke-opacity:0.8; fill:none\" points=\"\n",
              "  276.39,832.167 421.689,223.458 566.988,309.798 712.287,722.123 857.586,1031.27 1002.88,1266.74 1148.18,1312.57 1293.48,1220.81 1438.78,969.081 1584.08,732.424 \n",
              "  1729.38,399.367 1874.68,972.979 2019.98,1137.71 2165.28,976.307 2310.58,1031.05 2455.88,822.705 \n",
              "  \"/>\n",
              "<polyline clip-path=\"url(#clip0403)\" style=\"stroke:#000000; stroke-width:4; stroke-opacity:0.8; fill:none\" points=\"\n",
              "  276.39,904.087 276.39,760.247 \n",
              "  \"/>\n",
              "<polyline clip-path=\"url(#clip0403)\" style=\"stroke:#000000; stroke-width:4; stroke-opacity:0.8; fill:none\" points=\"\n",
              "  421.689,281.435 421.689,165.48 \n",
              "  \"/>\n",
              "<polyline clip-path=\"url(#clip0403)\" style=\"stroke:#000000; stroke-width:4; stroke-opacity:0.8; fill:none\" points=\"\n",
              "  566.988,410.371 566.988,209.225 \n",
              "  \"/>\n",
              "<polyline clip-path=\"url(#clip0403)\" style=\"stroke:#000000; stroke-width:4; stroke-opacity:0.8; fill:none\" points=\"\n",
              "  712.287,796.97 712.287,647.276 \n",
              "  \"/>\n",
              "<polyline clip-path=\"url(#clip0403)\" style=\"stroke:#000000; stroke-width:4; stroke-opacity:0.8; fill:none\" points=\"\n",
              "  857.586,1099.09 857.586,963.459 \n",
              "  \"/>\n",
              "<polyline clip-path=\"url(#clip0403)\" style=\"stroke:#000000; stroke-width:4; stroke-opacity:0.8; fill:none\" points=\"\n",
              "  1002.88,1339.21 1002.88,1194.27 \n",
              "  \"/>\n",
              "<polyline clip-path=\"url(#clip0403)\" style=\"stroke:#000000; stroke-width:4; stroke-opacity:0.8; fill:none\" points=\"\n",
              "  1148.18,1359.11 1148.18,1266.04 \n",
              "  \"/>\n",
              "<polyline clip-path=\"url(#clip0403)\" style=\"stroke:#000000; stroke-width:4; stroke-opacity:0.8; fill:none\" points=\"\n",
              "  1293.48,1329.48 1293.48,1112.14 \n",
              "  \"/>\n",
              "<polyline clip-path=\"url(#clip0403)\" style=\"stroke:#000000; stroke-width:4; stroke-opacity:0.8; fill:none\" points=\"\n",
              "  1438.78,1015.79 1438.78,922.374 \n",
              "  \"/>\n",
              "<polyline clip-path=\"url(#clip0403)\" style=\"stroke:#000000; stroke-width:4; stroke-opacity:0.8; fill:none\" points=\"\n",
              "  1584.08,849.083 1584.08,615.765 \n",
              "  \"/>\n",
              "<polyline clip-path=\"url(#clip0403)\" style=\"stroke:#000000; stroke-width:4; stroke-opacity:0.8; fill:none\" points=\"\n",
              "  1729.38,507.079 1729.38,291.655 \n",
              "  \"/>\n",
              "<polyline clip-path=\"url(#clip0403)\" style=\"stroke:#000000; stroke-width:4; stroke-opacity:0.8; fill:none\" points=\"\n",
              "  1874.68,993.827 1874.68,952.13 \n",
              "  \"/>\n",
              "<polyline clip-path=\"url(#clip0403)\" style=\"stroke:#000000; stroke-width:4; stroke-opacity:0.8; fill:none\" points=\"\n",
              "  2019.98,1193.22 2019.98,1082.21 \n",
              "  \"/>\n",
              "<polyline clip-path=\"url(#clip0403)\" style=\"stroke:#000000; stroke-width:4; stroke-opacity:0.8; fill:none\" points=\"\n",
              "  2165.28,1141.45 2165.28,811.163 \n",
              "  \"/>\n",
              "<polyline clip-path=\"url(#clip0403)\" style=\"stroke:#000000; stroke-width:4; stroke-opacity:0.8; fill:none\" points=\"\n",
              "  2310.58,1103.89 2310.58,958.214 \n",
              "  \"/>\n",
              "<polyline clip-path=\"url(#clip0403)\" style=\"stroke:#000000; stroke-width:4; stroke-opacity:0.8; fill:none\" points=\"\n",
              "  2455.88,958.036 2455.88,687.373 \n",
              "  \"/>\n",
              "<line clip-path=\"url(#clip0403)\" x1=\"296.39\" y1=\"904.087\" x2=\"256.39\" y2=\"904.087\" style=\"stroke:#000000; stroke-width:4; stroke-opacity:0.8\"/>\n",
              "<line clip-path=\"url(#clip0403)\" x1=\"296.39\" y1=\"760.247\" x2=\"256.39\" y2=\"760.247\" style=\"stroke:#000000; stroke-width:4; stroke-opacity:0.8\"/>\n",
              "<line clip-path=\"url(#clip0403)\" x1=\"441.689\" y1=\"281.435\" x2=\"401.689\" y2=\"281.435\" style=\"stroke:#000000; stroke-width:4; stroke-opacity:0.8\"/>\n",
              "<line clip-path=\"url(#clip0403)\" x1=\"441.689\" y1=\"165.48\" x2=\"401.689\" y2=\"165.48\" style=\"stroke:#000000; stroke-width:4; stroke-opacity:0.8\"/>\n",
              "<line clip-path=\"url(#clip0403)\" x1=\"586.988\" y1=\"410.371\" x2=\"546.988\" y2=\"410.371\" style=\"stroke:#000000; stroke-width:4; stroke-opacity:0.8\"/>\n",
              "<line clip-path=\"url(#clip0403)\" x1=\"586.988\" y1=\"209.225\" x2=\"546.988\" y2=\"209.225\" style=\"stroke:#000000; stroke-width:4; stroke-opacity:0.8\"/>\n",
              "<line clip-path=\"url(#clip0403)\" x1=\"732.287\" y1=\"796.97\" x2=\"692.287\" y2=\"796.97\" style=\"stroke:#000000; stroke-width:4; stroke-opacity:0.8\"/>\n",
              "<line clip-path=\"url(#clip0403)\" x1=\"732.287\" y1=\"647.276\" x2=\"692.287\" y2=\"647.276\" style=\"stroke:#000000; stroke-width:4; stroke-opacity:0.8\"/>\n",
              "<line clip-path=\"url(#clip0403)\" x1=\"877.586\" y1=\"1099.09\" x2=\"837.586\" y2=\"1099.09\" style=\"stroke:#000000; stroke-width:4; stroke-opacity:0.8\"/>\n",
              "<line clip-path=\"url(#clip0403)\" x1=\"877.586\" y1=\"963.459\" x2=\"837.586\" y2=\"963.459\" style=\"stroke:#000000; stroke-width:4; stroke-opacity:0.8\"/>\n",
              "<line clip-path=\"url(#clip0403)\" x1=\"1022.88\" y1=\"1339.21\" x2=\"982.885\" y2=\"1339.21\" style=\"stroke:#000000; stroke-width:4; stroke-opacity:0.8\"/>\n",
              "<line clip-path=\"url(#clip0403)\" x1=\"1022.88\" y1=\"1194.27\" x2=\"982.885\" y2=\"1194.27\" style=\"stroke:#000000; stroke-width:4; stroke-opacity:0.8\"/>\n",
              "<line clip-path=\"url(#clip0403)\" x1=\"1168.18\" y1=\"1359.11\" x2=\"1128.18\" y2=\"1359.11\" style=\"stroke:#000000; stroke-width:4; stroke-opacity:0.8\"/>\n",
              "<line clip-path=\"url(#clip0403)\" x1=\"1168.18\" y1=\"1266.04\" x2=\"1128.18\" y2=\"1266.04\" style=\"stroke:#000000; stroke-width:4; stroke-opacity:0.8\"/>\n",
              "<line clip-path=\"url(#clip0403)\" x1=\"1313.48\" y1=\"1329.48\" x2=\"1273.48\" y2=\"1329.48\" style=\"stroke:#000000; stroke-width:4; stroke-opacity:0.8\"/>\n",
              "<line clip-path=\"url(#clip0403)\" x1=\"1313.48\" y1=\"1112.14\" x2=\"1273.48\" y2=\"1112.14\" style=\"stroke:#000000; stroke-width:4; stroke-opacity:0.8\"/>\n",
              "<line clip-path=\"url(#clip0403)\" x1=\"1458.78\" y1=\"1015.79\" x2=\"1418.78\" y2=\"1015.79\" style=\"stroke:#000000; stroke-width:4; stroke-opacity:0.8\"/>\n",
              "<line clip-path=\"url(#clip0403)\" x1=\"1458.78\" y1=\"922.374\" x2=\"1418.78\" y2=\"922.374\" style=\"stroke:#000000; stroke-width:4; stroke-opacity:0.8\"/>\n",
              "<line clip-path=\"url(#clip0403)\" x1=\"1604.08\" y1=\"849.083\" x2=\"1564.08\" y2=\"849.083\" style=\"stroke:#000000; stroke-width:4; stroke-opacity:0.8\"/>\n",
              "<line clip-path=\"url(#clip0403)\" x1=\"1604.08\" y1=\"615.765\" x2=\"1564.08\" y2=\"615.765\" style=\"stroke:#000000; stroke-width:4; stroke-opacity:0.8\"/>\n",
              "<line clip-path=\"url(#clip0403)\" x1=\"1749.38\" y1=\"507.079\" x2=\"1709.38\" y2=\"507.079\" style=\"stroke:#000000; stroke-width:4; stroke-opacity:0.8\"/>\n",
              "<line clip-path=\"url(#clip0403)\" x1=\"1749.38\" y1=\"291.655\" x2=\"1709.38\" y2=\"291.655\" style=\"stroke:#000000; stroke-width:4; stroke-opacity:0.8\"/>\n",
              "<line clip-path=\"url(#clip0403)\" x1=\"1894.68\" y1=\"993.827\" x2=\"1854.68\" y2=\"993.827\" style=\"stroke:#000000; stroke-width:4; stroke-opacity:0.8\"/>\n",
              "<line clip-path=\"url(#clip0403)\" x1=\"1894.68\" y1=\"952.13\" x2=\"1854.68\" y2=\"952.13\" style=\"stroke:#000000; stroke-width:4; stroke-opacity:0.8\"/>\n",
              "<line clip-path=\"url(#clip0403)\" x1=\"2039.98\" y1=\"1193.22\" x2=\"1999.98\" y2=\"1193.22\" style=\"stroke:#000000; stroke-width:4; stroke-opacity:0.8\"/>\n",
              "<line clip-path=\"url(#clip0403)\" x1=\"2039.98\" y1=\"1082.21\" x2=\"1999.98\" y2=\"1082.21\" style=\"stroke:#000000; stroke-width:4; stroke-opacity:0.8\"/>\n",
              "<line clip-path=\"url(#clip0403)\" x1=\"2185.28\" y1=\"1141.45\" x2=\"2145.28\" y2=\"1141.45\" style=\"stroke:#000000; stroke-width:4; stroke-opacity:0.8\"/>\n",
              "<line clip-path=\"url(#clip0403)\" x1=\"2185.28\" y1=\"811.163\" x2=\"2145.28\" y2=\"811.163\" style=\"stroke:#000000; stroke-width:4; stroke-opacity:0.8\"/>\n",
              "<line clip-path=\"url(#clip0403)\" x1=\"2330.58\" y1=\"1103.89\" x2=\"2290.58\" y2=\"1103.89\" style=\"stroke:#000000; stroke-width:4; stroke-opacity:0.8\"/>\n",
              "<line clip-path=\"url(#clip0403)\" x1=\"2330.58\" y1=\"958.214\" x2=\"2290.58\" y2=\"958.214\" style=\"stroke:#000000; stroke-width:4; stroke-opacity:0.8\"/>\n",
              "<line clip-path=\"url(#clip0403)\" x1=\"2475.88\" y1=\"958.036\" x2=\"2435.88\" y2=\"958.036\" style=\"stroke:#000000; stroke-width:4; stroke-opacity:0.8\"/>\n",
              "<line clip-path=\"url(#clip0403)\" x1=\"2475.88\" y1=\"687.373\" x2=\"2435.88\" y2=\"687.373\" style=\"stroke:#000000; stroke-width:4; stroke-opacity:0.8\"/>\n",
              "<polyline clip-path=\"url(#clip0403)\" style=\"stroke:#ff0000; stroke-width:4; stroke-opacity:0.8; fill:none\" points=\"\n",
              "  276.39,1170.67 421.689,1031.33 566.988,989.106 712.287,1213.36 857.586,1313.23 1002.88,1403.27 1148.18,1430.51 1293.48,1439.43 1438.78,1340.68 1584.08,1076.88 \n",
              "  1729.38,1087.53 1874.68,1355.39 2019.98,1454.05 2165.28,1413.24 2310.58,1376.55 2455.88,1357.98 \n",
              "  \"/>\n",
              "<polyline clip-path=\"url(#clip0403)\" style=\"stroke:#ff0000; stroke-width:4; stroke-opacity:0.8; fill:none\" points=\"\n",
              "  276.39,1265.77 276.39,1075.56 \n",
              "  \"/>\n",
              "<polyline clip-path=\"url(#clip0403)\" style=\"stroke:#ff0000; stroke-width:4; stroke-opacity:0.8; fill:none\" points=\"\n",
              "  421.689,1069.63 421.689,993.035 \n",
              "  \"/>\n",
              "<polyline clip-path=\"url(#clip0403)\" style=\"stroke:#ff0000; stroke-width:4; stroke-opacity:0.8; fill:none\" points=\"\n",
              "  566.988,1056.36 566.988,921.855 \n",
              "  \"/>\n",
              "<polyline clip-path=\"url(#clip0403)\" style=\"stroke:#ff0000; stroke-width:4; stroke-opacity:0.8; fill:none\" points=\"\n",
              "  712.287,1308.98 712.287,1117.74 \n",
              "  \"/>\n",
              "<polyline clip-path=\"url(#clip0403)\" style=\"stroke:#ff0000; stroke-width:4; stroke-opacity:0.8; fill:none\" points=\"\n",
              "  857.586,1350.19 857.586,1276.27 \n",
              "  \"/>\n",
              "<polyline clip-path=\"url(#clip0403)\" style=\"stroke:#ff0000; stroke-width:4; stroke-opacity:0.8; fill:none\" points=\"\n",
              "  1002.88,1446.98 1002.88,1359.56 \n",
              "  \"/>\n",
              "<polyline clip-path=\"url(#clip0403)\" style=\"stroke:#ff0000; stroke-width:4; stroke-opacity:0.8; fill:none\" points=\"\n",
              "  1148.18,1482.02 1148.18,1378.99 \n",
              "  \"/>\n",
              "<polyline clip-path=\"url(#clip0403)\" style=\"stroke:#ff0000; stroke-width:4; stroke-opacity:0.8; fill:none\" points=\"\n",
              "  1293.48,1470.13 1293.48,1408.73 \n",
              "  \"/>\n",
              "<polyline clip-path=\"url(#clip0403)\" style=\"stroke:#ff0000; stroke-width:4; stroke-opacity:0.8; fill:none\" points=\"\n",
              "  1438.78,1386.72 1438.78,1294.65 \n",
              "  \"/>\n",
              "<polyline clip-path=\"url(#clip0403)\" style=\"stroke:#ff0000; stroke-width:4; stroke-opacity:0.8; fill:none\" points=\"\n",
              "  1584.08,1145 1584.08,1008.76 \n",
              "  \"/>\n",
              "<polyline clip-path=\"url(#clip0403)\" style=\"stroke:#ff0000; stroke-width:4; stroke-opacity:0.8; fill:none\" points=\"\n",
              "  1729.38,1154.8 1729.38,1020.25 \n",
              "  \"/>\n",
              "<polyline clip-path=\"url(#clip0403)\" style=\"stroke:#ff0000; stroke-width:4; stroke-opacity:0.8; fill:none\" points=\"\n",
              "  1874.68,1416.25 1874.68,1294.54 \n",
              "  \"/>\n",
              "<polyline clip-path=\"url(#clip0403)\" style=\"stroke:#ff0000; stroke-width:4; stroke-opacity:0.8; fill:none\" points=\"\n",
              "  2019.98,1475.95 2019.98,1432.16 \n",
              "  \"/>\n",
              "<polyline clip-path=\"url(#clip0403)\" style=\"stroke:#ff0000; stroke-width:4; stroke-opacity:0.8; fill:none\" points=\"\n",
              "  2165.28,1445.83 2165.28,1380.64 \n",
              "  \"/>\n",
              "<polyline clip-path=\"url(#clip0403)\" style=\"stroke:#ff0000; stroke-width:4; stroke-opacity:0.8; fill:none\" points=\"\n",
              "  2310.58,1397.79 2310.58,1355.3 \n",
              "  \"/>\n",
              "<polyline clip-path=\"url(#clip0403)\" style=\"stroke:#ff0000; stroke-width:4; stroke-opacity:0.8; fill:none\" points=\"\n",
              "  2455.88,1407.62 2455.88,1308.34 \n",
              "  \"/>\n",
              "<line clip-path=\"url(#clip0403)\" x1=\"296.39\" y1=\"1265.77\" x2=\"256.39\" y2=\"1265.77\" style=\"stroke:#ff0000; stroke-width:4; stroke-opacity:0.8\"/>\n",
              "<line clip-path=\"url(#clip0403)\" x1=\"296.39\" y1=\"1075.56\" x2=\"256.39\" y2=\"1075.56\" style=\"stroke:#ff0000; stroke-width:4; stroke-opacity:0.8\"/>\n",
              "<line clip-path=\"url(#clip0403)\" x1=\"441.689\" y1=\"1069.63\" x2=\"401.689\" y2=\"1069.63\" style=\"stroke:#ff0000; stroke-width:4; stroke-opacity:0.8\"/>\n",
              "<line clip-path=\"url(#clip0403)\" x1=\"441.689\" y1=\"993.035\" x2=\"401.689\" y2=\"993.035\" style=\"stroke:#ff0000; stroke-width:4; stroke-opacity:0.8\"/>\n",
              "<line clip-path=\"url(#clip0403)\" x1=\"586.988\" y1=\"1056.36\" x2=\"546.988\" y2=\"1056.36\" style=\"stroke:#ff0000; stroke-width:4; stroke-opacity:0.8\"/>\n",
              "<line clip-path=\"url(#clip0403)\" x1=\"586.988\" y1=\"921.855\" x2=\"546.988\" y2=\"921.855\" style=\"stroke:#ff0000; stroke-width:4; stroke-opacity:0.8\"/>\n",
              "<line clip-path=\"url(#clip0403)\" x1=\"732.287\" y1=\"1308.98\" x2=\"692.287\" y2=\"1308.98\" style=\"stroke:#ff0000; stroke-width:4; stroke-opacity:0.8\"/>\n",
              "<line clip-path=\"url(#clip0403)\" x1=\"732.287\" y1=\"1117.74\" x2=\"692.287\" y2=\"1117.74\" style=\"stroke:#ff0000; stroke-width:4; stroke-opacity:0.8\"/>\n",
              "<line clip-path=\"url(#clip0403)\" x1=\"877.586\" y1=\"1350.19\" x2=\"837.586\" y2=\"1350.19\" style=\"stroke:#ff0000; stroke-width:4; stroke-opacity:0.8\"/>\n",
              "<line clip-path=\"url(#clip0403)\" x1=\"877.586\" y1=\"1276.27\" x2=\"837.586\" y2=\"1276.27\" style=\"stroke:#ff0000; stroke-width:4; stroke-opacity:0.8\"/>\n",
              "<line clip-path=\"url(#clip0403)\" x1=\"1022.88\" y1=\"1446.98\" x2=\"982.885\" y2=\"1446.98\" style=\"stroke:#ff0000; stroke-width:4; stroke-opacity:0.8\"/>\n",
              "<line clip-path=\"url(#clip0403)\" x1=\"1022.88\" y1=\"1359.56\" x2=\"982.885\" y2=\"1359.56\" style=\"stroke:#ff0000; stroke-width:4; stroke-opacity:0.8\"/>\n",
              "<line clip-path=\"url(#clip0403)\" x1=\"1168.18\" y1=\"1482.02\" x2=\"1128.18\" y2=\"1482.02\" style=\"stroke:#ff0000; stroke-width:4; stroke-opacity:0.8\"/>\n",
              "<line clip-path=\"url(#clip0403)\" x1=\"1168.18\" y1=\"1378.99\" x2=\"1128.18\" y2=\"1378.99\" style=\"stroke:#ff0000; stroke-width:4; stroke-opacity:0.8\"/>\n",
              "<line clip-path=\"url(#clip0403)\" x1=\"1313.48\" y1=\"1470.13\" x2=\"1273.48\" y2=\"1470.13\" style=\"stroke:#ff0000; stroke-width:4; stroke-opacity:0.8\"/>\n",
              "<line clip-path=\"url(#clip0403)\" x1=\"1313.48\" y1=\"1408.73\" x2=\"1273.48\" y2=\"1408.73\" style=\"stroke:#ff0000; stroke-width:4; stroke-opacity:0.8\"/>\n",
              "<line clip-path=\"url(#clip0403)\" x1=\"1458.78\" y1=\"1386.72\" x2=\"1418.78\" y2=\"1386.72\" style=\"stroke:#ff0000; stroke-width:4; stroke-opacity:0.8\"/>\n",
              "<line clip-path=\"url(#clip0403)\" x1=\"1458.78\" y1=\"1294.65\" x2=\"1418.78\" y2=\"1294.65\" style=\"stroke:#ff0000; stroke-width:4; stroke-opacity:0.8\"/>\n",
              "<line clip-path=\"url(#clip0403)\" x1=\"1604.08\" y1=\"1145\" x2=\"1564.08\" y2=\"1145\" style=\"stroke:#ff0000; stroke-width:4; stroke-opacity:0.8\"/>\n",
              "<line clip-path=\"url(#clip0403)\" x1=\"1604.08\" y1=\"1008.76\" x2=\"1564.08\" y2=\"1008.76\" style=\"stroke:#ff0000; stroke-width:4; stroke-opacity:0.8\"/>\n",
              "<line clip-path=\"url(#clip0403)\" x1=\"1749.38\" y1=\"1154.8\" x2=\"1709.38\" y2=\"1154.8\" style=\"stroke:#ff0000; stroke-width:4; stroke-opacity:0.8\"/>\n",
              "<line clip-path=\"url(#clip0403)\" x1=\"1749.38\" y1=\"1020.25\" x2=\"1709.38\" y2=\"1020.25\" style=\"stroke:#ff0000; stroke-width:4; stroke-opacity:0.8\"/>\n",
              "<line clip-path=\"url(#clip0403)\" x1=\"1894.68\" y1=\"1416.25\" x2=\"1854.68\" y2=\"1416.25\" style=\"stroke:#ff0000; stroke-width:4; stroke-opacity:0.8\"/>\n",
              "<line clip-path=\"url(#clip0403)\" x1=\"1894.68\" y1=\"1294.54\" x2=\"1854.68\" y2=\"1294.54\" style=\"stroke:#ff0000; stroke-width:4; stroke-opacity:0.8\"/>\n",
              "<line clip-path=\"url(#clip0403)\" x1=\"2039.98\" y1=\"1475.95\" x2=\"1999.98\" y2=\"1475.95\" style=\"stroke:#ff0000; stroke-width:4; stroke-opacity:0.8\"/>\n",
              "<line clip-path=\"url(#clip0403)\" x1=\"2039.98\" y1=\"1432.16\" x2=\"1999.98\" y2=\"1432.16\" style=\"stroke:#ff0000; stroke-width:4; stroke-opacity:0.8\"/>\n",
              "<line clip-path=\"url(#clip0403)\" x1=\"2185.28\" y1=\"1445.83\" x2=\"2145.28\" y2=\"1445.83\" style=\"stroke:#ff0000; stroke-width:4; stroke-opacity:0.8\"/>\n",
              "<line clip-path=\"url(#clip0403)\" x1=\"2185.28\" y1=\"1380.64\" x2=\"2145.28\" y2=\"1380.64\" style=\"stroke:#ff0000; stroke-width:4; stroke-opacity:0.8\"/>\n",
              "<line clip-path=\"url(#clip0403)\" x1=\"2330.58\" y1=\"1397.79\" x2=\"2290.58\" y2=\"1397.79\" style=\"stroke:#ff0000; stroke-width:4; stroke-opacity:0.8\"/>\n",
              "<line clip-path=\"url(#clip0403)\" x1=\"2330.58\" y1=\"1355.3\" x2=\"2290.58\" y2=\"1355.3\" style=\"stroke:#ff0000; stroke-width:4; stroke-opacity:0.8\"/>\n",
              "<line clip-path=\"url(#clip0403)\" x1=\"2475.88\" y1=\"1407.62\" x2=\"2435.88\" y2=\"1407.62\" style=\"stroke:#ff0000; stroke-width:4; stroke-opacity:0.8\"/>\n",
              "<line clip-path=\"url(#clip0403)\" x1=\"2475.88\" y1=\"1308.34\" x2=\"2435.88\" y2=\"1308.34\" style=\"stroke:#ff0000; stroke-width:4; stroke-opacity:0.8\"/>\n",
              "<polygon clip-path=\"url(#clip0401)\" points=\"\n",
              "2121.74,402.944 2443.26,402.944 2443.26,221.504 2121.74,221.504 \n",
              "  \" fill=\"#ffffff\" fill-rule=\"evenodd\" fill-opacity=\"1\"/>\n",
              "<polyline clip-path=\"url(#clip0401)\" style=\"stroke:#000000; stroke-width:4; stroke-opacity:1; fill:none\" points=\"\n",
              "  2121.74,402.944 2443.26,402.944 2443.26,221.504 2121.74,221.504 2121.74,402.944 \n",
              "  \"/>\n",
              "<polyline clip-path=\"url(#clip0401)\" style=\"stroke:#000000; stroke-width:4; stroke-opacity:0.8; fill:none\" points=\"\n",
              "  2147.74,281.984 2303.74,281.984 \n",
              "  \"/>\n",
              "<g clip-path=\"url(#clip0401)\">\n",
              "<text style=\"fill:#000000; fill-opacity:1; font-family:Arial,Helvetica Neue,Helvetica,sans-serif; font-size:48px; text-anchor:start;\" transform=\"rotate(0, 2329.74, 299.484)\" x=\"2329.74\" y=\"299.484\">U0</text>\n",
              "</g>\n",
              "<polyline clip-path=\"url(#clip0401)\" style=\"stroke:#ff0000; stroke-width:4; stroke-opacity:0.8; fill:none\" points=\"\n",
              "  2147.74,342.464 2303.74,342.464 \n",
              "  \"/>\n",
              "<g clip-path=\"url(#clip0401)\">\n",
              "<text style=\"fill:#000000; fill-opacity:1; font-family:Arial,Helvetica Neue,Helvetica,sans-serif; font-size:48px; text-anchor:start;\" transform=\"rotate(0, 2329.74, 359.964)\" x=\"2329.74\" y=\"359.964\">U1</text>\n",
              "</g>\n",
              "</svg>\n"
            ]
          },
          "metadata": {}
        }
      ],
      "execution_count": 11,
      "metadata": {}
    },
    {
      "cell_type": "markdown",
      "source": [
        "## PSTH"
      ],
      "metadata": {}
    },
    {
      "cell_type": "code",
      "source": [
        "bw = slider(2:20,value=10,label=\"BinWidth\")\n",
        "uid = map(e->togglebuttons([\"All\";spikeuuid[findfirst(spikeeid.==e)]],label=\"Unit\"),observe(eid))\n",
        "vbox(bw,uid)"
      ],
      "outputs": [
        {
          "output_type": "execute_result",
          "execution_count": 11,
          "data": {
            "application/vnd.webio.node+json": {
              "children": [
                {
                  "children": [
                    {
                      "children": [
                        {
                          "children": [
                            {
                              "children": [
                                {
                                  "children": [
                                    "BinWidth"
                                  ],
                                  "instanceArgs": {
                                    "namespace": "html",
                                    "tag": "label"
                                  },
                                  "nodeType": "DOM",
                                  "props": {
                                    "className": "interact ",
                                    "style": {
                                      "padding": "5px 10px 0px 10px"
                                    }
                                  },
                                  "type": "node"
                                }
                              ],
                              "instanceArgs": {
                                "namespace": "html",
                                "tag": "div"
                              },
                              "nodeType": "DOM",
                              "props": {
                                "attributes": {
                                  "style": "text-align:right;width:18%"
                                }
                              },
                              "type": "node"
                            },
                            {
                              "children": [
                                {
                                  "children": [],
                                  "instanceArgs": {
                                    "namespace": "html",
                                    "tag": "input"
                                  },
                                  "nodeType": "DOM",
                                  "props": {
                                    "attributes": {
                                      "data-bind": "numericValue: value, valueUpdate: 'input', event: {change : function () {this.changes(this.changes()+1)}}",
                                      "orient": "horizontal",
                                      "type": "range"
                                    },
                                    "className": "slider slider is-fullwidth",
                                    "max": 20,
                                    "min": 2,
                                    "step": 1,
                                    "style": {}
                                  },
                                  "type": "node"
                                }
                              ],
                              "instanceArgs": {
                                "namespace": "html",
                                "tag": "div"
                              },
                              "nodeType": "DOM",
                              "props": {
                                "attributes": {
                                  "style": "flex-grow:1; margin: 0 2%"
                                }
                              },
                              "type": "node"
                            },
                            {
                              "children": [
                                {
                                  "children": [],
                                  "instanceArgs": {
                                    "namespace": "html",
                                    "tag": "p"
                                  },
                                  "nodeType": "DOM",
                                  "props": {
                                    "attributes": {
                                      "data-bind": "text: value"
                                    }
                                  },
                                  "type": "node"
                                }
                              ],
                              "instanceArgs": {
                                "namespace": "html",
                                "tag": "div"
                              },
                              "nodeType": "DOM",
                              "props": {
                                "attributes": {
                                  "style": "width:18%"
                                }
                              },
                              "type": "node"
                            }
                          ],
                          "instanceArgs": {
                            "namespace": "html",
                            "tag": "div"
                          },
                          "nodeType": "DOM",
                          "props": {
                            "attributes": {
                              "style": "display:flex; justify-content:center; align-items:center;"
                            }
                          },
                          "type": "node"
                        }
                      ],
                      "instanceArgs": {
                        "handlers": {
                          "_promises": {
                            "importsLoaded": [
                              "function (ko, koPunches) {\n    ko.punches.enableAll();\n    ko.bindingHandlers.numericValue = {\n        init : function(element, valueAccessor, allBindings, data, context) {\n            var stringified = ko.observable(ko.unwrap(valueAccessor()));\n            stringified.subscribe(function(value) {\n                var val = parseFloat(value);\n                if (!isNaN(val)) {\n                    valueAccessor()(val);\n                }\n            })\n            valueAccessor().subscribe(function(value) {\n                var str = JSON.stringify(value);\n                if ((str == \"0\") && ([\"-0\", \"-0.\"].indexOf(stringified()) >= 0))\n                     return;\n                 if ([\"null\", \"\"].indexOf(str) >= 0)\n                     return;\n                stringified(str);\n            })\n            ko.applyBindingsToNode(element, { value: stringified, valueUpdate: allBindings.get('valueUpdate')}, context);\n        }\n    };\n    var json_data = JSON.parse(\"{\\\"changes\\\":0,\\\"value\\\":10}\");\n    var self = this;\n    function AppViewModel() {\n        for (var key in json_data) {\n            var el = json_data[key];\n            this[key] = Array.isArray(el) ? ko.observableArray(el) : ko.observable(el);\n        }\n        \n        \n        [this[\"changes\"].subscribe((function (val){!(this.valueFromJulia[\"changes\"]) ? (_webIOScope.setObservableValue({\"name\":\"changes\",\"scope\":\"knockout-component-cf6fa08d-2338-4b08-9e09-1b748774be8b\",\"id\":\"ob_43\",\"type\":\"observable\"},val)) : undefined; return this.valueFromJulia[\"changes\"]=false}),self),this[\"value\"].subscribe((function (val){!(this.valueFromJulia[\"value\"]) ? (_webIOScope.setObservableValue({\"name\":\"value\",\"scope\":\"knockout-component-cf6fa08d-2338-4b08-9e09-1b748774be8b\",\"id\":\"ob_42\",\"type\":\"observable\"},val)) : undefined; return this.valueFromJulia[\"value\"]=false}),self)]\n        \n    }\n    self.model = new AppViewModel();\n    self.valueFromJulia = {};\n    for (var key in json_data) {\n        self.valueFromJulia[key] = false;\n    }\n    ko.applyBindings(self.model, self.dom);\n}\n"
                            ]
                          },
                          "changes": [
                            "(function (val){return (val!=this.model[\"changes\"]()) ? (this.valueFromJulia[\"changes\"]=true, this.model[\"changes\"](val)) : undefined})"
                          ],
                          "value": [
                            "(function (val){return (val!=this.model[\"value\"]()) ? (this.valueFromJulia[\"value\"]=true, this.model[\"value\"](val)) : undefined})"
                          ]
                        },
                        "id": "knockout-component-cf6fa08d-2338-4b08-9e09-1b748774be8b",
                        "imports": {
                          "data": [
                            {
                              "name": "knockout",
                              "type": "js",
                              "url": "/assetserver/fe7d3ce0ef73fffe4b07398d3eaf1c1a335ed6ac-knockout.js"
                            },
                            {
                              "name": "knockout_punches",
                              "type": "js",
                              "url": "/assetserver/1764b91a11ffe5a6c57c5d605079ccde5ddd28a1-knockout_punches.js"
                            },
                            {
                              "name": null,
                              "type": "js",
                              "url": "/assetserver/239a0709d1bd89d06f348c62cad4467504786b78-all.js"
                            },
                            {
                              "name": null,
                              "type": "css",
                              "url": "/assetserver/88fd8714ccb6031b47bd164292283bc40f0e5b56-style.css"
                            },
                            {
                              "name": null,
                              "type": "css",
                              "url": "/assetserver/593c6eca1d291d88375fe32d6fd7993aadb13589-main.css"
                            }
                          ],
                          "type": "async_block"
                        },
                        "observables": {
                          "changes": {
                            "id": "ob_43",
                            "sync": false,
                            "value": 0
                          },
                          "value": {
                            "id": "ob_42",
                            "sync": false,
                            "value": 10
                          }
                        },
                        "systemjs_options": null
                      },
                      "nodeType": "Scope",
                      "props": {},
                      "type": "node"
                    }
                  ],
                  "instanceArgs": {
                    "namespace": "html",
                    "tag": "div"
                  },
                  "nodeType": "DOM",
                  "props": {
                    "className": "field"
                  },
                  "type": "node"
                },
                {
                  "children": [
                    {
                      "children": [],
                      "instanceArgs": {
                        "id": "ob_50",
                        "name": "obs-scope"
                      },
                      "nodeType": "ObservableNode",
                      "props": {},
                      "type": "node"
                    }
                  ],
                  "instanceArgs": {
                    "handlers": {},
                    "id": "scope-ad2dddc2-dd05-497c-a9b0-1999a6363e0e",
                    "imports": {
                      "data": [],
                      "type": "async_block"
                    },
                    "observables": {
                      "obs-scope": {
                        "id": "ob_50",
                        "sync": false,
                        "value": {
                          "children": [
                            {
                              "children": [
                                {
                                  "children": [
                                    {
                                      "children": [
                                        {
                                          "children": [
                                            "Unit"
                                          ],
                                          "instanceArgs": {
                                            "namespace": "html",
                                            "tag": "label"
                                          },
                                          "nodeType": "DOM",
                                          "props": {
                                            "className": "interact ",
                                            "style": {
                                              "padding": "5px 10px 0px 10px"
                                            }
                                          },
                                          "type": "node"
                                        }
                                      ],
                                      "instanceArgs": {
                                        "namespace": "html",
                                        "tag": "div"
                                      },
                                      "nodeType": "DOM",
                                      "props": {
                                        "attributes": {
                                          "style": "text-align:right;width:18%"
                                        }
                                      },
                                      "type": "node"
                                    },
                                    {
                                      "children": [
                                        {
                                          "children": [
                                            {
                                              "children": [
                                                {
                                                  "children": [],
                                                  "instanceArgs": {
                                                    "namespace": "html",
                                                    "tag": "label"
                                                  },
                                                  "nodeType": "DOM",
                                                  "props": {
                                                    "attributes": {
                                                      "data-bind": "text : key"
                                                    }
                                                  },
                                                  "type": "node"
                                                }
                                              ],
                                              "instanceArgs": {
                                                "namespace": "html",
                                                "tag": "button"
                                              },
                                              "nodeType": "DOM",
                                              "props": {
                                                "attributes": {
                                                  "data-bind": "click: function () {$root.index(val)}, css: {'is-primary is-selected' : $root.index() == val, 'button is-fullwidth' : true}"
                                                }
                                              },
                                              "type": "node"
                                            }
                                          ],
                                          "instanceArgs": {
                                            "namespace": "html",
                                            "tag": "div"
                                          },
                                          "nodeType": "DOM",
                                          "props": {
                                            "attributes": {
                                              "data-bind": "foreach : options_js"
                                            },
                                            "className": "field is-grouped has-addons is-oneline is-centered"
                                          },
                                          "type": "node"
                                        }
                                      ],
                                      "instanceArgs": {
                                        "namespace": "html",
                                        "tag": "div"
                                      },
                                      "nodeType": "DOM",
                                      "props": {
                                        "attributes": {
                                          "style": "flex-grow:1; margin: 0 2%"
                                        }
                                      },
                                      "type": "node"
                                    },
                                    {
                                      "children": [
                                        {
                                          "children": [],
                                          "instanceArgs": {
                                            "namespace": "html",
                                            "tag": "div"
                                          },
                                          "nodeType": "DOM",
                                          "props": {},
                                          "type": "node"
                                        }
                                      ],
                                      "instanceArgs": {
                                        "namespace": "html",
                                        "tag": "div"
                                      },
                                      "nodeType": "DOM",
                                      "props": {
                                        "attributes": {
                                          "style": "width:18%"
                                        }
                                      },
                                      "type": "node"
                                    }
                                  ],
                                  "instanceArgs": {
                                    "namespace": "html",
                                    "tag": "div"
                                  },
                                  "nodeType": "DOM",
                                  "props": {
                                    "attributes": {
                                      "style": "display:flex; justify-content:center; align-items:center;"
                                    }
                                  },
                                  "type": "node"
                                }
                              ],
                              "instanceArgs": {
                                "handlers": {
                                  "_promises": {
                                    "importsLoaded": [
                                      "function (ko, koPunches) {\n    ko.punches.enableAll();\n    ko.bindingHandlers.numericValue = {\n        init : function(element, valueAccessor, allBindings, data, context) {\n            var stringified = ko.observable(ko.unwrap(valueAccessor()));\n            stringified.subscribe(function(value) {\n                var val = parseFloat(value);\n                if (!isNaN(val)) {\n                    valueAccessor()(val);\n                }\n            })\n            valueAccessor().subscribe(function(value) {\n                var str = JSON.stringify(value);\n                if ((str == \"0\") && ([\"-0\", \"-0.\"].indexOf(stringified()) >= 0))\n                     return;\n                 if ([\"null\", \"\"].indexOf(str) >= 0)\n                     return;\n                stringified(str);\n            })\n            ko.applyBindingsToNode(element, { value: stringified, valueUpdate: allBindings.get('valueUpdate')}, context);\n        }\n    };\n    var json_data = JSON.parse(\"{\\\"options_js\\\":[{\\\"key\\\":\\\"All\\\",\\\"val\\\":1,\\\"id\\\":\\\"idIgCVHWUh\\\"},{\\\"key\\\":\\\"0\\\",\\\"val\\\":2,\\\"id\\\":\\\"idnnlIkvqt\\\"},{\\\"key\\\":\\\"1\\\",\\\"val\\\":3,\\\"id\\\":\\\"idv53ueqwQ\\\"}],\\\"index\\\":1}\");\n    var self = this;\n    function AppViewModel() {\n        for (var key in json_data) {\n            var el = json_data[key];\n            this[key] = Array.isArray(el) ? ko.observableArray(el) : ko.observable(el);\n        }\n        \n        \n        [this[\"options_js\"].subscribe((function (val){!(this.valueFromJulia[\"options_js\"]) ? (_webIOScope.setObservableValue({\"name\":\"options_js\",\"scope\":\"knockout-component-a5146336-6969-4e87-bae0-12651ff145cb\",\"id\":\"ob_48\",\"type\":\"observable\"},val)) : undefined; return this.valueFromJulia[\"options_js\"]=false}),self),this[\"index\"].subscribe((function (val){!(this.valueFromJulia[\"index\"]) ? (_webIOScope.setObservableValue({\"name\":\"index\",\"scope\":\"knockout-component-a5146336-6969-4e87-bae0-12651ff145cb\",\"id\":\"ob_47\",\"type\":\"observable\"},val)) : undefined; return this.valueFromJulia[\"index\"]=false}),self)]\n        \n    }\n    self.model = new AppViewModel();\n    self.valueFromJulia = {};\n    for (var key in json_data) {\n        self.valueFromJulia[key] = false;\n    }\n    ko.applyBindings(self.model, self.dom);\n}\n"
                                    ]
                                  },
                                  "index": [
                                    "(function (val){return (val!=this.model[\"index\"]()) ? (this.valueFromJulia[\"index\"]=true, this.model[\"index\"](val)) : undefined})"
                                  ],
                                  "options_js": [
                                    "(function (val){return (val!=this.model[\"options_js\"]()) ? (this.valueFromJulia[\"options_js\"]=true, this.model[\"options_js\"](val)) : undefined})"
                                  ]
                                },
                                "id": "knockout-component-a5146336-6969-4e87-bae0-12651ff145cb",
                                "imports": {
                                  "data": [
                                    {
                                      "name": "knockout",
                                      "type": "js",
                                      "url": "/assetserver/fe7d3ce0ef73fffe4b07398d3eaf1c1a335ed6ac-knockout.js"
                                    },
                                    {
                                      "name": "knockout_punches",
                                      "type": "js",
                                      "url": "/assetserver/1764b91a11ffe5a6c57c5d605079ccde5ddd28a1-knockout_punches.js"
                                    },
                                    {
                                      "name": null,
                                      "type": "js",
                                      "url": "/assetserver/239a0709d1bd89d06f348c62cad4467504786b78-all.js"
                                    },
                                    {
                                      "name": null,
                                      "type": "css",
                                      "url": "/assetserver/88fd8714ccb6031b47bd164292283bc40f0e5b56-style.css"
                                    },
                                    {
                                      "name": null,
                                      "type": "css",
                                      "url": "/assetserver/593c6eca1d291d88375fe32d6fd7993aadb13589-main.css"
                                    }
                                  ],
                                  "type": "async_block"
                                },
                                "observables": {
                                  "index": {
                                    "id": "ob_47",
                                    "sync": true,
                                    "value": 1
                                  },
                                  "options_js": {
                                    "id": "ob_48",
                                    "sync": false,
                                    "value": [
                                      {
                                        "id": "idIgCVHWUh",
                                        "key": "All",
                                        "val": 1
                                      },
                                      {
                                        "id": "idnnlIkvqt",
                                        "key": "0",
                                        "val": 2
                                      },
                                      {
                                        "id": "idv53ueqwQ",
                                        "key": "1",
                                        "val": 3
                                      }
                                    ]
                                  }
                                },
                                "systemjs_options": null
                              },
                              "nodeType": "Scope",
                              "props": {},
                              "type": "node"
                            }
                          ],
                          "instanceArgs": {
                            "namespace": "html",
                            "tag": "div"
                          },
                          "nodeType": "DOM",
                          "props": {
                            "className": "field"
                          },
                          "type": "node"
                        }
                      }
                    },
                    "systemjs_options": null
                  },
                  "nodeType": "Scope",
                  "props": {},
                  "type": "node"
                }
              ],
              "instanceArgs": {
                "namespace": "html",
                "tag": "div"
              },
              "nodeType": "DOM",
              "props": {
                "style": {
                  "display": "flex",
                  "flex-direction": "column"
                }
              },
              "type": "node"
            },
            "text/html": [
              "<div\n",
              "    class=\"webio-mountpoint\"\n",
              "    data-webio-mountpoint=\"6918567620676528515\"\n",
              ">\n",
              "    <script>\n",
              "    if (window.require && require.defined && require.defined(\"nbextensions/webio/main\")) {\n",
              "        console.log(\"Jupyter WebIO extension detected, not mounting.\");\n",
              "    } else if (window.WebIO) {\n",
              "        WebIO.mount(\n",
              "            document.querySelector('[data-webio-mountpoint=\"6918567620676528515\"]'),\n",
              "            {\"props\":{\"style\":{\"display\":\"flex\",\"flex-direction\":\"column\"}},\"nodeType\":\"DOM\",\"type\":\"node\",\"instanceArgs\":{\"namespace\":\"html\",\"tag\":\"div\"},\"children\":[{\"props\":{\"className\":\"field\"},\"nodeType\":\"DOM\",\"type\":\"node\",\"instanceArgs\":{\"namespace\":\"html\",\"tag\":\"div\"},\"children\":[{\"props\":{},\"nodeType\":\"Scope\",\"type\":\"node\",\"instanceArgs\":{\"imports\":{\"data\":[{\"name\":\"knockout\",\"type\":\"js\",\"url\":\"\\/assetserver\\/fe7d3ce0ef73fffe4b07398d3eaf1c1a335ed6ac-knockout.js\"},{\"name\":\"knockout_punches\",\"type\":\"js\",\"url\":\"\\/assetserver\\/1764b91a11ffe5a6c57c5d605079ccde5ddd28a1-knockout_punches.js\"},{\"name\":null,\"type\":\"js\",\"url\":\"\\/assetserver\\/239a0709d1bd89d06f348c62cad4467504786b78-all.js\"},{\"name\":null,\"type\":\"css\",\"url\":\"\\/assetserver\\/88fd8714ccb6031b47bd164292283bc40f0e5b56-style.css\"},{\"name\":null,\"type\":\"css\",\"url\":\"\\/assetserver\\/593c6eca1d291d88375fe32d6fd7993aadb13589-main.css\"}],\"type\":\"async_block\"},\"id\":\"knockout-component-cf6fa08d-2338-4b08-9e09-1b748774be8b\",\"handlers\":{\"_promises\":{\"importsLoaded\":[\"function (ko, koPunches) {\\n    ko.punches.enableAll();\\n    ko.bindingHandlers.numericValue = {\\n        init : function(element, valueAccessor, allBindings, data, context) {\\n            var stringified = ko.observable(ko.unwrap(valueAccessor()));\\n            stringified.subscribe(function(value) {\\n                var val = parseFloat(value);\\n                if (!isNaN(val)) {\\n                    valueAccessor()(val);\\n                }\\n            })\\n            valueAccessor().subscribe(function(value) {\\n                var str = JSON.stringify(value);\\n                if ((str == \\\"0\\\") && ([\\\"-0\\\", \\\"-0.\\\"].indexOf(stringified()) >= 0))\\n                     return;\\n                 if ([\\\"null\\\", \\\"\\\"].indexOf(str) >= 0)\\n                     return;\\n                stringified(str);\\n            })\\n            ko.applyBindingsToNode(element, { value: stringified, valueUpdate: allBindings.get('valueUpdate')}, context);\\n        }\\n    };\\n    var json_data = JSON.parse(\\\"{\\\\\\\"changes\\\\\\\":0,\\\\\\\"value\\\\\\\":10}\\\");\\n    var self = this;\\n    function AppViewModel() {\\n        for (var key in json_data) {\\n            var el = json_data[key];\\n            this[key] = Array.isArray(el) ? ko.observableArray(el) : ko.observable(el);\\n        }\\n        \\n        \\n        [this[\\\"changes\\\"].subscribe((function (val){!(this.valueFromJulia[\\\"changes\\\"]) ? (_webIOScope.setObservableValue({\\\"name\\\":\\\"changes\\\",\\\"scope\\\":\\\"knockout-component-cf6fa08d-2338-4b08-9e09-1b748774be8b\\\",\\\"id\\\":\\\"ob_43\\\",\\\"type\\\":\\\"observable\\\"},val)) : undefined; return this.valueFromJulia[\\\"changes\\\"]=false}),self),this[\\\"value\\\"].subscribe((function (val){!(this.valueFromJulia[\\\"value\\\"]) ? (_webIOScope.setObservableValue({\\\"name\\\":\\\"value\\\",\\\"scope\\\":\\\"knockout-component-cf6fa08d-2338-4b08-9e09-1b748774be8b\\\",\\\"id\\\":\\\"ob_42\\\",\\\"type\\\":\\\"observable\\\"},val)) : undefined; return this.valueFromJulia[\\\"value\\\"]=false}),self)]\\n        \\n    }\\n    self.model = new AppViewModel();\\n    self.valueFromJulia = {};\\n    for (var key in json_data) {\\n        self.valueFromJulia[key] = false;\\n    }\\n    ko.applyBindings(self.model, self.dom);\\n}\\n\"]},\"changes\":[\"(function (val){return (val!=this.model[\\\"changes\\\"]()) ? (this.valueFromJulia[\\\"changes\\\"]=true, this.model[\\\"changes\\\"](val)) : undefined})\"],\"value\":[\"(function (val){return (val!=this.model[\\\"value\\\"]()) ? (this.valueFromJulia[\\\"value\\\"]=true, this.model[\\\"value\\\"](val)) : undefined})\"]},\"systemjs_options\":null,\"observables\":{\"changes\":{\"sync\":false,\"id\":\"ob_43\",\"value\":0},\"value\":{\"sync\":false,\"id\":\"ob_42\",\"value\":10}}},\"children\":[{\"props\":{\"attributes\":{\"style\":\"display:flex; justify-content:center; align-items:center;\"}},\"nodeType\":\"DOM\",\"type\":\"node\",\"instanceArgs\":{\"namespace\":\"html\",\"tag\":\"div\"},\"children\":[{\"props\":{\"attributes\":{\"style\":\"text-align:right;width:18%\"}},\"nodeType\":\"DOM\",\"type\":\"node\",\"instanceArgs\":{\"namespace\":\"html\",\"tag\":\"div\"},\"children\":[{\"props\":{\"className\":\"interact \",\"style\":{\"padding\":\"5px 10px 0px 10px\"}},\"nodeType\":\"DOM\",\"type\":\"node\",\"instanceArgs\":{\"namespace\":\"html\",\"tag\":\"label\"},\"children\":[\"BinWidth\"]}]},{\"props\":{\"attributes\":{\"style\":\"flex-grow:1; margin: 0 2%\"}},\"nodeType\":\"DOM\",\"type\":\"node\",\"instanceArgs\":{\"namespace\":\"html\",\"tag\":\"div\"},\"children\":[{\"props\":{\"max\":20,\"min\":2,\"attributes\":{\"type\":\"range\",\"data-bind\":\"numericValue: value, valueUpdate: 'input', event: {change : function () {this.changes(this.changes()+1)}}\",\"orient\":\"horizontal\"},\"step\":1,\"className\":\"slider slider is-fullwidth\",\"style\":{}},\"nodeType\":\"DOM\",\"type\":\"node\",\"instanceArgs\":{\"namespace\":\"html\",\"tag\":\"input\"},\"children\":[]}]},{\"props\":{\"attributes\":{\"style\":\"width:18%\"}},\"nodeType\":\"DOM\",\"type\":\"node\",\"instanceArgs\":{\"namespace\":\"html\",\"tag\":\"div\"},\"children\":[{\"props\":{\"attributes\":{\"data-bind\":\"text: value\"}},\"nodeType\":\"DOM\",\"type\":\"node\",\"instanceArgs\":{\"namespace\":\"html\",\"tag\":\"p\"},\"children\":[]}]}]}]}]},{\"props\":{},\"nodeType\":\"Scope\",\"type\":\"node\",\"instanceArgs\":{\"imports\":{\"data\":[],\"type\":\"async_block\"},\"id\":\"scope-ad2dddc2-dd05-497c-a9b0-1999a6363e0e\",\"handlers\":{},\"systemjs_options\":null,\"observables\":{\"obs-scope\":{\"sync\":false,\"id\":\"ob_50\",\"value\":{\"props\":{\"className\":\"field\"},\"nodeType\":\"DOM\",\"type\":\"node\",\"instanceArgs\":{\"namespace\":\"html\",\"tag\":\"div\"},\"children\":[{\"props\":{},\"nodeType\":\"Scope\",\"type\":\"node\",\"instanceArgs\":{\"imports\":{\"data\":[{\"name\":\"knockout\",\"type\":\"js\",\"url\":\"\\/assetserver\\/fe7d3ce0ef73fffe4b07398d3eaf1c1a335ed6ac-knockout.js\"},{\"name\":\"knockout_punches\",\"type\":\"js\",\"url\":\"\\/assetserver\\/1764b91a11ffe5a6c57c5d605079ccde5ddd28a1-knockout_punches.js\"},{\"name\":null,\"type\":\"js\",\"url\":\"\\/assetserver\\/239a0709d1bd89d06f348c62cad4467504786b78-all.js\"},{\"name\":null,\"type\":\"css\",\"url\":\"\\/assetserver\\/88fd8714ccb6031b47bd164292283bc40f0e5b56-style.css\"},{\"name\":null,\"type\":\"css\",\"url\":\"\\/assetserver\\/593c6eca1d291d88375fe32d6fd7993aadb13589-main.css\"}],\"type\":\"async_block\"},\"id\":\"knockout-component-a5146336-6969-4e87-bae0-12651ff145cb\",\"handlers\":{\"_promises\":{\"importsLoaded\":[\"function (ko, koPunches) {\\n    ko.punches.enableAll();\\n    ko.bindingHandlers.numericValue = {\\n        init : function(element, valueAccessor, allBindings, data, context) {\\n            var stringified = ko.observable(ko.unwrap(valueAccessor()));\\n            stringified.subscribe(function(value) {\\n                var val = parseFloat(value);\\n                if (!isNaN(val)) {\\n                    valueAccessor()(val);\\n                }\\n            })\\n            valueAccessor().subscribe(function(value) {\\n                var str = JSON.stringify(value);\\n                if ((str == \\\"0\\\") && ([\\\"-0\\\", \\\"-0.\\\"].indexOf(stringified()) >= 0))\\n                     return;\\n                 if ([\\\"null\\\", \\\"\\\"].indexOf(str) >= 0)\\n                     return;\\n                stringified(str);\\n            })\\n            ko.applyBindingsToNode(element, { value: stringified, valueUpdate: allBindings.get('valueUpdate')}, context);\\n        }\\n    };\\n    var json_data = JSON.parse(\\\"{\\\\\\\"options_js\\\\\\\":[{\\\\\\\"key\\\\\\\":\\\\\\\"All\\\\\\\",\\\\\\\"val\\\\\\\":1,\\\\\\\"id\\\\\\\":\\\\\\\"idIgCVHWUh\\\\\\\"},{\\\\\\\"key\\\\\\\":\\\\\\\"0\\\\\\\",\\\\\\\"val\\\\\\\":2,\\\\\\\"id\\\\\\\":\\\\\\\"idnnlIkvqt\\\\\\\"},{\\\\\\\"key\\\\\\\":\\\\\\\"1\\\\\\\",\\\\\\\"val\\\\\\\":3,\\\\\\\"id\\\\\\\":\\\\\\\"idv53ueqwQ\\\\\\\"}],\\\\\\\"index\\\\\\\":1}\\\");\\n    var self = this;\\n    function AppViewModel() {\\n        for (var key in json_data) {\\n            var el = json_data[key];\\n            this[key] = Array.isArray(el) ? ko.observableArray(el) : ko.observable(el);\\n        }\\n        \\n        \\n        [this[\\\"options_js\\\"].subscribe((function (val){!(this.valueFromJulia[\\\"options_js\\\"]) ? (_webIOScope.setObservableValue({\\\"name\\\":\\\"options_js\\\",\\\"scope\\\":\\\"knockout-component-a5146336-6969-4e87-bae0-12651ff145cb\\\",\\\"id\\\":\\\"ob_48\\\",\\\"type\\\":\\\"observable\\\"},val)) : undefined; return this.valueFromJulia[\\\"options_js\\\"]=false}),self),this[\\\"index\\\"].subscribe((function (val){!(this.valueFromJulia[\\\"index\\\"]) ? (_webIOScope.setObservableValue({\\\"name\\\":\\\"index\\\",\\\"scope\\\":\\\"knockout-component-a5146336-6969-4e87-bae0-12651ff145cb\\\",\\\"id\\\":\\\"ob_47\\\",\\\"type\\\":\\\"observable\\\"},val)) : undefined; return this.valueFromJulia[\\\"index\\\"]=false}),self)]\\n        \\n    }\\n    self.model = new AppViewModel();\\n    self.valueFromJulia = {};\\n    for (var key in json_data) {\\n        self.valueFromJulia[key] = false;\\n    }\\n    ko.applyBindings(self.model, self.dom);\\n}\\n\"]},\"options_js\":[\"(function (val){return (val!=this.model[\\\"options_js\\\"]()) ? (this.valueFromJulia[\\\"options_js\\\"]=true, this.model[\\\"options_js\\\"](val)) : undefined})\"],\"index\":[\"(function (val){return (val!=this.model[\\\"index\\\"]()) ? (this.valueFromJulia[\\\"index\\\"]=true, this.model[\\\"index\\\"](val)) : undefined})\"]},\"systemjs_options\":null,\"observables\":{\"options_js\":{\"sync\":false,\"id\":\"ob_48\",\"value\":[{\"key\":\"All\",\"val\":1,\"id\":\"idIgCVHWUh\"},{\"key\":\"0\",\"val\":2,\"id\":\"idnnlIkvqt\"},{\"key\":\"1\",\"val\":3,\"id\":\"idv53ueqwQ\"}]},\"index\":{\"sync\":true,\"id\":\"ob_47\",\"value\":1}}},\"children\":[{\"props\":{\"attributes\":{\"style\":\"display:flex; justify-content:center; align-items:center;\"}},\"nodeType\":\"DOM\",\"type\":\"node\",\"instanceArgs\":{\"namespace\":\"html\",\"tag\":\"div\"},\"children\":[{\"props\":{\"attributes\":{\"style\":\"text-align:right;width:18%\"}},\"nodeType\":\"DOM\",\"type\":\"node\",\"instanceArgs\":{\"namespace\":\"html\",\"tag\":\"div\"},\"children\":[{\"props\":{\"className\":\"interact \",\"style\":{\"padding\":\"5px 10px 0px 10px\"}},\"nodeType\":\"DOM\",\"type\":\"node\",\"instanceArgs\":{\"namespace\":\"html\",\"tag\":\"label\"},\"children\":[\"Unit\"]}]},{\"props\":{\"attributes\":{\"style\":\"flex-grow:1; margin: 0 2%\"}},\"nodeType\":\"DOM\",\"type\":\"node\",\"instanceArgs\":{\"namespace\":\"html\",\"tag\":\"div\"},\"children\":[{\"props\":{\"attributes\":{\"data-bind\":\"foreach : options_js\"},\"className\":\"field is-grouped has-addons is-oneline is-centered\"},\"nodeType\":\"DOM\",\"type\":\"node\",\"instanceArgs\":{\"namespace\":\"html\",\"tag\":\"div\"},\"children\":[{\"props\":{\"attributes\":{\"data-bind\":\"click: function () {$root.index(val)}, css: {'is-primary is-selected' : $root.index() == val, 'button is-fullwidth' : true}\"}},\"nodeType\":\"DOM\",\"type\":\"node\",\"instanceArgs\":{\"namespace\":\"html\",\"tag\":\"button\"},\"children\":[{\"props\":{\"attributes\":{\"data-bind\":\"text : key\"}},\"nodeType\":\"DOM\",\"type\":\"node\",\"instanceArgs\":{\"namespace\":\"html\",\"tag\":\"label\"},\"children\":[]}]}]}]},{\"props\":{\"attributes\":{\"style\":\"width:18%\"}},\"nodeType\":\"DOM\",\"type\":\"node\",\"instanceArgs\":{\"namespace\":\"html\",\"tag\":\"div\"},\"children\":[{\"props\":{},\"nodeType\":\"DOM\",\"type\":\"node\",\"instanceArgs\":{\"namespace\":\"html\",\"tag\":\"div\"},\"children\":[]}]}]}]}]}}}},\"children\":[{\"props\":{},\"nodeType\":\"ObservableNode\",\"type\":\"node\",\"instanceArgs\":{\"id\":\"ob_50\",\"name\":\"obs-scope\"},\"children\":[]}]}]},\n",
              "        );\n",
              "    } else {\n",
              "        document\n",
              "            .querySelector('[data-webio-mountpoint=\"6918567620676528515\"]')\n",
              "            .innerHTML = '<strong>WebIO not detected.</strong>';\n",
              "    }\n",
              "    </script>\n",
              "</div>\n"
            ],
            "text/plain": [
              "(div { style=Dict(\"display\"=>\"flex\",\"flex-direction\"=>\"column\") }\n",
              "  (div { className=\"field\" }\n",
              "        (div { attributes=Dict(\"style\"=>\"display:flex; justify-content:center; align-items:center;\") }\n",
              "      (div { attributes=Dict(\"style\"=>\"text-align:right;width:18%\") }\n",
              "        (label { className=\"interact \" style=Dict{Any,Any}(:padding=>\"5px 10px 0px 10px\") }\n",
              "          \"BinWidth\"))\n",
              "      (div { attributes=Dict(\"style\"=>\"flex-grow:1; margin: 0 2%\") }\n",
              "        (input { max=20 min=2 attributes=Dict{Any,Any}(:type=>\"range\",Symbol(\"data-bind\")=>\"numericValue: value, valueUpdate: 'input', event: {change : function () {this.changes(this.changes()+1)}}\",\"orient\"=>\"horizontal\") step=1 className=\"slider slider is-fullwidth\" style=Dict{Any,Any}() }))\n",
              "      (div { attributes=Dict(\"style\"=>\"width:18%\") }\n",
              "        (p { attributes=Dict(\"data-bind\"=>\"text: value\") }))))\n",
              "  (Scope(\"scope-ad2dddc2-dd05-497c-a9b0-1999a6363e0e\", Node{WebIO.ObservableNode}(WebIO.ObservableNode(\"ob_50\", \"obs-scope\"), Any[], Dict{Symbol,Any}(), 0), Dict{String,Tuple{Observables.AbstractObservable,Union{Nothing, Bool}}}(\"obs-scope\"=>(Observable{Node{WebIO.DOM}} with 1 listeners. Value:\n",
              "Node{DOM}(DOM(:html, :div), Any[Scope(\"knockout-component-a5146336-6969-4e87-bae0-12651ff145cb\", Node{DOM}(DOM(:html, :div), Any[Node{DOM}(DOM(:html, :div), Any[Node{DOM}(DOM(:html, :label), Any[\"Unit\"], Dict{Symbol,Any}(:className=>\"interact \",:style=>Dict{Any,Any}(:padding=>\"5px 10px 0px 10px\")), 1)], Dict{Symbol,Any}(:attributes=>Dict(\"style\"=>\"text-align:right;width:18%\")), 2), Node{DOM}(DOM(:html, :div), Any[Node{DOM}(DOM(:html, :div), Any[Node{DOM}(DOM(:html, :button), Any[Node{DOM}(DOM(:html, :label), Any[], Dict{Symbol,Any}(:attributes=>Dict(\"data-bind\"=>\"text : key\")), 0)], Dict{Symbol,Any}(:attributes=>Dict(\"data-bind\"=>\"click: function () {\\$root.index(val)}, css: {'is-primary is-selected' : \\$root.index() == val, 'button is-fullwidth' : true}\")), 1)], Dict{Symbol,Any}(:attributes=>(\"data-bind\"=>\"foreach : options_js\"),:className=>\"field is-grouped has-addons is-oneline is-centered\"), 2)], Dict{Symbol,Any}(:attributes=>Dict(\"style\"=>\"flex-grow:1; margin: 0 2%\")), 3), Node{DOM}(DOM(:html, :div), Any[Node{DOM}(DOM(:html, :div), Any[], Dict{Symbol,Any}(), 0)], Dict{Symbol,Any}(:attributes=>Dict(\"style\"=>\"width:18%\")), 1)], Dict{Symbol,Any}(:attributes=>Dict(\"style\"=>\"display:flex; justify-content:center; align-items:center;\")), 9), Dict{String,Tuple{Observables.AbstractObservable,Union{Nothing, Bool}}}(\"options_js\"=>(Observable{Any} with 1 listeners. Value:\n",
              "OrderedDict[OrderedDict{String,Any}(\"key\"=>\"All\",\"val\"=>1,\"id\"=>\"idIgCVHWUh\"), OrderedDict{String,Any}(\"key\"=>\"0\",\"val\"=>2,\"id\"=>\"idnnlIkvqt\"), OrderedDict{String,Any}(\"key\"=>\"1\",\"val\"=>3,\"id\"=>\"idv53ueqwQ\")], nothing),\"index\"=>(Observable{Any} with 2 listeners. Value:\n",
              "1, nothing)), Set(String[]), nothing, Any[\"knockout\"=>\"C:\\\\Users\\\\Alex\\\\.julia\\\\packages\\\\Knockout\\\\JIqpG\\\\src\\\\..\\\\assets\\\\knockout.js\", \"knockout_punches\"=>\"C:\\\\Users\\\\Alex\\\\.julia\\\\packages\\\\Knockout\\\\JIqpG\\\\src\\\\..\\\\assets\\\\knockout_punches.js\", \"C:\\\\Users\\\\Alex\\\\.julia\\\\packages\\\\InteractBase\\\\Q4IkI\\\\src\\\\..\\\\assets\\\\all.js\", \"C:\\\\Users\\\\Alex\\\\.julia\\\\packages\\\\InteractBase\\\\Q4IkI\\\\src\\\\..\\\\assets\\\\style.css\", \"C:\\\\Users\\\\Alex\\\\.julia\\\\packages\\\\InteractBulma\\\\Ohu5Y\\\\src\\\\..\\\\assets\\\\main.css\"], Dict{Any,Any}(\"_promises\"=>Dict{Any,Any}(\"importsLoaded\"=>Any[JSString(\"function (ko, koPunches) {\\n    ko.punches.enableAll();\\n    ko.bindingHandlers.numericValue = {\\n        init : function(element, valueAccessor, allBindings, data, context) {\\n            var stringified = ko.observable(ko.unwrap(valueAccessor()));\\n            stringified.subscribe(function(value) {\\n                var val = parseFloat(value);\\n                if (!isNaN(val)) {\\n                    valueAccessor()(val);\\n                }\\n            })\\n            valueAccessor().subscribe(function(value) {\\n                var str = JSON.stringify(value);\\n                if ((str == \\\"0\\\") && ([\\\"-0\\\", \\\"-0.\\\"].indexOf(stringified()) >= 0))\\n                     return;\\n                 if ([\\\"null\\\", \\\"\\\"].indexOf(str) >= 0)\\n                     return;\\n                stringified(str);\\n            })\\n            ko.applyBindingsToNode(element, { value: stringified, valueUpdate: allBindings.get('valueUpdate')}, context);\\n        }\\n    };\\n    var json_data = JSON.parse(\\\"{\\\\\\\"options_js\\\\\\\":[{\\\\\\\"key\\\\\\\":\\\\\\\"All\\\\\\\",\\\\\\\"val\\\\\\\":1,\\\\\\\"id\\\\\\\":\\\\\\\"idIgCVHWUh\\\\\\\"},{\\\\\\\"key\\\\\\\":\\\\\\\"0\\\\\\\",\\\\\\\"val\\\\\\\":2,\\\\\\\"id\\\\\\\":\\\\\\\"idnnlIkvqt\\\\\\\"},{\\\\\\\"key\\\\\\\":\\\\\\\"1\\\\\\\",\\\\\\\"val\\\\\\\":3,\\\\\\\"id\\\\\\\":\\\\\\\"idv53ueqwQ\\\\\\\"}],\\\\\\\"index\\\\\\\":1}\\\");\\n    var self = this;\\n    function AppViewModel() {\\n        for (var key in json_data) {\\n            var el = json_data[key];\\n            this[key] = Array.isArray(el) ? ko.observableArray(el) : ko.observable(el);\\n        }\\n        \\n        \\n        [this[\\\"options_js\\\"].subscribe((function (val){!(this.valueFromJulia[\\\"options_js\\\"]) ? (_webIOScope.setObservableValue({\\\"name\\\":\\\"options_js\\\",\\\"scope\\\":\\\"knockout-component-a5146336-6969-4e87-bae0-12651ff145cb\\\",\\\"id\\\":\\\"ob_48\\\",\\\"type\\\":\\\"observable\\\"},val)) : undefined; return this.valueFromJulia[\\\"options_js\\\"]=false}),self),this[\\\"index\\\"].subscribe((function (val){!(this.valueFromJulia[\\\"index\\\"]) ? (_webIOScope.setObservableValue({\\\"name\\\":\\\"index\\\",\\\"scope\\\":\\\"knockout-component-a5146336-6969-4e87-bae0-12651ff145cb\\\",\\\"id\\\":\\\"ob_47\\\",\\\"type\\\":\\\"observable\\\"},val)) : undefined; return this.valueFromJulia[\\\"index\\\"]=false}),self)]\\n        \\n    }\\n    self.model = new AppViewModel();\\n    self.valueFromJulia = {};\\n    for (var key in json_data) {\\n        self.valueFromJulia[key] = false;\\n    }\\n    ko.applyBindings(self.model, self.dom);\\n}\\n\")]),\"options_js\"=>Any[JSString(\"(function (val){return (val!=this.model[\\\"options_js\\\"]()) ? (this.valueFromJulia[\\\"options_js\\\"]=true, this.model[\\\"options_js\\\"](val)) : undefined})\")],\"index\"=>Any[JSString(\"(function (val){return (val!=this.model[\\\"index\\\"]()) ? (this.valueFromJulia[\\\"index\\\"]=true, this.model[\\\"index\\\"](val)) : undefined})\")]), ConnectionPool(Channel{Any}(sz_max:9223372036854775807,sz_curr:0), Set(AbstractConnection[]), Channel{AbstractConnection}(sz_max:32,sz_curr:0)))], Dict{Symbol,Any}(:className=>\"field\"), 1), nothing)), Set(String[]), nothing, Any[], Dict{Any,Any}(), WebIO.ConnectionPool(Channel{Any}(sz_max:9223372036854775807,sz_curr:0), Set(AbstractConnection[]), Channel{AbstractConnection}(sz_max:32,sz_curr:0))):\n",
              "    (WebIO.ObservableNode(\"ob_50\", \"obs-scope\"):)))"
            ]
          },
          "metadata": {
            "application/vnd.webio.node+json": {
              "kernelId": "0c274716-e622-4561-bd97-5700731c2d00"
            }
          }
        }
      ],
      "execution_count": 11,
      "metadata": {}
    },
    {
      "cell_type": "code",
      "source": [
        "bin = -preicidur:bw[]:conddur+suficidur\n",
        "usts,ns,ws,is = subrv(uid[][]==\"All\" ? est : est[esu.==uid[][]],condon.-preicidur,condoff.+suficidur,isminzero=true)\n",
        "usts = map(x->x.-preicidur,usts)\n",
        "plotpsth(usts,bin,ctc,factor[],timeline=[0,mconddur],title=\"Electrode$(eid[])_Unit$(uid[][])\")"
      ],
      "outputs": [
        {
          "output_type": "execute_result",
          "execution_count": 13,
          "data": {
            "image/svg+xml": [
              "<?xml version=\"1.0\" encoding=\"utf-8\"?>\n",
              "<svg xmlns=\"http://www.w3.org/2000/svg\" xmlns:xlink=\"http://www.w3.org/1999/xlink\" width=\"650\" height=\"420\" viewBox=\"0 0 2600 1680\">\n",
              "<defs>\n",
              "  <clipPath id=\"clip2600\">\n",
              "    <rect x=\"0\" y=\"0\" width=\"2000\" height=\"2000\"/>\n",
              "  </clipPath>\n",
              "</defs>\n",
              "<defs>\n",
              "  <clipPath id=\"clip2601\">\n",
              "    <rect x=\"0\" y=\"0\" width=\"2600\" height=\"1680\"/>\n",
              "  </clipPath>\n",
              "</defs>\n",
              "<polygon clip-path=\"url(#clip2601)\" points=\"\n",
              "0,1680 2600,1680 2600,0 0,0 \n",
              "  \" fill=\"#ffffff\" fill-rule=\"evenodd\" fill-opacity=\"1\"/>\n",
              "<defs>\n",
              "  <clipPath id=\"clip2602\">\n",
              "    <rect x=\"520\" y=\"0\" width=\"1821\" height=\"1680\"/>\n",
              "  </clipPath>\n",
              "</defs>\n",
              "<polygon clip-path=\"url(#clip2601)\" points=\"\n",
              "237.767,1521.51 2521.26,1521.51 2521.26,125.984 237.767,125.984 \n",
              "  \" fill=\"#ffffff\" fill-rule=\"evenodd\" fill-opacity=\"1\"/>\n",
              "<defs>\n",
              "  <clipPath id=\"clip2603\">\n",
              "    <rect x=\"237\" y=\"125\" width=\"2284\" height=\"1397\"/>\n",
              "  </clipPath>\n",
              "</defs>\n",
              "<polyline clip-path=\"url(#clip2601)\" style=\"stroke:#000000; stroke-width:4; stroke-opacity:1; fill:none\" points=\"\n",
              "  237.767,1521.51 2521.26,1521.51 \n",
              "  \"/>\n",
              "<polyline clip-path=\"url(#clip2601)\" style=\"stroke:#000000; stroke-width:4; stroke-opacity:1; fill:none\" points=\"\n",
              "  237.767,1521.51 237.767,125.984 \n",
              "  \"/>\n",
              "<polyline clip-path=\"url(#clip2601)\" style=\"stroke:#000000; stroke-width:4; stroke-opacity:1; fill:none\" points=\"\n",
              "  617.914,1521.51 617.914,1500.58 \n",
              "  \"/>\n",
              "<polyline clip-path=\"url(#clip2601)\" style=\"stroke:#000000; stroke-width:4; stroke-opacity:1; fill:none\" points=\"\n",
              "  1053.11,1521.51 1053.11,1500.58 \n",
              "  \"/>\n",
              "<polyline clip-path=\"url(#clip2601)\" style=\"stroke:#000000; stroke-width:4; stroke-opacity:1; fill:none\" points=\"\n",
              "  1488.31,1521.51 1488.31,1500.58 \n",
              "  \"/>\n",
              "<polyline clip-path=\"url(#clip2601)\" style=\"stroke:#000000; stroke-width:4; stroke-opacity:1; fill:none\" points=\"\n",
              "  1923.51,1521.51 1923.51,1500.58 \n",
              "  \"/>\n",
              "<polyline clip-path=\"url(#clip2601)\" style=\"stroke:#000000; stroke-width:4; stroke-opacity:1; fill:none\" points=\"\n",
              "  2358.71,1521.51 2358.71,1500.58 \n",
              "  \"/>\n",
              "<polyline clip-path=\"url(#clip2601)\" style=\"stroke:#000000; stroke-width:4; stroke-opacity:1; fill:none\" points=\"\n",
              "  237.767,1482.02 272.02,1482.02 \n",
              "  \"/>\n",
              "<polyline clip-path=\"url(#clip2601)\" style=\"stroke:#000000; stroke-width:4; stroke-opacity:1; fill:none\" points=\"\n",
              "  237.767,1252.88 272.02,1252.88 \n",
              "  \"/>\n",
              "<polyline clip-path=\"url(#clip2601)\" style=\"stroke:#000000; stroke-width:4; stroke-opacity:1; fill:none\" points=\"\n",
              "  237.767,1023.74 272.02,1023.74 \n",
              "  \"/>\n",
              "<polyline clip-path=\"url(#clip2601)\" style=\"stroke:#000000; stroke-width:4; stroke-opacity:1; fill:none\" points=\"\n",
              "  237.767,794.594 272.02,794.594 \n",
              "  \"/>\n",
              "<polyline clip-path=\"url(#clip2601)\" style=\"stroke:#000000; stroke-width:4; stroke-opacity:1; fill:none\" points=\"\n",
              "  237.767,565.453 272.02,565.453 \n",
              "  \"/>\n",
              "<polyline clip-path=\"url(#clip2601)\" style=\"stroke:#000000; stroke-width:4; stroke-opacity:1; fill:none\" points=\"\n",
              "  237.767,336.311 272.02,336.311 \n",
              "  \"/>\n",
              "<g clip-path=\"url(#clip2601)\">\n",
              "<text style=\"fill:#000000; fill-opacity:1; font-family:Arial,Helvetica Neue,Helvetica,sans-serif; font-size:48px; text-anchor:middle;\" transform=\"rotate(0, 617.914, 1576.51)\" x=\"617.914\" y=\"1576.51\">0</text>\n",
              "</g>\n",
              "<g clip-path=\"url(#clip2601)\">\n",
              "<text style=\"fill:#000000; fill-opacity:1; font-family:Arial,Helvetica Neue,Helvetica,sans-serif; font-size:48px; text-anchor:middle;\" transform=\"rotate(0, 1053.11, 1576.51)\" x=\"1053.11\" y=\"1576.51\">200</text>\n",
              "</g>\n",
              "<g clip-path=\"url(#clip2601)\">\n",
              "<text style=\"fill:#000000; fill-opacity:1; font-family:Arial,Helvetica Neue,Helvetica,sans-serif; font-size:48px; text-anchor:middle;\" transform=\"rotate(0, 1488.31, 1576.51)\" x=\"1488.31\" y=\"1576.51\">400</text>\n",
              "</g>\n",
              "<g clip-path=\"url(#clip2601)\">\n",
              "<text style=\"fill:#000000; fill-opacity:1; font-family:Arial,Helvetica Neue,Helvetica,sans-serif; font-size:48px; text-anchor:middle;\" transform=\"rotate(0, 1923.51, 1576.51)\" x=\"1923.51\" y=\"1576.51\">600</text>\n",
              "</g>\n",
              "<g clip-path=\"url(#clip2601)\">\n",
              "<text style=\"fill:#000000; fill-opacity:1; font-family:Arial,Helvetica Neue,Helvetica,sans-serif; font-size:48px; text-anchor:middle;\" transform=\"rotate(0, 2358.71, 1576.51)\" x=\"2358.71\" y=\"1576.51\">800</text>\n",
              "</g>\n",
              "<g clip-path=\"url(#clip2601)\">\n",
              "<text style=\"fill:#000000; fill-opacity:1; font-family:Arial,Helvetica Neue,Helvetica,sans-serif; font-size:48px; text-anchor:end;\" transform=\"rotate(0, 211.767, 1499.52)\" x=\"211.767\" y=\"1499.52\">0</text>\n",
              "</g>\n",
              "<g clip-path=\"url(#clip2601)\">\n",
              "<text style=\"fill:#000000; fill-opacity:1; font-family:Arial,Helvetica Neue,Helvetica,sans-serif; font-size:48px; text-anchor:end;\" transform=\"rotate(0, 211.767, 1270.38)\" x=\"211.767\" y=\"1270.38\">50</text>\n",
              "</g>\n",
              "<g clip-path=\"url(#clip2601)\">\n",
              "<text style=\"fill:#000000; fill-opacity:1; font-family:Arial,Helvetica Neue,Helvetica,sans-serif; font-size:48px; text-anchor:end;\" transform=\"rotate(0, 211.767, 1041.24)\" x=\"211.767\" y=\"1041.24\">100</text>\n",
              "</g>\n",
              "<g clip-path=\"url(#clip2601)\">\n",
              "<text style=\"fill:#000000; fill-opacity:1; font-family:Arial,Helvetica Neue,Helvetica,sans-serif; font-size:48px; text-anchor:end;\" transform=\"rotate(0, 211.767, 812.094)\" x=\"211.767\" y=\"812.094\">150</text>\n",
              "</g>\n",
              "<g clip-path=\"url(#clip2601)\">\n",
              "<text style=\"fill:#000000; fill-opacity:1; font-family:Arial,Helvetica Neue,Helvetica,sans-serif; font-size:48px; text-anchor:end;\" transform=\"rotate(0, 211.767, 582.953)\" x=\"211.767\" y=\"582.953\">200</text>\n",
              "</g>\n",
              "<g clip-path=\"url(#clip2601)\">\n",
              "<text style=\"fill:#000000; fill-opacity:1; font-family:Arial,Helvetica Neue,Helvetica,sans-serif; font-size:48px; text-anchor:end;\" transform=\"rotate(0, 211.767, 353.811)\" x=\"211.767\" y=\"353.811\">250</text>\n",
              "</g>\n",
              "<g clip-path=\"url(#clip2601)\">\n",
              "<text style=\"fill:#000000; fill-opacity:1; font-family:Arial,Helvetica Neue,Helvetica,sans-serif; font-size:84px; text-anchor:middle;\" transform=\"rotate(0, 1379.51, 73.2)\" x=\"1379.51\" y=\"73.2\">Electrode19_Unit0</text>\n",
              "</g>\n",
              "<g clip-path=\"url(#clip2601)\">\n",
              "<text style=\"fill:#000000; fill-opacity:1; font-family:Arial,Helvetica Neue,Helvetica,sans-serif; font-size:66px; text-anchor:middle;\" transform=\"rotate(0, 1379.51, 1670.4)\" x=\"1379.51\" y=\"1670.4\">Time (ms)</text>\n",
              "</g>\n",
              "<g clip-path=\"url(#clip2601)\">\n",
              "<text style=\"fill:#000000; fill-opacity:1; font-family:Arial,Helvetica Neue,Helvetica,sans-serif; font-size:66px; text-anchor:middle;\" transform=\"rotate(-90, 57.6, 823.749)\" x=\"57.6\" y=\"823.749\">Response (spike/s)</text>\n",
              "</g>\n",
              "<polygon clip-path=\"url(#clip2603)\" points=\"\n",
              "302.394,1482.02 324.154,1482.02 345.914,1482.02 367.674,1482.02 389.434,1482.02 411.194,1482.02 432.954,1482.02 454.714,1482.02 476.474,1482.02 498.234,1482.02 \n",
              "  519.994,1482.02 541.754,1482.02 563.514,1482.02 585.274,1482.02 607.034,1482.02 628.794,1482.02 650.554,1482.02 672.314,1482.02 694.074,1482.02 715.834,1482.02 \n",
              "  737.594,1482.02 759.354,1482.02 781.114,1482.02 802.874,1482.02 824.634,1482.02 846.394,1482.02 868.154,1482.02 889.914,1482.02 911.674,1482.02 933.434,1482.02 \n",
              "  955.194,1482.02 976.954,1482.02 998.714,1482.02 1020.47,1482.02 1042.23,1482.02 1063.99,1482.02 1085.75,1482.02 1107.51,1482.02 1129.27,1482.02 1151.03,1482.02 \n",
              "  1172.79,1482.02 1194.55,1482.02 1216.31,1482.02 1238.07,1482.02 1259.83,1482.02 1281.59,1482.02 1303.35,1482.02 1325.11,1482.02 1346.87,1482.02 1368.63,1482.02 \n",
              "  1390.39,1482.02 1412.15,1482.02 1433.91,1482.02 1455.67,1482.02 1477.43,1482.02 1499.19,1482.02 1520.95,1482.02 1542.71,1482.02 1564.47,1482.02 1586.23,1482.02 \n",
              "  1607.99,1482.02 1629.75,1482.02 1651.51,1482.02 1673.27,1482.02 1695.03,1482.02 1716.79,1482.02 1738.55,1482.02 1760.31,1482.02 1782.07,1482.02 1803.83,1482.02 \n",
              "  1825.59,1482.02 1847.35,1482.02 1869.11,1482.02 1890.87,1482.02 1912.63,1482.02 1934.39,1482.02 1956.15,1482.02 1977.91,1482.02 1999.67,1482.02 2021.43,1482.02 \n",
              "  2043.19,1482.02 2064.95,1482.02 2086.71,1482.02 2108.47,1482.02 2130.23,1482.02 2151.99,1482.02 2173.75,1482.02 2195.51,1482.02 2217.27,1482.02 2239.03,1482.02 \n",
              "  2260.79,1482.02 2282.55,1482.02 2304.31,1482.02 2326.07,1482.02 2347.83,1482.02 2369.59,1482.02 2391.35,1482.02 2413.11,1482.02 2434.87,1482.02 2456.63,1482.02 \n",
              "  2456.63,1482.02 2434.87,1482.02 2413.11,1482.02 2391.35,1482.02 2369.59,1482.02 2347.83,1482.02 2326.07,1482.02 2304.31,1482.02 2282.55,1482.02 2260.79,1482.02 \n",
              "  2239.03,1482.02 2217.27,1482.02 2195.51,1482.02 2173.75,1482.02 2151.99,1482.02 2130.23,1482.02 2108.47,1482.02 2086.71,1482.02 2064.95,1482.02 2043.19,1482.02 \n",
              "  2021.43,1482.02 1999.67,1482.02 1977.91,1482.02 1956.15,1482.02 1934.39,1482.02 1912.63,1482.02 1890.87,1482.02 1869.11,1482.02 1847.35,1482.02 1825.59,1482.02 \n",
              "  1803.83,1482.02 1782.07,1482.02 1760.31,1482.02 1738.55,1482.02 1716.79,1482.02 1695.03,1482.02 1673.27,1482.02 1651.51,1482.02 1629.75,1482.02 1607.99,1482.02 \n",
              "  1586.23,1482.02 1564.47,1482.02 1542.71,1482.02 1520.95,1482.02 1499.19,1482.02 1477.43,1367.45 1455.67,1482.02 1433.91,1482.02 1412.15,1482.02 1390.39,1482.02 \n",
              "  1368.63,1482.02 1346.87,1482.02 1325.11,1482.02 1303.35,1482.02 1281.59,1482.02 1259.83,1482.02 1238.07,1482.02 1216.31,1367.45 1194.55,1482.02 1172.79,1482.02 \n",
              "  1151.03,1367.45 1129.27,1482.02 1107.51,1482.02 1085.75,1482.02 1063.99,1482.02 1042.23,1482.02 1020.47,1482.02 998.714,1482.02 976.954,1482.02 955.194,1482.02 \n",
              "  933.434,1482.02 911.674,1482.02 889.914,1482.02 868.154,1482.02 846.394,1482.02 824.634,1482.02 802.874,1482.02 781.114,1367.45 759.354,1482.02 737.594,1482.02 \n",
              "  715.834,1482.02 694.074,1482.02 672.314,1482.02 650.554,1482.02 628.794,1482.02 607.034,1482.02 585.274,1482.02 563.514,1482.02 541.754,1482.02 519.994,1482.02 \n",
              "  498.234,1482.02 476.474,1482.02 454.714,1482.02 432.954,1482.02 411.194,1482.02 389.434,1482.02 367.674,1482.02 345.914,1482.02 324.154,1482.02 302.394,1367.45 \n",
              "  \n",
              "  \" fill=\"#ff0000\" fill-rule=\"evenodd\" fill-opacity=\"0.2\"/>\n",
              "<polyline clip-path=\"url(#clip2603)\" style=\"stroke:#ff0000; stroke-width:4; stroke-opacity:0.8; fill:none\" points=\"\n",
              "  302.394,1424.73 324.154,1482.02 345.914,1482.02 367.674,1482.02 389.434,1482.02 411.194,1482.02 432.954,1482.02 454.714,1482.02 476.474,1482.02 498.234,1482.02 \n",
              "  519.994,1482.02 541.754,1482.02 563.514,1482.02 585.274,1482.02 607.034,1482.02 628.794,1482.02 650.554,1482.02 672.314,1482.02 694.074,1482.02 715.834,1482.02 \n",
              "  737.594,1482.02 759.354,1482.02 781.114,1424.73 802.874,1482.02 824.634,1482.02 846.394,1482.02 868.154,1482.02 889.914,1482.02 911.674,1482.02 933.434,1482.02 \n",
              "  955.194,1482.02 976.954,1482.02 998.714,1482.02 1020.47,1482.02 1042.23,1482.02 1063.99,1482.02 1085.75,1482.02 1107.51,1482.02 1129.27,1482.02 1151.03,1424.73 \n",
              "  1172.79,1482.02 1194.55,1482.02 1216.31,1424.73 1238.07,1482.02 1259.83,1482.02 1281.59,1482.02 1303.35,1482.02 1325.11,1482.02 1346.87,1482.02 1368.63,1482.02 \n",
              "  1390.39,1482.02 1412.15,1482.02 1433.91,1482.02 1455.67,1482.02 1477.43,1424.73 1499.19,1482.02 1520.95,1482.02 1542.71,1482.02 1564.47,1482.02 1586.23,1482.02 \n",
              "  1607.99,1482.02 1629.75,1482.02 1651.51,1482.02 1673.27,1482.02 1695.03,1482.02 1716.79,1482.02 1738.55,1482.02 1760.31,1482.02 1782.07,1482.02 1803.83,1482.02 \n",
              "  1825.59,1482.02 1847.35,1482.02 1869.11,1482.02 1890.87,1482.02 1912.63,1482.02 1934.39,1482.02 1956.15,1482.02 1977.91,1482.02 1999.67,1482.02 2021.43,1482.02 \n",
              "  2043.19,1482.02 2064.95,1482.02 2086.71,1482.02 2108.47,1482.02 2130.23,1482.02 2151.99,1482.02 2173.75,1482.02 2195.51,1482.02 2217.27,1482.02 2239.03,1482.02 \n",
              "  2260.79,1482.02 2282.55,1482.02 2304.31,1482.02 2326.07,1482.02 2347.83,1482.02 2369.59,1482.02 2391.35,1482.02 2413.11,1482.02 2434.87,1482.02 2456.63,1482.02 \n",
              "  \n",
              "  \"/>\n",
              "<polygon clip-path=\"url(#clip2603)\" points=\"\n",
              "302.394,1482.02 324.154,1482.02 345.914,1482.02 367.674,1482.02 389.434,1482.02 411.194,1482.02 432.954,1482.02 454.714,1482.02 476.474,1482.02 498.234,1482.02 \n",
              "  519.994,1482.02 541.754,1482.02 563.514,1482.02 585.274,1482.02 607.034,1482.02 628.794,1482.02 650.554,1482.02 672.314,1482.02 694.074,1482.02 715.834,1482.02 \n",
              "  737.594,1482.02 759.354,1482.02 781.114,1482.02 802.874,1482.02 824.634,1482.02 846.394,1482.02 868.154,1482.02 889.914,1482.02 911.674,1482.02 933.434,1482.02 \n",
              "  955.194,1482.02 976.954,1482.02 998.714,1482.02 1020.47,1482.02 1042.23,1482.02 1063.99,1482.02 1085.75,1482.02 1107.51,1482.02 1129.27,1482.02 1151.03,1482.02 \n",
              "  1172.79,1482.02 1194.55,1482.02 1216.31,1482.02 1238.07,1482.02 1259.83,1482.02 1281.59,1482.02 1303.35,1482.02 1325.11,1482.02 1346.87,1482.02 1368.63,1482.02 \n",
              "  1390.39,1482.02 1412.15,1482.02 1433.91,1482.02 1455.67,1482.02 1477.43,1482.02 1499.19,1482.02 1520.95,1482.02 1542.71,1482.02 1564.47,1482.02 1586.23,1482.02 \n",
              "  1607.99,1482.02 1629.75,1482.02 1651.51,1482.02 1673.27,1482.02 1695.03,1482.02 1716.79,1482.02 1738.55,1482.02 1760.31,1482.02 1782.07,1482.02 1803.83,1482.02 \n",
              "  1825.59,1482.02 1847.35,1482.02 1869.11,1482.02 1890.87,1482.02 1912.63,1482.02 1934.39,1482.02 1956.15,1482.02 1977.91,1482.02 1999.67,1482.02 2021.43,1482.02 \n",
              "  2043.19,1482.02 2064.95,1482.02 2086.71,1482.02 2108.47,1482.02 2130.23,1482.02 2151.99,1482.02 2173.75,1482.02 2195.51,1482.02 2217.27,1482.02 2239.03,1482.02 \n",
              "  2260.79,1482.02 2282.55,1482.02 2304.31,1482.02 2326.07,1482.02 2347.83,1482.02 2369.59,1482.02 2391.35,1482.02 2413.11,1482.02 2434.87,1482.02 2456.63,1482.02 \n",
              "  2456.63,1482.02 2434.87,1482.02 2413.11,1482.02 2391.35,1482.02 2369.59,1482.02 2347.83,1482.02 2326.07,1482.02 2304.31,1482.02 2282.55,1482.02 2260.79,1482.02 \n",
              "  2239.03,1367.45 2217.27,1482.02 2195.51,1482.02 2173.75,1482.02 2151.99,1482.02 2130.23,1482.02 2108.47,1482.02 2086.71,1482.02 2064.95,1482.02 2043.19,1482.02 \n",
              "  2021.43,1367.45 1999.67,1482.02 1977.91,1482.02 1956.15,1482.02 1934.39,1482.02 1912.63,1482.02 1890.87,1482.02 1869.11,1482.02 1847.35,1482.02 1825.59,1482.02 \n",
              "  1803.83,1482.02 1782.07,1482.02 1760.31,1482.02 1738.55,1482.02 1716.79,1482.02 1695.03,1482.02 1673.27,1482.02 1651.51,1482.02 1629.75,1482.02 1607.99,1482.02 \n",
              "  1586.23,1482.02 1564.47,1482.02 1542.71,1367.45 1520.95,1367.45 1499.19,1482.02 1477.43,1482.02 1455.67,1482.02 1433.91,1482.02 1412.15,1482.02 1390.39,1482.02 \n",
              "  1368.63,1482.02 1346.87,1482.02 1325.11,1482.02 1303.35,1482.02 1281.59,1367.45 1259.83,1482.02 1238.07,1482.02 1216.31,1482.02 1194.55,1367.45 1172.79,1367.45 \n",
              "  1151.03,1482.02 1129.27,1482.02 1107.51,1367.45 1085.75,1482.02 1063.99,1482.02 1042.23,1482.02 1020.47,1482.02 998.714,1482.02 976.954,1482.02 955.194,1482.02 \n",
              "  933.434,1482.02 911.674,1482.02 889.914,1367.45 868.154,1482.02 846.394,1482.02 824.634,1482.02 802.874,1482.02 781.114,1482.02 759.354,1482.02 737.594,1482.02 \n",
              "  715.834,1482.02 694.074,1367.45 672.314,1367.45 650.554,1482.02 628.794,1482.02 607.034,1482.02 585.274,1482.02 563.514,1482.02 541.754,1482.02 519.994,1482.02 \n",
              "  498.234,1482.02 476.474,1482.02 454.714,1482.02 432.954,1482.02 411.194,1482.02 389.434,1482.02 367.674,1482.02 345.914,1482.02 324.154,1482.02 302.394,1482.02 \n",
              "  \n",
              "  \" fill=\"#ff5f00\" fill-rule=\"evenodd\" fill-opacity=\"0.2\"/>\n",
              "<polyline clip-path=\"url(#clip2603)\" style=\"stroke:#ff5f00; stroke-width:4; stroke-opacity:0.8; fill:none\" points=\"\n",
              "  302.394,1482.02 324.154,1482.02 345.914,1482.02 367.674,1482.02 389.434,1482.02 411.194,1482.02 432.954,1482.02 454.714,1482.02 476.474,1482.02 498.234,1482.02 \n",
              "  519.994,1482.02 541.754,1482.02 563.514,1482.02 585.274,1482.02 607.034,1482.02 628.794,1482.02 650.554,1482.02 672.314,1424.73 694.074,1424.73 715.834,1482.02 \n",
              "  737.594,1482.02 759.354,1482.02 781.114,1482.02 802.874,1482.02 824.634,1482.02 846.394,1482.02 868.154,1482.02 889.914,1424.73 911.674,1482.02 933.434,1482.02 \n",
              "  955.194,1482.02 976.954,1482.02 998.714,1482.02 1020.47,1482.02 1042.23,1482.02 1063.99,1482.02 1085.75,1482.02 1107.51,1424.73 1129.27,1482.02 1151.03,1482.02 \n",
              "  1172.79,1424.73 1194.55,1424.73 1216.31,1482.02 1238.07,1482.02 1259.83,1482.02 1281.59,1424.73 1303.35,1482.02 1325.11,1482.02 1346.87,1482.02 1368.63,1482.02 \n",
              "  1390.39,1482.02 1412.15,1482.02 1433.91,1482.02 1455.67,1482.02 1477.43,1482.02 1499.19,1482.02 1520.95,1424.73 1542.71,1424.73 1564.47,1482.02 1586.23,1482.02 \n",
              "  1607.99,1482.02 1629.75,1482.02 1651.51,1482.02 1673.27,1482.02 1695.03,1482.02 1716.79,1482.02 1738.55,1482.02 1760.31,1482.02 1782.07,1482.02 1803.83,1482.02 \n",
              "  1825.59,1482.02 1847.35,1482.02 1869.11,1482.02 1890.87,1482.02 1912.63,1482.02 1934.39,1482.02 1956.15,1482.02 1977.91,1482.02 1999.67,1482.02 2021.43,1424.73 \n",
              "  2043.19,1482.02 2064.95,1482.02 2086.71,1482.02 2108.47,1482.02 2130.23,1482.02 2151.99,1482.02 2173.75,1482.02 2195.51,1482.02 2217.27,1482.02 2239.03,1424.73 \n",
              "  2260.79,1482.02 2282.55,1482.02 2304.31,1482.02 2326.07,1482.02 2347.83,1482.02 2369.59,1482.02 2391.35,1482.02 2413.11,1482.02 2434.87,1482.02 2456.63,1482.02 \n",
              "  \n",
              "  \"/>\n",
              "<polygon clip-path=\"url(#clip2603)\" points=\"\n",
              "302.394,1482.02 324.154,1482.02 345.914,1482.02 367.674,1482.02 389.434,1482.02 411.194,1482.02 432.954,1482.02 454.714,1482.02 476.474,1482.02 498.234,1482.02 \n",
              "  519.994,1482.02 541.754,1482.02 563.514,1482.02 585.274,1482.02 607.034,1482.02 628.794,1482.02 650.554,1482.02 672.314,1482.02 694.074,1482.02 715.834,1482.02 \n",
              "  737.594,1482.02 759.354,1482.02 781.114,1482.02 802.874,1482.02 824.634,1482.02 846.394,1482.02 868.154,1482.02 889.914,1482.02 911.674,1482.02 933.434,1482.02 \n",
              "  955.194,1482.02 976.954,1482.02 998.714,1482.02 1020.47,1482.02 1042.23,1482.02 1063.99,1482.02 1085.75,1482.02 1107.51,1482.02 1129.27,1482.02 1151.03,1482.02 \n",
              "  1172.79,1482.02 1194.55,1482.02 1216.31,1482.02 1238.07,1482.02 1259.83,1482.02 1281.59,1482.02 1303.35,1482.02 1325.11,1482.02 1346.87,1482.02 1368.63,1482.02 \n",
              "  1390.39,1482.02 1412.15,1482.02 1433.91,1482.02 1455.67,1482.02 1477.43,1482.02 1499.19,1482.02 1520.95,1482.02 1542.71,1482.02 1564.47,1482.02 1586.23,1482.02 \n",
              "  1607.99,1482.02 1629.75,1482.02 1651.51,1482.02 1673.27,1482.02 1695.03,1482.02 1716.79,1482.02 1738.55,1482.02 1760.31,1482.02 1782.07,1482.02 1803.83,1482.02 \n",
              "  1825.59,1482.02 1847.35,1482.02 1869.11,1482.02 1890.87,1482.02 1912.63,1482.02 1934.39,1482.02 1956.15,1482.02 1977.91,1482.02 1999.67,1482.02 2021.43,1482.02 \n",
              "  2043.19,1482.02 2064.95,1482.02 2086.71,1482.02 2108.47,1482.02 2130.23,1482.02 2151.99,1482.02 2173.75,1482.02 2195.51,1482.02 2217.27,1482.02 2239.03,1482.02 \n",
              "  2260.79,1482.02 2282.55,1482.02 2304.31,1482.02 2326.07,1482.02 2347.83,1482.02 2369.59,1482.02 2391.35,1482.02 2413.11,1482.02 2434.87,1482.02 2456.63,1482.02 \n",
              "  2456.63,1482.02 2434.87,1482.02 2413.11,1482.02 2391.35,1482.02 2369.59,1482.02 2347.83,1482.02 2326.07,1482.02 2304.31,1482.02 2282.55,1482.02 2260.79,1482.02 \n",
              "  2239.03,1482.02 2217.27,1482.02 2195.51,1482.02 2173.75,1482.02 2151.99,1482.02 2130.23,1482.02 2108.47,1482.02 2086.71,1482.02 2064.95,1482.02 2043.19,1482.02 \n",
              "  2021.43,1482.02 1999.67,1482.02 1977.91,1482.02 1956.15,1482.02 1934.39,1482.02 1912.63,1482.02 1890.87,1482.02 1869.11,1138.31 1847.35,1138.31 1825.59,909.165 \n",
              "  1803.83,1367.45 1782.07,1482.02 1760.31,1482.02 1738.55,1482.02 1716.79,1482.02 1695.03,1482.02 1673.27,1367.45 1651.51,1482.02 1629.75,1482.02 1607.99,1482.02 \n",
              "  1586.23,1482.02 1564.47,1482.02 1542.71,1367.45 1520.95,1367.45 1499.19,1482.02 1477.43,1482.02 1455.67,1482.02 1433.91,1482.02 1412.15,1482.02 1390.39,1482.02 \n",
              "  1368.63,1482.02 1346.87,1482.02 1325.11,1482.02 1303.35,1482.02 1281.59,1482.02 1259.83,1482.02 1238.07,1482.02 1216.31,1482.02 1194.55,1482.02 1172.79,1482.02 \n",
              "  1151.03,1482.02 1129.27,1482.02 1107.51,1482.02 1085.75,1482.02 1063.99,1482.02 1042.23,1482.02 1020.47,1482.02 998.714,1482.02 976.954,1482.02 955.194,1482.02 \n",
              "  933.434,1482.02 911.674,1482.02 889.914,1482.02 868.154,1482.02 846.394,1482.02 824.634,1482.02 802.874,1482.02 781.114,1482.02 759.354,1482.02 737.594,1482.02 \n",
              "  715.834,1482.02 694.074,1482.02 672.314,1482.02 650.554,1482.02 628.794,1482.02 607.034,1482.02 585.274,1482.02 563.514,1482.02 541.754,1482.02 519.994,1482.02 \n",
              "  498.234,1482.02 476.474,1482.02 454.714,1482.02 432.954,1482.02 411.194,1482.02 389.434,1482.02 367.674,1482.02 345.914,1482.02 324.154,1482.02 302.394,1482.02 \n",
              "  \n",
              "  \" fill=\"#ffbf00\" fill-rule=\"evenodd\" fill-opacity=\"0.2\"/>\n",
              "<polyline clip-path=\"url(#clip2603)\" style=\"stroke:#ffbf00; stroke-width:4; stroke-opacity:0.8; fill:none\" points=\"\n",
              "  302.394,1482.02 324.154,1482.02 345.914,1482.02 367.674,1482.02 389.434,1482.02 411.194,1482.02 432.954,1482.02 454.714,1482.02 476.474,1482.02 498.234,1482.02 \n",
              "  519.994,1482.02 541.754,1482.02 563.514,1482.02 585.274,1482.02 607.034,1482.02 628.794,1482.02 650.554,1482.02 672.314,1482.02 694.074,1482.02 715.834,1482.02 \n",
              "  737.594,1482.02 759.354,1482.02 781.114,1482.02 802.874,1482.02 824.634,1482.02 846.394,1482.02 868.154,1482.02 889.914,1482.02 911.674,1482.02 933.434,1482.02 \n",
              "  955.194,1482.02 976.954,1482.02 998.714,1482.02 1020.47,1482.02 1042.23,1482.02 1063.99,1482.02 1085.75,1482.02 1107.51,1482.02 1129.27,1482.02 1151.03,1482.02 \n",
              "  1172.79,1482.02 1194.55,1482.02 1216.31,1482.02 1238.07,1482.02 1259.83,1482.02 1281.59,1482.02 1303.35,1482.02 1325.11,1482.02 1346.87,1482.02 1368.63,1482.02 \n",
              "  1390.39,1482.02 1412.15,1482.02 1433.91,1482.02 1455.67,1482.02 1477.43,1482.02 1499.19,1482.02 1520.95,1424.73 1542.71,1424.73 1564.47,1482.02 1586.23,1482.02 \n",
              "  1607.99,1482.02 1629.75,1482.02 1651.51,1482.02 1673.27,1424.73 1695.03,1482.02 1716.79,1482.02 1738.55,1482.02 1760.31,1482.02 1782.07,1482.02 1803.83,1424.73 \n",
              "  1825.59,1195.59 1847.35,1310.16 1869.11,1310.16 1890.87,1482.02 1912.63,1482.02 1934.39,1482.02 1956.15,1482.02 1977.91,1482.02 1999.67,1482.02 2021.43,1482.02 \n",
              "  2043.19,1482.02 2064.95,1482.02 2086.71,1482.02 2108.47,1482.02 2130.23,1482.02 2151.99,1482.02 2173.75,1482.02 2195.51,1482.02 2217.27,1482.02 2239.03,1482.02 \n",
              "  2260.79,1482.02 2282.55,1482.02 2304.31,1482.02 2326.07,1482.02 2347.83,1482.02 2369.59,1482.02 2391.35,1482.02 2413.11,1482.02 2434.87,1482.02 2456.63,1482.02 \n",
              "  \n",
              "  \"/>\n",
              "<polygon clip-path=\"url(#clip2603)\" points=\"\n",
              "302.394,1482.02 324.154,1482.02 345.914,1482.02 367.674,1482.02 389.434,1482.02 411.194,1482.02 432.954,1482.02 454.714,1482.02 476.474,1482.02 498.234,1482.02 \n",
              "  519.994,1482.02 541.754,1482.02 563.514,1482.02 585.274,1482.02 607.034,1482.02 628.794,1482.02 650.554,1482.02 672.314,1482.02 694.074,1482.02 715.834,1482.02 \n",
              "  737.594,1482.02 759.354,1482.02 781.114,1482.02 802.874,1482.02 824.634,1482.02 846.394,1482.02 868.154,1482.02 889.914,1482.02 911.674,1482.02 933.434,1482.02 \n",
              "  955.194,1482.02 976.954,1482.02 998.714,1482.02 1020.47,1482.02 1042.23,1482.02 1063.99,1482.02 1085.75,1482.02 1107.51,1482.02 1129.27,1482.02 1151.03,1482.02 \n",
              "  1172.79,1482.02 1194.55,1482.02 1216.31,1482.02 1238.07,1482.02 1259.83,1482.02 1281.59,1482.02 1303.35,1482.02 1325.11,1482.02 1346.87,1482.02 1368.63,1482.02 \n",
              "  1390.39,1482.02 1412.15,1482.02 1433.91,1482.02 1455.67,1482.02 1477.43,1482.02 1499.19,1482.02 1520.95,1482.02 1542.71,1482.02 1564.47,1482.02 1586.23,1482.02 \n",
              "  1607.99,1482.02 1629.75,1482.02 1651.51,1482.02 1673.27,1482.02 1695.03,1482.02 1716.79,1482.02 1738.55,1482.02 1760.31,1482.02 1782.07,1482.02 1803.83,1482.02 \n",
              "  1825.59,1482.02 1847.35,1482.02 1869.11,1482.02 1890.87,1482.02 1912.63,1482.02 1934.39,1482.02 1956.15,1482.02 1977.91,1482.02 1999.67,1482.02 2021.43,1482.02 \n",
              "  2043.19,1482.02 2064.95,1482.02 2086.71,1482.02 2108.47,1482.02 2130.23,1482.02 2151.99,1482.02 2173.75,1482.02 2195.51,1482.02 2217.27,1482.02 2239.03,1482.02 \n",
              "  2260.79,1482.02 2282.55,1482.02 2304.31,1482.02 2326.07,1482.02 2347.83,1482.02 2369.59,1482.02 2391.35,1482.02 2413.11,1482.02 2434.87,1482.02 2456.63,1482.02 \n",
              "  2456.63,1482.02 2434.87,1482.02 2413.11,1482.02 2391.35,1482.02 2369.59,1482.02 2347.83,1482.02 2326.07,1482.02 2304.31,1482.02 2282.55,1482.02 2260.79,1482.02 \n",
              "  2239.03,1482.02 2217.27,1482.02 2195.51,1482.02 2173.75,1482.02 2151.99,1482.02 2130.23,1482.02 2108.47,1482.02 2086.71,1482.02 2064.95,1482.02 2043.19,1482.02 \n",
              "  2021.43,1482.02 1999.67,1482.02 1977.91,1482.02 1956.15,1482.02 1934.39,1482.02 1912.63,1482.02 1890.87,1482.02 1869.11,1482.02 1847.35,1482.02 1825.59,1482.02 \n",
              "  1803.83,1482.02 1782.07,1482.02 1760.31,1482.02 1738.55,1482.02 1716.79,1482.02 1695.03,1482.02 1673.27,1482.02 1651.51,1482.02 1629.75,1482.02 1607.99,1482.02 \n",
              "  1586.23,1482.02 1564.47,1482.02 1542.71,1482.02 1520.95,1482.02 1499.19,1482.02 1477.43,1482.02 1455.67,1482.02 1433.91,1482.02 1412.15,1482.02 1390.39,1482.02 \n",
              "  1368.63,1482.02 1346.87,1482.02 1325.11,1482.02 1303.35,1482.02 1281.59,1482.02 1259.83,1482.02 1238.07,1482.02 1216.31,1482.02 1194.55,1482.02 1172.79,1482.02 \n",
              "  1151.03,1482.02 1129.27,1482.02 1107.51,1482.02 1085.75,1482.02 1063.99,1482.02 1042.23,1482.02 1020.47,1482.02 998.714,1482.02 976.954,1482.02 955.194,1482.02 \n",
              "  933.434,1482.02 911.674,1482.02 889.914,1482.02 868.154,1482.02 846.394,1482.02 824.634,1482.02 802.874,1482.02 781.114,1482.02 759.354,1482.02 737.594,1252.88 \n",
              "  715.834,1138.31 694.074,1367.45 672.314,1367.45 650.554,1482.02 628.794,1482.02 607.034,1482.02 585.274,1482.02 563.514,1482.02 541.754,1482.02 519.994,1367.45 \n",
              "  498.234,1482.02 476.474,1482.02 454.714,1482.02 432.954,1482.02 411.194,1482.02 389.434,1482.02 367.674,1482.02 345.914,1482.02 324.154,1482.02 302.394,1482.02 \n",
              "  \n",
              "  \" fill=\"#dfff00\" fill-rule=\"evenodd\" fill-opacity=\"0.2\"/>\n",
              "<polyline clip-path=\"url(#clip2603)\" style=\"stroke:#dfff00; stroke-width:4; stroke-opacity:0.8; fill:none\" points=\"\n",
              "  302.394,1482.02 324.154,1482.02 345.914,1482.02 367.674,1482.02 389.434,1482.02 411.194,1482.02 432.954,1482.02 454.714,1482.02 476.474,1482.02 498.234,1482.02 \n",
              "  519.994,1424.73 541.754,1482.02 563.514,1482.02 585.274,1482.02 607.034,1482.02 628.794,1482.02 650.554,1482.02 672.314,1424.73 694.074,1424.73 715.834,1310.16 \n",
              "  737.594,1367.45 759.354,1482.02 781.114,1482.02 802.874,1482.02 824.634,1482.02 846.394,1482.02 868.154,1482.02 889.914,1482.02 911.674,1482.02 933.434,1482.02 \n",
              "  955.194,1482.02 976.954,1482.02 998.714,1482.02 1020.47,1482.02 1042.23,1482.02 1063.99,1482.02 1085.75,1482.02 1107.51,1482.02 1129.27,1482.02 1151.03,1482.02 \n",
              "  1172.79,1482.02 1194.55,1482.02 1216.31,1482.02 1238.07,1482.02 1259.83,1482.02 1281.59,1482.02 1303.35,1482.02 1325.11,1482.02 1346.87,1482.02 1368.63,1482.02 \n",
              "  1390.39,1482.02 1412.15,1482.02 1433.91,1482.02 1455.67,1482.02 1477.43,1482.02 1499.19,1482.02 1520.95,1482.02 1542.71,1482.02 1564.47,1482.02 1586.23,1482.02 \n",
              "  1607.99,1482.02 1629.75,1482.02 1651.51,1482.02 1673.27,1482.02 1695.03,1482.02 1716.79,1482.02 1738.55,1482.02 1760.31,1482.02 1782.07,1482.02 1803.83,1482.02 \n",
              "  1825.59,1482.02 1847.35,1482.02 1869.11,1482.02 1890.87,1482.02 1912.63,1482.02 1934.39,1482.02 1956.15,1482.02 1977.91,1482.02 1999.67,1482.02 2021.43,1482.02 \n",
              "  2043.19,1482.02 2064.95,1482.02 2086.71,1482.02 2108.47,1482.02 2130.23,1482.02 2151.99,1482.02 2173.75,1482.02 2195.51,1482.02 2217.27,1482.02 2239.03,1482.02 \n",
              "  2260.79,1482.02 2282.55,1482.02 2304.31,1482.02 2326.07,1482.02 2347.83,1482.02 2369.59,1482.02 2391.35,1482.02 2413.11,1482.02 2434.87,1482.02 2456.63,1482.02 \n",
              "  \n",
              "  \"/>\n",
              "<polygon clip-path=\"url(#clip2603)\" points=\"\n",
              "302.394,1482.02 324.154,1482.02 345.914,1482.02 367.674,1482.02 389.434,1482.02 411.194,1482.02 432.954,1482.02 454.714,1482.02 476.474,1482.02 498.234,1482.02 \n",
              "  519.994,1482.02 541.754,1482.02 563.514,1482.02 585.274,1482.02 607.034,1482.02 628.794,1482.02 650.554,1482.02 672.314,1482.02 694.074,1482.02 715.834,1482.02 \n",
              "  737.594,1482.02 759.354,1482.02 781.114,1482.02 802.874,1482.02 824.634,1482.02 846.394,1482.02 868.154,1482.02 889.914,1482.02 911.674,1482.02 933.434,1482.02 \n",
              "  955.194,1482.02 976.954,1482.02 998.714,1482.02 1020.47,1482.02 1042.23,1482.02 1063.99,1482.02 1085.75,1482.02 1107.51,1482.02 1129.27,1482.02 1151.03,1482.02 \n",
              "  1172.79,1482.02 1194.55,1482.02 1216.31,1482.02 1238.07,1482.02 1259.83,1482.02 1281.59,1482.02 1303.35,1482.02 1325.11,1482.02 1346.87,1482.02 1368.63,1482.02 \n",
              "  1390.39,1482.02 1412.15,1482.02 1433.91,1482.02 1455.67,1482.02 1477.43,1482.02 1499.19,1482.02 1520.95,1482.02 1542.71,1482.02 1564.47,1482.02 1586.23,1482.02 \n",
              "  1607.99,1482.02 1629.75,1482.02 1651.51,1482.02 1673.27,1482.02 1695.03,1482.02 1716.79,1482.02 1738.55,1482.02 1760.31,1482.02 1782.07,1482.02 1803.83,1482.02 \n",
              "  1825.59,1482.02 1847.35,1482.02 1869.11,1482.02 1890.87,1482.02 1912.63,1482.02 1934.39,1482.02 1956.15,1482.02 1977.91,1482.02 1999.67,1482.02 2021.43,1482.02 \n",
              "  2043.19,1482.02 2064.95,1482.02 2086.71,1482.02 2108.47,1482.02 2130.23,1482.02 2151.99,1482.02 2173.75,1482.02 2195.51,1482.02 2217.27,1482.02 2239.03,1482.02 \n",
              "  2260.79,1482.02 2282.55,1482.02 2304.31,1482.02 2326.07,1482.02 2347.83,1482.02 2369.59,1482.02 2391.35,1482.02 2413.11,1482.02 2434.87,1482.02 2456.63,1482.02 \n",
              "  2456.63,1482.02 2434.87,1482.02 2413.11,1482.02 2391.35,1482.02 2369.59,1482.02 2347.83,1482.02 2326.07,1482.02 2304.31,1482.02 2282.55,1482.02 2260.79,1482.02 \n",
              "  2239.03,1482.02 2217.27,1482.02 2195.51,1482.02 2173.75,1367.45 2151.99,1482.02 2130.23,1482.02 2108.47,1482.02 2086.71,1482.02 2064.95,1482.02 2043.19,1482.02 \n",
              "  2021.43,1482.02 1999.67,1482.02 1977.91,1482.02 1956.15,1482.02 1934.39,1482.02 1912.63,1482.02 1890.87,1482.02 1869.11,1482.02 1847.35,1367.45 1825.59,1482.02 \n",
              "  1803.83,1482.02 1782.07,1482.02 1760.31,1482.02 1738.55,1482.02 1716.79,1482.02 1695.03,1482.02 1673.27,1482.02 1651.51,1482.02 1629.75,1482.02 1607.99,1482.02 \n",
              "  1586.23,1482.02 1564.47,1482.02 1542.71,1482.02 1520.95,1482.02 1499.19,1482.02 1477.43,1482.02 1455.67,1482.02 1433.91,1482.02 1412.15,1482.02 1390.39,1482.02 \n",
              "  1368.63,1482.02 1346.87,1482.02 1325.11,1482.02 1303.35,1482.02 1281.59,1482.02 1259.83,1482.02 1238.07,1482.02 1216.31,1482.02 1194.55,1482.02 1172.79,1482.02 \n",
              "  1151.03,1482.02 1129.27,1482.02 1107.51,1482.02 1085.75,1482.02 1063.99,1367.45 1042.23,1367.45 1020.47,1482.02 998.714,1482.02 976.954,1482.02 955.194,1482.02 \n",
              "  933.434,1482.02 911.674,1482.02 889.914,1482.02 868.154,1482.02 846.394,1482.02 824.634,1482.02 802.874,1482.02 781.114,1482.02 759.354,1482.02 737.594,1482.02 \n",
              "  715.834,1482.02 694.074,1482.02 672.314,1482.02 650.554,1482.02 628.794,1482.02 607.034,1482.02 585.274,1482.02 563.514,1482.02 541.754,1482.02 519.994,1482.02 \n",
              "  498.234,1482.02 476.474,1482.02 454.714,1482.02 432.954,1482.02 411.194,1482.02 389.434,1482.02 367.674,1482.02 345.914,1482.02 324.154,1482.02 302.394,1482.02 \n",
              "  \n",
              "  \" fill=\"#7fff00\" fill-rule=\"evenodd\" fill-opacity=\"0.2\"/>\n",
              "<polyline clip-path=\"url(#clip2603)\" style=\"stroke:#7fff00; stroke-width:4; stroke-opacity:0.8; fill:none\" points=\"\n",
              "  302.394,1482.02 324.154,1482.02 345.914,1482.02 367.674,1482.02 389.434,1482.02 411.194,1482.02 432.954,1482.02 454.714,1482.02 476.474,1482.02 498.234,1482.02 \n",
              "  519.994,1482.02 541.754,1482.02 563.514,1482.02 585.274,1482.02 607.034,1482.02 628.794,1482.02 650.554,1482.02 672.314,1482.02 694.074,1482.02 715.834,1482.02 \n",
              "  737.594,1482.02 759.354,1482.02 781.114,1482.02 802.874,1482.02 824.634,1482.02 846.394,1482.02 868.154,1482.02 889.914,1482.02 911.674,1482.02 933.434,1482.02 \n",
              "  955.194,1482.02 976.954,1482.02 998.714,1482.02 1020.47,1482.02 1042.23,1424.73 1063.99,1424.73 1085.75,1482.02 1107.51,1482.02 1129.27,1482.02 1151.03,1482.02 \n",
              "  1172.79,1482.02 1194.55,1482.02 1216.31,1482.02 1238.07,1482.02 1259.83,1482.02 1281.59,1482.02 1303.35,1482.02 1325.11,1482.02 1346.87,1482.02 1368.63,1482.02 \n",
              "  1390.39,1482.02 1412.15,1482.02 1433.91,1482.02 1455.67,1482.02 1477.43,1482.02 1499.19,1482.02 1520.95,1482.02 1542.71,1482.02 1564.47,1482.02 1586.23,1482.02 \n",
              "  1607.99,1482.02 1629.75,1482.02 1651.51,1482.02 1673.27,1482.02 1695.03,1482.02 1716.79,1482.02 1738.55,1482.02 1760.31,1482.02 1782.07,1482.02 1803.83,1482.02 \n",
              "  1825.59,1482.02 1847.35,1424.73 1869.11,1482.02 1890.87,1482.02 1912.63,1482.02 1934.39,1482.02 1956.15,1482.02 1977.91,1482.02 1999.67,1482.02 2021.43,1482.02 \n",
              "  2043.19,1482.02 2064.95,1482.02 2086.71,1482.02 2108.47,1482.02 2130.23,1482.02 2151.99,1482.02 2173.75,1424.73 2195.51,1482.02 2217.27,1482.02 2239.03,1482.02 \n",
              "  2260.79,1482.02 2282.55,1482.02 2304.31,1482.02 2326.07,1482.02 2347.83,1482.02 2369.59,1482.02 2391.35,1482.02 2413.11,1482.02 2434.87,1482.02 2456.63,1482.02 \n",
              "  \n",
              "  \"/>\n",
              "<polygon clip-path=\"url(#clip2603)\" points=\"\n",
              "302.394,1482.02 324.154,1482.02 345.914,1482.02 367.674,1482.02 389.434,1482.02 411.194,1482.02 432.954,1482.02 454.714,1482.02 476.474,1482.02 498.234,1482.02 \n",
              "  519.994,1482.02 541.754,1482.02 563.514,1482.02 585.274,1482.02 607.034,1482.02 628.794,1482.02 650.554,1482.02 672.314,1482.02 694.074,1482.02 715.834,1482.02 \n",
              "  737.594,1482.02 759.354,1482.02 781.114,1482.02 802.874,1482.02 824.634,1482.02 846.394,1482.02 868.154,1482.02 889.914,1482.02 911.674,1482.02 933.434,1442.45 \n",
              "  955.194,1482.02 976.954,1482.02 998.714,1482.02 1020.47,1482.02 1042.23,1482.02 1063.99,1482.02 1085.75,1482.02 1107.51,1482.02 1129.27,1482.02 1151.03,1482.02 \n",
              "  1172.79,1482.02 1194.55,1482.02 1216.31,1482.02 1238.07,1482.02 1259.83,1482.02 1281.59,1482.02 1303.35,1482.02 1325.11,1482.02 1346.87,1482.02 1368.63,1482.02 \n",
              "  1390.39,1482.02 1412.15,1482.02 1433.91,1482.02 1455.67,1482.02 1477.43,1482.02 1499.19,1482.02 1520.95,1482.02 1542.71,1482.02 1564.47,1482.02 1586.23,1482.02 \n",
              "  1607.99,1482.02 1629.75,1482.02 1651.51,1482.02 1673.27,1482.02 1695.03,1482.02 1716.79,1482.02 1738.55,1482.02 1760.31,1482.02 1782.07,1482.02 1803.83,1482.02 \n",
              "  1825.59,1482.02 1847.35,1482.02 1869.11,1482.02 1890.87,1482.02 1912.63,1482.02 1934.39,1482.02 1956.15,1482.02 1977.91,1482.02 1999.67,1482.02 2021.43,1482.02 \n",
              "  2043.19,1482.02 2064.95,1482.02 2086.71,1482.02 2108.47,1482.02 2130.23,1482.02 2151.99,1482.02 2173.75,1482.02 2195.51,1482.02 2217.27,1482.02 2239.03,1482.02 \n",
              "  2260.79,1482.02 2282.55,1482.02 2304.31,1482.02 2326.07,1482.02 2347.83,1482.02 2369.59,1482.02 2391.35,1482.02 2413.11,1482.02 2434.87,1482.02 2456.63,1482.02 \n",
              "  2456.63,1482.02 2434.87,1482.02 2413.11,1482.02 2391.35,1482.02 2369.59,1482.02 2347.83,1482.02 2326.07,1482.02 2304.31,1482.02 2282.55,1482.02 2260.79,1482.02 \n",
              "  2239.03,1482.02 2217.27,1482.02 2195.51,1482.02 2173.75,1482.02 2151.99,1482.02 2130.23,1482.02 2108.47,1482.02 2086.71,1482.02 2064.95,1482.02 2043.19,1482.02 \n",
              "  2021.43,1482.02 1999.67,1482.02 1977.91,1482.02 1956.15,1482.02 1934.39,1482.02 1912.63,1482.02 1890.87,1482.02 1869.11,1482.02 1847.35,1482.02 1825.59,1367.45 \n",
              "  1803.83,1482.02 1782.07,1367.45 1760.31,1482.02 1738.55,1482.02 1716.79,1482.02 1695.03,1482.02 1673.27,1482.02 1651.51,1482.02 1629.75,1482.02 1607.99,1482.02 \n",
              "  1586.23,1482.02 1564.47,1482.02 1542.71,1482.02 1520.95,1482.02 1499.19,1482.02 1477.43,1482.02 1455.67,1482.02 1433.91,1482.02 1412.15,1482.02 1390.39,1482.02 \n",
              "  1368.63,1482.02 1346.87,1482.02 1325.11,1482.02 1303.35,1482.02 1281.59,1482.02 1259.83,1482.02 1238.07,1482.02 1216.31,1482.02 1194.55,1482.02 1172.79,1482.02 \n",
              "  1151.03,1367.45 1129.27,1482.02 1107.51,1482.02 1085.75,1367.45 1063.99,1482.02 1042.23,1482.02 1020.47,1252.88 998.714,1482.02 976.954,1252.88 955.194,1482.02 \n",
              "  933.434,1292.44 911.674,1482.02 889.914,1482.02 868.154,1482.02 846.394,1482.02 824.634,1482.02 802.874,1482.02 781.114,1482.02 759.354,1482.02 737.594,1482.02 \n",
              "  715.834,1482.02 694.074,1482.02 672.314,1482.02 650.554,1482.02 628.794,1482.02 607.034,1482.02 585.274,1482.02 563.514,1482.02 541.754,1482.02 519.994,1482.02 \n",
              "  498.234,1482.02 476.474,1482.02 454.714,1482.02 432.954,1482.02 411.194,1482.02 389.434,1482.02 367.674,1482.02 345.914,1482.02 324.154,1482.02 302.394,1482.02 \n",
              "  \n",
              "  \" fill=\"#1fff00\" fill-rule=\"evenodd\" fill-opacity=\"0.2\"/>\n",
              "<polyline clip-path=\"url(#clip2603)\" style=\"stroke:#1fff00; stroke-width:4; stroke-opacity:0.8; fill:none\" points=\"\n",
              "  302.394,1482.02 324.154,1482.02 345.914,1482.02 367.674,1482.02 389.434,1482.02 411.194,1482.02 432.954,1482.02 454.714,1482.02 476.474,1482.02 498.234,1482.02 \n",
              "  519.994,1482.02 541.754,1482.02 563.514,1482.02 585.274,1482.02 607.034,1482.02 628.794,1482.02 650.554,1482.02 672.314,1482.02 694.074,1482.02 715.834,1482.02 \n",
              "  737.594,1482.02 759.354,1482.02 781.114,1482.02 802.874,1482.02 824.634,1482.02 846.394,1482.02 868.154,1482.02 889.914,1482.02 911.674,1482.02 933.434,1367.45 \n",
              "  955.194,1482.02 976.954,1367.45 998.714,1482.02 1020.47,1367.45 1042.23,1482.02 1063.99,1482.02 1085.75,1424.73 1107.51,1482.02 1129.27,1482.02 1151.03,1424.73 \n",
              "  1172.79,1482.02 1194.55,1482.02 1216.31,1482.02 1238.07,1482.02 1259.83,1482.02 1281.59,1482.02 1303.35,1482.02 1325.11,1482.02 1346.87,1482.02 1368.63,1482.02 \n",
              "  1390.39,1482.02 1412.15,1482.02 1433.91,1482.02 1455.67,1482.02 1477.43,1482.02 1499.19,1482.02 1520.95,1482.02 1542.71,1482.02 1564.47,1482.02 1586.23,1482.02 \n",
              "  1607.99,1482.02 1629.75,1482.02 1651.51,1482.02 1673.27,1482.02 1695.03,1482.02 1716.79,1482.02 1738.55,1482.02 1760.31,1482.02 1782.07,1424.73 1803.83,1482.02 \n",
              "  1825.59,1424.73 1847.35,1482.02 1869.11,1482.02 1890.87,1482.02 1912.63,1482.02 1934.39,1482.02 1956.15,1482.02 1977.91,1482.02 1999.67,1482.02 2021.43,1482.02 \n",
              "  2043.19,1482.02 2064.95,1482.02 2086.71,1482.02 2108.47,1482.02 2130.23,1482.02 2151.99,1482.02 2173.75,1482.02 2195.51,1482.02 2217.27,1482.02 2239.03,1482.02 \n",
              "  2260.79,1482.02 2282.55,1482.02 2304.31,1482.02 2326.07,1482.02 2347.83,1482.02 2369.59,1482.02 2391.35,1482.02 2413.11,1482.02 2434.87,1482.02 2456.63,1482.02 \n",
              "  \n",
              "  \"/>\n",
              "<polygon clip-path=\"url(#clip2603)\" points=\"\n",
              "302.394,1482.02 324.154,1482.02 345.914,1482.02 367.674,1482.02 389.434,1482.02 411.194,1482.02 432.954,1482.02 454.714,1482.02 476.474,1482.02 498.234,1482.02 \n",
              "  519.994,1482.02 541.754,1482.02 563.514,1482.02 585.274,1482.02 607.034,1482.02 628.794,1482.02 650.554,1482.02 672.314,1482.02 694.074,1482.02 715.834,1482.02 \n",
              "  737.594,1482.02 759.354,1482.02 781.114,1482.02 802.874,1482.02 824.634,1482.02 846.394,1482.02 868.154,1482.02 889.914,1482.02 911.674,1482.02 933.434,1482.02 \n",
              "  955.194,1482.02 976.954,1482.02 998.714,1482.02 1020.47,1482.02 1042.23,1482.02 1063.99,1482.02 1085.75,1482.02 1107.51,1482.02 1129.27,1482.02 1151.03,1482.02 \n",
              "  1172.79,1482.02 1194.55,1482.02 1216.31,1482.02 1238.07,1482.02 1259.83,1482.02 1281.59,1482.02 1303.35,1482.02 1325.11,1482.02 1346.87,1482.02 1368.63,1482.02 \n",
              "  1390.39,1482.02 1412.15,1482.02 1433.91,1482.02 1455.67,1482.02 1477.43,1482.02 1499.19,1482.02 1520.95,1482.02 1542.71,1482.02 1564.47,1482.02 1586.23,1482.02 \n",
              "  1607.99,1482.02 1629.75,1482.02 1651.51,1482.02 1673.27,1482.02 1695.03,1482.02 1716.79,1482.02 1738.55,1482.02 1760.31,1482.02 1782.07,1482.02 1803.83,1482.02 \n",
              "  1825.59,1482.02 1847.35,1482.02 1869.11,1482.02 1890.87,1482.02 1912.63,1482.02 1934.39,1482.02 1956.15,1482.02 1977.91,1482.02 1999.67,1482.02 2021.43,1482.02 \n",
              "  2043.19,1482.02 2064.95,1482.02 2086.71,1482.02 2108.47,1482.02 2130.23,1482.02 2151.99,1482.02 2173.75,1482.02 2195.51,1482.02 2217.27,1482.02 2239.03,1482.02 \n",
              "  2260.79,1482.02 2282.55,1482.02 2304.31,1482.02 2326.07,1482.02 2347.83,1482.02 2369.59,1482.02 2391.35,1482.02 2413.11,1482.02 2434.87,1482.02 2456.63,1482.02 \n",
              "  2456.63,1482.02 2434.87,1482.02 2413.11,1482.02 2391.35,1482.02 2369.59,1482.02 2347.83,1482.02 2326.07,1482.02 2304.31,1482.02 2282.55,1367.45 2260.79,1482.02 \n",
              "  2239.03,1482.02 2217.27,1482.02 2195.51,1482.02 2173.75,1482.02 2151.99,1367.45 2130.23,1482.02 2108.47,1482.02 2086.71,1482.02 2064.95,1482.02 2043.19,1482.02 \n",
              "  2021.43,1482.02 1999.67,1482.02 1977.91,1482.02 1956.15,1482.02 1934.39,1482.02 1912.63,1482.02 1890.87,1482.02 1869.11,1482.02 1847.35,1482.02 1825.59,1482.02 \n",
              "  1803.83,1482.02 1782.07,1482.02 1760.31,1482.02 1738.55,1482.02 1716.79,1482.02 1695.03,1482.02 1673.27,1482.02 1651.51,1482.02 1629.75,1482.02 1607.99,1482.02 \n",
              "  1586.23,1482.02 1564.47,1482.02 1542.71,1482.02 1520.95,1482.02 1499.19,1482.02 1477.43,1482.02 1455.67,1367.45 1433.91,1482.02 1412.15,1482.02 1390.39,1482.02 \n",
              "  1368.63,1482.02 1346.87,1482.02 1325.11,1482.02 1303.35,1482.02 1281.59,1482.02 1259.83,1482.02 1238.07,1482.02 1216.31,1482.02 1194.55,1482.02 1172.79,1482.02 \n",
              "  1151.03,1482.02 1129.27,1367.45 1107.51,1482.02 1085.75,1482.02 1063.99,1482.02 1042.23,1482.02 1020.47,1367.45 998.714,1482.02 976.954,1482.02 955.194,1482.02 \n",
              "  933.434,1482.02 911.674,1482.02 889.914,1482.02 868.154,1482.02 846.394,1482.02 824.634,1482.02 802.874,1482.02 781.114,1482.02 759.354,1482.02 737.594,1482.02 \n",
              "  715.834,1482.02 694.074,1482.02 672.314,1482.02 650.554,1482.02 628.794,1482.02 607.034,1482.02 585.274,1482.02 563.514,1482.02 541.754,1482.02 519.994,1482.02 \n",
              "  498.234,1482.02 476.474,1482.02 454.714,1482.02 432.954,1482.02 411.194,1482.02 389.434,1482.02 367.674,1482.02 345.914,1482.02 324.154,1482.02 302.394,1482.02 \n",
              "  \n",
              "  \" fill=\"#00ff3f\" fill-rule=\"evenodd\" fill-opacity=\"0.2\"/>\n",
              "<polyline clip-path=\"url(#clip2603)\" style=\"stroke:#00ff3f; stroke-width:4; stroke-opacity:0.8; fill:none\" points=\"\n",
              "  302.394,1482.02 324.154,1482.02 345.914,1482.02 367.674,1482.02 389.434,1482.02 411.194,1482.02 432.954,1482.02 454.714,1482.02 476.474,1482.02 498.234,1482.02 \n",
              "  519.994,1482.02 541.754,1482.02 563.514,1482.02 585.274,1482.02 607.034,1482.02 628.794,1482.02 650.554,1482.02 672.314,1482.02 694.074,1482.02 715.834,1482.02 \n",
              "  737.594,1482.02 759.354,1482.02 781.114,1482.02 802.874,1482.02 824.634,1482.02 846.394,1482.02 868.154,1482.02 889.914,1482.02 911.674,1482.02 933.434,1482.02 \n",
              "  955.194,1482.02 976.954,1482.02 998.714,1482.02 1020.47,1424.73 1042.23,1482.02 1063.99,1482.02 1085.75,1482.02 1107.51,1482.02 1129.27,1424.73 1151.03,1482.02 \n",
              "  1172.79,1482.02 1194.55,1482.02 1216.31,1482.02 1238.07,1482.02 1259.83,1482.02 1281.59,1482.02 1303.35,1482.02 1325.11,1482.02 1346.87,1482.02 1368.63,1482.02 \n",
              "  1390.39,1482.02 1412.15,1482.02 1433.91,1482.02 1455.67,1424.73 1477.43,1482.02 1499.19,1482.02 1520.95,1482.02 1542.71,1482.02 1564.47,1482.02 1586.23,1482.02 \n",
              "  1607.99,1482.02 1629.75,1482.02 1651.51,1482.02 1673.27,1482.02 1695.03,1482.02 1716.79,1482.02 1738.55,1482.02 1760.31,1482.02 1782.07,1482.02 1803.83,1482.02 \n",
              "  1825.59,1482.02 1847.35,1482.02 1869.11,1482.02 1890.87,1482.02 1912.63,1482.02 1934.39,1482.02 1956.15,1482.02 1977.91,1482.02 1999.67,1482.02 2021.43,1482.02 \n",
              "  2043.19,1482.02 2064.95,1482.02 2086.71,1482.02 2108.47,1482.02 2130.23,1482.02 2151.99,1424.73 2173.75,1482.02 2195.51,1482.02 2217.27,1482.02 2239.03,1482.02 \n",
              "  2260.79,1482.02 2282.55,1424.73 2304.31,1482.02 2326.07,1482.02 2347.83,1482.02 2369.59,1482.02 2391.35,1482.02 2413.11,1482.02 2434.87,1482.02 2456.63,1482.02 \n",
              "  \n",
              "  \"/>\n",
              "<polygon clip-path=\"url(#clip2603)\" points=\"\n",
              "302.394,1482.02 324.154,1482.02 345.914,1482.02 367.674,1482.02 389.434,1482.02 411.194,1482.02 432.954,1482.02 454.714,1482.02 476.474,1482.02 498.234,1482.02 \n",
              "  519.994,1482.02 541.754,1482.02 563.514,1482.02 585.274,1482.02 607.034,1482.02 628.794,1482.02 650.554,1482.02 672.314,1482.02 694.074,1482.02 715.834,1482.02 \n",
              "  737.594,1482.02 759.354,1482.02 781.114,1482.02 802.874,1482.02 824.634,1482.02 846.394,1482.02 868.154,1482.02 889.914,1482.02 911.674,1482.02 933.434,1482.02 \n",
              "  955.194,1482.02 976.954,1482.02 998.714,1482.02 1020.47,1482.02 1042.23,1482.02 1063.99,1482.02 1085.75,1482.02 1107.51,1482.02 1129.27,1482.02 1151.03,1482.02 \n",
              "  1172.79,1482.02 1194.55,1482.02 1216.31,1482.02 1238.07,1482.02 1259.83,1482.02 1281.59,1482.02 1303.35,1482.02 1325.11,1482.02 1346.87,1482.02 1368.63,1482.02 \n",
              "  1390.39,1482.02 1412.15,1482.02 1433.91,1482.02 1455.67,1482.02 1477.43,1482.02 1499.19,1482.02 1520.95,1482.02 1542.71,1482.02 1564.47,1482.02 1586.23,1482.02 \n",
              "  1607.99,1482.02 1629.75,1482.02 1651.51,1482.02 1673.27,1482.02 1695.03,1482.02 1716.79,1482.02 1738.55,1482.02 1760.31,1482.02 1782.07,1482.02 1803.83,1482.02 \n",
              "  1825.59,1482.02 1847.35,1482.02 1869.11,1482.02 1890.87,1482.02 1912.63,1482.02 1934.39,1482.02 1956.15,1482.02 1977.91,1482.02 1999.67,1482.02 2021.43,1482.02 \n",
              "  2043.19,1482.02 2064.95,1482.02 2086.71,1482.02 2108.47,1482.02 2130.23,1482.02 2151.99,1482.02 2173.75,1482.02 2195.51,1482.02 2217.27,1482.02 2239.03,1482.02 \n",
              "  2260.79,1482.02 2282.55,1482.02 2304.31,1482.02 2326.07,1482.02 2347.83,1482.02 2369.59,1482.02 2391.35,1482.02 2413.11,1482.02 2434.87,1482.02 2456.63,1482.02 \n",
              "  2456.63,1482.02 2434.87,1482.02 2413.11,1482.02 2391.35,1482.02 2369.59,1482.02 2347.83,1482.02 2326.07,1482.02 2304.31,1367.45 2282.55,1482.02 2260.79,1482.02 \n",
              "  2239.03,1482.02 2217.27,1482.02 2195.51,1482.02 2173.75,1482.02 2151.99,1482.02 2130.23,1482.02 2108.47,1482.02 2086.71,1482.02 2064.95,1482.02 2043.19,1482.02 \n",
              "  2021.43,1482.02 1999.67,1482.02 1977.91,1482.02 1956.15,1482.02 1934.39,1482.02 1912.63,1482.02 1890.87,1482.02 1869.11,1482.02 1847.35,1482.02 1825.59,1482.02 \n",
              "  1803.83,1482.02 1782.07,1482.02 1760.31,1482.02 1738.55,1482.02 1716.79,1482.02 1695.03,1482.02 1673.27,1482.02 1651.51,1482.02 1629.75,1482.02 1607.99,1482.02 \n",
              "  1586.23,1482.02 1564.47,1482.02 1542.71,1482.02 1520.95,1482.02 1499.19,1482.02 1477.43,1482.02 1455.67,1482.02 1433.91,1367.45 1412.15,1482.02 1390.39,1482.02 \n",
              "  1368.63,1482.02 1346.87,1482.02 1325.11,1482.02 1303.35,1482.02 1281.59,1482.02 1259.83,1482.02 1238.07,1367.45 1216.31,1482.02 1194.55,1482.02 1172.79,1482.02 \n",
              "  1151.03,1482.02 1129.27,1482.02 1107.51,1482.02 1085.75,1482.02 1063.99,1482.02 1042.23,1482.02 1020.47,1482.02 998.714,1367.45 976.954,1367.45 955.194,1482.02 \n",
              "  933.434,1482.02 911.674,1482.02 889.914,1482.02 868.154,1482.02 846.394,1482.02 824.634,1482.02 802.874,1482.02 781.114,1482.02 759.354,1482.02 737.594,1482.02 \n",
              "  715.834,1482.02 694.074,1482.02 672.314,1482.02 650.554,1482.02 628.794,1482.02 607.034,1482.02 585.274,1482.02 563.514,1482.02 541.754,1482.02 519.994,1482.02 \n",
              "  498.234,1482.02 476.474,1482.02 454.714,1482.02 432.954,1482.02 411.194,1482.02 389.434,1482.02 367.674,1482.02 345.914,1482.02 324.154,1482.02 302.394,1482.02 \n",
              "  \n",
              "  \" fill=\"#00ff9f\" fill-rule=\"evenodd\" fill-opacity=\"0.2\"/>\n",
              "<polyline clip-path=\"url(#clip2603)\" style=\"stroke:#00ff9f; stroke-width:4; stroke-opacity:0.8; fill:none\" points=\"\n",
              "  302.394,1482.02 324.154,1482.02 345.914,1482.02 367.674,1482.02 389.434,1482.02 411.194,1482.02 432.954,1482.02 454.714,1482.02 476.474,1482.02 498.234,1482.02 \n",
              "  519.994,1482.02 541.754,1482.02 563.514,1482.02 585.274,1482.02 607.034,1482.02 628.794,1482.02 650.554,1482.02 672.314,1482.02 694.074,1482.02 715.834,1482.02 \n",
              "  737.594,1482.02 759.354,1482.02 781.114,1482.02 802.874,1482.02 824.634,1482.02 846.394,1482.02 868.154,1482.02 889.914,1482.02 911.674,1482.02 933.434,1482.02 \n",
              "  955.194,1482.02 976.954,1424.73 998.714,1424.73 1020.47,1482.02 1042.23,1482.02 1063.99,1482.02 1085.75,1482.02 1107.51,1482.02 1129.27,1482.02 1151.03,1482.02 \n",
              "  1172.79,1482.02 1194.55,1482.02 1216.31,1482.02 1238.07,1424.73 1259.83,1482.02 1281.59,1482.02 1303.35,1482.02 1325.11,1482.02 1346.87,1482.02 1368.63,1482.02 \n",
              "  1390.39,1482.02 1412.15,1482.02 1433.91,1424.73 1455.67,1482.02 1477.43,1482.02 1499.19,1482.02 1520.95,1482.02 1542.71,1482.02 1564.47,1482.02 1586.23,1482.02 \n",
              "  1607.99,1482.02 1629.75,1482.02 1651.51,1482.02 1673.27,1482.02 1695.03,1482.02 1716.79,1482.02 1738.55,1482.02 1760.31,1482.02 1782.07,1482.02 1803.83,1482.02 \n",
              "  1825.59,1482.02 1847.35,1482.02 1869.11,1482.02 1890.87,1482.02 1912.63,1482.02 1934.39,1482.02 1956.15,1482.02 1977.91,1482.02 1999.67,1482.02 2021.43,1482.02 \n",
              "  2043.19,1482.02 2064.95,1482.02 2086.71,1482.02 2108.47,1482.02 2130.23,1482.02 2151.99,1482.02 2173.75,1482.02 2195.51,1482.02 2217.27,1482.02 2239.03,1482.02 \n",
              "  2260.79,1482.02 2282.55,1482.02 2304.31,1424.73 2326.07,1482.02 2347.83,1482.02 2369.59,1482.02 2391.35,1482.02 2413.11,1482.02 2434.87,1482.02 2456.63,1482.02 \n",
              "  \n",
              "  \"/>\n",
              "<polygon clip-path=\"url(#clip2603)\" points=\"\n",
              "302.394,1482.02 324.154,1482.02 345.914,1482.02 367.674,1482.02 389.434,1482.02 411.194,1482.02 432.954,1482.02 454.714,1482.02 476.474,1482.02 498.234,1482.02 \n",
              "  519.994,1482.02 541.754,1482.02 563.514,1482.02 585.274,1482.02 607.034,1482.02 628.794,1482.02 650.554,1482.02 672.314,1482.02 694.074,1482.02 715.834,1482.02 \n",
              "  737.594,1482.02 759.354,1482.02 781.114,1482.02 802.874,1482.02 824.634,1482.02 846.394,1482.02 868.154,1482.02 889.914,1482.02 911.674,1482.02 933.434,1482.02 \n",
              "  955.194,1394.02 976.954,1482.02 998.714,1482.02 1020.47,1482.02 1042.23,1482.02 1063.99,1482.02 1085.75,1482.02 1107.51,1482.02 1129.27,1482.02 1151.03,1482.02 \n",
              "  1172.79,1482.02 1194.55,1482.02 1216.31,1482.02 1238.07,1482.02 1259.83,1482.02 1281.59,1482.02 1303.35,1482.02 1325.11,1482.02 1346.87,1442.45 1368.63,1442.45 \n",
              "  1390.39,1482.02 1412.15,1482.02 1433.91,1482.02 1455.67,1482.02 1477.43,1482.02 1499.19,1482.02 1520.95,1482.02 1542.71,1482.02 1564.47,1482.02 1586.23,1482.02 \n",
              "  1607.99,1482.02 1629.75,1482.02 1651.51,1482.02 1673.27,1482.02 1695.03,1482.02 1716.79,1482.02 1738.55,1482.02 1760.31,1482.02 1782.07,1482.02 1803.83,1482.02 \n",
              "  1825.59,1482.02 1847.35,1482.02 1869.11,1482.02 1890.87,1482.02 1912.63,1482.02 1934.39,1482.02 1956.15,1482.02 1977.91,1482.02 1999.67,1482.02 2021.43,1482.02 \n",
              "  2043.19,1482.02 2064.95,1482.02 2086.71,1482.02 2108.47,1482.02 2130.23,1482.02 2151.99,1482.02 2173.75,1482.02 2195.51,1482.02 2217.27,1482.02 2239.03,1482.02 \n",
              "  2260.79,1482.02 2282.55,1482.02 2304.31,1482.02 2326.07,1482.02 2347.83,1482.02 2369.59,1482.02 2391.35,1482.02 2413.11,1482.02 2434.87,1482.02 2456.63,1482.02 \n",
              "  2456.63,1482.02 2434.87,1482.02 2413.11,1367.45 2391.35,1482.02 2369.59,1482.02 2347.83,1482.02 2326.07,1482.02 2304.31,1482.02 2282.55,1482.02 2260.79,1482.02 \n",
              "  2239.03,1482.02 2217.27,1482.02 2195.51,1482.02 2173.75,1482.02 2151.99,1482.02 2130.23,1482.02 2108.47,1482.02 2086.71,1482.02 2064.95,1482.02 2043.19,1482.02 \n",
              "  2021.43,1482.02 1999.67,1482.02 1977.91,1482.02 1956.15,1482.02 1934.39,1482.02 1912.63,1482.02 1890.87,1482.02 1869.11,1482.02 1847.35,1482.02 1825.59,1482.02 \n",
              "  1803.83,1482.02 1782.07,1482.02 1760.31,1482.02 1738.55,1482.02 1716.79,1482.02 1695.03,1482.02 1673.27,1482.02 1651.51,1482.02 1629.75,1482.02 1607.99,1482.02 \n",
              "  1586.23,1482.02 1564.47,1482.02 1542.71,1482.02 1520.95,1482.02 1499.19,1482.02 1477.43,1482.02 1455.67,1482.02 1433.91,1482.02 1412.15,1367.45 1390.39,1482.02 \n",
              "  1368.63,1292.44 1346.87,1292.44 1325.11,1367.45 1303.35,1482.02 1281.59,1482.02 1259.83,1482.02 1238.07,1482.02 1216.31,1482.02 1194.55,1482.02 1172.79,1482.02 \n",
              "  1151.03,1482.02 1129.27,1482.02 1107.51,1482.02 1085.75,1482.02 1063.99,1482.02 1042.23,1482.02 1020.47,1482.02 998.714,1482.02 976.954,1482.02 955.194,1226.31 \n",
              "  933.434,1367.45 911.674,1367.45 889.914,1367.45 868.154,1482.02 846.394,1482.02 824.634,1482.02 802.874,1482.02 781.114,1482.02 759.354,1482.02 737.594,1482.02 \n",
              "  715.834,1482.02 694.074,1482.02 672.314,1482.02 650.554,1482.02 628.794,1482.02 607.034,1482.02 585.274,1482.02 563.514,1482.02 541.754,1482.02 519.994,1482.02 \n",
              "  498.234,1482.02 476.474,1482.02 454.714,1482.02 432.954,1482.02 411.194,1482.02 389.434,1482.02 367.674,1482.02 345.914,1482.02 324.154,1482.02 302.394,1482.02 \n",
              "  \n",
              "  \" fill=\"#00ffff\" fill-rule=\"evenodd\" fill-opacity=\"0.2\"/>\n",
              "<polyline clip-path=\"url(#clip2603)\" style=\"stroke:#00ffff; stroke-width:4; stroke-opacity:0.8; fill:none\" points=\"\n",
              "  302.394,1482.02 324.154,1482.02 345.914,1482.02 367.674,1482.02 389.434,1482.02 411.194,1482.02 432.954,1482.02 454.714,1482.02 476.474,1482.02 498.234,1482.02 \n",
              "  519.994,1482.02 541.754,1482.02 563.514,1482.02 585.274,1482.02 607.034,1482.02 628.794,1482.02 650.554,1482.02 672.314,1482.02 694.074,1482.02 715.834,1482.02 \n",
              "  737.594,1482.02 759.354,1482.02 781.114,1482.02 802.874,1482.02 824.634,1482.02 846.394,1482.02 868.154,1482.02 889.914,1424.73 911.674,1424.73 933.434,1424.73 \n",
              "  955.194,1310.16 976.954,1482.02 998.714,1482.02 1020.47,1482.02 1042.23,1482.02 1063.99,1482.02 1085.75,1482.02 1107.51,1482.02 1129.27,1482.02 1151.03,1482.02 \n",
              "  1172.79,1482.02 1194.55,1482.02 1216.31,1482.02 1238.07,1482.02 1259.83,1482.02 1281.59,1482.02 1303.35,1482.02 1325.11,1424.73 1346.87,1367.45 1368.63,1367.45 \n",
              "  1390.39,1482.02 1412.15,1424.73 1433.91,1482.02 1455.67,1482.02 1477.43,1482.02 1499.19,1482.02 1520.95,1482.02 1542.71,1482.02 1564.47,1482.02 1586.23,1482.02 \n",
              "  1607.99,1482.02 1629.75,1482.02 1651.51,1482.02 1673.27,1482.02 1695.03,1482.02 1716.79,1482.02 1738.55,1482.02 1760.31,1482.02 1782.07,1482.02 1803.83,1482.02 \n",
              "  1825.59,1482.02 1847.35,1482.02 1869.11,1482.02 1890.87,1482.02 1912.63,1482.02 1934.39,1482.02 1956.15,1482.02 1977.91,1482.02 1999.67,1482.02 2021.43,1482.02 \n",
              "  2043.19,1482.02 2064.95,1482.02 2086.71,1482.02 2108.47,1482.02 2130.23,1482.02 2151.99,1482.02 2173.75,1482.02 2195.51,1482.02 2217.27,1482.02 2239.03,1482.02 \n",
              "  2260.79,1482.02 2282.55,1482.02 2304.31,1482.02 2326.07,1482.02 2347.83,1482.02 2369.59,1482.02 2391.35,1482.02 2413.11,1424.73 2434.87,1482.02 2456.63,1482.02 \n",
              "  \n",
              "  \"/>\n",
              "<polygon clip-path=\"url(#clip2603)\" points=\"\n",
              "302.394,1482.02 324.154,1482.02 345.914,1482.02 367.674,1482.02 389.434,1482.02 411.194,1482.02 432.954,1482.02 454.714,1482.02 476.474,1482.02 498.234,1482.02 \n",
              "  519.994,1482.02 541.754,1482.02 563.514,1482.02 585.274,1482.02 607.034,1482.02 628.794,1482.02 650.554,1482.02 672.314,1482.02 694.074,1482.02 715.834,1482.02 \n",
              "  737.594,1482.02 759.354,1482.02 781.114,1482.02 802.874,1482.02 824.634,1316.14 846.394,1134.18 868.154,1076.88 889.914,989.273 911.674,1344.03 933.434,1394.02 \n",
              "  955.194,1482.02 976.954,1482.02 998.714,1482.02 1020.47,1482.02 1042.23,1482.02 1063.99,1482.02 1085.75,1482.02 1107.51,1482.02 1129.27,1482.02 1151.03,1482.02 \n",
              "  1172.79,1482.02 1194.55,1482.02 1216.31,1482.02 1238.07,1482.02 1259.83,1482.02 1281.59,1080 1303.35,1216.24 1325.11,1442.45 1346.87,1375.36 1368.63,1442.45 \n",
              "  1390.39,1482.02 1412.15,1482.02 1433.91,1482.02 1455.67,1482.02 1477.43,1482.02 1499.19,1482.02 1520.95,1482.02 1542.71,1482.02 1564.47,1482.02 1586.23,1482.02 \n",
              "  1607.99,1482.02 1629.75,1482.02 1651.51,1482.02 1673.27,1482.02 1695.03,1482.02 1716.79,1388.04 1738.55,909.165 1760.31,1482.02 1782.07,1482.02 1803.83,1482.02 \n",
              "  1825.59,1482.02 1847.35,1482.02 1869.11,1482.02 1890.87,1482.02 1912.63,1482.02 1934.39,1482.02 1956.15,1482.02 1977.91,1482.02 1999.67,1482.02 2021.43,1482.02 \n",
              "  2043.19,1482.02 2064.95,1482.02 2086.71,1482.02 2108.47,1482.02 2130.23,1482.02 2151.99,1482.02 2173.75,1482.02 2195.51,1482.02 2217.27,1482.02 2239.03,1482.02 \n",
              "  2260.79,1482.02 2282.55,1482.02 2304.31,1482.02 2326.07,1482.02 2347.83,1482.02 2369.59,1482.02 2391.35,1482.02 2413.11,1482.02 2434.87,1482.02 2456.63,1482.02 \n",
              "  2456.63,1482.02 2434.87,1482.02 2413.11,1482.02 2391.35,1482.02 2369.59,1482.02 2347.83,1482.02 2326.07,1482.02 2304.31,1482.02 2282.55,1482.02 2260.79,1482.02 \n",
              "  2239.03,1482.02 2217.27,1482.02 2195.51,1367.45 2173.75,1482.02 2151.99,1482.02 2130.23,1482.02 2108.47,1482.02 2086.71,1482.02 2064.95,1482.02 2043.19,1482.02 \n",
              "  2021.43,1482.02 1999.67,1482.02 1977.91,1482.02 1956.15,1482.02 1934.39,1482.02 1912.63,1482.02 1890.87,1482.02 1869.11,1482.02 1847.35,1482.02 1825.59,1482.02 \n",
              "  1803.83,1482.02 1782.07,1482.02 1760.31,1482.02 1738.55,565.453 1716.79,1003.15 1695.03,1367.45 1673.27,1482.02 1651.51,1482.02 1629.75,1482.02 1607.99,1482.02 \n",
              "  1586.23,1482.02 1564.47,1482.02 1542.71,1482.02 1520.95,1482.02 1499.19,1367.45 1477.43,1482.02 1455.67,1482.02 1433.91,1482.02 1412.15,1482.02 1390.39,1367.45 \n",
              "  1368.63,1292.44 1346.87,1130.4 1325.11,1292.44 1303.35,945.805 1281.59,623.763 1259.83,1023.74 1238.07,1482.02 1216.31,1482.02 1194.55,1482.02 1172.79,1482.02 \n",
              "  1151.03,1482.02 1129.27,1482.02 1107.51,1482.02 1085.75,1367.45 1063.99,1482.02 1042.23,1482.02 1020.47,1482.02 998.714,1482.02 976.954,1482.02 955.194,1367.45 \n",
              "  933.434,1226.31 911.674,1047.15 889.914,370.773 868.154,741.45 846.394,684.152 824.634,1075.04 802.874,1482.02 781.114,1482.02 759.354,1482.02 737.594,1482.02 \n",
              "  715.834,1482.02 694.074,1482.02 672.314,1482.02 650.554,1482.02 628.794,1482.02 607.034,1482.02 585.274,1482.02 563.514,1482.02 541.754,1482.02 519.994,1482.02 \n",
              "  498.234,1482.02 476.474,1482.02 454.714,1482.02 432.954,1482.02 411.194,1482.02 389.434,1482.02 367.674,1482.02 345.914,1482.02 324.154,1482.02 302.394,1482.02 \n",
              "  \n",
              "  \" fill=\"#009fff\" fill-rule=\"evenodd\" fill-opacity=\"0.2\"/>\n",
              "<polyline clip-path=\"url(#clip2603)\" style=\"stroke:#009fff; stroke-width:4; stroke-opacity:0.8; fill:none\" points=\"\n",
              "  302.394,1482.02 324.154,1482.02 345.914,1482.02 367.674,1482.02 389.434,1482.02 411.194,1482.02 432.954,1482.02 454.714,1482.02 476.474,1482.02 498.234,1482.02 \n",
              "  519.994,1482.02 541.754,1482.02 563.514,1482.02 585.274,1482.02 607.034,1482.02 628.794,1482.02 650.554,1482.02 672.314,1482.02 694.074,1482.02 715.834,1482.02 \n",
              "  737.594,1482.02 759.354,1482.02 781.114,1482.02 802.874,1482.02 824.634,1195.59 846.394,909.165 868.154,909.165 889.914,680.023 911.674,1195.59 933.434,1310.16 \n",
              "  955.194,1424.73 976.954,1482.02 998.714,1482.02 1020.47,1482.02 1042.23,1482.02 1063.99,1482.02 1085.75,1424.73 1107.51,1482.02 1129.27,1482.02 1151.03,1482.02 \n",
              "  1172.79,1482.02 1194.55,1482.02 1216.31,1482.02 1238.07,1482.02 1259.83,1252.88 1281.59,851.879 1303.35,1081.02 1325.11,1367.45 1346.87,1252.88 1368.63,1367.45 \n",
              "  1390.39,1424.73 1412.15,1482.02 1433.91,1482.02 1455.67,1482.02 1477.43,1482.02 1499.19,1424.73 1520.95,1482.02 1542.71,1482.02 1564.47,1482.02 1586.23,1482.02 \n",
              "  1607.99,1482.02 1629.75,1482.02 1651.51,1482.02 1673.27,1482.02 1695.03,1424.73 1716.79,1195.59 1738.55,737.309 1760.31,1482.02 1782.07,1482.02 1803.83,1482.02 \n",
              "  1825.59,1482.02 1847.35,1482.02 1869.11,1482.02 1890.87,1482.02 1912.63,1482.02 1934.39,1482.02 1956.15,1482.02 1977.91,1482.02 1999.67,1482.02 2021.43,1482.02 \n",
              "  2043.19,1482.02 2064.95,1482.02 2086.71,1482.02 2108.47,1482.02 2130.23,1482.02 2151.99,1482.02 2173.75,1482.02 2195.51,1424.73 2217.27,1482.02 2239.03,1482.02 \n",
              "  2260.79,1482.02 2282.55,1482.02 2304.31,1482.02 2326.07,1482.02 2347.83,1482.02 2369.59,1482.02 2391.35,1482.02 2413.11,1482.02 2434.87,1482.02 2456.63,1482.02 \n",
              "  \n",
              "  \"/>\n",
              "<polygon clip-path=\"url(#clip2603)\" points=\"\n",
              "302.394,1482.02 324.154,1482.02 345.914,1482.02 367.674,1482.02 389.434,1482.02 411.194,1482.02 432.954,1482.02 454.714,1482.02 476.474,1482.02 498.234,1482.02 \n",
              "  519.994,1482.02 541.754,1482.02 563.514,1482.02 585.274,1482.02 607.034,1482.02 628.794,1482.02 650.554,1482.02 672.314,1482.02 694.074,1482.02 715.834,1482.02 \n",
              "  737.594,1482.02 759.354,1482.02 781.114,1482.02 802.874,1206.04 824.634,988.254 846.394,842.48 868.154,948.345 889.914,1375.36 911.674,1482.02 933.434,1482.02 \n",
              "  955.194,1482.02 976.954,1482.02 998.714,1482.02 1020.47,1482.02 1042.23,1482.02 1063.99,1482.02 1085.75,1482.02 1107.51,1482.02 1129.27,1482.02 1151.03,1482.02 \n",
              "  1172.79,1482.02 1194.55,1482.02 1216.31,1430.71 1238.07,1044.33 1259.83,621.713 1281.59,965.425 1303.35,1216.24 1325.11,1388.04 1346.87,1482.02 1368.63,1482.02 \n",
              "  1390.39,1482.02 1412.15,1482.02 1433.91,1482.02 1455.67,1482.02 1477.43,1482.02 1499.19,1482.02 1520.95,1482.02 1542.71,1482.02 1564.47,1482.02 1586.23,1482.02 \n",
              "  1607.99,1482.02 1629.75,1482.02 1651.51,1482.02 1673.27,1235.88 1695.03,1023.74 1716.79,1148.89 1738.55,1134.18 1760.31,1430.71 1782.07,1482.02 1803.83,1482.02 \n",
              "  1825.59,1482.02 1847.35,1482.02 1869.11,1482.02 1890.87,1482.02 1912.63,1482.02 1934.39,1482.02 1956.15,1482.02 1977.91,1482.02 1999.67,1482.02 2021.43,1482.02 \n",
              "  2043.19,1482.02 2064.95,1482.02 2086.71,1482.02 2108.47,1482.02 2130.23,1482.02 2151.99,1482.02 2173.75,1482.02 2195.51,1482.02 2217.27,1482.02 2239.03,1482.02 \n",
              "  2260.79,1482.02 2282.55,1482.02 2304.31,1482.02 2326.07,1482.02 2347.83,1482.02 2369.59,1482.02 2391.35,1482.02 2413.11,1482.02 2434.87,1482.02 2456.63,1482.02 \n",
              "  2456.63,1482.02 2434.87,1482.02 2413.11,1482.02 2391.35,1482.02 2369.59,1482.02 2347.83,1482.02 2326.07,1482.02 2304.31,1482.02 2282.55,1482.02 2260.79,1482.02 \n",
              "  2239.03,1482.02 2217.27,1482.02 2195.51,1482.02 2173.75,1482.02 2151.99,1482.02 2130.23,1482.02 2108.47,1482.02 2086.71,1482.02 2064.95,1482.02 2043.19,1482.02 \n",
              "  2021.43,1482.02 1999.67,1482.02 1977.91,1482.02 1956.15,1482.02 1934.39,1482.02 1912.63,1482.02 1890.87,1482.02 1869.11,1482.02 1847.35,1482.02 1825.59,1482.02 \n",
              "  1803.83,1482.02 1782.07,1482.02 1760.31,1189.61 1738.55,684.152 1716.79,784.009 1695.03,680.023 1673.27,811.592 1651.51,1252.88 1629.75,1482.02 1607.99,1482.02 \n",
              "  1586.23,1482.02 1564.47,1482.02 1542.71,1482.02 1520.95,1482.02 1499.19,1482.02 1477.43,1482.02 1455.67,1482.02 1433.91,1482.02 1412.15,1482.02 1390.39,1482.02 \n",
              "  1368.63,1482.02 1346.87,1367.45 1325.11,1003.15 1303.35,945.805 1281.59,509.193 1259.83,165.48 1238.07,659.434 1216.31,1189.61 1194.55,1482.02 1172.79,1482.02 \n",
              "  1151.03,1482.02 1129.27,1482.02 1107.51,1482.02 1085.75,1367.45 1063.99,1367.45 1042.23,1367.45 1020.47,1367.45 998.714,1482.02 976.954,1482.02 955.194,1482.02 \n",
              "  933.434,1482.02 911.674,1482.02 889.914,1130.4 868.154,526.273 846.394,402.996 824.634,600.934 802.874,612.29 781.114,1252.88 759.354,1482.02 737.594,1482.02 \n",
              "  715.834,1482.02 694.074,1482.02 672.314,1482.02 650.554,1482.02 628.794,1482.02 607.034,1482.02 585.274,1482.02 563.514,1482.02 541.754,1482.02 519.994,1482.02 \n",
              "  498.234,1482.02 476.474,1482.02 454.714,1482.02 432.954,1482.02 411.194,1482.02 389.434,1482.02 367.674,1482.02 345.914,1482.02 324.154,1482.02 302.394,1482.02 \n",
              "  \n",
              "  \" fill=\"#003fff\" fill-rule=\"evenodd\" fill-opacity=\"0.2\"/>\n",
              "<polyline clip-path=\"url(#clip2603)\" style=\"stroke:#003fff; stroke-width:4; stroke-opacity:0.8; fill:none\" points=\"\n",
              "  302.394,1482.02 324.154,1482.02 345.914,1482.02 367.674,1482.02 389.434,1482.02 411.194,1482.02 432.954,1482.02 454.714,1482.02 476.474,1482.02 498.234,1482.02 \n",
              "  519.994,1482.02 541.754,1482.02 563.514,1482.02 585.274,1482.02 607.034,1482.02 628.794,1482.02 650.554,1482.02 672.314,1482.02 694.074,1482.02 715.834,1482.02 \n",
              "  737.594,1482.02 759.354,1482.02 781.114,1367.45 802.874,909.165 824.634,794.594 846.394,622.738 868.154,737.309 889.914,1252.88 911.674,1482.02 933.434,1482.02 \n",
              "  955.194,1482.02 976.954,1482.02 998.714,1482.02 1020.47,1424.73 1042.23,1424.73 1063.99,1424.73 1085.75,1424.73 1107.51,1482.02 1129.27,1482.02 1151.03,1482.02 \n",
              "  1172.79,1482.02 1194.55,1482.02 1216.31,1310.16 1238.07,851.879 1259.83,393.597 1281.59,737.309 1303.35,1081.02 1325.11,1195.59 1346.87,1424.73 1368.63,1482.02 \n",
              "  1390.39,1482.02 1412.15,1482.02 1433.91,1482.02 1455.67,1482.02 1477.43,1482.02 1499.19,1482.02 1520.95,1482.02 1542.71,1482.02 1564.47,1482.02 1586.23,1482.02 \n",
              "  1607.99,1482.02 1629.75,1482.02 1651.51,1367.45 1673.27,1023.74 1695.03,851.879 1716.79,966.45 1738.55,909.165 1760.31,1310.16 1782.07,1482.02 1803.83,1482.02 \n",
              "  1825.59,1482.02 1847.35,1482.02 1869.11,1482.02 1890.87,1482.02 1912.63,1482.02 1934.39,1482.02 1956.15,1482.02 1977.91,1482.02 1999.67,1482.02 2021.43,1482.02 \n",
              "  2043.19,1482.02 2064.95,1482.02 2086.71,1482.02 2108.47,1482.02 2130.23,1482.02 2151.99,1482.02 2173.75,1482.02 2195.51,1482.02 2217.27,1482.02 2239.03,1482.02 \n",
              "  2260.79,1482.02 2282.55,1482.02 2304.31,1482.02 2326.07,1482.02 2347.83,1482.02 2369.59,1482.02 2391.35,1482.02 2413.11,1482.02 2434.87,1482.02 2456.63,1482.02 \n",
              "  \n",
              "  \"/>\n",
              "<polygon clip-path=\"url(#clip2603)\" points=\"\n",
              "302.394,1482.02 324.154,1482.02 345.914,1482.02 367.674,1482.02 389.434,1482.02 411.194,1482.02 432.954,1482.02 454.714,1482.02 476.474,1482.02 498.234,1482.02 \n",
              "  519.994,1482.02 541.754,1482.02 563.514,1482.02 585.274,1482.02 607.034,1482.02 628.794,1482.02 650.554,1482.02 672.314,1482.02 694.074,1482.02 715.834,1482.02 \n",
              "  737.594,1482.02 759.354,1482.02 781.114,1482.02 802.874,1482.02 824.634,1482.02 846.394,1482.02 868.154,1482.02 889.914,1482.02 911.674,1482.02 933.434,1482.02 \n",
              "  955.194,1482.02 976.954,1482.02 998.714,1482.02 1020.47,1482.02 1042.23,1482.02 1063.99,1482.02 1085.75,1482.02 1107.51,1482.02 1129.27,1482.02 1151.03,1482.02 \n",
              "  1172.79,1482.02 1194.55,1482.02 1216.31,1482.02 1238.07,1482.02 1259.83,1482.02 1281.59,1482.02 1303.35,1482.02 1325.11,1482.02 1346.87,1482.02 1368.63,1482.02 \n",
              "  1390.39,1482.02 1412.15,1482.02 1433.91,1482.02 1455.67,1482.02 1477.43,1482.02 1499.19,1482.02 1520.95,1482.02 1542.71,1482.02 1564.47,1482.02 1586.23,1482.02 \n",
              "  1607.99,1482.02 1629.75,1482.02 1651.51,1482.02 1673.27,1482.02 1695.03,1482.02 1716.79,1482.02 1738.55,1482.02 1760.31,1482.02 1782.07,1482.02 1803.83,1482.02 \n",
              "  1825.59,1482.02 1847.35,1482.02 1869.11,1482.02 1890.87,1482.02 1912.63,1482.02 1934.39,1482.02 1956.15,1482.02 1977.91,1482.02 1999.67,1482.02 2021.43,1482.02 \n",
              "  2043.19,1482.02 2064.95,1482.02 2086.71,1482.02 2108.47,1482.02 2130.23,1482.02 2151.99,1482.02 2173.75,1482.02 2195.51,1482.02 2217.27,1482.02 2239.03,1482.02 \n",
              "  2260.79,1482.02 2282.55,1482.02 2304.31,1482.02 2326.07,1482.02 2347.83,1482.02 2369.59,1482.02 2391.35,1482.02 2413.11,1482.02 2434.87,1482.02 2456.63,1482.02 \n",
              "  2456.63,1482.02 2434.87,1482.02 2413.11,1482.02 2391.35,1482.02 2369.59,1482.02 2347.83,1482.02 2326.07,1482.02 2304.31,1482.02 2282.55,1482.02 2260.79,1482.02 \n",
              "  2239.03,1482.02 2217.27,1482.02 2195.51,1482.02 2173.75,1482.02 2151.99,1367.45 2130.23,1482.02 2108.47,1482.02 2086.71,1482.02 2064.95,1482.02 2043.19,1482.02 \n",
              "  2021.43,1482.02 1999.67,1482.02 1977.91,1482.02 1956.15,1482.02 1934.39,1482.02 1912.63,1482.02 1890.87,1482.02 1869.11,1482.02 1847.35,1482.02 1825.59,1482.02 \n",
              "  1803.83,1482.02 1782.07,1482.02 1760.31,1482.02 1738.55,1482.02 1716.79,1482.02 1695.03,1367.45 1673.27,1482.02 1651.51,1482.02 1629.75,1482.02 1607.99,1482.02 \n",
              "  1586.23,1482.02 1564.47,1482.02 1542.71,1482.02 1520.95,1482.02 1499.19,1482.02 1477.43,1482.02 1455.67,1482.02 1433.91,1482.02 1412.15,1482.02 1390.39,1482.02 \n",
              "  1368.63,1482.02 1346.87,1482.02 1325.11,1482.02 1303.35,1482.02 1281.59,1482.02 1259.83,1367.45 1238.07,1482.02 1216.31,1367.45 1194.55,1482.02 1172.79,1482.02 \n",
              "  1151.03,1482.02 1129.27,1482.02 1107.51,1482.02 1085.75,1482.02 1063.99,1482.02 1042.23,1482.02 1020.47,1482.02 998.714,1482.02 976.954,1482.02 955.194,1482.02 \n",
              "  933.434,1482.02 911.674,1367.45 889.914,1367.45 868.154,1367.45 846.394,1482.02 824.634,1252.88 802.874,909.165 781.114,1367.45 759.354,1482.02 737.594,1482.02 \n",
              "  715.834,1482.02 694.074,1482.02 672.314,1482.02 650.554,1482.02 628.794,1367.45 607.034,1482.02 585.274,1482.02 563.514,1482.02 541.754,1482.02 519.994,1482.02 \n",
              "  498.234,1482.02 476.474,1482.02 454.714,1482.02 432.954,1482.02 411.194,1482.02 389.434,1482.02 367.674,1482.02 345.914,1482.02 324.154,1482.02 302.394,1482.02 \n",
              "  \n",
              "  \" fill=\"#1f00ff\" fill-rule=\"evenodd\" fill-opacity=\"0.2\"/>\n",
              "<polyline clip-path=\"url(#clip2603)\" style=\"stroke:#1f00ff; stroke-width:4; stroke-opacity:0.8; fill:none\" points=\"\n",
              "  302.394,1482.02 324.154,1482.02 345.914,1482.02 367.674,1482.02 389.434,1482.02 411.194,1482.02 432.954,1482.02 454.714,1482.02 476.474,1482.02 498.234,1482.02 \n",
              "  519.994,1482.02 541.754,1482.02 563.514,1482.02 585.274,1482.02 607.034,1482.02 628.794,1424.73 650.554,1482.02 672.314,1482.02 694.074,1482.02 715.834,1482.02 \n",
              "  737.594,1482.02 759.354,1482.02 781.114,1424.73 802.874,1195.59 824.634,1367.45 846.394,1482.02 868.154,1424.73 889.914,1424.73 911.674,1424.73 933.434,1482.02 \n",
              "  955.194,1482.02 976.954,1482.02 998.714,1482.02 1020.47,1482.02 1042.23,1482.02 1063.99,1482.02 1085.75,1482.02 1107.51,1482.02 1129.27,1482.02 1151.03,1482.02 \n",
              "  1172.79,1482.02 1194.55,1482.02 1216.31,1424.73 1238.07,1482.02 1259.83,1424.73 1281.59,1482.02 1303.35,1482.02 1325.11,1482.02 1346.87,1482.02 1368.63,1482.02 \n",
              "  1390.39,1482.02 1412.15,1482.02 1433.91,1482.02 1455.67,1482.02 1477.43,1482.02 1499.19,1482.02 1520.95,1482.02 1542.71,1482.02 1564.47,1482.02 1586.23,1482.02 \n",
              "  1607.99,1482.02 1629.75,1482.02 1651.51,1482.02 1673.27,1482.02 1695.03,1424.73 1716.79,1482.02 1738.55,1482.02 1760.31,1482.02 1782.07,1482.02 1803.83,1482.02 \n",
              "  1825.59,1482.02 1847.35,1482.02 1869.11,1482.02 1890.87,1482.02 1912.63,1482.02 1934.39,1482.02 1956.15,1482.02 1977.91,1482.02 1999.67,1482.02 2021.43,1482.02 \n",
              "  2043.19,1482.02 2064.95,1482.02 2086.71,1482.02 2108.47,1482.02 2130.23,1482.02 2151.99,1424.73 2173.75,1482.02 2195.51,1482.02 2217.27,1482.02 2239.03,1482.02 \n",
              "  2260.79,1482.02 2282.55,1482.02 2304.31,1482.02 2326.07,1482.02 2347.83,1482.02 2369.59,1482.02 2391.35,1482.02 2413.11,1482.02 2434.87,1482.02 2456.63,1482.02 \n",
              "  \n",
              "  \"/>\n",
              "<polygon clip-path=\"url(#clip2603)\" points=\"\n",
              "302.394,1482.02 324.154,1482.02 345.914,1482.02 367.674,1482.02 389.434,1482.02 411.194,1482.02 432.954,1482.02 454.714,1482.02 476.474,1482.02 498.234,1482.02 \n",
              "  519.994,1482.02 541.754,1482.02 563.514,1482.02 585.274,1482.02 607.034,1482.02 628.794,1482.02 650.554,1482.02 672.314,1482.02 694.074,1482.02 715.834,1430.71 \n",
              "  737.594,1482.02 759.354,1482.02 781.114,1482.02 802.874,1482.02 824.634,1482.02 846.394,1482.02 868.154,1482.02 889.914,1482.02 911.674,1482.02 933.434,1482.02 \n",
              "  955.194,1482.02 976.954,1482.02 998.714,1482.02 1020.47,1482.02 1042.23,1482.02 1063.99,1482.02 1085.75,1482.02 1107.51,1482.02 1129.27,1482.02 1151.03,1482.02 \n",
              "  1172.79,1482.02 1194.55,1482.02 1216.31,1482.02 1238.07,1482.02 1259.83,1482.02 1281.59,1442.45 1303.35,1482.02 1325.11,1482.02 1346.87,1482.02 1368.63,1482.02 \n",
              "  1390.39,1482.02 1412.15,1482.02 1433.91,1482.02 1455.67,1482.02 1477.43,1482.02 1499.19,1482.02 1520.95,1482.02 1542.71,1482.02 1564.47,1482.02 1586.23,1482.02 \n",
              "  1607.99,1482.02 1629.75,1482.02 1651.51,1482.02 1673.27,1482.02 1695.03,1482.02 1716.79,1482.02 1738.55,1482.02 1760.31,1482.02 1782.07,1482.02 1803.83,1482.02 \n",
              "  1825.59,1482.02 1847.35,1482.02 1869.11,1482.02 1890.87,1482.02 1912.63,1482.02 1934.39,1482.02 1956.15,1482.02 1977.91,1482.02 1999.67,1482.02 2021.43,1482.02 \n",
              "  2043.19,1482.02 2064.95,1482.02 2086.71,1482.02 2108.47,1482.02 2130.23,1482.02 2151.99,1482.02 2173.75,1482.02 2195.51,1482.02 2217.27,1482.02 2239.03,1482.02 \n",
              "  2260.79,1482.02 2282.55,1482.02 2304.31,1482.02 2326.07,1482.02 2347.83,1482.02 2369.59,1482.02 2391.35,1482.02 2413.11,1482.02 2434.87,1482.02 2456.63,1482.02 \n",
              "  2456.63,1482.02 2434.87,1482.02 2413.11,1482.02 2391.35,1482.02 2369.59,1482.02 2347.83,1482.02 2326.07,1482.02 2304.31,1482.02 2282.55,1482.02 2260.79,1482.02 \n",
              "  2239.03,1482.02 2217.27,1482.02 2195.51,1482.02 2173.75,1482.02 2151.99,1482.02 2130.23,1482.02 2108.47,1482.02 2086.71,1482.02 2064.95,1482.02 2043.19,1482.02 \n",
              "  2021.43,1482.02 1999.67,1482.02 1977.91,1482.02 1956.15,1482.02 1934.39,1482.02 1912.63,1482.02 1890.87,1482.02 1869.11,1482.02 1847.35,1482.02 1825.59,1482.02 \n",
              "  1803.83,1482.02 1782.07,1482.02 1760.31,1482.02 1738.55,1482.02 1716.79,1367.45 1695.03,1482.02 1673.27,1367.45 1651.51,1482.02 1629.75,1482.02 1607.99,1482.02 \n",
              "  1586.23,1482.02 1564.47,1482.02 1542.71,1367.45 1520.95,1482.02 1499.19,1482.02 1477.43,1482.02 1455.67,1482.02 1433.91,1482.02 1412.15,1482.02 1390.39,1482.02 \n",
              "  1368.63,1482.02 1346.87,1482.02 1325.11,1482.02 1303.35,1482.02 1281.59,1292.44 1259.83,1482.02 1238.07,1367.45 1216.31,1482.02 1194.55,1482.02 1172.79,1482.02 \n",
              "  1151.03,1482.02 1129.27,1482.02 1107.51,1482.02 1085.75,1482.02 1063.99,1482.02 1042.23,1482.02 1020.47,1482.02 998.714,1482.02 976.954,1482.02 955.194,1482.02 \n",
              "  933.434,1482.02 911.674,1482.02 889.914,1482.02 868.154,1482.02 846.394,1367.45 824.634,1482.02 802.874,1482.02 781.114,1367.45 759.354,1482.02 737.594,1482.02 \n",
              "  715.834,1189.61 694.074,1482.02 672.314,1482.02 650.554,1482.02 628.794,1482.02 607.034,1482.02 585.274,1482.02 563.514,1482.02 541.754,1482.02 519.994,1482.02 \n",
              "  498.234,1482.02 476.474,1482.02 454.714,1482.02 432.954,1482.02 411.194,1482.02 389.434,1482.02 367.674,1482.02 345.914,1482.02 324.154,1482.02 302.394,1482.02 \n",
              "  \n",
              "  \" fill=\"#7f00ff\" fill-rule=\"evenodd\" fill-opacity=\"0.2\"/>\n",
              "<polyline clip-path=\"url(#clip2603)\" style=\"stroke:#7f00ff; stroke-width:4; stroke-opacity:0.8; fill:none\" points=\"\n",
              "  302.394,1482.02 324.154,1482.02 345.914,1482.02 367.674,1482.02 389.434,1482.02 411.194,1482.02 432.954,1482.02 454.714,1482.02 476.474,1482.02 498.234,1482.02 \n",
              "  519.994,1482.02 541.754,1482.02 563.514,1482.02 585.274,1482.02 607.034,1482.02 628.794,1482.02 650.554,1482.02 672.314,1482.02 694.074,1482.02 715.834,1310.16 \n",
              "  737.594,1482.02 759.354,1482.02 781.114,1424.73 802.874,1482.02 824.634,1482.02 846.394,1424.73 868.154,1482.02 889.914,1482.02 911.674,1482.02 933.434,1482.02 \n",
              "  955.194,1482.02 976.954,1482.02 998.714,1482.02 1020.47,1482.02 1042.23,1482.02 1063.99,1482.02 1085.75,1482.02 1107.51,1482.02 1129.27,1482.02 1151.03,1482.02 \n",
              "  1172.79,1482.02 1194.55,1482.02 1216.31,1482.02 1238.07,1424.73 1259.83,1482.02 1281.59,1367.45 1303.35,1482.02 1325.11,1482.02 1346.87,1482.02 1368.63,1482.02 \n",
              "  1390.39,1482.02 1412.15,1482.02 1433.91,1482.02 1455.67,1482.02 1477.43,1482.02 1499.19,1482.02 1520.95,1482.02 1542.71,1424.73 1564.47,1482.02 1586.23,1482.02 \n",
              "  1607.99,1482.02 1629.75,1482.02 1651.51,1482.02 1673.27,1424.73 1695.03,1482.02 1716.79,1424.73 1738.55,1482.02 1760.31,1482.02 1782.07,1482.02 1803.83,1482.02 \n",
              "  1825.59,1482.02 1847.35,1482.02 1869.11,1482.02 1890.87,1482.02 1912.63,1482.02 1934.39,1482.02 1956.15,1482.02 1977.91,1482.02 1999.67,1482.02 2021.43,1482.02 \n",
              "  2043.19,1482.02 2064.95,1482.02 2086.71,1482.02 2108.47,1482.02 2130.23,1482.02 2151.99,1482.02 2173.75,1482.02 2195.51,1482.02 2217.27,1482.02 2239.03,1482.02 \n",
              "  2260.79,1482.02 2282.55,1482.02 2304.31,1482.02 2326.07,1482.02 2347.83,1482.02 2369.59,1482.02 2391.35,1482.02 2413.11,1482.02 2434.87,1482.02 2456.63,1482.02 \n",
              "  \n",
              "  \"/>\n",
              "<polygon clip-path=\"url(#clip2603)\" points=\"\n",
              "302.394,1482.02 324.154,1482.02 345.914,1482.02 367.674,1482.02 389.434,1482.02 411.194,1482.02 432.954,1482.02 454.714,1482.02 476.474,1482.02 498.234,1482.02 \n",
              "  519.994,1482.02 541.754,1482.02 563.514,1482.02 585.274,1482.02 607.034,1482.02 628.794,1482.02 650.554,1482.02 672.314,1482.02 694.074,1482.02 715.834,1482.02 \n",
              "  737.594,1482.02 759.354,1482.02 781.114,1482.02 802.874,1482.02 824.634,1482.02 846.394,1482.02 868.154,1482.02 889.914,1482.02 911.674,1482.02 933.434,1482.02 \n",
              "  955.194,1482.02 976.954,1482.02 998.714,1482.02 1020.47,1482.02 1042.23,1482.02 1063.99,1482.02 1085.75,1482.02 1107.51,1482.02 1129.27,1482.02 1151.03,1482.02 \n",
              "  1172.79,1482.02 1194.55,1482.02 1216.31,1482.02 1238.07,1482.02 1259.83,1482.02 1281.59,1482.02 1303.35,1482.02 1325.11,1482.02 1346.87,1482.02 1368.63,1482.02 \n",
              "  1390.39,1482.02 1412.15,1482.02 1433.91,1482.02 1455.67,1482.02 1477.43,1482.02 1499.19,1482.02 1520.95,1482.02 1542.71,1482.02 1564.47,1482.02 1586.23,1482.02 \n",
              "  1607.99,1482.02 1629.75,1482.02 1651.51,1482.02 1673.27,1482.02 1695.03,1482.02 1716.79,1482.02 1738.55,1482.02 1760.31,1482.02 1782.07,1482.02 1803.83,1482.02 \n",
              "  1825.59,1482.02 1847.35,1482.02 1869.11,1482.02 1890.87,1482.02 1912.63,1482.02 1934.39,1482.02 1956.15,1482.02 1977.91,1482.02 1999.67,1482.02 2021.43,1482.02 \n",
              "  2043.19,1482.02 2064.95,1482.02 2086.71,1482.02 2108.47,1482.02 2130.23,1482.02 2151.99,1482.02 2173.75,1482.02 2195.51,1482.02 2217.27,1482.02 2239.03,1482.02 \n",
              "  2260.79,1482.02 2282.55,1482.02 2304.31,1482.02 2326.07,1482.02 2347.83,1482.02 2369.59,1482.02 2391.35,1482.02 2413.11,1482.02 2434.87,1482.02 2456.63,1482.02 \n",
              "  2456.63,1482.02 2434.87,1482.02 2413.11,1482.02 2391.35,1482.02 2369.59,1482.02 2347.83,1482.02 2326.07,1482.02 2304.31,1482.02 2282.55,1482.02 2260.79,1482.02 \n",
              "  2239.03,1482.02 2217.27,1482.02 2195.51,1482.02 2173.75,1482.02 2151.99,1482.02 2130.23,1482.02 2108.47,1482.02 2086.71,1482.02 2064.95,1482.02 2043.19,1482.02 \n",
              "  2021.43,1482.02 1999.67,1482.02 1977.91,1482.02 1956.15,1482.02 1934.39,1482.02 1912.63,1482.02 1890.87,1482.02 1869.11,1482.02 1847.35,1482.02 1825.59,1482.02 \n",
              "  1803.83,1482.02 1782.07,1482.02 1760.31,1482.02 1738.55,1482.02 1716.79,1482.02 1695.03,1482.02 1673.27,1482.02 1651.51,1482.02 1629.75,1482.02 1607.99,1482.02 \n",
              "  1586.23,1482.02 1564.47,1367.45 1542.71,1482.02 1520.95,1367.45 1499.19,1482.02 1477.43,1482.02 1455.67,1482.02 1433.91,1482.02 1412.15,1482.02 1390.39,1482.02 \n",
              "  1368.63,1482.02 1346.87,1482.02 1325.11,1482.02 1303.35,1482.02 1281.59,1482.02 1259.83,1482.02 1238.07,1482.02 1216.31,1482.02 1194.55,1482.02 1172.79,1482.02 \n",
              "  1151.03,1367.45 1129.27,1367.45 1107.51,1367.45 1085.75,1482.02 1063.99,1367.45 1042.23,1367.45 1020.47,1482.02 998.714,1482.02 976.954,1482.02 955.194,1482.02 \n",
              "  933.434,1482.02 911.674,1482.02 889.914,1482.02 868.154,1482.02 846.394,1482.02 824.634,1482.02 802.874,1482.02 781.114,1482.02 759.354,1482.02 737.594,1482.02 \n",
              "  715.834,1482.02 694.074,1482.02 672.314,1482.02 650.554,1482.02 628.794,1482.02 607.034,1482.02 585.274,1482.02 563.514,1482.02 541.754,1482.02 519.994,1482.02 \n",
              "  498.234,1482.02 476.474,1482.02 454.714,1482.02 432.954,1482.02 411.194,1482.02 389.434,1482.02 367.674,1482.02 345.914,1482.02 324.154,1482.02 302.394,1482.02 \n",
              "  \n",
              "  \" fill=\"#df00ff\" fill-rule=\"evenodd\" fill-opacity=\"0.2\"/>\n",
              "<polyline clip-path=\"url(#clip2603)\" style=\"stroke:#df00ff; stroke-width:4; stroke-opacity:0.8; fill:none\" points=\"\n",
              "  302.394,1482.02 324.154,1482.02 345.914,1482.02 367.674,1482.02 389.434,1482.02 411.194,1482.02 432.954,1482.02 454.714,1482.02 476.474,1482.02 498.234,1482.02 \n",
              "  519.994,1482.02 541.754,1482.02 563.514,1482.02 585.274,1482.02 607.034,1482.02 628.794,1482.02 650.554,1482.02 672.314,1482.02 694.074,1482.02 715.834,1482.02 \n",
              "  737.594,1482.02 759.354,1482.02 781.114,1482.02 802.874,1482.02 824.634,1482.02 846.394,1482.02 868.154,1482.02 889.914,1482.02 911.674,1482.02 933.434,1482.02 \n",
              "  955.194,1482.02 976.954,1482.02 998.714,1482.02 1020.47,1482.02 1042.23,1424.73 1063.99,1424.73 1085.75,1482.02 1107.51,1424.73 1129.27,1424.73 1151.03,1424.73 \n",
              "  1172.79,1482.02 1194.55,1482.02 1216.31,1482.02 1238.07,1482.02 1259.83,1482.02 1281.59,1482.02 1303.35,1482.02 1325.11,1482.02 1346.87,1482.02 1368.63,1482.02 \n",
              "  1390.39,1482.02 1412.15,1482.02 1433.91,1482.02 1455.67,1482.02 1477.43,1482.02 1499.19,1482.02 1520.95,1424.73 1542.71,1482.02 1564.47,1424.73 1586.23,1482.02 \n",
              "  1607.99,1482.02 1629.75,1482.02 1651.51,1482.02 1673.27,1482.02 1695.03,1482.02 1716.79,1482.02 1738.55,1482.02 1760.31,1482.02 1782.07,1482.02 1803.83,1482.02 \n",
              "  1825.59,1482.02 1847.35,1482.02 1869.11,1482.02 1890.87,1482.02 1912.63,1482.02 1934.39,1482.02 1956.15,1482.02 1977.91,1482.02 1999.67,1482.02 2021.43,1482.02 \n",
              "  2043.19,1482.02 2064.95,1482.02 2086.71,1482.02 2108.47,1482.02 2130.23,1482.02 2151.99,1482.02 2173.75,1482.02 2195.51,1482.02 2217.27,1482.02 2239.03,1482.02 \n",
              "  2260.79,1482.02 2282.55,1482.02 2304.31,1482.02 2326.07,1482.02 2347.83,1482.02 2369.59,1482.02 2391.35,1482.02 2413.11,1482.02 2434.87,1482.02 2456.63,1482.02 \n",
              "  \n",
              "  \"/>\n",
              "<polygon clip-path=\"url(#clip2603)\" points=\"\n",
              "302.394,1482.02 324.154,1482.02 345.914,1482.02 367.674,1482.02 389.434,1482.02 411.194,1482.02 432.954,1482.02 454.714,1482.02 476.474,1482.02 498.234,1482.02 \n",
              "  519.994,1482.02 541.754,1482.02 563.514,1482.02 585.274,1482.02 607.034,1482.02 628.794,1482.02 650.554,1482.02 672.314,1482.02 694.074,1482.02 715.834,1482.02 \n",
              "  737.594,1482.02 759.354,1482.02 781.114,1482.02 802.874,1482.02 824.634,1482.02 846.394,1482.02 868.154,1482.02 889.914,1482.02 911.674,1482.02 933.434,1482.02 \n",
              "  955.194,1482.02 976.954,1482.02 998.714,1482.02 1020.47,1482.02 1042.23,1482.02 1063.99,1482.02 1085.75,1482.02 1107.51,1482.02 1129.27,1482.02 1151.03,1482.02 \n",
              "  1172.79,1482.02 1194.55,1482.02 1216.31,1482.02 1238.07,1482.02 1259.83,1482.02 1281.59,1482.02 1303.35,1482.02 1325.11,1482.02 1346.87,1482.02 1368.63,1482.02 \n",
              "  1390.39,1482.02 1412.15,1482.02 1433.91,1482.02 1455.67,1482.02 1477.43,1482.02 1499.19,1482.02 1520.95,1482.02 1542.71,1482.02 1564.47,1482.02 1586.23,1482.02 \n",
              "  1607.99,1482.02 1629.75,1482.02 1651.51,1482.02 1673.27,1482.02 1695.03,1482.02 1716.79,1482.02 1738.55,1482.02 1760.31,1482.02 1782.07,1482.02 1803.83,1482.02 \n",
              "  1825.59,1482.02 1847.35,1482.02 1869.11,1482.02 1890.87,1482.02 1912.63,1482.02 1934.39,1482.02 1956.15,1482.02 1977.91,1482.02 1999.67,1482.02 2021.43,1482.02 \n",
              "  2043.19,1482.02 2064.95,1482.02 2086.71,1482.02 2108.47,1482.02 2130.23,1482.02 2151.99,1482.02 2173.75,1482.02 2195.51,1482.02 2217.27,1482.02 2239.03,1482.02 \n",
              "  2260.79,1482.02 2282.55,1482.02 2304.31,1482.02 2326.07,1482.02 2347.83,1482.02 2369.59,1482.02 2391.35,1482.02 2413.11,1482.02 2434.87,1482.02 2456.63,1482.02 \n",
              "  2456.63,1482.02 2434.87,1482.02 2413.11,1482.02 2391.35,1482.02 2369.59,1482.02 2347.83,1482.02 2326.07,1482.02 2304.31,1482.02 2282.55,1482.02 2260.79,1482.02 \n",
              "  2239.03,1482.02 2217.27,1482.02 2195.51,1482.02 2173.75,1482.02 2151.99,1482.02 2130.23,1482.02 2108.47,1482.02 2086.71,1482.02 2064.95,1482.02 2043.19,1482.02 \n",
              "  2021.43,1482.02 1999.67,1482.02 1977.91,1482.02 1956.15,1482.02 1934.39,1482.02 1912.63,1482.02 1890.87,1482.02 1869.11,1482.02 1847.35,1482.02 1825.59,1482.02 \n",
              "  1803.83,1482.02 1782.07,1482.02 1760.31,1482.02 1738.55,1482.02 1716.79,1482.02 1695.03,1367.45 1673.27,1367.45 1651.51,1482.02 1629.75,1482.02 1607.99,1482.02 \n",
              "  1586.23,1482.02 1564.47,1482.02 1542.71,1482.02 1520.95,1482.02 1499.19,1482.02 1477.43,1482.02 1455.67,1482.02 1433.91,1482.02 1412.15,1482.02 1390.39,1482.02 \n",
              "  1368.63,1482.02 1346.87,1482.02 1325.11,1482.02 1303.35,1482.02 1281.59,1482.02 1259.83,1482.02 1238.07,1482.02 1216.31,1482.02 1194.55,1482.02 1172.79,1482.02 \n",
              "  1151.03,1482.02 1129.27,1482.02 1107.51,1482.02 1085.75,1482.02 1063.99,1482.02 1042.23,1482.02 1020.47,1367.45 998.714,1482.02 976.954,1482.02 955.194,1482.02 \n",
              "  933.434,1482.02 911.674,1482.02 889.914,1482.02 868.154,1482.02 846.394,1482.02 824.634,1482.02 802.874,1482.02 781.114,1482.02 759.354,1482.02 737.594,1482.02 \n",
              "  715.834,1482.02 694.074,1482.02 672.314,1482.02 650.554,1482.02 628.794,1482.02 607.034,1482.02 585.274,1482.02 563.514,1482.02 541.754,1482.02 519.994,1482.02 \n",
              "  498.234,1482.02 476.474,1482.02 454.714,1482.02 432.954,1482.02 411.194,1482.02 389.434,1482.02 367.674,1482.02 345.914,1482.02 324.154,1482.02 302.394,1482.02 \n",
              "  \n",
              "  \" fill=\"#ff00bf\" fill-rule=\"evenodd\" fill-opacity=\"0.2\"/>\n",
              "<polyline clip-path=\"url(#clip2603)\" style=\"stroke:#ff00bf; stroke-width:4; stroke-opacity:0.8; fill:none\" points=\"\n",
              "  302.394,1482.02 324.154,1482.02 345.914,1482.02 367.674,1482.02 389.434,1482.02 411.194,1482.02 432.954,1482.02 454.714,1482.02 476.474,1482.02 498.234,1482.02 \n",
              "  519.994,1482.02 541.754,1482.02 563.514,1482.02 585.274,1482.02 607.034,1482.02 628.794,1482.02 650.554,1482.02 672.314,1482.02 694.074,1482.02 715.834,1482.02 \n",
              "  737.594,1482.02 759.354,1482.02 781.114,1482.02 802.874,1482.02 824.634,1482.02 846.394,1482.02 868.154,1482.02 889.914,1482.02 911.674,1482.02 933.434,1482.02 \n",
              "  955.194,1482.02 976.954,1482.02 998.714,1482.02 1020.47,1424.73 1042.23,1482.02 1063.99,1482.02 1085.75,1482.02 1107.51,1482.02 1129.27,1482.02 1151.03,1482.02 \n",
              "  1172.79,1482.02 1194.55,1482.02 1216.31,1482.02 1238.07,1482.02 1259.83,1482.02 1281.59,1482.02 1303.35,1482.02 1325.11,1482.02 1346.87,1482.02 1368.63,1482.02 \n",
              "  1390.39,1482.02 1412.15,1482.02 1433.91,1482.02 1455.67,1482.02 1477.43,1482.02 1499.19,1482.02 1520.95,1482.02 1542.71,1482.02 1564.47,1482.02 1586.23,1482.02 \n",
              "  1607.99,1482.02 1629.75,1482.02 1651.51,1482.02 1673.27,1424.73 1695.03,1424.73 1716.79,1482.02 1738.55,1482.02 1760.31,1482.02 1782.07,1482.02 1803.83,1482.02 \n",
              "  1825.59,1482.02 1847.35,1482.02 1869.11,1482.02 1890.87,1482.02 1912.63,1482.02 1934.39,1482.02 1956.15,1482.02 1977.91,1482.02 1999.67,1482.02 2021.43,1482.02 \n",
              "  2043.19,1482.02 2064.95,1482.02 2086.71,1482.02 2108.47,1482.02 2130.23,1482.02 2151.99,1482.02 2173.75,1482.02 2195.51,1482.02 2217.27,1482.02 2239.03,1482.02 \n",
              "  2260.79,1482.02 2282.55,1482.02 2304.31,1482.02 2326.07,1482.02 2347.83,1482.02 2369.59,1482.02 2391.35,1482.02 2413.11,1482.02 2434.87,1482.02 2456.63,1482.02 \n",
              "  \n",
              "  \"/>\n",
              "<polygon clip-path=\"url(#clip2603)\" points=\"\n",
              "302.394,1482.02 324.154,1482.02 345.914,1482.02 367.674,1482.02 389.434,1482.02 411.194,1482.02 432.954,1482.02 454.714,1482.02 476.474,1482.02 498.234,1482.02 \n",
              "  519.994,1482.02 541.754,1482.02 563.514,1482.02 585.274,1482.02 607.034,1482.02 628.794,1482.02 650.554,1482.02 672.314,1482.02 694.074,1482.02 715.834,1482.02 \n",
              "  737.594,1482.02 759.354,1482.02 781.114,1482.02 802.874,1482.02 824.634,1482.02 846.394,1482.02 868.154,1482.02 889.914,1482.02 911.674,1482.02 933.434,1482.02 \n",
              "  955.194,1482.02 976.954,1482.02 998.714,1482.02 1020.47,1482.02 1042.23,1482.02 1063.99,1482.02 1085.75,1482.02 1107.51,1482.02 1129.27,1482.02 1151.03,1482.02 \n",
              "  1172.79,1482.02 1194.55,1482.02 1216.31,1482.02 1238.07,1482.02 1259.83,1482.02 1281.59,1482.02 1303.35,1482.02 1325.11,1482.02 1346.87,1482.02 1368.63,1482.02 \n",
              "  1390.39,1482.02 1412.15,1482.02 1433.91,1482.02 1455.67,1482.02 1477.43,1482.02 1499.19,1482.02 1520.95,1482.02 1542.71,1482.02 1564.47,1482.02 1586.23,1482.02 \n",
              "  1607.99,1482.02 1629.75,1482.02 1651.51,1482.02 1673.27,1482.02 1695.03,1482.02 1716.79,1482.02 1738.55,1482.02 1760.31,1482.02 1782.07,1482.02 1803.83,1482.02 \n",
              "  1825.59,1482.02 1847.35,1482.02 1869.11,1482.02 1890.87,1482.02 1912.63,1482.02 1934.39,1482.02 1956.15,1482.02 1977.91,1482.02 1999.67,1482.02 2021.43,1482.02 \n",
              "  2043.19,1482.02 2064.95,1482.02 2086.71,1482.02 2108.47,1482.02 2130.23,1482.02 2151.99,1482.02 2173.75,1482.02 2195.51,1482.02 2217.27,1482.02 2239.03,1482.02 \n",
              "  2260.79,1482.02 2282.55,1482.02 2304.31,1482.02 2326.07,1482.02 2347.83,1482.02 2369.59,1482.02 2391.35,1482.02 2413.11,1482.02 2434.87,1482.02 2456.63,1482.02 \n",
              "  2456.63,1482.02 2434.87,1482.02 2413.11,1482.02 2391.35,1482.02 2369.59,1482.02 2347.83,1482.02 2326.07,1482.02 2304.31,1482.02 2282.55,1482.02 2260.79,1482.02 \n",
              "  2239.03,1482.02 2217.27,1482.02 2195.51,1482.02 2173.75,1482.02 2151.99,1482.02 2130.23,1482.02 2108.47,1482.02 2086.71,1482.02 2064.95,1482.02 2043.19,1482.02 \n",
              "  2021.43,1482.02 1999.67,1482.02 1977.91,1482.02 1956.15,1482.02 1934.39,1482.02 1912.63,1482.02 1890.87,1482.02 1869.11,1482.02 1847.35,1482.02 1825.59,1482.02 \n",
              "  1803.83,1482.02 1782.07,1482.02 1760.31,1482.02 1738.55,1482.02 1716.79,1482.02 1695.03,1482.02 1673.27,1482.02 1651.51,1482.02 1629.75,1482.02 1607.99,1482.02 \n",
              "  1586.23,1482.02 1564.47,1482.02 1542.71,1482.02 1520.95,1482.02 1499.19,1482.02 1477.43,1482.02 1455.67,1482.02 1433.91,1482.02 1412.15,1482.02 1390.39,1482.02 \n",
              "  1368.63,1482.02 1346.87,1482.02 1325.11,1482.02 1303.35,1482.02 1281.59,1482.02 1259.83,1482.02 1238.07,1482.02 1216.31,1482.02 1194.55,1482.02 1172.79,1482.02 \n",
              "  1151.03,1482.02 1129.27,1482.02 1107.51,1482.02 1085.75,1482.02 1063.99,1482.02 1042.23,1482.02 1020.47,1482.02 998.714,1482.02 976.954,1482.02 955.194,1482.02 \n",
              "  933.434,1482.02 911.674,1482.02 889.914,1482.02 868.154,1482.02 846.394,1482.02 824.634,1482.02 802.874,1482.02 781.114,1482.02 759.354,1482.02 737.594,1482.02 \n",
              "  715.834,1482.02 694.074,1482.02 672.314,1482.02 650.554,1482.02 628.794,1482.02 607.034,1482.02 585.274,1482.02 563.514,1482.02 541.754,1482.02 519.994,1482.02 \n",
              "  498.234,1367.45 476.474,1482.02 454.714,1482.02 432.954,1482.02 411.194,1482.02 389.434,1482.02 367.674,1482.02 345.914,1482.02 324.154,1482.02 302.394,1482.02 \n",
              "  \n",
              "  \" fill=\"#ff005f\" fill-rule=\"evenodd\" fill-opacity=\"0.2\"/>\n",
              "<polyline clip-path=\"url(#clip2603)\" style=\"stroke:#ff005f; stroke-width:4; stroke-opacity:0.8; fill:none\" points=\"\n",
              "  302.394,1482.02 324.154,1482.02 345.914,1482.02 367.674,1482.02 389.434,1482.02 411.194,1482.02 432.954,1482.02 454.714,1482.02 476.474,1482.02 498.234,1424.73 \n",
              "  519.994,1482.02 541.754,1482.02 563.514,1482.02 585.274,1482.02 607.034,1482.02 628.794,1482.02 650.554,1482.02 672.314,1482.02 694.074,1482.02 715.834,1482.02 \n",
              "  737.594,1482.02 759.354,1482.02 781.114,1482.02 802.874,1482.02 824.634,1482.02 846.394,1482.02 868.154,1482.02 889.914,1482.02 911.674,1482.02 933.434,1482.02 \n",
              "  955.194,1482.02 976.954,1482.02 998.714,1482.02 1020.47,1482.02 1042.23,1482.02 1063.99,1482.02 1085.75,1482.02 1107.51,1482.02 1129.27,1482.02 1151.03,1482.02 \n",
              "  1172.79,1482.02 1194.55,1482.02 1216.31,1482.02 1238.07,1482.02 1259.83,1482.02 1281.59,1482.02 1303.35,1482.02 1325.11,1482.02 1346.87,1482.02 1368.63,1482.02 \n",
              "  1390.39,1482.02 1412.15,1482.02 1433.91,1482.02 1455.67,1482.02 1477.43,1482.02 1499.19,1482.02 1520.95,1482.02 1542.71,1482.02 1564.47,1482.02 1586.23,1482.02 \n",
              "  1607.99,1482.02 1629.75,1482.02 1651.51,1482.02 1673.27,1482.02 1695.03,1482.02 1716.79,1482.02 1738.55,1482.02 1760.31,1482.02 1782.07,1482.02 1803.83,1482.02 \n",
              "  1825.59,1482.02 1847.35,1482.02 1869.11,1482.02 1890.87,1482.02 1912.63,1482.02 1934.39,1482.02 1956.15,1482.02 1977.91,1482.02 1999.67,1482.02 2021.43,1482.02 \n",
              "  2043.19,1482.02 2064.95,1482.02 2086.71,1482.02 2108.47,1482.02 2130.23,1482.02 2151.99,1482.02 2173.75,1482.02 2195.51,1482.02 2217.27,1482.02 2239.03,1482.02 \n",
              "  2260.79,1482.02 2282.55,1482.02 2304.31,1482.02 2326.07,1482.02 2347.83,1482.02 2369.59,1482.02 2391.35,1482.02 2413.11,1482.02 2434.87,1482.02 2456.63,1482.02 \n",
              "  \n",
              "  \"/>\n",
              "<polyline clip-path=\"url(#clip2603)\" style=\"stroke:#808080; stroke-width:4; stroke-opacity:1; fill:none\" points=\"\n",
              "  617.914,141075 617.914,-139427 \n",
              "  \"/>\n",
              "<polyline clip-path=\"url(#clip2603)\" style=\"stroke:#808080; stroke-width:4; stroke-opacity:1; fill:none\" points=\"\n",
              "  1710.23,141075 1710.23,-139427 \n",
              "  \"/>\n",
              "<polygon clip-path=\"url(#clip2601)\" points=\"\n",
              "1839.49,1310.14 2443.26,1310.14 2443.26,221.504 1839.49,221.504 \n",
              "  \" fill=\"#ffffff\" fill-rule=\"evenodd\" fill-opacity=\"1\"/>\n",
              "<polyline clip-path=\"url(#clip2601)\" style=\"stroke:#000000; stroke-width:4; stroke-opacity:1; fill:none\" points=\"\n",
              "  1839.49,1310.14 2443.26,1310.14 2443.26,221.504 1839.49,221.504 1839.49,1310.14 \n",
              "  \"/>\n",
              "<polyline clip-path=\"url(#clip2601)\" style=\"stroke:#ff0000; stroke-width:4; stroke-opacity:0.8; fill:none\" points=\"\n",
              "  1865.49,281.984 2021.49,281.984 \n",
              "  \"/>\n",
              "<g clip-path=\"url(#clip2601)\">\n",
              "<text style=\"fill:#000000; fill-opacity:1; font-family:Arial,Helvetica Neue,Helvetica,sans-serif; font-size:48px; text-anchor:start;\" transform=\"rotate(0, 2047.49, 299.484)\" x=\"2047.49\" y=\"299.484\">Ori_Final=0.0</text>\n",
              "</g>\n",
              "<polyline clip-path=\"url(#clip2601)\" style=\"stroke:#ff5f00; stroke-width:4; stroke-opacity:0.8; fill:none\" points=\"\n",
              "  1865.49,342.464 2021.49,342.464 \n",
              "  \"/>\n",
              "<g clip-path=\"url(#clip2601)\">\n",
              "<text style=\"fill:#000000; fill-opacity:1; font-family:Arial,Helvetica Neue,Helvetica,sans-serif; font-size:48px; text-anchor:start;\" transform=\"rotate(0, 2047.49, 359.964)\" x=\"2047.49\" y=\"359.964\">Ori_Final=112.5</text>\n",
              "</g>\n",
              "<polyline clip-path=\"url(#clip2601)\" style=\"stroke:#ffbf00; stroke-width:4; stroke-opacity:0.8; fill:none\" points=\"\n",
              "  1865.49,402.944 2021.49,402.944 \n",
              "  \"/>\n",
              "<g clip-path=\"url(#clip2601)\">\n",
              "<text style=\"fill:#000000; fill-opacity:1; font-family:Arial,Helvetica Neue,Helvetica,sans-serif; font-size:48px; text-anchor:start;\" transform=\"rotate(0, 2047.49, 420.444)\" x=\"2047.49\" y=\"420.444\">Ori_Final=135.0</text>\n",
              "</g>\n",
              "<polyline clip-path=\"url(#clip2601)\" style=\"stroke:#dfff00; stroke-width:4; stroke-opacity:0.8; fill:none\" points=\"\n",
              "  1865.49,463.424 2021.49,463.424 \n",
              "  \"/>\n",
              "<g clip-path=\"url(#clip2601)\">\n",
              "<text style=\"fill:#000000; fill-opacity:1; font-family:Arial,Helvetica Neue,Helvetica,sans-serif; font-size:48px; text-anchor:start;\" transform=\"rotate(0, 2047.49, 480.924)\" x=\"2047.49\" y=\"480.924\">Ori_Final=157.5</text>\n",
              "</g>\n",
              "<polyline clip-path=\"url(#clip2601)\" style=\"stroke:#7fff00; stroke-width:4; stroke-opacity:0.8; fill:none\" points=\"\n",
              "  1865.49,523.904 2021.49,523.904 \n",
              "  \"/>\n",
              "<g clip-path=\"url(#clip2601)\">\n",
              "<text style=\"fill:#000000; fill-opacity:1; font-family:Arial,Helvetica Neue,Helvetica,sans-serif; font-size:48px; text-anchor:start;\" transform=\"rotate(0, 2047.49, 541.404)\" x=\"2047.49\" y=\"541.404\">Ori_Final=180.0</text>\n",
              "</g>\n",
              "<polyline clip-path=\"url(#clip2601)\" style=\"stroke:#1fff00; stroke-width:4; stroke-opacity:0.8; fill:none\" points=\"\n",
              "  1865.49,584.384 2021.49,584.384 \n",
              "  \"/>\n",
              "<g clip-path=\"url(#clip2601)\">\n",
              "<text style=\"fill:#000000; fill-opacity:1; font-family:Arial,Helvetica Neue,Helvetica,sans-serif; font-size:48px; text-anchor:start;\" transform=\"rotate(0, 2047.49, 601.884)\" x=\"2047.49\" y=\"601.884\">Ori_Final=202.5</text>\n",
              "</g>\n",
              "<polyline clip-path=\"url(#clip2601)\" style=\"stroke:#00ff3f; stroke-width:4; stroke-opacity:0.8; fill:none\" points=\"\n",
              "  1865.49,644.864 2021.49,644.864 \n",
              "  \"/>\n",
              "<g clip-path=\"url(#clip2601)\">\n",
              "<text style=\"fill:#000000; fill-opacity:1; font-family:Arial,Helvetica Neue,Helvetica,sans-serif; font-size:48px; text-anchor:start;\" transform=\"rotate(0, 2047.49, 662.364)\" x=\"2047.49\" y=\"662.364\">Ori_Final=22.5</text>\n",
              "</g>\n",
              "<polyline clip-path=\"url(#clip2601)\" style=\"stroke:#00ff9f; stroke-width:4; stroke-opacity:0.8; fill:none\" points=\"\n",
              "  1865.49,705.344 2021.49,705.344 \n",
              "  \"/>\n",
              "<g clip-path=\"url(#clip2601)\">\n",
              "<text style=\"fill:#000000; fill-opacity:1; font-family:Arial,Helvetica Neue,Helvetica,sans-serif; font-size:48px; text-anchor:start;\" transform=\"rotate(0, 2047.49, 722.844)\" x=\"2047.49\" y=\"722.844\">Ori_Final=225.0</text>\n",
              "</g>\n",
              "<polyline clip-path=\"url(#clip2601)\" style=\"stroke:#00ffff; stroke-width:4; stroke-opacity:0.8; fill:none\" points=\"\n",
              "  1865.49,765.824 2021.49,765.824 \n",
              "  \"/>\n",
              "<g clip-path=\"url(#clip2601)\">\n",
              "<text style=\"fill:#000000; fill-opacity:1; font-family:Arial,Helvetica Neue,Helvetica,sans-serif; font-size:48px; text-anchor:start;\" transform=\"rotate(0, 2047.49, 783.324)\" x=\"2047.49\" y=\"783.324\">Ori_Final=247.5</text>\n",
              "</g>\n",
              "<polyline clip-path=\"url(#clip2601)\" style=\"stroke:#009fff; stroke-width:4; stroke-opacity:0.8; fill:none\" points=\"\n",
              "  1865.49,826.304 2021.49,826.304 \n",
              "  \"/>\n",
              "<g clip-path=\"url(#clip2601)\">\n",
              "<text style=\"fill:#000000; fill-opacity:1; font-family:Arial,Helvetica Neue,Helvetica,sans-serif; font-size:48px; text-anchor:start;\" transform=\"rotate(0, 2047.49, 843.804)\" x=\"2047.49\" y=\"843.804\">Ori_Final=270.0</text>\n",
              "</g>\n",
              "<polyline clip-path=\"url(#clip2601)\" style=\"stroke:#003fff; stroke-width:4; stroke-opacity:0.8; fill:none\" points=\"\n",
              "  1865.49,886.784 2021.49,886.784 \n",
              "  \"/>\n",
              "<g clip-path=\"url(#clip2601)\">\n",
              "<text style=\"fill:#000000; fill-opacity:1; font-family:Arial,Helvetica Neue,Helvetica,sans-serif; font-size:48px; text-anchor:start;\" transform=\"rotate(0, 2047.49, 904.284)\" x=\"2047.49\" y=\"904.284\">Ori_Final=292.5</text>\n",
              "</g>\n",
              "<polyline clip-path=\"url(#clip2601)\" style=\"stroke:#1f00ff; stroke-width:4; stroke-opacity:0.8; fill:none\" points=\"\n",
              "  1865.49,947.264 2021.49,947.264 \n",
              "  \"/>\n",
              "<g clip-path=\"url(#clip2601)\">\n",
              "<text style=\"fill:#000000; fill-opacity:1; font-family:Arial,Helvetica Neue,Helvetica,sans-serif; font-size:48px; text-anchor:start;\" transform=\"rotate(0, 2047.49, 964.764)\" x=\"2047.49\" y=\"964.764\">Ori_Final=315.0</text>\n",
              "</g>\n",
              "<polyline clip-path=\"url(#clip2601)\" style=\"stroke:#7f00ff; stroke-width:4; stroke-opacity:0.8; fill:none\" points=\"\n",
              "  1865.49,1007.74 2021.49,1007.74 \n",
              "  \"/>\n",
              "<g clip-path=\"url(#clip2601)\">\n",
              "<text style=\"fill:#000000; fill-opacity:1; font-family:Arial,Helvetica Neue,Helvetica,sans-serif; font-size:48px; text-anchor:start;\" transform=\"rotate(0, 2047.49, 1025.24)\" x=\"2047.49\" y=\"1025.24\">Ori_Final=337.5</text>\n",
              "</g>\n",
              "<polyline clip-path=\"url(#clip2601)\" style=\"stroke:#df00ff; stroke-width:4; stroke-opacity:0.8; fill:none\" points=\"\n",
              "  1865.49,1068.22 2021.49,1068.22 \n",
              "  \"/>\n",
              "<g clip-path=\"url(#clip2601)\">\n",
              "<text style=\"fill:#000000; fill-opacity:1; font-family:Arial,Helvetica Neue,Helvetica,sans-serif; font-size:48px; text-anchor:start;\" transform=\"rotate(0, 2047.49, 1085.72)\" x=\"2047.49\" y=\"1085.72\">Ori_Final=45.0</text>\n",
              "</g>\n",
              "<polyline clip-path=\"url(#clip2601)\" style=\"stroke:#ff00bf; stroke-width:4; stroke-opacity:0.8; fill:none\" points=\"\n",
              "  1865.49,1128.7 2021.49,1128.7 \n",
              "  \"/>\n",
              "<g clip-path=\"url(#clip2601)\">\n",
              "<text style=\"fill:#000000; fill-opacity:1; font-family:Arial,Helvetica Neue,Helvetica,sans-serif; font-size:48px; text-anchor:start;\" transform=\"rotate(0, 2047.49, 1146.2)\" x=\"2047.49\" y=\"1146.2\">Ori_Final=67.5</text>\n",
              "</g>\n",
              "<polyline clip-path=\"url(#clip2601)\" style=\"stroke:#ff005f; stroke-width:4; stroke-opacity:0.8; fill:none\" points=\"\n",
              "  1865.49,1189.18 2021.49,1189.18 \n",
              "  \"/>\n",
              "<g clip-path=\"url(#clip2601)\">\n",
              "<text style=\"fill:#000000; fill-opacity:1; font-family:Arial,Helvetica Neue,Helvetica,sans-serif; font-size:48px; text-anchor:start;\" transform=\"rotate(0, 2047.49, 1206.68)\" x=\"2047.49\" y=\"1206.68\">Ori_Final=90.0</text>\n",
              "</g>\n",
              "<polyline clip-path=\"url(#clip2601)\" style=\"stroke:#808080; stroke-width:4; stroke-opacity:1; fill:none\" points=\"\n",
              "  1865.49,1249.66 2021.49,1249.66 \n",
              "  \"/>\n",
              "<g clip-path=\"url(#clip2601)\">\n",
              "<text style=\"fill:#000000; fill-opacity:1; font-family:Arial,Helvetica Neue,Helvetica,sans-serif; font-size:48px; text-anchor:start;\" transform=\"rotate(0, 2047.49, 1267.16)\" x=\"2047.49\" y=\"1267.16\">TimeLine</text>\n",
              "</g>\n",
              "</svg>\n"
            ]
          },
          "metadata": {}
        }
      ],
      "execution_count": 13,
      "metadata": {}
    },
    {
      "cell_type": "code",
      "source": [],
      "outputs": [],
      "execution_count": null,
      "metadata": {}
    }
  ],
  "metadata": {
    "@webio": {
      "lastCommId": "031fdd7e720d45e1bd14703f8ddd3f33",
      "lastKernelId": "6ba96395-7d2f-47a6-b749-b5f6fd6469da"
    },
    "anaconda-cloud": {},
    "kernelspec": {
      "name": "julia-1.3",
      "language": "julia",
      "display_name": "Julia 1.3.1"
    },
    "language_info": {
      "file_extension": ".jl",
      "name": "julia",
      "mimetype": "application/julia",
      "version": "1.3.1"
    },
    "widgets": {
      "state": {
        "2ea04fd4-0942-4c85-bd9f-f736e80b5b93": {
          "views": [
            {
              "cell_index": 1
            }
          ]
        },
        "35d93616-e420-4bfc-8032-22d5166907e7": {
          "views": [
            {
              "cell_index": 1
            }
          ]
        }
      },
      "version": "1.2.0"
    },
    "kernel_info": {
      "name": "julia-1.3"
    },
    "nteract": {
      "version": "0.15.0"
    }
  },
  "nbformat": 4,
  "nbformat_minor": 2
}